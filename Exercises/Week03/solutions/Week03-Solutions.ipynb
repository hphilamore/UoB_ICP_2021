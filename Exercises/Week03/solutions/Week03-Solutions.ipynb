{
 "cells": [
  {
   "cell_type": "markdown",
   "metadata": {},
   "source": [
    "# Exercise 1 - For loops"
   ]
  },
  {
   "cell_type": "markdown",
   "metadata": {},
   "source": [
    "**Question 1.**"
   ]
  },
  {
   "cell_type": "code",
   "execution_count": 1,
   "metadata": {},
   "outputs": [
    {
     "name": "stdout",
     "output_type": "stream",
     "text": [
      "N\n",
      "e\n",
      "w\n",
      " \n",
      "w\n",
      "o\n",
      "r\n",
      "d\n"
     ]
    }
   ],
   "source": [
    "Words = 'New word'\n",
    "for Letter in Words:\n",
    "    print(Letter)"
   ]
  },
  {
   "cell_type": "markdown",
   "metadata": {},
   "source": [
    "***\n",
    "**Question 2.** Question2.py sums all of the even integers between 1 and 10"
   ]
  },
  {
   "cell_type": "markdown",
   "metadata": {},
   "source": [
    "***\n",
    "**Question 3.** The value of 11 is used to indicate that the final number should be 10.  This leads to `range(1, 11, 1)` producing the values 1, 2, 3, 4, 5, 6, 7, 8, 9, and 10."
   ]
  },
  {
   "cell_type": "markdown",
   "metadata": {},
   "source": [
    "***\n",
    "**Question 4.** Calling `range(1, 11, 2)` will produce integers between 1 and 10 in steps of 2.  That is, it will produce the numbers 1, 3, 5, 7, 9.  These are all of the odd numbers between 1 and 10."
   ]
  },
  {
   "cell_type": "markdown",
   "metadata": {},
   "source": [
    "***\n",
    "**Question 5.**"
   ]
  },
  {
   "cell_type": "code",
   "execution_count": 8,
   "metadata": {},
   "outputs": [
    {
     "name": "stdout",
     "output_type": "stream",
     "text": [
      "The letter H is at position 0\n",
      "The letter e is at position 1\n",
      "The letter l is at position 2\n",
      "The letter l is at position 3\n",
      "The letter o is at position 4\n",
      "The letter   is at position 5\n",
      "The letter W is at position 6\n",
      "The letter o is at position 7\n",
      "The letter r is at position 8\n",
      "The letter l is at position 9\n",
      "The letter d is at position 10\n"
     ]
    }
   ],
   "source": [
    "Words = 'Hello World'\n",
    "\n",
    "# use len to compute the length of the string\n",
    "num_char = len(Words)\n",
    "\n",
    "for c in range(num_char):\n",
    "    print('The letter', Words[c], 'is at position', c)"
   ]
  },
  {
   "cell_type": "markdown",
   "metadata": {},
   "source": [
    "***\n",
    "**Question 6**.  There are three mistakes here:\n",
    "\n",
    "1. the second argument to `range` should be 11\n",
    "2. the colon is missing \n",
    "3. the indent is missing"
   ]
  },
  {
   "cell_type": "code",
   "execution_count": 1,
   "metadata": {},
   "outputs": [
    {
     "name": "stdout",
     "output_type": "stream",
     "text": [
      "275\n"
     ]
    }
   ],
   "source": [
    "sum = 0\n",
    "\n",
    "for i in range(1,11):\n",
    "    sum += 5 * i\n",
    "\n",
    "print(sum)"
   ]
  },
  {
   "cell_type": "markdown",
   "metadata": {},
   "source": [
    "***\n",
    "**Question 7**"
   ]
  },
  {
   "cell_type": "code",
   "execution_count": 1,
   "metadata": {},
   "outputs": [
    {
     "name": "stdout",
     "output_type": "stream",
     "text": [
      "3628800\n"
     ]
    }
   ],
   "source": [
    "n = 10\n",
    "factorial = 1\n",
    "\n",
    "for i in range(1, n+1):\n",
    "    factorial *= i\n",
    "\n",
    "print(factorial)"
   ]
  },
  {
   "cell_type": "markdown",
   "metadata": {},
   "source": [
    "***\n",
    "**Question 8**"
   ]
  },
  {
   "cell_type": "code",
   "execution_count": 6,
   "metadata": {},
   "outputs": [
    {
     "name": "stdout",
     "output_type": "stream",
     "text": [
      "12\n"
     ]
    }
   ],
   "source": [
    "num_cubes = 0\n",
    "\n",
    "for n in range(1, 2000):\n",
    "    if n**3 < 2000:\n",
    "        num_cubes += 1\n",
    "    else:\n",
    "        break\n",
    "        \n",
    "print(num_cubes)"
   ]
  },
  {
   "cell_type": "markdown",
   "metadata": {},
   "source": [
    "***\n",
    "# Exercise 2 - While loops"
   ]
  },
  {
   "cell_type": "markdown",
   "metadata": {},
   "source": [
    "**Question 1.**"
   ]
  },
  {
   "cell_type": "code",
   "execution_count": 39,
   "metadata": {},
   "outputs": [
    {
     "name": "stdout",
     "output_type": "stream",
     "text": [
      "Target letter is at position 6\n"
     ]
    }
   ],
   "source": [
    "Word = \"Hello World\"\n",
    "TargetLetter = \"W\"\n",
    "\n",
    "i = 0\n",
    "while TargetLetter != Word[i]:\n",
    "    i += 1\n",
    "print(\"Target letter is at position\", i)"
   ]
  },
  {
   "cell_type": "markdown",
   "metadata": {},
   "source": [
    "We need to increment $i$ to avoid an infinite loop"
   ]
  },
  {
   "cell_type": "markdown",
   "metadata": {},
   "source": [
    "***\n",
    "**Question 2.**  It is best to use a `for` loop for this problem because we want to compare TargetLetter against all of the letters in Word"
   ]
  },
  {
   "cell_type": "code",
   "execution_count": 41,
   "metadata": {},
   "outputs": [
    {
     "name": "stdout",
     "output_type": "stream",
     "text": [
      "Target letter is at position 4\n",
      "Target letter is at position 7\n"
     ]
    }
   ],
   "source": [
    "Word = \"Hello World\"\n",
    "TargetLetter = \"o\"\n",
    "\n",
    "i = 0\n",
    "for l in Word:\n",
    "    if l == TargetLetter:\n",
    "        print(\"Target letter is at position\", i)\n",
    "    i += 1"
   ]
  },
  {
   "cell_type": "markdown",
   "metadata": {},
   "source": [
    "***\n",
    "**Question 3.**"
   ]
  },
  {
   "cell_type": "code",
   "execution_count": 43,
   "metadata": {},
   "outputs": [
    {
     "data": {
      "text/plain": [
       "6"
      ]
     },
     "execution_count": 43,
     "metadata": {},
     "output_type": "execute_result"
    }
   ],
   "source": [
    "Word.find('W')"
   ]
  },
  {
   "cell_type": "markdown",
   "metadata": {},
   "source": [
    "***\n",
    "**Question 4.**"
   ]
  },
  {
   "cell_type": "code",
   "execution_count": 45,
   "metadata": {},
   "outputs": [
    {
     "name": "stdout",
     "output_type": "stream",
     "text": [
      "The answer is 144\n"
     ]
    }
   ],
   "source": [
    "cumulativeSum=0\n",
    "counter=0\n",
    "\n",
    "while cumulativeSum<1000000:\n",
    "    counter += 1\n",
    "    cumulativeSum += (counter**2)\n",
    "\n",
    "print(\"The answer is\", str(counter))"
   ]
  },
  {
   "cell_type": "markdown",
   "metadata": {},
   "source": [
    "***\n",
    "**Question 5.**"
   ]
  },
  {
   "cell_type": "code",
   "execution_count": 46,
   "metadata": {},
   "outputs": [
    {
     "name": "stdout",
     "output_type": "stream",
     "text": [
      "The cumulative sum after 1 terms is 1\n",
      "The cumulative sum after 2 terms is 5\n",
      "The cumulative sum after 3 terms is 14\n",
      "The cumulative sum after 4 terms is 30\n",
      "The cumulative sum after 5 terms is 55\n",
      "The cumulative sum after 6 terms is 91\n",
      "The cumulative sum after 7 terms is 140\n",
      "The cumulative sum after 8 terms is 204\n",
      "The cumulative sum after 9 terms is 285\n",
      "The cumulative sum after 10 terms is 385\n",
      "The cumulative sum after 11 terms is 506\n",
      "The cumulative sum after 12 terms is 650\n",
      "The cumulative sum after 13 terms is 819\n",
      "The cumulative sum after 14 terms is 1015\n",
      "The cumulative sum after 15 terms is 1240\n",
      "The cumulative sum after 16 terms is 1496\n",
      "The cumulative sum after 17 terms is 1785\n",
      "The cumulative sum after 18 terms is 2109\n",
      "The cumulative sum after 19 terms is 2470\n",
      "The cumulative sum after 20 terms is 2870\n",
      "The cumulative sum after 21 terms is 3311\n",
      "The cumulative sum after 22 terms is 3795\n",
      "The cumulative sum after 23 terms is 4324\n",
      "The cumulative sum after 24 terms is 4900\n",
      "The cumulative sum after 25 terms is 5525\n",
      "The cumulative sum after 26 terms is 6201\n",
      "The cumulative sum after 27 terms is 6930\n",
      "The cumulative sum after 28 terms is 7714\n",
      "The cumulative sum after 29 terms is 8555\n",
      "The cumulative sum after 30 terms is 9455\n",
      "The cumulative sum after 31 terms is 10416\n",
      "The cumulative sum after 32 terms is 11440\n",
      "The cumulative sum after 33 terms is 12529\n",
      "The cumulative sum after 34 terms is 13685\n",
      "The cumulative sum after 35 terms is 14910\n",
      "The cumulative sum after 36 terms is 16206\n",
      "The cumulative sum after 37 terms is 17575\n",
      "The cumulative sum after 38 terms is 19019\n",
      "The cumulative sum after 39 terms is 20540\n",
      "The cumulative sum after 40 terms is 22140\n",
      "The cumulative sum after 41 terms is 23821\n",
      "The cumulative sum after 42 terms is 25585\n",
      "The cumulative sum after 43 terms is 27434\n",
      "The cumulative sum after 44 terms is 29370\n",
      "The cumulative sum after 45 terms is 31395\n",
      "The cumulative sum after 46 terms is 33511\n",
      "The cumulative sum after 47 terms is 35720\n",
      "The cumulative sum after 48 terms is 38024\n",
      "The cumulative sum after 49 terms is 40425\n",
      "The cumulative sum after 50 terms is 42925\n",
      "The cumulative sum after 51 terms is 45526\n",
      "The cumulative sum after 52 terms is 48230\n",
      "The cumulative sum after 53 terms is 51039\n",
      "The cumulative sum after 54 terms is 53955\n",
      "The cumulative sum after 55 terms is 56980\n",
      "The cumulative sum after 56 terms is 60116\n",
      "The cumulative sum after 57 terms is 63365\n",
      "The cumulative sum after 58 terms is 66729\n",
      "The cumulative sum after 59 terms is 70210\n",
      "The cumulative sum after 60 terms is 73810\n",
      "The cumulative sum after 61 terms is 77531\n",
      "The cumulative sum after 62 terms is 81375\n",
      "The cumulative sum after 63 terms is 85344\n",
      "The cumulative sum after 64 terms is 89440\n",
      "The cumulative sum after 65 terms is 93665\n",
      "The cumulative sum after 66 terms is 98021\n",
      "The cumulative sum after 67 terms is 102510\n",
      "The cumulative sum after 68 terms is 107134\n",
      "The cumulative sum after 69 terms is 111895\n",
      "The cumulative sum after 70 terms is 116795\n",
      "The cumulative sum after 71 terms is 121836\n",
      "The cumulative sum after 72 terms is 127020\n",
      "The cumulative sum after 73 terms is 132349\n",
      "The cumulative sum after 74 terms is 137825\n",
      "The cumulative sum after 75 terms is 143450\n",
      "The cumulative sum after 76 terms is 149226\n",
      "The cumulative sum after 77 terms is 155155\n",
      "The cumulative sum after 78 terms is 161239\n",
      "The cumulative sum after 79 terms is 167480\n",
      "The cumulative sum after 80 terms is 173880\n",
      "The cumulative sum after 81 terms is 180441\n",
      "The cumulative sum after 82 terms is 187165\n",
      "The cumulative sum after 83 terms is 194054\n",
      "The cumulative sum after 84 terms is 201110\n",
      "The cumulative sum after 85 terms is 208335\n",
      "The cumulative sum after 86 terms is 215731\n",
      "The cumulative sum after 87 terms is 223300\n",
      "The cumulative sum after 88 terms is 231044\n",
      "The cumulative sum after 89 terms is 238965\n",
      "The cumulative sum after 90 terms is 247065\n",
      "The cumulative sum after 91 terms is 255346\n",
      "The cumulative sum after 92 terms is 263810\n",
      "The cumulative sum after 93 terms is 272459\n",
      "The cumulative sum after 94 terms is 281295\n",
      "The cumulative sum after 95 terms is 290320\n",
      "The cumulative sum after 96 terms is 299536\n",
      "The cumulative sum after 97 terms is 308945\n",
      "The cumulative sum after 98 terms is 318549\n",
      "The cumulative sum after 99 terms is 328350\n",
      "The cumulative sum after 100 terms is 338350\n",
      "The cumulative sum after 101 terms is 348551\n",
      "The cumulative sum after 102 terms is 358955\n",
      "The cumulative sum after 103 terms is 369564\n",
      "The cumulative sum after 104 terms is 380380\n",
      "The cumulative sum after 105 terms is 391405\n",
      "The cumulative sum after 106 terms is 402641\n",
      "The cumulative sum after 107 terms is 414090\n",
      "The cumulative sum after 108 terms is 425754\n",
      "The cumulative sum after 109 terms is 437635\n",
      "The cumulative sum after 110 terms is 449735\n",
      "The cumulative sum after 111 terms is 462056\n",
      "The cumulative sum after 112 terms is 474600\n",
      "The cumulative sum after 113 terms is 487369\n",
      "The cumulative sum after 114 terms is 500365\n",
      "The cumulative sum after 115 terms is 513590\n",
      "The cumulative sum after 116 terms is 527046\n",
      "The cumulative sum after 117 terms is 540735\n",
      "The cumulative sum after 118 terms is 554659\n",
      "The cumulative sum after 119 terms is 568820\n",
      "The cumulative sum after 120 terms is 583220\n",
      "The cumulative sum after 121 terms is 597861\n",
      "The cumulative sum after 122 terms is 612745\n",
      "The cumulative sum after 123 terms is 627874\n",
      "The cumulative sum after 124 terms is 643250\n",
      "The cumulative sum after 125 terms is 658875\n",
      "The cumulative sum after 126 terms is 674751\n",
      "The cumulative sum after 127 terms is 690880\n",
      "The cumulative sum after 128 terms is 707264\n",
      "The cumulative sum after 129 terms is 723905\n",
      "The cumulative sum after 130 terms is 740805\n",
      "The cumulative sum after 131 terms is 757966\n",
      "The cumulative sum after 132 terms is 775390\n",
      "The cumulative sum after 133 terms is 793079\n",
      "The cumulative sum after 134 terms is 811035\n",
      "The cumulative sum after 135 terms is 829260\n",
      "The cumulative sum after 136 terms is 847756\n",
      "The cumulative sum after 137 terms is 866525\n",
      "The cumulative sum after 138 terms is 885569\n",
      "The cumulative sum after 139 terms is 904890\n",
      "The cumulative sum after 140 terms is 924490\n",
      "The cumulative sum after 141 terms is 944371\n",
      "The cumulative sum after 142 terms is 964535\n",
      "The cumulative sum after 143 terms is 984984\n",
      "The cumulative sum after 144 terms is 1005720\n",
      "The answer is 144\n"
     ]
    }
   ],
   "source": [
    "cumulativeSum=0\n",
    "counter=0\n",
    "\n",
    "while cumulativeSum<1000000:\n",
    "    counter += 1\n",
    "    cumulativeSum += (counter**2)\n",
    "    print('The cumulative sum after', counter, 'terms is', cumulativeSum)\n",
    "\n",
    "print(\"The answer is\", str(counter))"
   ]
  },
  {
   "cell_type": "markdown",
   "metadata": {},
   "source": [
    "***\n",
    "**Question 6.**"
   ]
  },
  {
   "cell_type": "code",
   "execution_count": 47,
   "metadata": {},
   "outputs": [
    {
     "name": "stdout",
     "output_type": "stream",
     "text": [
      "Target letter is at position 6\n"
     ]
    }
   ],
   "source": [
    "Word = \"Hello World\"\n",
    "TargetLetter = \"W\"\n",
    "Enum = list(enumerate(Word))\n",
    "for e in Enum:\n",
    "    if e[1] == TargetLetter:\n",
    "        print(\"Target letter is at position\", e[0])\n",
    "        break"
   ]
  },
  {
   "cell_type": "markdown",
   "metadata": {},
   "source": [
    "***\n",
    "# Exercise 3 - More loops"
   ]
  },
  {
   "cell_type": "markdown",
   "metadata": {},
   "source": [
    "***\n",
    "**Question 1**"
   ]
  },
  {
   "cell_type": "code",
   "execution_count": 9,
   "metadata": {},
   "outputs": [
    {
     "name": "stdout",
     "output_type": "stream",
     "text": [
      "5275\n"
     ]
    }
   ],
   "source": [
    "S = 0\n",
    "\n",
    "for i in range(1,11):\n",
    "    for j in range(0,6):\n",
    "        S += j * j * (i + j)\n",
    "\n",
    "print(S)"
   ]
  },
  {
   "cell_type": "markdown",
   "metadata": {},
   "source": [
    "***\n",
    "**Question 2**.  The code to compute $\\pi_N$ for a fixed value of $N$ is:"
   ]
  },
  {
   "cell_type": "code",
   "execution_count": 31,
   "metadata": {},
   "outputs": [
    {
     "name": "stdout",
     "output_type": "stream",
     "text": [
      "3.1365926848388144\n",
      "The error with N = 100 is 0.004999968750978745\n"
     ]
    }
   ],
   "source": [
    "# define the exact value of pi\n",
    "pi = 3.141592653589793\n",
    "\n",
    "# create a variable for the approximate value of pi\n",
    "pi_N = 0\n",
    "\n",
    "# number of terms in the series\n",
    "N = 100\n",
    "\n",
    "# use a for loop to compute the series\n",
    "for n in range(N):\n",
    "    pi_N += 8 / (4 * n + 1) / (4 * n + 3)\n",
    "    \n",
    "print(pi_N)\n",
    "error = abs(pi - pi_N)\n",
    "print('The error with N =', N, 'is', error)"
   ]
  },
  {
   "cell_type": "markdown",
   "metadata": {},
   "source": [
    "We find that:\n",
    "\n",
    "| N | error |\n",
    "| :-: | :-:|\n",
    "| 100 | 5.0e-3|\n",
    "| 1000 | 5.0e-4 |\n",
    "| 10000 | 5.0e-5|"
   ]
  },
  {
   "cell_type": "code",
   "execution_count": 28,
   "metadata": {},
   "outputs": [
    {
     "name": "stdout",
     "output_type": "stream",
     "text": [
      "3.1415916535899084\n",
      "500000 terms are needed for an error that is less than 1e-6\n"
     ]
    }
   ],
   "source": [
    "# define the exact value of pi\n",
    "pi = 3.141592653589793\n",
    "\n",
    "# create a variable for the approximate value of pi\n",
    "pi_N = 0\n",
    "\n",
    "# the number of terms in the sum\n",
    "n = 0\n",
    "while abs(pi - pi_N) > 1e-6:\n",
    "    pi_N += 8 / (4 * n + 1) / (4 * n + 3)\n",
    "    n += 1\n",
    "\n",
    "print(pi_N)\n",
    "print(n, 'terms are needed for an error that is less than 1e-6')"
   ]
  },
  {
   "cell_type": "markdown",
   "metadata": {},
   "source": [
    "***\n",
    "**Question 3**: The code to compute the number of Fibonacci numbers is:"
   ]
  },
  {
   "cell_type": "code",
   "execution_count": 34,
   "metadata": {},
   "outputs": [
    {
     "name": "stdout",
     "output_type": "stream",
     "text": [
      "There are 12 Fibonacci numbers below 100\n"
     ]
    }
   ],
   "source": [
    "# first Fibonacci number\n",
    "a = 0\n",
    "\n",
    "# second Fibonacci number\n",
    "b = 1\n",
    "\n",
    "# number of Fibonacci numbers\n",
    "num = 2\n",
    "\n",
    "while a + b < 100:\n",
    "    \n",
    "    # compute next Fibonacci number and update counter\n",
    "    c = a + b\n",
    "    num += 1\n",
    "    \n",
    "    # update the values of a and b\n",
    "    a = b\n",
    "    b = c\n",
    "        \n",
    "print('There are', num, 'Fibonacci numbers below 100')"
   ]
  },
  {
   "cell_type": "markdown",
   "metadata": {},
   "source": [
    "There are 12 numbers below 100, 17 numbers below 1,000, and 21 numbers below 10,000."
   ]
  },
  {
   "cell_type": "markdown",
   "metadata": {},
   "source": [
    "***\n",
    "**Question 4.**"
   ]
  },
  {
   "cell_type": "code",
   "execution_count": 102,
   "metadata": {},
   "outputs": [
    {
     "name": "stdout",
     "output_type": "stream",
     "text": [
      "11 rolls were needed for the dice to have the same number\n"
     ]
    }
   ],
   "source": [
    "import math\n",
    "import random\n",
    "\n",
    "# create random integers A and B that lie in the range 1 to 6 (inclusive)\n",
    "A = random.randint(1, 6)\n",
    "B = random.randint(1, 6)\n",
    "\n",
    "# create a variable to count the number of rolls\n",
    "roll = 1\n",
    "while A != B:\n",
    "    \n",
    "    A = random.randint(1, 6)\n",
    "    B = random.randint(1, 6)\n",
    "    \n",
    "    roll += 1\n",
    "\n",
    "print(roll, 'rolls were needed for the dice to have the same number')"
   ]
  },
  {
   "cell_type": "markdown",
   "metadata": {},
   "source": [
    "***\n",
    "**Question 5.** See number-guessing-game.py"
   ]
  },
  {
   "cell_type": "markdown",
   "metadata": {},
   "source": [
    "# Exercise 4 - Lists"
   ]
  },
  {
   "cell_type": "markdown",
   "metadata": {},
   "source": [
    "**Question 1.**"
   ]
  },
  {
   "cell_type": "code",
   "execution_count": 48,
   "metadata": {},
   "outputs": [],
   "source": [
    "a = [1, 2]\n",
    "b = [3, 4]"
   ]
  },
  {
   "cell_type": "markdown",
   "metadata": {},
   "source": [
    "***\n",
    "**Question 2.**"
   ]
  },
  {
   "cell_type": "code",
   "execution_count": 49,
   "metadata": {},
   "outputs": [],
   "source": [
    "a[0] = 5"
   ]
  },
  {
   "cell_type": "markdown",
   "metadata": {},
   "source": [
    "***\n",
    "**Question 3.**"
   ]
  },
  {
   "cell_type": "code",
   "execution_count": 50,
   "metadata": {},
   "outputs": [
    {
     "name": "stdout",
     "output_type": "stream",
     "text": [
      "[2, 5]\n",
      "[3, 4]\n"
     ]
    }
   ],
   "source": [
    "a.sort()\n",
    "b.sort()\n",
    "\n",
    "print(a)\n",
    "print(b)"
   ]
  },
  {
   "cell_type": "markdown",
   "metadata": {},
   "source": [
    "***\n",
    "**Question 4.**"
   ]
  },
  {
   "cell_type": "code",
   "execution_count": 52,
   "metadata": {},
   "outputs": [
    {
     "name": "stdout",
     "output_type": "stream",
     "text": [
      "[[2, 5], [3, 4]]\n"
     ]
    }
   ],
   "source": [
    "nested = [a, b]\n",
    "print(nested)"
   ]
  },
  {
   "cell_type": "markdown",
   "metadata": {},
   "source": [
    "***\n",
    "**Question 5.**"
   ]
  },
  {
   "cell_type": "code",
   "execution_count": 55,
   "metadata": {},
   "outputs": [
    {
     "name": "stdout",
     "output_type": "stream",
     "text": [
      "2\n",
      "5\n",
      "3\n",
      "4\n"
     ]
    }
   ],
   "source": [
    "# the first loop; l is an element of nested so will be a list\n",
    "for l in nested:\n",
    "    # the second list; e is an element of the list l\n",
    "    for e in l:\n",
    "        print(e)"
   ]
  },
  {
   "cell_type": "markdown",
   "metadata": {},
   "source": [
    "***\n",
    "**Question 6.** See the list_words.py file"
   ]
  },
  {
   "cell_type": "markdown",
   "metadata": {},
   "source": [
    "***\n",
    "**Question 7.**"
   ]
  },
  {
   "cell_type": "code",
   "execution_count": 57,
   "metadata": {},
   "outputs": [
    {
     "name": "stdout",
     "output_type": "stream",
     "text": [
      "[1, 3, 5, 7, 9, 11, 13, 15, 17, 19, 21, 23, 25, 27, 29, 31, 33, 35, 37, 39, 41, 43, 45, 47, 49, 51, 53, 55, 57, 59, 61, 63, 65, 67, 69, 71, 73, 75, 77, 79, 81, 83, 85, 87, 89, 91, 93, 95, 97, 99]\n"
     ]
    }
   ],
   "source": [
    "l = [e for e in range(101) if e % 2 != 0]\n",
    "print(l)"
   ]
  },
  {
   "cell_type": "code",
   "execution_count": 59,
   "metadata": {},
   "outputs": [
    {
     "name": "stdout",
     "output_type": "stream",
     "text": [
      "[0, 3, 6, 9, 12, 15, 18, 21, 24, 27, 30, 33, 36, 39, 42, 45, 48, 51, 54, 57, 60, 63, 66, 69, 72, 75, 78, 81, 84, 87, 90, 93, 96, 99]\n"
     ]
    }
   ],
   "source": [
    "l = [e for e in range(101) if e % 3 == 0]\n",
    "print(l)"
   ]
  },
  {
   "cell_type": "code",
   "execution_count": 62,
   "metadata": {},
   "outputs": [
    {
     "name": "stdout",
     "output_type": "stream",
     "text": [
      "[2, 3, 5, 7, 11, 13, 17, 19, 23, 29, 31, 37, 41, 43, 47, 53, 59, 61, 67, 71, 73, 79, 83, 89, 97]\n"
     ]
    }
   ],
   "source": [
    "l = [e for e in range(101) if all(e % x != 0 for x in range(2, e)) and e > 1]\n",
    "print(l)"
   ]
  },
  {
   "cell_type": "markdown",
   "metadata": {},
   "source": [
    "# Exercise 5 - Tuples"
   ]
  },
  {
   "cell_type": "markdown",
   "metadata": {},
   "source": [
    "***\n",
    "**Question 2.**"
   ]
  },
  {
   "cell_type": "code",
   "execution_count": 63,
   "metadata": {},
   "outputs": [],
   "source": [
    "FondueIngredients = ('gruyere', 'vacherin')"
   ]
  },
  {
   "cell_type": "markdown",
   "metadata": {},
   "source": [
    "***\n",
    "**Question 3.**"
   ]
  },
  {
   "cell_type": "code",
   "execution_count": 64,
   "metadata": {},
   "outputs": [
    {
     "name": "stdout",
     "output_type": "stream",
     "text": [
      "('gruyere', 'vacherin')\n"
     ]
    }
   ],
   "source": [
    "print(FondueIngredients)"
   ]
  },
  {
   "cell_type": "markdown",
   "metadata": {},
   "source": [
    "***\n",
    "**Question 4.**  It is not possible to change \"gruyere\" to \"cheddar\" becauase tuples are immutable"
   ]
  },
  {
   "cell_type": "markdown",
   "metadata": {},
   "source": [
    "***\n",
    "**Question 5.** There is no function to remove the last element of a tuple.  Instead, one can convert a tuple to a list and then convert it back."
   ]
  },
  {
   "cell_type": "markdown",
   "metadata": {},
   "source": [
    "# Exercise 6 - Sets"
   ]
  },
  {
   "cell_type": "markdown",
   "metadata": {},
   "source": [
    "***\n",
    "**Question 2.**"
   ]
  },
  {
   "cell_type": "code",
   "execution_count": 65,
   "metadata": {},
   "outputs": [
    {
     "name": "stdout",
     "output_type": "stream",
     "text": [
      "{8, 1, 2, 5}\n",
      "{1, 2, 4, 9}\n"
     ]
    }
   ],
   "source": [
    "s1 = {1, 2, 5, 5, 8}\n",
    "s2 = {1, 2, 4, 9, 2}\n",
    "print(s1)\n",
    "print(s2)"
   ]
  },
  {
   "cell_type": "markdown",
   "metadata": {},
   "source": [
    "There are no duplicate entries"
   ]
  },
  {
   "cell_type": "markdown",
   "metadata": {},
   "source": [
    "***\n",
    "**Question 3.** No, elements of sets cannot be accessed with indices"
   ]
  },
  {
   "cell_type": "markdown",
   "metadata": {},
   "source": [
    "***\n",
    "**Question 4.**"
   ]
  },
  {
   "cell_type": "code",
   "execution_count": 66,
   "metadata": {},
   "outputs": [
    {
     "data": {
      "text/plain": [
       "False"
      ]
     },
     "execution_count": 66,
     "metadata": {},
     "output_type": "execute_result"
    }
   ],
   "source": [
    "4 in s1"
   ]
  },
  {
   "cell_type": "code",
   "execution_count": 67,
   "metadata": {},
   "outputs": [
    {
     "data": {
      "text/plain": [
       "True"
      ]
     },
     "execution_count": 67,
     "metadata": {},
     "output_type": "execute_result"
    }
   ],
   "source": [
    "4 in s2"
   ]
  },
  {
   "cell_type": "markdown",
   "metadata": {},
   "source": [
    "***\n",
    "**Question 5.** & is intersection, | is union, - is difference, and ^ is symmetric difference"
   ]
  },
  {
   "cell_type": "code",
   "execution_count": 68,
   "metadata": {},
   "outputs": [
    {
     "data": {
      "text/plain": [
       "{1, 2}"
      ]
     },
     "execution_count": 68,
     "metadata": {},
     "output_type": "execute_result"
    }
   ],
   "source": [
    "s1 & s2"
   ]
  },
  {
   "cell_type": "code",
   "execution_count": 69,
   "metadata": {},
   "outputs": [
    {
     "data": {
      "text/plain": [
       "{1, 2, 4, 5, 8, 9}"
      ]
     },
     "execution_count": 69,
     "metadata": {},
     "output_type": "execute_result"
    }
   ],
   "source": [
    "s1 | s2"
   ]
  },
  {
   "cell_type": "code",
   "execution_count": 70,
   "metadata": {},
   "outputs": [
    {
     "data": {
      "text/plain": [
       "{5, 8}"
      ]
     },
     "execution_count": 70,
     "metadata": {},
     "output_type": "execute_result"
    }
   ],
   "source": [
    "s1 - s2"
   ]
  },
  {
   "cell_type": "code",
   "execution_count": 71,
   "metadata": {},
   "outputs": [
    {
     "data": {
      "text/plain": [
       "{4, 5, 8, 9}"
      ]
     },
     "execution_count": 71,
     "metadata": {},
     "output_type": "execute_result"
    }
   ],
   "source": [
    "s1 ^ s2"
   ]
  },
  {
   "cell_type": "markdown",
   "metadata": {},
   "source": [
    "***\n",
    "**Question 6.** Elements of a set can be removed using the `remove` or `discard` method.  Adding an element to a set can be performed using the `add` method"
   ]
  },
  {
   "cell_type": "code",
   "execution_count": 76,
   "metadata": {},
   "outputs": [
    {
     "name": "stdout",
     "output_type": "stream",
     "text": [
      "{2, 5, 6, 8}\n"
     ]
    }
   ],
   "source": [
    "s1.remove(1)\n",
    "s1.add(6)\n",
    "print(s1)\n"
   ]
  },
  {
   "cell_type": "markdown",
   "metadata": {},
   "source": [
    "***\n",
    "# Exercise 7 - Dictionaries"
   ]
  },
  {
   "cell_type": "markdown",
   "metadata": {},
   "source": [
    "***\n",
    "**Question 2.**"
   ]
  },
  {
   "cell_type": "code",
   "execution_count": 77,
   "metadata": {},
   "outputs": [],
   "source": [
    "ages = {'Jill':21, 'Sally':20, 'Bob':20, 'Harry':21}"
   ]
  },
  {
   "cell_type": "markdown",
   "metadata": {},
   "source": [
    "***\n",
    "**Question 3.** The `keys` method can be used to create a list with all of the keys in a dictionary"
   ]
  },
  {
   "cell_type": "code",
   "execution_count": 86,
   "metadata": {},
   "outputs": [
    {
     "name": "stdout",
     "output_type": "stream",
     "text": [
      "Jill\n",
      "Sally\n",
      "Bob\n",
      "Harry\n"
     ]
    }
   ],
   "source": [
    "for l in ages.keys():\n",
    "    print(l)"
   ]
  },
  {
   "cell_type": "markdown",
   "metadata": {},
   "source": [
    "***\n",
    "**Question 4.** A key-value pair can be added as follows:"
   ]
  },
  {
   "cell_type": "code",
   "execution_count": 88,
   "metadata": {},
   "outputs": [
    {
     "name": "stdout",
     "output_type": "stream",
     "text": [
      "{'Jill': 21, 'Sally': 20, 'Bob': 20, 'Harry': 21, 'Rachel': 19}\n"
     ]
    }
   ],
   "source": [
    "ages['Rachel'] = 19\n",
    "print(ages)"
   ]
  },
  {
   "cell_type": "markdown",
   "metadata": {},
   "source": [
    "***\n",
    "**Question 5.** The `pop` method can be used to remove a key-value pair"
   ]
  },
  {
   "cell_type": "code",
   "execution_count": 89,
   "metadata": {},
   "outputs": [
    {
     "name": "stdout",
     "output_type": "stream",
     "text": [
      "{'Jill': 21, 'Sally': 20, 'Harry': 21, 'Rachel': 19}\n"
     ]
    }
   ],
   "source": [
    "ages.pop('Bob')\n",
    "print(ages)"
   ]
  },
  {
   "cell_type": "markdown",
   "metadata": {},
   "source": [
    "***\n",
    "**Question 6.** It is not possible to create duplicate entries in a dictionary"
   ]
  },
  {
   "cell_type": "code",
   "execution_count": 93,
   "metadata": {},
   "outputs": [
    {
     "name": "stdout",
     "output_type": "stream",
     "text": [
      "{'Jill': 22, 'Sally': 20, 'Harry': 21, 'Rachel': 19}\n"
     ]
    }
   ],
   "source": [
    "ages['Jill'] = 22\n",
    "print(ages)"
   ]
  },
  {
   "cell_type": "markdown",
   "metadata": {},
   "source": [
    "***\n",
    "**Question 7.** The `in` keyword can be used to check whether a key exists in a dictionary"
   ]
  },
  {
   "cell_type": "code",
   "execution_count": 94,
   "metadata": {},
   "outputs": [
    {
     "name": "stdout",
     "output_type": "stream",
     "text": [
      "True\n"
     ]
    }
   ],
   "source": [
    "print('Harry' in ages)"
   ]
  },
  {
   "cell_type": "markdown",
   "metadata": {},
   "source": [
    "***\n",
    "# Exercise 8 - FizzBuzz Game"
   ]
  },
  {
   "cell_type": "markdown",
   "metadata": {},
   "source": [
    "See the file FizzBuzz.py"
   ]
  }
 ],
 "metadata": {
  "kernelspec": {
   "display_name": "Python 3",
   "language": "python",
   "name": "python3"
  },
  "language_info": {
   "codemirror_mode": {
    "name": "ipython",
    "version": 3
   },
   "file_extension": ".py",
   "mimetype": "text/x-python",
   "name": "python",
   "nbconvert_exporter": "python",
   "pygments_lexer": "ipython3",
   "version": "3.8.10"
  }
 },
 "nbformat": 4,
 "nbformat_minor": 4
}
