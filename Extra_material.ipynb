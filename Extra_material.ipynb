{
 "cells": [
  {
   "cell_type": "markdown",
   "id": "a285b663",
   "metadata": {},
   "source": [
    "`__init__.py` can be used to run initialisation code such as importing individual modules from within a package\n",
    "\n",
    "This can be more efficient than individually importing multiple submodules.\n",
    "\n",
    "`from . import banana` means *from current directory (indicated by the `.`), import banana*\n",
    "\n",
    "`fruit/__init__.py` is run when fruit is imported.  "
   ]
  },
  {
   "cell_type": "markdown",
   "id": "90057dff",
   "metadata": {},
   "source": [
    "File contents\n",
    "***\n",
    "##### main.py\n",
    "    import fruit                 # banana module in __init__.py so automatically imported\n",
    "    import fruit.strawberry      # strawberry module needs to be imported using full path \n",
    "    print(fruit.banana.word) \n",
    "    print(fruit.strawberry.word) \n",
    "***\n",
    "##### fruit/___init ___.py\n",
    "    from . import banana\n",
    "***\n",
    "##### fruit/_banana.py\n",
    "    word = 'banana'    \n",
    "***\n",
    "##### fruit/_strawberry.py\n",
    "    word = 'strawberry' \n",
    "\n",
    "***"
   ]
  },
  {
   "cell_type": "code",
   "execution_count": null,
   "id": "fff25cc4",
   "metadata": {},
   "outputs": [],
   "source": []
  }
 ],
 "metadata": {
  "kernelspec": {
   "display_name": "Python 3",
   "language": "python",
   "name": "python3"
  },
  "language_info": {
   "codemirror_mode": {
    "name": "ipython",
    "version": 3
   },
   "file_extension": ".py",
   "mimetype": "text/x-python",
   "name": "python",
   "nbconvert_exporter": "python",
   "pygments_lexer": "ipython3",
   "version": "3.8.8"
  }
 },
 "nbformat": 4,
 "nbformat_minor": 5
}
