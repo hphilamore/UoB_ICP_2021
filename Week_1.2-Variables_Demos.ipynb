{
 "cells": [
  {
   "cell_type": "markdown",
   "id": "bed3e43c",
   "metadata": {
    "slideshow": {
     "slide_type": "slide"
    }
   },
   "source": [
    "# Introduction to Computer Programming\n",
    "\n",
    "## 1.2 Variables\n",
    "\n",
    "<img src=\"img/full-colour-logo-UoB.png\" alt=\"Drawing\" style=\"width: 300px;\"/>"
   ]
  },
  {
   "cell_type": "markdown",
   "id": "5c80f98a",
   "metadata": {
    "slideshow": {
     "slide_type": "slide"
    }
   },
   "source": [
    "# In-class Demos"
   ]
  },
  {
   "cell_type": "markdown",
   "id": "4dbf3154",
   "metadata": {
    "slideshow": {
     "slide_type": "slide"
    }
   },
   "source": [
    "__Example 1:__ Find the volume of a cone.\n",
    "\n",
    "Base radius = 2 cm\n",
    "<br> Height = 10 cm\n",
    "\n",
    "Volume of a cone: $V = \\frac{Ah}{3}$  <br>where: <br>$A=$ base area<br> $h=$ height of the cone \n",
    "<img src=\"img/cone.png\" alt=\"Drawing\" style=\"width: 200px;\"/>"
   ]
  },
  {
   "cell_type": "code",
   "execution_count": 22,
   "id": "e4e05005",
   "metadata": {},
   "outputs": [
    {
     "name": "stdout",
     "output_type": "stream",
     "text": [
      "41.89333333333333 cm3\n"
     ]
    }
   ],
   "source": [
    "pi = 3.142\n",
    "r = 2\n",
    "h = 10 \n",
    "\n",
    "A = pi * r ** 2  # (cm2)  \n",
    "\n",
    "# A can now be used as a variable in other equations\n",
    "\n",
    "V = A * h / 3    # (cm3)   \n",
    "\n",
    "print(V, 'cm3')"
   ]
  },
  {
   "cell_type": "markdown",
   "id": "b1ec0683",
   "metadata": {
    "slideshow": {
     "slide_type": "slide"
    }
   },
   "source": [
    "__Example 2:__ Create a variabale `Name` and assign it a `string` value. \n",
    "\n",
    "Use an arithmetc operator and `Name` to print the output: `My name is` followed by the value of `Name`. e.g.\n",
    "\n",
    "\n",
    "    My name is Hemma\n"
   ]
  },
  {
   "cell_type": "code",
   "execution_count": 23,
   "id": "01935b36",
   "metadata": {},
   "outputs": [
    {
     "name": "stdout",
     "output_type": "stream",
     "text": [
      "My name is Hemma\n"
     ]
    }
   ],
   "source": [
    "Name = 'Hemma'\n",
    "\n",
    "print('My name is ' + Name)"
   ]
  },
  {
   "cell_type": "markdown",
   "id": "69988b32",
   "metadata": {
    "slideshow": {
     "slide_type": "slide"
    }
   },
   "source": [
    "When you complete the in-class exercises today you can choose to:\n",
    "- save your answers to each exercise as separate .py (Python) files\n",
    "- *comment out* some of your code to allow you to store it all in one file, but only run certain (*uncommented*) blocks of code  "
   ]
  }
 ],
 "metadata": {
  "celltoolbar": "Slideshow",
  "kernelspec": {
   "display_name": "Python 3",
   "language": "python",
   "name": "python3"
  },
  "language_info": {
   "codemirror_mode": {
    "name": "ipython",
    "version": 3
   },
   "file_extension": ".py",
   "mimetype": "text/x-python",
   "name": "python",
   "nbconvert_exporter": "python",
   "pygments_lexer": "ipython3",
   "version": "3.8.8"
  }
 },
 "nbformat": 4,
 "nbformat_minor": 5
}
