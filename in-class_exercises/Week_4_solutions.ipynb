{
 "cells": [
  {
   "cell_type": "markdown",
   "metadata": {},
   "source": [
    "# Week 4 Functions \n",
    "## Part 1 Functions in Python\n",
    "## Exercise 1 - 99 Bottles of Beer\n",
    "For this exercise please refer the solution already provided to you on Blackboard\n",
    "## Exercise 2 - Powers\n",
    "### 1,2"
   ]
  },
  {
   "cell_type": "code",
   "execution_count": 1,
   "metadata": {},
   "outputs": [
    {
     "name": "stdout",
     "output_type": "stream",
     "text": [
      "1\n",
      "4\n",
      "9\n",
      "16\n",
      "25\n",
      "36\n",
      "49\n",
      "64\n",
      "81\n"
     ]
    }
   ],
   "source": [
    "def RetSquared(Number):\n",
    "    # Returns the square\n",
    "    Squared = Number ** 2\n",
    "    return(Squared)\n",
    "\n",
    "# Testing our new function\n",
    "\n",
    "for i in range(1,10):\n",
    "    print(RetSquared(i))\n",
    "\n"
   ]
  },
  {
   "cell_type": "markdown",
   "metadata": {},
   "source": [
    "### 3"
   ]
  },
  {
   "cell_type": "code",
   "execution_count": 2,
   "metadata": {},
   "outputs": [
    {
     "name": "stdout",
     "output_type": "stream",
     "text": [
      "1\n",
      "8\n",
      "27\n",
      "64\n",
      "125\n",
      "216\n",
      "343\n",
      "512\n",
      "729\n"
     ]
    }
   ],
   "source": [
    "def RetCubed(Number):\n",
    "    # Returns the square\n",
    "    Squared = Number ** 3\n",
    "    return(Squared)\n",
    "\n",
    "for i in range(1,10):\n",
    "    print(RetCubed(i))\n"
   ]
  },
  {
   "cell_type": "markdown",
   "metadata": {},
   "source": [
    "### 4,5,6"
   ]
  },
  {
   "cell_type": "code",
   "execution_count": 3,
   "metadata": {},
   "outputs": [
    {
     "name": "stdout",
     "output_type": "stream",
     "text": [
      "[2, 4, 8, 16, 32, 64, 128, 256, 512, 1024]\n"
     ]
    }
   ],
   "source": [
    "def RetPower(Number, Power = 1): # Power = 1 assigns the default value for power\n",
    "    return Number ** Power\n",
    "\n",
    "print([RetPower(2,x) for x in range(1,11)]) # I used list comprehension to create a list with all the result and print it you could alternatively use a for loop for the same range\n"
   ]
  },
  {
   "cell_type": "markdown",
   "metadata": {},
   "source": [
    "### 7\n",
    "Below are two implementations of the power function, RetPowers uses list comprehension and RetPowers2 uses a standard for loop"
   ]
  },
  {
   "cell_type": "code",
   "execution_count": 4,
   "metadata": {},
   "outputs": [
    {
     "name": "stdout",
     "output_type": "stream",
     "text": [
      "[2, 4, 8, 1024]\n",
      "[2, 4, 8, 1024]\n"
     ]
    }
   ],
   "source": [
    "def RetPowers(Number, Powers): #here powers will be included in a list\n",
    "    return [Number ** x for x in Powers] \n",
    "\n",
    "def RetPowers2(Number, Powers):\n",
    "    result = []\n",
    "    for x in Powers:\n",
    "        result.append(Number ** x)\n",
    "    return result\n",
    "\n",
    "## testing to make sure that the output is the same\n",
    "print(RetPowers(2,[1,2,3,10]))\n",
    "print(RetPowers2(2,[1,2,3,10]))"
   ]
  },
  {
   "cell_type": "markdown",
   "metadata": {},
   "source": [
    "### 8\n",
    "Prime factors (if they exist if not $n$ is prime) for $n$ are contained between 2 and the $sqrt(n)$. \n",
    "We therefore start at the smallest prime and check if it's square is less and equal to the number, this is the condition for the while loop. This means that the loop will start at two and at most $sqrt(n)$. If the number is NOT a factor then we increment factor by one otherwise if it is then we divided the number by its factor. This will prevent us from including non prime factors. At the end of the loop if n is greater than 1 it means that the number itself is prime therefore it is appended to the list as the sole factor.  \n",
    "For instance the number 15 will go through the following steps: <br>\n",
    "### Step 1: <br>\n",
    "factor = 2 <br>\n",
    "2 doesn't divide 15 <br>\n",
    "increment factor <br>\n",
    "factor is now 3 <br>\n",
    " ### Step 2: <br>\n",
    "3 divides 15 <br>\n",
    "Now we are looking for factor of 5 <br>\n",
    "3 is appended to the list. <br>\n",
    "### Step 3: <br>\n",
    "3 doesn't divide 5 <br>\n",
    "increment factor <br>\n",
    "factor is now 4 <br>\n",
    "### Step 4: <br>\n",
    "Similar to tree factor is now 5 <br>\n",
    "### Step 5: <br>\n",
    "5 divdes 5, number is now 1 and is added to the list of factor <br>\n",
    "The loop condition is broken, exit the loop\n",
    "### Step 6\n",
    "n is not greater than 1, the list of factors is returned <br> <br>\n",
    "See https://stackoverflow.com/questions/15347174/python-finding-prime-factors  for more information"
   ]
  },
  {
   "cell_type": "code",
   "execution_count": 5,
   "metadata": {},
   "outputs": [],
   "source": [
    "def PrimeFactors(n):\n",
    "    factor = 2 ## init to 2 the smallest prime\n",
    "    factors = []\n",
    "    while factor ** 2 <= n:\n",
    "        if n % factor:\n",
    "            factor += 1\n",
    "        else:\n",
    "            n //= i\n",
    "            factors.append(factor)\n",
    "    if n > 1:\n",
    "        factors.append(n)\n",
    "    return factors\n",
    "\n"
   ]
  },
  {
   "cell_type": "markdown",
   "metadata": {},
   "source": [
    "## Exercise 3 Word Scrambler\n",
    "### 1,2\n",
    "let's divide this Exercise into multiple function as it will make it easier to follow\n",
    "Firstly let's define a text example"
   ]
  },
  {
   "cell_type": "code",
   "execution_count": 6,
   "metadata": {},
   "outputs": [],
   "source": [
    "sample_text = \"Lorem ipsum dolor sit amet, consectetur adipiscing elit. \\\n",
    "Nam maximus feugiat nisl at faucibus. Vivamus id nisl odio. Aenean porttitor \\\n",
    "vehicula tellus. In ac molestie augue. Vivamus non elit justo. Sed scelerisque \\\n",
    "vehicula tellus, eu aliquam augue pulvinar a. Nam at pulvinar ligula. Suspendisse \\\n",
    "potenti. Nulla quis nunc a lectus semper faucibus. Aenean ullamcorper massa ut leo \\\n",
    "posuere tristique. Etiam vulputate dignissim tincidunt. Sed iaculis orci quis metus \\\n",
    "aliquet, at mattis nisl elementum. In eros enim, finibus at libero a, tristique luctus urna.\"\n",
    "# This is our sample text"
   ]
  },
  {
   "cell_type": "code",
   "execution_count": 7,
   "metadata": {},
   "outputs": [
    {
     "data": {
      "text/plain": [
       "'Pzzia'"
      ]
     },
     "execution_count": 7,
     "metadata": {},
     "output_type": "execute_result"
    }
   ],
   "source": [
    "import random\n",
    "def wordscramble(word): # This function scrambles a single word without punctuation\n",
    "    char_list = list(word)\n",
    "    if len(char_list) == 3:\n",
    "        return \"\".join(char_list)\n",
    "    else: \n",
    "        temp = char_list[1:-1]\n",
    "        random.shuffle(temp)\n",
    "        temp.insert(0,char_list[0])\n",
    "        temp.insert(len(char_list)-1,char_list[-1])\n",
    "    return \"\".join(temp) \n",
    "\n",
    "# Let's test our function\n",
    "wordscramble(\"Pizza\")"
   ]
  },
  {
   "cell_type": "markdown",
   "metadata": {},
   "source": [
    "We can now scramble a single word let's use this function for an entire list of words. The map() function allows us to do this efficiently. Map takes a functions that accepts a single argument and maps it to a list. We use to list() function to return the result from map(). \n",
    "This "
   ]
  },
  {
   "cell_type": "code",
   "execution_count": 8,
   "metadata": {},
   "outputs": [
    {
     "name": "stdout",
     "output_type": "stream",
     "text": [
      "['the', 'qcuik', 'brown', 'fox', 'jpums', 'oevr', 'the', 'lazy', 'dog']\n",
      "the qcuik brown fox jpums oevr the lazy dog\n"
     ]
    }
   ],
   "source": [
    "result = list(map(wordscramble,\"the quick brown fox jumps over the lazy dog\".split())) # alternatively you can use a for loop \n",
    "print(result) \n",
    "# We could interlace spaces between words to get the orignal sentence back\n",
    "print(\" \".join(result))"
   ]
  },
  {
   "cell_type": "markdown",
   "metadata": {},
   "source": [
    "If you enclose the above in a function you can now make now call this function on a user's input or on any string that doesn't have punctuation <br>\n",
    "To take care of punction we need to do the following: "
   ]
  },
  {
   "cell_type": "code",
   "execution_count": 9,
   "metadata": {},
   "outputs": [
    {
     "name": "stdout",
     "output_type": "stream",
     "text": [
      "{'+', '$', ',', '&', '*', '|', ':', '(', '{', '%', ']', '#', '~', '.', '[', '}', '=', '\\\\', '>', '@', '^', '\"', ')', '?', '`', ';', '!', '<', '-', '/', \"'\"}\n",
      "{'6', '3', '2', '9', '5', '0', '7', '8', '1', '4'}\n",
      "{'+', '$', ',', '&', '5', '*', '0', '8', '|', ':', '1', '(', '{', '%', ']', '#', '~', '.', '[', '6', '}', '=', '9', '\\\\', '>', '@', '^', '4', '\"', ')', '?', '`', '3', ';', '2', '!', '<', '-', '/', '7', \"'\"}\n"
     ]
    }
   ],
   "source": [
    "import string\n",
    "invalidChars = set(string.punctuation.replace(\"_\", \"\")) # list of invalid character\n",
    "setofdigits  = set(list(string.digits)) # set of digits\n",
    "immutableset = invalidChars | setofdigits # union of both set representing characters we don't want to scramble\n",
    "print(invalidChars)\n",
    "print(setofdigits)\n",
    "print(immutableset)"
   ]
  },
  {
   "cell_type": "markdown",
   "metadata": {},
   "source": [
    "We now have a lis of punction and strings if a string contains any of these it should not be changed"
   ]
  },
  {
   "cell_type": "code",
   "execution_count": 71,
   "metadata": {},
   "outputs": [],
   "source": [
    "def indexofpunc(word,punc): # this function returns the index of a a given punctuation\n",
    "    indices = [i for i,e in enumerate(word) if e == punc]\n",
    "    if len(indices) == 0:\n",
    "       return []\n",
    "    else:\n",
    "        return indices\n",
    "\n",
    "\n",
    "def allindexofpunc(word): # returns the index for all punctuation and digits uses the function above\n",
    "    result = []\n",
    "    for i in immutableset:\n",
    "        result += indexofpunc(word,i)\n",
    "    return result\n",
    "\n",
    "def wordscrambler(sentence):\n",
    "    list_words = sentence.split(\" \") # split the sentence into individual word\n",
    "    result = []\n",
    "    for words in list_words:\n",
    "        toremove = allindexofpunc(words) # we will remove all punctuation and then add it back in\n",
    "        list_of_chars = list(words)\n",
    "        list_of_chars_no_punc = list_of_chars\n",
    "        if len(toremove) != 0:\n",
    "             list_of_chars_no_punc = [c for i,c in enumerate(list_of_chars) if i not in toremove] # our list of words devoid of punctuation\n",
    "        if len(list_of_chars_no_punc) == 0:\n",
    "            result.append(\"\".join(list_of_chars))\n",
    "        else:\n",
    "            temp = wordscramble(\"\".join(list_of_chars_no_punc)) # we now rejoin the word and scramble it, yes this not optimal but allows to re-use the function  we made previously. \n",
    "            temp = list(temp)\n",
    "            list(map(lambda x: temp.insert(x,list_of_chars[x]),toremove)) # add the missing char back \n",
    "            result.append(\"\".join(temp))\n",
    "    return \" \".join(result)\n",
    "\n"
   ]
  },
  {
   "cell_type": "code",
   "execution_count": 76,
   "metadata": {},
   "outputs": [
    {
     "name": "stdout",
     "output_type": "stream",
     "text": [
      "Lorem ipusm dolor sit amet, centouectsr aindpcisig eilt. Nam mamxuis feagiut nsil at fuiacbus. Vumvais id nsil odio. Aaenen poroitttr vleciuha tllues. In ac mtoeslie augue. Vaiumvs non elit jutso. Sed slsirceqeue viclueha tllues, eu ailuaqm augue puanilvr a.a Nam at pnuvalir llugia. Snuisdspese ptotnei. Nlula quis nnuc aa letcus spemer fuuciabs. Aeenan umpelcrloar mssaa ut leo pesuore tiirsqtue. Eaitm vtulapute dgsiisinm tindniuct. Sed ialicus ocri qius metus aluieqt, at mitats nisl elneetumm. In eros enim, fibiuns at leibro a,a tiqustire luucts urna.\n",
      "\n",
      "dneso't sldvuh'oe studlno'h've\n"
     ]
    }
   ],
   "source": [
    "print(wordscrambler(sample_text))\n",
    "print()\n",
    "print(wordscrambler(\"doesn't should've shouldn't've\"))"
   ]
  },
  {
   "cell_type": "markdown",
   "metadata": {},
   "source": [
    "As you can see we can now scramble words with punctuation and keep digits untouched if you wanted to shuffle every other letter you could use the enumerate function to only shuffle odd indices or even. \n",
    "You could also add to this program to make word such as \"should've\" don't scramble the \"ve\".  "
   ]
  },
  {
   "cell_type": "markdown",
   "metadata": {},
   "source": [
    "## Part 2 Function Arguments and Scope\n",
    "## Exercise 4 \n",
    "### 1,2,3,4"
   ]
  },
  {
   "cell_type": "code",
   "execution_count": 79,
   "metadata": {},
   "outputs": [
    {
     "name": "stdout",
     "output_type": "stream",
     "text": [
      "I hate spam\n"
     ]
    }
   ],
   "source": [
    "def F():\n",
    "    print(S)\n",
    "S = \"I hate spam\"\n",
    "F()\n"
   ]
  },
  {
   "cell_type": "markdown",
   "metadata": {},
   "source": [
    "The function can access global argument"
   ]
  },
  {
   "cell_type": "code",
   "execution_count": 80,
   "metadata": {},
   "outputs": [
    {
     "name": "stdout",
     "output_type": "stream",
     "text": [
      "Me too\n",
      "I hate spam\n"
     ]
    }
   ],
   "source": [
    "def F():\n",
    "    S = \"Me too\"    \n",
    "    print(S)\n",
    "S = \"I hate spam\"\n",
    "F()\n",
    "print(S)\n"
   ]
  },
  {
   "cell_type": "markdown",
   "metadata": {},
   "source": [
    "The function defines S to \"me too\" which is local to itself globally S hasn't changed"
   ]
  },
  {
   "cell_type": "code",
   "execution_count": 82,
   "metadata": {},
   "outputs": [
    {
     "name": "stdout",
     "output_type": "stream",
     "text": [
      "Me too\n",
      "Me too\n"
     ]
    }
   ],
   "source": [
    "def F():\n",
    "    global S\n",
    "    S = \"Me too\"\n",
    "    print(S)\n",
    "S = \"I hate spam\"\n",
    "F()\n",
    "print(S)"
   ]
  },
  {
   "cell_type": "markdown",
   "metadata": {},
   "source": [
    "The variable S labeled as global, no local variable is created changed on S are reflected outside the function as well"
   ]
  },
  {
   "cell_type": "code",
   "execution_count": 85,
   "metadata": {},
   "outputs": [
    {
     "ename": "NameError",
     "evalue": "name 'S' is not defined",
     "output_type": "error",
     "traceback": [
      "\u001b[1;31m---------------------------------------------------------------------------\u001b[0m",
      "\u001b[1;31mNameError\u001b[0m                                 Traceback (most recent call last)",
      "\u001b[1;32m<ipython-input-85-8042dab085b7>\u001b[0m in \u001b[0;36m<module>\u001b[1;34m\u001b[0m\n\u001b[1;32m----> 1\u001b[1;33m \u001b[1;32mdel\u001b[0m \u001b[0mS\u001b[0m \u001b[1;31m# deleted the variable due to how jupyter cell work\u001b[0m\u001b[1;33m\u001b[0m\u001b[1;33m\u001b[0m\u001b[0m\n\u001b[0m\u001b[0;32m      2\u001b[0m \u001b[1;32mdef\u001b[0m \u001b[0mF\u001b[0m\u001b[1;33m(\u001b[0m\u001b[1;33m)\u001b[0m\u001b[1;33m:\u001b[0m\u001b[1;33m\u001b[0m\u001b[1;33m\u001b[0m\u001b[0m\n\u001b[0;32m      3\u001b[0m     \u001b[0mS\u001b[0m \u001b[1;33m=\u001b[0m \u001b[1;34m\"I am a variable\"\u001b[0m\u001b[1;33m\u001b[0m\u001b[1;33m\u001b[0m\u001b[0m\n\u001b[0;32m      4\u001b[0m     \u001b[0mprint\u001b[0m\u001b[1;33m(\u001b[0m\u001b[0mS\u001b[0m\u001b[1;33m)\u001b[0m\u001b[1;33m\u001b[0m\u001b[1;33m\u001b[0m\u001b[0m\n\u001b[0;32m      5\u001b[0m \u001b[0mF\u001b[0m\u001b[1;33m(\u001b[0m\u001b[1;33m)\u001b[0m\u001b[1;33m\u001b[0m\u001b[1;33m\u001b[0m\u001b[0m\n",
      "\u001b[1;31mNameError\u001b[0m: name 'S' is not defined"
     ]
    }
   ],
   "source": [
    "del S # delete the global variable \n",
    "def F():\n",
    "    S = \"I am a variable\"\n",
    "    print(S)\n",
    "F()\n",
    "print(S)\n"
   ]
  },
  {
   "cell_type": "markdown",
   "metadata": {},
   "source": [
    "S is not defined in the global scope\n",
    "## Exercise 5 - Variadic Functions\n",
    "### 1,2 "
   ]
  },
  {
   "cell_type": "code",
   "execution_count": 92,
   "metadata": {},
   "outputs": [
    {
     "name": "stdout",
     "output_type": "stream",
     "text": [
      "55\n",
      "55\n"
     ]
    }
   ],
   "source": [
    "def sumofnumbers(*args):\n",
    "    return sum(args)\n",
    "print(sumofnumbers(1,2,3,4,5,6,7,8,9,10))\n",
    "\n",
    "def sumofnumbers2(*args):\n",
    "    acc = 0\n",
    "    for i in args:\n",
    "        acc += i\n",
    "    return acc\n",
    "    \n",
    "print(sumofnumbers2(1,2,3,4,5,6,7,8,9,10))"
   ]
  },
  {
   "cell_type": "markdown",
   "metadata": {},
   "source": [
    "Above are two implementation of the sum of number function using the sum() function or using a for loop"
   ]
  },
  {
   "cell_type": "code",
   "execution_count": 101,
   "metadata": {},
   "outputs": [
    {
     "name": "stdout",
     "output_type": "stream",
     "text": [
      "25401600\n"
     ]
    }
   ],
   "source": [
    "import math \n",
    "def prodofnumbers(*args): # you could also use a for loop return a variable called prob initialized at 1\n",
    "    return math.prod(args)\n",
    "\n",
    "print(prodofnumbers(1,2,3,4,5,6,7,8,9,10))"
   ]
  },
  {
   "cell_type": "code",
   "execution_count": 102,
   "metadata": {},
   "outputs": [
    {
     "data": {
      "text/plain": [
       "(1, 21, 7.0)"
      ]
     },
     "execution_count": 102,
     "metadata": {},
     "output_type": "execute_result"
    }
   ],
   "source": [
    "def operations(*args):\n",
    "    return min(args), max(args), sum(args)/len(args)\n",
    "\n",
    "operations(1,2,3,4,5,21,7,8,9,10)"
   ]
  },
  {
   "cell_type": "markdown",
   "metadata": {},
   "source": [
    "## Part 3 Recursive functions\n",
    "## Exercise 6 - Recursive functions\n",
    "### 1,2\n",
    "Please refer to the provided fibonacci code. <br>\n",
    "Another popular recursive function is the factorial function https://www.mathsisfun.com/numbers/factorial.html"
   ]
  },
  {
   "cell_type": "code",
   "execution_count": 104,
   "metadata": {},
   "outputs": [
    {
     "data": {
      "text/plain": [
       "3628800"
      ]
     },
     "execution_count": 104,
     "metadata": {},
     "output_type": "execute_result"
    }
   ],
   "source": [
    "def fac(n):\n",
    "    if n == 0:\n",
    "        return 1\n",
    "    else:\n",
    "        return n*fac(n-1)\n",
    "\n",
    "fac(10)"
   ]
  },
  {
   "cell_type": "markdown",
   "metadata": {},
   "source": [
    "## Exercise 7\n",
    "### For 1 look at the solutions to week 2 as the circle funcito it is already given as function\n",
    "### 2 https://www.w3schools.com/python/python_dictionaries.asp Dictionaries can be used in data science to store labeled data with the key being the label and the data being the value. This in conjunction with another module called pickle can help you save your dataset efficiently\n",
    "### 3 Refer to this tutorial: https://www.geeksforgeeks.org/python-program-for-tower-of-hanoi/ for recursive solution. Another interesting ways to solve this problem is to use binary. The youtuber 3blue1brown explains this quite well: https://www.youtube.com/watch?v=bdMfjfT0lKk\n",
    "### 4 https://www.geeksforgeeks.org/hangman-game-python/#:~:text=This%20is%20a%20simple%20Hangman%20game%20using%20Python,ability%2C%20so%20line%201%20in%20program%20imports%20it. This interesting tutorial to follow\n",
    "### 5 Following the rules of blackjack you can implement a deck of cards efficiently as follows:"
   ]
  },
  {
   "cell_type": "code",
   "execution_count": 121,
   "metadata": {},
   "outputs": [
    {
     "name": "stdout",
     "output_type": "stream",
     "text": [
      "[['Heart', 'A'], ['Heart', 'K'], ['Heart', 'Q'], ['Heart', 'J'], ['Heart', '2'], ['Heart', '3'], ['Heart', '4'], ['Heart', '5'], ['Heart', '6'], ['Heart', '7'], ['Heart', '8'], ['Heart', '9'], ['Heart', '10'], ['CLUB', 'A'], ['CLUB', 'K'], ['CLUB', 'Q'], ['CLUB', 'J'], ['CLUB', '2'], ['CLUB', '3'], ['CLUB', '4'], ['CLUB', '5'], ['CLUB', '6'], ['CLUB', '7'], ['CLUB', '8'], ['CLUB', '9'], ['CLUB', '10'], ['DIAMOND', 'A'], ['DIAMOND', 'K'], ['DIAMOND', 'Q'], ['DIAMOND', 'J'], ['DIAMOND', '2'], ['DIAMOND', '3'], ['DIAMOND', '4'], ['DIAMOND', '5'], ['DIAMOND', '6'], ['DIAMOND', '7'], ['DIAMOND', '8'], ['DIAMOND', '9'], ['DIAMOND', '10'], ['SPADE', 'A'], ['SPADE', 'K'], ['SPADE', 'Q'], ['SPADE', 'J'], ['SPADE', '2'], ['SPADE', '3'], ['SPADE', '4'], ['SPADE', '5'], ['SPADE', '6'], ['SPADE', '7'], ['SPADE', '8'], ['SPADE', '9'], ['SPADE', '10']]\n"
     ]
    }
   ],
   "source": [
    "card_ranks =['A','K','Q','J','2','3','4','5','6','7','8','9','10']\n",
    "card_suits =['Heart','CLUB','DIAMOND','SPADE']\n",
    "card_deck  = list(map(lambda x: list(map(lambda y: [x,y],card_ranks)),card_suits))\n",
    "card_deck  = card_deck[0] + card_deck[1] + card_deck[2]+ card_deck[3]\n",
    "print(card_deck)"
   ]
  },
  {
   "cell_type": "markdown",
   "metadata": {},
   "source": [
    "you now have a list you containing all the cards which you can shuffle and use in your black jack implementation"
   ]
  }
 ],
 "metadata": {
  "kernelspec": {
   "display_name": "Python 3",
   "language": "python",
   "name": "python3"
  },
  "language_info": {
   "codemirror_mode": {
    "name": "ipython",
    "version": 3
   },
   "file_extension": ".py",
   "mimetype": "text/x-python",
   "name": "python",
   "nbconvert_exporter": "python",
   "pygments_lexer": "ipython3",
   "version": "3.8.3"
  }
 },
 "nbformat": 4,
 "nbformat_minor": 4
}
