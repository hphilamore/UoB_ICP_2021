{
 "cells": [
  {
   "cell_type": "markdown",
   "metadata": {
    "slideshow": {
     "slide_type": "slide"
    }
   },
   "source": [
    "# Introduction to Computer Programming\n",
    "\n",
    "## Week 7.1: Reading & Writing Files\n",
    "\n",
    "* * *\n",
    "\n",
    "<img src=\"img/full-colour-logo-UoB.png\" alt=\"Bristol\" style=\"width: 300px;\"/>"
   ]
  },
  {
   "cell_type": "markdown",
   "metadata": {
    "slideshow": {
     "slide_type": "slide"
    }
   },
   "source": [
    "# Writing files `w`"
   ]
  },
  {
   "cell_type": "markdown",
   "metadata": {
    "slideshow": {
     "slide_type": "slide"
    }
   },
   "source": [
    "__Example:__ <br>\n",
    "Write the high score table shown to a new file with the filename scores.csv\n",
    "\n",
    "| |  | \n",
    "| :-: | :-: |  \n",
    "| Elena | 550 | \n",
    "| Sajid | 480 | \n",
    "| Tom | 380 | \n",
    "| Farhad | 305 | \n",
    "| Manesha | 150 | "
   ]
  },
  {
   "cell_type": "code",
   "execution_count": 344,
   "metadata": {},
   "outputs": [],
   "source": [
    "names = ['Elena', 'Sajid', 'Tom', 'Farhad', 'Manesha']\n",
    "scores = [550, 480, 380, 305, 150]"
   ]
  },
  {
   "cell_type": "code",
   "execution_count": 345,
   "metadata": {},
   "outputs": [],
   "source": [
    "names = ['Elena', 'Sajid', 'Tom', 'Farhad', 'Manesha']\n",
    "scores = [550, 480, 380, 305, 150]\n",
    "\n",
    "f = open('sample_data/scores.csv', 'w') \n",
    " \n",
    "\n",
    "# loop through two lists \n",
    "for n, s in zip(names, scores):\n",
    "    #f.write(n + ', ' + str(s) + '\\n') # numbers converted to string\n",
    "    \n",
    "    f.write(f'{n}, {s}\\n') # using f strings\n",
    "\n",
    "\n",
    "f.close()"
   ]
  },
  {
   "cell_type": "markdown",
   "metadata": {
    "slideshow": {
     "slide_type": "slide"
    }
   },
   "source": [
    "##### Try it yourself\n",
    "__Example:__ <br>\n",
    "Write the high score table shown to a new file with the filename scores.txt \n",
    "\n",
    "| |  | \n",
    "| :-: | :-: |  \n",
    "| Elena | 550 | \n",
    "| Sajid | 480 | \n",
    "| Tom | 380 | \n",
    "| Farhad | 305 | \n",
    "| Manesha | 150 | "
   ]
  },
  {
   "cell_type": "code",
   "execution_count": 346,
   "metadata": {},
   "outputs": [],
   "source": [
    "f = open('sample_data/scores.txt', 'w')  \n",
    " \n",
    "\n",
    "# loop through two lists \n",
    "for n, s in zip(names, scores):\n",
    "    f.write(n + ' ' + str(s) + '\\n') # numbers converted to string\n",
    "    \n",
    "    #f.write(f'{n} {s}\\n') # using f strings\n",
    "\n",
    "\n",
    "f.close()"
   ]
  },
  {
   "cell_type": "markdown",
   "metadata": {
    "slideshow": {
     "slide_type": "slide"
    }
   },
   "source": [
    "# Appending files `a`\n",
    "\n",
    "__Example:__ Append (add a new entry to the end of) scores.txt so that the table reads\n",
    "\n",
    "(Code structure identical to write, apart from mode specifier) \n",
    "  \n",
    "| |  | \n",
    "| :-: | :-: |  \n",
    "| Elena | 550 | \n",
    "| Sajid | 480 | \n",
    "| Tom | 380 | \n",
    "| Farhad | 305 | \n",
    "| Manesha | 150 | \n",
    "| Jen | 100 |\n"
   ]
  },
  {
   "cell_type": "code",
   "execution_count": 348,
   "metadata": {},
   "outputs": [],
   "source": [
    "f = open('sample_data/scores.txt', 'a')  \n",
    "\n",
    "f.write('Jen 100\\n')\n",
    "\n",
    "f.close()\n"
   ]
  },
  {
   "cell_type": "markdown",
   "metadata": {
    "slideshow": {
     "slide_type": "slide"
    }
   },
   "source": [
    "# Reading Files `r`\n",
    "\n",
    "(Default argument so mode specifier can be omitted.)  \n",
    "\n",
    "File object is:\n",
    "- iterable (can use for loop etc)\n",
    "- not subscriptable (cannot index individual elements)"
   ]
  },
  {
   "cell_type": "code",
   "execution_count": 349,
   "metadata": {},
   "outputs": [
    {
     "name": "stdout",
     "output_type": "stream",
     "text": [
      "Elena 550\n",
      "\n",
      "Sajid 480\n",
      "\n",
      "Tom 380\n",
      "\n",
      "Farhad 305\n",
      "\n",
      "Manesha 150\n",
      "\n",
      "Jen 100\n",
      "\n"
     ]
    }
   ],
   "source": [
    "f = open('sample_data/scores.txt', 'r')    \n",
    "\n",
    "#print(f[0])    # not subscriptable\n",
    "\n",
    "for line in f:  # iterable\n",
    "    print(line) # each line is a string"
   ]
  },
  {
   "cell_type": "markdown",
   "metadata": {
    "slideshow": {
     "slide_type": "slide"
    }
   },
   "source": [
    "__Example:__ \n",
    "\n",
    "Print the list of names and a list of scores from the file `'sample_data/scores.txt'`\n",
    "\n",
    "Print the name and score of the winner from the file `scores.txt'` "
   ]
  },
  {
   "cell_type": "code",
   "execution_count": 351,
   "metadata": {},
   "outputs": [
    {
     "name": "stdout",
     "output_type": "stream",
     "text": [
      "winner:  Elena 550\n",
      "\n"
     ]
    }
   ],
   "source": [
    "f = open('sample_data/scores.txt', 'r')\n",
    "\n",
    "file = list(f)               # convert to list of strings (lines)\n",
    "    \n",
    "print('winner: ', file[0])   # subscriptable (no need to return to start position)\n",
    "    \n",
    "f.close()"
   ]
  },
  {
   "cell_type": "markdown",
   "metadata": {
    "slideshow": {
     "slide_type": "slide"
    }
   },
   "source": [
    "##### Try it yourself\n",
    "\n",
    "__Example:__ \n",
    "\n",
    "Print the first three names and scores from the file you created earlier `'scores.txt'`\n"
   ]
  },
  {
   "cell_type": "code",
   "execution_count": 352,
   "metadata": {},
   "outputs": [
    {
     "name": "stdout",
     "output_type": "stream",
     "text": [
      "Elena 550\n",
      "\n",
      "Sajid 480\n",
      "\n"
     ]
    }
   ],
   "source": [
    "f = open('sample_data/scores.txt', 'r')\n",
    "\n",
    "file = list(f)               # convert to list of strings (lines)\n",
    "\n",
    "for line in file[:2]:  \n",
    "    print(line) \n",
    "    \n",
    "f.close()"
   ]
  },
  {
   "cell_type": "markdown",
   "metadata": {
    "slideshow": {
     "slide_type": "slide"
    }
   },
   "source": [
    "# Reading and Writing with `r+`, `w+`, `a+`\n"
   ]
  },
  {
   "cell_type": "markdown",
   "metadata": {
    "slideshow": {
     "slide_type": "slide"
    }
   },
   "source": [
    "# `a+`\n",
    "__Example__: When we want to edit (append only) and read.\n",
    "\n",
    "\n",
    "The stream position is: \n",
    "- at the *end* when opened (must be moved to the start to read). \n",
    "- always moved to the *end* before writing when `write` is called (previous contents never overwritten).\n",
    "- at the *end* after writing.  \n"
   ]
  },
  {
   "cell_type": "code",
   "execution_count": 353,
   "metadata": {},
   "outputs": [
    {
     "name": "stdout",
     "output_type": "stream",
     "text": [
      "Elena 550\n",
      "Sajid 480\n",
      "Tom 380\n",
      "Farhad 305\n",
      "Manesha 150\n",
      "Jen 100\n",
      "Tim 50\n",
      "Majid 500\n"
     ]
    }
   ],
   "source": [
    "f = open('sample_data/scores.txt', 'a+')\n",
    "\n",
    "f.write('Tim 50\\nMajid 500\\n')\n",
    "\n",
    "f.seek(0)\n",
    "\n",
    "for line in f:\n",
    "    print(line, end='')\n",
    "    \n",
    "f.close()"
   ]
  },
  {
   "cell_type": "markdown",
   "metadata": {
    "slideshow": {
     "slide_type": "slide"
    }
   },
   "source": [
    "# `r+`\n",
    "__Example__: When we want to read and edit.\n",
    "\n",
    "The stream position is: \n",
    "- at the *start* when opened  \n",
    "- at the *end* after reading "
   ]
  },
  {
   "cell_type": "code",
   "execution_count": 354,
   "metadata": {},
   "outputs": [
    {
     "name": "stdout",
     "output_type": "stream",
     "text": [
      "Elena 550\n",
      "Sajid 480\n",
      "Tom 380\n",
      "Farhad 305\n",
      "Manesha 150\n",
      "Jen 100\n",
      "Tim 50\n",
      "Majid 500\n",
      "Elena 550\n",
      "Sajid 480\n",
      "Tom 380\n",
      "Farhad 305\n",
      "Manesha 150\n",
      "Jen 100\n",
      "Tim 50\n",
      "Majid 500\n",
      "Ben 50\n",
      "Ola 500\n"
     ]
    }
   ],
   "source": [
    "f = open('sample_data/scores.txt', 'r+')\n",
    "\n",
    "for line in f:\n",
    "    print(line, end='')\n",
    "    \n",
    "f.write('Ben 50\\n')\n",
    "f.write('Ola 500\\n')\n",
    "\n",
    "f.seek(0)\n",
    "\n",
    "for line in f:\n",
    "    print(line, end='')\n",
    "    \n",
    "f.close()    "
   ]
  },
  {
   "cell_type": "markdown",
   "metadata": {
    "slideshow": {
     "slide_type": "slide"
    }
   },
   "source": [
    "# `w+`\n",
    "__Example__: When we want to overwrite file then read \n",
    "\n",
    "The stream position is:\n",
    "- at the *start* when opened (previous contents overwritten).\n",
    "- at the *end* after writing (subsequent lines added using `write` will appended the file, not overwrite previous contents, until file is closed). \n",
    "\n",
    "Writing *must* happen before reading. \n"
   ]
  },
  {
   "cell_type": "code",
   "execution_count": 355,
   "metadata": {},
   "outputs": [
    {
     "name": "stdout",
     "output_type": "stream",
     "text": [
      "Tim 50\n",
      "Majid 500\n",
      "Tim 50\n",
      "Majid 500\n",
      "Ola 500\n"
     ]
    }
   ],
   "source": [
    "f = open('sample_data/scores.txt', 'w+')\n",
    "\n",
    "f.write('Tim 50\\nMajid 500\\n')\n",
    "\n",
    "f.seek(0)\n",
    "\n",
    "for line in f:\n",
    "    print(line, end='')\n",
    "    \n",
    "f.write('Ola 500\\n')\n",
    "\n",
    "f.seek(0)\n",
    "\n",
    "for line in f:\n",
    "    print(line, end='')"
   ]
  },
  {
   "cell_type": "markdown",
   "metadata": {
    "slideshow": {
     "slide_type": "slide"
    }
   },
   "source": [
    "__Example__: Edit the file to remove the unwanted line that reads `500` (between Jo and Ola).  \n",
    "\n",
    "The file can be erased from a position onwards with `truncate()`, (default position is current position)"
   ]
  },
  {
   "cell_type": "code",
   "execution_count": 357,
   "metadata": {},
   "outputs": [
    {
     "name": "stdout",
     "output_type": "stream",
     "text": [
      "['Sid 50\\n', 'Jo 20\\n', 'Ola 500\\n']\n"
     ]
    }
   ],
   "source": [
    "f = open('sample_data/scores.txt', 'r+')\n",
    "\n",
    "file = list(f)      # convert to list of strings (lines)\n",
    "    \n",
    "del file[2]         # remove element 2\n",
    "\n",
    "print(file)\n",
    "\n",
    "f.seek(0)           # go to start of file\n",
    "\n",
    "for line in file:   # overwrite original file\n",
    "    f.write(line)\n",
    "    \n",
    "f.truncate()        # remove trailing characters as new message is shorter\n",
    "    \n",
    "f.close()\n"
   ]
  },
  {
   "cell_type": "code",
   "execution_count": 358,
   "metadata": {
    "slideshow": {
     "slide_type": "slide"
    }
   },
   "outputs": [
    {
     "name": "stdout",
     "output_type": "stream",
     "text": [
      "Sid 50\n",
      "Jo 20\n",
      "Ola 500\n"
     ]
    }
   ],
   "source": [
    "f = open('sample_data/scores.txt', 'r+') \n",
    "\n",
    "for line in f:               # read file contents\n",
    "    print(line, end='')\n",
    "    \n",
    "f.close()"
   ]
  },
  {
   "cell_type": "code",
   "execution_count": null,
   "metadata": {},
   "outputs": [],
   "source": []
  }
 ],
 "metadata": {
  "celltoolbar": "Slideshow",
  "kernelspec": {
   "display_name": "Python 3",
   "language": "python",
   "name": "python3"
  },
  "language_info": {
   "codemirror_mode": {
    "name": "ipython",
    "version": 3
   },
   "file_extension": ".py",
   "mimetype": "text/x-python",
   "name": "python",
   "nbconvert_exporter": "python",
   "pygments_lexer": "ipython3",
   "version": "3.8.3"
  }
 },
 "nbformat": 4,
 "nbformat_minor": 5
}
