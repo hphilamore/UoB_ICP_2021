{
 "cells": [
  {
   "cell_type": "markdown",
   "metadata": {
    "slideshow": {
     "slide_type": "slide"
    }
   },
   "source": [
    "# Introduction to Computer Programming\n",
    "\n",
    "## Week 4.1: Functions\n",
    "\n",
    "* * *\n",
    "\n",
    "<img src=\"img/full-colour-logo-UoB.png\" alt=\"Bristol\" style=\"width: 300px;\"/>"
   ]
  },
  {
   "cell_type": "markdown",
   "metadata": {
    "slideshow": {
     "slide_type": "slide"
    }
   },
   "source": [
    "# Functions\n",
    "\n",
    "Functions are the building blocks of Python programs\n",
    "* They can be thought of as mini-programs that carry out specific tasks (e.g. square a number)\n",
    "\n",
    "Basically, a function is a collection of operations that have been given a name\n",
    "* These operations can involve variable assignment, mathematical operations, loops, if-else statements, etc"
   ]
  },
  {
   "cell_type": "markdown",
   "metadata": {
    "slideshow": {
     "slide_type": "slide"
    }
   },
   "source": [
    "Python comes with a number of built-in functions\n",
    "* For example, `max(L)` computes the maximum entry in a list of numbers called *L*\n",
    "\n",
    "We can also write our own functions in Python\n",
    "* For example, we could write a function `is_prime(n)` that determines whether an integer $n$ is prime\n",
    "\n",
    "What's the benefit of writing our own functions?\n",
    "* It reduces the need to copy and paste code that does the same operation, making code more reusable\n",
    "* It makes programs easy to maintain, more readable, and easier to understand"
   ]
  },
  {
   "cell_type": "markdown",
   "metadata": {
    "slideshow": {
     "slide_type": "slide"
    }
   },
   "source": [
    "# An analogy with mathematical functions\n",
    "\n",
    "In maths, we often work with functions of the form $y = f(x)$, where\n",
    "* $x$ is an input (e.g. a number)\n",
    "* $f$ is the function which carries out operations on $x$, such as $x^2$ or $\\sin(x)$\n",
    "* $y$ is the output, that is, the result of carrying out the operations on $x$\n",
    "\n",
    "Functions in Python work in the same way, but are much more powerful:\n",
    "* Python functions take inputs which can be ints, floats, lists, dicts, etc!\n",
    "* They can carry out many operations that aren't necessarily mathematical\n",
    "* And they may produce no outputs, one output, or many outputs"
   ]
  },
  {
   "cell_type": "markdown",
   "metadata": {
    "slideshow": {
     "slide_type": "slide"
    }
   },
   "source": [
    "# Some programming terminology\n",
    "\n",
    "Inputs to functions are called **arguments**\n",
    "\n",
    "When we run or execute a function, we say that we are **calling** the function"
   ]
  },
  {
   "cell_type": "markdown",
   "metadata": {
    "slideshow": {
     "slide_type": "slide"
    }
   },
   "source": [
    "# Defining our own functions\n",
    "\n",
    "Every function definition is of the form\n",
    "***\n",
    "```python\n",
    "def name_of_function(arg1, arg2, ...):\n",
    "    # indented block of code\n",
    "```\n",
    "***\n",
    "The key ingredients are:\n",
    "* `def` is a keyword that tells Python we are defining a function\n",
    "* *name_of_function* is the name of the function\n",
    "* *arg1*, *arg2*, ... are comma-separated arguments (inputs) that we provide to the function\n",
    "* Round brackets that surround the arguments, followed by a colon\n",
    "* A block of indented code"
   ]
  },
  {
   "cell_type": "markdown",
   "metadata": {
    "slideshow": {
     "slide_type": "slide"
    }
   },
   "source": [
    "# A simple function\n",
    "\n",
    "**Example**: Let's write a function that doubles the value of a number $x$ and prints the result:"
   ]
  },
  {
   "cell_type": "code",
   "execution_count": 13,
   "metadata": {},
   "outputs": [],
   "source": [
    "def double(x):\n",
    "    print(2*x)"
   ]
  },
  {
   "cell_type": "markdown",
   "metadata": {},
   "source": [
    "Once a function is defined, it can be used.  For example:"
   ]
  },
  {
   "cell_type": "code",
   "execution_count": 14,
   "metadata": {},
   "outputs": [
    {
     "name": "stdout",
     "output_type": "stream",
     "text": [
      "8\n"
     ]
    }
   ],
   "source": [
    "double(4)"
   ]
  },
  {
   "cell_type": "code",
   "execution_count": 15,
   "metadata": {},
   "outputs": [
    {
     "name": "stdout",
     "output_type": "stream",
     "text": [
      "12\n"
     ]
    }
   ],
   "source": [
    "var = 6\n",
    "double(var)"
   ]
  },
  {
   "cell_type": "markdown",
   "metadata": {
    "slideshow": {
     "slide_type": "slide"
    }
   },
   "source": [
    "# In-class examples"
   ]
  },
  {
   "cell_type": "markdown",
   "metadata": {
    "slideshow": {
     "slide_type": "slide"
    }
   },
   "source": [
    "# Producing output using `return`\n",
    "\n",
    "In the previous example, we defined a function to double the number $x$.  The `return` keyword can be used to save the output of this function to a new variable:"
   ]
  },
  {
   "cell_type": "code",
   "execution_count": 4,
   "metadata": {},
   "outputs": [],
   "source": [
    "def double(x):\n",
    "    return 2 * x"
   ]
  },
  {
   "cell_type": "markdown",
   "metadata": {},
   "source": [
    "When the function `double(x)` is called, it **returns** the value of $2x$, which can be assigned to a variable.  For example:"
   ]
  },
  {
   "cell_type": "code",
   "execution_count": 5,
   "metadata": {},
   "outputs": [
    {
     "name": "stdout",
     "output_type": "stream",
     "text": [
      "6\n",
      "12\n"
     ]
    }
   ],
   "source": [
    "y = double(3)\n",
    "print(y)\n",
    "print(2*y)"
   ]
  },
  {
   "cell_type": "markdown",
   "metadata": {
    "slideshow": {
     "slide_type": "slide"
    }
   },
   "source": [
    "# Returning multiple outputs\n",
    "\n",
    "Python makes it easy to return multiple outputs using tuples\n",
    "\n",
    "**Example**: The function below returns the sum and product of two numbers.  It has two arguments, $x$ and $y$, that are separated by commas."
   ]
  },
  {
   "cell_type": "code",
   "execution_count": 6,
   "metadata": {},
   "outputs": [],
   "source": [
    "def sum_prod(x, y):\n",
    "    return (x + y, x * y)"
   ]
  },
  {
   "cell_type": "markdown",
   "metadata": {},
   "source": [
    "There are two ways we can run this function and save the output:"
   ]
  },
  {
   "cell_type": "code",
   "execution_count": 17,
   "metadata": {},
   "outputs": [
    {
     "name": "stdout",
     "output_type": "stream",
     "text": [
      "(9, 18)\n",
      "9\n",
      "18\n"
     ]
    }
   ],
   "source": [
    "# save the output as a tuple\n",
    "output = sum_prod(3, 6)\n",
    "print(output)\n",
    "\n",
    "# save the output as two numbers (int or float)\n",
    "(a, b) = sum_prod(3, 6)\n",
    "print(a)\n",
    "print(b)"
   ]
  },
  {
   "cell_type": "markdown",
   "metadata": {
    "slideshow": {
     "slide_type": "slide"
    }
   },
   "source": [
    "# More about the `return` keyword\n",
    "\n",
    "The `return` keyword is optional, but it can play two important roles in functions:\n",
    "1. It is used to define the output of a function, if there is any\n",
    "2. It is used to exit a function prematurely (similar to `break` in loops)\n",
    "\n",
    "The second point means the `return` statement is useful in controlling the flow of functions that involve `if` statements"
   ]
  },
  {
   "cell_type": "markdown",
   "metadata": {
    "slideshow": {
     "slide_type": "slide"
    }
   },
   "source": [
    "Consider the following function:"
   ]
  },
  {
   "cell_type": "code",
   "execution_count": 8,
   "metadata": {},
   "outputs": [],
   "source": [
    "def my_function(x):\n",
    "    print('x equals', x)\n",
    "    return\n",
    "    print('2x equals', 2 * x)"
   ]
  },
  {
   "cell_type": "markdown",
   "metadata": {},
   "source": [
    "When the function is called, it proceeds through each statement until the `return` keyword is encountered, at which point the function terminates, and any values that follow `return` are returned as outputs"
   ]
  },
  {
   "cell_type": "code",
   "execution_count": 9,
   "metadata": {},
   "outputs": [
    {
     "name": "stdout",
     "output_type": "stream",
     "text": [
      "x equals 2\n"
     ]
    }
   ],
   "source": [
    "my_function(2)"
   ]
  },
  {
   "cell_type": "markdown",
   "metadata": {},
   "source": [
    "Since there is nothing that follows `return` in this example, the function does not output anything"
   ]
  },
  {
   "cell_type": "markdown",
   "metadata": {
    "slideshow": {
     "slide_type": "slide"
    }
   },
   "source": [
    "# Good programming practice - docstrings\n",
    "\n",
    "Python programs often involve many user-defined functions, and it can be difficult to remember what they do and how they should be used.\n",
    "\n",
    "A **docstring** is text in triple quotation marks placed below the name of the function that explains what it does."
   ]
  },
  {
   "cell_type": "code",
   "execution_count": 10,
   "metadata": {},
   "outputs": [],
   "source": [
    "def square(x):\n",
    "    \"\"\"\n",
    "    Computes the square of a real number x and returns its value\n",
    "    \"\"\"\n",
    "    return x * x"
   ]
  },
  {
   "cell_type": "markdown",
   "metadata": {},
   "source": [
    "Python's `help` function can be used to print the docstring:"
   ]
  },
  {
   "cell_type": "code",
   "execution_count": 11,
   "metadata": {},
   "outputs": [
    {
     "name": "stdout",
     "output_type": "stream",
     "text": [
      "Help on function square in module __main__:\n",
      "\n",
      "square(x)\n",
      "    Computes the square of a real number x and returns its value\n",
      "\n"
     ]
    }
   ],
   "source": [
    "help(square)"
   ]
  },
  {
   "cell_type": "markdown",
   "metadata": {},
   "source": [
    "# Summary\n",
    "\n",
    "* A function is a group of code that has been given a name\n",
    "* They can take input and produce output\n",
    "* Functions are defined using the `def` keyword\n",
    "* Output is producing using the `return` keyword\n",
    "* Docstrings are helpful for explaining what a function does and how to use it"
   ]
  },
  {
   "cell_type": "markdown",
   "metadata": {
    "slideshow": {
     "slide_type": "slide"
    }
   },
   "source": [
    "# In-class examples"
   ]
  }
 ],
 "metadata": {
  "celltoolbar": "Slideshow",
  "kernelspec": {
   "display_name": "Python 3",
   "language": "python",
   "name": "python3"
  },
  "language_info": {
   "codemirror_mode": {
    "name": "ipython",
    "version": 3
   },
   "file_extension": ".py",
   "mimetype": "text/x-python",
   "name": "python",
   "nbconvert_exporter": "python",
   "pygments_lexer": "ipython3",
   "version": "3.8.8"
  }
 },
 "nbformat": 4,
 "nbformat_minor": 4
}
