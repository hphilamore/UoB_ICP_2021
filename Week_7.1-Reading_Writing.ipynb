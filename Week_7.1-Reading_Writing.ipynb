{
 "cells": [
  {
   "cell_type": "markdown",
   "metadata": {
    "slideshow": {
     "slide_type": "slide"
    }
   },
   "source": [
    "# Introduction to Computer Programming\n",
    "\n",
    "## Week 7.1: Reading & Writing Files\n",
    "\n",
    "* * *\n",
    "\n",
    "<img src=\"img/full-colour-logo-UoB.png\" alt=\"Bristol\" style=\"width: 300px;\"/>"
   ]
  },
  {
   "cell_type": "markdown",
   "metadata": {
    "slideshow": {
     "slide_type": "slide"
    }
   },
   "source": [
    "Open Spyder now "
   ]
  },
  {
   "cell_type": "markdown",
   "metadata": {
    "slideshow": {
     "slide_type": "slide"
    }
   },
   "source": [
    "__Reading files__ : Importing data (e.g. experiment results) into a program\n",
    "\n",
    "__Writing files__ : Exporting data - storing data outside of the program. <br>(e.g. output of a calculation) "
   ]
  },
  {
   "cell_type": "markdown",
   "metadata": {
    "slideshow": {
     "slide_type": "slide"
    }
   },
   "source": [
    "__Delimited file:__<br>\n",
    "Uses a set character (tab, space, vertical bar etc) to separate values.\n",
    "\n",
    "__CSV (comma-seperated-value):__ <br>A *delimited* text file that uses a comma to separate values.\n",
    "\n",
    "The CSV file is a widely used format for storing tabular data in plain text   and is supported by software applications e.g. Microsoft Excel, Google Spreadsheet.\n",
    "\n",
    "<img src=\"img/csv_file_example.png\" alt=\"Bristol\" style=\"width: 400px;\"/>"
   ]
  },
  {
   "cell_type": "markdown",
   "metadata": {
    "slideshow": {
     "slide_type": "slide"
    }
   },
   "source": [
    "Built-in Python functions for reading and writing text data files (.txt, .csv, .dat): \n",
    "- `open()`\n",
    "- `write()`\n",
    "- `close()` "
   ]
  },
  {
   "cell_type": "markdown",
   "metadata": {
    "slideshow": {
     "slide_type": "slide"
    }
   },
   "source": [
    "Before a file can be read or written to, it must be opened using the `open()` function. \n",
    "\n",
    "```python\n",
    "open(file_path, mode_specifier)\n",
    "```"
   ]
  },
  {
   "cell_type": "markdown",
   "metadata": {
    "slideshow": {
     "slide_type": "slide"
    }
   },
   "source": [
    "\n",
    "\n",
    "__Mode specifier:__ <br> An open file can be read, overwritten, or added to, depending on the mode specifier used to open it. \n",
    "\n",
    "\n",
    "| Mode specifier | Read (R)/Write (W)| File must already exist | If no file exists  | `write() `| Stream position when opened|\n",
    "| :-: | :-: | :-: | :-: | :-: | :-: | \n",
    "| `r` | R |Yes | N/A | N/A | start |\n",
    "| `w` | W |No | Creates new file | overwrites all previous contents | start |\n",
    "| `a` | W |No | Creates new file | appends text to end of file| end |\n",
    "| `r+` | R+W |Yes | N/A | overwrites previous contents | start |\n",
    "| `w+` | R+W |No | Creates new file | overwrites all previous contents | start |\n",
    "| `a+` | R+W | No | Creates new file | appends text to end of file | end |\n",
    "\n",
    "__append__: start writing at end of file<br>\n",
    "__write__: start writing at beginning of file"
   ]
  },
  {
   "cell_type": "markdown",
   "metadata": {
    "slideshow": {
     "slide_type": "slide"
    }
   },
   "source": [
    "# Importing a file from a different directory\n",
    "\n",
    "When using `open` we must give the full file path. \n",
    "\n",
    "Like when importing Python files/modules, often we want to read/write a file located in a different directory. \n",
    "\n",
    "The directory must already exist. \n",
    "\n",
    "The file does not need to already exist if writing (`a`, `a+`, `w`, `w+`)"
   ]
  },
  {
   "cell_type": "markdown",
   "metadata": {
    "slideshow": {
     "slide_type": "slide"
    }
   },
   "source": [
    "## Downstream file location\n",
    "\n",
    "`/` is used to indicate a sub-directory downstream of the current location.\n",
    "\n",
    "\n",
    "```python\n",
    "\n",
    "Documents/\n",
    "│\n",
    "├── Folder_1/\n",
    "│   └── myScores.txt\n",
    "│\n",
    "├── Folder_2/\n",
    "│   └── scores.txt\n",
    "│\n",
    "└── read_write.py\n",
    "\n",
    "```\n",
    "\n",
    "__Example:__ Open a downstream file within `read_write.py`:\n",
    "\n",
    "`f = open('Folder_1/myScores.txt', 'w')`"
   ]
  },
  {
   "cell_type": "markdown",
   "metadata": {
    "slideshow": {
     "slide_type": "slide"
    }
   },
   "source": [
    "## Upstream file location\n",
    "`../` is used to indicate a location one directory upstream of the current location.\n",
    "\n",
    "\n",
    "```python\n",
    "\n",
    "Documents/\n",
    "│\n",
    "├── Folder_1/\n",
    "│   └── read_write.py\n",
    "│\n",
    "├── Folder_2/\n",
    "│   └── scores.txt\n",
    "│\n",
    "└── myScores.txt\n",
    "\n",
    "```\n",
    "\n",
    "__Example:__ Open an upstream file within `read_write.py`:\n",
    "\n",
    "    f = open('../myScores.txt', 'w')\n",
    "\n",
    "__Example:__ Open a file in a different directory at the same level as the directory containing `read_write.py:    \n",
    "\n",
    "    f = open('../Folder_2/scores.txt', 'w')"
   ]
  },
  {
   "cell_type": "markdown",
   "metadata": {
    "slideshow": {
     "slide_type": "slide"
    }
   },
   "source": [
    "Once the file is open, it creates a *file object* (instance of file class).  \n",
    "\n",
    "A class object (instance of a class) can have methods.\n",
    "\n",
    "Methods are actions or functions that the file object is able to perform (`write`, `close`...) "
   ]
  },
  {
   "cell_type": "markdown",
   "metadata": {
    "slideshow": {
     "slide_type": "slide"
    }
   },
   "source": [
    "# Writing files `w`"
   ]
  },
  {
   "cell_type": "markdown",
   "metadata": {},
   "source": [
    "`write` can be used to write string data to a text file.\n",
    "\n",
    "```python\n",
    "f = open('my_file.txt', 'w') # mode specifier to write\n",
    "\n",
    "f.write('hello world')\n",
    "\n",
    "f.close()\n",
    "```"
   ]
  },
  {
   "cell_type": "markdown",
   "metadata": {
    "slideshow": {
     "slide_type": "slide"
    }
   },
   "source": [
    "A file type that is often used to store tabulated data is the .csv file.\n",
    "\n",
    ".csv files can be opened in spreadsheet programs like excel  \n",
    "\n",
    "A .csv file is simply a text file, with row items separated (or *delimited*) by commas."
   ]
  },
  {
   "cell_type": "markdown",
   "metadata": {
    "slideshow": {
     "slide_type": "slide"
    }
   },
   "source": [
    "__Example:__ <br>\n",
    "Write the high score table shown to a new file with the filename scores.csv\n",
    "\n",
    "| |  | \n",
    "| :-: | :-: |  \n",
    "| Elena | 550 | \n",
    "| Sajid | 480 | \n",
    "| Tom | 380 | \n",
    "| Farhad | 305 | \n",
    "| Manesha | 150 | "
   ]
  },
  {
   "cell_type": "code",
   "execution_count": 1,
   "metadata": {},
   "outputs": [],
   "source": [
    "names = ['Elena', 'Sajid', 'Tom', 'Farhad', 'Manesha']\n",
    "scores = [550, 480, 380, 305, 150]"
   ]
  },
  {
   "cell_type": "code",
   "execution_count": 5,
   "metadata": {},
   "outputs": [],
   "source": [
    "f = open('sample_data/scores.txt', 'w')\n",
    "\n",
    "for n, s in zip(names, scores):\n",
    "    f.write(n + ' ' + str(s) + '\\n')\n",
    "    \n",
    "f.close()"
   ]
  },
  {
   "cell_type": "markdown",
   "metadata": {
    "slideshow": {
     "slide_type": "slide"
    }
   },
   "source": [
    "##### Try it yourself\n",
    "__Example:__ <br>\n",
    "Write the high score table shown to a new file with the filename scores.txt \n",
    "\n",
    "| |  | \n",
    "| :-: | :-: |  \n",
    "| Elena | 550 | \n",
    "| Sajid | 480 | \n",
    "| Tom | 380 | \n",
    "| Farhad | 305 | \n",
    "| Manesha | 150 | "
   ]
  },
  {
   "cell_type": "code",
   "execution_count": null,
   "metadata": {},
   "outputs": [],
   "source": []
  },
  {
   "cell_type": "markdown",
   "metadata": {
    "slideshow": {
     "slide_type": "slide"
    }
   },
   "source": [
    "### Closing Files\n",
    "Why do we need to close a file?\n",
    "1. Not automatically closed.  \n",
    "3. Saves changes to file.\n",
    "4. Can prevent other prgrams from accessing file"
   ]
  },
  {
   "cell_type": "markdown",
   "metadata": {
    "slideshow": {
     "slide_type": "skip"
    }
   },
   "source": [
    "`close` is just a method, belonging to the file object. \n",
    "\n",
    "The simplest open-close process is shown.  \n",
    "\n",
    "This will erase the contents of / create a new file `file.txt` in the folder `sample_data`"
   ]
  },
  {
   "cell_type": "code",
   "execution_count": 363,
   "metadata": {
    "slideshow": {
     "slide_type": "skip"
    }
   },
   "outputs": [],
   "source": [
    "open('sample_data/file.txt', 'w').close()\n"
   ]
  },
  {
   "cell_type": "markdown",
   "metadata": {
    "slideshow": {
     "slide_type": "slide"
    }
   },
   "source": [
    "# Appending files `a`\n",
    "\n",
    "__Example:__ Append (add a new entry to the end of) scores.txt so that the table reads\n",
    "\n",
    "(Code structure identical to write, apart from mode specifier) \n",
    "  \n",
    "| |  | \n",
    "| :-: | :-: |  \n",
    "| Elena | 550 | \n",
    "| Sajid | 480 | \n",
    "| Tom | 380 | \n",
    "| Farhad | 305 | \n",
    "| Manesha | 150 | \n",
    "| Jen | 100 |\n"
   ]
  },
  {
   "cell_type": "code",
   "execution_count": 7,
   "metadata": {},
   "outputs": [],
   "source": [
    "f = open('sample_data/scores.txt', 'a')\n",
    "\n",
    "f.write('Jen 100\\n')\n",
    "\n",
    "f.close()\n"
   ]
  },
  {
   "cell_type": "markdown",
   "metadata": {
    "slideshow": {
     "slide_type": "slide"
    }
   },
   "source": [
    "# Reading Files `r`\n",
    "\n",
    "(Default argument so mode specifier can be omitted.)  \n",
    "\n",
    "File object is:\n",
    "- iterable (can use for loop etc)\n",
    "- not subscriptable (cannot index individual elements)"
   ]
  },
  {
   "cell_type": "code",
   "execution_count": 9,
   "metadata": {},
   "outputs": [
    {
     "ename": "TypeError",
     "evalue": "'_io.TextIOWrapper' object is not subscriptable",
     "output_type": "error",
     "traceback": [
      "\u001b[0;31m---------------------------------------------------------------------------\u001b[0m",
      "\u001b[0;31mTypeError\u001b[0m                                 Traceback (most recent call last)",
      "\u001b[0;32m<ipython-input-9-4c2da70e5fae>\u001b[0m in \u001b[0;36m<module>\u001b[0;34m\u001b[0m\n\u001b[1;32m      1\u001b[0m \u001b[0mf\u001b[0m \u001b[0;34m=\u001b[0m \u001b[0mopen\u001b[0m\u001b[0;34m(\u001b[0m\u001b[0;34m'sample_data/scores.txt'\u001b[0m\u001b[0;34m,\u001b[0m \u001b[0;34m'r'\u001b[0m\u001b[0;34m)\u001b[0m\u001b[0;34m\u001b[0m\u001b[0;34m\u001b[0m\u001b[0m\n\u001b[1;32m      2\u001b[0m \u001b[0;34m\u001b[0m\u001b[0m\n\u001b[0;32m----> 3\u001b[0;31m \u001b[0mprint\u001b[0m\u001b[0;34m(\u001b[0m\u001b[0mf\u001b[0m\u001b[0;34m[\u001b[0m\u001b[0;36m0\u001b[0m\u001b[0;34m]\u001b[0m\u001b[0;34m)\u001b[0m\u001b[0;34m\u001b[0m\u001b[0;34m\u001b[0m\u001b[0m\n\u001b[0m\u001b[1;32m      4\u001b[0m \u001b[0;34m\u001b[0m\u001b[0m\n\u001b[1;32m      5\u001b[0m \u001b[0;32mfor\u001b[0m \u001b[0mline\u001b[0m \u001b[0;32min\u001b[0m \u001b[0mf\u001b[0m\u001b[0;34m:\u001b[0m\u001b[0;34m\u001b[0m\u001b[0;34m\u001b[0m\u001b[0m\n",
      "\u001b[0;31mTypeError\u001b[0m: '_io.TextIOWrapper' object is not subscriptable"
     ]
    }
   ],
   "source": [
    "f = open('sample_data/scores.txt', 'r')\n",
    "\n",
    "\n",
    "for line in f:\n",
    "    print(line)"
   ]
  },
  {
   "cell_type": "markdown",
   "metadata": {
    "slideshow": {
     "slide_type": "slide"
    }
   },
   "source": [
    "\n",
    "\n",
    "The __stream position__:\n",
    "\n",
    "- can be thought of as a curser. \n",
    "- goes to end of file when an operation run on file object\n",
    "- can be returned to start (or any position) with `seek` "
   ]
  },
  {
   "cell_type": "code",
   "execution_count": 12,
   "metadata": {},
   "outputs": [
    {
     "name": "stdout",
     "output_type": "stream",
     "text": [
      "Elena 550\n",
      "Sajid 480\n",
      "Tom 380\n",
      "Farhad 305\n",
      "Manesha 150\n",
      "Jen 100\n"
     ]
    }
   ],
   "source": [
    "f = open('sample_data/scores.txt', 'r')    \n",
    "\n",
    "\n",
    "for line in f:  # iterable\n",
    "    print(line, end='') # each line is a string\n",
    "    \n",
    "#f.seek(0)      # stream position goes to end of file when operation run on file object\n",
    "                # can be returned to start with seek \n",
    "    \n",
    "for line in f:\n",
    "    print(line, end='') \n",
    "    \n",
    "f.close()"
   ]
  },
  {
   "cell_type": "markdown",
   "metadata": {
    "slideshow": {
     "slide_type": "slide"
    }
   },
   "source": [
    "If we convert the file object to a list:\n",
    "- it is subsriptable \n",
    "- the stream position of the list doesn't need to be reset after each operation\n",
    "- the stream position of the file object is at the end of the file after the list conversion operation"
   ]
  },
  {
   "cell_type": "markdown",
   "metadata": {
    "slideshow": {
     "slide_type": "slide"
    }
   },
   "source": [
    "__Example:__ \n",
    "\n",
    "Print the list of names and a list of scores from the file `'sample_data/scores.txt'`\n",
    "\n",
    "Print the name and score of the winner from the file `scores.txt'` "
   ]
  },
  {
   "cell_type": "code",
   "execution_count": 16,
   "metadata": {},
   "outputs": [
    {
     "name": "stdout",
     "output_type": "stream",
     "text": [
      "Elena 550\n",
      "\n",
      "Sajid 480\n",
      "\n"
     ]
    }
   ],
   "source": [
    "f = open('sample_data/scores.txt')\n",
    "\n",
    "file = list(f)\n",
    "\n",
    "#print(file[0:2])\n",
    "\n",
    "for line in file[:2]:\n",
    "    print(line)\n",
    "\n",
    "f.close()"
   ]
  },
  {
   "cell_type": "markdown",
   "metadata": {
    "slideshow": {
     "slide_type": "slide"
    }
   },
   "source": [
    "##### Try it yourself\n",
    "\n",
    "__Example:__ \n",
    "\n",
    "Print the first three names and scores from the file you created earlier `'scores.txt'`\n"
   ]
  },
  {
   "cell_type": "code",
   "execution_count": null,
   "metadata": {},
   "outputs": [],
   "source": []
  },
  {
   "cell_type": "markdown",
   "metadata": {
    "slideshow": {
     "slide_type": "slide"
    }
   },
   "source": [
    "# Reading and Writing with `r+`, `w+`, `a+`\n",
    "\n",
    "All modes can be used to read and write files. \n",
    "\n",
    "Differences that determine which to use:\n",
    "- Stream position when opened\n",
    "- How the stream position when opened affects `write() `\n",
    "\n",
    "\n",
    "<br>\n",
    "\n",
    "<br>\n",
    "\n",
    "\n",
    "| Mode specifier | Read (R)/Write (W)| File must already exist | If no file exists  | `write()`| Stream position when opened|\n",
    "| :-: | :-: | :-: | :-: | :-: | :-: | \n",
    "| `r+` | R+W |Yes | N/A | overwrites previous contents | start |\n",
    "| `w+` | R+W |No | Creates new file | overwrites all previous contents | start |\n",
    "| `a+` | R+W | No | Creates new file | appends text to end of file | end |\n",
    "\n"
   ]
  },
  {
   "cell_type": "markdown",
   "metadata": {
    "slideshow": {
     "slide_type": "slide"
    }
   },
   "source": [
    "# `a+`\n",
    "__Example__: When we want to edit (append only) and read.\n",
    "\n",
    "\n",
    "The stream position is: \n",
    "- at the *end* when opened (must be moved to the start to read). \n",
    "- always moved to the *end* before writing when `write` is called (previous contents never overwritten).\n",
    "- at the *end* after writing.  \n"
   ]
  },
  {
   "cell_type": "code",
   "execution_count": 17,
   "metadata": {},
   "outputs": [
    {
     "name": "stdout",
     "output_type": "stream",
     "text": [
      "Elena 550\n",
      "Sajid 480\n",
      "Tom 380\n",
      "Farhad 305\n",
      "Manesha 150\n",
      "Jen 100\n",
      "Tim 50\n",
      "Majid 500\n"
     ]
    }
   ],
   "source": [
    "f = open('sample_data/scores.txt', 'a+')\n",
    "\n",
    "f.write('Tim 50\\nMajid 500\\n')\n",
    "\n",
    "f.seek(0)\n",
    "\n",
    "for line in f:\n",
    "    print(line, end='')\n",
    "    \n",
    "f.close()"
   ]
  },
  {
   "cell_type": "markdown",
   "metadata": {
    "slideshow": {
     "slide_type": "slide"
    }
   },
   "source": [
    "# `r+`\n",
    "__Example__: When we want to read and edit.\n",
    "\n",
    "The stream position is: \n",
    "- at the *start* when opened  \n",
    "- at the *end* after reading "
   ]
  },
  {
   "cell_type": "code",
   "execution_count": 19,
   "metadata": {},
   "outputs": [
    {
     "name": "stdout",
     "output_type": "stream",
     "text": [
      "Elena 550\n",
      "Sajid 480\n",
      "Tom 380\n",
      "Farhad 305\n",
      "Manesha 150\n",
      "Jen 100\n",
      "Tim 50\n",
      "Majid 500\n",
      "Elena 550\n",
      "Sajid 480\n",
      "Tom 380\n",
      "Farhad 305\n",
      "Manesha 150\n",
      "Jen 100\n",
      "Tim 50\n",
      "Majid 500\n",
      "Ben 50\n",
      "Ola 500\n"
     ]
    }
   ],
   "source": [
    "f = open('sample_data/scores.txt', 'r+')\n",
    "\n",
    "for line in f:\n",
    "    print(line, end='')\n",
    "    \n",
    "f.write('Ben 50\\n')\n",
    "f.write('Ola 500\\n')\n",
    "\n",
    "f.seek(0)\n",
    "\n",
    "for line in f:\n",
    "    print(line, end='')\n",
    "    \n",
    "f.close()\n",
    "    "
   ]
  },
  {
   "cell_type": "markdown",
   "metadata": {
    "slideshow": {
     "slide_type": "slide"
    }
   },
   "source": [
    "# `w+`\n",
    "__Example__: When we want to overwrite file then read \n",
    "\n",
    "The stream position is:\n",
    "- at the *start* when opened (previous contents overwritten).\n",
    "- at the *end* after writing (subsequent lines added using `write` will appended the file, not overwrite previous contents, until file is closed). \n",
    "\n",
    "Writing *must* happen before reading. \n"
   ]
  },
  {
   "cell_type": "code",
   "execution_count": 21,
   "metadata": {
    "slideshow": {
     "slide_type": "slide"
    }
   },
   "outputs": [
    {
     "name": "stdout",
     "output_type": "stream",
     "text": [
      "Tim 50\n",
      "\n",
      "Majid 500\n",
      "\n",
      "Ola 500\n",
      "\n"
     ]
    }
   ],
   "source": [
    "f = open('sample_data/scores.txt', 'w+')\n",
    "\n",
    "f.write('Tim 50\\nMajid 500\\n')\n",
    "\n",
    "for line in f:\n",
    "    print(line)\n",
    "    \n",
    "f.write('Ola 500\\n')\n",
    "\n",
    "f.seek(0)\n",
    "\n",
    "for line in f:\n",
    "    print(line)\n",
    "    \n",
    "    \n"
   ]
  },
  {
   "cell_type": "markdown",
   "metadata": {
    "slideshow": {
     "slide_type": "slide"
    }
   },
   "source": [
    "\n",
    "# Editing file contents  - a word of warning! \n",
    "\n",
    "Unlike the `a+` mode specifier `r+` and `w+` allow writing from *anywhere* in the file.\n",
    "\n",
    "When characters are overwritten, this can lead to unexpected behaviour.  \n",
    "\n",
    "__Example:__ Replace the first two items in the table in scores.txt with two new entries. "
   ]
  },
  {
   "cell_type": "code",
   "execution_count": 22,
   "metadata": {},
   "outputs": [
    {
     "name": "stdout",
     "output_type": "stream",
     "text": [
      "Sid 50\n",
      "Jo 20\n",
      "500\n",
      "Ola 500\n"
     ]
    }
   ],
   "source": [
    "f = open('sample_data/scores.txt', 'r+') # stream position at start of file\n",
    "\n",
    "    \n",
    "f.write('Sid 50\\n')                      # overwrite \n",
    "f.write('Jo 20\\n')\n",
    "\n",
    "f.seek(0)\n",
    "\n",
    "for line in f:                           # read \n",
    "    print(line, end='')\n",
    "\n",
    "    \n",
    "f.close()"
   ]
  },
  {
   "cell_type": "markdown",
   "metadata": {},
   "source": [
    "The original data is longer than the replacement data. \n",
    "\n",
    "Some original charcters are overwritten with new letters and `'\\n'` characters. \n",
    "\n",
    "The extra characters are left as they were in the original file. \n",
    "\n",
    "```python\n",
    "    Tim 50\\nMajid  500\\n\n",
    "    Sid 50\\nJo 20\\n \n",
    "```\n",
    "   "
   ]
  },
  {
   "cell_type": "markdown",
   "metadata": {
    "slideshow": {
     "slide_type": "slide"
    }
   },
   "source": [
    "It is advisable to:\n",
    "1. convert the data you want to edit to an format to a easy-to-edit Python data structure\n",
    "1. overwrite the original file"
   ]
  },
  {
   "cell_type": "markdown",
   "metadata": {
    "slideshow": {
     "slide_type": "slide"
    }
   },
   "source": [
    "__Example__: Edit the file to remove the unwanted line that reads `500` (between Jo and Ola).  \n",
    "\n",
    "The file can be erased from a position onwards with `truncate()`, (default position is current position)"
   ]
  },
  {
   "cell_type": "code",
   "execution_count": 23,
   "metadata": {},
   "outputs": [
    {
     "name": "stdout",
     "output_type": "stream",
     "text": [
      "['Sid 50\\n', 'Jo 20\\n', 'Ola 500\\n']\n"
     ]
    }
   ],
   "source": [
    "f = open('sample_data/scores.txt', 'r+')\n",
    "\n",
    "file = list(f)\n",
    "\n",
    "del file[2]\n",
    "\n",
    "print(file)\n",
    "\n",
    "f.seek(0)\n",
    "\n",
    "for line in file:\n",
    "    f.write(line)\n",
    "    \n",
    "f.truncate()\n",
    "\n",
    "f.close()\n"
   ]
  },
  {
   "cell_type": "code",
   "execution_count": 24,
   "metadata": {
    "slideshow": {
     "slide_type": "slide"
    }
   },
   "outputs": [
    {
     "name": "stdout",
     "output_type": "stream",
     "text": [
      "Sid 50\n",
      "Jo 20\n",
      "Ola 500\n"
     ]
    }
   ],
   "source": [
    "f = open('sample_data/scores.txt', 'r+') \n",
    "\n",
    "for line in f:               # read file contents\n",
    "    print(line, end='')\n",
    "    \n",
    "f.close()"
   ]
  },
  {
   "cell_type": "markdown",
   "metadata": {
    "slideshow": {
     "slide_type": "slide"
    }
   },
   "source": [
    "# Automatically closing files\n",
    "It can be easy to forget to close a file with `close()`\n",
    "\n",
    "`with open()` can be used instead of `open()` to remove the need for `close()`:"
   ]
  },
  {
   "cell_type": "code",
   "execution_count": 25,
   "metadata": {
    "slideshow": {
     "slide_type": "-"
    }
   },
   "outputs": [
    {
     "name": "stdout",
     "output_type": "stream",
     "text": [
      "next bit of the program\n"
     ]
    }
   ],
   "source": [
    "with open('sample_data/scores.txt', 'a') as f:\n",
    "    f.write('Ria 460 \\n')\n",
    "    \n",
    "print('next bit of the program') # Code unindents. File automatically closed\n"
   ]
  },
  {
   "cell_type": "code",
   "execution_count": 26,
   "metadata": {
    "slideshow": {
     "slide_type": "-"
    }
   },
   "outputs": [
    {
     "name": "stdout",
     "output_type": "stream",
     "text": [
      "Sid 50\n",
      "Jo 20\n",
      "Ola 500\n",
      "Ria 460 \n",
      "\n"
     ]
    }
   ],
   "source": [
    "with open('sample_data/scores.txt', 'r') as f:\n",
    "    print(f.read())\n",
    "    "
   ]
  },
  {
   "cell_type": "markdown",
   "metadata": {
    "slideshow": {
     "slide_type": "slide"
    }
   },
   "source": [
    "# Summary \n",
    "- Python functions for reading and writing files: `open()`, `read()`, `write()`, `close()`\n",
    "- The __mode specifier__ defines operations that can be performed on the opened file \n",
    "- Files must always be closed after opening\n",
    "- Files can be automatically closed by opening with `with open`\n"
   ]
  },
  {
   "cell_type": "markdown",
   "metadata": {
    "slideshow": {
     "slide_type": "skip"
    }
   },
   "source": [
    "__Extra Example:__ Change the first row of scores.txt to Mia"
   ]
  },
  {
   "cell_type": "code",
   "execution_count": 369,
   "metadata": {
    "slideshow": {
     "slide_type": "skip"
    }
   },
   "outputs": [
    {
     "name": "stdout",
     "output_type": "stream",
     "text": [
      "[['Sid', '50'], ['Jo', '20'], [], ['Ola', '500'], ['Ria', '460'], ['Ria', '460']]\n"
     ]
    },
    {
     "ename": "IndexError",
     "evalue": "list index out of range",
     "output_type": "error",
     "traceback": [
      "\u001b[0;31m---------------------------------------------------------------------------\u001b[0m",
      "\u001b[0;31mIndexError\u001b[0m                                Traceback (most recent call last)",
      "\u001b[0;32m<ipython-input-369-6891327a88c9>\u001b[0m in \u001b[0;36m<module>\u001b[0;34m\u001b[0m\n\u001b[1;32m      5\u001b[0m     \u001b[0mL\u001b[0m \u001b[0;34m=\u001b[0m \u001b[0;34m[\u001b[0m\u001b[0mline\u001b[0m\u001b[0;34m.\u001b[0m\u001b[0msplit\u001b[0m\u001b[0;34m(\u001b[0m\u001b[0;34m)\u001b[0m \u001b[0;32mfor\u001b[0m \u001b[0mline\u001b[0m \u001b[0;32min\u001b[0m \u001b[0mfile\u001b[0m\u001b[0;34m]\u001b[0m   \u001b[0;31m# list of lists\u001b[0m\u001b[0;34m\u001b[0m\u001b[0;34m\u001b[0m\u001b[0m\n\u001b[1;32m      6\u001b[0m     \u001b[0mprint\u001b[0m\u001b[0;34m(\u001b[0m\u001b[0mL\u001b[0m\u001b[0;34m)\u001b[0m\u001b[0;34m\u001b[0m\u001b[0;34m\u001b[0m\u001b[0m\n\u001b[0;32m----> 7\u001b[0;31m     \u001b[0mnames\u001b[0m \u001b[0;34m=\u001b[0m \u001b[0;34m[\u001b[0m\u001b[0mi\u001b[0m\u001b[0;34m[\u001b[0m\u001b[0;36m0\u001b[0m\u001b[0;34m]\u001b[0m \u001b[0;32mfor\u001b[0m \u001b[0mi\u001b[0m \u001b[0;32min\u001b[0m \u001b[0mL\u001b[0m\u001b[0;34m]\u001b[0m             \u001b[0;31m# names and scores\u001b[0m\u001b[0;34m\u001b[0m\u001b[0;34m\u001b[0m\u001b[0m\n\u001b[0m\u001b[1;32m      8\u001b[0m     \u001b[0mscores\u001b[0m \u001b[0;34m=\u001b[0m \u001b[0;34m[\u001b[0m\u001b[0mi\u001b[0m\u001b[0;34m[\u001b[0m\u001b[0;36m1\u001b[0m\u001b[0;34m]\u001b[0m \u001b[0;32mfor\u001b[0m \u001b[0mi\u001b[0m \u001b[0;32min\u001b[0m \u001b[0mL\u001b[0m\u001b[0;34m]\u001b[0m\u001b[0;34m\u001b[0m\u001b[0;34m\u001b[0m\u001b[0m\n\u001b[1;32m      9\u001b[0m \u001b[0;34m\u001b[0m\u001b[0m\n",
      "\u001b[0;32m<ipython-input-369-6891327a88c9>\u001b[0m in \u001b[0;36m<listcomp>\u001b[0;34m(.0)\u001b[0m\n\u001b[1;32m      5\u001b[0m     \u001b[0mL\u001b[0m \u001b[0;34m=\u001b[0m \u001b[0;34m[\u001b[0m\u001b[0mline\u001b[0m\u001b[0;34m.\u001b[0m\u001b[0msplit\u001b[0m\u001b[0;34m(\u001b[0m\u001b[0;34m)\u001b[0m \u001b[0;32mfor\u001b[0m \u001b[0mline\u001b[0m \u001b[0;32min\u001b[0m \u001b[0mfile\u001b[0m\u001b[0;34m]\u001b[0m   \u001b[0;31m# list of lists\u001b[0m\u001b[0;34m\u001b[0m\u001b[0;34m\u001b[0m\u001b[0m\n\u001b[1;32m      6\u001b[0m     \u001b[0mprint\u001b[0m\u001b[0;34m(\u001b[0m\u001b[0mL\u001b[0m\u001b[0;34m)\u001b[0m\u001b[0;34m\u001b[0m\u001b[0;34m\u001b[0m\u001b[0m\n\u001b[0;32m----> 7\u001b[0;31m     \u001b[0mnames\u001b[0m \u001b[0;34m=\u001b[0m \u001b[0;34m[\u001b[0m\u001b[0mi\u001b[0m\u001b[0;34m[\u001b[0m\u001b[0;36m0\u001b[0m\u001b[0;34m]\u001b[0m \u001b[0;32mfor\u001b[0m \u001b[0mi\u001b[0m \u001b[0;32min\u001b[0m \u001b[0mL\u001b[0m\u001b[0;34m]\u001b[0m             \u001b[0;31m# names and scores\u001b[0m\u001b[0;34m\u001b[0m\u001b[0;34m\u001b[0m\u001b[0m\n\u001b[0m\u001b[1;32m      8\u001b[0m     \u001b[0mscores\u001b[0m \u001b[0;34m=\u001b[0m \u001b[0;34m[\u001b[0m\u001b[0mi\u001b[0m\u001b[0;34m[\u001b[0m\u001b[0;36m1\u001b[0m\u001b[0;34m]\u001b[0m \u001b[0;32mfor\u001b[0m \u001b[0mi\u001b[0m \u001b[0;32min\u001b[0m \u001b[0mL\u001b[0m\u001b[0;34m]\u001b[0m\u001b[0;34m\u001b[0m\u001b[0;34m\u001b[0m\u001b[0m\n\u001b[1;32m      9\u001b[0m \u001b[0;34m\u001b[0m\u001b[0m\n",
      "\u001b[0;31mIndexError\u001b[0m: list index out of range"
     ]
    }
   ],
   "source": [
    "with open('sample_data/scores.txt', 'r+') as f:\n",
    "\n",
    "    file = list(f)                        # convert to list of strings (lines)\n",
    "\n",
    "    L = [line.split() for line in file]   # list of lists\n",
    "    print(L)\n",
    "    names = [i[0] for i in L]             # names and scores\n",
    "    scores = [i[1] for i in L]\n",
    "    \n",
    "    ##################################\n",
    "    \n",
    "    names[0] = 'Mia'                      # replace element 0\n",
    "    scores[0] = '700'\n",
    "    \n",
    "    f.seek(0)                             # go to start\n",
    "    \n",
    "    for n, s in zip(names, scores):\n",
    "        f.write(n + ' ' + s + '\\n')       # over write original contents \n",
    "    \n",
    "    f.truncate()                          # trim any trailing characters\n",
    "    "
   ]
  },
  {
   "cell_type": "code",
   "execution_count": null,
   "metadata": {},
   "outputs": [],
   "source": []
  }
 ],
 "metadata": {
  "celltoolbar": "Slideshow",
  "kernelspec": {
   "display_name": "Python 3",
   "language": "python",
   "name": "python3"
  },
  "language_info": {
   "codemirror_mode": {
    "name": "ipython",
    "version": 3
   },
   "file_extension": ".py",
   "mimetype": "text/x-python",
   "name": "python",
   "nbconvert_exporter": "python",
   "pygments_lexer": "ipython3",
   "version": "3.8.3"
  }
 },
 "nbformat": 4,
 "nbformat_minor": 5
}
