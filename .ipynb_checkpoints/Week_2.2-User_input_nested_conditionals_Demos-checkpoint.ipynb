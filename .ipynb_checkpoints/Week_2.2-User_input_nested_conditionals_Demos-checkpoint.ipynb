{
 "cells": [
  {
   "cell_type": "markdown",
<<<<<<< HEAD
   "id": "ea4553e3",
=======
>>>>>>> refs/remotes/origin/main
   "metadata": {
    "slideshow": {
     "slide_type": "slide"
    }
   },
   "source": [
    "# Introduction to Computer Programming\n",
    "\n",
    "## 2.2 User input & nested conditionals\n",
    "\n",
    "<img src=\"img/full-colour-logo-UoB.png\" alt=\"Drawing\" style=\"width: 300px;\"/>"
   ]
  },
  {
   "cell_type": "markdown",
<<<<<<< HEAD
   "id": "5af53b97",
=======
>>>>>>> refs/remotes/origin/main
   "metadata": {
    "slideshow": {
     "slide_type": "slide"
    }
   },
   "source": [
    "# In-class Demos"
   ]
  },
  {
   "cell_type": "markdown",
<<<<<<< HEAD
   "id": "143a027d",
=======
>>>>>>> refs/remotes/origin/main
   "metadata": {
    "slideshow": {
     "slide_type": "slide"
    }
   },
   "source": [
    "__Example 1:__ \n",
    "\n",
    "Again, translate the flow diagram into a program. <br>This time, the program should accept the users age, and ability to drive (if they are an adult) using `input`. \n",
    "\n",
    "<center>\n",
    "  <img src=\"img/adult_child.png\" alt=\"Drawing\" style=\"width: 300px;\"/>\n",
    "</center>"
   ]
  },
  {
   "cell_type": "code",
   "execution_count": 31,
<<<<<<< HEAD
   "id": "0fcdb557",
=======
>>>>>>> refs/remotes/origin/main
   "metadata": {},
   "outputs": [
    {
     "name": "stdout",
     "output_type": "stream",
     "text": [
      "enter your age: 18\n",
      "can you drive? (True/False) True\n",
      "adult who can drive\n"
     ]
    }
   ],
   "source": [
    "age = input('enter your age: ')\n",
    "age = int(age)\n",
    "\n",
    "if age>=18:\n",
    "    status = \"adult\"\n",
    "    driver = input('can you drive? (True/False) ') # String 'True' cannot be converted to boolean True by casting\n",
    "    \n",
    "    if driver == 'True':                           # nested if  \n",
    "        status = status + \" who can drive\"\n",
    "        \n",
    "    print(status)\n",
    "    \n",
    "else:\n",
    "    print(\"child\")"
   ]
  },
  {
   "cell_type": "markdown",
<<<<<<< HEAD
   "id": "2aee3931",
=======
>>>>>>> refs/remotes/origin/main
   "metadata": {
    "slideshow": {
     "slide_type": "slide"
    }
   },
   "source": [
    "__Example 2:__ Write a program that:\n",
    "- asks the user to input a number\n",
    "- checks if a number is odd or even \n",
    "- checks if input even numbers are multiples of 4\n",
    "- checks if input odd numbers are multiples of 3\n",
    "\n",
<<<<<<< HEAD
    "__Hint:__ In a conditional statement, non-zero values are treated as `True`, zero is treated as `False`. <br>i.e. We can write shorter, neater code by omitting `==True` "
=======
    "__Hint:__ In a conditional statement:\n",
    "- non-zero values are treated as True\n",
    "- zero is treated as false"
>>>>>>> refs/remotes/origin/main
   ]
  },
  {
   "cell_type": "code",
<<<<<<< HEAD
   "execution_count": 25,
   "id": "7cf28651",
=======
   "execution_count": 7,
>>>>>>> refs/remotes/origin/main
   "metadata": {},
   "outputs": [
    {
     "name": "stdout",
     "output_type": "stream",
     "text": [
<<<<<<< HEAD
      "Enter a number: 3\n",
      "odd and multiple of 3\n"
=======
      "Enter a number: 33\n",
      "odd number and multiple of 3\n"
>>>>>>> refs/remotes/origin/main
     ]
    }
   ],
   "source": [
    "N = input('Enter a number: ')\n",
    "N = int(N)\n",
    "\n",
<<<<<<< HEAD
    "if N % 2 : \n",
    "    print('odd', end='')\n",
    "    \n",
    "    if not N % 3:\n",
    "        print(' and multiple of 3')\n",
    "    \n",
    "else:\n",
    "    print('even')\n",
    "    \n",
    "    if not N % 4 :\n",
    "        print(' and multiple of 4')"
=======
    "if N % 2:\n",
    "    print('odd number', end='')\n",
    "    \n",
    "    if not N % 3:\n",
    "        print(' and multiple of 3')\n",
    "\n",
    "else:\n",
    "    print('even number', end='')\n",
    "    \n",
    "    if not N % 4:\n",
    "        print(' and mulitple of 4')\n",
    "        \n",
    "\n",
    "    "
>>>>>>> refs/remotes/origin/main
   ]
  }
 ],
 "metadata": {
  "celltoolbar": "Slideshow",
  "kernelspec": {
   "display_name": "Python 3",
   "language": "python",
   "name": "python3"
  },
  "language_info": {
   "codemirror_mode": {
    "name": "ipython",
    "version": 3
   },
   "file_extension": ".py",
   "mimetype": "text/x-python",
   "name": "python",
   "nbconvert_exporter": "python",
   "pygments_lexer": "ipython3",
<<<<<<< HEAD
   "version": "3.8.8"
=======
   "version": "3.7.4"
>>>>>>> refs/remotes/origin/main
  }
 },
 "nbformat": 4,
 "nbformat_minor": 5
}
