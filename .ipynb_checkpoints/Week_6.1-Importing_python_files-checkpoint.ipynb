{
 "cells": [
  {
   "cell_type": "markdown",
   "metadata": {
    "slideshow": {
     "slide_type": "slide"
    }
   },
   "source": [
    "# Introduction to Computer Programming\n",
    "\n",
    "## Week 6.1: Importing Python files \n",
    "\n",
    "* * *\n",
    "\n",
    "<img src=\"img/full-colour-logo-UoB.png\" alt=\"Bristol\" style=\"width: 300px;\"/>"
   ]
  },
  {
   "cell_type": "markdown",
   "metadata": {
    "slideshow": {
     "slide_type": "slide"
    }
   },
   "source": [
    "__Modularity:__ <br>Breaking large chunks of code into smaller, more manageable pieces. \n",
    "\n",
    "Useful blocks of code (e.g. variables, functions, classes) can be stored in a python file (a __module__)\n",
    "\n",
    "The python __module__ is then `import`ed for use in a python program saved elsewhere on your computer. "
   ]
  },
  {
   "cell_type": "markdown",
   "metadata": {
    "slideshow": {
     "slide_type": "slide"
    }
   },
   "source": [
    "__Example__ The Python module, `math`installs with Python<br>\n",
    "https://docs.python.org/3/library/math.html"
   ]
  },
  {
   "cell_type": "code",
   "execution_count": 2,
   "metadata": {},
   "outputs": [
    {
     "name": "stdout",
     "output_type": "stream",
     "text": [
      "3.141592653589793\n"
     ]
    }
   ],
   "source": [
    "import math\n",
    "\n",
    "print(math.pi)\n"
   ]
  },
  {
   "cell_type": "markdown",
   "metadata": {
    "slideshow": {
     "slide_type": "slide"
    }
   },
   "source": [
    "__Module:__ <br>\n",
    "A python file containing python code - variables, functions, classes etc - (designed to be imported).\n",
    "\n",
    "__Package:__ <br>A file directory (folder) containing python files (and other directories).\n",
    "\n",
    "__Script:__ <br>A top level file, run as an program (not designed to be imported).\n"
   ]
  },
  {
   "cell_type": "markdown",
   "metadata": {
    "slideshow": {
     "slide_type": "slide"
    }
   },
   "source": [
    "__Example:__ Four files in the same directory, `fruit`\n",
    "<center>\n",
    "<img src=\"img/fruit_folder_1.png\" alt=\"Bristol\" style=\"width: 700px;\"/>\n",
    "    \n",
    "`__init__.py`__:__ <br>Required to make Python treat a directory as a package. \n",
    "<br>Can be empty or execute initialization code for a package.\n"
   ]
  },
  {
   "cell_type": "markdown",
   "metadata": {
    "slideshow": {
     "slide_type": "slide"
    }
   },
   "source": [
    "__Example:__ Four files in the same directory, `fruit`\n",
    "<br>Import variables from `banana.py` and `strawberry.py` into `main.py`:\n",
    "\n",
    "```python\n",
    "fruit/\n",
    "│\n",
    "├── __init__.py\n",
    "├── banana.py\n",
    "├── strawberry.py\n",
    "└── main.py\n",
    "```"
   ]
  },
  {
   "cell_type": "markdown",
   "metadata": {
    "slideshow": {
     "slide_type": "slide"
    }
   },
   "source": [
    "Contents of four files in the same directory.<br>\n",
    " \n",
    "***\n",
    "`__init__.py`\n",
    "\n",
    "``` python\n",
    "\n",
    "    # (empty file)\n",
    "    \n",
    "```\n",
    "***\n",
    "`banana.py`\n",
    "\n",
    "``` python\n",
    "\n",
    "    word = 'banana'  \n",
    "    \n",
    "```\n",
    "\n",
    "***\n",
    "`strawberry.py`\n",
    "\n",
    "``` python\n",
    "\n",
    "    word = 'strawberry' \n",
    "    \n",
    "```\n",
    "***\n",
    "`main.py`\n",
    "\n",
    "``` python\n",
    "\n",
    "    import banana\n",
    "    import strawberry\n",
    "    print(banana.word)\n",
    "    print(strawberry.word)\n",
    "    \n",
    "```\n",
    "***\n",
    "\n",
    "When we run `main.py` the contents (variables) of `banana.py` and `strawberry.py` are imported and can be used within the `main.py` program."
   ]
  },
  {
   "cell_type": "markdown",
   "metadata": {
    "slideshow": {
     "slide_type": "slide"
    }
   },
   "source": [
    "<a id='LocalNamespace'></a>\n",
    "\n",
    "### Namespaces\n",
    "Each Python file has a local namespace.\n",
    "\n",
    "This is a “symbol table” that contains the names of imported modules, packages etc. \n",
    "\n",
    "When you import a package/module, the part after `import` gets added to the local namespace.\n",
    "\n",
    "This part should be used to prepend all variables etc from the imported module, to use them in the current program.  "
   ]
  },
  {
   "cell_type": "markdown",
   "metadata": {
    "collapsed": true,
    "slideshow": {
     "slide_type": "slide"
    }
   },
   "source": [
    "\n",
    "\n",
    "\n",
    "We prepend `word` with the name,  `strawberry` when we want to print `'strawberry'`.\n",
    "\n",
    "We prepend `word` with the name,  `banana` when we want to print `'banana'`.\n",
    "\n",
    "The names in the namespace indicates which module/package to import the variable/function etc from."
   ]
  },
  {
   "cell_type": "markdown",
   "metadata": {
    "slideshow": {
     "slide_type": "slide"
    }
   },
   "source": [
    "__Example:__ Three files in the same directory, `fruit`\n",
    "<br>Import a __function__ from `banana.py`into `main.py`:\n",
    "\n",
    "```python\n",
    "fruit/\n",
    "│\n",
    "├── __init__.py\n",
    "├── banana.py\n",
    "└── main.py\n",
    "```"
   ]
  },
  {
   "cell_type": "markdown",
   "metadata": {
    "slideshow": {
     "slide_type": "-"
    }
   },
   "source": [
    "\n",
    "***\n",
    "`__init__.py`\n",
    "\n",
    "``` python\n",
    "\n",
    "    # (empty file)\n",
    "    \n",
    "```\n",
    "***\n",
    "`banana.py`\n",
    "\n",
    "``` python\n",
    "\n",
    "    def peel():\n",
    "        print('peel')  \n",
    "        \n",
    "```\n",
    "***\n",
    "`main.py`\n",
    "\n",
    "``` python\n",
    "\n",
    "    import banana\n",
    "    banana.peel()\n",
    "    \n",
    "```\n",
    "***\n",
    "\n",
    "When `banana` is imported, the function `peel` is imported. "
   ]
  },
  {
   "cell_type": "markdown",
   "metadata": {
    "slideshow": {
     "slide_type": "slide"
    }
   },
   "source": [
    "__Example:__ Three files in the same directory, `fruit`\n",
    "<br>Import a __class__ from `banana.py`into `main.py`:\n",
    "\n",
    "```python\n",
    "fruit/\n",
    "│\n",
    "├── __init__.py\n",
    "├── banana.py\n",
    "└── main.py\n",
    "```"
   ]
  },
  {
   "cell_type": "markdown",
   "metadata": {
    "slideshow": {
     "slide_type": "slide"
    }
   },
   "source": [
    "\n",
    "***\n",
    "`__init__.py`\n",
    "\n",
    "``` python\n",
    "\n",
    "    # (empty file)\n",
    "    \n",
    "    \n",
    "```\n",
    "***\n",
    "`banana.py`\n",
    "\n",
    "``` python\n",
    "\n",
    "    class Banana():\n",
    "        def __init__(self):\n",
    "            pass\n",
    "        def peel(self):\n",
    "            print('Peel!') \n",
    "            \n",
    "```\n",
    "        \n",
    "***\n",
    "`main.py`\n",
    "\n",
    "``` python\n",
    "\n",
    "    import banana\n",
    "    b = banana.Banana()\n",
    "    b.peel()\n",
    "    \n",
    "```\n",
    "***\n",
    "\n",
    "When `banana` is imported, the class `Banana` is imported. "
   ]
  },
  {
   "cell_type": "markdown",
   "metadata": {
    "slideshow": {
     "slide_type": "slide"
    }
   },
   "source": [
    "### Changing the module name in the local namespace\n",
    "\n",
    "We can change the name of the imported module e.g. to make it shorter:\n",
    "\n",
    "In main.py, you can change the lines:\n",
    "``` python\n",
    "    import strawberry\n",
    "    print(strawberry.word)\n",
    "```\n",
    "to \n",
    "``` python\n",
    "    import strawberry as s\n",
    "    print(s.word)\n",
    "```"
   ]
  },
  {
   "cell_type": "markdown",
   "metadata": {
    "slideshow": {
     "slide_type": "slide"
    }
   },
   "source": [
    "### Importing *individual items* from a module\n",
    "\n",
    "Whatever comes after `import` is added to the local namespace\n",
    "\n",
    "In main.py, you can change the lines:\n",
    "``` python\n",
    "    import strawberry\n",
    "    print(strawberry.word)\n",
    "```\n",
    "to \n",
    "``` python\n",
    "    from strawberry import word\n",
    "    print(word)\n",
    "```\n",
    "\n",
    "\n",
    "        "
   ]
  },
  {
   "cell_type": "markdown",
   "metadata": {
    "slideshow": {
     "slide_type": "slide"
    }
   },
   "source": [
    "Note: In this example `word` is now the only part of `strawberry` that has been imported. "
   ]
  },
  {
   "cell_type": "markdown",
   "metadata": {
    "slideshow": {
     "slide_type": "slide"
    }
   },
   "source": [
    "### Importing *individual items* from a module - A word of warning! \n",
    "\n",
    "A name can only have one associated value in a program. \n",
    "\n",
    "__Example:__ Importing two variables with the same name\n",
    "``` python\n",
    "    from strawberry import word\n",
    "    from banana import word\n",
    "```\n",
    "\n",
    "__Question:__ What will be the output of `print(word)`? "
   ]
  },
  {
   "cell_type": "markdown",
   "metadata": {
    "slideshow": {
     "slide_type": "slide"
    }
   },
   "source": [
    "Namespaces can be helpful - items (variables, functions) with the *same name* but from *different modules* can be used. "
   ]
  },
  {
   "cell_type": "markdown",
   "metadata": {
    "slideshow": {
     "slide_type": "slide"
    }
   },
   "source": [
    "### Importing *all contents* of a module \n",
    "``` python\n",
    "        from strawberry import *\n",
    "        print(word)\n",
    "```"
   ]
  },
  {
   "cell_type": "markdown",
   "metadata": {
    "slideshow": {
     "slide_type": "slide"
    }
   },
   "source": [
    "### Importing *all contents* of a module  - A word of warning! \n",
    "\n",
    "It is inadvisable to use `from <module name> import *` where you do not know the full content of a module <br> (e.g. a large module or a module written by a developer downloaded from the internet).\n",
    "\n",
    "You may unknowingly reassign the functionality of a variable or function, effecting the behaviour of your program. \n",
    "\n",
    "It may be appropriate to use `import *` with a small, specific, user-defined module. "
   ]
  },
  {
   "cell_type": "markdown",
   "metadata": {
    "slideshow": {
     "slide_type": "slide"
    }
   },
   "source": [
    "#### Example: Square Root\n",
    "\n",
    "`math` and `cmath` modules contain a function named `sqrt`. \n",
    "\n",
    "Both functions compute the square root of the input.\n",
    "\n",
    " - `math.sqrt`, from the package, `math`, gives an error if the input is a negative number. It does not support complex numbers.\n",
    " - `cmath.sqrt`, from the package, `cmath`, supports complex numbers.\n"
   ]
  },
  {
   "cell_type": "code",
   "execution_count": 6,
   "metadata": {
    "slideshow": {
     "slide_type": "-"
    }
   },
   "outputs": [
    {
     "name": "stdout",
     "output_type": "stream",
     "text": [
      "(2+0j)\n",
      "1j\n"
     ]
    }
   ],
   "source": [
    "from math import *\n",
    "from cmath import *\n",
    "\n",
    "print(sqrt(4))\n",
    "print(sqrt(-1))"
   ]
  },
  {
   "cell_type": "markdown",
   "metadata": {
    "slideshow": {
     "slide_type": "slide"
    }
   },
   "source": [
    "# Summary\n",
    "\n",
    "- __Module:__ A python file containing python code (variables, functions, classes etc) (designed to be imported).\n",
    "\n",
    "- __Package:__ A file directory (folder) containing python files (and other directories).\n",
    "\n",
    "- __Script:__ A top level file, run as an program (not designed to be imported).\n",
    "\n",
    "- `__init__.py`__:__ Required to make Python treat a directory as a package. \n",
    "\n",
    "\n",
    "- When you import a package/module, the part after `import` should be used to prepend all objects (variables, functions etc) from the imported module, to use them in the current program. \n",
    "\n",
    "- We can rename packages when they are imported.\n",
    "\n",
    "- Individual objects (variables, functions etc) can be imported. "
   ]
  },
  {
   "cell_type": "markdown",
   "metadata": {
    "slideshow": {
     "slide_type": "slide"
    }
   },
   "source": [
    "***\n",
    "Importing module:\n",
    "``` python\n",
    "    import strawberry\n",
    "    print(strawberry.word)\n",
    "```\n",
    "***\n",
    "Renaming :\n",
    "``` python\n",
    "    import strawberry as strawb \n",
    "    print(strawb.word)\n",
    "```\n",
    "***\n",
    "Importing object (e.g. variable, function, class...):\n",
    "``` python\n",
    "    from strawberry import word\n",
    "    print(word)\n",
    "```\n",
    "***\n",
    "Importing and renaming object\n",
    "``` python\n",
    "    from strawberry import word as w\n",
    "    print(w)\n",
    "    \n",
    "```\n",
    "***"
   ]
  },
  {
   "cell_type": "markdown",
   "metadata": {
    "slideshow": {
     "slide_type": "slide"
    }
   },
   "source": [
    "# In-class Demos"
   ]
  },
  {
   "cell_type": "markdown",
   "metadata": {
    "slideshow": {
     "slide_type": "slide"
    }
   },
   "source": [
    "##### Try it yourself\n",
    "__Example 1a:__ \n",
    "\n",
    "Create the file structure shown below within a new folder called `lecture_6`. \n",
    "\n",
    "Add the content shown within each file. \n",
    "\n",
    "\n",
    "```python\n",
    "lecture_6/\n",
    "│\n",
    "├── __init__.py\n",
    "├── capitals.py\n",
    "└── main.py\n",
    "```\n",
    "\n",
    "\n",
    "***\n",
    "`__init__.py`\n",
    "``` python\n",
    "\n",
    "    # (empty file)\n",
    "    \n",
    "```\n",
    "***\n",
    "`capitals.py`\n",
    "``` python\n",
    "    Japan = ('Japan', 'Tokyo')\n",
    "    Germany = ('Germany', 'Berlin')\n",
    "```\n",
    "***\n",
    "`main.py`\n",
    "``` python\n",
    "    # (empty file)\n",
    "```\n",
    "***"
   ]
  },
  {
   "cell_type": "markdown",
   "metadata": {
    "slideshow": {
     "slide_type": "slide"
    }
   },
   "source": [
    "__Example 1b:__ \n",
    "\n",
    "Within `main.py`, print the output below: <br> `The capital of Japan is Tokyo`"
   ]
  },
  {
   "cell_type": "markdown",
   "metadata": {
    "slideshow": {
     "slide_type": "slide"
    }
   },
   "source": [
    "## F strings\n",
    "(formatted string literals)\n",
    "\n",
    "Strings that have:\n",
    "- an f at the beginning \n",
    "- curly braces containing expressions that are replaced with their values\n"
   ]
  },
  {
   "cell_type": "code",
   "execution_count": 7,
   "metadata": {},
   "outputs": [
    {
     "name": "stdout",
     "output_type": "stream",
     "text": [
      "I have 10 apples and 6 pears\n",
      "I have 10 apples and 6 pears\n"
     ]
    }
   ],
   "source": [
    "A = 10\n",
    "\n",
    "B = 6\n",
    "\n",
    "print(f'I have', A, 'apples and', B, 'pears')\n",
    "\n",
    "print(f'I have {A} apples and {B} pears')"
   ]
  },
  {
   "cell_type": "markdown",
   "metadata": {
    "slideshow": {
     "slide_type": "slide"
    }
   },
   "source": [
    "##### Try it yourself\n",
    "__Example 1c:__ \n",
    "\n",
    "Within `main.py`, print the output below:<br> `The capital of Germany begins with B`\n",
    "\n",
    "<br><br>__Example 1d:__ \n",
    "\n",
    "Can you make the code in `main.py` any more concise? "
   ]
  }
 ],
 "metadata": {
  "celltoolbar": "Slideshow",
  "kernelspec": {
   "display_name": "Python 3",
   "language": "python",
   "name": "python3"
  },
  "language_info": {
   "codemirror_mode": {
    "name": "ipython",
    "version": 3
   },
   "file_extension": ".py",
   "mimetype": "text/x-python",
   "name": "python",
   "nbconvert_exporter": "python",
   "pygments_lexer": "ipython3",
   "version": "3.8.3"
  }
 },
 "nbformat": 4,
 "nbformat_minor": 5
}
