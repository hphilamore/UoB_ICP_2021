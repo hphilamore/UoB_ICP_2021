{
 "cells": [
  {
   "cell_type": "markdown",
   "id": "696a041c",
   "metadata": {},
   "source": [
    "# Introduction to Computer Programming\n",
    "\n",
    "## Week 6.1: Reading & Writing Files, User Input\n",
    "\n",
    "* * *\n",
    "\n",
    "<img src=\"img/full-colour-logo-UoB.png\" alt=\"Bristol\" style=\"width: 300px;\"/>"
   ]
  },
  {
   "cell_type": "markdown",
   "id": "a64493e0",
   "metadata": {
    "slideshow": {
     "slide_type": "slide"
    }
   },
   "source": [
    "Python has a collection of easy to use functions for reading and writing files: \n",
    "- `open()`\n",
    "- `read()`\n",
    "- `write()`\n",
    "- `close()` \n",
    "\n"
   ]
  },
  {
   "cell_type": "markdown",
   "id": "265870f0",
   "metadata": {
    "slideshow": {
     "slide_type": "slide"
    }
   },
   "source": [
    "Before a file can be read or written to, it must be opened using the `open()` function. \n",
    "\n",
    "```python\n",
    "open(file_path, mode_specifier)\n",
    "```\n",
    "\n",
    "__Mode specifier__\n",
    "\n",
    "\n",
    "| Mode specifier | Read (R)/Write (W)| Must already exist | If no file exists  | `write() `|\n",
    "| :-: | :-: | :-: | :-: | :-: | \n",
    "| `r` | R |Yes | N/A | overwrites previous contents |\n",
    "| `w` | W |No | Creates new file | overwrites previous contents |\n",
    "| `a` | W |No | Creates new file | appends text to end of file|\n",
    "| `r+` | R+W |Yes | N/A | overwrites previous contents |\n",
    "| `w+` | R+W |No | Creates new file | overwrites previous contents |\n",
    "| `a+` | R+W | No | Creates new file | appends text to end of file|\n"
   ]
  },
  {
   "cell_type": "markdown",
   "id": "df34bbc3",
   "metadata": {
    "slideshow": {
     "slide_type": "slide"
    }
   },
   "source": [
    "Once the file is open, it creates a *file object*.  \n",
    "\n",
    "Once a file has been opened it's contents can be read, overwritten, or added to, depending on the mode specifier used to open it. "
   ]
  },
  {
   "cell_type": "markdown",
   "id": "5ab78cde",
   "metadata": {},
   "source": [
    "# Writing files\n",
    "We will use the functions:\n",
    "- `write()`\n",
    "- `close()`"
   ]
  },
  {
   "cell_type": "markdown",
   "id": "e4c5bcec",
   "metadata": {},
   "source": [
    "__Example:__ Write the high score table shown to a new file with the filename scores.txt\n",
    "\n",
    "| Place | Name | Score | \n",
    "| :-: | :-: | :-: |  \n",
    "| 1 | Elena | 550 | \n",
    "| 2 | Sajid | 480 | \n",
    "| 3 | Tom | 380 | \n",
    "| 4 | Farhad | 305 | \n",
    "| 5 | Manesha | 150 | "
   ]
  },
  {
   "cell_type": "code",
   "execution_count": 17,
   "id": "3193d9ac",
   "metadata": {},
   "outputs": [],
   "source": [
    "file = open('scores.txt', 'w') # mode specifier to write\n",
    "\n",
    "file.write('Elena 550' + '\\n' #  \\n creates a line break.\n",
    "          + 'Sajid 480' + '\\n'\n",
    "          + 'Tom 380' + '\\n' \n",
    "          + 'Farhad 305' + '\\n'\n",
    "          + 'Manesha 150' + '\\n') # final \\n means next entry will begin on new line\n",
    "\n",
    "file.close()"
   ]
  },
  {
   "cell_type": "markdown",
   "id": "3b244a69",
   "metadata": {},
   "source": [
    "A file, scores.txt will appear in the same directory (folder) as your python program. \n",
    "You can open the file in a text editor to check the contents. "
   ]
  },
  {
   "cell_type": "markdown",
   "id": "a36655cb",
   "metadata": {},
   "source": [
    "### Writing data structures to files\n",
    "\n",
    "Values that can be represented as a table are likely to be stored in your program as a data structure. \n",
    "\n",
    "Let's look at some alternative ways to write data stored in a data structure to a .txt file. \n",
    "\n",
    "Notice that in each case the data is stored as string data type. "
   ]
  },
  {
   "cell_type": "markdown",
   "id": "cbc362b4",
   "metadata": {},
   "source": [
    "__Example:__ Write a high score table stored as two __lists__ to a new file with the filename scores.txt"
   ]
  },
  {
   "cell_type": "code",
   "execution_count": 19,
   "id": "9d2b32b8",
   "metadata": {},
   "outputs": [],
   "source": [
    "names = ['Elena', 'Sajid', 'Tom', 'Farhad', 'Manesha']\n",
    "scores = [550, 480, 380, 305, 150]\n",
    "\n",
    "file = open('scores.txt', 'w') \n",
    "\n",
    "# loop through two lists - keys and values of dictionary\n",
    "for n, s in zip(names, scores):\n",
    "    file.write(n + str(s) + '\\n')\n",
    "\n",
    "file.close()"
   ]
  },
  {
   "cell_type": "markdown",
   "id": "e4fd37fd",
   "metadata": {},
   "source": [
    "__Example:__ Write a high score table stored as a __dictionary__ to a new file with the filename scores.txt"
   ]
  },
  {
   "cell_type": "code",
   "execution_count": 20,
   "id": "95ab3f47",
   "metadata": {},
   "outputs": [],
   "source": [
    "scores = {'Elena': 550,\n",
    "          'Sajid': 480,\n",
    "          'Tom': 380,\n",
    "          'Farhad': 305,\n",
    "          'Manesha': 150}\n",
    "\n",
    "file = open('scores.txt', 'w') \n",
    "\n",
    "# loop through two lists - keys and values of dictionary\n",
    "for k, v in scores.items():\n",
    "    file.write(k + str(v) + '\\n')\n",
    "\n",
    "file.close()"
   ]
  },
  {
   "cell_type": "markdown",
   "id": "7bbdf3c2",
   "metadata": {},
   "source": [
    "### Closing Files\n",
    "Why do we need to close a file?\n",
    "1. Not automatically closed.  \n",
    "3. Saves changes to file.\n",
    "4. Depending on OS, you may not be able to open a file simultaneously for reading and writing e.g. a program attempts to open a file for writing that is already open for reading"
   ]
  },
  {
   "cell_type": "markdown",
   "id": "a4c1acac",
   "metadata": {},
   "source": [
    "__Example:__ Append (add a new entry to the end of) scores.txt so that the tabel reads\n",
    "\n",
    "| Place | Name | Score | \n",
    "| :-: | :-: | :-: |  \n",
    "| 1 | Elena | 550 | \n",
    "| 2 | Sajid | 480 | \n",
    "| 3 | Tom | 380 | \n",
    "| 4 | Farhad | 305 | \n",
    "| 5 | Manesha | 150 |\n",
    "| 6 | Jen | 100 |\n",
    "\n"
   ]
  },
  {
   "cell_type": "code",
   "execution_count": 21,
   "id": "a3d4eb0f",
   "metadata": {},
   "outputs": [],
   "source": [
    "file = open('scores.txt', 'a') # mode specifier to append\n",
    "\n",
    "file.write('Jen 100' + '\\n')\n",
    "\n",
    "file.close()"
   ]
  },
  {
   "cell_type": "markdown",
   "id": "c281e7ce",
   "metadata": {},
   "source": [
    "# Reading Files \n",
    "\n",
    "We will use the functions \n",
    "- `read()`\n",
    "- `readlines()`\n"
   ]
  },
  {
   "cell_type": "markdown",
   "id": "60893430",
   "metadata": {
    "slideshow": {
     "slide_type": "slide"
    }
   },
   "source": [
    "__Try it yourself__\n",
    "\n",
    "1. Save the previous 4 code cells contents to a file, `interrogate_file.py`. \n",
    "\n",
    "1. Correct the following line to specify the path to `my_file.txt`, *relative* to the location of `interrogate.py`:\n",
    ">`file = open(\"sample_data/my_file.txt’\", \"w\" )`\n",
    "\n",
    "1. Run `interrogate_file.py` from the terminal to see the file get created and display information about `my_file.txt`. "
   ]
  }
 ],
 "metadata": {
  "kernelspec": {
   "display_name": "Python 3",
   "language": "python",
   "name": "python3"
  },
  "language_info": {
   "codemirror_mode": {
    "name": "ipython",
    "version": 3
   },
   "file_extension": ".py",
   "mimetype": "text/x-python",
   "name": "python",
   "nbconvert_exporter": "python",
   "pygments_lexer": "ipython3",
   "version": "3.8.8"
  }
 },
 "nbformat": 4,
 "nbformat_minor": 5
}
