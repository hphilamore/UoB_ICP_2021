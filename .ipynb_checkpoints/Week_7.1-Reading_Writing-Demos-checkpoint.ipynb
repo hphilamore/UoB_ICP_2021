{
 "cells": [
  {
   "cell_type": "markdown",
   "metadata": {
    "slideshow": {
     "slide_type": "slide"
    }
   },
   "source": [
    "# Introduction to Computer Programming\n",
    "\n",
    "## Week 7.1: Reading & Writing Files\n",
    "\n",
    "* * *\n",
    "\n",
    "<img src=\"img/full-colour-logo-UoB.png\" alt=\"Bristol\" style=\"width: 300px;\"/>"
   ]
  },
  {
   "cell_type": "markdown",
   "metadata": {
    "slideshow": {
     "slide_type": "slide"
    }
   },
   "source": [
    "# `a+`\n",
    "__Example__: When we want to read and/or edit (append only).\n",
    "\n",
    "\n",
    "The stream position is: \n",
    "- at the *end* when opened (must be moved to the start to read). \n",
    "- always moved to the *end* before writing when `write` is called (previous contents never overwritten).\n",
    "- at the *end* after writing.  "
   ]
  },
  {
   "cell_type": "code",
   "execution_count": 21,
   "metadata": {},
   "outputs": [
    {
     "name": "stdout",
     "output_type": "stream",
     "text": [
      "Sid 50\n",
      "Jo 20\n",
      "Tim 50\n",
      "Majid 500\n"
     ]
    }
   ],
   "source": [
    "file = open('sample_data/scores.txt', 'a+') \n",
    "    \n",
    "file.write('Tim 50\\n')          # append \n",
    "file.write('Majid 500\\n')\n",
    "\n",
    "\n",
    "file.seek(0)\n",
    "for line in file:                # read \n",
    "    print(line, end='')\n",
    "\n",
    "    \n",
    "file.close()"
   ]
  },
  {
   "cell_type": "markdown",
   "metadata": {
    "slideshow": {
     "slide_type": "slide"
    }
   },
   "source": [
    "# `r+`\n",
    "__Example__: When we want to read and/or edit.\n",
    "\n",
    "The stream position is at the *end* of the file:\n",
    "\n",
    "- after reading\n",
    "- before appending\n",
    "- after appending\n"
   ]
  },
  {
   "cell_type": "code",
   "execution_count": 22,
   "metadata": {},
   "outputs": [
    {
     "name": "stdout",
     "output_type": "stream",
     "text": [
      "Sid 50\n",
      "\n",
      "Jo 20\n",
      "\n",
      "Tim 50\n",
      "\n",
      "Majid 500\n",
      "\n",
      "Sid 50\n",
      "Jo 20\n",
      "Tim 50\n",
      "Majid 500\n",
      "Ben 50\n",
      "Ola 500\n"
     ]
    }
   ],
   "source": [
    "file = open('sample_data/scores.txt', 'r+') \n",
    "\n",
    "# stream position at start of file\n",
    "\n",
    "for line in file:                           # read file contents\n",
    "    print(line)\n",
    "    \n",
    "# stream position at end of file\n",
    "    \n",
    "file.write('Ben 50\\n')                      # append some data\n",
    "file.write('Ola 500\\n')\n",
    "\n",
    "\n",
    "file.seek(0)\n",
    "for line in file:                           # read file contents again\n",
    "    print(line, end='')\n",
    "\n",
    "    \n",
    "file.close()"
   ]
  },
  {
   "cell_type": "markdown",
   "metadata": {
    "slideshow": {
     "slide_type": "slide"
    }
   },
   "source": [
    "# `w+`\n",
    "__Example__: When we want to overwrite file then read \n",
    "\n",
    "The stream position is:\n",
    "- at the *start* when opened (previous contents overwritten).\n",
    "- at the *end* after writing (subsequent lines added using `write` will appended the file, not overwrite previous contents, until file is closed). \n",
    "\n",
    "\n",
    "Writing *must* happen before reading. \n",
    "\n",
    "Unlike the `+a` mode specifier `+r` allows writing from anywhere in the file. \n",
    "\n",
    "Notice the effect of overwriting. "
   ]
  },
  {
   "cell_type": "code",
   "execution_count": 12,
   "metadata": {},
   "outputs": [
    {
     "name": "stdout",
     "output_type": "stream",
     "text": [
      "Tim 50\n",
      "Majid 500\n",
      "\n",
      "Tim 50\n",
      "Majid 500\n",
      "Ola 500\n"
     ]
    }
   ],
   "source": [
    "file = open('sample_data/scores.txt', 'w+') \n",
    "\n",
    "# file.seek(0)                                  # read does not work (would move write position to end)\n",
    "# for line in file:                           \n",
    "#     print(line)\n",
    "    \n",
    "    \n",
    "file.write('Tim 50\\n')                          # write  (overwrite prev. contents)\n",
    "file.write('Majid 500\\n')\n",
    "\n",
    "\n",
    "file.seek(0)\n",
    "\n",
    "for line in file:                               # read \n",
    "    print(line, end='')\n",
    "    \n",
    "    \n",
    "file.write('Ola 500\\n')                         # append \n",
    "\n",
    "\n",
    "file.seek(0)\n",
    "\n",
    "print()\n",
    "for line in file:                               # read again\n",
    "    print(line, end='')\n",
    "\n",
    "    \n",
    "file.close()"
   ]
  },
  {
   "cell_type": "markdown",
   "metadata": {},
   "source": [
    "# In-class demos"
   ]
  },
  {
   "cell_type": "markdown",
   "metadata": {
    "slideshow": {
     "slide_type": "slide"
    }
   },
   "source": [
    "##### Try it yourself\n",
    "\n",
    "__Example 1:__ Write a high score table stored as two __lists__ to a new file with the name scores.csv"
   ]
  },
  {
   "cell_type": "markdown",
   "metadata": {},
   "source": [
    "Solution 1a"
   ]
  },
  {
   "cell_type": "code",
   "execution_count": 13,
   "metadata": {},
   "outputs": [],
   "source": [
    "names = ['Elena', 'Sajid', 'Tom', 'Farhad', 'Manesha']\n",
    "scores = [550, 480, 380, 305, 150]\n",
    "\n",
    "file = open('sample_data/scores.csv', 'w') \n",
    "\n",
    "# loop through two lists \n",
    "for n, s in zip(names, scores):\n",
    "    file.write(n + ',' + str(s) + '\\n') # a comma seperates the values\n",
    "\n",
    "file.close()"
   ]
  },
  {
   "cell_type": "markdown",
   "metadata": {
    "slideshow": {
     "slide_type": "slide"
    }
   },
   "source": [
    "\n",
    "Solution 1b"
   ]
  },
  {
   "cell_type": "code",
   "execution_count": 14,
   "metadata": {
    "slideshow": {
     "slide_type": "-"
    }
   },
   "outputs": [],
   "source": [
    "scores = {'Elena': 550,\n",
    "          'Sajid': 480,\n",
    "          'Tom': 380,\n",
    "          'Farhad': 305,\n",
    "          'Manesha': 150}\n",
    "\n",
    "file = open('sample_data/scores.txt', 'w') \n",
    "\n",
    "# loop through two lists - keys and values of dictionary\n",
    "for k, v in scores.items():\n",
    "    file.write(k + ' ' + str(v) + '\\n')\n",
    "\n",
    "file.close()"
   ]
  },
  {
   "cell_type": "markdown",
   "metadata": {
    "slideshow": {
     "slide_type": "slide"
    }
   },
   "source": [
    "\n",
    "Solution 1c"
   ]
  },
  {
   "cell_type": "code",
   "execution_count": 15,
   "metadata": {
    "slideshow": {
     "slide_type": "-"
    }
   },
   "outputs": [],
   "source": [
    "scores = {'Elena': 550,\n",
    "          'Sajid': 480,\n",
    "          'Tom': 380,\n",
    "          'Farhad': 305,\n",
    "          'Manesha': 150}\n",
    "\n",
    "with open('sample_data/scores.txt', 'w') as file:\n",
    "\n",
    "    # loop through two lists - keys and values of dictionary\n",
    "    for k, v in scores.items():\n",
    "        file.write(k + ' ' + str(v) + '\\n')\n",
    "\n"
   ]
  },
  {
   "cell_type": "markdown",
   "metadata": {},
   "source": [
    "##### Try it yourself\n",
    "__Example 2:__ Read the file you just created and print each line"
   ]
  },
  {
   "cell_type": "markdown",
   "metadata": {
    "slideshow": {
     "slide_type": "slide"
    }
   },
   "source": [
    "\n",
    "Solution 2"
   ]
  },
  {
   "cell_type": "code",
   "execution_count": 16,
   "metadata": {},
   "outputs": [
    {
     "name": "stdout",
     "output_type": "stream",
     "text": [
      "Elena 550\n",
      "\n",
      "Sajid 480\n",
      "\n",
      "Tom 380\n",
      "\n",
      "Farhad 305\n",
      "\n",
      "Manesha 150\n",
      "\n"
     ]
    }
   ],
   "source": [
    "with open('sample_data/scores.txt', 'r') as file: \n",
    "\n",
    "    for line in file:            # iterable: collect names and scores using loop \n",
    "        print(line)\n",
    "        "
   ]
  },
  {
   "cell_type": "markdown",
   "metadata": {},
   "source": [
    "##### Try it yourself\n",
    "__Example 3:__ Read the file you just created and print the first row"
   ]
  },
  {
   "cell_type": "markdown",
   "metadata": {
    "slideshow": {
     "slide_type": "slide"
    }
   },
   "source": [
    "\n",
    "Solution 3"
   ]
  },
  {
   "cell_type": "code",
   "execution_count": 17,
   "metadata": {},
   "outputs": [
    {
     "name": "stdout",
     "output_type": "stream",
     "text": [
      "Tom 380\n",
      "\n"
     ]
    }
   ],
   "source": [
    "with open('sample_data/scores.txt', 'r') as f:\n",
    "\n",
    "    file = list(f)                \n",
    "\n",
    "    print(file[2])"
   ]
  },
  {
   "cell_type": "markdown",
   "metadata": {},
   "source": [
    "__Example 4:__ Read the file you just created and make a Python list of:\n",
    "- names\n",
    "- scores"
   ]
  },
  {
   "cell_type": "markdown",
   "metadata": {},
   "source": [
    "Solution 4a: loop"
   ]
  },
  {
   "cell_type": "code",
   "execution_count": 18,
   "metadata": {},
   "outputs": [
    {
     "name": "stdout",
     "output_type": "stream",
     "text": [
      "['Elena', 'Sajid', 'Tom', 'Farhad', 'Manesha'] ['550', '480', '380', '305', '150']\n"
     ]
    }
   ],
   "source": [
    "with open('sample_data/scores.txt', 'r') as f:\n",
    "\n",
    "    file = list(f)                # convert to list of strings (lines)\n",
    "\n",
    "    names, scores = [], []     \n",
    "\n",
    "    for line in file:            # iterable: collect names and scores using loop \n",
    "        L = line.split()         # split() converts string (line) to list of strings (words), seperated by ' ' by default\n",
    "        names.append(L[0])\n",
    "        scores.append(L[1])\n",
    "\n",
    "    print(names, scores)\n"
   ]
  },
  {
   "cell_type": "markdown",
   "metadata": {},
   "source": [
    "Solution 4b: list comprehension"
   ]
  },
  {
   "cell_type": "code",
   "execution_count": 19,
   "metadata": {},
   "outputs": [
    {
     "name": "stdout",
     "output_type": "stream",
     "text": [
      "[['Elena', '550'], ['Sajid', '480'], ['Tom', '380'], ['Farhad', '305'], ['Manesha', '150']]\n",
      "['Elena', 'Sajid', 'Tom', 'Farhad', 'Manesha'] ['550', '480', '380', '305', '150']\n"
     ]
    }
   ],
   "source": [
    "with open('sample_data/scores.txt', 'r') as f:\n",
    "\n",
    "    file = list(f)                # convert to list of strings (lines)\n",
    "\n",
    "    L = [line.split() for line in file]   # list of lists\n",
    "    print(L)\n",
    "    names = [i[0] for i in L]             # names and scores\n",
    "    scores = [i[1] for i in L]\n",
    "\n",
    "    print(names, scores)"
   ]
  },
  {
   "cell_type": "markdown",
   "metadata": {},
   "source": [
    "__Example 5:__ change the first row to `'Mia, 700'`:\n"
   ]
  },
  {
   "cell_type": "markdown",
   "metadata": {},
   "source": [
    "Solution 5"
   ]
  },
  {
   "cell_type": "code",
   "execution_count": 20,
   "metadata": {},
   "outputs": [
    {
     "name": "stdout",
     "output_type": "stream",
     "text": [
      "[['Elena', '550'], ['Sajid', '480'], ['Tom', '380'], ['Farhad', '305'], ['Manesha', '150']]\n",
      "Mia 700\n",
      "\n",
      "Sajid 480\n",
      "\n",
      "Tom 380\n",
      "\n",
      "Farhad 305\n",
      "\n",
      "Manesha 150\n",
      "\n"
     ]
    }
   ],
   "source": [
    "with open('sample_data/scores.txt', 'r+') as f:\n",
    "\n",
    "    file = list(f)                        # convert to list of strings (lines)\n",
    "\n",
    "    L = [line.split() for line in file]   # list of lists\n",
    "    print(L)\n",
    "    names = [i[0] for i in L]             # names and scores\n",
    "    scores = [i[1] for i in L]\n",
    "    \n",
    "    ##################################\n",
    "    \n",
    "    names[0] = 'Mia'\n",
    "    scores[0] = '700'\n",
    "    \n",
    "    f.seek(0)\n",
    "    \n",
    "    for n, s in zip(names, scores):\n",
    "        f.write(n + ' ' + s + '\\n')\n",
    "    \n",
    "    f.truncate()\n",
    "    \n",
    "    \n",
    "    f.seek(0)\n",
    "    for line in f:\n",
    "        print(line)\n",
    "    \n",
    "\n",
    "    "
   ]
  }
 ],
 "metadata": {
  "celltoolbar": "Slideshow",
  "kernelspec": {
   "display_name": "Python 3",
   "language": "python",
   "name": "python3"
  },
  "language_info": {
   "codemirror_mode": {
    "name": "ipython",
    "version": 3
   },
   "file_extension": ".py",
   "mimetype": "text/x-python",
   "name": "python",
   "nbconvert_exporter": "python",
   "pygments_lexer": "ipython3",
   "version": "3.8.3"
  }
 },
 "nbformat": 4,
 "nbformat_minor": 5
}
