{
 "cells": [
  {
   "cell_type": "markdown",
   "id": "b24c01cf",
   "metadata": {
    "slideshow": {
     "slide_type": "slide"
    }
   },
   "source": [
    "# Introduction to Computer Programming\n",
    "\n",
    "## 2.2 User input & nested conditionals\n",
    "\n",
    "<img src=\"img/full-colour-logo-UoB.png\" alt=\"Drawing\" style=\"width: 300px;\"/>"
   ]
  },
  {
   "cell_type": "markdown",
   "id": "f88feb4b",
   "metadata": {
    "slideshow": {
     "slide_type": "slide"
    }
   },
   "source": [
    "# Input\n",
    "\n",
    "`input`: accepts typed input from the user and outputs the typed input as string data. \n",
    "\n",
    "The function argument is a string, which is the prompt displayed to the user. "
   ]
  },
  {
   "cell_type": "code",
   "execution_count": 1,
   "id": "242ce6c0",
   "metadata": {
    "scrolled": true
   },
   "outputs": [
    {
     "name": "stdout",
     "output_type": "stream",
     "text": [
      "Enter your name: \n",
      "My name is  \n"
     ]
    }
   ],
   "source": [
    "name = input(\"Enter your name: \") # type response when prompted and press enter\n",
    "\n",
    "print('My name is ', name)"
   ]
  },
  {
   "cell_type": "markdown",
   "id": "0439e027",
   "metadata": {
    "slideshow": {
     "slide_type": "slide"
    }
   },
   "source": [
    "This is a quick and easy way to add dynamic input to your program."
   ]
  },
  {
   "cell_type": "markdown",
   "id": "2ac28dd6",
   "metadata": {
    "slideshow": {
     "slide_type": "slide"
    }
   },
   "source": [
    "### Input - a word of warning! \n",
    "The input by the user is stored as a string. \n",
    "<br>Numbers entered will behave as text data unless converted to a numerical data type."
   ]
  },
  {
   "cell_type": "code",
   "execution_count": 2,
   "id": "6e663176",
   "metadata": {},
   "outputs": [
    {
     "name": "stdout",
     "output_type": "stream",
     "text": [
      "Enter a number \n",
      "Enter another number \n",
      "\n"
     ]
    },
    {
     "ename": "ValueError",
     "evalue": "invalid literal for int() with base 10: ''",
     "output_type": "error",
     "traceback": [
      "\u001b[0;31m---------------------------------------------------------------------------\u001b[0m",
      "\u001b[0;31mValueError\u001b[0m                                Traceback (most recent call last)",
      "\u001b[0;32m<ipython-input-2-23fd8189f69c>\u001b[0m in \u001b[0;36m<module>\u001b[0;34m\u001b[0m\n\u001b[1;32m      4\u001b[0m \u001b[0mprint\u001b[0m\u001b[0;34m(\u001b[0m\u001b[0mA\u001b[0m \u001b[0;34m+\u001b[0m \u001b[0mB\u001b[0m\u001b[0;34m)\u001b[0m\u001b[0;34m\u001b[0m\u001b[0;34m\u001b[0m\u001b[0m\n\u001b[1;32m      5\u001b[0m \u001b[0;34m\u001b[0m\u001b[0m\n\u001b[0;32m----> 6\u001b[0;31m \u001b[0mprint\u001b[0m\u001b[0;34m(\u001b[0m\u001b[0mint\u001b[0m\u001b[0;34m(\u001b[0m\u001b[0mA\u001b[0m\u001b[0;34m)\u001b[0m \u001b[0;34m+\u001b[0m \u001b[0mint\u001b[0m\u001b[0;34m(\u001b[0m\u001b[0mB\u001b[0m\u001b[0;34m)\u001b[0m\u001b[0;34m)\u001b[0m\u001b[0;34m\u001b[0m\u001b[0;34m\u001b[0m\u001b[0m\n\u001b[0m",
      "\u001b[0;31mValueError\u001b[0m: invalid literal for int() with base 10: ''"
     ]
    }
   ],
   "source": [
    "A = input(\"Enter a number \")\n",
    "B = input(\"Enter another number \")\n",
    "\n",
    "print(A + B)\n",
    "\n",
    "print(int(A) + int(B))"
   ]
  },
  {
   "cell_type": "markdown",
   "id": "9867a6c3",
   "metadata": {
    "slideshow": {
     "slide_type": "slide"
    }
   },
   "source": [
    "__Example:__ Write a program that requests the time from the user and tells them to eat lunch if it is lunchtime. \n",
    "\n",
    "<p align=\"center\">\n",
    "  <img src=\"img/flow_diag_if_lunctime.png\" alt=\"Drawing\" style=\"width: 200px;\"/>\n",
    "</p>"
   ]
  },
  {
   "cell_type": "code",
   "execution_count": 11,
   "id": "71f32f91",
   "metadata": {},
   "outputs": [
    {
     "name": "stdout",
     "output_type": "stream",
     "text": [
      "enter the time (24 hour clock) in format hh.mm : 3.00\n"
     ]
    }
   ],
   "source": [
    "t = input('enter the time (24 hour clock) in format hh.mm : ') \n",
    "t = float(t)    # string converted to float\n",
    "\n",
    "\n",
    "# ----------------- Program from last week ---------------------\n",
    "Ls = 13.00      # lunch starts\n",
    "Le = 14.00      # lunch ends\n",
    "\n",
    "lunchtime = t >= Ls and t < Le\n",
    "\n",
    "if lunchtime:\n",
    "    print(\"Eat lunch\")\n",
    "# ---------------------------------------------------------------"
   ]
  },
  {
   "cell_type": "markdown",
   "id": "429f09a2",
   "metadata": {
    "slideshow": {
     "slide_type": "slide"
    }
   },
   "source": [
    "`split` : splits a string into a list. "
   ]
  },
  {
   "cell_type": "code",
   "execution_count": 6,
   "id": "f9be3da2",
   "metadata": {},
   "outputs": [
    {
     "name": "stdout",
     "output_type": "stream",
     "text": [
      "Enter two numbers 3 4\n",
      "3 4\n",
      "['3', '4']\n"
     ]
    }
   ],
   "source": [
    "A = input(\"Enter two numbers \")\n",
    "print(A)\n",
    "\n",
    "B = A.split()\n",
    "print(B)"
   ]
  },
  {
   "cell_type": "markdown",
   "id": "21690e46",
   "metadata": {
    "slideshow": {
     "slide_type": "slide"
    }
   },
   "source": [
    "# Nested conditional statements\n",
    "Conditional statements can be nested (a conditional statement within a conditional statement) to execute more complex decision making in a program. \n",
    "\n",
    "__Example:__ Translate the flow diagram into a programme\n",
    "\n",
    "<p align=\"center\">\n",
    "  <img src=\"img/adult_child_.png\" alt=\"Drawing\" style=\"width: 200px;\"/>\n",
    "</p>"
   ]
  },
  {
   "cell_type": "code",
   "execution_count": 3,
   "id": "6c6eda12",
   "metadata": {},
   "outputs": [
    {
     "name": "stdout",
     "output_type": "stream",
     "text": [
      "You're an adult who can drive\n"
     ]
    }
   ],
   "source": [
    "age = 19\n",
    "graduated = False\n",
    "driver = True\n",
    "\n",
    "# Check if person is 18 years or older\n",
    "if age >= 18:\n",
    "    print(\"You're an adult\", end='')\n",
    "\n",
    "    if driver:\n",
    "        print(' who can drive')\n",
    "else:\n",
    "    print(\"You're a child\")"
   ]
  },
  {
   "cell_type": "markdown",
   "id": "a5f9d199",
   "metadata": {
    "slideshow": {
     "slide_type": "slide"
    }
   },
   "source": [
    "# Summary\n",
    "- `input`: accepts typed input from the user. Remember that the function outputs the typed input as string data!\n",
    "- Conditional statements can be nested to create more complex decision-making within a program.\n"
   ]
  },
  {
   "cell_type": "markdown",
   "id": "bf8b83ff",
   "metadata": {
    "slideshow": {
     "slide_type": "slide"
    }
   },
   "source": [
    "# In-class Demos"
   ]
  },
  {
   "cell_type": "markdown",
   "id": "167de27e",
   "metadata": {
    "slideshow": {
     "slide_type": "slide"
    }
   },
   "source": [
    "__Example 1:__ Write a program that asks for the user's age and checks if they are 18 or over. "
   ]
  },
  {
   "cell_type": "code",
   "execution_count": 21,
   "id": "5ae0899d",
   "metadata": {},
   "outputs": [
    {
     "name": "stdout",
     "output_type": "stream",
     "text": [
      "Enter your age: 34\n",
      "adult\n"
     ]
    }
   ],
   "source": [
    "age = input('Enter your age: ')\n",
    "\n",
    "if int(age) >= 18:\n",
    "    print('adult')"
   ]
  },
  {
   "cell_type": "markdown",
   "id": "30fa397e",
   "metadata": {
    "slideshow": {
     "slide_type": "slide"
    }
   },
   "source": [
    "__Example 2:__ Write a program for an online shop that:\n",
    "- asks for the number of items ordered\n",
    "- check how many are in stock and prints a message to re-supply if the order cannot be fulfilled\n",
    "- if the items are in stock, prints a message if there will be multiple packages shipped assuming 8 items fit in one box."
   ]
  },
  {
   "cell_type": "code",
   "execution_count": 20,
   "id": "91ac075d",
   "metadata": {},
   "outputs": [
    {
     "name": "stdout",
     "output_type": "stream",
     "text": [
      "No items ordered: 56\n",
      "re-supply!\n"
     ]
    }
   ],
   "source": [
    "Ordered = int(input('No items ordered: '))\n",
    "InStock = 32\n",
    "\n",
    "if InStock < Ordered:\n",
    "    print('re-supply!')\n",
    "else:\n",
    "    if Ordered/8 > 1:\n",
    "        print('mutiple packages!')"
   ]
  },
  {
   "cell_type": "markdown",
   "id": "24e58a93",
   "metadata": {
    "slideshow": {
     "slide_type": "slide"
    }
   },
   "source": [
    "__Example 3:__ Write a program that:\n",
    "- checks if a number of odd or even. \n",
    "- checks if input even numbers are multiples of 4.\n",
    "- checks if input odd numbers are multiples of 3."
   ]
  },
  {
   "cell_type": "code",
   "execution_count": 24,
   "id": "6f5da0d5",
   "metadata": {},
   "outputs": [
    {
     "name": "stdout",
     "output_type": "stream",
     "text": [
      "Odd number and multiple of 3\n"
     ]
    }
   ],
   "source": [
    "N = 9\n",
    "\n",
    "if not N % 2:\n",
    "    print('Even number', end='')\n",
    "    if not N % 4:\n",
    "        print(' and mulitple of 4')\n",
    "else:\n",
    "    print('Odd number', end='')\n",
    "    if not N % 3:\n",
    "        print(' and multiple of 3')"
   ]
  }
 ],
 "metadata": {
  "celltoolbar": "Slideshow",
  "kernelspec": {
   "display_name": "Python 3",
   "language": "python",
   "name": "python3"
  },
  "language_info": {
   "codemirror_mode": {
    "name": "ipython",
    "version": 3
   },
   "file_extension": ".py",
   "mimetype": "text/x-python",
   "name": "python",
   "nbconvert_exporter": "python",
   "pygments_lexer": "ipython3",
   "version": "3.8.8"
  }
 },
 "nbformat": 4,
 "nbformat_minor": 5
}
