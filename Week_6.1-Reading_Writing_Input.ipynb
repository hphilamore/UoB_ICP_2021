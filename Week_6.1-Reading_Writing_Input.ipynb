{
 "cells": [
  {
   "cell_type": "markdown",
   "id": "6b8fc1cc",
   "metadata": {},
   "source": [
    "# Introduction to Computer Programming\n",
    "\n",
    "## Week 6.1: Reading & Writing Files, User Input\n",
    "\n",
    "* * *\n",
    "\n",
    "<img src=\"img/full-colour-logo-UoB.png\" alt=\"Bristol\" style=\"width: 300px;\"/>"
   ]
  },
  {
   "cell_type": "markdown",
   "id": "7a4ae0d3",
   "metadata": {
    "slideshow": {
     "slide_type": "slide"
    }
   },
   "source": [
    "Python functions for reading and writing files: \n",
    "- `open()`\n",
    "- `read()`\n",
    "- `write()`\n",
    "- `close()` "
   ]
  },
  {
   "cell_type": "markdown",
   "id": "41effb1d",
   "metadata": {
    "slideshow": {
     "slide_type": "slide"
    }
   },
   "source": [
    "Before a file can be read or written to, it must be opened using the `open()` function. \n",
    "\n",
    "```python\n",
    "open(file_path, mode_specifier)\n",
    "```\n",
    "\n",
    "__Mode specifier:__ an open file can be read, overwritten, or added to, depending on the mode specifier used to open it. \n",
    "\n",
    "\n",
    "| Mode specifier | Read (R)/Write (W)| Must already exist | If no file exists  | `write() `| Stream position |\n",
    "| :-: | :-: | :-: | :-: | :-: | :-: | \n",
    "| `r` | R |Yes | N/A | overwrites previous contents | start |\n",
    "| `w` | W |No | Creates new file | overwrites previous contents | start |\n",
    "| `a` | W |No | Creates new file | appends text to end of file| end |\n",
    "| `r+` | R+W |Yes | N/A | overwrites previous contents | start |\n",
    "| `w+` | R+W |No | Creates new file | overwrites previous contents | start |\n",
    "| `a+` | R+W | No | Creates new file | appends text to end of file | end |\n"
   ]
  },
  {
   "cell_type": "markdown",
   "id": "798b4cf6",
   "metadata": {
    "slideshow": {
     "slide_type": "slide"
    }
   },
   "source": [
    "Once the file is open, it creates a *file object*.  \n",
    "\n",
    "As you studied last week, an object (an instance of a class) has methods: actions that an object is able to perform. "
   ]
  },
  {
   "cell_type": "markdown",
   "id": "56d81432",
   "metadata": {},
   "source": [
    "# Writing files\n",
    "We will use the methods:\n",
    "- `write()`\n",
    "- `close()`"
   ]
  },
  {
   "cell_type": "markdown",
   "id": "5bbfaeb2",
   "metadata": {},
   "source": [
    "__Example:__ Write the high score table shown to a new file with the filename scores.txt\n",
    "\n",
    "| Place | Name | Score | \n",
    "| :-: | :-: | :-: |  \n",
    "| 1 | Elena | 550 | \n",
    "| 2 | Sajid | 480 | \n",
    "| 3 | Tom | 380 | \n",
    "| 4 | Farhad | 305 | \n",
    "| 5 | Manesha | 150 | "
   ]
  },
  {
   "cell_type": "code",
   "execution_count": 245,
   "id": "006a7734",
   "metadata": {},
   "outputs": [],
   "source": [
    "file = open('scores.txt', 'w') # mode specifier to write\n",
    "\n",
    "file.write('Elena 550' + '\\n' #  \\n creates a line break.\n",
    "          + 'Sajid 480' + '\\n'\n",
    "          + 'Tom 380' + '\\n' \n",
    "          + 'Farhad 305' + '\\n'\n",
    "          + 'Manesha 150' + '\\n') # final \\n means next entry will begin on new line\n",
    "\n",
    "file.close()"
   ]
  },
  {
   "cell_type": "markdown",
   "id": "2cdb2254",
   "metadata": {},
   "source": [
    "A file, scores.txt will appear in the same directory (folder) as your python program. \n",
    "You can open the file in a text editor to check the contents. "
   ]
  },
  {
   "cell_type": "markdown",
   "id": "68ab4b12",
   "metadata": {},
   "source": [
    "### Writing data structures to files\n",
    "\n",
    "Values that can be represented as a table are likely to be stored in your program as a data structure. \n",
    "\n",
    "Let's look at some alternative ways to write data stored in a data structure to a .txt file. \n",
    "\n",
    "Notice that in each case the data is stored as string data type. "
   ]
  },
  {
   "cell_type": "markdown",
   "id": "67825ff6",
   "metadata": {},
   "source": [
    "__Example:__ Write a high score table stored as two __lists__ to a new file with the filename scores.txt"
   ]
  },
  {
   "cell_type": "code",
   "execution_count": 242,
   "id": "c02f9679",
   "metadata": {},
   "outputs": [],
   "source": [
    "names = ['Elena', 'Sajid', 'Tom', 'Farhad', 'Manesha']\n",
    "scores = [550, 480, 380, 305, 150]\n",
    "\n",
    "file = open('scores.txt', 'w') \n",
    "\n",
    "# loop through two lists - keys and values of dictionary\n",
    "for n, s in zip(names, scores):\n",
    "    file.write(n + ' ' + str(s) + '\\n')\n",
    "\n",
    "file.close()"
   ]
  },
  {
   "cell_type": "markdown",
   "id": "dfa4ab61",
   "metadata": {},
   "source": [
    "__Example:__ Write a high score table stored as a __dictionary__ to a new file with the filename scores.txt"
   ]
  },
  {
   "cell_type": "code",
   "execution_count": 234,
   "id": "76948685",
   "metadata": {},
   "outputs": [],
   "source": [
    "scores = {'Elena': 550,\n",
    "          'Sajid': 480,\n",
    "          'Tom': 380,\n",
    "          'Farhad': 305,\n",
    "          'Manesha': 150}\n",
    "\n",
    "file = open('scores.txt', 'w') \n",
    "\n",
    "# loop through two lists - keys and values of dictionary\n",
    "for k, v in scores.items():\n",
    "    file.write(k + ' ' + str(v) + '\\n')\n",
    "\n",
    "file.close()"
   ]
  },
  {
   "cell_type": "code",
   "execution_count": null,
   "id": "a4706966",
   "metadata": {},
   "outputs": [],
   "source": [
    "The simplest "
   ]
  },
  {
   "cell_type": "code",
   "execution_count": null,
   "id": "4b5df53d",
   "metadata": {},
   "outputs": [],
   "source": [
    "open('file.txt', 'w').close()"
   ]
  },
  {
   "cell_type": "markdown",
   "id": "ec9342ae",
   "metadata": {},
   "source": [
    "### Closing Files\n",
    "Why do we need to close a file?\n",
    "1. Not automatically closed.  \n",
    "3. Saves changes to file.\n",
    "4. Depending on OS, you may not be able to open a file simultaneously for reading and writing e.g. a program attempts to open a file for writing that is already open for reading"
   ]
  },
  {
   "cell_type": "markdown",
   "id": "6bae3414",
   "metadata": {},
   "source": [
    "### Appending files\n",
    "__Example:__ Append (add a new entry to the end of) scores.txt so that the tabel reads\n",
    "\n",
    "| Place | Name | Score | \n",
    "| :-: | :-: | :-: |  \n",
    "| 1 | Elena | 550 | \n",
    "| 2 | Sajid | 480 | \n",
    "| 3 | Tom | 380 | \n",
    "| 4 | Farhad | 305 | \n",
    "| 5 | Manesha | 150 |\n",
    "| 6 | Jen | 100 |\n",
    "\n"
   ]
  },
  {
   "cell_type": "code",
   "execution_count": 170,
   "id": "b514b4e2",
   "metadata": {},
   "outputs": [],
   "source": [
    "file = open('scores.txt', 'a') # mode specifier to append not overwrite\n",
    "\n",
    "file.write('Jen 100 \\n')\n",
    "\n",
    "file.close()"
   ]
  },
  {
   "cell_type": "markdown",
   "id": "94af116e",
   "metadata": {},
   "source": [
    "# Reading Files \n",
    "\n",
    "We will use the methods \n",
    "- `read()`\n",
    "- `close()`"
   ]
  },
  {
   "cell_type": "markdown",
   "id": "1439c058",
   "metadata": {},
   "source": [
    "`read()` : returns the file contents as a single string"
   ]
  },
  {
   "cell_type": "code",
   "execution_count": 197,
   "id": "9bfe9858",
   "metadata": {},
   "outputs": [
    {
     "name": "stdout",
     "output_type": "stream",
     "text": [
      "Elena 550\n",
      "Sajid 480\n",
      "Tom 380\n",
      "Farhad 305\n",
      "Manesha 150\n",
      " <class 'str'>\n"
     ]
    }
   ],
   "source": [
    "file = open('scores.txt', 'r') # read-only mode is default mode\n",
    "msg = file.read()\n",
    "print(msg, type(msg))\n",
    "file.close()"
   ]
  },
  {
   "cell_type": "markdown",
   "id": "f97f6fef",
   "metadata": {},
   "source": [
    "The file contents are imported as a list. \n",
    "Each line is an item of the list.\n",
    "Each item is a string. "
   ]
  },
  {
   "cell_type": "code",
   "execution_count": 172,
   "id": "de512046",
   "metadata": {},
   "outputs": [
    {
     "name": "stdout",
     "output_type": "stream",
     "text": [
      "Elena 550\n",
      "Sajid 480\n",
      "Tom 380\n",
      "Farhad 305\n",
      "Manesha 150\n",
      "Jen 100 \n"
     ]
    }
   ],
   "source": [
    "file = open('scores.txt', 'r')\n",
    "for line in file:\n",
    "    print(line, end='') \n",
    "file.close()"
   ]
  },
  {
   "cell_type": "markdown",
   "id": "75951b57",
   "metadata": {},
   "source": [
    "A string can be broken into groups of characters seperated by spaces (or other delimiters) using `split`."
   ]
  },
  {
   "cell_type": "code",
   "execution_count": 173,
   "id": "02686230",
   "metadata": {},
   "outputs": [
    {
     "name": "stdout",
     "output_type": "stream",
     "text": [
      "['Elena', 'Sajid', 'Tom', 'Farhad', 'Manesha', 'Jen'] ['550', '480', '380', '305', '150', '100']\n",
      "The winner is Elena!\n",
      "Elena's score is 550\n"
     ]
    }
   ],
   "source": [
    "names = []\n",
    "scores = []\n",
    "\n",
    "file = open('scores.txt', 'r')\n",
    "for line in file:\n",
    "    L = line.split()\n",
    "    names.append(L[0])\n",
    "    scores.append(L[1])\n",
    "file.close()\n",
    "\n",
    "print(names, scores)\n",
    "print(f\"The winner is {names[0]}!\\n{names[0]}'s score is {scores[0]}\")"
   ]
  },
  {
   "cell_type": "markdown",
   "id": "42903a46",
   "metadata": {},
   "source": [
    "# Reading and Writing with `r+`, `w+`, `a+`\n",
    "\n",
    "Be aware of the *stream position* when opening a file to read and write. \n",
    "\n",
    "We can imagine the stream position as the position of the cursor in the file\n",
    "\n",
    "The stream position is at the end of the file:\n",
    "- after over-writing\n",
    "- before appending\n",
    "- after appending\n",
    "\n",
    "The stream position can be moved to the start of the file (or any other position) with `seek()`.\n",
    "\n",
    "The file can be erased from a position onwards with `truncate()` (useful for overwriting a file in `r+` mode)."
   ]
  },
  {
   "cell_type": "markdown",
   "id": "79731621",
   "metadata": {},
   "source": [
    "__Example:__ Open a file, add some data then read new contents"
   ]
  },
  {
   "cell_type": "code",
   "execution_count": 174,
   "id": "f768d92b",
   "metadata": {},
   "outputs": [
    {
     "name": "stdout",
     "output_type": "stream",
     "text": [
      "Elena 550\n",
      "Sajid 480\n",
      "Tom 380\n",
      "Farhad 305\n",
      "Manesha 150\n",
      "Jen 100 \n",
      "Ben 50 \n",
      "Ola 500 \n"
     ]
    }
   ],
   "source": [
    "file = open('scores.txt', 'a+') # We want to read then append\n",
    "\n",
    "file.write('Ben 50 \\n')         # append some data\n",
    "file.write('Ola 500 \\n')\n",
    "\n",
    "file.seek(0)                    # go back to start of file\n",
    "\n",
    "for line in file:               # read file contents\n",
    "    print(line, end='')\n",
    "    \n",
    "file.close()"
   ]
  },
  {
   "cell_type": "markdown",
   "id": "1d4040b4",
   "metadata": {},
   "source": [
    "# Automatically closing files\n",
    "It can be easy to forget to close a file with `close()`\n",
    "\n",
    "`with open()` can be used instead of `open()` to remove the need for `close()`:"
   ]
  },
  {
   "cell_type": "code",
   "execution_count": 231,
   "id": "7c449a8d",
   "metadata": {},
   "outputs": [
    {
     "name": "stdout",
     "output_type": "stream",
     "text": [
      "next bit of the program\n"
     ]
    }
   ],
   "source": [
    "with open('scores.txt', 'a') as file:\n",
    "    file.write('Ria 460 \\n')\n",
    "    \n",
    "print('next bit of the program') # Code unindents. File automatically closed"
   ]
  },
  {
   "cell_type": "code",
   "execution_count": 212,
   "id": "56587e42",
   "metadata": {},
   "outputs": [
    {
     "name": "stdout",
     "output_type": "stream",
     "text": [
      "Elena 550\n",
      "Sajid 480\n",
      "Tom 380\n",
      "Farhad 305\n",
      "Manesha 150\n",
      "\n"
     ]
    }
   ],
   "source": [
    "with open('scores.txt', 'r') as file:\n",
    "    print(file.read())"
   ]
  },
  {
   "cell_type": "markdown",
   "id": "8a1ec746",
   "metadata": {},
   "source": [
    "__Example:__ Sort the players and scores so they are shown in the file scores.txt from first place to last place "
   ]
  },
  {
   "cell_type": "code",
   "execution_count": 243,
   "id": "ca30efda",
   "metadata": {},
   "outputs": [
    {
     "name": "stdout",
     "output_type": "stream",
     "text": [
      "\u0000\u0000\u0000\u0000\u0000\u0000\u0000\u0000\u0000\u0000\u0000\u0000\u0000\u0000\u0000\u0000\u0000\u0000\u0000\u0000\u0000\u0000\u0000\u0000\u0000\u0000\u0000\u0000\u0000\u0000\u0000\u0000\u0000\u0000\u0000\u0000\u0000\u0000\u0000\u0000\u0000\u0000\u0000\u0000\u0000\u0000\u0000\u0000\u0000\u0000\u0000\u0000\u0000\u0000\u0000\u0000Elena 550\n",
      "Sajid 480\n",
      "Tom 380\n",
      "Farhad 305\n",
      "Manesha 150\n",
      "\n"
     ]
    }
   ],
   "source": [
    "with open('scores.txt', 'r+') as file: # read then overwrite\n",
    "    names = []\n",
    "    scores = [] \n",
    "\n",
    "    for line in file:                  # read\n",
    "        L = line.split()\n",
    "        names.append(L[0])\n",
    "        scores.append(L[1])\n",
    "    \n",
    "    # perform an operation: \n",
    "    # sorted can sort zipped lists using order of first list\n",
    "    sorted_by_score = sorted(zip(scores, names), reverse=True)\n",
    "    \n",
    "    file.truncate(0)                   # erase file  \n",
    "    \n",
    "    for item in sorted_by_score:       # write\n",
    "        file.write(item[1] + ' ' + item[0] + '\\n') \n",
    "        \n",
    "        \n",
    "    file.seek(0)                       # return position to start \n",
    "    print(file.read())                 # print contents of file"
   ]
  },
  {
   "cell_type": "markdown",
   "id": "383b3678",
   "metadata": {},
   "source": [
    "__Question:__ What if we wanted to write only the top three scores to the file?"
   ]
  },
  {
   "cell_type": "markdown",
   "id": "47e88d5c",
   "metadata": {},
   "source": [
    "# Input\n",
    "\n",
    "Input is a useful function that accepts typed input from the user and stores this as string data"
   ]
  },
  {
   "cell_type": "code",
   "execution_count": 224,
   "id": "3bc47454",
   "metadata": {},
   "outputs": [
    {
     "name": "stdout",
     "output_type": "stream",
     "text": [
      "Enter a player name: Hemma\n",
      "Hemma\n"
     ]
    }
   ],
   "source": [
    "score = 160\n",
    "new_player = input(\"Enter a player name: \") # type response when prompted and press enter \n",
    "print(new_player)"
   ]
  },
  {
   "cell_type": "markdown",
   "id": "5e85ee81",
   "metadata": {},
   "source": [
    "This is a quick and easy way to add dynamic input to your program.\n",
    "\n",
    "__Example:__ Get a user to ente their name and add their name and score to the file 'scores.txt'"
   ]
  },
  {
   "cell_type": "code",
   "execution_count": 246,
   "id": "0dd8660e",
   "metadata": {},
   "outputs": [
    {
     "name": "stdout",
     "output_type": "stream",
     "text": [
      "Enter a player name: Hemma\n"
     ]
    }
   ],
   "source": [
    "score = 160\n",
    "new_player = input(\"Enter a player name: \")\n",
    "\n",
    "file = open('scores.txt', 'a') # mode specifier to append not overwrite\n",
    "\n",
    "file.write(f'{new_player} {score} \\n')\n",
    "\n",
    "file.close()"
   ]
  },
  {
   "cell_type": "markdown",
   "id": "f9e16a8a",
   "metadata": {},
   "source": [
    "__Questions for in class exercises:__ \n",
    "\n",
    "How could we check if this was a new high score?\n",
    "\n",
    "Replace leader in leader board? "
   ]
  },
  {
   "cell_type": "markdown",
   "id": "123767c1",
   "metadata": {},
   "source": [
    "Other file types\n",
    "\n",
    "https://automatetheboringstuff.com/chapter8/\n",
    "\n",
    "https://automatetheboringstuff.com/chapter9/"
   ]
  },
  {
   "cell_type": "markdown",
   "id": "c21b5936",
   "metadata": {
    "slideshow": {
     "slide_type": "slide"
    }
   },
   "source": [
    "__Try it yourself__\n",
    "\n",
    "1. Save the previous 4 code cells contents to a file, `interrogate_file.py`. \n",
    "\n",
    "1. Correct the following line to specify the path to `my_file.txt`, *relative* to the location of `interrogate.py`:\n",
    ">`file = open(\"sample_data/my_file.txt’\", \"w\" )`\n",
    "\n",
    "1. Run `interrogate_file.py` from the terminal to see the file get created and display information about `my_file.txt`. "
   ]
  },
  {
   "cell_type": "markdown",
   "id": "f1d60b26",
   "metadata": {},
   "source": [
    "Newline `'\\n'` removed using `strip()`\n",
    "\n",
    "`strip()` can be applied to each item in the list using a list comprehension."
   ]
  },
  {
   "cell_type": "code",
   "execution_count": 90,
   "id": "9df51083",
   "metadata": {
    "scrolled": true
   },
   "outputs": [
    {
     "name": "stdout",
     "output_type": "stream",
     "text": [
      "['Elena 550', 'Sajid 480', 'Tom 380', 'Farhad 305', 'Manesha 150', 'Jen 100']\n"
     ]
    }
   ],
   "source": [
    "words = [line.strip() for line in msg]\n",
    "print(words)"
   ]
  }
 ],
 "metadata": {
  "kernelspec": {
   "display_name": "Python 3",
   "language": "python",
   "name": "python3"
  },
  "language_info": {
   "codemirror_mode": {
    "name": "ipython",
    "version": 3
   },
   "file_extension": ".py",
   "mimetype": "text/x-python",
   "name": "python",
   "nbconvert_exporter": "python",
   "pygments_lexer": "ipython3",
   "version": "3.8.8"
  }
 },
 "nbformat": 4,
 "nbformat_minor": 5
}
