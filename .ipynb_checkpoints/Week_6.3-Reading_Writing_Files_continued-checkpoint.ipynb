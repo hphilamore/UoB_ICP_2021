{
 "cells": [
  {
   "cell_type": "markdown",
   "id": "6b8fc1cc",
   "metadata": {},
   "source": [
    "# Introduction to Computer Programming\n",
    "\n",
    "## Week 6.3: Reading & Writing Files, Continued\n",
    "\n",
    "* * *\n",
    "\n",
    "<img src=\"img/full-colour-logo-UoB.png\" alt=\"Bristol\" style=\"width: 300px;\"/>"
   ]
  },
  {
   "cell_type": "markdown",
   "id": "e0b9a1f5",
   "metadata": {},
   "source": [
    "We use/store data in different formats.\n",
    "\n",
    "Some Python modules for reading/writing, importing/exporting data files:\n",
    "- `csv`: working with delimited files\n",
    "- `os`: operating-system level operations e.g. manipulating a file-system"
   ]
  },
  {
   "cell_type": "markdown",
   "id": "2c4689b9",
   "metadata": {},
   "source": [
    "# CSV (and other delimited files)"
   ]
  },
  {
   "cell_type": "markdown",
   "id": "b263d290",
   "metadata": {},
   "source": [
    "CSV (comma-seperated-value) file : a delimited text file that uses a comma to separate values.\n",
    "\n",
    "A delimited file uses a set character (tab, space, vertical bar etc) to separate values. \n",
    "\n",
    "The CSV file is a widely used format for storing tabular data in plain text   and is supported by software applications e.g. Microsoft Excel, Google Spreadsheet.\n",
    "\n",
    "\n",
    "\n",
    "\n",
    "\n",
    "<img src=\"img/csv_file_example.png\" alt=\"Bristol\" style=\"width: 400px;\"/>"
   ]
  },
  {
   "cell_type": "markdown",
   "id": "e81d5085",
   "metadata": {},
   "source": [
    "Python's `csv` module can be used to handle files of this type.\n",
    "\n",
    "https://docs.python.org/3/library/csv.html"
   ]
  },
  {
   "cell_type": "code",
   "execution_count": 40,
   "id": "6933c551",
   "metadata": {},
   "outputs": [],
   "source": [
    "import csv"
   ]
  },
  {
   "cell_type": "markdown",
   "id": "dc67e649",
   "metadata": {},
   "source": [
    "### Writing CSV files"
   ]
  },
  {
   "cell_type": "markdown",
   "id": "610f3d0f",
   "metadata": {},
   "source": [
    "Steps for writing/appending a CSV are almost the same as for a text file  (only step 2 is different):\n",
    "1. open the csv file in `w`(write) or `a`(append) mode using `open` / `with open`\n",
    "1. create a CSV writer object using `writer` \n",
    "1. write data to file using `writerow`(`s`)\n",
    "1. (close file using `close`) "
   ]
  },
  {
   "cell_type": "code",
   "execution_count": 49,
   "id": "df1d76ed",
   "metadata": {},
   "outputs": [],
   "source": [
    "import csv\n",
    "\n",
    "f = open('sample_data/scores.csv', 'w')\n",
    "\n",
    "writer = csv.writer(f) \n",
    "\n",
    "writer.writerow([1, 'Elena', 550]) # row should be iterable, e.g. list\n",
    "\n",
    "f.close()"
   ]
  },
  {
   "cell_type": "markdown",
   "id": "8728f9e0",
   "metadata": {},
   "source": [
    "__Example:__ Edit the file 'scores.txt' to create the hihg score table shown as a csv file (we have already written the first line).\n",
    "\n",
    "| Place | Name | Score | \n",
    "| :-: | :-: | :-: |  \n",
    "| 1 | Elena | 550 | \n",
    "| 2 | Sajid | 480 | \n",
    "| 3 | Tom | 380 | \n",
    "| 4 | Farhad | 305 | \n",
    "| 5 | Manesha | 150 |"
   ]
  },
  {
   "cell_type": "markdown",
   "id": "e9570ca1",
   "metadata": {},
   "source": [
    "### Appending CSV files"
   ]
  },
  {
   "cell_type": "code",
   "execution_count": 50,
   "id": "863fe709",
   "metadata": {},
   "outputs": [],
   "source": [
    "import csv\n",
    "\n",
    "with open('sample_data/scores.csv', 'a') as f:\n",
    "\n",
    "    writer = csv.writer(f) \n",
    "\n",
    "    writer.writerow([2, 'Sajid', 480]) \n",
    "    writer.writerow([3, 'Tom', 380]) \n",
    "    writer.writerow([4, 'Farhad', 305]) \n",
    "    writer.writerow([5, 'Manesha', 150]) "
   ]
  },
  {
   "cell_type": "markdown",
   "id": "cb500f90",
   "metadata": {},
   "source": [
    "If you open `scores.csv` you will see there is an additional blank row between subsequent rows: \n",
    "\n",
    "<img src=\"img/scores_csv.png\" alt=\"Bristol\" style=\"width: 200px;\"/>"
   ]
  },
  {
   "cell_type": "markdown",
   "id": "aeff47b0",
   "metadata": {},
   "source": [
    "To avoid the blank line, pass the argument `newline=''` to the open function. "
   ]
  },
  {
   "cell_type": "markdown",
   "id": "3359e936",
   "metadata": {},
   "source": [
    "High score table data:"
   ]
  },
  {
   "cell_type": "code",
   "execution_count": 51,
   "id": "25078a44",
   "metadata": {},
   "outputs": [],
   "source": [
    "header = ['place', 'name', 'score']\n",
    "\n",
    "data = [[1, 'Elena', 550], \n",
    "        [2, 'Sajid', 480],\n",
    "        [3, 'Tom', 380],\n",
    "        [4, 'Farhad', 305],\n",
    "        [5, 'Manesha', 150]    \n",
    "       ]"
   ]
  },
  {
   "cell_type": "markdown",
   "id": "d28bd4c7",
   "metadata": {},
   "source": [
    "__Example:__ Write the high score table data to a csv file"
   ]
  },
  {
   "cell_type": "code",
   "execution_count": 52,
   "id": "802de1f1",
   "metadata": {},
   "outputs": [],
   "source": [
    "import csv\n",
    "\n",
    "with open('sample_data/scores.csv', 'w', newline='') as f:\n",
    "\n",
    "    writer = csv.writer(f) \n",
    "\n",
    "    writer.writerow(header) # write single row\n",
    "    \n",
    "    writer.writerows(data)  # write multiple rows\n"
   ]
  },
  {
   "cell_type": "markdown",
   "id": "0693d179",
   "metadata": {},
   "source": [
    "<img src=\"img/scores_csv_newline.png\" alt=\"Bristol\" style=\"width: 200px;\"/>"
   ]
  },
  {
   "cell_type": "markdown",
   "id": "b31c30a5",
   "metadata": {},
   "source": [
    "### Writing data as columns\n",
    "\n",
    "The data for the high score table may be stored in the Python programme as:\n",
    "\n",
    "    places = [1, 2, 3, 4, 5]\n",
    "    names = ['Elena', 'Sajid', 'Tom', 'Farhad', 'Manesha']\n",
    "    scores = [550, 480, 380, 305, 150]\n",
    "    \n",
    "We cannot write a column, explicitly as we would in Excel. \n",
    "\n",
    "The CSV file is essentially a text file with commas to separate values. "
   ]
  },
  {
   "cell_type": "markdown",
   "id": "77531397",
   "metadata": {},
   "source": [
    "We can use `zip` to transpose the data from rows to columns before writing to a CSV file. \n",
    "\n",
    "Like when using `zip` to iterate through two lists, items from mutiple lists are regrouped elementwise.  "
   ]
  },
  {
   "cell_type": "code",
   "execution_count": 53,
   "id": "e94505a0",
   "metadata": {},
   "outputs": [
    {
     "name": "stdout",
     "output_type": "stream",
     "text": [
      "[(1, 'Elena', 550), (2, 'Sajid', 480), (3, 'Tom', 380), (4, 'Farhad', 305), (5, 'Manesha', 150)]\n"
     ]
    }
   ],
   "source": [
    "places = [1, 2, 3, 4, 5]\n",
    "names = ['Elena', 'Sajid', 'Tom', 'Farhad', 'Manesha']\n",
    "scores = [550, 480, 380, 305, 150]\n",
    "\n",
    "data = zip(places, names, scores)\n",
    "\n",
    "print(list(data))"
   ]
  },
  {
   "cell_type": "markdown",
   "id": "14c3c3db",
   "metadata": {},
   "source": [
    "To transpose a list of lists we can use `*`. \n",
    "\n",
    "This *unpacks* the list (removing the outer brackets). "
   ]
  },
  {
   "cell_type": "code",
   "execution_count": 54,
   "id": "239f1dc3",
   "metadata": {},
   "outputs": [
    {
     "name": "stdout",
     "output_type": "stream",
     "text": [
      "[(1, 'Elena', 550), (2, 'Sajid', 480), (3, 'Tom', 380), (4, 'Farhad', 305), (5, 'Manesha', 150)]\n"
     ]
    }
   ],
   "source": [
    "data = [[1, 2, 3, 4, 5], \n",
    "        ['Elena', 'Sajid', 'Tom', 'Farhad', 'Manesha'],\n",
    "        [550, 480, 380, 305, 150]    \n",
    "       ]\n",
    "\n",
    "data_cols = zip(*data)\n",
    "\n",
    "print(list(data_cols))"
   ]
  },
  {
   "cell_type": "markdown",
   "id": "02e0cf9b",
   "metadata": {},
   "source": [
    "### Reading CSV files\n",
    "Steps for reading a CSV are almost the same as for a text file (only step 2 is different):\n",
    "1. open the csv file in `r`(read) mode (default mode specifier) \n",
    "1. create a CSV reader object using `reader` \n",
    "1. The file contents are imported as an *iterable* object i.e. behaves as a list. \n",
    "<br>The items of the iterable object are the lines of the file as lists.\n",
    "<br>Then items of each list are the comma separated values as strings. \n",
    "1. (close file using `close`) "
   ]
  },
  {
   "cell_type": "code",
   "execution_count": 56,
   "id": "dfe11eef",
   "metadata": {},
   "outputs": [
    {
     "name": "stdout",
     "output_type": "stream",
     "text": [
      "['place', 'name', 'score']\n",
      "['1', 'Elena', '550']\n",
      "['2', 'Sajid', '480']\n",
      "['3', 'Tom', '380']\n",
      "['4', 'Farhad', '305']\n",
      "['5', 'Manesha', '150']\n"
     ]
    }
   ],
   "source": [
    "import csv\n",
    "\n",
    "f = open('sample_data/scores.csv')\n",
    "\n",
    "reader = csv.reader(f) \n",
    "\n",
    "for line in reader:\n",
    "    print(line)\n",
    "\n",
    "f.close()"
   ]
  },
  {
   "cell_type": "markdown",
   "id": "d1ed6a3f",
   "metadata": {},
   "source": [
    "# Iterating multiple files \n",
    "\n",
    "We may want to include multiple files in a program. \n",
    "\n",
    "For effiency it can be useful to iterate over files in a directory for example. \n",
    "\n",
    "the python module `os` has lots of sueful functions for system level operations.\n",
    "\n",
    "https://docs.python.org/3/library/os.html"
   ]
  },
  {
   "cell_type": "markdown",
   "id": "7e106d07",
   "metadata": {},
   "source": [
    "__Example:__ Print the names of all the files in the directory `sample_data/a_folder`"
   ]
  },
  {
   "cell_type": "code",
   "execution_count": 87,
   "id": "7fbec416",
   "metadata": {},
   "outputs": [
    {
     "name": "stdout",
     "output_type": "stream",
     "text": [
      "sample_student_data.csv\n",
      "signal_data.csv\n",
      "temperature_data.csv\n"
     ]
    }
   ],
   "source": [
    "import os\n",
    "\n",
    "# gets the current directory as a string\n",
    "current_directory = os.getcwd() \n",
    "\n",
    "# joins directory names to create a path to the target directory\n",
    "directory_to_iterate = os.path.join(current_directory, 'sample_data', 'a_folder')\n",
    "\n",
    "# loops through the files in that directory as a list\n",
    "for file in os.listdir(directory_to_iterate):\n",
    "    print(file)"
   ]
  },
  {
   "cell_type": "code",
   "execution_count": null,
   "id": "beb89cf0",
   "metadata": {},
   "outputs": [],
   "source": []
  },
  {
   "cell_type": "code",
   "execution_count": null,
   "id": "7e58d37c",
   "metadata": {},
   "outputs": [],
   "source": [
    "# Accessing multiple files "
   ]
  },
  {
   "cell_type": "code",
   "execution_count": null,
   "id": "e9e56d38",
   "metadata": {},
   "outputs": [],
   "source": []
  },
  {
   "cell_type": "markdown",
   "id": "123767c1",
   "metadata": {},
   "source": [
    "TODO : \n",
    "Other file locations \n",
    "\n",
    "\n",
    "\n",
    "\n",
    "Other file types\n",
    "\n",
    "csv\n",
    "\n",
    "https://www.pluralsight.com/guides/importing-data-from-tab-delimited-files-with-python\n",
    "\n",
    "https://www.pythontutorial.net/python-basics/python-write-csv-file/\n",
    "\n",
    "\n",
    "\n",
    "reading in multiple files, creating a directory \n",
    "\n",
    "https://automatetheboringstuff.com/chapter8/\n",
    "\n",
    "https://automatetheboringstuff.com/chapter9/"
   ]
  },
  {
   "cell_type": "markdown",
   "id": "c28fd14d",
   "metadata": {},
   "source": [
    "Further reading -\n",
    "\n",
    "excel files?\n",
    "\n",
    "dictionaries\n",
    "\n",
    "csv librray \n",
    "\n",
    "os librray for making diretcories "
   ]
  },
  {
   "cell_type": "markdown",
   "id": "4f474be7",
   "metadata": {},
   "source": [
    "challenge \n",
    "\n",
    "https://thispointer.com/python-add-a-column-to-an-existing-csv-file/"
   ]
  },
  {
   "cell_type": "code",
   "execution_count": null,
   "id": "717e2497",
   "metadata": {},
   "outputs": [],
   "source": [
    "example exercise total area\n",
    "https://www.pythontutorial.net/python-basics/python-read-csv-file/"
   ]
  },
  {
   "cell_type": "markdown",
   "id": "ea57425c",
   "metadata": {},
   "source": [
    "# Creating a directory\n",
    "We have seen how to create a file in another directory, but that directory must already exist. \n",
    "\n",
    "The Python `os` module is useful for system level operations.\n",
    "https://docs.python.org/3/library/os.html"
   ]
  },
  {
   "cell_type": "code",
   "execution_count": 57,
   "id": "c362e0a0",
   "metadata": {},
   "outputs": [],
   "source": [
    "import os"
   ]
  },
  {
   "cell_type": "markdown",
   "id": "9565200a",
   "metadata": {},
   "source": [
    "To create a new directory:"
   ]
  },
  {
   "cell_type": "code",
   "execution_count": 76,
   "id": "e4d11c7a",
   "metadata": {},
   "outputs": [
    {
     "data": {
      "text/plain": [
       "'C:\\\\Users\\\\hemma\\\\iCloudDrive\\\\Documents\\\\Code\\\\Jupyter_NBooks\\\\Teaching\\\\UoB\\\\UoB_ICP_2021'"
      ]
     },
     "execution_count": 76,
     "metadata": {},
     "output_type": "execute_result"
    }
   ],
   "source": [
    "os.getcwd()"
   ]
  },
  {
   "cell_type": "code",
   "execution_count": 77,
   "id": "df30b496",
   "metadata": {},
   "outputs": [],
   "source": [
    "os.chdir(os.path.join(os.getcwd(), 'sample_data'))\n",
    "\n",
    "os.mkdir('a_folder')\n",
    "\n",
    "os.makedirs(os.path.join('another_folder', 'my_folder'))"
   ]
  },
  {
   "cell_type": "code",
   "execution_count": 78,
   "id": "36517164",
   "metadata": {},
   "outputs": [
    {
     "data": {
      "text/plain": [
       "'C:\\\\Users\\\\hemma\\\\iCloudDrive\\\\Documents\\\\Code\\\\Jupyter_NBooks\\\\Teaching\\\\UoB\\\\UoB_ICP_2021\\\\sample_data'"
      ]
     },
     "execution_count": 78,
     "metadata": {},
     "output_type": "execute_result"
    }
   ],
   "source": [
    "os.getcwd()"
   ]
  },
  {
   "cell_type": "code",
   "execution_count": 79,
   "id": "5159a28c",
   "metadata": {},
   "outputs": [],
   "source": [
    "os.chdir(os.path.join(os.getcwd(), '../'))"
   ]
  },
  {
   "cell_type": "code",
   "execution_count": 65,
   "id": "6f19b9a5",
   "metadata": {},
   "outputs": [
    {
     "data": {
      "text/plain": [
       "'C:\\\\Users\\\\hemma\\\\iCloudDrive\\\\Documents\\\\Code\\\\Jupyter_NBooks\\\\Teaching\\\\UoB\\\\UoB_ICP_2021'"
      ]
     },
     "execution_count": 65,
     "metadata": {},
     "output_type": "execute_result"
    }
   ],
   "source": [
    "os.getcwd()"
   ]
  },
  {
   "cell_type": "code",
   "execution_count": null,
   "id": "e0147343",
   "metadata": {},
   "outputs": [],
   "source": [
    "To creates multiple new directories, listed in downstream order:"
   ]
  },
  {
   "cell_type": "code",
   "execution_count": null,
   "id": "2a24de58",
   "metadata": {},
   "outputs": [],
   "source": [
    "os.mkdirs"
   ]
  }
 ],
 "metadata": {
  "kernelspec": {
   "display_name": "Python 3",
   "language": "python",
   "name": "python3"
  },
  "language_info": {
   "codemirror_mode": {
    "name": "ipython",
    "version": 3
   },
   "file_extension": ".py",
   "mimetype": "text/x-python",
   "name": "python",
   "nbconvert_exporter": "python",
   "pygments_lexer": "ipython3",
   "version": "3.8.8"
  }
 },
 "nbformat": 4,
 "nbformat_minor": 5
}
