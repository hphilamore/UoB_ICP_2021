{
 "cells": [
  {
   "cell_type": "markdown",
   "id": "f9fac319",
   "metadata": {
    "slideshow": {
     "slide_type": "slide"
    }
   },
   "source": [
    "# Introduction to Computer Programming\n",
    "\n",
    "## Week 8.2: Curve Fitting \n",
    "\n",
    "* * *\n",
    "\n",
    "<img src=\"img/full-colour-logo-UoB.png\" alt=\"Bristol\" style=\"width: 300px;\"/>"
   ]
  },
  {
   "cell_type": "markdown",
   "id": "7bfde0b3",
   "metadata": {
    "slideshow": {
     "slide_type": "slide"
    }
   },
   "source": [
    "It can be useful to define a relationship between two variables, x and y. \n",
    "\n",
    "We often want to 'fit' a function to a set of data points (e.g. experimental data).\n",
    "\n",
    "Python has several tools (e.g. Numpy and Scipy packages) for finding relationships in a set of data."
   ]
  },
  {
   "cell_type": "code",
   "execution_count": 2,
   "id": "44cb628d",
   "metadata": {},
   "outputs": [],
   "source": [
    "import numpy as np\n",
    "import matplotlib.pyplot as plt\n",
    "%matplotlib inline"
   ]
  },
  {
   "cell_type": "markdown",
   "id": "163c09ab",
   "metadata": {
    "slideshow": {
     "slide_type": "slide"
    }
   },
   "source": [
    "<a id='LinearRegression'></a>\n",
    "# Linear Regression\n",
    "Linear regression calculates a __linear function__ that minimizes the combined error between the fitted line and the data points. \n",
    "\n",
    "<img src=\"img/linear_regression.png\" alt=\"Drawing\" style=\"width: 300px;\"/>"
   ]
  },
  {
   "cell_type": "markdown",
   "id": "9e9bbe6d",
   "metadata": {
    "slideshow": {
     "slide_type": "slide"
    }
   },
   "source": [
    "A __linear function__ has the form:\n",
    "$$\n",
    "y = mx + c\n",
    "$$"
   ]
  },
  {
   "cell_type": "markdown",
   "id": "91bfad14",
   "metadata": {
    "slideshow": {
     "slide_type": "slide"
    }
   },
   "source": [
    "<a id='FittingPolynomialFunction'></a>\n",
    "# Fitting a polynomial function\n",
    "\n",
    ">*__Polynomial function__: a function involving only non-negative integer powers of x.*\n",
    "\n",
    "__1st order polynomial__ &nbsp; &nbsp; $y = \\mathrm{a}x^1 + \\mathrm{b}x^0$\n",
    "<br>(linear function)\n",
    "\n",
    "__2nd order polynomial__ &nbsp; &nbsp; $y = \\mathrm{c}x^2 + \\mathrm{d}x^1 + \\mathrm{e}x^0$\n",
    "\n",
    "__3rd order polynomial__ &nbsp; &nbsp; $y = \\mathrm{f}x^3 + \\mathrm{g}x^2 + \\mathrm{h}x^1 + \\mathrm{i}x^0$\n"
   ]
  },
  {
   "cell_type": "code",
   "execution_count": 84,
   "id": "ac0f26d1",
   "metadata": {
    "scrolled": true,
    "slideshow": {
     "slide_type": "slide"
    }
   },
   "outputs": [
    {
     "data": {
      "text/plain": [
       "[<matplotlib.lines.Line2D at 0x1df5c3f8580>]"
      ]
     },
     "execution_count": 84,
     "metadata": {},
     "output_type": "execute_result"
    },
    {
     "data": {
      "image/png": "[encoded data removed]",
      "text/plain": [
       "<Figure size 432x288 with 1 Axes>"
      ]
     },
     "metadata": {
      "needs_background": "light"
     },
     "output_type": "display_data"
    }
   ],
   "source": [
    "x = np.array([1, 6, 3, 4, 10, 2, 7, 8, 9, 5])\n",
    "y = np.array([2, 4, 5, 4, 13, 3, 4, 8, 12, 4])\n",
    "plt.plot(x,y,'o')"
   ]
  },
  {
   "cell_type": "markdown",
   "id": "d4b1e33b",
   "metadata": {
    "slideshow": {
     "slide_type": "slide"
    }
   },
   "source": [
    "A polynomial curve can be fitted using the `numpy.polyfit` function. \n",
    "\n",
    "Function arguments: \n",
    "- independent variables \n",
    "- dependent variables \n",
    "- order of the polynomial \n",
    "\n",
    "`polyfit` function returns the coefficients of each term of the polynomial."
   ]
  },
  {
   "cell_type": "code",
   "execution_count": 50,
   "id": "c9f33fda",
   "metadata": {},
   "outputs": [
    {
     "name": "stdout",
     "output_type": "stream",
     "text": [
      "1.0727272727272728 -5.61733354972272e-15\n",
      "0.19318181818181812 -1.0522727272727261 4.249999999999994\n"
     ]
    }
   ],
   "source": [
    "a, b = np.polyfit(x, y, 1)     # 1st order poly\n",
    " \n",
    "c, d, e = np.polyfit(x, y, 2)  # 2nd order poly\n",
    "\n",
    "print(a, b)\n",
    "print(c, d, e)"
   ]
  },
  {
   "cell_type": "markdown",
   "id": "645313a9",
   "metadata": {},
   "source": [
    "It can be more convenient to store the coefficients as a data structure:\n",
    "- for higher order polynomials\n",
    "- for genertaed the fitted curve"
   ]
  },
  {
   "cell_type": "code",
   "execution_count": 51,
   "id": "8234cb03",
   "metadata": {},
   "outputs": [
    {
     "name": "stdout",
     "output_type": "stream",
     "text": [
      "[ 1.07272727e+00 -5.61733355e-15]\n",
      "0.19318181818181812 -1.0522727272727261 4.249999999999994\n"
     ]
    }
   ],
   "source": [
    "coeffs_1 = np.polyfit(x, y, 1) # 1st order poly \n",
    "\n",
    "coeffs_2 = np.polyfit(x, y, 2) # 2nd order poly\n",
    "\n",
    "print(coeffs_1)\n",
    "print(coeffs_2[0], coeffs_2[1], coeffs_2[2])"
   ]
  },
  {
   "cell_type": "markdown",
   "id": "c28350ea",
   "metadata": {
    "slideshow": {
     "slide_type": "slide"
    }
   },
   "source": [
    "### Generating the Fitted Curve with\n",
    "To produce a polynomial function using the generated coeffients, we can use the function . \n",
    " `numpy.poly1D`\n",
    "<br>x values from original data (sorted monotonically for line plot)  \n",
    "<br>y values are generated using the fitted function"
   ]
  },
  {
   "cell_type": "markdown",
   "id": "2365147f",
   "metadata": {},
   "source": [
    "x values, sorted monotonically"
   ]
  },
  {
   "cell_type": "code",
   "execution_count": 62,
   "id": "71617d1e",
   "metadata": {},
   "outputs": [],
   "source": [
    "x_new = np.array(sorted(x))"
   ]
  },
  {
   "cell_type": "markdown",
   "id": "0cb15326",
   "metadata": {},
   "source": [
    "Fitted y values "
   ]
  },
  {
   "cell_type": "code",
   "execution_count": 63,
   "id": "b1973143",
   "metadata": {
    "slideshow": {
     "slide_type": "slide"
    }
   },
   "outputs": [],
   "source": [
    "# 1st order polynomial\n",
    "yfit1 = np.poly1d(coeffs_1)(x_new)\n",
    "\n",
    "# 2nd order polynomial\n",
    "yfit2 = np.poly1d(coeffs_2)(x_new)"
   ]
  },
  {
   "cell_type": "markdown",
   "id": "d99b7901",
   "metadata": {
    "slideshow": {
     "slide_type": "slide"
    }
   },
   "source": [
    "Note, that this produces the same output as:"
   ]
  },
  {
   "cell_type": "code",
   "execution_count": 64,
   "id": "4199f709",
   "metadata": {},
   "outputs": [],
   "source": [
    "yfit1 = coeffs_1[0]*x_new + coeffs_1[1]\n",
    "\n",
    "yfit2 = coeffs_2[0]*x_new**2 + coeffs_2[1]*x_new + coeffs_2[2]"
   ]
  },
  {
   "cell_type": "code",
   "execution_count": 65,
   "id": "f4cd5e68",
   "metadata": {
    "slideshow": {
     "slide_type": "slide"
    }
   },
   "outputs": [
    {
     "data": {
      "image/png": "[encoded data removed]",
      "text/plain": [
       "<Figure size 432x288 with 1 Axes>"
      ]
     },
     "metadata": {
      "needs_background": "light"
     },
     "output_type": "display_data"
    }
   ],
   "source": [
    "# scatter plot of raw data\n",
    "plt.plot(x, y, 'o', label='experiment data')\n",
    "\n",
    "\n",
    "# fitted polynomial functions  \n",
    "plt.plot(x_new, yfit1, \n",
    "         label=f'{round(coeffs_1[0],2)}*x + {round(coeffs_1[1],2)}');\n",
    "plt.plot(x_new, yfit2,  \n",
    "         label=f'{round(coeffs_2[0],2)}*x**2 + {round(coeffs_2[1],2)}*x**1 + {round(coeffs[2],2)}');\n",
    "\n",
    "\n",
    "# 'label' used to display the equation of the line as the legend\n",
    "plt.legend()\n",
    "\n",
    "\n",
    "# label the axes\n",
    "plt.xlabel('x')\n",
    "plt.ylabel('y')\n",
    "\n",
    "\n",
    "# add a title \n",
    "plt.title('Relationship between x and y');"
   ]
  },
  {
   "cell_type": "markdown",
   "id": "e09b3fc4",
   "metadata": {
    "slideshow": {
     "slide_type": "slide"
    }
   },
   "source": [
    "<a id='RMSE'></a>\n",
    "__Question:__ Which line best fits the data? \n",
    "\n",
    "Sometimes we need a metric to assess the \"goodness of fit\". "
   ]
  },
  {
   "cell_type": "markdown",
   "id": "2c380aaa",
   "metadata": {
    "slideshow": {
     "slide_type": "slide"
    }
   },
   "source": [
    "<a id='RootMeanSquareError'></a>\n",
    "# Root Mean Square Error (RMSE)\n",
    "\n",
    "A widely used measure of the differences between predicted/fitted values and real values/ raw data. \n",
    "\n",
    "__Error/residual, $\\varepsilon$:__ the difference between the observed value $y(x)$ and the fitted value $a(x)$. \n",
    "\n",
    "$$\n",
    "\\varepsilon = a(x) - y(x)\n",
    "$$"
   ]
  },
  {
   "cell_type": "markdown",
   "id": "bbd32c84",
   "metadata": {
    "slideshow": {
     "slide_type": "slide"
    }
   },
   "source": [
    "For $N$ data points, the *sum* of the squared errors is \n",
    "\n",
    "$$S = \\sum_{i=1}^{N}\\varepsilon_i^2$$\n",
    "\n",
    "The RMSE is computed as\n",
    "\n",
    "$$RMSE=\\sqrt{\\frac{1}{N}S}=\\sqrt{\\frac{1}{N}\\sum_{i=1}^{N}{\\varepsilon_i^2}}$$"
   ]
  },
  {
   "cell_type": "markdown",
   "id": "aa6a8dea",
   "metadata": {
    "slideshow": {
     "slide_type": "slide"
    }
   },
   "source": [
    "Smaller RMSE indictes a better fit between raw and fitted data. \n",
    "\n",
    "We can optimise the fitted function by minimising the RMSE.\n",
    "\n",
    "This optimisation method is often referred to as the *least squares* approach. "
   ]
  },
  {
   "cell_type": "markdown",
   "id": "64785bec",
   "metadata": {
    "slideshow": {
     "slide_type": "slide"
    }
   },
   "source": [
    "\n",
    "Error, $\\varepsilon_i = a(x_i) - y_i$\n",
    "\n",
    "RMSE, $=\\sqrt{\\frac{1}{N}\\sum_{i=1}^{N}{\\varepsilon_i^2}}$"
   ]
  },
  {
   "cell_type": "code",
   "execution_count": 91,
   "id": "f42f6f7b",
   "metadata": {},
   "outputs": [],
   "source": [
    "def RMSE(x, y, yfit):\n",
    "    \"Returns the RMSE of a polynomial of specified order fitted to x-y data\"\n",
    "    e = (yfit - y) # error\n",
    "    return np.sqrt(np.sum(e**2)/ len(x)) # RMSE"
   ]
  },
  {
   "cell_type": "markdown",
   "id": "2971c360",
   "metadata": {
    "slideshow": {
     "slide_type": "slide"
    }
   },
   "source": [
    "Let's compare the RMSE of each fitted polynomial "
   ]
  },
  {
   "cell_type": "code",
   "execution_count": 92,
   "id": "1717f970",
   "metadata": {},
   "outputs": [
    {
     "name": "stdout",
     "output_type": "stream",
     "text": [
      "1.8964080880347554\n",
      "1.2751114033327013\n"
     ]
    }
   ],
   "source": [
    "for order in range(1, 3):\n",
    "    coeffs = np.polyfit(x, y, order) # coefficients of fitted polynomial\n",
    "    yfit = np.poly1d(coeffs)(x) # no need for monotonic values if not plotting line\n",
    "    print(RMSE(x,y,yfit))"
   ]
  },
  {
   "cell_type": "markdown",
   "id": "525da705",
   "metadata": {
    "slideshow": {
     "slide_type": "slide"
    }
   },
   "source": [
    "The second order polynomial gives a better fit. "
   ]
  },
  {
   "cell_type": "markdown",
   "id": "e5261732",
   "metadata": {
    "collapsed": true,
    "slideshow": {
     "slide_type": "slide"
    }
   },
   "source": [
    "__Note:__ \n",
    "- Matplot lib automatically changes the colour of the line each time you plot. \n",
    "- This is much shorter than repeatedly writig out the code to plot each line of the figure."
   ]
  },
  {
   "cell_type": "markdown",
   "id": "979d9da8",
   "metadata": {
    "slideshow": {
     "slide_type": "slide"
    }
   },
   "source": [
    "<a id='FittingArbitraryFunction'></a>\n",
    "# Fitting an Arbitrary Function\n",
    "\n",
    "Curve fitting is not limited to polynomial functions. \n",
    "\n",
    "We can fit any function with unknown constants to the data using the function `curve_fit` from the `scipy` package.\n",
    "\n"
   ]
  },
  {
   "cell_type": "markdown",
   "id": "6dab6646",
   "metadata": {
    "slideshow": {
     "slide_type": "slide"
    }
   },
   "source": [
    "We first define a function that we want to fit e.g.\n",
    "$$y = a e^{bx}$$"
   ]
  },
  {
   "cell_type": "markdown",
   "id": "a3bc575d",
   "metadata": {
    "slideshow": {
     "slide_type": "slide"
    }
   },
   "source": [
    "We write the function in the following format. \n"
   ]
  },
  {
   "cell_type": "code",
   "execution_count": 94,
   "id": "ad9ec6a7",
   "metadata": {
    "slideshow": {
     "slide_type": "-"
    }
   },
   "outputs": [],
   "source": [
    "def exponential(x, a, b): # input arguments are independent variable unknown constants \n",
    "    y = a * np.exp(b*x)   \n",
    "    return y              "
   ]
  },
  {
   "cell_type": "markdown",
   "id": "ed21b0a5",
   "metadata": {
    "slideshow": {
     "slide_type": "slide"
    }
   },
   "source": [
    "`curve_fit` takes three input arguments:\n",
    " - the function to fit (in the format above)\n",
    " - the independent variable\n",
    " - the dependent variable\n",
    " \n",
    "\n",
    "`curve_fit` returns two arguments:\n",
    "\n",
    " - the constants in the fitted function\n",
    " - the covariance of the parameters (a statistical measure of accuracy)"
   ]
  },
  {
   "cell_type": "code",
   "execution_count": 98,
   "id": "d0fdd665",
   "metadata": {
    "scrolled": true,
    "slideshow": {
     "slide_type": "slide"
    }
   },
   "outputs": [
    {
     "name": "stdout",
     "output_type": "stream",
     "text": [
      "RMSE = 1.3338248760975377\n"
     ]
    }
   ],
   "source": [
    "from scipy.optimize import curve_fit\n",
    "\n",
    "opt, cov = curve_fit(exponential, x, y) # get optimised constants\n",
    "\n",
    "yfit = exponential(x, *opt)             # input optimised constants to function to get fitted data\n",
    "\n",
    "rmse = RMSE(x, y, yfit)                 # find RMSE\n",
    "\n",
    "print(f'RMSE = {rmse}')"
   ]
  },
  {
   "cell_type": "markdown",
   "id": "8baedc01",
   "metadata": {
    "slideshow": {
     "slide_type": "slide"
    }
   },
   "source": [
    "# Summary\n",
    "<a id='Summary'></a>\n",
    "- Matplotlib can be used to produce a wide range of styles of figures and plots of your data.\n",
    "- The matplotlib library can be used to quicky produce simple plots to visualise and check your solutions to mathematical problems.\n",
    "- This includes fitting a curve or a relationship to data imported from a delimted text file.\n",
    "- Simple line and scatter plots can be customised using a `formatstring`\n",
    "- Additional features such as a figure legend and axis labels can be set as arguments when creating plots.\n"
   ]
  },
  {
   "cell_type": "markdown",
   "id": "90bacf8e",
   "metadata": {},
   "source": [
    "Online resources for more Matplotlib functionality:\n",
    " - Matplotlib Gallery (http://matplotlib.org/gallery.html)\n",
    " - Github (http://gree2.github.io/python/2015/04/10/python-matplotlib-plotting-examples-and-exercises)\n",
    " \n",
    " "
   ]
  },
  {
   "cell_type": "markdown",
   "id": "97826ff6",
   "metadata": {
    "slideshow": {
     "slide_type": "slide"
    }
   },
   "source": [
    "<a id='ReviewExercises'></a>\n",
    "# 7. Review Exercises\n",
    "\n",
    "Compete the exercises below."
   ]
  },
  {
   "cell_type": "markdown",
   "id": "978eeb1b",
   "metadata": {
    "collapsed": true,
    "slideshow": {
     "slide_type": "subslide"
    }
   },
   "source": [
    "### Review Exercise 1: Curve Fitting\n",
    "\n",
    "The experimental data in `sample_data/signal_data.csv` resembles the function:\n",
    "\n",
    "$$y = a \\sin(x +b)$$\n",
    "\n",
    "$a$ and $b$ are unknown constants.\n",
    "\n",
    "1. Import the data from the file `sample_data/signal_data.csv`\n",
    "\n",
    "1. Use `curve_fit` to find optimal values of $a$ and $b$.\n",
    "\n",
    "1. Plot the raw data and the fitted data on the same graph. Label the data and include a legend.\n",
    "1. Calculate the root mean square error (RMSE) of the fitted data and show the computed value as the plot title. \n",
    "1. Print the equation of the fitted line.\n",
    "1. Save the figure in the sample_data folder as a .pdf file.\n",
    "\n",
    "__Use comments in your code to explain what each part does.__\n"
   ]
  },
  {
   "cell_type": "code",
   "execution_count": null,
   "id": "5a84ebd3",
   "metadata": {},
   "outputs": [],
   "source": [
    "# Review Exercise 1: Curve Fitting"
   ]
  },
  {
   "cell_type": "code",
   "execution_count": null,
   "id": "303ae4e9",
   "metadata": {},
   "outputs": [],
   "source": []
  },
  {
   "cell_type": "code",
   "execution_count": null,
   "id": "f687b1ee",
   "metadata": {},
   "outputs": [],
   "source": [
    "# Review Exercise 2: Interpolation"
   ]
  },
  {
   "cell_type": "code",
   "execution_count": null,
   "id": "1d15286b",
   "metadata": {},
   "outputs": [],
   "source": []
  },
  {
   "cell_type": "markdown",
   "id": "d4bc6795",
   "metadata": {},
   "source": [
    "## Review Exercise 3: Importing .csv Data and Working with Arrays\n",
    "\n",
    "The file `sample_data/douglas_data.csv` contains a data set of recorded parameters for a sample of wooden beams.\n",
    "\n",
    "__Part A : Importing data__\n",
    "<br>Open the file and look at the data. \n",
    "What is the delimiter used?\n",
    "Which rows and columns contain non-numeric data? \n",
    "\n",
    "Import the data using `np.loadtxt`, setting the data type to float. \n",
    "<br>Exclude the rows and columns containing non-numeric data.\n",
    "\n",
    "*Remember : The use of scientific notation can be surpressed by:*\n",
    "\n",
    "        np.set_printoptions(suppress=True)\n",
    "        \n",
    "__Part B : Manipulating Data__\n",
    "<br>Select the first 10 rows of the array to create a new array.\n",
    "\n",
    "The data in the last column is in units $\\mathrm{N/mm}^2$. \n",
    "\n",
    "Convert the data in this column to units $\\mathrm{N/m}^2$.\n",
    "\n",
    "The area of each beam in the data set is 0.01 $\\mathrm{m^2}$.\n",
    "<br>The density of each beam is given in the fifth column. \n",
    "<br>The height of each beam is given in the sixth column. \n",
    "<br>Add a new column to the array that contains mass of each beam (kg) using:\n",
    "\n",
    "__mass = area $\\times$ height $\\times$ density__\n",
    "\n",
    "\n",
    "__Part C : Displaying Data__\n",
    "<br>Print the mass of the 1st beam in the array.\n",
    "<br>Print a string to indicate what this value means e.g.\n",
    "                \n",
    "       The mass of beam 1 is ...\n",
    "       \n",
    "<br>Print the data in odd numbered columns of row 5. \n"
   ]
  },
  {
   "cell_type": "code",
   "execution_count": null,
   "id": "21f480c8",
   "metadata": {},
   "outputs": [],
   "source": [
    "# Review Exercise 3A: Importing .csv Data and Working with Arrays"
   ]
  },
  {
   "cell_type": "code",
   "execution_count": null,
   "id": "df72bd6b",
   "metadata": {},
   "outputs": [],
   "source": []
  },
  {
   "cell_type": "code",
   "execution_count": null,
   "id": "f2a9b147",
   "metadata": {},
   "outputs": [],
   "source": [
    "# Review Exercise 3B :Manipulating Data"
   ]
  },
  {
   "cell_type": "code",
   "execution_count": null,
   "id": "a589f00a",
   "metadata": {},
   "outputs": [],
   "source": []
  },
  {
   "cell_type": "code",
   "execution_count": null,
   "id": "e63d8711",
   "metadata": {},
   "outputs": [],
   "source": [
    "# Review Exercise 3C: Displaying Data"
   ]
  },
  {
   "cell_type": "code",
   "execution_count": null,
   "id": "0e9c6986",
   "metadata": {},
   "outputs": [],
   "source": []
  },
  {
   "cell_type": "code",
   "execution_count": null,
   "id": "0a24ca99",
   "metadata": {},
   "outputs": [],
   "source": []
  }
 ],
 "metadata": {
  "kernelspec": {
   "display_name": "Python 3",
   "language": "python",
   "name": "python3"
  },
  "language_info": {
   "codemirror_mode": {
    "name": "ipython",
    "version": 3
   },
   "file_extension": ".py",
   "mimetype": "text/x-python",
   "name": "python",
   "nbconvert_exporter": "python",
   "pygments_lexer": "ipython3",
   "version": "3.8.8"
  }
 },
 "nbformat": 4,
 "nbformat_minor": 5
}
