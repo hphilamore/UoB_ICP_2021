{
 "cells": [
  {
   "cell_type": "markdown",
   "id": "b5524c26",
   "metadata": {
    "slideshow": {
     "slide_type": "slide"
    }
   },
   "source": [
    "# Introduction to Computer Programming\n",
    "\n",
    "## 2.1 Control Flow\n",
    "\n",
    "<img src=\"img/full-colour-logo-UoB.png\" alt=\"Drawing\" style=\"width: 300px;\"/>"
   ]
  },
  {
   "cell_type": "markdown",
   "id": "32ed9e26",
   "metadata": {
    "slideshow": {
     "slide_type": "slide"
    }
   },
   "source": [
    "<a id='ControlStatements'></a>\n",
    "# Conditional Statements\n",
    "- Make decisions within a program and direct the flow.\n",
    "- Run different blocks of code depending on whether a Boolean expression evaluates to `True` or `False`.\n",
    "- This decision making is known as __Control Flow__\n",
    "\n",
    "<p align=\"center\">\n",
    "  <img src=\"img/conditional_statement.png\" alt=\"Drawing\" style=\"width: 300px;\"/>\n",
    "</p>"
   ]
  },
  {
   "cell_type": "markdown",
   "id": "5c37cf2b",
   "metadata": {},
   "source": [
    "# `if`\n",
    "\n",
    "Runs a block of code only if a condition is true \n",
    "\n",
    "<p align=\"center\">\n",
    "  <img src=\"img/if.png\" alt=\"Drawing\" style=\"width: 150px;\"/>\n",
    "</p>\n",
    "\n"
   ]
  },
  {
   "cell_type": "code",
   "execution_count": 1,
   "id": "9aa4489e",
   "metadata": {
    "slideshow": {
     "slide_type": "slide"
    }
   },
   "outputs": [
    {
     "name": "stdout",
     "output_type": "stream",
     "text": [
      "Do this\n",
      "Further code\n"
     ]
    }
   ],
   "source": [
    "x = 11\n",
    "\n",
    "if x > 10:\n",
    "    print(\"Do this\") # block of code to run only if condition is True\n",
    "    \n",
    "print(\"Further code\")"
   ]
  },
  {
   "cell_type": "markdown",
   "id": "670c16db",
   "metadata": {},
   "source": [
    "### The role of the colon\n",
    "\n",
    "The colon follows the condition to be evaluated\n",
    "\n",
    "### The role of the indent\n",
    "\n",
    "The indent is used to determine which pieces of code are executed in the case that the condition evaluates to `True`.\n",
    "\n",
    "The indent can be any number of spaces.\n",
    "<br>The number of spaces must be the same for all lines in a block of code. \n",
    "<br>4 spaces is considered best practise. \n",
    "<br>Many IDEs (e.g. Spyder) automatically indent after you type `if:`.\n",
    "\n"
   ]
  },
  {
   "cell_type": "markdown",
   "id": "1168764d",
   "metadata": {},
   "source": [
    "# `if`... `else`\n",
    "Runs the indented block of code after `if` if the condition is true.\n",
    "<br>Otherwise runs the indented block of code after `else`\n",
    "\n",
    "<p align=\"center\">\n",
    "  <img src=\"img/if_else.png\" alt=\"Drawing\" style=\"width: 200px;\"/>\n",
    "</p>"
   ]
  },
  {
   "cell_type": "code",
   "execution_count": 7,
   "id": "62d67e29",
   "metadata": {},
   "outputs": [
    {
     "name": "stdout",
     "output_type": "stream",
     "text": [
      "Do that\n",
      "Further code\n"
     ]
    }
   ],
   "source": [
    "x = 5\n",
    "\n",
    "if x > 10:\n",
    "    print(\"Do this\") # if condition is True\n",
    "else:\n",
    "    print(\"Do that\") # if condition is False\n",
    "    \n",
    "print(\"Further code\")"
   ]
  },
  {
   "cell_type": "markdown",
   "id": "19f6184e",
   "metadata": {},
   "source": [
    "# `if`...`elif`...(`else`)\n",
    "Runs the indented block of code after `if` if the `if` condition is true.\n",
    "<br>Otherwise runs the indented block of code after `elif` if the `elif` condition is true.\n",
    "<br>Otherwise runs the indented block of code after `else`\n",
    "\n",
    "__Only one__ of the three blocks is executed\n",
    "\n",
    "<p align=\"center\">\n",
    "  <img src=\"img/if_elif_else.png\" alt=\"Drawing\" style=\"width: 400px;\"/>\n",
    "</p>"
   ]
  },
  {
   "cell_type": "code",
   "execution_count": 1,
   "id": "2257d92b",
   "metadata": {},
   "outputs": [
    {
     "name": "stdout",
     "output_type": "stream",
     "text": [
      "Do something else\n",
      "Further code\n"
     ]
    }
   ],
   "source": [
    "x = 5\n",
    "\n",
    "if x > 10:\n",
    "    print(\"Do this\")           # if condition is True\n",
    "elif x > 5:\n",
    "    print(\"Do that\")           # if another condition is True\n",
    "else:\n",
    "    print(\"Do something else\") # if all preceding conditions are False\n",
    "    \n",
    "print(\"Further code\")"
   ]
  },
  {
   "cell_type": "markdown",
   "id": "70b2e5ef",
   "metadata": {},
   "source": [
    "An unlimited numer of `elif` statements can be used after an `if` statement\n",
    "\n",
    "The `else` statement is optional."
   ]
  },
  {
   "cell_type": "code",
   "execution_count": 12,
   "id": "40e8f4ed",
   "metadata": {},
   "outputs": [
    {
     "name": "stdout",
     "output_type": "stream",
     "text": [
      "x is greater than 0\n",
      "Further code\n"
     ]
    }
   ],
   "source": [
    "x = 5\n",
    "\n",
    "if x > 10:\n",
    "    print(\"x is greater than 10\") # if condition is True\n",
    "elif x > 5:\n",
    "    print(\"x is greater than 5\") # if another condition is True\n",
    "elif x > 0:\n",
    "    print(\"x is greater than 0\") # if another condition is True\n",
    "\n",
    "    \n",
    "print(\"Further code\")"
   ]
  },
  {
   "cell_type": "markdown",
   "id": "246a4b71",
   "metadata": {},
   "source": [
    "# Summary\n",
    "\n",
    " - The Python `if` keyword performs a conditional test on an expression for a Boolean (True or False) executes a block of code if the outcome is True. \n",
    " - Alternatives to an `if` test are provided using `elif` and `else` tests.\n"
   ]
  },
  {
   "cell_type": "markdown",
   "id": "c3e57f3c",
   "metadata": {},
   "source": [
    "# In-class examples"
   ]
  },
  {
   "cell_type": "markdown",
   "id": "38333d76",
   "metadata": {
    "slideshow": {
     "slide_type": "slide"
    }
   },
   "source": [
    "__Example 1:__ <br>Write a program to modify the initial value of the variable `x` and print the new value, as shown in the flow diagram. \n",
    "\n",
    "<p align=\"center\">\n",
    "  <img src=\"img/alg_flow.png\" alt=\"Drawing\" style=\"width: 400px;\"/>\n",
    "</p>"
   ]
  },
  {
   "cell_type": "code",
   "execution_count": 20,
   "id": "4af603c1",
   "metadata": {
    "slideshow": {
     "slide_type": "slide"
    }
   },
   "outputs": [
    {
     "name": "stdout",
     "output_type": "stream",
     "text": [
      "Modified x =  -10.0\n"
     ]
    }
   ],
   "source": [
    "# Initial value of x\n",
    "x = -10.0  \n",
    "\n",
    "\n",
    "# x is greater than 10\n",
    "\n",
    "\n",
    "# x is less than 2\n",
    "\n",
    "\n",
    "# x is in range 2 to 10\n",
    "\n",
    "\n",
    "# Final value of x \n",
    "print(x)\n",
    "\n"
   ]
  },
  {
   "cell_type": "code",
   "execution_count": 9,
   "id": "665b59b8",
   "metadata": {
    "slideshow": {
     "slide_type": "slide"
    }
   },
   "outputs": [
    {
     "name": "stdout",
     "output_type": "stream",
     "text": [
      "11.0\n"
     ]
    }
   ],
   "source": [
    "# Initial value of x\n",
    "x = -10.0 \n",
    "\n",
    "\n",
    "# x is greater than 10\n",
    "if x > 10:\n",
    "    x -= 20\n",
    "\n",
    "\n",
    "# x is less than 2\n",
    "elif x < 2:\n",
    "    x += 21\n",
    "\n",
    "\n",
    "# x is in range 2 to 10\n",
    "else:\n",
    "    x *= 2.5\n",
    "\n",
    "# Final value of x     \n",
    "print(x)\n",
    "\n"
   ]
  },
  {
   "cell_type": "markdown",
   "id": "7a6fa85a",
   "metadata": {
    "slideshow": {
     "slide_type": "slide"
    }
   },
   "source": [
    "\n",
    "\n",
    "Let's remind ourselves of an example from last week. \n",
    "\n",
    ">__Example:__ Write a program that answers a question based on the current time of day:\n",
    "><br>__Is it lunchtime?__\n",
    "<br>`True` if between lunch start and end times.\n",
    "<br>`False` if not."
   ]
  },
  {
   "cell_type": "code",
   "execution_count": 16,
   "id": "740a1e37",
   "metadata": {},
   "outputs": [
    {
     "name": "stdout",
     "output_type": "stream",
     "text": [
      "Is it lunchtime?\n",
      "False\n"
     ]
    }
   ],
   "source": [
    "time = 9.00          # current time\n",
    "\n",
    "lunch_starts = 13.00  # time lunch starts\n",
    "lunch_ends =   14.00  # time lunch ends\n",
    "\n",
    "lunchtime = time >= lunch_starts and time < lunch_ends\n",
    "\n",
    "print(\"Is it lunchtime?\")\n",
    "print(lunchtime)"
   ]
  },
  {
   "cell_type": "markdown",
   "id": "d4ceaab6",
   "metadata": {},
   "source": [
    "Let's build on the example from last week by including control statements. \n",
    "\n",
    "__Example 2:__ \n",
    "<br>Write a program that tells the user what acitivty to do based on the time of day. \n",
    "- eat lunch if it is lunchtime\n",
    "- do work if it is time for work\n",
    "- go home if it is before or after work\n",
    "  \n",
    "<p align=\"center\">\n",
    "  <img src=\"img/flow_diag_if_lunctime_elif_work_else_home.png\" alt=\"Drawing\" style=\"width: 300px;\"/>\n",
    "</p>\n",
    "\n"
   ]
  },
  {
   "cell_type": "code",
   "execution_count": 7,
   "id": "b722f01b",
   "metadata": {},
   "outputs": [],
   "source": [
    "# --------- Program from last week ---------\n",
    "\n",
    "# Variables\n",
    "t = 9.00           # current time\n",
    "Ls = 13.00         # lunch starts\n",
    "Le = 14.00         # lunch ends\n",
    "Ws = 8.00          # work starts\n",
    "We = 17.00         # work ends   \n",
    " \n",
    "# lunchtime\n",
    "lunchtime = Ls <= t < Le\n",
    "\n",
    "# work_time \n",
    "work_time = not (   t < Ws     # ... not before work\n",
    "                 or t > We     # ... or after work\n",
    "                 or lunchtime) # ... or lunchtime\n",
    "\n",
    "# -------------------------------------------\n",
    "\n"
   ]
  },
  {
   "cell_type": "code",
   "execution_count": 8,
   "id": "dcba382b",
   "metadata": {},
   "outputs": [
    {
     "name": "stdout",
     "output_type": "stream",
     "text": [
      "Do work\n"
     ]
    }
   ],
   "source": [
    "# --------- Program from last week ---------\n",
    "\n",
    "# Variables\n",
    "t = 9.00           # current time\n",
    "Ls = 13.00         # lunch starts\n",
    "Le = 14.00         # lunch ends\n",
    "Ws = 8.00          # work starts\n",
    "We = 17.00         # work ends   \n",
    " \n",
    "# lunchtime\n",
    "lunchtime = Ls <= t < Le\n",
    "\n",
    "# work_time \n",
    "work_time = not (   t < Ws     # ... not before work\n",
    "                 or t > We     # ... or after work\n",
    "                 or lunchtime) # ... or lunchtime\n",
    "\n",
    "# -------------------------------------------\n",
    "\n",
    "\n",
    "if lunchtime:  \n",
    "    print(\"Eat lunch\")\n",
    "        \n",
    "elif work_time: \n",
    "    print(\"Do work\")\n",
    "        \n",
    "else:   \n",
    "    print(\"Go home\")"
   ]
  }
 ],
 "metadata": {
  "celltoolbar": "Slideshow",
  "kernelspec": {
   "display_name": "Python 3",
   "language": "python",
   "name": "python3"
  },
  "language_info": {
   "codemirror_mode": {
    "name": "ipython",
    "version": 3
   },
   "file_extension": ".py",
   "mimetype": "text/x-python",
   "name": "python",
   "nbconvert_exporter": "python",
   "pygments_lexer": "ipython3",
   "version": "3.8.8"
  }
 },
 "nbformat": 4,
 "nbformat_minor": 5
}
