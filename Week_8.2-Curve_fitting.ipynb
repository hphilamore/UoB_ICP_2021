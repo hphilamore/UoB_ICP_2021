{
 "cells": [
  {
   "cell_type": "markdown",
   "id": "f9fac319",
   "metadata": {
    "slideshow": {
     "slide_type": "slide"
    }
   },
   "source": [
    "# Introduction to Computer Programming\n",
    "\n",
    "## Week 8.2: Curve Fitting \n",
    "\n",
    "* * *\n",
    "\n",
    "<img src=\"img/full-colour-logo-UoB.png\" alt=\"Bristol\" style=\"width: 300px;\"/>"
   ]
  },
  {
   "cell_type": "markdown",
   "id": "7bfde0b3",
   "metadata": {
    "slideshow": {
     "slide_type": "slide"
    }
   },
   "source": [
    "It can be useful to define a relationship between two variables, x and y. \n",
    "\n",
    "We often want to 'fit' a function to a set of data points (e.g. experimental data).\n",
    "\n",
    "Python has several tools (e.g. Numpy and Scipy packages) for finding relationships in a set of data."
   ]
  },
  {
   "cell_type": "code",
   "execution_count": 2,
   "id": "44cb628d",
   "metadata": {},
   "outputs": [],
   "source": [
    "import numpy as np\n",
    "import matplotlib.pyplot as plt\n",
    "%matplotlib inline"
   ]
  },
  {
   "cell_type": "markdown",
   "id": "163c09ab",
   "metadata": {
    "slideshow": {
     "slide_type": "slide"
    }
   },
   "source": [
    "<a id='LinearRegression'></a>\n",
    "# Linear Regression\n",
    ">*__Linear function:__ <br>Has form* $$f(x) = mx + c$$ <br> *where $m$ and $c$ are constants*.\n",
    "\n",
    "Linear regression calculates a __linear function__ that minimizes the combined error between the fitted line and the data points. \n",
    "\n",
    "<img src=\"img/linear_regression.png\" alt=\"Drawing\" style=\"width: 300px;\"/>"
   ]
  },
  {
   "cell_type": "markdown",
   "id": "91bfad14",
   "metadata": {
    "slideshow": {
     "slide_type": "slide"
    }
   },
   "source": [
    "<a id='FittingPolynomialFunction'></a>\n",
    "# Fitting a polynomial function\n",
    "\n",
    ">*__Polynomial function:__ a function involving only non-negative integer powers of x.*\n",
    "\n",
    "__1st order polynomial__ &nbsp; &nbsp; $y = \\mathrm{a}x^1 + \\mathrm{b}x^0$\n",
    "<br>(linear function)\n",
    "\n",
    "__2nd order polynomial__ &nbsp; &nbsp; $y = \\mathrm{c}x^2 + \\mathrm{d}x^1 + \\mathrm{e}x^0$\n",
    "\n",
    "__3rd order polynomial__ &nbsp; &nbsp; $y = \\mathrm{f}x^3 + \\mathrm{g}x^2 + \\mathrm{h}x^1 + \\mathrm{i}x^0$\n"
   ]
  },
  {
   "cell_type": "code",
   "execution_count": 3,
   "id": "ac0f26d1",
   "metadata": {
    "scrolled": true,
    "slideshow": {
     "slide_type": "slide"
    }
   },
   "outputs": [
    {
     "data": {
      "text/plain": [
       "[<matplotlib.lines.Line2D at 0x1e7c05e47f0>]"
      ]
     },
     "execution_count": 3,
     "metadata": {},
     "output_type": "execute_result"
    },
    {
     "data": {
      "image/png": "[encoded data removed]",
      "text/plain": [
       "<Figure size 432x288 with 1 Axes>"
      ]
     },
     "metadata": {
      "needs_background": "light"
     },
     "output_type": "display_data"
    }
   ],
   "source": [
    "x = np.array([1, 6, 3, 4, 10, 2, 7, 8, 9, 5])\n",
    "y = np.array([2, 4, 5, 4, 13, 3, 4, 8, 12, 4])\n",
    "plt.plot(x,y,'o')"
   ]
  },
  {
   "cell_type": "markdown",
   "id": "d4b1e33b",
   "metadata": {
    "slideshow": {
     "slide_type": "slide"
    }
   },
   "source": [
    "### Fitted function \n",
    "A polynomial function can be fitted using the `numpy.polyfit` function. \n",
    "\n",
    "Inputs: \n",
    "- independent variables \n",
    "- dependent variables \n",
    "- order of the polynomial \n",
    "\n",
    "Returns:\n",
    "- coefficients of each term of the polynomial of specified order."
   ]
  },
  {
   "cell_type": "code",
   "execution_count": 48,
   "id": "8234cb03",
   "metadata": {},
   "outputs": [
    {
     "name": "stdout",
     "output_type": "stream",
     "text": [
      "[ 1.07272727e+00 -5.61733355e-15]\n",
      "0.19318181818181812 -1.0522727272727261 4.249999999999994\n"
     ]
    }
   ],
   "source": [
    "# coefficients of fited function\n",
    "coeffs_1 = np.polyfit(x, y, 1) # 1st order poly \n",
    "\n",
    "coeffs_2 = np.polyfit(x, y, 2) # 2nd order poly\n",
    "\n",
    "print(coeffs_1)\n",
    "print(coeffs_2[0], coeffs_2[1], coeffs_2[2])"
   ]
  },
  {
   "cell_type": "markdown",
   "id": "c28350ea",
   "metadata": {
    "slideshow": {
     "slide_type": "slide"
    }
   },
   "source": [
    "### Fitted data \n",
    "`numpy.poly1d` : generates fitted y data allowing the fitted function to be plotted.\n",
    "\n",
    "Inputs:\n",
    "- coefficients of the fitted polynomial function\n",
    "- x data, monotonically sorted (for plottting) \n",
    " \n",
    "Returns:\n",
    "- fitted y data"
   ]
  },
  {
   "cell_type": "markdown",
   "id": "86fc0b49",
   "metadata": {},
   "source": [
    "x values from original data (sorted monotonically for line plot) "
   ]
  },
  {
   "cell_type": "code",
   "execution_count": 49,
   "id": "71617d1e",
   "metadata": {},
   "outputs": [],
   "source": [
    "x_new = np.array(sorted(x))  # x values, sorted monotonically"
   ]
  },
  {
   "cell_type": "markdown",
   "id": "0cb15326",
   "metadata": {},
   "source": [
    "Fitted y values "
   ]
  },
  {
   "cell_type": "code",
   "execution_count": 50,
   "id": "b1973143",
   "metadata": {
    "slideshow": {
     "slide_type": "slide"
    }
   },
   "outputs": [],
   "source": [
    "# 1st order polynomial\n",
    "yfit1 = np.poly1d(coeffs_1)(x_new) \n",
    "\n",
    "# 2nd order polynomial\n",
    "yfit2 = np.poly1d(coeffs_2)(x_new) "
   ]
  },
  {
   "cell_type": "markdown",
   "id": "d99b7901",
   "metadata": {
    "slideshow": {
     "slide_type": "slide"
    }
   },
   "source": [
    "Essentially `poly1d` does the following pure Python operation:"
   ]
  },
  {
   "cell_type": "code",
   "execution_count": 51,
   "id": "4199f709",
   "metadata": {},
   "outputs": [],
   "source": [
    "yfit1 = coeffs_1[0]*x_new + coeffs_1[1]\n",
    "\n",
    "yfit2 = coeffs_2[0]*x_new**2 + coeffs_2[1]*x_new + coeffs_2[2]"
   ]
  },
  {
   "cell_type": "markdown",
   "id": "1a56dee5",
   "metadata": {},
   "source": [
    "### Plotting fitted data"
   ]
  },
  {
   "cell_type": "code",
   "execution_count": 52,
   "id": "f4cd5e68",
   "metadata": {
    "slideshow": {
     "slide_type": "slide"
    }
   },
   "outputs": [
    {
     "data": {
      "text/plain": [
       "Text(0, 0.5, 'y')"
      ]
     },
     "execution_count": 52,
     "metadata": {},
     "output_type": "execute_result"
    },
    {
     "data": {
      "image/png": "[encoded data removed]",
      "text/plain": [
       "<Figure size 432x288 with 1 Axes>"
      ]
     },
     "metadata": {
      "needs_background": "light"
     },
     "output_type": "display_data"
    }
   ],
   "source": [
    "# write eqns as strings using coefficients\n",
    "eqn_1 = f'y={round(coeffs_1[0],2)}*x + {round(coeffs_1[1],2)}'\n",
    "eqn_2 = f'y={round(coeffs_2[0],2)}*x**2 + {round(coeffs_2[1],2)}*x**1 + {round(coeffs_2[2],2)}'\n",
    "\n",
    "\n",
    "# plot data \n",
    "plt.plot(x, y, 'o', label='raw data') # raw data\n",
    "plt.plot(x_new, yfit1, label=eqn_1);  # fitted 1D poly\n",
    "plt.plot(x_new, yfit2, label=eqn_2);  # fitted 2D poly\n",
    "\n",
    "\n",
    "# 'label' used to display the equation of the line as the legend\n",
    "plt.legend()\n",
    "\n",
    "\n",
    "# label the axes\n",
    "plt.xlabel('x')\n",
    "plt.ylabel('y')"
   ]
  },
  {
   "cell_type": "markdown",
   "id": "979d9da8",
   "metadata": {
    "slideshow": {
     "slide_type": "slide"
    }
   },
   "source": [
    "<a id='FittingArbitraryFunction'></a>\n",
    "# Fitting an Arbitrary Function\n",
    "\n",
    "Curve fitting is not limited to polynomial functions. \n",
    "\n",
    "We can fit any function with unknown constants to the data using the function `curve_fit` from the `scipy` package.\n",
    "\n"
   ]
  },
  {
   "cell_type": "markdown",
   "id": "6dab6646",
   "metadata": {
    "slideshow": {
     "slide_type": "slide"
    }
   },
   "source": [
    "### Fitted function \n",
    "Choose a function to fit e.g.\n",
    "$$y = a e^{bx}$$"
   ]
  },
  {
   "cell_type": "markdown",
   "id": "a3bc575d",
   "metadata": {
    "slideshow": {
     "slide_type": "slide"
    }
   },
   "source": [
    "Define the function in the following format: "
   ]
  },
  {
   "cell_type": "code",
   "execution_count": 53,
   "id": "ad9ec6a7",
   "metadata": {
    "slideshow": {
     "slide_type": "-"
    }
   },
   "outputs": [],
   "source": [
    "def exponential(x, a, b): # input arguments are independent variable, then unknown constant(s) \n",
    "    y = a * np.exp(b*x)   \n",
    "    return y              "
   ]
  },
  {
   "cell_type": "markdown",
   "id": "ed21b0a5",
   "metadata": {
    "slideshow": {
     "slide_type": "slide"
    }
   },
   "source": [
    "Use `curve_fit` to find the constants that best fit the function to the data.\n",
    "<br>Inputs:\n",
    " - the function to fit (in the format above)\n",
    " - the independent variable\n",
    " - the dependent variable\n",
    " \n",
    "\n",
    "<br>Returns:\n",
    " - constants of fitted function\n",
    " - the covariance of the parameters (a statistical measure of accuracy)"
   ]
  },
  {
   "cell_type": "code",
   "execution_count": 54,
   "id": "4612cf19",
   "metadata": {},
   "outputs": [],
   "source": [
    "from scipy.optimize import curve_fit\n",
    "\n",
    "# constants of fitted function\n",
    "c, cov = curve_fit(exponential, x, y)    "
   ]
  },
  {
   "cell_type": "markdown",
   "id": "0fda73d6",
   "metadata": {},
   "source": [
    "### Fitted data \n",
    "Generate fitted data by runnnig the function we defined (`exponential`), on:\n",
    "- x data (sorted monotonically if plotting)\n",
    "- fitted constants (`*` allows `c` to be a data structure of any length)"
   ]
  },
  {
   "cell_type": "code",
   "execution_count": 55,
   "id": "0c6252a7",
   "metadata": {},
   "outputs": [],
   "source": [
    "# input  to function to get fitted data\n",
    "# use monotonically sorted x data\n",
    "yfit = exponential(x_new, *c) "
   ]
  },
  {
   "cell_type": "markdown",
   "id": "500430ab",
   "metadata": {},
   "source": [
    "### Plotting fitted data"
   ]
  },
  {
   "cell_type": "code",
   "execution_count": 56,
   "id": "1cc9326c",
   "metadata": {
    "slideshow": {
     "slide_type": "slide"
    }
   },
   "outputs": [
    {
     "data": {
      "text/plain": [
       "<matplotlib.legend.Legend at 0x1e7c1d4fc10>"
      ]
     },
     "execution_count": 56,
     "metadata": {},
     "output_type": "execute_result"
    },
    {
     "data": {
      "image/png": "[encoded data removed]",
      "text/plain": [
       "<Figure size 432x288 with 1 Axes>"
      ]
     },
     "metadata": {
      "needs_background": "light"
     },
     "output_type": "display_data"
    }
   ],
   "source": [
    "# write eqn as string using constants\n",
    "eqn = f'y={round(c[0],2)}exp({round(c[1],2)}x)'\n",
    "\n",
    "# plot data \n",
    "plt.plot(x, y, 'o', label='raw data') # raw data\n",
    "plt.plot(x_new, yfit, label=eqn);     # fitted function\n",
    "plt.legend()"
   ]
  },
  {
   "cell_type": "markdown",
   "id": "3814f7c1",
   "metadata": {},
   "source": [
    "How does `polyfit`/`curve_fit` determine which coefficients/constants give the best fit?\n",
    "\n",
    "How can we measure 'goodness' of fit e.g. to choose order of polynomial for best fit line? "
   ]
  },
  {
   "cell_type": "markdown",
   "id": "12ce6839",
   "metadata": {
    "slideshow": {
     "slide_type": "slide"
    }
   },
   "source": [
    "<a id='RootMeanSquareError'></a>\n",
    "# Root Mean Square Error (RMSE)\n",
    "\n",
    "A widely used measure of the error between fitted values and raw data. \n",
    "\n",
    "__Error/residual, $\\varepsilon$:__ <br>The difference between the raw value $y(x)$ and the fitted value $a(x)$. \n",
    "\n",
    "$$\n",
    "\\varepsilon = a(x) - y(x)\n",
    "$$"
   ]
  },
  {
   "cell_type": "markdown",
   "id": "39b2c7bc",
   "metadata": {
    "slideshow": {
     "slide_type": "slide"
    }
   },
   "source": [
    "*Sum* of the squared errors (so that negative and positive errors do not cancel) for $N$ data points: \n",
    "\n",
    "$$S = \\sum_{i=1}^{N}\\varepsilon_i^2$$\n",
    "\n",
    "\n",
    "RMSE:\n",
    "$$RMSE=\\sqrt{\\frac{1}{N}S}=\\sqrt{\\frac{1}{N}\\sum_{i=1}^{N}{\\varepsilon_i^2}}$$"
   ]
  },
  {
   "cell_type": "markdown",
   "id": "ed3a0905",
   "metadata": {
    "slideshow": {
     "slide_type": "slide"
    }
   },
   "source": [
    "Smaller RMSE indictes smaller error (i.e. a better fit between raw and fitted data). \n",
    "\n",
    "We can optimise the fitted function by minimising the RMSE (used by `curve_fit`).\n",
    "\n",
    "Also referred to as the *least squares*  approach.  "
   ]
  },
  {
   "cell_type": "markdown",
   "id": "a2fa4d6e",
   "metadata": {},
   "source": [
    "We can also use RMSE to compare fitted functions and determine statistically which is a better fit.  "
   ]
  },
  {
   "cell_type": "code",
   "execution_count": 35,
   "id": "5681399a",
   "metadata": {},
   "outputs": [],
   "source": [
    "def RMSE(x, y, yfit):\n",
    "    \"Returns the RMSE of a polynomial of specified order fitted to x-y data\"\n",
    "    # error\n",
    "    e = (yfit - y)  \n",
    "    \n",
    "    # RMSE\n",
    "    return np.sqrt(np.sum(e**2)/ len(x)) "
   ]
  },
  {
   "cell_type": "markdown",
   "id": "075b9284",
   "metadata": {
    "slideshow": {
     "slide_type": "slide"
    }
   },
   "source": [
    "Let's compare the RMSE of each polynomial we fitted to the x,y data earlier "
   ]
  },
  {
   "cell_type": "code",
   "execution_count": 59,
   "id": "96980dab",
   "metadata": {},
   "outputs": [
    {
     "name": "stdout",
     "output_type": "stream",
     "text": [
      "RMSE polynomial order 1 = 1.8964080880347554\n",
      "RMSE polynomial order 2 = 1.2751114033327013\n"
     ]
    }
   ],
   "source": [
    "for order in range(1, 3):\n",
    "    coeffs = np.polyfit(x, y, order) # coefficients of fitted polynomial\n",
    "    yfit = np.poly1d(coeffs)(x)      # no need to sort x monotonically, not plotting line\n",
    "    rmse = RMSE(x,y,yfit)            # goodness of fit\n",
    "    print(f'polynomial order {order}, RMSE = {rmse}')            "
   ]
  },
  {
   "cell_type": "markdown",
   "id": "e7b79305",
   "metadata": {
    "slideshow": {
     "slide_type": "slide"
    }
   },
   "source": [
    "The second order polynomial gives a better fit."
   ]
  },
  {
   "cell_type": "markdown",
   "id": "762c3316",
   "metadata": {},
   "source": [
    "What about the exponential function? "
   ]
  },
  {
   "cell_type": "code",
   "execution_count": 63,
   "id": "50a626ff",
   "metadata": {},
   "outputs": [
    {
     "name": "stdout",
     "output_type": "stream",
     "text": [
      "RMSE = 1.3338248760975377\n",
      "y=1.4exp(0.22x), RMSE = 1.3338248760975377\n"
     ]
    }
   ],
   "source": [
    "c, cov = curve_fit(exponential, x, y)  # constants of fitted function\n",
    "yfit = exponential(x, *c)              # no need to sort x monotonically, not plotting line\n",
    "rmse = RMSE(x,y,yfit)                  # goodness of fit \n",
    "print(f'RMSE = {rmse}')            \n",
    "print(f'{eqn}, RMSE = {rmse}')            "
   ]
  },
  {
   "cell_type": "markdown",
   "id": "d2c583d1",
   "metadata": {},
   "source": [
    "Of the three functions tested, the second order polynomial gives a better fit, statitically."
   ]
  },
  {
   "cell_type": "markdown",
   "id": "8baedc01",
   "metadata": {
    "slideshow": {
     "slide_type": "slide"
    }
   },
   "source": [
    "# Summary\n",
    "<a id='Summary'></a>\n",
    "1. Find constants of fitted function\n",
    "    - __Polynomial functions:__ Find coefficients of polynomial by running `polyfit` on data and specifying order of polynomial.\n",
    "    - __Arbitrary functions:__ Find constants of arbitrary function by defining function to fit and running `curve_fit` on raw data and function to fit.  \n",
    "\n",
    "1. Generate fitted data:\n",
    "    - __Polynomial functions:__ Use `poly1D` to generate the fitted data using fitted coefficients for given input range.\n",
    "    - __Arbitrary functions:__ Call function defined in step 1 using a range of x data and fitted coefficents as inputs.\n",
    "    \n",
    "1. Test goodness of fit: RMSE or other otimisation method. \n",
    "\n",
    "\n",
    " "
   ]
  },
  {
   "cell_type": "markdown",
   "id": "118c4553",
   "metadata": {},
   "source": [
    "# In-class exercises"
   ]
  },
  {
   "cell_type": "code",
   "execution_count": null,
   "id": "93105a26",
   "metadata": {},
   "outputs": [],
   "source": [
    "Example 1: Fit third deree polynomial to data\n",
    "    what is RMSE?\n",
    "    "
   ]
  },
  {
   "cell_type": "markdown",
   "id": "3048d561",
   "metadata": {
    "collapsed": true,
    "slideshow": {
     "slide_type": "subslide"
    }
   },
   "source": [
    "__Example 2__: \n",
    "\n",
    "The experimental data in `sample_data/signal_data.csv` resembles the function:\n",
    "\n",
    "$$y = a \\sin(x +b)$$\n",
    "\n",
    "$a$ and $b$ are unknown constants.\n",
    "\n",
    "1. Import the data from the file `sample_data/signal_data.csv`\n",
    "\n",
    "1. Use `curve_fit` to find optimal values of $a$ and $b$.\n",
    "\n",
    "1. Plot the raw data and the fitted data on the same graph. Label the data and include a legend.\n",
    "1. Calculate the root mean square error (RMSE) of the fitted data and show the computed value as the plot title. \n",
    "1. Print the equation of the fitted line.\n",
    "1. Save the figure in the sample_data folder as a .pdf file.\n",
    "\n",
    "__Use comments in your code to explain what each part does.__\n"
   ]
  },
  {
   "cell_type": "markdown",
   "id": "97826ff6",
   "metadata": {
    "slideshow": {
     "slide_type": "slide"
    }
   },
   "source": [
    "<a id='ReviewExercises'></a>\n",
    "# 7. Review Exercises\n",
    "\n",
    "Compete the exercises below."
   ]
  },
  {
   "cell_type": "code",
   "execution_count": null,
   "id": "5a84ebd3",
   "metadata": {},
   "outputs": [],
   "source": [
    "# Review Exercise 1: Curve Fitting"
   ]
  },
  {
   "cell_type": "code",
   "execution_count": null,
   "id": "303ae4e9",
   "metadata": {},
   "outputs": [],
   "source": []
  },
  {
   "cell_type": "code",
   "execution_count": null,
   "id": "f687b1ee",
   "metadata": {},
   "outputs": [],
   "source": [
    "# Review Exercise 2: Interpolation"
   ]
  },
  {
   "cell_type": "code",
   "execution_count": null,
   "id": "1d15286b",
   "metadata": {},
   "outputs": [],
   "source": []
  },
  {
   "cell_type": "markdown",
   "id": "d4bc6795",
   "metadata": {},
   "source": [
    "## Review Exercise 3: Importing .csv Data and Working with Arrays\n",
    "\n",
    "The file `sample_data/douglas_data.csv` contains a data set of recorded parameters for a sample of wooden beams.\n",
    "\n",
    "__Part A : Importing data__\n",
    "<br>Open the file and look at the data. \n",
    "What is the delimiter used?\n",
    "Which rows and columns contain non-numeric data? \n",
    "\n",
    "Import the data using `np.loadtxt`, setting the data type to float. \n",
    "<br>Exclude the rows and columns containing non-numeric data.\n",
    "\n",
    "*Remember : The use of scientific notation can be surpressed by:*\n",
    "\n",
    "        np.set_printoptions(suppress=True)\n",
    "        \n",
    "__Part B : Manipulating Data__\n",
    "<br>Select the first 10 rows of the array to create a new array.\n",
    "\n",
    "The data in the last column is in units $\\mathrm{N/mm}^2$. \n",
    "\n",
    "Convert the data in this column to units $\\mathrm{N/m}^2$.\n",
    "\n",
    "The area of each beam in the data set is 0.01 $\\mathrm{m^2}$.\n",
    "<br>The density of each beam is given in the fifth column. \n",
    "<br>The height of each beam is given in the sixth column. \n",
    "<br>Add a new column to the array that contains mass of each beam (kg) using:\n",
    "\n",
    "__mass = area $\\times$ height $\\times$ density__\n",
    "\n",
    "\n",
    "__Part C : Displaying Data__\n",
    "<br>Print the mass of the 1st beam in the array.\n",
    "<br>Print a string to indicate what this value means e.g.\n",
    "                \n",
    "       The mass of beam 1 is ...\n",
    "       \n",
    "<br>Print the data in odd numbered columns of row 5. \n"
   ]
  },
  {
   "cell_type": "code",
   "execution_count": null,
   "id": "21f480c8",
   "metadata": {},
   "outputs": [],
   "source": [
    "# Review Exercise 3A: Importing .csv Data and Working with Arrays"
   ]
  },
  {
   "cell_type": "code",
   "execution_count": null,
   "id": "df72bd6b",
   "metadata": {},
   "outputs": [],
   "source": []
  },
  {
   "cell_type": "code",
   "execution_count": null,
   "id": "f2a9b147",
   "metadata": {},
   "outputs": [],
   "source": [
    "# Review Exercise 3B :Manipulating Data"
   ]
  },
  {
   "cell_type": "code",
   "execution_count": null,
   "id": "a589f00a",
   "metadata": {},
   "outputs": [],
   "source": []
  },
  {
   "cell_type": "code",
   "execution_count": null,
   "id": "e63d8711",
   "metadata": {},
   "outputs": [],
   "source": [
    "# Review Exercise 3C: Displaying Data"
   ]
  },
  {
   "cell_type": "code",
   "execution_count": null,
   "id": "0e9c6986",
   "metadata": {},
   "outputs": [],
   "source": []
  },
  {
   "cell_type": "code",
   "execution_count": null,
   "id": "0a24ca99",
   "metadata": {},
   "outputs": [],
   "source": []
  }
 ],
 "metadata": {
  "kernelspec": {
   "display_name": "Python 3",
   "language": "python",
   "name": "python3"
  },
  "language_info": {
   "codemirror_mode": {
    "name": "ipython",
    "version": 3
   },
   "file_extension": ".py",
   "mimetype": "text/x-python",
   "name": "python",
   "nbconvert_exporter": "python",
   "pygments_lexer": "ipython3",
   "version": "3.8.8"
  }
 },
 "nbformat": 4,
 "nbformat_minor": 5
}
