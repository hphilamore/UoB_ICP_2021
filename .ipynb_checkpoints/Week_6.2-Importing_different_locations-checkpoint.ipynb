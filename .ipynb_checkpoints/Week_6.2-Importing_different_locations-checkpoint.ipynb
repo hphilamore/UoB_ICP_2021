{
 "cells": [
  {
   "cell_type": "markdown",
   "metadata": {
    "slideshow": {
     "slide_type": "slide"
    }
   },
   "source": [
    "# Introduction to Computer Programming\n",
    "\n",
    "## Week 6.2: Importing files from different locations\n",
    "\n",
    "* * *\n",
    "\n",
    "<img src=\"img/full-colour-logo-UoB.png\" alt=\"Bristol\" style=\"width: 300px;\"/>"
   ]
  },
  {
   "cell_type": "markdown",
   "metadata": {
    "slideshow": {
     "slide_type": "slide"
    }
   },
   "source": [
    "# Importing a file from a different directory\n",
    "## Downstream file location"
   ]
  },
  {
   "cell_type": "markdown",
   "metadata": {
    "slideshow": {
     "slide_type": "slide"
    }
   },
   "source": [
    "__Example:__ Importing from a downstream sub-directory (a __package__)\n",
    "\n",
    "<img src=\"img/fruit_folder_2.png\" alt=\"Bristol\" style=\"width: 400px;\"/>"
   ]
  },
  {
   "cell_type": "markdown",
   "metadata": {
    "slideshow": {
     "slide_type": "slide"
    }
   },
   "source": [
    "__Example:__ Importing from a downstream sub-directory (a __package__)\n",
    "\n",
    "```python\n",
    "    example_w6a/\n",
    "    │\n",
    "    ├── main.py\n",
    "    └── fruit/\n",
    "        ├── __init__.py\n",
    "        ├── banana.py\n",
    "        └── strawberry.py\n",
    "```"
   ]
  },
  {
   "cell_type": "markdown",
   "metadata": {},
   "source": [
    "`.` is used to indicate a sub-directory downstream of the current location:\n",
    "\n",
    "`import subfolder.file`\n",
    "<br>`import folder.subfolder.file`\n",
    "\n",
    "\n",
    "\n"
   ]
  },
  {
   "cell_type": "markdown",
   "metadata": {
    "slideshow": {
     "slide_type": "slide"
    }
   },
   "source": [
    "__Remember:__ Everything after `import` is stored in the local namespace and must be used to prepend any objects (variables, functions etc) from the imported module. "
   ]
  },
  {
   "cell_type": "markdown",
   "metadata": {
    "slideshow": {
     "slide_type": "slide"
    }
   },
   "source": [
    "File contents\n",
    "***\n",
    "`main.py`\n",
    "\n",
    "    import fruit.strawberry    \n",
    "    print(fruit.strawberry.word)\n",
    "***\n",
    "`fruit/___init__.py`\n",
    "\n",
    "    # (empty file)\n",
    "***\n",
    "`fruit/_banana.py`\n",
    "\n",
    "    word = 'banana'    \n",
    "***\n",
    "`fruit/_strawberry.py`\n",
    "\n",
    "    word = 'strawberry' \n",
    "\n",
    "***"
   ]
  },
  {
   "cell_type": "markdown",
   "metadata": {
    "slideshow": {
     "slide_type": "slide"
    }
   },
   "source": [
    "The longer namespace when packages are imported can make code long and difficult to read.\n",
    "\n",
    "__Example__ Renaming `fruit.strawberry` --> `strawb` to make code shorter and neater "
   ]
  },
  {
   "cell_type": "markdown",
   "metadata": {},
   "source": [
    "\n",
    "##### main.py\n",
    "***\n",
    "\n",
    "    import fruit.strawberry as strawb \n",
    "    # OR \n",
    "    # from fruit import strawberry as strawb\n",
    "    \n",
    "    print(strawb.word)\n",
    "***"
   ]
  },
  {
   "cell_type": "markdown",
   "metadata": {
    "slideshow": {
     "slide_type": "slide"
    }
   },
   "source": [
    "## Upstream file location\n",
    "__Example:__ Importing from an upstream directory\n",
    "\n",
    "If a file is located *upstream* of a script being run, it cannot automatically be found by the Python interpreter. \n",
    "<center>\n",
    "<img src=\"img/fruit_folder_3.png\" alt=\"Bristol\" style=\"width: 800px;\"/>\n",
    "\n"
   ]
  },
  {
   "cell_type": "markdown",
   "metadata": {
    "slideshow": {
     "slide_type": "slide"
    }
   },
   "source": [
    "\n",
    "    example_w6b/\n",
    "    │\n",
    "    ├── scripts/\n",
    "    │   └── my_script.py\n",
    "    │\n",
    "    ├── fruit/\n",
    "    │   ├── __init__.py\n",
    "    │   └── strawberry.py\n",
    "    │\n",
    "    ├── functions.py \n",
    "    └── __init__.py\n"
   ]
  },
  {
   "cell_type": "markdown",
   "metadata": {
    "slideshow": {
     "slide_type": "slide"
    }
   },
   "source": [
    "This is because Python only looks for modules and packages in its __import path__. \n",
    "\n",
    "This is a list of locations: \n",
    "- current directory\n",
    "- contents of `PYTHONPATH` variable (a list of user defined directories)\n",
    "- standard directories automatically set up when python installs"
   ]
  },
  {
   "cell_type": "markdown",
   "metadata": {
    "slideshow": {
     "slide_type": "slide"
    }
   },
   "source": [
    "To view the path we can use the `sys` module which installs with Python:\n",
    "\n",
    "```python\n",
    "import sys\n",
    "\n",
    "print(sys.path)\n",
    "```"
   ]
  },
  {
   "cell_type": "markdown",
   "metadata": {
    "slideshow": {
     "slide_type": "slide"
    }
   },
   "source": [
    "To add a *location* to the path from within a python program we can use `sys`.\n",
    "\n",
    "`../` is used to indicate a location one directory upstream of the current location.\n",
    "\n",
    "\n",
    "__Example:__ In `my_script.py`:\n",
    "\n",
    "```python\n",
    "import sys\n",
    "sys.path.append('../')      # append path with directory one level up\n",
    "\n",
    "import functions            # files from this location can now be imported\n",
    "import fruit.strawberry            \n",
    "```"
   ]
  },
  {
   "cell_type": "markdown",
   "metadata": {
    "slideshow": {
     "slide_type": "slide"
    }
   },
   "source": [
    "`../` can be used in combination with directory names to form a path to the file to import. \n",
    "\n",
    "\n",
    "__Example:__ In `my_script.py`:\n",
    "\n",
    "```python\n",
    "import sys\n",
    "sys.path.append('../')      # append path with directory one level up\n",
    "sys.path.append('../fruit') # append path with different directory at same level\n",
    "\n",
    "import functions            # files from these locations can now be imported\n",
    "import strawberry            \n",
    "```"
   ]
  },
  {
   "cell_type": "markdown",
   "metadata": {
    "slideshow": {
     "slide_type": "slide"
    }
   },
   "source": [
    "\n",
    "    example_w6b/\n",
    "    │\n",
    "    ├── scripts/\n",
    "    │   └── my_script.py\n",
    "    │\n",
    "    ├── fruit/\n",
    "    │   ├── __init__.py\n",
    "    │   └── strawberry.py\n",
    "    │\n",
    "    ├── functions.py \n",
    "    └── __init__.py\n"
   ]
  },
  {
   "cell_type": "markdown",
   "metadata": {
    "slideshow": {
     "slide_type": "slide"
    }
   },
   "source": [
    "A directory can be removed in a similar way:\n",
    "    \n",
    "```python\n",
    "sys.path.remove('../')\n",
    "```\n"
   ]
  },
  {
   "cell_type": "markdown",
   "metadata": {},
   "source": [
    "# Summary\n",
    "- Everything after `import` is stored in the local namespace and must be used to prepend any objects (variables, functions etc) from the imported module.\n",
    "- Import from a __downstream__ location by seperating directory names with `.`: `import folder.subfolder.file`\n",
    "- If a file is located __upstream__ of a script being run, it cannot automatically be found by the Python interpreter. \n",
    "- Import from an uspstream location by using `sys` to add locations to the Python path"
   ]
  },
  {
   "cell_type": "markdown",
   "metadata": {
    "slideshow": {
     "slide_type": "slide"
    }
   },
   "source": [
    "\n",
    "```python\n",
    "    example_w6a/\n",
    "    │\n",
    "    ├── main.py\n",
    "    └── fruit/\n",
    "        ├── __init__.py\n",
    "        ├── banana.py\n",
    "        └── strawberry.py\n",
    "```\n",
    "In `main.py`...\n",
    "***\n",
    "Importing submodule:\n",
    "\n",
    "    import fruit.strawberry\n",
    "    # OR \n",
    "    # from fruit import strawberry \n",
    "    print(strawberry.word)\n",
    "***\n",
    "Renaming :\n",
    "\n",
    "    import fruit.strawberry as strawb \n",
    "    # OR \n",
    "    # from fruit import strawberry as strawb\n",
    "    print(strawb.word)\n",
    "***"
   ]
  },
  {
   "cell_type": "markdown",
   "metadata": {},
   "source": [
    "```python\n",
    "    example_w6a/\n",
    "    │\n",
    "    ├── main.py\n",
    "    └── fruit/\n",
    "        ├── __init__.py\n",
    "        ├── banana.py\n",
    "        └── strawberry.py\n",
    "```\n",
    "In `main.py`...\n",
    "\n",
    "***\n",
    "Importing variable:\n",
    "\n",
    "    from fruit.strawberry import word\n",
    "    print(word)\n",
    "***\n",
    "Renaming\n",
    "\n",
    "    from fruit.strawberry import word as w\n",
    "    print(w)\n",
    "***"
   ]
  },
  {
   "cell_type": "markdown",
   "metadata": {
    "slideshow": {
     "slide_type": "slide"
    }
   },
   "source": [
    "# In-class Demos"
   ]
  },
  {
   "cell_type": "markdown",
   "metadata": {
    "slideshow": {
     "slide_type": "slide"
    }
   },
   "source": [
    "##### Try it yourself\n",
    "__Example 1a:__ \n",
    "\n",
    "Create the file structure shown below within a new folder called `lecture_6`. \n",
    "\n",
    "\n",
    "\n",
    "\n",
    "```python\n",
    "\n",
    "    example_w6b/\n",
    "    │\n",
    "    ├── scripts/\n",
    "    │   └── my_script.py\n",
    "    │\n",
    "    ├── fruit/\n",
    "    │   ├── __init__.py\n",
    "    │   └── strawberry.py\n",
    "    │\n",
    "    ├── functions.py \n",
    "    └── __init__.py\n",
    "```\n",
    "\n",
    "\n"
   ]
  },
  {
   "cell_type": "markdown",
   "metadata": {
    "slideshow": {
     "slide_type": "slide"
    }
   },
   "source": [
    "##### Try it yourself\n",
    "__Example 1b:__ \n",
    "\n",
    "Add the content shown:\n",
    "\n",
    "***\n",
    "`functions.py`\n",
    "\n",
    "    def letters(word):\n",
    "        for w in word:\n",
    "            print(w)\n",
    "    \n",
    "***\n",
    "`strawberry.py`\n",
    "\n",
    "    word = 'strawberry'\n",
    "***\n"
   ]
  },
  {
   "cell_type": "markdown",
   "metadata": {},
   "source": [
    "__Example 1c:__ \n",
    "    \n",
    "Within `my_script.py`, use the function `letters` to print the letters of the word 'Python' on seperate lines.  "
   ]
  },
  {
   "cell_type": "markdown",
   "metadata": {},
   "source": [
    "Solution: Example 1c\n",
    "***\n",
    "`my_script.py`\n",
    "\n",
    "    import sys\n",
    "    sys.path.append('../')\n",
    "    \n",
    "    import functions\n",
    "    \n",
    "    functions.letters('Python')\n",
    "\n",
    "***"
   ]
  },
  {
   "cell_type": "markdown",
   "metadata": {
    "slideshow": {
     "slide_type": "slide"
    }
   },
   "source": [
    "##### Try it yourself\n",
    "__Example 1d:__ \n",
    "\n",
    "Within `my_script.py`, use the function `letters` to print the letters of the variable `word` imported from strawberry.py\n",
    "\n"
   ]
  },
  {
   "cell_type": "markdown",
   "metadata": {
    "slideshow": {
     "slide_type": "slide"
    }
   },
   "source": [
    "Solution: Example 1c\n",
    "\n",
    "Add directory one level up to path\n",
    "***\n",
    "`my_script.py`\n",
    "\n",
    "    import sys\n",
    "    sys.path.append('../')\n",
    "    \n",
    "    import functions\n",
    "    import fruit.strawberry\n",
    "    \n",
    "    functions.letters(fruit.strawberry.word)\n",
    "\n",
    "***\n",
    "\n",
    "Add directory one level up and different directory to path\n",
    "\n",
    "***\n",
    "`my_script.py`\n",
    "\n",
    "    import sys\n",
    "    sys.path.append('../')\n",
    "    sys.path.append('../fruit')\n",
    "    \n",
    "    import functions\n",
    "    import strawberry\n",
    "    \n",
    "    functions.letters(strawberry.word)\n",
    "\n",
    "***\n",
    "\n",
    "Renaming and importing individual objects\n",
    "\n",
    "***\n",
    "`my_script.py`\n",
    "\n",
    "    import sys\n",
    "    sys.path.append('../')\n",
    "    sys.path.append('../fruit')\n",
    "    \n",
    "    import functions as f\n",
    "    from strawberry import word\n",
    "    \n",
    "    f.letters(word)\n",
    "\n",
    "***"
   ]
  },
  {
   "cell_type": "code",
   "execution_count": null,
   "metadata": {},
   "outputs": [],
   "source": []
  }
 ],
 "metadata": {
  "celltoolbar": "Slideshow",
  "kernelspec": {
   "display_name": "Python 3",
   "language": "python",
   "name": "python3"
  },
  "language_info": {
   "codemirror_mode": {
    "name": "ipython",
    "version": 3
   },
   "file_extension": ".py",
   "mimetype": "text/x-python",
   "name": "python",
   "nbconvert_exporter": "python",
   "pygments_lexer": "ipython3",
   "version": "3.8.3"
  }
 },
 "nbformat": 4,
 "nbformat_minor": 5
}
