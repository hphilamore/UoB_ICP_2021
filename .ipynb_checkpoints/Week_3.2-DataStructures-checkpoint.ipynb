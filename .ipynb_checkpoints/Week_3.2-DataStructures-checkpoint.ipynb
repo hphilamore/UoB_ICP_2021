{
 "cells": [
  {
   "cell_type": "markdown",
   "metadata": {
    "slideshow": {
     "slide_type": "slide"
    }
   },
   "source": [
    "# Introduction to Computer Programming\n",
    "\n",
    "## Week 3.2: Data structures\n",
    "\n",
    "* * *\n",
    "\n",
    "<img src=\"img/full-colour-logo-UoB.png\" alt=\"Bristol\" style=\"width: 300px;\"/>\n"
   ]
  },
  {
   "cell_type": "markdown",
   "metadata": {
    "slideshow": {
     "slide_type": "slide"
    }
   },
   "source": [
    "# Modern problems involve complex data\n",
    "\n",
    "So far, we have encountered three types of variables (int, float, and string) and learned how to perform basic operations on these types\n",
    "\n",
    "Now imagine that we are studying mobile phone usage and obtain this data:\n",
    "\n",
    "| Name | Number | Provider | Data limit |\n",
    "| :-: | :-: | :-: | :-: | \n",
    "| Matt | 905 464 2453 | Vodafone | 10 GB\n",
    "| Sarah | 886 964 1525 | O2 | Unlimited\n",
    "| Helen | 334 362 1357 | Vodafone | 20 GB\n",
    "| Robert | 556 631 2535 | Three | 15 GB\n",
    "\n",
    "**Question**: How can we use Python to store and analyse this data?"
   ]
  },
  {
   "cell_type": "markdown",
   "metadata": {
    "slideshow": {
     "slide_type": "slide"
    }
   },
   "source": [
    "# Aims\n",
    "\n",
    "The aim of these slides is to introduce four new data types that will extend the functionality of Python:\n",
    "\n",
    "* Lists\n",
    "* Tuples\n",
    "* Sets\n",
    "* Dictionaries\n",
    "\n",
    "We will also introduce the concepts of **immutable**, **mutable**, and **iterable** data types"
   ]
  },
  {
   "cell_type": "markdown",
   "metadata": {
    "slideshow": {
     "slide_type": "slide"
    }
   },
   "source": [
    "# Lists\n",
    "\n",
    "A **list** is an ordered sequence of values, where each value is identified and accessed by an index (which starts at 0)\n",
    "\n",
    "Lists are created using comma-separated values contained in square brackets"
   ]
  },
  {
   "cell_type": "markdown",
   "metadata": {
    "slideshow": {
     "slide_type": "fragment"
    }
   },
   "source": [
    "**Example**: Define a list with three cities and print some of the entries"
   ]
  },
  {
   "cell_type": "code",
   "execution_count": null,
   "metadata": {},
   "outputs": [],
   "source": []
  },
  {
   "cell_type": "markdown",
   "metadata": {
    "slideshow": {
     "slide_type": "slide"
    }
   },
   "source": [
    "Lists are **iterable**, meaning we can loop through the entries\n",
    "***\n",
    "**Example**: Use a `for` loop to print the cities in the previous list"
   ]
  },
  {
   "cell_type": "code",
   "execution_count": null,
   "metadata": {},
   "outputs": [],
   "source": []
  },
  {
   "cell_type": "markdown",
   "metadata": {
    "slideshow": {
     "slide_type": "slide"
    }
   },
   "source": [
    "Lists can contain values of different type.\n",
    "***\n",
    "**Example**: Create a list that contains an int, float, and string"
   ]
  },
  {
   "cell_type": "code",
   "execution_count": null,
   "metadata": {},
   "outputs": [],
   "source": []
  },
  {
   "cell_type": "markdown",
   "metadata": {
    "slideshow": {
     "slide_type": "slide"
    }
   },
   "source": [
    "Lists are **mutable**, meaning their entries can be changed\n",
    "***\n",
    "**Example**: Change the last entry in a list"
   ]
  },
  {
   "cell_type": "code",
   "execution_count": null,
   "metadata": {},
   "outputs": [],
   "source": []
  },
  {
   "cell_type": "markdown",
   "metadata": {
    "slideshow": {
     "slide_type": "slide"
    }
   },
   "source": [
    "# Methods for lists\n",
    "\n",
    "There are several pre-defined **methods** that perform operations on lists\n",
    "\n",
    "* `L.append(e)` adds the object *e* to the list *L*\n",
    "* `L.count(e)` returns the number of times that *e* occurs in *L*\n",
    "* And many more! Type `help(list)` to see them all\n",
    "\n",
    "We'll learn more about methods later in the course"
   ]
  },
  {
   "cell_type": "markdown",
   "metadata": {
    "slideshow": {
     "slide_type": "slide"
    }
   },
   "source": [
    "**Example**: Create an empty shopping list, add Apples and Pizza to it, and print the list."
   ]
  },
  {
   "cell_type": "code",
   "execution_count": null,
   "metadata": {
    "slideshow": {
     "slide_type": "-"
    }
   },
   "outputs": [],
   "source": []
  },
  {
   "cell_type": "markdown",
   "metadata": {
    "slideshow": {
     "slide_type": "slide"
    }
   },
   "source": [
    "# Nested lists\n",
    "\n",
    "**Example**: Let's create a shopping list with some foods and their prices:\n",
    "\n",
    "| Food | Price |\n",
    "| :-: | :-: |\n",
    "| Apples | 2.00 |\n",
    "| Pizza | 4.50 |\n",
    "| Bread | 1.00 |\n",
    "\n",
    "We can do this by creating a list of lists, also called a **nested list**"
   ]
  },
  {
   "cell_type": "code",
   "execution_count": null,
   "metadata": {},
   "outputs": [],
   "source": []
  },
  {
   "cell_type": "markdown",
   "metadata": {
    "slideshow": {
     "slide_type": "slide"
    }
   },
   "source": [
    "Entries in a nested list can be accessed using indices and **nested indices**\n",
    "***\n",
    "![nested](img/nested_lists.png)\n",
    "***"
   ]
  },
  {
   "cell_type": "code",
   "execution_count": 1,
   "metadata": {
    "slideshow": {
     "slide_type": "-"
    }
   },
   "outputs": [],
   "source": [
    "# access the third sub-list and print\n",
    "\n",
    "# access the price of bread using nested indices and print\n"
   ]
  },
  {
   "cell_type": "markdown",
   "metadata": {
    "slideshow": {
     "slide_type": "slide"
    }
   },
   "source": [
    "Methods can be used with nested lists too\n",
    "***\n",
    "**Example**: Add Milk (£1.00) to your shopping list.  Print the updated list."
   ]
  },
  {
   "cell_type": "code",
   "execution_count": null,
   "metadata": {
    "slideshow": {
     "slide_type": "-"
    }
   },
   "outputs": [],
   "source": []
  },
  {
   "cell_type": "markdown",
   "metadata": {
    "slideshow": {
     "slide_type": "slide"
    }
   },
   "source": [
    "Loops can be applied to nested lists\n",
    "***\n",
    "**Example**: Use a `for` loop to print all of the foods in your shopping list"
   ]
  },
  {
   "cell_type": "code",
   "execution_count": null,
   "metadata": {},
   "outputs": [],
   "source": []
  },
  {
   "cell_type": "markdown",
   "metadata": {
    "slideshow": {
     "slide_type": "slide"
    }
   },
   "source": [
    "# List comprehension\n",
    "\n",
    "**List comprehension** provides a concise way to apply an operation to the entries of an iterable variable (e.g. a list) that satisfy specific criteria.  The output is a new list."
   ]
  },
  {
   "cell_type": "markdown",
   "metadata": {
    "slideshow": {
     "slide_type": "slide"
    }
   },
   "source": [
    "The syntax for a list comprehension is:\n",
    "```python\n",
    "    [op for elem in iterable if test]\n",
    "```\n",
    "***\n",
    " In this syntax:\n",
    " * *iterable* is an iterable object (e.g. a list)\n",
    " * *elem* is an element in *iterable*\n",
    " * *op* is an operation involving *elem*\n",
    " * *test* is an **optional** condition that is used to determine whether to apply the operation to *elem*"
   ]
  },
  {
   "cell_type": "markdown",
   "metadata": {
    "slideshow": {
     "slide_type": "slide"
    }
   },
   "source": [
    "**Example**: Create a list with the first ten square numbers"
   ]
  },
  {
   "cell_type": "code",
   "execution_count": null,
   "metadata": {},
   "outputs": [],
   "source": []
  },
  {
   "cell_type": "markdown",
   "metadata": {},
   "source": [
    "***"
   ]
  },
  {
   "cell_type": "markdown",
   "metadata": {},
   "source": [
    "**Example**: Create a list with the first ten square numbers based on even integers"
   ]
  },
  {
   "cell_type": "code",
   "execution_count": null,
   "metadata": {},
   "outputs": [],
   "source": []
  },
  {
   "cell_type": "markdown",
   "metadata": {
    "slideshow": {
     "slide_type": "slide"
    }
   },
   "source": [
    "**Example**: Using a list comprehension to filter out values less than 5"
   ]
  },
  {
   "cell_type": "code",
   "execution_count": null,
   "metadata": {},
   "outputs": [],
   "source": []
  },
  {
   "cell_type": "markdown",
   "metadata": {},
   "source": [
    "***\n",
    "**Example**: Use a list comprehension to capitalise strings in a list.  The method `capitalize` will be used."
   ]
  },
  {
   "cell_type": "code",
   "execution_count": null,
   "metadata": {},
   "outputs": [],
   "source": []
  },
  {
   "cell_type": "markdown",
   "metadata": {
    "slideshow": {
     "slide_type": "slide"
    }
   },
   "source": [
    "**Example**: Use a list comprehension to create a nested list, where each sub-list contains [$m$, $m^2$, $m^3$] with $m$ being an integer ranging from 1 to 5."
   ]
  },
  {
   "cell_type": "code",
   "execution_count": null,
   "metadata": {},
   "outputs": [],
   "source": []
  },
  {
   "cell_type": "markdown",
   "metadata": {
    "slideshow": {
     "slide_type": "slide"
    }
   },
   "source": [
    "# Tuples\n",
    "\n",
    "A **tuple** is an ordered sequence of values and is very similar to a list.\n",
    "\n",
    "Tuples are created using round brackets:"
   ]
  },
  {
   "cell_type": "code",
   "execution_count": null,
   "metadata": {},
   "outputs": [],
   "source": []
  },
  {
   "cell_type": "markdown",
   "metadata": {},
   "source": [
    "A major difference is that tuples are **immutable**, meaning that their values cannot be changed:"
   ]
  },
  {
   "cell_type": "code",
   "execution_count": null,
   "metadata": {},
   "outputs": [],
   "source": []
  },
  {
   "cell_type": "markdown",
   "metadata": {
    "slideshow": {
     "slide_type": "slide"
    }
   },
   "source": [
    "# Sets\n",
    "\n",
    "**Sets** are another collection of elements.  However, unlike lists and tuples, sets are **unordered** sequences of *unique* values.\n",
    "\n",
    "Sets are created using curly brackets:"
   ]
  },
  {
   "cell_type": "code",
   "execution_count": 13,
   "metadata": {},
   "outputs": [
    {
     "name": "stdout",
     "output_type": "stream",
     "text": [
      "{1, 2, 3, 4}\n"
     ]
    }
   ],
   "source": [
    "s = {1, 2, 3, 3, 4}\n",
    "print(s)"
   ]
  },
  {
   "cell_type": "markdown",
   "metadata": {
    "slideshow": {
     "slide_type": "fragment"
    }
   },
   "source": [
    "In the above example, that the duplicate entry of 3 is ignored."
   ]
  },
  {
   "cell_type": "markdown",
   "metadata": {
    "slideshow": {
     "slide_type": "slide"
    }
   },
   "source": [
    "The unordered property of sets means that the order of their elements does not matter.  Two sets with the same entries, but in a different order, are equal:"
   ]
  },
  {
   "cell_type": "code",
   "execution_count": 3,
   "metadata": {},
   "outputs": [
    {
     "name": "stdout",
     "output_type": "stream",
     "text": [
      "True\n"
     ]
    }
   ],
   "source": [
    "s1 = {1, 2, 3, 4}\n",
    "s2 = {4, 3, 2, 1}\n",
    "print(s1 == s2)"
   ]
  },
  {
   "cell_type": "markdown",
   "metadata": {
    "slideshow": {
     "slide_type": "fragment"
    }
   },
   "source": [
    "Since the ordering of elements does not matter, elements cannot be accessed with indices:"
   ]
  },
  {
   "cell_type": "code",
   "execution_count": 15,
   "metadata": {},
   "outputs": [
    {
     "ename": "TypeError",
     "evalue": "'set' object is not subscriptable",
     "output_type": "error",
     "traceback": [
      "\u001b[0;31m---------------------------------------------------------------------------\u001b[0m",
      "\u001b[0;31mTypeError\u001b[0m                                 Traceback (most recent call last)",
      "\u001b[0;32m<ipython-input-15-119e8284cd1f>\u001b[0m in \u001b[0;36m<module>\u001b[0;34m\u001b[0m\n\u001b[0;32m----> 1\u001b[0;31m \u001b[0mprint\u001b[0m\u001b[0;34m(\u001b[0m\u001b[0ms1\u001b[0m\u001b[0;34m[\u001b[0m\u001b[0;36m0\u001b[0m\u001b[0;34m]\u001b[0m\u001b[0;34m)\u001b[0m\u001b[0;34m\u001b[0m\u001b[0;34m\u001b[0m\u001b[0m\n\u001b[0m",
      "\u001b[0;31mTypeError\u001b[0m: 'set' object is not subscriptable"
     ]
    }
   ],
   "source": [
    "print(s1[0])"
   ]
  },
  {
   "cell_type": "markdown",
   "metadata": {
    "slideshow": {
     "slide_type": "slide"
    }
   },
   "source": [
    "# Operations on sets\n",
    "\n",
    "Sets in Python can be manipulated using the same operations as sets in maths.\n",
    "\n",
    "**Example**: The `in` keyword can be used to test whether an element is in a set:"
   ]
  },
  {
   "cell_type": "code",
   "execution_count": 4,
   "metadata": {},
   "outputs": [
    {
     "name": "stdout",
     "output_type": "stream",
     "text": [
      "True\n"
     ]
    }
   ],
   "source": [
    "s = {'red', 'blue', 'green'}\n",
    "print('blue' in s)"
   ]
  },
  {
   "cell_type": "markdown",
   "metadata": {
    "slideshow": {
     "slide_type": "slide"
    }
   },
   "source": [
    "We can also compute the union, intersection, difference, and the symmetric difference of two sets.\n",
    "\n",
    "<img src=\"img/set_ops.png\" alt=\"Set operations\" style=\"width: 500px;\"/>\n",
    "\n",
    "These operations will be explored in the exercises"
   ]
  },
  {
   "cell_type": "markdown",
   "metadata": {
    "slideshow": {
     "slide_type": "slide"
    }
   },
   "source": [
    "# Dictionaries\n",
    "\n",
    "**Dictionaries** (or dicts) are similar to lists, except the values are indexed by **keys** rather than integers\n",
    "* You can think of dicts as key-value pairs\n",
    "* The keys must be *unique* and *immutable* (e.g. strings, ints)\n",
    "***\n",
    "The syntax of a dict is:\n",
    "```python\n",
    "dict = {Key1:Value1, Key2:Value2, ... }\n",
    "```\n",
    "***\n",
    "We can access Value2 using the syntax\n",
    "```python\n",
    "dict[Key2]\n",
    "```"
   ]
  },
  {
   "cell_type": "markdown",
   "metadata": {
    "slideshow": {
     "slide_type": "slide"
    }
   },
   "source": [
    "# Dictionary example\n",
    "\n",
    "Let's create a dictionary of country calling codes\n",
    "\n",
    "| Key | Value |\n",
    "| :-: | :-: |\n",
    "| UK | 44 |\n",
    "| Canada | 1 |\n",
    "| Spain | 34 |\n",
    "| Kazakhstan | 7 |"
   ]
  },
  {
   "cell_type": "code",
   "execution_count": 2,
   "metadata": {},
   "outputs": [],
   "source": [
    "# creating the dictionary\n",
    "\n",
    "# let's access the country code for the UK using the key 'UK'\n"
   ]
  },
  {
   "cell_type": "markdown",
   "metadata": {
    "slideshow": {
     "slide_type": "slide"
    }
   },
   "source": [
    "# Summary\n",
    "\n",
    "Python contains several varibles types that can be used to store and operate on collections of data\n",
    "\n",
    "| Type | Ordered | Mutable | \n",
    "| :-: | :-: | :-:|\n",
    "| List | Yes (using ints) | Yes |\n",
    "| Tuple | Yes (using ints) | No |\n",
    "| Set | No | Yes |\n",
    "| Dictionary | Yes (using keys) | Yes|\n",
    "\n",
    "Values in **ordered types** can be accessed using an index, e.g. list[0], dict[key]\n",
    "\n",
    "**Mutable** variables can be modified after they are created; **immutable** variables cannot"
   ]
  }
 ],
 "metadata": {
  "celltoolbar": "Slideshow",
  "kernelspec": {
   "display_name": "Python 3",
   "language": "python",
   "name": "python3"
  },
  "language_info": {
   "codemirror_mode": {
    "name": "ipython",
    "version": 3
   },
   "file_extension": ".py",
   "mimetype": "text/x-python",
   "name": "python",
   "nbconvert_exporter": "python",
   "pygments_lexer": "ipython3",
   "version": "3.7.4"
  }
 },
 "nbformat": 4,
 "nbformat_minor": 4
}
