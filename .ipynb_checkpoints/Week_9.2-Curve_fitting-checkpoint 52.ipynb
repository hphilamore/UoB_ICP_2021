{
 "cells": [
  {
   "cell_type": "markdown",
   "metadata": {
    "slideshow": {
     "slide_type": "slide"
    }
   },
   "source": [
    "# Introduction to Computer Programming\n",
    "\n",
    "## Week 9.2: Curve Fitting \n",
    "\n",
    "* * *\n",
    "\n",
    "<img src=\"img/full-colour-logo-UoB.png\" alt=\"Bristol\" style=\"width: 300px;\"/>"
   ]
  },
  {
   "cell_type": "markdown",
   "metadata": {
    "slideshow": {
     "slide_type": "slide"
    }
   },
   "source": [
    "It can be useful to define a relationship between two variables, x and y. \n",
    "\n",
    "We often want to 'fit' a function to a set of data points (e.g. experimental data).\n",
    "\n",
    "Python has several tools (e.g. Numpy and Scipy packages) for finding relationships in a set of data."
   ]
  },
  {
   "cell_type": "code",
   "execution_count": 133,
   "metadata": {
    "slideshow": {
     "slide_type": "slide"
    }
   },
   "outputs": [],
   "source": [
    "import numpy as np\n",
    "import matplotlib.pyplot as plt\n",
    "%matplotlib inline"
   ]
  },
  {
   "cell_type": "markdown",
   "metadata": {
    "slideshow": {
     "slide_type": "slide"
    }
   },
   "source": [
    "<a id='LinearRegression'></a>\n",
    "# Linear Regression\n",
    ">*__Linear function:__ <br>Has form* $$f(x) = mx + c$$ <br> *where $m$ and $c$ are constants*.\n",
    "\n",
    "Linear regression calculates a __linear function__ that minimizes the combined error between the fitted line and the data points. \n",
    "\n",
    "<img src=\"img/linear_regression.png\" alt=\"Drawing\" style=\"width: 300px;\" align=\"center\"/>"
   ]
  },
  {
   "cell_type": "markdown",
   "metadata": {
    "slideshow": {
     "slide_type": "slide"
    }
   },
   "source": [
    "<a id='FittingPolynomialFunction'></a>\n",
    "# Fitting a polynomial function\n",
    "\n",
    ">*__Polynomial function:__ a function involving only non-negative integer powers of x.*\n",
    "\n",
    "__1st degree polynomial__ &nbsp; &nbsp; $y = \\mathrm{a}x^1 + \\mathrm{b}x^0$\n",
    "<br>(linear function)\n",
    "\n",
    "__2nd degree polynomial__ &nbsp; &nbsp; $y = \\mathrm{c}x^2 + \\mathrm{d}x^1 + \\mathrm{e}x^0$\n",
    "\n",
    "__3rd degree polynomial__ &nbsp; &nbsp; $y = \\mathrm{f}x^3 + \\mathrm{g}x^2 + \\mathrm{h}x^1 + \\mathrm{i}x^0$\n"
   ]
  },
  {
   "cell_type": "code",
   "execution_count": 134,
   "metadata": {
    "scrolled": true,
    "slideshow": {
     "slide_type": "slide"
    }
   },
   "outputs": [
    {
     "data": {
      "image/png": "[encoded data removed]",
      "text/plain": [
       "<Figure size 432x288 with 1 Axes>"
      ]
     },
     "metadata": {
      "needs_background": "light"
     },
     "output_type": "display_data"
    }
   ],
   "source": [
    "x = np.array([1, 6, 3, 4, 10, 2, 7, 8, 9, 5])\n",
    "y = np.array([2, 4, 5, 4, 13, 3, 4, 8, 12, 4])\n",
    "\n",
    "plt.plot(x,y,'o')\n",
    "plt.show()"
   ]
  },
  {
   "cell_type": "markdown",
   "metadata": {
    "slideshow": {
     "slide_type": "slide"
    }
   },
   "source": [
    "## Fitted function \n",
    "A polynomial function can be fitted using the `numpy.polyfit` function. \n",
    "\n",
    "Inputs: \n",
    "- independent variable \n",
    "- dependent variable\n",
    "- degree of the polynomial \n",
    "\n",
    "Returns:\n",
    "- coefficients of each term of the polynomial."
   ]
  },
  {
   "cell_type": "markdown",
   "metadata": {
    "slideshow": {
     "slide_type": "slide"
    }
   },
   "source": [
    "__Example 1:__ \n",
    "\n",
    "Fit a first degree polynomial (linear function) to the `x,y` data. \n",
    "\n",
    "Print the coefficients of the fitted function. "
   ]
  },
  {
   "cell_type": "code",
   "execution_count": 135,
   "metadata": {
    "slideshow": {
     "slide_type": "-"
    }
   },
   "outputs": [],
   "source": [
    "x = np.array([1, 6, 3, 4, 10, 2, 7, 8, 9, 5])\n",
    "y = np.array([2, 4, 5, 4, 13, 3, 4, 8, 12, 4])\n",
    "\n"
   ]
  },
  {
   "cell_type": "markdown",
   "metadata": {
    "slideshow": {
     "slide_type": "slide"
    }
   },
   "source": [
    "We can now plot the fitted linear function\n",
    "\n",
    "$y = \\mathrm{a}x^1 + \\mathrm{b}x^0$\n"
   ]
  },
  {
   "cell_type": "code",
   "execution_count": 136,
   "metadata": {},
   "outputs": [],
   "source": [
    "a, b = c1[0], c1[1]    # coefficients a and b\n",
    "\n",
    "y_new = a*x_new + b    # fitted line "
   ]
  },
  {
   "cell_type": "code",
   "execution_count": 137,
   "metadata": {},
   "outputs": [
    {
     "data": {
      "image/png": "[encoded data removed]",
      "text/plain": [
       "<Figure size 432x288 with 1 Axes>"
      ]
     },
     "metadata": {
      "needs_background": "light"
     },
     "output_type": "display_data"
    }
   ],
   "source": [
    "plt.plot(x,y,'o')\n",
    "plt.plot(x_new,y_new,'r*')\n",
    "plt.show()"
   ]
  },
  {
   "cell_type": "markdown",
   "metadata": {},
   "source": [
    "##### Try it yourself \n",
    "\n",
    "__Example 2:__ \n",
    "\n",
    "Fit a second degree polynomial to the `x,y` data. \n",
    "<br>(Remember to import numpy to use `polyfit`).\n",
    "\n",
    "Print the coefficients of the fitted function. "
   ]
  },
  {
   "cell_type": "code",
   "execution_count": 138,
   "metadata": {},
   "outputs": [],
   "source": [
    "x = np.array([1, 6, 3, 4, 10, 2, 7, 8, 9, 5])\n",
    "y = np.array([2, 4, 5, 4, 13, 3, 4, 8, 12, 4])\n",
    "\n"
   ]
  },
  {
   "cell_type": "markdown",
   "metadata": {
    "slideshow": {
     "slide_type": "slide"
    }
   },
   "source": [
    "As the degree increases, the code to generate the fitted line gets longer."
   ]
  },
  {
   "cell_type": "code",
   "execution_count": 139,
   "metadata": {},
   "outputs": [],
   "source": [
    "yfit1 = c1[0]*x_new + c1[1]\n",
    "\n",
    "yfit2 = c2[0]*x_new**2 + c2[1]*x_new + c2[2]"
   ]
  },
  {
   "cell_type": "markdown",
   "metadata": {
    "slideshow": {
     "slide_type": "slide"
    }
   },
   "source": [
    "## Fitted data \n",
    "`numpy.polyval` : generates fitted y values.\n",
    "\n",
    "Inputs:\n",
    "- coefficients of the fitted polynomial function\n",
    "- x data (monotonically sorted if plotting a line graph) \n",
    " \n",
    "Returns:\n",
    "- fitted y data"
   ]
  },
  {
   "cell_type": "markdown",
   "metadata": {
    "slideshow": {
     "slide_type": "slide"
    }
   },
   "source": [
    "__Example 3:__ \n",
    "\n",
    "Use `numpy.polyval` to generate x,y data of the fitted linear function.  "
   ]
  },
  {
   "cell_type": "code",
   "execution_count": null,
   "metadata": {},
   "outputs": [],
   "source": []
  },
  {
   "cell_type": "markdown",
   "metadata": {},
   "source": [
    "##### Try it yourself \n",
    "\n",
    "__Example 4:__ \n",
    "\n",
    "Use `numpy.polval` to generate x,y data of the fitted second degree polynomial function.  "
   ]
  },
  {
   "cell_type": "code",
   "execution_count": null,
   "metadata": {},
   "outputs": [],
   "source": []
  },
  {
   "cell_type": "markdown",
   "metadata": {
    "slideshow": {
     "slide_type": "slide"
    }
   },
   "source": [
    "## Plotting fitted data\n",
    "\n",
    "__Example 5:__ Plot the raw data as a scatter plot and fitted linear function as a line graph  ont eh same figure. "
   ]
  },
  {
   "cell_type": "code",
   "execution_count": 140,
   "metadata": {
    "slideshow": {
     "slide_type": "-"
    }
   },
   "outputs": [],
   "source": [
    "# plot data \n"
   ]
  },
  {
   "cell_type": "markdown",
   "metadata": {
    "slideshow": {
     "slide_type": "slide"
    }
   },
   "source": [
    "##### Try it yourself \n",
    "\n",
    "\n",
    "__Example 6:__ Plot the raw data as a scatter plot and second degree polynomial function as a line graph  on the same figure. "
   ]
  },
  {
   "cell_type": "code",
   "execution_count": 141,
   "metadata": {
    "slideshow": {
     "slide_type": "-"
    }
   },
   "outputs": [],
   "source": [
    "# plot data \n",
    "\n"
   ]
  },
  {
   "cell_type": "markdown",
   "metadata": {
    "slideshow": {
     "slide_type": "slide"
    }
   },
   "source": [
    "<a id='FittingArbitraryFunction'></a>\n",
    "# Fitting an Arbitrary Function\n",
    "\n",
    "Curve fitting is not limited to polynomial functions. \n",
    "\n",
    "We can fit any function with unknown constants to the data using the function `curve_fit` from the `scipy` package.\n",
    "\n"
   ]
  },
  {
   "cell_type": "markdown",
   "metadata": {
    "slideshow": {
     "slide_type": "slide"
    }
   },
   "source": [
    "### Fitted function \n",
    "Choose a function to fit e.g.\n",
    "$$y = a e^{bx}$$"
   ]
  },
  {
   "cell_type": "markdown",
   "metadata": {
    "slideshow": {
     "slide_type": "-"
    }
   },
   "source": [
    "Define the function in the following format: "
   ]
  },
  {
   "cell_type": "code",
   "execution_count": 142,
   "metadata": {
    "slideshow": {
     "slide_type": "-"
    }
   },
   "outputs": [],
   "source": [
    "def exponential(x, a, b): # input arguments are independent variable, then unknown constant(s) \n",
    "    y = a * np.exp(b*x)   \n",
    "    return y              "
   ]
  },
  {
   "cell_type": "markdown",
   "metadata": {
    "slideshow": {
     "slide_type": "slide"
    }
   },
   "source": [
    "### Fitted function\n",
    "\n",
    "Use `scipy.optimize.curve_fit` to find the constants that best fit the function to the data.\n",
    "<br>Inputs:\n",
    " - the function to fit \n",
    " - the independent variable\n",
    " - the dependent variable\n",
    " \n",
    "\n",
    "<br>Returns:\n",
    " - constants of fitted function\n",
    " - the covariance of the parameters (a statistical measure of accuracy)"
   ]
  },
  {
   "cell_type": "code",
   "execution_count": 148,
   "metadata": {
    "slideshow": {
     "slide_type": "slide"
    }
   },
   "outputs": [
    {
     "name": "stdout",
     "output_type": "stream",
     "text": [
      "[[ 0.18289613 -0.01490077]\n",
      " [-0.01490077  0.00127981]]\n"
     ]
    }
   ],
   "source": [
    "from scipy.optimize import curve_fit\n",
    "\n",
    "# constants, covariance of fitted function\n",
    "c, cov = curve_fit(exponential, x, y) \n",
    "\n",
    "print(cov)"
   ]
  },
  {
   "cell_type": "markdown",
   "metadata": {
    "slideshow": {
     "slide_type": "slide"
    }
   },
   "source": [
    "### Fitted data \n",
    "Generate fitted data by runnnig the function we defined (`exponential`), on:\n",
    "- x data (sorted monotonically if plotting)\n",
    "- fitted constants (`*` allows `c` to be a *data structure* of any length)\n",
    "- remember `c` is the variable we created to store the output of `curve_fit`"
   ]
  },
  {
   "cell_type": "code",
   "execution_count": 144,
   "metadata": {},
   "outputs": [],
   "source": [
    "# input  to function to get fitted data\n",
    "# use monotonically sorted x data\n",
    "yfit = exponential(x_new, *c) \n"
   ]
  },
  {
   "cell_type": "markdown",
   "metadata": {
    "slideshow": {
     "slide_type": "slide"
    }
   },
   "source": [
    "### Plotting fitted data"
   ]
  },
  {
   "cell_type": "code",
   "execution_count": 145,
   "metadata": {
    "slideshow": {
     "slide_type": "-"
    }
   },
   "outputs": [
    {
     "name": "stdout",
     "output_type": "stream",
     "text": [
      "y=1.4exp(0.22x)\n"
     ]
    },
    {
     "data": {
      "image/png": "[encoded data removed]",
      "text/plain": [
       "<Figure size 432x288 with 1 Axes>"
      ]
     },
     "metadata": {
      "needs_background": "light"
     },
     "output_type": "display_data"
    }
   ],
   "source": [
    "# plot data \n",
    "plt.plot(x, y, 'o',   label='raw data')      # raw data\n",
    "plt.plot(x_new, yfit, label='fitted data');  # fitted function\n",
    "plt.legend()\n",
    "\n",
    "# equation of the fitted line\n",
    "print(f'y={round(c[0],2)}exp({round(c[1],2)}x)')\n"
   ]
  },
  {
   "cell_type": "markdown",
   "metadata": {
    "slideshow": {
     "slide_type": "slide"
    }
   },
   "source": [
    "How does `polyfit`/`curve_fit` determine which coefficients/constants give the best fit?\n",
    "\n",
    "How can we measure 'goodness' of fit e.g. when choosing degree of polynomial for best fit line? "
   ]
  },
  {
   "cell_type": "markdown",
   "metadata": {
    "slideshow": {
     "slide_type": "slide"
    }
   },
   "source": [
    "<a id='RootMeanSquareError'></a>\n",
    "# Root Mean Square Error (RMSE)\n",
    "(*least squares*  approach)\n",
    "\n",
    "<br>\n",
    "\n",
    "A widely used measure of the error between fitted values and raw data. \n",
    "\n",
    "__Error/residual, $\\varepsilon$:__ <br>The difference between the raw value $y(x)$ and the fitted value $a(x)$. \n",
    "\n",
    "$$\n",
    "\\varepsilon = a(x) - y(x)\n",
    "$$"
   ]
  },
  {
   "cell_type": "markdown",
   "metadata": {
    "slideshow": {
     "slide_type": "slide"
    }
   },
   "source": [
    "*Sum* of the squared errors for $N$ data points: \n",
    "<br>(error squared so that negative and positive errors do not cancel)\n",
    "\n",
    "$$S = \\sum_{i=1}^{N}\\varepsilon_i^2$$\n",
    "\n",
    "\n",
    "\n",
    "RMSE:\n",
    "$$RMSE=\\sqrt{\\frac{1}{N}S}=\\sqrt{\\frac{1}{N}\\sum_{i=1}^{N}{\\varepsilon_i^2}}$$\n",
    "\n"
   ]
  },
  {
   "cell_type": "markdown",
   "metadata": {
    "slideshow": {
     "slide_type": "slide"
    }
   },
   "source": [
    "Smaller RMSE indictes smaller error (i.e. a better fit between raw and fitted data). \n",
    "\n",
    "We can optimise the fitted function by minimising the RMSE (used by `curve_fit`).\n",
    "\n",
    "RMSE tells us statistically which line gives the best fit.\n",
    "\n",
    " \n",
    "\n"
   ]
  },
  {
   "cell_type": "code",
   "execution_count": 146,
   "metadata": {
    "slideshow": {
     "slide_type": "-"
    }
   },
   "outputs": [],
   "source": [
    "def RMSE(x, y, yfit):\n",
    "    \"Returns the RMSE of a y data fitted to x-y raw data\"\n",
    "    # error\n",
    "    e = (yfit - y)  \n",
    "    \n",
    "    # RMSE\n",
    "    return np.sqrt(np.sum(e**2)/ len(x)) \n"
   ]
  },
  {
   "cell_type": "markdown",
   "metadata": {
    "slideshow": {
     "slide_type": "slide"
    }
   },
   "source": [
    "Let's compare the RMSE of each polynomial we fitted to the x,y data earlier "
   ]
  },
  {
   "cell_type": "code",
   "execution_count": 147,
   "metadata": {},
   "outputs": [
    {
     "name": "stdout",
     "output_type": "stream",
     "text": [
      "polynomial order 1, RMSE = 1.8964080880347554\n",
      "polynomial order 2, RMSE = 1.2751114033327013\n"
     ]
    }
   ],
   "source": [
    "for degree in range(1, 3):\n",
    "    \n",
    "    c = np.polyfit(x, y, degree)        # coefficients of fitted polynomial\n",
    "    \n",
    "    yfit = np.polyval(c,x)              # no need to sort x monotonically, (not plotting line) use raw x data\n",
    "    \n",
    "    rmse = RMSE(x, y, yfit)             # goodness of fit\n",
    "    \n",
    "    print(f'polynomial order {degree}, RMSE = {rmse}')            "
   ]
  },
  {
   "cell_type": "markdown",
   "metadata": {
    "slideshow": {
     "slide_type": "-"
    }
   },
   "source": [
    "The second order polynomial gives a better fit."
   ]
  },
  {
   "cell_type": "markdown",
   "metadata": {
    "slideshow": {
     "slide_type": "slide"
    }
   },
   "source": [
    "__Example 7__\n",
    "\n",
    "Fit the function $y = a e^{bx}$ which we defined earlier as `exponential` and find the RMSE:"
   ]
  },
  {
   "cell_type": "code",
   "execution_count": null,
   "metadata": {},
   "outputs": [],
   "source": [
    "\n"
   ]
  },
  {
   "cell_type": "markdown",
   "metadata": {
    "slideshow": {
     "slide_type": "-"
    }
   },
   "source": [
    "Of the three functions tested, the second order polynomial gives a better fit, statitically."
   ]
  },
  {
   "cell_type": "markdown",
   "metadata": {
    "slideshow": {
     "slide_type": "slide"
    }
   },
   "source": [
    "# Summary\n",
    "<a id='Summary'></a>\n",
    "1. Find constants of fitted function\n",
    "    - __Polynomial functions:__ Find coefficients of polynomial by running `polyfit` on data and specifying degree of polynomial.\n",
    "    - __Arbitrary functions:__ Find constants of arbitrary function by defining function to fit and running `curve_fit` on raw data and function to fit.  <br> <br>\n",
    "\n",
    "1. Generate fitted data (arrange x data monotonically if plotting as graph):\n",
    "    - __Polynomial functions:__ Use `polyval` to generate the fitted data using fitted coefficients for given input range.\n",
    "    - __Arbitrary functions:__ Call function defined in step 1 using a range of x data and fitted coefficents as inputs. <br> <br>\n",
    "    \n",
    "1. Test goodness of fit: RMSE or other optimisation method. \n",
    "\n",
    "\n",
    " "
   ]
  }
 ],
 "metadata": {
  "celltoolbar": "Slideshow",
  "kernelspec": {
   "display_name": "Python 3",
   "language": "python",
   "name": "python3"
  },
  "language_info": {
   "codemirror_mode": {
    "name": "ipython",
    "version": 3
   },
   "file_extension": ".py",
   "mimetype": "text/x-python",
   "name": "python",
   "nbconvert_exporter": "python",
   "pygments_lexer": "ipython3",
   "version": "3.7.4"
  }
 },
 "nbformat": 4,
 "nbformat_minor": 5
}
