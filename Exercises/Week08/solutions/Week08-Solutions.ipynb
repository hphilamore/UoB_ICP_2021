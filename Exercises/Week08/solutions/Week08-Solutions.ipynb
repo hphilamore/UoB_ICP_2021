{
 "cells": [
  {
   "cell_type": "markdown",
   "metadata": {},
   "source": [
    "# Week 5 - Mathematical computation in Python\n",
    "***\n",
    "# Part 1 - SymPy"
   ]
  },
  {
   "cell_type": "code",
   "execution_count": 1,
   "metadata": {},
   "outputs": [],
   "source": [
    "from sympy import *"
   ]
  },
  {
   "cell_type": "markdown",
   "metadata": {},
   "source": [
    "## Exercise 1 - Getting familiar with SymPy"
   ]
  },
  {
   "cell_type": "markdown",
   "metadata": {},
   "source": [
    "***\n",
    "**Question 1.**"
   ]
  },
  {
   "cell_type": "code",
   "execution_count": 2,
   "metadata": {},
   "outputs": [
    {
     "data": {
      "text/latex": [
       "$\\displaystyle 3.14159265358979$"
      ],
      "text/plain": [
       "3.14159265358979"
      ]
     },
     "metadata": {},
     "output_type": "display_data"
    },
    {
     "data": {
      "text/latex": [
       "$\\displaystyle 2.71828182845905$"
      ],
      "text/plain": [
       "2.71828182845905"
      ]
     },
     "metadata": {},
     "output_type": "display_data"
    }
   ],
   "source": [
    "display(pi.evalf())\n",
    "display(E.evalf())"
   ]
  },
  {
   "cell_type": "markdown",
   "metadata": {},
   "source": [
    "***\n",
    "**Question 2.**"
   ]
  },
  {
   "cell_type": "code",
   "execution_count": 3,
   "metadata": {},
   "outputs": [
    {
     "data": {
      "text/latex": [
       "$\\displaystyle 0$"
      ],
      "text/plain": [
       "0"
      ]
     },
     "metadata": {},
     "output_type": "display_data"
    },
    {
     "data": {
      "text/latex": [
       "$\\displaystyle 2$"
      ],
      "text/plain": [
       "2"
      ]
     },
     "metadata": {},
     "output_type": "display_data"
    }
   ],
   "source": [
    "display(cos(pi/2))\n",
    "display(log(E**2))"
   ]
  },
  {
   "cell_type": "markdown",
   "metadata": {},
   "source": [
    "***\n",
    "**Question 3.**"
   ]
  },
  {
   "cell_type": "code",
   "execution_count": 4,
   "metadata": {},
   "outputs": [
    {
     "data": {
      "text/latex": [
       "$\\displaystyle 2.71828182845905$"
      ],
      "text/plain": [
       "2.71828182845905"
      ]
     },
     "metadata": {},
     "output_type": "display_data"
    }
   ],
   "source": [
    "e = exp(1)\n",
    "display(e.evalf())"
   ]
  },
  {
   "cell_type": "markdown",
   "metadata": {},
   "source": [
    "***\n",
    "**Question 4.**"
   ]
  },
  {
   "cell_type": "code",
   "execution_count": 5,
   "metadata": {},
   "outputs": [
    {
     "data": {
      "text/latex": [
       "$\\displaystyle \\frac{1}{13}$"
      ],
      "text/plain": [
       "1/13"
      ]
     },
     "metadata": {},
     "output_type": "display_data"
    }
   ],
   "source": [
    "a = Rational(1, 13)\n",
    "display(a)"
   ]
  },
  {
   "cell_type": "markdown",
   "metadata": {},
   "source": [
    "***\n",
    "**Question 5.**"
   ]
  },
  {
   "cell_type": "code",
   "execution_count": 6,
   "metadata": {},
   "outputs": [
    {
     "data": {
      "text/latex": [
       "$\\displaystyle \\frac{1085067}{16057300}$"
      ],
      "text/plain": [
       "1085067/16057300"
      ]
     },
     "metadata": {},
     "output_type": "display_data"
    }
   ],
   "source": [
    "f = Rational(43, 452) + Rational(54, 725) - Rational(10, 98)\n",
    "display(f)"
   ]
  },
  {
   "cell_type": "markdown",
   "metadata": {},
   "source": [
    "***\n",
    "## Exercise 2 - Functions"
   ]
  },
  {
   "cell_type": "markdown",
   "metadata": {},
   "source": [
    "**Question 1.**"
   ]
  },
  {
   "cell_type": "code",
   "execution_count": 7,
   "metadata": {},
   "outputs": [
    {
     "data": {
      "text/latex": [
       "$\\displaystyle 3$"
      ],
      "text/plain": [
       "3"
      ]
     },
     "metadata": {},
     "output_type": "display_data"
    },
    {
     "data": {
      "text/latex": [
       "$\\displaystyle \\frac{3}{17}$"
      ],
      "text/plain": [
       "3/17"
      ]
     },
     "metadata": {},
     "output_type": "display_data"
    },
    {
     "data": {
      "text/latex": [
       "$\\displaystyle 0.176470588235294$"
      ],
      "text/plain": [
       "0.176470588235294"
      ]
     },
     "metadata": {},
     "output_type": "display_data"
    }
   ],
   "source": [
    "x = symbols('x')\n",
    "y = (x**2 - 4 * x + 3) / (1 + x**2)\n",
    "\n",
    "# evaluate at x = 0 and x = 4\n",
    "display(y.subs(x, 0))\n",
    "display(y.subs(x, 4))\n",
    "display(y.subs(x, 4.0))"
   ]
  },
  {
   "cell_type": "markdown",
   "metadata": {},
   "source": [
    "***\n",
    "**Question 2.**"
   ]
  },
  {
   "cell_type": "code",
   "execution_count": 8,
   "metadata": {},
   "outputs": [
    {
     "data": {
      "image/png": "[encoded data removed]",
      "text/plain": [
       "<Figure size 432x288 with 1 Axes>"
      ]
     },
     "metadata": {
      "needs_background": "light"
     },
     "output_type": "display_data"
    },
    {
     "data": {
      "image/png": "[encoded data removed]",
      "text/plain": [
       "<Figure size 432x288 with 1 Axes>"
      ]
     },
     "metadata": {
      "needs_background": "light"
     },
     "output_type": "display_data"
    },
    {
     "data": {
      "text/plain": [
       "<sympy.plotting.plot.Plot at 0x7fef892d6640>"
      ]
     },
     "execution_count": 8,
     "metadata": {},
     "output_type": "execute_result"
    }
   ],
   "source": [
    "# plotting y over the domain -10 < x < 10\n",
    "plot(y)\n",
    "\n",
    "# plotting y over the domain 0 < x < 4\n",
    "plot(y, (x, 0, 4))"
   ]
  },
  {
   "cell_type": "markdown",
   "metadata": {},
   "source": [
    "***\n",
    "**Question 3.**"
   ]
  },
  {
   "cell_type": "code",
   "execution_count": 9,
   "metadata": {},
   "outputs": [
    {
     "data": {
      "text/plain": [
       "[1, 3]"
      ]
     },
     "metadata": {},
     "output_type": "display_data"
    }
   ],
   "source": [
    "sols = solve(y, x)\n",
    "display(sols)"
   ]
  },
  {
   "cell_type": "markdown",
   "metadata": {},
   "source": [
    "***\n",
    "**Question 4.**"
   ]
  },
  {
   "cell_type": "code",
   "execution_count": 10,
   "metadata": {},
   "outputs": [
    {
     "data": {
      "text/latex": [
       "$\\displaystyle 1$"
      ],
      "text/plain": [
       "1"
      ]
     },
     "metadata": {},
     "output_type": "display_data"
    }
   ],
   "source": [
    "L = limit(y, x, oo)\n",
    "display(L)"
   ]
  },
  {
   "cell_type": "markdown",
   "metadata": {},
   "source": [
    "***\n",
    "**Question 5.**"
   ]
  },
  {
   "cell_type": "code",
   "execution_count": 11,
   "metadata": {},
   "outputs": [
    {
     "data": {
      "text/latex": [
       "$\\displaystyle -4$"
      ],
      "text/plain": [
       "-4"
      ]
     },
     "metadata": {},
     "output_type": "display_data"
    }
   ],
   "source": [
    "y_p = diff(y, x)\n",
    "display(y_p.subs(x, 0))"
   ]
  },
  {
   "cell_type": "markdown",
   "metadata": {},
   "source": [
    "***\n",
    "**Question 6.**"
   ]
  },
  {
   "cell_type": "code",
   "execution_count": 12,
   "metadata": {},
   "outputs": [
    {
     "data": {
      "text/latex": [
       "$\\displaystyle - 2 \\log{\\left(2 \\right)} + 1 + \\frac{\\pi}{2}$"
      ],
      "text/plain": [
       "-2*log(2) + 1 + pi/2"
      ]
     },
     "metadata": {},
     "output_type": "display_data"
    },
    {
     "data": {
      "text/latex": [
       "$\\displaystyle 1.18450196567501$"
      ],
      "text/plain": [
       "1.18450196567501"
      ]
     },
     "metadata": {},
     "output_type": "display_data"
    }
   ],
   "source": [
    "A = integrate(y, (x, 0, 1))\n",
    "display(A)\n",
    "display(A.evalf())"
   ]
  },
  {
   "cell_type": "markdown",
   "metadata": {},
   "source": [
    "***\n",
    "**Question 7.**"
   ]
  },
  {
   "cell_type": "code",
   "execution_count": 13,
   "metadata": {},
   "outputs": [
    {
     "data": {
      "text/plain": [
       "[1/2 - sqrt(5)/2, 1/2 + sqrt(5)/2]"
      ]
     },
     "metadata": {},
     "output_type": "display_data"
    },
    {
     "name": "stdout",
     "output_type": "stream",
     "text": [
      "x_1 = -0.618033988749895\n",
      "x_2 = 1.61803398874989\n",
      "the max of y is -0.236067977499790\n",
      "the min of y is 4.23606797749979\n",
      "the sign of y''(x_1) is -4.68328157299975\n",
      "the sign of y''(x_1) is 0.683281572999748\n"
     ]
    }
   ],
   "source": [
    "# solve the equation y'(x) = 0 for x and store the values in a list L\n",
    "L = solve(y_p, x)\n",
    "display(L)\n",
    "\n",
    "# store the entries in the list and compute floating-point approximations\n",
    "x_1 = L[0]\n",
    "x_2 = L[1]\n",
    "\n",
    "print('x_1 =', x_1.evalf())\n",
    "print('x_2 =', x_2.evalf())\n",
    "\n",
    "# by analying the plot we see that x_1 gives the location of the max whereas x_2 gives the location of the min.\n",
    "# we now calculate floating-point approximations to the max and min of y and print the result\n",
    "y_min = y.subs(x, x_1).evalf()\n",
    "y_max = y.subs(x, x_2).evalf()\n",
    "\n",
    "print('the max of y is', y_max)\n",
    "print('the min of y is', y_min)\n",
    "\n",
    "# now we'll check the sign of y''(x) at these points\n",
    "y_pp = diff(y, x, 2)\n",
    "print('the sign of y\\'\\'(x_1) is', y_pp.subs(x, x_1).evalf())\n",
    "print('the sign of y\\'\\'(x_1) is', y_pp.subs(x, x_2).evalf())\n",
    "\n",
    "# since y''(x_1) < 0 this point is a max\n",
    "# since y''(x_2) > 0 this point is a min"
   ]
  },
  {
   "cell_type": "markdown",
   "metadata": {},
   "source": [
    "***\n",
    "## Exercise 3 - Modelling a pandemic"
   ]
  },
  {
   "cell_type": "markdown",
   "metadata": {},
   "source": [
    "**Question 1.**  We create all of the symbols at once.  Another approach is to use different lines to create the symbols one-by-one"
   ]
  },
  {
   "cell_type": "code",
   "execution_count": 14,
   "metadata": {},
   "outputs": [],
   "source": [
    "t, r, K, P_0 = symbols('t r K P_0')\n",
    "\n",
    "P = P_0 * K / (P_0 + (K - P_0) * exp(-r * t))"
   ]
  },
  {
   "cell_type": "markdown",
   "metadata": {},
   "source": [
    "***\n",
    "**Question 2.**"
   ]
  },
  {
   "cell_type": "code",
   "execution_count": 15,
   "metadata": {},
   "outputs": [],
   "source": [
    "params = {r:0.1, K:67, P_0:0.5}"
   ]
  },
  {
   "cell_type": "markdown",
   "metadata": {},
   "source": [
    "***\n",
    "**Question 3.**"
   ]
  },
  {
   "cell_type": "code",
   "execution_count": 16,
   "metadata": {},
   "outputs": [
    {
     "data": {
      "image/png": "[encoded data removed]",
      "text/plain": [
       "<Figure size 432x288 with 1 Axes>"
      ]
     },
     "metadata": {
      "needs_background": "light"
     },
     "output_type": "display_data"
    },
    {
     "data": {
      "text/plain": [
       "<sympy.plotting.plot.Plot at 0x7fef88f0f340>"
      ]
     },
     "execution_count": 16,
     "metadata": {},
     "output_type": "execute_result"
    }
   ],
   "source": [
    "plot(P.subs(params), (t, 0, 100), ylabel=\"P(t)\")"
   ]
  },
  {
   "cell_type": "markdown",
   "metadata": {},
   "source": [
    "***\n",
    "**Question 4.**"
   ]
  },
  {
   "cell_type": "code",
   "execution_count": 17,
   "metadata": {},
   "outputs": [
    {
     "data": {
      "image/png": "[encoded data removed]",
      "text/plain": [
       "<Figure size 432x288 with 1 Axes>"
      ]
     },
     "metadata": {
      "needs_background": "light"
     },
     "output_type": "display_data"
    },
    {
     "data": {
      "text/plain": [
       "<sympy.plotting.plot.Plot at 0x7fef88f531f0>"
      ]
     },
     "execution_count": 17,
     "metadata": {},
     "output_type": "execute_result"
    }
   ],
   "source": [
    "P_prime = diff(P, t)\n",
    "plot(P_prime.subs(params), (t, 0, 100), ylabel=\"P'(t)\")"
   ]
  },
  {
   "cell_type": "markdown",
   "metadata": {},
   "source": [
    "From this graph we see that population of infected individuals is growing the fastest about 50 days after the outbreak."
   ]
  },
  {
   "cell_type": "markdown",
   "metadata": {},
   "source": [
    "***\n",
    "**Question 5.**"
   ]
  },
  {
   "cell_type": "code",
   "execution_count": 18,
   "metadata": {},
   "outputs": [
    {
     "data": {
      "text/latex": [
       "$\\displaystyle \\frac{\\log{\\left(\\frac{K - P_{0}}{P_{0}} \\right)}}{r}$"
      ],
      "text/plain": [
       "log((K - P_0)/P_0)/r"
      ]
     },
     "metadata": {},
     "output_type": "display_data"
    }
   ],
   "source": [
    "# solve the equation and store the result in t_half\n",
    "t_half = solve(P - K/2, t)\n",
    "\n",
    "# the solve function returns the solution in a list, so we extract the first entry in a list and overwrite t_half\n",
    "t_half = t_half[0]\n",
    "\n",
    "# display the result\n",
    "display(t_half)"
   ]
  },
  {
   "cell_type": "markdown",
   "metadata": {},
   "source": [
    "**Question 6**."
   ]
  },
  {
   "cell_type": "code",
   "execution_count": 19,
   "metadata": {},
   "outputs": [
    {
     "data": {
      "text/latex": [
       "$\\displaystyle 48.9034912822175$"
      ],
      "text/plain": [
       "48.9034912822175"
      ]
     },
     "metadata": {},
     "output_type": "display_data"
    },
    {
     "data": {
      "text/latex": [
       "$\\displaystyle 97.8069825644351$"
      ],
      "text/plain": [
       "97.8069825644351"
      ]
     },
     "metadata": {},
     "output_type": "display_data"
    }
   ],
   "source": [
    "# substituting in the original parameter values\n",
    "display(t_half.subs(params))\n",
    "\n",
    "# here we are using the copy method to copy the original dictionary into a new one\n",
    "params2 = params.copy()\n",
    "\n",
    "# now we edit the value of r (since dictionaries are mutable)\n",
    "params2[r] = 0.05\n",
    "\n",
    "# finally, we evaluate the solution t_half using the new set of parameter values\n",
    "display(t_half.subs(params2))"
   ]
  },
  {
   "cell_type": "markdown",
   "metadata": {},
   "source": [
    "## Exercise 4 - The roots of unity"
   ]
  },
  {
   "cell_type": "markdown",
   "metadata": {},
   "source": [
    "***\n",
    "**Question 1.**"
   ]
  },
  {
   "cell_type": "code",
   "execution_count": 20,
   "metadata": {},
   "outputs": [
    {
     "data": {
      "text/plain": [
       "[-1,\n",
       " 1,\n",
       " -1/4 + sqrt(5)/4 - I*sqrt(sqrt(5)/8 + 5/8),\n",
       " -1/4 + sqrt(5)/4 + I*sqrt(sqrt(5)/8 + 5/8),\n",
       " 1/4 + sqrt(5)/4 - I*sqrt(5/8 - sqrt(5)/8),\n",
       " 1/4 + sqrt(5)/4 + I*sqrt(5/8 - sqrt(5)/8),\n",
       " -sqrt(5)/4 - 1/4 - I*sqrt(5/8 - sqrt(5)/8),\n",
       " -sqrt(5)/4 - 1/4 + I*sqrt(5/8 - sqrt(5)/8),\n",
       " -sqrt(5)/4 + 1/4 - I*sqrt(sqrt(5)/8 + 5/8),\n",
       " -sqrt(5)/4 + 1/4 + I*sqrt(sqrt(5)/8 + 5/8)]"
      ]
     },
     "metadata": {},
     "output_type": "display_data"
    }
   ],
   "source": [
    "z = symbols('z')\n",
    "L_exact = solve(z**10 - 1)\n",
    "display(L_exact)"
   ]
  },
  {
   "cell_type": "markdown",
   "metadata": {},
   "source": [
    "***\n",
    "**Question 2.**"
   ]
  },
  {
   "cell_type": "code",
   "execution_count": 21,
   "metadata": {},
   "outputs": [
    {
     "data": {
      "text/plain": [
       "[-1.00000000000000,\n",
       " 1.00000000000000,\n",
       " 0.309016994374947 - 0.951056516295154*I,\n",
       " 0.309016994374947 + 0.951056516295154*I,\n",
       " 0.809016994374947 - 0.587785252292473*I,\n",
       " 0.809016994374947 + 0.587785252292473*I,\n",
       " -0.809016994374947 - 0.587785252292473*I,\n",
       " -0.809016994374947 + 0.587785252292473*I,\n",
       " -0.309016994374947 - 0.951056516295154*I,\n",
       " -0.309016994374947 + 0.951056516295154*I]"
      ]
     },
     "metadata": {},
     "output_type": "display_data"
    }
   ],
   "source": [
    "L_float = [l.evalf() for l in L_exact]\n",
    "display(L_float)\n"
   ]
  },
  {
   "cell_type": "markdown",
   "metadata": {},
   "source": [
    "***\n",
    "**Question 3.**"
   ]
  },
  {
   "cell_type": "code",
   "execution_count": 22,
   "metadata": {},
   "outputs": [
    {
     "data": {
      "text/plain": [
       "[1.00000000000000,\n",
       " 0.809016994374947 + 0.587785252292473*I,\n",
       " 0.309016994374947 + 0.951056516295154*I,\n",
       " -0.309016994374947 + 0.951056516295154*I,\n",
       " -0.809016994374947 + 0.587785252292473*I,\n",
       " -1.00000000000000,\n",
       " -0.809016994374947 - 0.587785252292473*I,\n",
       " -0.309016994374947 - 0.951056516295154*I,\n",
       " 0.309016994374947 - 0.951056516295154*I,\n",
       " 0.809016994374947 - 0.587785252292473*I]"
      ]
     },
     "metadata": {},
     "output_type": "display_data"
    }
   ],
   "source": [
    "L = [exp(2*pi*I*m/10) for m in range(10)]\n",
    "L = [l.evalf() for l in L]\n",
    "display(L)"
   ]
  },
  {
   "cell_type": "markdown",
   "metadata": {},
   "source": [
    "***\n",
    "**Question 4.**"
   ]
  },
  {
   "cell_type": "markdown",
   "metadata": {},
   "source": [
    "The $n$-th roots of unity are given by\n",
    "$$\n",
    "z = e^{2 \\pi i m / n}, \\quad m = 0, 1, \\ldots n-1\n",
    "$$"
   ]
  },
  {
   "cell_type": "markdown",
   "metadata": {},
   "source": [
    "## Exercise 5 - The period of a pendulum"
   ]
  },
  {
   "cell_type": "markdown",
   "metadata": {},
   "source": [
    "***\n",
    "**Question 1.**"
   ]
  },
  {
   "cell_type": "code",
   "execution_count": 23,
   "metadata": {},
   "outputs": [
    {
     "name": "stdout",
     "output_type": "stream",
     "text": [
      "1.41922689511373\n"
     ]
    }
   ],
   "source": [
    "m = 1\n",
    "g = 9.8\n",
    "L = 0.5\n",
    "\n",
    "T = 2 * pi.evalf() * sqrt(L / g)\n",
    "print(T)"
   ]
  },
  {
   "cell_type": "markdown",
   "metadata": {},
   "source": [
    "***\n",
    "**Question 2.**"
   ]
  },
  {
   "cell_type": "code",
   "execution_count": 24,
   "metadata": {},
   "outputs": [
    {
     "name": "stdout",
     "output_type": "stream",
     "text": [
      "1.47595814775915\n"
     ]
    }
   ],
   "source": [
    "theta_0 = pi.evalf() / 4\n",
    "theta = symbols('theta')\n",
    "\n",
    "T = 2 * sqrt(L / g) * integrate(1 / sqrt(2 * (cos(theta) - cos(theta_0))), (theta, -theta_0, theta_0)).evalf()\n",
    "\n",
    "# print the real part of T, discarding the small complex part\n",
    "print(re(T))"
   ]
  },
  {
   "cell_type": "markdown",
   "metadata": {},
   "source": [
    "***\n",
    "**Question 3.**"
   ]
  },
  {
   "cell_type": "code",
   "execution_count": 25,
   "metadata": {},
   "outputs": [
    {
     "name": "stdout",
     "output_type": "stream",
     "text": [
      "theta_0 = 0.314159265358979 , T = 1.42803119698908\n",
      "theta_0 = 0.628318530717959 , T = 1.45505804464812\n",
      "theta_0 = 0.942477796076938 , T = 1.50227699842791\n",
      "theta_0 = 1.25663706143592 , T = 1.57345831528626\n",
      "theta_0 = 1.57079632679490 , T = 1.67517112351829\n",
      "theta_0 = 1.88495559215388 , T = 1.81900225070082\n",
      "theta_0 = 2.19911485751286 , T = 2.02706456550359\n",
      "theta_0 = 2.51327412287183 , T = 2.34895766296046\n"
     ]
    }
   ],
   "source": [
    "# use list comprehension to create a list of the values of theta_0\n",
    "theta_0 = [0.1 * n * pi.evalf() for n in range(1,9)]\n",
    "\n",
    "# use a for loop to iterate over the values of theta_0\n",
    "for t in theta_0:\n",
    "    \n",
    "    # compute the period\n",
    "    T = 2 * sqrt(L / g) * integrate(1 / sqrt(2 * (cos(theta) - cos(t))), (theta, -t, t)).evalf()\n",
    "    \n",
    "    # print the results.  here we use the re() function\n",
    "    # to compute the real part\n",
    "    print(\"theta_0 =\", t, \", T =\", re(T))    "
   ]
  },
  {
   "cell_type": "markdown",
   "metadata": {},
   "source": [
    "As the angle of release $\\theta_0$ increases so does the period $T$"
   ]
  },
  {
   "cell_type": "markdown",
   "metadata": {},
   "source": [
    "***\n",
    "# Part 2 - NumPy\n",
    "***"
   ]
  },
  {
   "cell_type": "code",
   "execution_count": 26,
   "metadata": {},
   "outputs": [],
   "source": [
    "import numpy as np"
   ]
  },
  {
   "cell_type": "markdown",
   "metadata": {},
   "source": [
    "***\n",
    "## Exercise 6 - Creating arrays and accessing elements"
   ]
  },
  {
   "cell_type": "markdown",
   "metadata": {},
   "source": [
    "***\n",
    "**Question 1.**"
   ]
  },
  {
   "cell_type": "code",
   "execution_count": 27,
   "metadata": {},
   "outputs": [],
   "source": [
    "a = np.array([5, 4, 9, 2, 0, 4, 7, 2])"
   ]
  },
  {
   "cell_type": "markdown",
   "metadata": {},
   "source": [
    "***\n",
    "**Question 2.**"
   ]
  },
  {
   "cell_type": "code",
   "execution_count": 28,
   "metadata": {},
   "outputs": [
    {
     "name": "stdout",
     "output_type": "stream",
     "text": [
      "5\n",
      "2\n",
      "[4 9 2 0 4]\n"
     ]
    }
   ],
   "source": [
    "# print the first entry\n",
    "print(a[0])\n",
    "\n",
    "# print the last entry\n",
    "print(a[-1])\n",
    "\n",
    "#print the second-to-sixth entries using colon notation\n",
    "print(a[1:6])"
   ]
  },
  {
   "cell_type": "markdown",
   "metadata": {},
   "source": [
    "***\n",
    "**Question 3.**"
   ]
  },
  {
   "cell_type": "code",
   "execution_count": 29,
   "metadata": {},
   "outputs": [
    {
     "name": "stdout",
     "output_type": "stream",
     "text": [
      "[5 4 9 2 0 4 7 9]\n",
      "[1 1 1 2 0 4 7 9]\n"
     ]
    }
   ],
   "source": [
    "# changing the last entry to 9\n",
    "a[-1] = 9\n",
    "print(a)\n",
    "\n",
    "# changing the first three entries to 1\n",
    "a[0:3] = 1\n",
    "print(a)"
   ]
  },
  {
   "cell_type": "markdown",
   "metadata": {},
   "source": [
    "***\n",
    "**Question 4.**"
   ]
  },
  {
   "cell_type": "code",
   "execution_count": 30,
   "metadata": {},
   "outputs": [
    {
     "name": "stdout",
     "output_type": "stream",
     "text": [
      "[3 4 6 3 5 9 7 5 3 9 2 3 3 4 5 4 9 4 1 9]\n"
     ]
    }
   ],
   "source": [
    "r = np.random.randint(1, 10, 20)\n",
    "print(r)"
   ]
  },
  {
   "cell_type": "markdown",
   "metadata": {},
   "source": [
    "***\n",
    "**Question 5.**: Running `idx = r < 5` creates an array of True/False values.  The values of True occur in places where the entries of $r$ satisfy $r < 5$.  The values of False occur in places where the entries of $r$ satisfy $r \\geq 5$.  Running `r[idx] = 0` assigns the value of 0 to entries of $r$ in places where `idx` has the value True.  The final result is that entries of $r$ that are smaller than 5 are set to 0."
   ]
  },
  {
   "cell_type": "code",
   "execution_count": 31,
   "metadata": {},
   "outputs": [
    {
     "name": "stdout",
     "output_type": "stream",
     "text": [
      "[ True  True False  True False False False False  True False  True  True\n",
      "  True  True False  True False  True  True False]\n",
      "[0 0 6 0 5 9 7 5 0 9 0 0 0 0 5 0 9 0 0 9]\n"
     ]
    }
   ],
   "source": [
    "idx = r < 5\n",
    "print(idx)\n",
    "\n",
    "r[idx] = 0\n",
    "print(r)"
   ]
  },
  {
   "cell_type": "markdown",
   "metadata": {},
   "source": [
    "***\n",
    "**Question 6.**"
   ]
  },
  {
   "cell_type": "code",
   "execution_count": 32,
   "metadata": {},
   "outputs": [
    {
     "name": "stdout",
     "output_type": "stream",
     "text": [
      "[[6 2 3]\n",
      " [4 4 1]\n",
      " [8 5 6]]\n"
     ]
    }
   ],
   "source": [
    "A = np.array([[6, 2, 3], [4, 4, 1], [8,5,6]])\n",
    "print(A)"
   ]
  },
  {
   "cell_type": "markdown",
   "metadata": {},
   "source": [
    "***\n",
    "**Question 7.**"
   ]
  },
  {
   "cell_type": "code",
   "execution_count": 33,
   "metadata": {},
   "outputs": [
    {
     "name": "stdout",
     "output_type": "stream",
     "text": [
      "A = [[6 2 3]\n",
      " [9 4 1]\n",
      " [8 5 0]] \n",
      "\n",
      "The entries in the second row are [9 4 1]\n"
     ]
    }
   ],
   "source": [
    "# updating the entry in the second row, first column\n",
    "A[1,0] = 9\n",
    "\n",
    "# updating the entry in the last row and last column\n",
    "A[-1,-1] = 0\n",
    "\n",
    "# printing the updated array\n",
    "print('A =', A, '\\n')\n",
    "\n",
    "# printing all entries in the second row\n",
    "print('The entries in the second row are', A[1,:])"
   ]
  },
  {
   "cell_type": "markdown",
   "metadata": {},
   "source": [
    "***\n",
    "**Question 8.**"
   ]
  },
  {
   "cell_type": "code",
   "execution_count": 34,
   "metadata": {},
   "outputs": [
    {
     "name": "stdout",
     "output_type": "stream",
     "text": [
      "A = [[1. 1.]\n",
      " [2. 2.]] \n",
      "\n",
      "B =  [[1. 1. 1. 1. 1.]\n",
      " [2. 2. 2. 2. 2.]\n",
      " [3. 3. 3. 3. 3.]\n",
      " [4. 4. 4. 4. 4.]\n",
      " [5. 5. 5. 5. 5.]]\n"
     ]
    }
   ],
   "source": [
    "# creating an array of zeros\n",
    "A = np.zeros((2, 2))\n",
    "\n",
    "# setting the values of the rows\n",
    "A[0,:] = 1\n",
    "A[1,:] = 2\n",
    "\n",
    "# printing the result\n",
    "print('A =', A, '\\n')\n",
    "\n",
    "# now doing the case when N = 5\n",
    "N = 5\n",
    "B = np.zeros((5, 5))\n",
    "for i in range(5):\n",
    "    B[i,:] = i + 1\n",
    "print('B = ', B)"
   ]
  },
  {
   "cell_type": "markdown",
   "metadata": {},
   "source": [
    "***\n",
    "## Exercise 7 - Performing operations on arrays"
   ]
  },
  {
   "cell_type": "markdown",
   "metadata": {},
   "source": [
    "***\n",
    "**Question 1.**"
   ]
  },
  {
   "cell_type": "code",
   "execution_count": 35,
   "metadata": {},
   "outputs": [
    {
     "name": "stdout",
     "output_type": "stream",
     "text": [
      "c =  [15 11  4]\n",
      "a.b = 35\n",
      "a.b = 35\n",
      "a.b = 35\n"
     ]
    }
   ],
   "source": [
    "a = np.array([3, 5, 2])\n",
    "b = np.array([6, 3, 1])\n",
    "\n",
    "# calculating c\n",
    "c = a + 2 * b\n",
    "print('c = ', c)\n",
    "\n",
    "# calculating the dot product between a and b using the 'dot' method\n",
    "print('a.b =', a.dot(b))\n",
    "\n",
    "# calculating the dot product using the dot function\n",
    "print('a.b =', np.dot(a, b))\n",
    "\n",
    "# calculating the dot product using element-by-element multiplication and np.sum\n",
    "print('a.b =', np.sum(a * b))"
   ]
  },
  {
   "cell_type": "markdown",
   "metadata": {},
   "source": [
    "***\n",
    "**Question 2.**"
   ]
  },
  {
   "cell_type": "code",
   "execution_count": 36,
   "metadata": {},
   "outputs": [
    {
     "name": "stdout",
     "output_type": "stream",
     "text": [
      "the max of y is 0.1353347404497369\n",
      "y is maximal when t = 1.002004008016032\n"
     ]
    },
    {
     "data": {
      "image/png": "[encoded data removed]",
      "text/plain": [
       "<Figure size 432x288 with 1 Axes>"
      ]
     },
     "metadata": {
      "needs_background": "light"
     },
     "output_type": "display_data"
    },
    {
     "data": {
      "text/plain": [
       "<sympy.plotting.plot.Plot at 0x7fef82e55490>"
      ]
     },
     "execution_count": 36,
     "metadata": {},
     "output_type": "execute_result"
    }
   ],
   "source": [
    "# creating an array of t values using linspace\n",
    "t = np.linspace(0, 5, 500)\n",
    "\n",
    "# creating an array to store y(t)\n",
    "y = t**2 * np.exp(-2 * t)\n",
    "\n",
    "# finding the max value of y\n",
    "y_max = np.max(y)\n",
    "print('the max of y is', y_max)\n",
    "\n",
    "# finding the value of t where y reaches its max\n",
    "t_max = t[y == y_max]\n",
    "print('y is maximal when t =', t_max[0])\n",
    "\n",
    "# compare with SymPy\n",
    "T = symbols('t')\n",
    "Y = T**2 * exp(-2 * T)\n",
    "plot(Y, (T, 0, 4))"
   ]
  },
  {
   "cell_type": "markdown",
   "metadata": {},
   "source": [
    "***\n",
    "**Question 3.**"
   ]
  },
  {
   "cell_type": "code",
   "execution_count": 37,
   "metadata": {},
   "outputs": [
    {
     "name": "stdout",
     "output_type": "stream",
     "text": [
      "The approximate value of I is 3.207397837710025\n",
      "The exact value of I is 3.20824053077195\n",
      "The new approximatoion to I is 3.208232396499138\n"
     ]
    }
   ],
   "source": [
    "# computing I numerically\n",
    "x = np.linspace(0, 5, 50)\n",
    "y = x / (1 + x)\n",
    "I_approx = np.trapz(y, x)\n",
    "print('The approximate value of I is', I_approx)\n",
    "\n",
    "# computing I exactly\n",
    "X = symbols('X')\n",
    "Y = X / (1 + X)\n",
    "I_exact = integrate(Y, (X, 0, 5))\n",
    "print('The exact value of I is', I_exact.evalf())\n",
    "\n",
    "# repeat the calculation with 500 points between 0 and 5\n",
    "x = np.linspace(0, 5, 500)\n",
    "y = x / (1 + x)\n",
    "I_approx2 = np.trapz(y, x)\n",
    "print('The new approximatoion to I is', I_approx2)\n",
    "\n",
    "# the approximation has become more accurate"
   ]
  },
  {
   "cell_type": "markdown",
   "metadata": {},
   "source": [
    "***\n",
    "**Question 4.**"
   ]
  },
  {
   "cell_type": "code",
   "execution_count": 38,
   "metadata": {},
   "outputs": [
    {
     "name": "stdout",
     "output_type": "stream",
     "text": [
      "The min is 3.7\n",
      "The max is 25.0\n",
      "The mean is 10.125\n",
      "The median is 9.350000000000001\n"
     ]
    }
   ],
   "source": [
    "g = [3.7, 8.9, 9.8, 3.7, 25, 10, 8.9, 11]\n",
    "\n",
    "print('The min is', np.min(g))\n",
    "print('The max is', np.max(g))\n",
    "print('The mean is', np.mean(g))\n",
    "print('The median is', np.median(g))"
   ]
  },
  {
   "cell_type": "markdown",
   "metadata": {},
   "source": [
    "***\n",
    "**Question 5.**"
   ]
  },
  {
   "cell_type": "code",
   "execution_count": 39,
   "metadata": {},
   "outputs": [
    {
     "name": "stdout",
     "output_type": "stream",
     "text": [
      "C = [[ 3 12  3]\n",
      " [ 3  4  3]\n",
      " [10 10  8]] \n",
      "\n",
      "AB = [[13 16  5]\n",
      " [ 7 20  3]\n",
      " [26 32 10]] \n",
      "\n",
      "BA = [[16 12  8]\n",
      " [ 5  6  7]\n",
      " [15 18 21]] \n",
      "\n"
     ]
    }
   ],
   "source": [
    "A = np.array([[1, 2, 3], [3, 2, 1], [2, 4, 6]])\n",
    "B = np.array([[1, 5, 0], [0, 1, 1], [4, 3, 1]])\n",
    "\n",
    "# computing C = A + 2B\n",
    "C = A + 2 * B\n",
    "print('C =', C, '\\n')\n",
    "\n",
    "# computing AB and BA\n",
    "print('AB =', A @ B, '\\n')\n",
    "print('BA =', B @ A, '\\n')"
   ]
  },
  {
   "cell_type": "markdown",
   "metadata": {},
   "source": [
    "***\n",
    "**Question 6.**"
   ]
  },
  {
   "cell_type": "code",
   "execution_count": 40,
   "metadata": {},
   "outputs": [
    {
     "name": "stdout",
     "output_type": "stream",
     "text": [
      "The transpose of A is\n",
      " [[1 3 2]\n",
      " [2 2 4]\n",
      " [3 1 6]] \n",
      "\n"
     ]
    }
   ],
   "source": [
    "# computing the transpose of A\n",
    "A_trans = np.transpose(A)\n",
    "\n",
    "# printing the result\n",
    "print('The transpose of A is\\n', A_trans, '\\n')"
   ]
  },
  {
   "cell_type": "markdown",
   "metadata": {},
   "source": [
    "***\n",
    "**Question 7.**"
   ]
  },
  {
   "cell_type": "code",
   "execution_count": 41,
   "metadata": {},
   "outputs": [
    {
     "name": "stdout",
     "output_type": "stream",
     "text": [
      "x = [ 0.66666667 -0.33333333 -0.33333333  0.66666667]\n",
      "Ax - b =  [1.11022302e-16 2.22044605e-16 0.00000000e+00 0.00000000e+00]\n"
     ]
    }
   ],
   "source": [
    "A = np.array([[1, 0, 0, -1], [1, -2, 1, 0], [0, 1, -2, 1], [2, 0, 0, 1]])\n",
    "b = np.array([0, 1, 1, 2])\n",
    "\n",
    "x = np.linalg.solve(A, b)\n",
    "print('x =', x)\n",
    "print('Ax - b = ', A @ x - b)"
   ]
  },
  {
   "cell_type": "markdown",
   "metadata": {},
   "source": [
    "***\n",
    "## Exercise 8 - Weather prediction"
   ]
  },
  {
   "cell_type": "markdown",
   "metadata": {},
   "source": [
    "***\n",
    "**Question 1**"
   ]
  },
  {
   "cell_type": "code",
   "execution_count": 42,
   "metadata": {},
   "outputs": [
    {
     "name": "stdout",
     "output_type": "stream",
     "text": [
      "The probability that it will be sunny tomorrow is 0.5\n"
     ]
    }
   ],
   "source": [
    "# create the transition matrix\n",
    "P = np.array([[0.5, 0.3, 0.2], [0.4, 0.2, 0.4], [0.6, 0.2, 0.2]])\n",
    "\n",
    "# create the state vector for today\n",
    "x_0 = np.array([1, 0, 0])\n",
    "\n",
    "# compute the state vector for tomorrow\n",
    "x_1 = x_0 @ P\n",
    "\n",
    "print('The probability that it will be sunny tomorrow is', x_1[0])"
   ]
  },
  {
   "cell_type": "markdown",
   "metadata": {},
   "source": [
    "***\n",
    "**Question**"
   ]
  },
  {
   "cell_type": "code",
   "execution_count": 43,
   "metadata": {},
   "outputs": [
    {
     "name": "stdout",
     "output_type": "stream",
     "text": [
      "The probability that it will rain in two days is 0.26\n"
     ]
    }
   ],
   "source": [
    "x_2 = x_1 @ P\n",
    "print('The probability that it will rain in two days is', x_2[-1])"
   ]
  },
  {
   "cell_type": "markdown",
   "metadata": {},
   "source": [
    "***\n",
    "**Question**"
   ]
  },
  {
   "cell_type": "code",
   "execution_count": 44,
   "metadata": {},
   "outputs": [
    {
     "name": "stdout",
     "output_type": "stream",
     "text": [
      "The seven-day forecast is\n",
      "Sunny: 0.5\n",
      "Cloudy: 0.25\n",
      "Rainy: 0.25\n"
     ]
    }
   ],
   "source": [
    "# create the state vector for today\n",
    "x = np.array([1, 0, 0])\n",
    "\n",
    "# use a for loop to repeatedly calculate xP\n",
    "for n in range(7):\n",
    "    x = x @ P\n",
    "    \n",
    "print('The seven-day forecast is')\n",
    "print('Sunny:', round(x[0], 2))\n",
    "print('Cloudy:', round(x[1], 2))\n",
    "print('Rainy:', round(x[2], 2))"
   ]
  }
 ],
 "metadata": {
  "kernelspec": {
   "display_name": "Python 3",
   "language": "python",
   "name": "python3"
  },
  "language_info": {
   "codemirror_mode": {
    "name": "ipython",
    "version": 3
   },
   "file_extension": ".py",
   "mimetype": "text/x-python",
   "name": "python",
   "nbconvert_exporter": "python",
   "pygments_lexer": "ipython3",
   "version": "3.8.10"
  }
 },
 "nbformat": 4,
 "nbformat_minor": 4
}
