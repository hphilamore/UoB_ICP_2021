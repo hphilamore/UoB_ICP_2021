{
 "cells": [
  {
   "cell_type": "markdown",
   "metadata": {
    "slideshow": {
     "slide_type": "slide"
    }
   },
   "source": [
    "# Introduction to Computer Programming\n",
    "\n",
    "## Week 3.1: Loops\n",
    "\n",
    "* * *\n",
    "\n",
    "<img src=\"img/full-colour-logo-UoB.png\" alt=\"Bristol\" style=\"width: 300px;\"/>"
   ]
  },
  {
   "cell_type": "markdown",
   "metadata": {
    "slideshow": {
     "slide_type": "slide"
    }
   },
   "source": [
    "# What is a loop?\n",
    "\n",
    "A **loop** is a mechanism that allows the same piece of code to be executed many times \n",
    "\n",
    "This eliminates the need to copy-and-paste code\n",
    "\n",
    "**Example**: Compute the fourth power of a number $x$:"
   ]
  },
  {
   "cell_type": "code",
   "execution_count": 1,
   "metadata": {},
   "outputs": [
    {
     "name": "stdout",
     "output_type": "stream",
     "text": [
      "625\n"
     ]
    }
   ],
   "source": [
    "x = 5\n",
    "\n",
    "ans = x         # first power\n",
    "ans = ans * x   # second power\n",
    "ans = ans * x   # third power\n",
    "ans = ans * x   # fourth power\n",
    "\n",
    "print(ans)"
   ]
  },
  {
   "cell_type": "markdown",
   "metadata": {},
   "source": [
    "**Question**: what if we wanted to compute the $n$-th power of $x$?"
   ]
  },
  {
   "cell_type": "markdown",
   "metadata": {
    "slideshow": {
     "slide_type": "slide"
    }
   },
   "source": [
    "# Loops in Python\n",
    "\n",
    "There are two main loops in Python:\n",
    "\n",
    "* `for` loops: these repeat code a fixed number of times\n",
    "* `while` loops: these repeat code until a condition is satisfied"
   ]
  },
  {
   "cell_type": "markdown",
   "metadata": {
    "slideshow": {
     "slide_type": "slide"
    }
   },
   "source": [
    "# For loops\n",
    "\n",
    "`for` loops have the syntax:\n",
    "***\n",
    "``` python\n",
    "for var in sequence:\n",
    "    # code block (note the indent)\n",
    "```\n",
    "***\n",
    "The key ingredients are:\n",
    "1. The keywords `for` and `in`\n",
    "2. *sequence*: an iterable object such as a list or string (see Week 3.2 for more info)\n",
    "3. *var*: a variable that takes on each value in *sequence*\n",
    "4. A colon that follows *sequence*\n",
    "5. A block of code that is executed at each iteration of the loop.  This block of code **must** be indented\n",
    "\n",
    "Let's take a look at some examples to better understand this syntax!"
   ]
  },
  {
   "cell_type": "markdown",
   "metadata": {
    "slideshow": {
     "slide_type": "slide"
    }
   },
   "source": [
    "# Example of a `for` loop"
   ]
  },
  {
   "cell_type": "code",
   "execution_count": 2,
   "metadata": {},
   "outputs": [
    {
     "name": "stdout",
     "output_type": "stream",
     "text": [
      "3\n",
      "5\n",
      "7\n",
      "8\n"
     ]
    }
   ],
   "source": [
    "for i in [3, 5, 7, 8]:\n",
    "    print(i)"
   ]
  },
  {
   "cell_type": "markdown",
   "metadata": {},
   "source": [
    "What sequence of events is happening here?\n",
    "1. The variable *i* is first assigned the value 3, the first entry in the sequence\n",
    "2. Then the value of *i* is printed\n",
    "3. The variable *i* changes to 5, the second entry in the sequence\n",
    "4. Then the value of *i* is printed again\n",
    "5. The process repeats until *i* has taken on every value in the sequence"
   ]
  },
  {
   "cell_type": "markdown",
   "metadata": {
    "slideshow": {
     "slide_type": "slide"
    }
   },
   "source": [
    "# The role of the indent\n",
    "\n",
    "The indent is used to determine which pieces of code are executed in the loop"
   ]
  },
  {
   "cell_type": "code",
   "execution_count": 3,
   "metadata": {},
   "outputs": [
    {
     "name": "stdout",
     "output_type": "stream",
     "text": [
      "I'm in the loop\n",
      "I'm in the loop\n",
      "I'm in the loop\n",
      "I'm out of the loop\n"
     ]
    }
   ],
   "source": [
    "for i in [1, 2, 3]:\n",
    "    print(\"I'm in the loop\")\n",
    "print(\"I'm out of the loop\")"
   ]
  },
  {
   "cell_type": "markdown",
   "metadata": {},
   "source": [
    "The loop involves three iterations, but only the indented code is executed during each iteration"
   ]
  },
  {
   "cell_type": "markdown",
   "metadata": {
    "slideshow": {
     "slide_type": "slide"
    }
   },
   "source": [
    "# Loops and control flow\n",
    "\n",
    "Loops commonly contain `if` statements:\n",
    "***\n",
    "``` python\n",
    "for var in sequence:\n",
    "    \n",
    "    if condition:\n",
    "        # code that is executed if condition == True\n",
    "    else:\n",
    "        # code that is executed if condition == False\n",
    "   \n",
    "   # code that is always executed in the loop\n",
    "```\n",
    "***"
   ]
  },
  {
   "cell_type": "markdown",
   "metadata": {},
   "source": [
    "Extra indents are required for pieces of code that are only executed in the `if` and `else` statements"
   ]
  },
  {
   "cell_type": "markdown",
   "metadata": {
    "slideshow": {
     "slide_type": "slide"
    }
   },
   "source": [
    "# In-class examples"
   ]
  },
  {
   "cell_type": "markdown",
   "metadata": {
    "slideshow": {
     "slide_type": "slide"
    }
   },
   "source": [
    "# While loops\n",
    "\n",
    "`while` loops have the syntax\n",
    "***\n",
    "```python\n",
    "while condition:\n",
    "    # block of code\n",
    "    \n",
    "```\n",
    "***\n",
    "The main components of a while loop are:\n",
    "1. the keyword `while`\n",
    "2. *condition*: this is an expression that returns the value True or False \n",
    "3. an indended block of code that will run as long as the *condition* is True"
   ]
  },
  {
   "cell_type": "markdown",
   "metadata": {
    "slideshow": {
     "slide_type": "slide"
    }
   },
   "source": [
    "# Example of a `while` loop"
   ]
  },
  {
   "cell_type": "code",
   "execution_count": 4,
   "metadata": {},
   "outputs": [
    {
     "name": "stdout",
     "output_type": "stream",
     "text": [
      "0\n",
      "1\n",
      "2\n",
      "3\n",
      "4\n"
     ]
    }
   ],
   "source": [
    "i = 0\n",
    "while i < 5:\n",
    "    print(i)\n",
    "    i += 1"
   ]
  },
  {
   "cell_type": "markdown",
   "metadata": {},
   "source": [
    "What sequence of events is happening here?\n",
    "1. The variable *i* is assigned the value of 0\n",
    "2. The while loop is approached and the condition i < 5 is checked\n",
    "3. Since 0 < 5 is True, the loop is entered\n",
    "4. The value of *i* is printed and its value is increased by one\n",
    "5. The condition i < 5 is checked again.  Since 1 < 5 is True, the loop is entered again\n",
    "6. The process repeats until i < 5 is False, at which point the loop is terminated"
   ]
  },
  {
   "cell_type": "markdown",
   "metadata": {
    "slideshow": {
     "slide_type": "slide"
    }
   },
   "source": [
    "# Infinite loops - a word of warning!\n",
    "\n",
    "**Question**: What will the output of the following code be?\n",
    "***\n",
    "```python\n",
    "i = 0\n",
    "while i < 5:\n",
    "    print(i)\n",
    "```\n",
    "***"
   ]
  },
  {
   "cell_type": "markdown",
   "metadata": {
    "slideshow": {
     "slide_type": "slide"
    }
   },
   "source": [
    "# Infinite loops - a word of warning!\n",
    "\n",
    "**Question**: What will the output of the following code be?\n",
    "***\n",
    "```python\n",
    "i = 0\n",
    "while i < 5:\n",
    "    print(i)\n",
    "```\n",
    "***\n",
    "**Answer**: Since the value of $i$ is never changed, the loop will never terminate!\n",
    "* This is called an **infinite loop**\n",
    "* One must be careful to avoid these when using `while` loops"
   ]
  },
  {
   "cell_type": "markdown",
   "metadata": {
    "slideshow": {
     "slide_type": "slide"
    }
   },
   "source": [
    "# Terminating loops using `break`\n",
    "\n",
    "A `for` or `while` loop can be terminated prematurely using the `break` keyword"
   ]
  },
  {
   "cell_type": "code",
   "execution_count": 5,
   "metadata": {},
   "outputs": [
    {
     "name": "stdout",
     "output_type": "stream",
     "text": [
      "0\n",
      "1\n",
      "2\n",
      "Breaking the loop when i = 3\n"
     ]
    }
   ],
   "source": [
    "for i in range(6):\n",
    "    \n",
    "    if i == 3:\n",
    "        print(\"Breaking the loop when i = 3\")\n",
    "        break\n",
    "    \n",
    "    print(i)"
   ]
  },
  {
   "cell_type": "markdown",
   "metadata": {
    "slideshow": {
     "slide_type": "slide"
    }
   },
   "source": [
    "# Skipping parts of a loop with `continue`\n",
    "\n",
    "The `continue` keyboard can be used to skip code in a loop"
   ]
  },
  {
   "cell_type": "code",
   "execution_count": 6,
   "metadata": {},
   "outputs": [
    {
     "name": "stdout",
     "output_type": "stream",
     "text": [
      "0\n",
      "1\n",
      "2\n",
      "4\n",
      "5\n"
     ]
    }
   ],
   "source": [
    "for i in range(6):\n",
    "    \n",
    "    if i == 3:\n",
    "        continue\n",
    "    \n",
    "    print(i)"
   ]
  },
  {
   "cell_type": "markdown",
   "metadata": {},
   "source": [
    "When the `continue` keyword is encountered, the current *iteration* of the loop terminates, but the loop continues"
   ]
  },
  {
   "cell_type": "markdown",
   "metadata": {
    "slideshow": {
     "slide_type": "slide"
    }
   },
   "source": [
    "# Summary\n",
    "\n",
    "**Loops** are used to repeatedly execute blocks of code\n",
    "* `for` loops are used to execute code a certain number of times\n",
    "* `while` loops are used to execute code until a condition is satisfied\n",
    "* The `break` keyword will terminate a loop (useful for avoiding **infinite loops**!)\n",
    "* The `continue` keyword enables blocks of code to be skipped in a loop"
   ]
  }
 ],
 "metadata": {
  "celltoolbar": "Slideshow",
  "kernelspec": {
   "display_name": "Python 3",
   "language": "python",
   "name": "python3"
  },
  "language_info": {
   "codemirror_mode": {
    "name": "ipython",
    "version": 3
   },
   "file_extension": ".py",
   "mimetype": "text/x-python",
   "name": "python",
   "nbconvert_exporter": "python",
   "pygments_lexer": "ipython3",
   "version": "3.8.8"
  }
 },
 "nbformat": 4,
 "nbformat_minor": 4
}
