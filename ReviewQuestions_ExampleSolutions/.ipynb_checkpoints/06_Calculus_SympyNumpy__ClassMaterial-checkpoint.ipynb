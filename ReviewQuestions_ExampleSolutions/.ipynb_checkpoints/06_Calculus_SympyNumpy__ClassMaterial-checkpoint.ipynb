{
 "cells": [
  {
   "cell_type": "markdown",
   "metadata": {
    "collapsed": true,
    "slideshow": {
     "slide_type": "slide"
    }
   },
   "source": [
    "# 06 Calculus with Sympy and Numpy  \n",
    "# Review Exercises - Solutions\n"
   ]
  },
  {
   "cell_type": "markdown",
   "metadata": {},
   "source": [
    "## Review Exercise 1 : Differentiation\n",
    "\n",
    "$$f(x) = cos(x) + bx + c$$\n",
    "\n",
    "Use symbolic math to find the second derivative of $f(x)$"
   ]
  },
  {
   "cell_type": "code",
   "execution_count": null,
   "metadata": {},
   "outputs": [],
   "source": []
  },
  {
   "cell_type": "code",
   "execution_count": 1,
   "metadata": {},
   "outputs": [
    {
     "name": "stdout",
     "output_type": "stream",
     "text": [
      "-cos(x)\n"
     ]
    }
   ],
   "source": [
    "# Review Exercise 1\n",
    "# Example Solution\n",
    "import sympy as sp\n",
    "from sympy import diff, symbols\n",
    "\n",
    "b, c, x = symbols('b c x')\n",
    "\n",
    "f = sp.cos(x) + b*x + c\n",
    "\n",
    "print(diff( f, x, 2 ) )"
   ]
  },
  {
   "cell_type": "markdown",
   "metadata": {},
   "source": [
    "## Review Exercise 2 : Integration\n",
    "$$f(x) = cos(x) + bx + c$$\n",
    "\n",
    "Find: $\\int_{0}^{1} f(x) \\; dx$:\n",
    "\n",
    "1. Symbolically\n",
    "2. Non-symbolically (where $b=2$, $c=5$)"
   ]
  },
  {
   "cell_type": "code",
   "execution_count": null,
   "metadata": {
    "scrolled": true
   },
   "outputs": [],
   "source": []
  },
  {
   "cell_type": "code",
   "execution_count": 4,
   "metadata": {},
   "outputs": [
    {
     "name": "stdout",
     "output_type": "stream",
     "text": [
      "b             \n",
      "─ + c + sin(1)\n",
      "2             \n"
     ]
    }
   ],
   "source": [
    "# Review Exercise 2 : Symbolically\n",
    "# Example Solution \n",
    "\n",
    "from sympy import integrate\n",
    "from sympy import pprint\n",
    "\n",
    "b, c, x = symbols('b, c, x')\n",
    "f = sp.cos(x) + b*x + c\n",
    "pprint(integrate(f, (x, 0, 1)))"
   ]
  },
  {
   "cell_type": "code",
   "execution_count": null,
   "metadata": {},
   "outputs": [],
   "source": []
  },
  {
   "cell_type": "code",
   "execution_count": 6,
   "metadata": {
    "scrolled": true,
    "slideshow": {
     "slide_type": "slide"
    }
   },
   "outputs": [
    {
     "name": "stdout",
     "output_type": "stream",
     "text": [
      "6.841470984807897\n",
      "The estimated error is 7.595558609638671e-14\n"
     ]
    }
   ],
   "source": [
    "# Review Exercise 2 : Non Symbolically\n",
    "# Example Solution \n",
    "import numpy as np\n",
    "from scipy.integrate import quad\n",
    "\n",
    "# first create a function to describe the integrand\n",
    "def integrand(x):\n",
    "    return np.cos(x) + 2*x + 5\n",
    "\n",
    "\n",
    "# create two variables to store the integral and the error\n",
    "ans, err = quad(integrand, 0, 1)\n",
    "\n",
    "\n",
    "print(ans)\n",
    "print(f'The estimated error is {err}')"
   ]
  },
  {
   "cell_type": "code",
   "execution_count": null,
   "metadata": {},
   "outputs": [],
   "source": []
  },
  {
   "cell_type": "markdown",
   "metadata": {},
   "source": [
    "## Review Exercise 3 : Estimating the integral of exerimental data\n",
    "\n",
    "Use the trapezoid method to integrate the array of raw experimental `y` data with respect to indpendent variable `x`. \n",
    "\n",
    "```\n",
    "x = np.array([0, 10, 15, 30, 35, 50, 75, 80])\n",
    "\n",
    "y = np.array([5, 6, 1, 1.5, 2, 5, 6, 1])\n",
    "```"
   ]
  },
  {
   "cell_type": "code",
   "execution_count": 7,
   "metadata": {},
   "outputs": [],
   "source": [
    "# Review Exercise 3"
   ]
  },
  {
   "cell_type": "code",
   "execution_count": 8,
   "metadata": {},
   "outputs": [
    {
     "name": "stdout",
     "output_type": "stream",
     "text": [
      "307.5\n"
     ]
    }
   ],
   "source": [
    "# Review Exercise 3\n",
    "# Example Solution\n",
    "\n",
    "x = np.array([0, 10, 15, 30, 35, 50, 75, 80])\n",
    "\n",
    "y = np.array([5, 6, 1, 1.5, 2, 5, 6, 1])\n",
    "\n",
    "print(np.trapz(y, x))"
   ]
  },
  {
   "cell_type": "markdown",
   "metadata": {},
   "source": [
    "## Review Exercise 4: Solving ordinary differntial equations. \n",
    "\n",
    "During braking, a car’s velocity is given by $v = v_{0} e^{−t/R}$.\n",
    "\n",
    "$v = \\frac{dD}{dt}$\n",
    "\n",
    "Initial condition: distance, $D(0) = 0$\n",
    "\n",
    "Solve the equtaion using symbolic mathematics to show that the distance travelled while braking as a function of time can be expressed as:\n",
    "\n",
    "$$D(t) =  Rv_0 - R v_0 e^{−t/R} $$\n",
    "\n",
    "a) Define variables as symbols sybolically. Define function `D` (distance).\n",
    "\n",
    "b) Use `Eq` from the `sympy` package to define the differential equation. \n",
    "\n",
    "c) Use `dsolve` to find the general solution to the equation by solving the equation symbolically. \n",
    "\n",
    "d) Find the value of the constant of ingtegration $C1$. \n",
    "\n",
    "e) Substitute $C1$ into the general solution to find the exact solution to the equation.  "
   ]
  },
  {
   "cell_type": "code",
   "execution_count": 11,
   "metadata": {},
   "outputs": [
    {
     "data": {
      "text/latex": [
       "$\\displaystyle \\frac{d}{d t} D{\\left(t \\right)} = v_{0} e^{- \\frac{t}{R}}$"
      ],
      "text/plain": [
       "Eq(Derivative(D(t), t), v0*exp(-t/R))"
      ]
     },
     "metadata": {},
     "output_type": "display_data"
    },
    {
     "data": {
      "text/latex": [
       "$\\displaystyle D{\\left(t \\right)} = C_{1} - R v_{0} e^{- \\frac{t}{R}}$"
      ],
      "text/plain": [
       "Eq(D(t), C1 - R*v0*exp(-t/R))"
      ]
     },
     "metadata": {},
     "output_type": "display_data"
    },
    {
     "data": {
      "text/latex": [
       "$\\displaystyle 0 = C_{1} - R v_{0}$"
      ],
      "text/plain": [
       "Eq(0, C1 - R*v0)"
      ]
     },
     "metadata": {},
     "output_type": "display_data"
    },
    {
     "data": {
      "text/plain": [
       "{C1: R*v0}"
      ]
     },
     "metadata": {},
     "output_type": "display_data"
    },
    {
     "data": {
      "text/latex": [
       "$\\displaystyle D{\\left(t \\right)} = R v_{0} - R v_{0} e^{- \\frac{t}{R}}$"
      ],
      "text/plain": [
       "Eq(D(t), R*v0 - R*v0*exp(-t/R))"
      ]
     },
     "metadata": {},
     "output_type": "display_data"
    }
   ],
   "source": [
    "# Review Exercise 4\n",
    "# Example Solution\n",
    "import sympy as sp\n",
    "from sympy import symbols, Eq, Function, dsolve, exp, solve\n",
    "from IPython.display import display\n",
    "\n",
    "# a) define symbols\n",
    "t, v0, R, C1 = symbols(\"t v0 R C1\")\n",
    "D = Function(\"D\")\n",
    "\n",
    "# b)define differential equation\n",
    "eqn = Eq(D(t).diff(t), v0*exp(-t/(R)))\n",
    "display(eqn)\n",
    "\n",
    "# c) find general solution\n",
    "gen_sol = dsolve(eqn, D(t))\n",
    "display(gen_sol)\n",
    "\n",
    "# d) find C1\n",
    "cnts = gen_sol.subs([(t,    0),       # x = 0 --> subs 0 for x\n",
    "                     (D(0), 0)])      # f(0) = 0 --> subs 0 for f(0)\n",
    "\n",
    "display(cnts)\n",
    "\n",
    "C_1 = solve([cnts], (C1))\n",
    "\n",
    "display(C_1)\n",
    "\n",
    "# e) Substitute C1 into the general solution to find exact solution\n",
    "ode_sol = gen_sol.subs(C_1)\n",
    "display(ode_sol)"
   ]
  },
  {
   "cell_type": "code",
   "execution_count": 12,
   "metadata": {},
   "outputs": [],
   "source": [
    "# Review Exercise 4"
   ]
  },
  {
   "cell_type": "markdown",
   "metadata": {},
   "source": [
    "## Review Exercise 5 : Solving ordinary differntial equations. \n",
    "\n",
    "$\\frac{dy}{dx} + y = x$\n",
    "\n",
    "Initial value: $y(0) = 1$\n",
    "\n",
    "Find the numerical solution for $y$ using `odeint` for the range $x = [0, 5]$\n",
    "\n"
   ]
  },
  {
   "cell_type": "code",
   "execution_count": 13,
   "metadata": {},
   "outputs": [],
   "source": [
    "# Review Exercise 5"
   ]
  },
  {
   "cell_type": "code",
   "execution_count": 14,
   "metadata": {},
   "outputs": [],
   "source": [
    "# Review Exercise 5\n",
    "# Example solution\n",
    "import numpy as np\n",
    "import matplotlib.pyplot as plt\n",
    "from scipy.integrate import odeint\n",
    "%matplotlib inline\n",
    "\n",
    "xs = np.linspace(0,5,100)\n",
    "y0 = 1.0  # initial condition\n",
    "\n",
    "# Define a function which calculates the derivative\n",
    "def dy_dx(y, x):\n",
    "    return x - y\n",
    "\n",
    "y = odeint(dy_dx, y0, xs)"
   ]
  },
  {
   "cell_type": "code",
   "execution_count": null,
   "metadata": {},
   "outputs": [],
   "source": []
  }
 ],
 "metadata": {
  "celltoolbar": "Slideshow",
  "kernelspec": {
   "display_name": "Python 3",
   "language": "python",
   "name": "python3"
  },
  "language_info": {
   "codemirror_mode": {
    "name": "ipython",
    "version": 3
   },
   "file_extension": ".py",
   "mimetype": "text/x-python",
   "name": "python",
   "nbconvert_exporter": "python",
   "pygments_lexer": "ipython3",
   "version": "3.7.4"
  }
 },
 "nbformat": 4,
 "nbformat_minor": 2
}
