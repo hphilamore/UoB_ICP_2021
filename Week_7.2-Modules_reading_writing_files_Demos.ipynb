{
 "cells": [
  {
   "cell_type": "markdown",
   "metadata": {
    "slideshow": {
     "slide_type": "slide"
    }
   },
   "source": [
    "# Introduction to Computer Programming\n",
    "\n",
    "## Week 7.2: Modules for reading & writing files\n",
    "\n",
    "* * *\n",
    "\n",
    "<img src=\"img/full-colour-logo-UoB.png\" alt=\"Bristol\" style=\"width: 300px;\"/>"
   ]
  },
  {
   "cell_type": "markdown",
   "metadata": {
    "slideshow": {
     "slide_type": "slide"
    }
   },
   "source": [
    "The `writer` class from the `csv` module handles delimiters automatically. \n",
    "\n",
    "<br>\n",
    "\n",
    "<br>\n",
    "\n",
    "`writerow` : \n",
    "- a method belonging to the `writer` class\n",
    "- writes list to csv file as row\n",
    "\n",
    "\n",
    "__Example:__ Write the high score table to a csv file scores_.csv\n"
   ]
  },
  {
   "cell_type": "code",
   "execution_count": 95,
   "metadata": {},
   "outputs": [],
   "source": [
    "names = ['Elena', 'Sajid', 'Tom', 'Farhad', 'Manesha']\n",
    "scores = [550, 480, 380, 305, 150]\n",
    "\n",
    "with open('sample_data/scores_.csv', 'w') as f: # file opened as normal\n",
    "    \n",
    "    w = csv.writer(f)            # writer object is created\n",
    "    \n",
    "    for n, s in zip(names, scores):\n",
    "        w.writerow([n, s])        "
   ]
  },
  {
   "cell_type": "markdown",
   "metadata": {
    "slideshow": {
     "slide_type": "slide"
    }
   },
   "source": [
    "##### Try it yourself\n",
    "\n",
    "__Example:__ Use the `csv` module to write the header and first row of the high score table shown to a .txt file.\n",
    "\n",
    "_Hint_\n",
    "\n",
    ".txt file so delimiter is `' '` not `','` (default).\n",
    "\n",
    "Specify delimiter when creating the writer object using the named argument `delimiter=' '`. \n",
    "\n",
    "| Place | Name | Score | \n",
    "| :-: | :-: | :-: |  \n",
    "| 1 | Elena | 550 | \n",
    "| 2 | Sajid | 480 | \n",
    "| 3 | Tom | 380 | \n",
    "| 4 | Farhad | 305 | \n",
    "| 5 | Manesha | 150 |\n"
   ]
  },
  {
   "cell_type": "code",
   "execution_count": 96,
   "metadata": {},
   "outputs": [],
   "source": [
    "import csv\n",
    "\n",
    "with open('sample_data/scores_.txt', 'w') as f:\n",
    "    \n",
    "    w = csv.writer(f, delimiter=' ')\n",
    "    \n",
    "    w.writerow(['place', 'name', 'score'])\n",
    "    \n",
    "    w.writerow([1, 'Elena', 500])\n",
    "    \n",
    "    "
   ]
  },
  {
   "cell_type": "markdown",
   "metadata": {
    "slideshow": {
     "slide_type": "slide"
    }
   },
   "source": [
    "__Example:__ Write the high score table data to a csv file, scores_.csv\n",
    "\n",
    "`writerows` can be used to write a data structure (containing multiple lists) to the file\n",
    "\n"
   ]
  },
  {
   "cell_type": "code",
   "execution_count": 97,
   "metadata": {},
   "outputs": [],
   "source": [
    "header = ['place', 'name', 'score']\n",
    "\n",
    "# data is list of lists\n",
    "data = [[1, 'Elena', 550],   \n",
    "        [2, 'Sajid', 480],\n",
    "        [3, 'Tom', 380],\n",
    "        [4, 'Farhad', 305],\n",
    "        [5, 'Manesha', 150]    \n",
    "       ]"
   ]
  },
  {
   "cell_type": "code",
   "execution_count": 98,
   "metadata": {},
   "outputs": [],
   "source": [
    "import csv \n",
    "\n",
    "with open('sample_data/scores_.csv', 'w') as f:\n",
    "    \n",
    "    w = csv.writer(f)\n",
    "    \n",
    "    w.writerow(header)\n",
    "    \n",
    "    w.writerows(data)"
   ]
  },
  {
   "cell_type": "markdown",
   "metadata": {
    "slideshow": {
     "slide_type": "slide"
    }
   },
   "source": [
    "### Reading CSV files\n",
    "Reading csv files and converting them to a useful format (list of strings) can be a lengthy process!"
   ]
  },
  {
   "cell_type": "code",
   "execution_count": 100,
   "metadata": {},
   "outputs": [
    {
     "name": "stdout",
     "output_type": "stream",
     "text": [
      "['place,name,score\\n', '1,Elena,550\\n', '2,Sajid,480\\n', '3,Tom,380\\n', '4,Farhad,305\\n', '5,Manesha,150\\n', '6,Carl,100\\n', '7,Theo,105\\n', '8,Mark,75\\n', '9,Grace,50\\n']\n",
      "['place,name,score', '1,Elena,550', '2,Sajid,480', '3,Tom,380', '4,Farhad,305', '5,Manesha,150', '6,Carl,100', '7,Theo,105', '8,Mark,75', '9,Grace,50']\n",
      "[['place', 'name', 'score'], ['1', 'Elena', '550'], ['2', 'Sajid', '480'], ['3', 'Tom', '380'], ['4', 'Farhad', '305'], ['5', 'Manesha', '150'], ['6', 'Carl', '100'], ['7', 'Theo', '105'], ['8', 'Mark', '75'], ['9', 'Grace', '50']]\n"
     ]
    }
   ],
   "source": [
    "with open('sample_data/scores_.csv') as f:\n",
    "    file = list(f)                          # list of strings (lines) \n",
    "    \n",
    "    print(file)\n",
    "    \n",
    "    lines = [line.strip() for line in file] # remove \\n from each string\n",
    "    \n",
    "    print(lines)\n",
    "    \n",
    "    lists = [l.split(',') for l in lines]   # convert each line string --> list\n",
    "    \n",
    "    print(lists)"
   ]
  },
  {
   "cell_type": "markdown",
   "metadata": {
    "slideshow": {
     "slide_type": "slide"
    }
   },
   "source": [
    "The `writer` class from the `csv` module removes delimiters and `\\n` characters automatically. \n",
    "\n",
    "__Example:__ Read the contents of the file scores_.csv"
   ]
  },
  {
   "cell_type": "code",
   "execution_count": 101,
   "metadata": {
    "scrolled": true
   },
   "outputs": [
    {
     "name": "stdout",
     "output_type": "stream",
     "text": [
      "['place', 'name', 'score']\n",
      "['1', 'Elena', '550']\n",
      "['2', 'Sajid', '480']\n",
      "['3', 'Tom', '380']\n",
      "['4', 'Farhad', '305']\n",
      "['5', 'Manesha', '150']\n",
      "['6', 'Carl', '100']\n",
      "['7', 'Theo', '105']\n",
      "['8', 'Mark', '75']\n",
      "['9', 'Grace', '50']\n"
     ]
    }
   ],
   "source": [
    "with open('sample_data/scores_.csv') as f:\n",
    "    \n",
    "    r = csv.reader(f) \n",
    "\n",
    "    for line in r:      # iterable\n",
    "        print(line)\n",
    "        \n",
    "    # stream position at end of file\n",
    "\n",
    "    f.close()"
   ]
  },
  {
   "cell_type": "markdown",
   "metadata": {},
   "source": [
    "__Example:__ Read the file scores_.csv and print the third line."
   ]
  },
  {
   "cell_type": "code",
   "execution_count": 102,
   "metadata": {},
   "outputs": [
    {
     "name": "stdout",
     "output_type": "stream",
     "text": [
      "['2', 'Sajid', '480']\n"
     ]
    }
   ],
   "source": [
    "import csv \n",
    "\n",
    "with open('sample_data/scores_.csv') as f:\n",
    "    \n",
    "    r = csv.reader(f)\n",
    "    \n",
    "    r = list(r)\n",
    "    \n",
    "    print(r[2])"
   ]
  },
  {
   "cell_type": "markdown",
   "metadata": {
    "slideshow": {
     "slide_type": "slide"
    }
   },
   "source": [
    "# Reading and writing csv files\n"
   ]
  },
  {
   "cell_type": "markdown",
   "metadata": {},
   "source": [
    "__Example:__ Add a new entry to the file scores_.csv and then print the contents. \n",
    "\n",
    "What if we want to print the contents before adding a new line?"
   ]
  },
  {
   "cell_type": "code",
   "execution_count": 103,
   "metadata": {},
   "outputs": [
    {
     "name": "stdout",
     "output_type": "stream",
     "text": [
      "['place', 'name', 'score']\n",
      "['1', 'Elena', '550']\n",
      "['2', 'Sajid', '480']\n",
      "['3', 'Tom', '380']\n",
      "['4', 'Farhad', '305']\n",
      "['5', 'Manesha', '150']\n",
      "['6', 'Carl', '100']\n",
      "['7', 'Theo', '105']\n",
      "['8', 'Mark', '75']\n",
      "['9', 'Grace', '50']\n",
      "['10', 'Lois', '70']\n"
     ]
    }
   ],
   "source": [
    "with open('sample_data/scores_.csv', 'a+') as f:\n",
    "    \n",
    "    r = csv.reader(f)\n",
    "    w = csv.writer(f)\n",
    "\n",
    "    \n",
    "    w.writerow([10, 'Lois', 70])\n",
    "    \n",
    "    f.seek(0)\n",
    "    \n",
    "    for line in r:\n",
    "        print(line)"
   ]
  }
 ],
 "metadata": {
  "celltoolbar": "Slideshow",
  "kernelspec": {
   "display_name": "Python 3",
   "language": "python",
   "name": "python3"
  },
  "language_info": {
   "codemirror_mode": {
    "name": "ipython",
    "version": 3
   },
   "file_extension": ".py",
   "mimetype": "text/x-python",
   "name": "python",
   "nbconvert_exporter": "python",
   "pygments_lexer": "ipython3",
   "version": "3.8.3"
  }
 },
 "nbformat": 4,
 "nbformat_minor": 5
}
