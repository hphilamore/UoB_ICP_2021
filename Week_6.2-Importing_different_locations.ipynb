{
 "cells": [
  {
   "cell_type": "markdown",
   "id": "a3585790",
   "metadata": {
    "slideshow": {
     "slide_type": "slide"
    }
   },
   "source": [
    "# Introduction to Computer Programming\n",
    "\n",
    "## Week 6.2: Importing files from different locations\n",
    "\n",
    "* * *\n",
    "\n",
    "<img src=\"img/full-colour-logo-UoB.png\" alt=\"Bristol\" style=\"width: 300px;\"/>"
   ]
  },
  {
   "cell_type": "markdown",
   "id": "7a7d3d94",
   "metadata": {
    "slideshow": {
     "slide_type": "slide"
    }
   },
   "source": [
    "# Importing a file from a different directory\n",
    "## Downstream file location"
   ]
  },
  {
   "cell_type": "markdown",
   "id": "5065dc29",
   "metadata": {
    "slideshow": {
     "slide_type": "slide"
    }
   },
   "source": [
    "__Example:__ Importing from a downstream sub-directory (a __package__)\n",
    "\n",
    "<img src=\"img/fruit_folder_2.png\" alt=\"Bristol\" style=\"width: 400px;\"/>"
   ]
  },
  {
   "cell_type": "markdown",
   "id": "b38cd569",
   "metadata": {
    "slideshow": {
     "slide_type": "slide"
    }
   },
   "source": [
    "__Example:__ Importing from a downstream sub-directory (a __package__)\n",
    "\n",
    "```python\n",
    "    example_w6a/\n",
    "    │\n",
    "    ├── main.py\n",
    "    └── fruit/\n",
    "        ├── __init__.py\n",
    "        ├── banana.py\n",
    "        └── strawberry.py\n",
    "```"
   ]
  },
  {
   "cell_type": "markdown",
   "id": "09aa8dbd",
   "metadata": {},
   "source": [
    "`.` is used to indicate a sub-directory downstream of the current location:\n",
    "<br>- `import subfolder.file`\n",
    "<br>-`import folder.subfolder.file`\n",
    "\n",
    "\n",
    "\n",
    "Everything after `import` is stored in the local namespace and must be used to prepend any variables, functions etc from the imported module. "
   ]
  },
  {
   "cell_type": "markdown",
   "id": "770fe94e",
   "metadata": {
    "slideshow": {
     "slide_type": "slide"
    }
   },
   "source": [
    "File contents\n",
    "***\n",
    "##### main.py\n",
    "    import fruit     \n",
    "    print(fruit.strawberry.word)\n",
    "***\n",
    "##### fruit/___init__.py\n",
    "    # (empty file)\n",
    "***\n",
    "##### fruit/_banana.py\n",
    "    word = 'banana'    \n",
    "***\n",
    "##### fruit/_strawberry.py\n",
    "    word = 'strawberry' \n",
    "\n",
    "***"
   ]
  },
  {
   "cell_type": "markdown",
   "id": "db7e5149",
   "metadata": {
    "slideshow": {
     "slide_type": "slide"
    }
   },
   "source": [
    "The longer namespace when packages are imported can make code long and difficult to read.\n",
    "\n",
    "__Example__ Renaming `fruit.strawberry` --> `strawb` to make code shorter and neater "
   ]
  },
  {
   "cell_type": "markdown",
   "id": "1317c9a3",
   "metadata": {},
   "source": [
    "\n",
    "##### main.py\n",
    "***\n",
    "\n",
    "    import fruit.strawberry as strawb # OR from fruit import strawberry as strawb\n",
    "    print(strawb.word)\n",
    "***"
   ]
  },
  {
   "cell_type": "markdown",
   "id": "f4d40004",
   "metadata": {
    "slideshow": {
     "slide_type": "slide"
    }
   },
   "source": [
    "## Upstream file location\n",
    "__Example:__ Importing from an upstream directory\n",
    "\n",
    "If a file is located upstream of a script being run, it cannot automatically be found by the Python interpreter. \n",
    "\n",
    "<img src=\"img/fruit_folder_3.png\" alt=\"Bristol\" style=\"width: 400px;\"/>\n",
    "\n"
   ]
  },
  {
   "cell_type": "markdown",
   "id": "d7578791",
   "metadata": {
    "slideshow": {
     "slide_type": "slide"
    }
   },
   "source": [
    "## Upstream file location\n",
    "__Example:__ Importing from an upstream directory\n",
    "\n",
    "If a file is located upstream of a script being run, it cannot automatically be found by the Python interpreter. \n",
    "\n",
    "\n",
    "```python\n",
    "\n",
    "example_w6b/\n",
    "│\n",
    "├── scripts/\n",
    "│   └── my_script.py\n",
    "│\n",
    "├── fruit/\n",
    "│   ├── __init__.py\n",
    "│   └── strawberry.py\n",
    "│\n",
    "├── functions.py \n",
    "└── __init__.py\n",
    "\n",
    "```"
   ]
  },
  {
   "cell_type": "markdown",
   "id": "f77aa13e",
   "metadata": {
    "slideshow": {
     "slide_type": "slide"
    }
   },
   "source": [
    "This is because Python only looks for modules and packages in its __import path__. \n",
    "\n",
    "This is a list of locations: \n",
    "- current directory\n",
    "- contents of `PYTHONPATH` variable (a list of user defined directories)\n",
    "- standard directories automatically set when python installs"
   ]
  },
  {
   "cell_type": "markdown",
   "id": "a8110985",
   "metadata": {
    "slideshow": {
     "slide_type": "slide"
    }
   },
   "source": [
    "To view the path we can use the `sys` module which installs with Python:"
   ]
  },
  {
   "cell_type": "code",
   "execution_count": 1,
   "id": "53c2bf67",
   "metadata": {},
   "outputs": [
    {
     "name": "stdout",
     "output_type": "stream",
     "text": [
      "['C:\\\\Users\\\\hemma\\\\iCloudDrive\\\\Documents\\\\Code\\\\Jupyter_NBooks\\\\Teaching\\\\UoB\\\\UoB_ICP_2021', 'C:\\\\Users\\\\hemma\\\\anaconda3\\\\python38.zip', 'C:\\\\Users\\\\hemma\\\\anaconda3\\\\DLLs', 'C:\\\\Users\\\\hemma\\\\anaconda3\\\\lib', 'C:\\\\Users\\\\hemma\\\\anaconda3', '', 'C:\\\\Users\\\\hemma\\\\anaconda3\\\\lib\\\\site-packages', 'C:\\\\Users\\\\hemma\\\\anaconda3\\\\lib\\\\site-packages\\\\locket-0.2.1-py3.8.egg', 'C:\\\\Users\\\\hemma\\\\anaconda3\\\\lib\\\\site-packages\\\\win32', 'C:\\\\Users\\\\hemma\\\\anaconda3\\\\lib\\\\site-packages\\\\win32\\\\lib', 'C:\\\\Users\\\\hemma\\\\anaconda3\\\\lib\\\\site-packages\\\\Pythonwin', 'C:\\\\Users\\\\hemma\\\\anaconda3\\\\lib\\\\site-packages\\\\IPython\\\\extensions', 'C:\\\\Users\\\\hemma\\\\.ipython']\n"
     ]
    }
   ],
   "source": [
    "import sys\n",
    "print(sys.path)"
   ]
  },
  {
   "cell_type": "markdown",
   "id": "b91be51c",
   "metadata": {
    "slideshow": {
     "slide_type": "slide"
    }
   },
   "source": [
    "To add a *location* to the path from wihtin a python program we can use `sys`.\n",
    "\n",
    "`../` is used to indicate a location one directory upstream of the current location.\n",
    "\n",
    "```python\n",
    "\n",
    "example_w6b/\n",
    "│\n",
    "├── scripts/\n",
    "│   └── my_script.py\n",
    "│\n",
    "├── fruit/\n",
    "│   ├── __init__.py\n",
    "│   └── strawberry.py\n",
    "│\n",
    "├── functions.py \n",
    "└── __init__.py\n",
    "\n",
    "```\n",
    "\n",
    "__Example:__ In `my_script.py`:\n",
    "```python\n",
    "import sys\n",
    "sys.path.append('../') # appends the python path with the directory one level up\n",
    "sys.path.append('../fruit') # appends the python path with a different directory at th same level\n",
    "import functions\n",
    "import strawberry\n",
    "```"
   ]
  },
  {
   "cell_type": "markdown",
   "id": "f1fa8ed2",
   "metadata": {
    "slideshow": {
     "slide_type": "slide"
    }
   },
   "source": [
    "A directory can be removed in a similar way:\n",
    "    \n",
    "```python\n",
    "sys.path.remove('../')\n",
    "```\n"
   ]
  },
  {
   "cell_type": "markdown",
   "id": "e3d3cc78",
   "metadata": {
    "slideshow": {
     "slide_type": "slide"
    }
   },
   "source": [
    "# Summary\n",
    "```python\n",
    "    example_w6a/\n",
    "    │\n",
    "    ├── main.py\n",
    "    └── fruit/\n",
    "        ├── __init__.py\n",
    "        ├── banana.py\n",
    "        └── strawberry.py\n",
    "```\n",
    "\n",
    "***\n",
    "Importing package from same directory:\n",
    "\n",
    "    import\n",
    "    print(fruit.strawberry.word)\n",
    "    \n",
    "***\n",
    "Importing submodule:\n",
    "\n",
    "    from fruit import strawberry\n",
    "    print(strawberry.word)\n",
    "***\n",
    "Renaming :\n",
    "\n",
    "    import fruit.strawberry as strawb # OR from fruit import strawberry as strawb\n",
    "    print(strawb.word)\n",
    "***\n",
    "Importing variable:\n",
    "\n",
    "    from fruit.strawberry import word\n",
    "    print(word)\n",
    "***\n",
    "Importing and rename variable\n",
    "\n",
    "    from fruit.strawberry import word as w\n",
    "    print(w)\n",
    "***"
   ]
  },
  {
   "cell_type": "code",
   "execution_count": null,
   "id": "4c7e49c9",
   "metadata": {},
   "outputs": [],
   "source": []
  }
 ],
 "metadata": {
  "celltoolbar": "Slideshow",
  "kernelspec": {
   "display_name": "Python 3",
   "language": "python",
   "name": "python3"
  },
  "language_info": {
   "codemirror_mode": {
    "name": "ipython",
    "version": 3
   },
   "file_extension": ".py",
   "mimetype": "text/x-python",
   "name": "python",
   "nbconvert_exporter": "python",
   "pygments_lexer": "ipython3",
   "version": "3.8.8"
  }
 },
 "nbformat": 4,
 "nbformat_minor": 5
}
