{
 "cells": [
  {
   "cell_type": "markdown",
   "metadata": {
    "collapsed": true,
    "slideshow": {
     "slide_type": "slide"
    }
   },
   "source": [
    "# 05 Algebra with Sympy, Scipy and Numpy \n",
    "# Review Exercises - Solutions\n",
    "\n",
    "\n",
    "\n"
   ]
  },
  {
   "cell_type": "markdown",
   "metadata": {},
   "source": [
    "## Review Exercise 1: Root finding \n",
    "\n",
    "Fit a polynomial function to the data below.\n",
    "\n",
    "Find the roots of the fitted polynomial. "
   ]
  },
  {
   "cell_type": "code",
   "execution_count": 3,
   "metadata": {},
   "outputs": [],
   "source": [
    "# Review Exercise 1: Root finding \n",
    "x = [-6.0, -5.555555555555555, -5.444444444444445, -5.333333333333333, -5.0, -4.777777777777778, -4.555555555555555, -4.333333333333334, -4.111111111111111, -3.555555555555556, -3.3333333333333335, -3.2222222222222223, -2.2222222222222223, -1.8888888888888893, -1.7777777777777777, -1.5555555555555554, -1.4444444444444446, -1.333333333333334, -1.2222222222222223, -1.1111111111111116, -0.7777777777777777, -0.5555555555555562, -0.3333333333333339, -0.22222222222222232, 0.33333333333333304, 0.5555555555555554, 0.6666666666666661, 0.8888888888888884, 1.0, 1.2222222222222214, 1.333333333333333, 1.4444444444444438, 1.666666666666666, 1.7777777777777777, 2.1111111111111107, 2.333333333333332, 2.5555555555555554, 2.777777777777777, 2.8888888888888893, 3.1111111111111107, 3.2222222222222214, 3.5555555555555554, 3.777777777777777, 4.0, 4.111111111111111, 4.222222222222221, 4.333333333333332, 4.444444444444445, 4.8888888888888875, 5.0]\n",
    "y = [-306.0670724099247, -273.4252575751447, -236.35910170243054, -2.147806809067588, -162.88428946693543, -72.0539258242078, -49.64195238514043, -75.05934686306523, -49.40805793483066, -15.803160491117433, -20.408192287721462, -34.04243919689319, -2.6008654388252075, -0.33819910212586596, 0.5967691522163541, 1.955165125544544, 0.754741501848223, 3.1485956879192134, 0.2736824650635393, 2.535463038423905, 2.0383401626385638, 0.8371085078493934, 0.27326740330999844, -0.14152399821562134, -0.15792222719404883, -1.357836647665497, -4.064496618469092, -2.2060777524379893, -6.716174537753252, -2.381049714701943, -0.8951333867263299, -3.703956978393335, -5.121504730336851, -1.4824097773484555, -0.0658532580151797, 2.5527247901789907, 9.310234512028755, 7.839090794578473, 0.8239015424106111, 27.801254862532222, 33.099581728518, 17.182186572769048, 63.28883410018085, 38.47325866392358, 74.26392095969987, 100.73153613329536, 119.19508682705471, 46.85235728093459, 175.63882495054517, 118.62483544333234]"
   ]
  },
  {
   "cell_type": "code",
   "execution_count": 5,
   "metadata": {},
   "outputs": [
    {
     "name": "stdout",
     "output_type": "stream",
     "text": [
      "[-2.71205292  2.45686211  0.02786138]\n"
     ]
    },
    {
     "data": {
      "text/plain": [
       "[<matplotlib.lines.Line2D at 0x116fb3310>]"
      ]
     },
     "execution_count": 5,
     "metadata": {},
     "output_type": "execute_result"
    },
    {
     "data": {
      "image/png": "[encoded data removed]",
      "text/plain": [
       "<Figure size 432x288 with 1 Axes>"
      ]
     },
     "metadata": {
      "needs_background": "light"
     },
     "output_type": "display_data"
    }
   ],
   "source": [
    "# Review Exercise 1: Root finding \n",
    "# Example Solution\n",
    "import numpy as np\n",
    "import matplotlib.pyplot as plt\n",
    "plt.plot(x,y,'co')\n",
    "\n",
    "# 3rd order polynomial \n",
    "# 4 coefficients\n",
    "c = np.polyfit(x, y, 3)\n",
    "\n",
    "# 3rd order polynomial \n",
    "yfit3 = np.poly1d(c)(x)\n",
    "\n",
    "# plot fitted function\n",
    "plt.plot(x, \n",
    "         yfit3, \n",
    "         'r',\n",
    "         label=f'{round(c[0],2)}*x**3 + {round(c[1],2)}*x**2 + {round(c[2],2)}*x + {round(c[3],2)}');\n",
    "\n",
    "plt.legend()\n",
    "\n",
    "# find roots\n",
    "r = np.roots(c)\n",
    "print(r)\n",
    "\n",
    "#plot roots\n",
    "z = np.zeros(len(r))                  # array of zeros  \n",
    "plt.plot(r, z, 'ks')                  # roots"
   ]
  },
  {
   "cell_type": "code",
   "execution_count": null,
   "metadata": {},
   "outputs": [],
   "source": []
  },
  {
   "cell_type": "markdown",
   "metadata": {},
   "source": [
    "## Review Exercise 2: Root Finding using an Initial Estimate\n",
    "\n",
    "__Example:__ Find the root of the cosine function that is closest to -5.\n",
    "\n",
    "<img src=\"img/cos_graph.png\" alt=\"Drawing\" style=\"width: 500px;\"/> "
   ]
  },
  {
   "cell_type": "code",
   "execution_count": 6,
   "metadata": {},
   "outputs": [
    {
     "name": "stdout",
     "output_type": "stream",
     "text": [
      "[-4.71238898]\n"
     ]
    }
   ],
   "source": [
    "# Review Exercise 2: Finding the Closest Root to a Point\n",
    "# Example Solution \n",
    "from scipy.optimize import fsolve\n",
    "print(fsolve(np.cos, -5))"
   ]
  },
  {
   "cell_type": "markdown",
   "metadata": {
    "slideshow": {
     "slide_type": "slide"
    }
   },
   "source": [
    "## Review Exercise 3: Systems of Equations\n",
    "### Example Engineering Application: An Electrical Circuit\n",
    "<a id='ExampleElectricalCircuit'></a>\n",
    "\n",
    "#### Kirchhoff's Voltage Law\n",
    "For a closed loop series path the algebraic sum of all the *voltages* and *voltage drops* around any closed loop in a circuit is equal to zero.\n",
    "\n",
    "$\\sum E - \\sum V = 0 $\n",
    "\n",
    "<img src=\"img/kirchhoffVoltageLaw.png\" alt=\"Drawing\" style=\"width: 200px;\"/> \n"
   ]
  },
  {
   "cell_type": "markdown",
   "metadata": {
    "slideshow": {
     "slide_type": "slide"
    }
   },
   "source": [
    "#### Electrical Elements Obey Ohm's Law \n",
    "The current through a conductor (I, units amps) is the voltage measured across the conductor (V, units volts) divided by the resistance (R, units Ohms).\n",
    "\n",
    "$$V = IR$$\n"
   ]
  },
  {
   "cell_type": "markdown",
   "metadata": {
    "slideshow": {
     "slide_type": "slide"
    }
   },
   "source": [
    "Consider a three loop current network with five resistors and\n",
    "two voltage sources.\n",
    "\n",
    "Here we have three loops, hence we can write three equations\n",
    "to use resitances R1, R2, R3, R4, R5 and voltages v1, v2, to solve for the three unknowns, the currents: i1, i2, i3.\n",
    "\n",
    "<img src=\"img/circuit.png\" alt=\"Drawing\" style=\"width: 400px;\"/> \n",
    "\n",
    "\n"
   ]
  },
  {
   "cell_type": "markdown",
   "metadata": {
    "slideshow": {
     "slide_type": "slide"
    }
   },
   "source": [
    "We can use Kirchoff's voltage law to equate the voltage and voltage drop in each loop: \n",
    "<br>$\\sum V = \\sum E$ \n",
    "\n",
    "and Ohm's law : $V=IR$ \n",
    "\n",
    "__Loop 1:__ &nbsp; $ (R_1 + R_2) i_1 + i_2 R_2 = v_1$\n",
    "\n",
    "__Loop 2:__ &nbsp; $ -R_2 i_1 + (R_2 + R_3 + R_4)i_2 - R_4 i_3 = 0$\n",
    "\n",
    "__Loop 3:__ &nbsp; $ -R_4 i_2 + (R_4 + R_5) i_3 = -v_2$<br>"
   ]
  },
  {
   "cell_type": "markdown",
   "metadata": {
    "slideshow": {
     "slide_type": "slide"
    }
   },
   "source": [
    "Putting the equations in matrix form:\n",
    "\n",
    "\n",
    "\\begin{equation*}\n",
    "\\underbrace{\n",
    "\\begin{bmatrix}\n",
    "(R_1 + R_2) & -R_2 & 0  \\\\\n",
    "-R_2        & (R_2 + R_3 + R_4)  & -R_4  \\\\\n",
    "0           & -R_4               & (R_4 + R_5)  \\\\\n",
    "\\end{bmatrix}\n",
    "}_{\\mathbf{R}}\n",
    "\\cdot\n",
    "\\underbrace{\n",
    "\\begin{bmatrix}\n",
    "i_1 \\\\\n",
    "i_2 \\\\\n",
    "i_3 \\\\\n",
    "\\end{bmatrix}\n",
    "}_{\\mathbf{I}}\n",
    "=\\underbrace{\n",
    "\\begin{bmatrix}\n",
    "v_1 \\\\\n",
    "0 \\\\\n",
    "-v_2 \\\\\n",
    "\\end{bmatrix}\n",
    "}_{\\mathbf{V}}\n",
    "\\end{equation*}"
   ]
  },
  {
   "cell_type": "markdown",
   "metadata": {},
   "source": [
    "Given the following resitance and voltage values,  solve the system of equations to find the three unknown currents: i1, i2, i3.\n",
    "\n",
    "$R1=1K\\Omega$<br>\n",
    "$R2=300\\Omega$<br>\n",
    "$R3=500\\Omega$<br>\n",
    "$R4=1K\\Omega$<br>\n",
    "$R5=300\\Omega$<br>\n",
    "\n",
    "$v1 = 2V$<br>\n",
    "$v2 = 5V$"
   ]
  },
  {
   "cell_type": "code",
   "execution_count": 7,
   "metadata": {},
   "outputs": [
    {
     "name": "stdout",
     "output_type": "stream",
     "text": [
      "[ 0.00072615 -0.00352    -0.00655385]\n"
     ]
    }
   ],
   "source": [
    "# Review Exercise 3: Systems of Equations\n",
    "# Example Solution\n",
    "import numpy as np\n",
    "\n",
    "R1=1000\n",
    "R2=300\n",
    "R3=500\n",
    "R4=1000\n",
    "R5=300\n",
    "\n",
    "v1 = 2\n",
    "v2 = 5\n",
    "\n",
    "# Arrays for the known values\n",
    "R = np.array([[(R1+R2),  -R2,          0],\n",
    "              [ -R2,     (R2+R3+R4),   -R4],\n",
    "              [ 0,       -R4,          (R4+R5)]])\n",
    "\n",
    "v = np.array([v1, 0, -v2])\n",
    "\n",
    "\n",
    "# Solve for u\n",
    "I = np.linalg.solve(R, v)\n",
    "print(I)"
   ]
  },
  {
   "cell_type": "code",
   "execution_count": null,
   "metadata": {},
   "outputs": [],
   "source": []
  },
  {
   "cell_type": "markdown",
   "metadata": {},
   "source": [
    "## Review Exercise 4: Symbolic math\n",
    "\n",
    "$$ y = \\frac{x^P}{4d} $$\n",
    "\n",
    "Make $x$ the subject of the equation.\n",
    "\n",
    "Using symbolic substitution, find the value of $x$ when:\n",
    "\n",
    "$P = 12$\n",
    "\n",
    "$d = 4$ \n",
    "\n",
    "$y = 2$"
   ]
  },
  {
   "cell_type": "code",
   "execution_count": 10,
   "metadata": {},
   "outputs": [
    {
     "name": "stdout",
     "output_type": "stream",
     "text": [
      "      P\n",
      "     x \n",
      "y = ───\n",
      "    4⋅d\n",
      "(4*d*y)**(1/P)\n",
      "    P _______\n",
      "x = ╲╱ 4⋅d⋅y \n",
      "2**(5/12)\n"
     ]
    }
   ],
   "source": [
    "# Review Exercise 4: Symbolic math\n",
    "# Example solution\n",
    "\n",
    "import sympy\n",
    "\n",
    "# create a symbolic representation of all values\n",
    "P, d, y, x = sympy.symbols('P d y x')\n",
    "\n",
    "# make a symbolic equation \n",
    "y_eq = sympy.Eq(y, (x**P / (4 * d)))\n",
    "sympy.pprint(y_eq)\n",
    "\n",
    "# re-arrange for x using solve\n",
    "x_expr = sympy.solve(y_eq, x)[0]\n",
    "print(x_expr)\n",
    "\n",
    "# make a symbolic equation for x\n",
    "x_eq = sympy.Eq(x, x_expr) # This be written as one line...\n",
    "sympy.pprint(x_eq)\n",
    "\n",
    "\n",
    "# substitute in initial condition\n",
    "sol = x_expr.subs([(P, 12),       # E = 3.48e-6 --> subs 3.48e-6 for E\n",
    "                   (d,4),\n",
    "                   (y, 2),\n",
    "                   ])\n",
    "print(sol)\n",
    "\n"
   ]
  },
  {
   "cell_type": "code",
   "execution_count": null,
   "metadata": {},
   "outputs": [],
   "source": []
  }
 ],
 "metadata": {
  "celltoolbar": "Slideshow",
  "kernelspec": {
   "display_name": "Python 3",
   "language": "python",
   "name": "python3"
  },
  "language_info": {
   "codemirror_mode": {
    "name": "ipython",
    "version": 3
   },
   "file_extension": ".py",
   "mimetype": "text/x-python",
   "name": "python",
   "nbconvert_exporter": "python",
   "pygments_lexer": "ipython3",
   "version": "3.7.4"
  }
 },
 "nbformat": 4,
 "nbformat_minor": 2
}
