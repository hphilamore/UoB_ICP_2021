{
 "cells": [
  {
   "cell_type": "markdown",
   "metadata": {
    "slideshow": {
     "slide_type": "slide"
    }
   },
   "source": [
    "# Introduction to Computer Programming\n",
    "\n",
    "## Week 5.1: Classes\n",
    "\n",
    "* * *\n",
    "\n",
    "<img src=\"img/full-colour-logo-UoB.png\" alt=\"Bristol\" style=\"width: 300px;\"/>"
   ]
  },
  {
   "cell_type": "markdown",
   "metadata": {
    "slideshow": {
     "slide_type": "slide"
    }
   },
   "source": [
    "# A short recap\n",
    "\n",
    "In the last two weeks, we have looked at:\n",
    "\n",
    "* Different types of variables (strings, lists, tuples)\n",
    "* Writing our own functions that perform operations on these data types\n",
    "\n",
    "We also saw that some data types have their own functions that can be accessed using a dot (.)"
   ]
  },
  {
   "cell_type": "code",
   "execution_count": 4,
   "metadata": {},
   "outputs": [
    {
     "name": "stdout",
     "output_type": "stream",
     "text": [
      "['blue', 'green', 'red', 'yellow']\n"
     ]
    }
   ],
   "source": [
    "L = ['red', 'blue', 'green']\n",
    "L.append('yellow')\n",
    "L.sort()\n",
    "print(L)"
   ]
  },
  {
   "cell_type": "markdown",
   "metadata": {
    "slideshow": {
     "slide_type": "slide"
    }
   },
   "source": [
    "# Classes\n",
    "\n",
    "A **class** is a generalisation of a data type that combines data with functions that operate on that data.\n",
    "\n",
    "We can use the previous example to see that lists are classes: they store data (e.g. colours) and functions (e.g. append, sort).\n",
    "\n",
    "Python is special because all built-in data \"types\" are, in fact, classes!"
   ]
  },
  {
   "cell_type": "code",
   "execution_count": 2,
   "metadata": {},
   "outputs": [
    {
     "name": "stdout",
     "output_type": "stream",
     "text": [
      "<class 'list'>\n"
     ]
    }
   ],
   "source": [
    "L = ['red', 'blue', 'green']\n",
    "print(type(L))"
   ]
  },
  {
   "cell_type": "markdown",
   "metadata": {},
   "source": [
    "This shows that *L* is an **object** of a class called list"
   ]
  },
  {
   "cell_type": "markdown",
   "metadata": {
    "slideshow": {
     "slide_type": "slide"
    }
   },
   "source": [
    "# Aims\n",
    "\n",
    "In these slides, we'll learn:\n",
    "\n",
    "* How to define our own classes and hence types of variables\n",
    "* How to redefine (or **overload**) operators like + and * to work on our new variable types\n",
    "\n",
    "Classes greatly extend the functionality of Python and allow complex operations to happen \"behind the scenes\"\n",
    "\n",
    "For example, we could define a class for matrices.  We could then redefine + and \\* so that A+B and A\\*B calculate the sum and product of the matrices A and B"
   ]
  },
  {
   "cell_type": "markdown",
   "metadata": {
    "slideshow": {
     "slide_type": "slide"
    }
   },
   "source": [
    "# Defining a class\n",
    "\n",
    "**Example**: Let's build a class, called MyFraction, that represents fractions, e.g.\n",
    "$$\n",
    "\\frac{1}{4}\n",
    "$$\n",
    "\n",
    "This class will have functions that:\n",
    "* Convert the fraction to a float\n",
    "* Automatically simplifies fractions (e.g. converts 2/4 into 1/2)\n",
    "* Print the fraction nicely (like shown above)\n",
    "* Adds and multiplies two fractions\n"
   ]
  },
  {
   "cell_type": "markdown",
   "metadata": {
    "slideshow": {
     "slide_type": "slide"
    }
   },
   "source": [
    "# Getting started: the class definition\n",
    "\n",
    "Like functions, we need to write a line that tells Python we are about to define a class.  This looks like:"
   ]
  },
  {
   "cell_type": "markdown",
   "metadata": {},
   "source": [
    "```python\n",
    "class MyFraction():\n",
    "    # indented code (usually function definitions)\n",
    "    ```"
   ]
  },
  {
   "cell_type": "markdown",
   "metadata": {},
   "source": [
    "A few points:\n",
    "* The `class` keyword is used to indicate a class is about to be defined (similar to `def` for functions)\n",
    "* The convention is to begin the name of the class with a capital letter\n",
    "* The empty round brackets () means that class MyFraction is not a subclass.  We'll learn more about subclasses in the Week 5.2 slides"
   ]
  },
  {
   "cell_type": "markdown",
   "metadata": {
    "slideshow": {
     "slide_type": "slide"
    }
   },
   "source": [
    "# Getting started: the constructor\n",
    "\n",
    "Every class needs a **constructor**.  \n",
    "\n",
    "A constructor is a special function called `__init__` that is defined in the class and is automatically called when objects of that class are created.  \n",
    "\n",
    "The constructor is reponsible for creating the object and its **attributes** (variables associated with each object in the class)\n",
    "\n",
    "Note the two underscores (\\_) that come before and after init\n",
    "\n",
    "The first argument to `__init__` must be a variable called *self*\n",
    "\n",
    "```python\n",
    "class MyFraction():\n",
    "    # constructor\n",
    "    def __init__(self):\n",
    "        # lines of code to define attributes\n",
    "        ```"
   ]
  },
  {
   "cell_type": "markdown",
   "metadata": {
    "slideshow": {
     "slide_type": "slide"
    }
   },
   "source": [
    "Let's add a constructor to the MyFraction class.  \n",
    "\n",
    "First, let's think about the attributes we need.  \n",
    "\n",
    "Each fraction needs a numerator and a denominator.  Therefore, each object in MyFraction will have attributes called *num* and *den*\n",
    "\n",
    "A simple (and admittedly useless!) constructor looks like:"
   ]
  },
  {
   "cell_type": "code",
   "execution_count": 36,
   "metadata": {},
   "outputs": [],
   "source": [
    "class MyFraction():\n",
    "    \n",
    "    # The constructor\n",
    "    def __init__(self):\n",
    "        \n",
    "        # assign attributes\n",
    "        self.num = []\n",
    "        self.den = []"
   ]
  },
  {
   "cell_type": "markdown",
   "metadata": {},
   "source": [
    "Each object of type MyFraction will have attributes *num* and *den*, which are empty lists for now"
   ]
  },
  {
   "cell_type": "markdown",
   "metadata": {
    "slideshow": {
     "slide_type": "slide"
    }
   },
   "source": [
    "Having defined the constructor, we can now create an object of type MyFraction by running"
   ]
  },
  {
   "cell_type": "code",
   "execution_count": 37,
   "metadata": {},
   "outputs": [],
   "source": [
    "a = MyFraction()"
   ]
  },
  {
   "cell_type": "markdown",
   "metadata": {},
   "source": [
    "The attributes of *a* can be accessed by using dots (.)"
   ]
  },
  {
   "cell_type": "code",
   "execution_count": 39,
   "metadata": {},
   "outputs": [
    {
     "name": "stdout",
     "output_type": "stream",
     "text": [
      "[]\n",
      "[]\n"
     ]
    }
   ],
   "source": [
    "print(a.num)\n",
    "print(a.den)"
   ]
  },
  {
   "cell_type": "markdown",
   "metadata": {
    "slideshow": {
     "slide_type": "slide"
    }
   },
   "source": [
    "Let's take a closer look at the constructor function:\n",
    "```python\n",
    "def __init__(self):\n",
    "    self.num = []\n",
    "    self.den = []\n",
    "    ```\n",
    "**Question**: What happens behind the scenes when we run\n",
    "```python\n",
    "a = MyFraction()\n",
    "```\n",
    "**Answer**: The following steps occur:\n",
    "1. An object of type MyFunction, called *a*, is created\n",
    "2. The function `__init__` is called and *self* is assigned the value of *a*\n",
    "3. The attributes *num* and *den* are created and these become part of the new object *a*\n",
    "\n",
    "Therefore, the variable *self* is used as a reference for the object that is being created from the class (which can have almost any name)"
   ]
  },
  {
   "cell_type": "markdown",
   "metadata": {
    "slideshow": {
     "slide_type": "slide"
    }
   },
   "source": [
    "# Improving the constructor\n",
    "\n",
    "Now we'll change the constructor so that the attributes *num* and *den* are assigned values that are passed as arguments to the class when the object is created\n",
    "\n",
    "This will allow us to create the fraction $a = 1/2$ by calling \n",
    "```python\n",
    "a = MyFraction(1,2)\n",
    "```\n",
    "\n",
    "We can do this by adding arguments to the `__init__` function:"
   ]
  },
  {
   "cell_type": "code",
   "execution_count": 41,
   "metadata": {},
   "outputs": [
    {
     "name": "stdout",
     "output_type": "stream",
     "text": [
      "1\n",
      "2\n"
     ]
    }
   ],
   "source": [
    "class MyFraction():\n",
    "    # improved constructor\n",
    "    def __init__(self, num, den):\n",
    "        # assign attributes\n",
    "        self.num = num\n",
    "        self.den = den\n",
    "        \n",
    "a = MyFraction(1,2)\n",
    "print(a.num)\n",
    "print(a.den)"
   ]
  },
  {
   "cell_type": "markdown",
   "metadata": {
    "slideshow": {
     "slide_type": "slide"
    }
   },
   "source": [
    "# Adding functions to classes\n",
    "\n",
    "Now that we can create objects, we can add **methods** that operate on these objects\n",
    "\n",
    "Methods are simply functions that are defined in the class.  These are defined in the usual way, except the first argument **must** be self\n",
    "\n",
    "**Example**: Add a function to compute the floating point value of a fraction."
   ]
  },
  {
   "cell_type": "code",
   "execution_count": 52,
   "metadata": {
    "slideshow": {
     "slide_type": "slide"
    }
   },
   "outputs": [
    {
     "data": {
      "text/plain": [
       "0.5"
      ]
     },
     "execution_count": 52,
     "metadata": {},
     "output_type": "execute_result"
    }
   ],
   "source": [
    "class MyFraction():\n",
    "    # constructor\n",
    "    def __init__(self, num, den):\n",
    "        # assign attributes\n",
    "        self.num = num\n",
    "        self.den = den\n",
    "        \n",
    "    # compute floating point value\n",
    "    def floating_point(self):\n",
    "        return self.num / self.den\n",
    "    \n",
    "\n",
    "a = MyFraction(1,2)\n",
    "a.floating_point()"
   ]
  },
  {
   "cell_type": "markdown",
   "metadata": {},
   "source": [
    "***\n",
    "Notice that when calling `floating_point`, we do not pass any arguments.  However, the function definition expects one argument (*self*).  What is happening here?\n",
    "\n",
    "The object preceeding the dot (.) is automatically passed as the first argument of the method\n",
    "\n",
    "The attributes of the object can be accessed in functions using the dot (.)"
   ]
  },
  {
   "cell_type": "markdown",
   "metadata": {
    "slideshow": {
     "slide_type": "slide"
    }
   },
   "source": [
    "# Simplifying fractions\n",
    "\n",
    "Now we'll write a function called `simplify` that automatically reduces a fraction to its simplest form\n",
    "\n",
    "**Example** The fraction $a = 2/4$ will be reduced to $a = 1/2$.\n",
    "\n",
    "To do this, we'll import the math module, which has a function to compute the greatest common divisor (gcd) of two integers\n",
    "\n",
    "In addition, to automate the simplification, we'll call `simplify` from within the constructor"
   ]
  },
  {
   "cell_type": "code",
   "execution_count": 56,
   "metadata": {
    "slideshow": {
     "slide_type": "slide"
    }
   },
   "outputs": [
    {
     "name": "stdout",
     "output_type": "stream",
     "text": [
      "1\n",
      "2\n"
     ]
    }
   ],
   "source": [
    "import math\n",
    "\n",
    "class MyFraction():\n",
    "    # constructor\n",
    "    def __init__(self, num, den):\n",
    "        # assign attributes\n",
    "        self.num = num\n",
    "        self.den = den\n",
    "        self.simplify()\n",
    "        \n",
    "    # compute floating point value\n",
    "    def floating_point(self):\n",
    "        return self.num / self.den\n",
    "    \n",
    "    # simplify the fraction\n",
    "    def simplify(self):\n",
    "        gcd = math.gcd(self.num, self.den)\n",
    "        self.num = int(self.num / gcd)\n",
    "        self.den = int(self.den / gcd)\n",
    "\n",
    "a = MyFraction(2,4)\n",
    "print(a.num)\n",
    "print(a.den)"
   ]
  },
  {
   "cell_type": "markdown",
   "metadata": {
    "slideshow": {
     "slide_type": "slide"
    }
   },
   "source": [
    "# Printing the fraction nicely - a clunky way\n",
    "\n",
    "Now we'll add a function to print the fraction in a way that is ready to read, e.g.\n",
    "$$\n",
    "\\frac{1}{2}\n",
    "$$\n",
    "\n",
    "The clunky way to do this is by adding a function called `nice_print` to the class"
   ]
  },
  {
   "cell_type": "code",
   "execution_count": 58,
   "metadata": {
    "slideshow": {
     "slide_type": "slide"
    }
   },
   "outputs": [
    {
     "name": "stdout",
     "output_type": "stream",
     "text": [
      " 1\n",
      "---\n",
      " 2\n"
     ]
    }
   ],
   "source": [
    "class MyFraction():\n",
    "    # constructor\n",
    "    def __init__(self, num, den):\n",
    "        # assign attributes\n",
    "        self.num = num\n",
    "        self.den = den\n",
    "        self.simplify()\n",
    "        \n",
    "    # compute floating point value\n",
    "    def floating_point(self):\n",
    "        return self.num / self.den\n",
    "    \n",
    "    # simplify the fraction\n",
    "    def simplify(self):\n",
    "        gcd = math.gcd(self.num, self.den)\n",
    "        self.num = int(self.num / gcd)\n",
    "        self.den = int(self.den / gcd)\n",
    "    \n",
    "    # print the fraction in a nice way\n",
    "    def nice_print(self):\n",
    "        print(' ' + str(self.num) + '\\n---\\n' + ' ' + str(self.den))\n",
    "              \n",
    "a = MyFraction(2,4)\n",
    "a.nice_print()"
   ]
  },
  {
   "cell_type": "markdown",
   "metadata": {
    "slideshow": {
     "slide_type": "slide"
    }
   },
   "source": [
    "# Printing the fraction nicely - the elegant way\n",
    "\n",
    "Given that Python already has a print function, wouldn't it be nice if we could use this to print the fraction?\n",
    "\n",
    "**Problem**: If we try to do this now, then it doesn't work correctly:"
   ]
  },
  {
   "cell_type": "code",
   "execution_count": 63,
   "metadata": {},
   "outputs": [
    {
     "name": "stdout",
     "output_type": "stream",
     "text": [
      "<__main__.MyFraction object at 0x7f3d76500340>\n"
     ]
    }
   ],
   "source": [
    "a = MyFraction(2,4)\n",
    "print(a)"
   ]
  },
  {
   "cell_type": "markdown",
   "metadata": {},
   "source": [
    "The reason is because the `print` function expects a string, not a MyFraction object.  Using `str(a)` to convert *a* into a string doesn't work either\n",
    "\n",
    "**Solution**: We can overwrite (or **overload**) built-in Python functions so they can be applied to objects from user-defined classes\n",
    "\n",
    "This is done using double underscores (\\_)\n",
    "\n",
    "In this example, we can overload the `str` function"
   ]
  },
  {
   "cell_type": "code",
   "execution_count": 66,
   "metadata": {
    "slideshow": {
     "slide_type": "slide"
    }
   },
   "outputs": [
    {
     "name": "stdout",
     "output_type": "stream",
     "text": [
      " 1\n",
      "---\n",
      " 2\n"
     ]
    }
   ],
   "source": [
    "class MyFraction():\n",
    "    # constructor\n",
    "    def __init__(self, num, den):\n",
    "        # assign attributes\n",
    "        self.num = num\n",
    "        self.den = den\n",
    "        self.simplify()\n",
    "        \n",
    "    # compute floating point value\n",
    "    def floating_point(self):\n",
    "        return self.num / self.den\n",
    "    \n",
    "    # simplify the fraction\n",
    "    def simplify(self):\n",
    "        gcd = math.gcd(self.num, self.den)\n",
    "        self.num = int(self.num / gcd)\n",
    "        self.den = int(self.den / gcd)\n",
    "        \n",
    "    # overloading Python's str function.\n",
    "    def __str__(self):\n",
    "        return ' ' + str(self.num) + '\\n---\\n' + ' ' + str(self.den)\n",
    "              \n",
    "a = MyFraction(2,4)\n",
    "print(a)"
   ]
  },
  {
   "cell_type": "markdown",
   "metadata": {
    "slideshow": {
     "slide_type": "slide"
    }
   },
   "source": [
    "# Operator overloading\n",
    "\n",
    "We can also overload operators such as + and \\* so they can be applied to objects\n",
    "\n",
    "**Example**: Overload the multiplication operator \\* so that we can multiply two fractions as a \\* b, e.g.\n",
    "$$\n",
    "\\frac{1}{2} * \\frac{4}{5} = \\frac{4}{10} = \\frac{2}{5}\n",
    "$$\n",
    "\n",
    "The * operator is overloaded by defining a function `__mul__` in the class\n",
    "\n",
    "However, multiplication is a binary operator, requiring two arguments (e.g. $a * b$)\n",
    "* The first argument will be *self*, corresponding to $a$\n",
    "* The second argument will be *other*, corresponding to $b$\n",
    "\n",
    "We must also ensure that this function returns an object of type MyFunction"
   ]
  },
  {
   "cell_type": "code",
   "execution_count": 68,
   "metadata": {
    "slideshow": {
     "slide_type": "slide"
    }
   },
   "outputs": [
    {
     "name": "stdout",
     "output_type": "stream",
     "text": [
      " 2\n",
      "---\n",
      " 5\n"
     ]
    }
   ],
   "source": [
    "class MyFraction():\n",
    "    # constructor\n",
    "    def __init__(self, num, den):\n",
    "        # assign attributes\n",
    "        self.num = num\n",
    "        self.den = den\n",
    "        self.simplify()\n",
    "    \n",
    "    # simplify the fraction\n",
    "    def simplify(self):\n",
    "        gcd = math.gcd(self.num, self.den)\n",
    "        self.num = int(self.num / gcd)\n",
    "        self.den = int(self.den / gcd)\n",
    "        \n",
    "    # overloading Python's str function.\n",
    "    def __str__(self):\n",
    "        return ' ' + str(self.num) + '\\n---\\n' + ' ' + str(self.den)\n",
    "    \n",
    "    # overloading the + operator\n",
    "    def __mul__(self, other):\n",
    "        # compute the num and den of the product\n",
    "        num_product = self.num * other.num\n",
    "        den_product = self.den * other.den\n",
    "        \n",
    "        # return a MyFraction object\n",
    "        return MyFraction(num_product, den_product)\n",
    "              \n",
    "a = MyFraction(1,2)\n",
    "b = MyFraction(4,5)\n",
    "print(a*b)"
   ]
  },
  {
   "cell_type": "markdown",
   "metadata": {
    "slideshow": {
     "slide_type": "slide"
    }
   },
   "source": [
    "# Overloadable operators\n",
    "\n",
    "Many operators in Python can be overloaded.  Here's a list of some common operators and the corresponding function that must be defined in a class\n",
    "\n",
    "| Operator | Function name |\n",
    "| :-: | :-: |\n",
    "| + | `__add__` |\n",
    "| - | `__sub__` |\n",
    "| * | `__mul__` |\n",
    "| / | `__truediv__`|\n",
    "| // | `__floordiv__`|\n",
    "| % | `__mod__`|\n",
    "| ** | `__pow__`|"
   ]
  },
  {
   "cell_type": "markdown",
   "metadata": {
    "slideshow": {
     "slide_type": "slide"
    }
   },
   "source": [
    "# Summary\n",
    "\n",
    "* **Classes** are data structures that contain data and functions\n",
    "* **Objects** are specific instances in a class\n",
    "* **Attributes** are variables that belong to an object\n",
    "* **Methods** are functions that belong to an object\n",
    "* **Overloading** allows built-in functions and operators to be re-defined so they can be applied to new types of objects"
   ]
  }
 ],
 "metadata": {
  "celltoolbar": "Slideshow",
  "kernelspec": {
   "display_name": "Python 3",
   "language": "python",
   "name": "python3"
  },
  "language_info": {
   "codemirror_mode": {
    "name": "ipython",
    "version": 3
   },
   "file_extension": ".py",
   "mimetype": "text/x-python",
   "name": "python",
   "nbconvert_exporter": "python",
   "pygments_lexer": "ipython3",
   "version": "3.7.4"
  }
 },
 "nbformat": 4,
 "nbformat_minor": 4
}
