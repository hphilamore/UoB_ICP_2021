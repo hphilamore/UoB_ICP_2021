{
 "cells": [
  {
   "cell_type": "markdown",
   "id": "9ee89631",
   "metadata": {
    "slideshow": {
     "slide_type": "slide"
    }
   },
   "source": [
    "# Introduction to Computer Programming\n",
    "\n",
    "## 1.3 Operators\n",
    "\n",
    "<img src=\"img/full-colour-logo-UoB.png\" alt=\"Drawing\" style=\"width: 300px;\"/>"
   ]
  },
  {
   "cell_type": "markdown",
   "id": "76395da2",
   "metadata": {
    "slideshow": {
     "slide_type": "slide"
    }
   },
   "source": [
    "# In-class Demos"
   ]
  },
  {
   "cell_type": "markdown",
   "id": "44609533",
   "metadata": {
    "slideshow": {
     "slide_type": "slide"
    }
   },
   "source": [
    "__Example 1:__ <br>Write a program that:\n",
    "1. creates 3 variables, `A`, `B` and `C`, with numerical values\n",
    "2. outputs a statement that tells the user if the values include *any* negative numbers. "
   ]
  },
  {
   "cell_type": "code",
   "execution_count": 12,
   "id": "5e890ba8",
   "metadata": {
    "slideshow": {
     "slide_type": "slide"
    }
   },
   "outputs": [
    {
     "name": "stdout",
     "output_type": "stream",
     "text": [
      "any negatives? False\n"
     ]
    }
   ],
   "source": [
    "A, B, C = 1, 1, 2\n",
    "\n",
    "answer = A < 0 or B < 0 or C < 0\n",
    "\n",
    "print('any negatives?', answer)\n"
   ]
  },
  {
   "cell_type": "markdown",
   "id": "ffb448f9",
   "metadata": {
    "slideshow": {
     "slide_type": "slide"
    }
   },
   "source": [
    "__Example 2:__ <br> Write a program that answers *two* questions based on the current time of day:"
   ]
  },
  {
   "cell_type": "markdown",
   "id": "25eb9991",
   "metadata": {},
   "source": [
    ">__Is it lunchtime?__\n",
    "<br>`True` if time between lunch start and end times.\n",
    "<br>`False` if not.\n",
    "\n",
    ">__Is it time for work?__\n",
    "<br>`True` if time between work start and end times __and not__ lunchtime.\n",
    "<br>`False` if not."
   ]
  },
  {
   "cell_type": "code",
   "execution_count": 14,
   "id": "4c9678eb",
   "metadata": {
    "slideshow": {
     "slide_type": "slide"
    }
   },
   "outputs": [
    {
     "name": "stdout",
     "output_type": "stream",
     "text": [
      "work time? False\n",
      "lunchtime? True\n"
     ]
    }
   ],
   "source": [
    "t = 13.45 # current time \n",
    "Ls = 13.00\n",
    "Le = 14.00\n",
    "Ws = 8.00\n",
    "We = 17.00\n",
    "\n",
    "lunchtime = Ls <= t < Le\n",
    "\n",
    "# work_time = Ws <= t < We and not lunchtime \n",
    "work_time = not (t<Ws or t>=We or lunchtime)\n",
    "\n",
    "print('work time?', work_time)\n",
    "\n",
    "print('lunchtime?', lunchtime)\n"
   ]
  }
 ],
 "metadata": {
  "celltoolbar": "Slideshow",
  "kernelspec": {
   "display_name": "Python 3",
   "language": "python",
   "name": "python3"
  },
  "language_info": {
   "codemirror_mode": {
    "name": "ipython",
    "version": 3
   },
   "file_extension": ".py",
   "mimetype": "text/x-python",
   "name": "python",
   "nbconvert_exporter": "python",
   "pygments_lexer": "ipython3",
   "version": "3.8.8"
  }
 },
 "nbformat": 4,
 "nbformat_minor": 5
}
