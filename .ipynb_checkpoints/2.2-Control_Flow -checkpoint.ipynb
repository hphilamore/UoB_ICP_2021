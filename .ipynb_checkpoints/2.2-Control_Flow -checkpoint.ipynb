{
 "cells": [
  {
   "cell_type": "markdown",
   "id": "5bffc556",
   "metadata": {
    "slideshow": {
     "slide_type": "slide"
    }
   },
   "source": [
    "# Introduction to Computer Programming\n",
    "\n",
    "## 2.2 Control Flow\n",
    "\n",
    "<img src=\"img/full-colour-logo-UoB.png\" alt=\"Drawing\" style=\"width: 300px;\"/>"
   ]
  },
  {
   "cell_type": "markdown",
   "id": "47e88d5c",
   "metadata": {},
   "source": [
    "# Input\n",
    "\n",
    "`input`: accepts typed input from the user and stores this as string data. \n",
    "\n",
    "The function argument is a string, which is the prompt displayed to the user. "
   ]
  },
  {
   "cell_type": "code",
   "execution_count": 21,
   "id": "3bc47454",
   "metadata": {
    "scrolled": true
   },
   "outputs": [
    {
     "name": "stdout",
     "output_type": "stream",
     "text": [
      "Enter your name: \n",
      " My name is \n"
     ]
    }
   ],
   "source": [
    "name = input(\"Enter your name: \") # type response when prompted and press enter \n",
    "print(f' My name is {name}')"
   ]
  },
  {
   "cell_type": "markdown",
   "id": "8ef9d2c2",
   "metadata": {},
   "source": [
    "This is a quick and easy way to add dynamic input to your program.\n",
    "\n",
    "### Input - a word of warning! \n",
    "The input by the user is stored as a string. \n",
    "<br>Numbers entered will behave as text data unless converted to a numerical data type."
   ]
  },
  {
   "cell_type": "code",
   "execution_count": 22,
   "id": "c8a278a8",
   "metadata": {},
   "outputs": [
    {
     "name": "stdout",
     "output_type": "stream",
     "text": [
      "Enter a number \n",
      "Enter another number \n",
      "\n"
     ]
    },
    {
     "ename": "ValueError",
     "evalue": "invalid literal for int() with base 10: ''",
     "output_type": "error",
     "traceback": [
      "\u001b[1;31m---------------------------------------------------------------------------\u001b[0m",
      "\u001b[1;31mValueError\u001b[0m                                Traceback (most recent call last)",
      "\u001b[1;32m<ipython-input-22-23fd8189f69c>\u001b[0m in \u001b[0;36m<module>\u001b[1;34m\u001b[0m\n\u001b[0;32m      4\u001b[0m \u001b[0mprint\u001b[0m\u001b[1;33m(\u001b[0m\u001b[0mA\u001b[0m \u001b[1;33m+\u001b[0m \u001b[0mB\u001b[0m\u001b[1;33m)\u001b[0m\u001b[1;33m\u001b[0m\u001b[1;33m\u001b[0m\u001b[0m\n\u001b[0;32m      5\u001b[0m \u001b[1;33m\u001b[0m\u001b[0m\n\u001b[1;32m----> 6\u001b[1;33m \u001b[0mprint\u001b[0m\u001b[1;33m(\u001b[0m\u001b[0mint\u001b[0m\u001b[1;33m(\u001b[0m\u001b[0mA\u001b[0m\u001b[1;33m)\u001b[0m \u001b[1;33m+\u001b[0m \u001b[0mint\u001b[0m\u001b[1;33m(\u001b[0m\u001b[0mB\u001b[0m\u001b[1;33m)\u001b[0m\u001b[1;33m)\u001b[0m\u001b[1;33m\u001b[0m\u001b[1;33m\u001b[0m\u001b[0m\n\u001b[0m",
      "\u001b[1;31mValueError\u001b[0m: invalid literal for int() with base 10: ''"
     ]
    }
   ],
   "source": [
    "A = input(\"Enter a number \")\n",
    "B = input(\"Enter another number \")\n",
    "\n",
    "print(A + B)\n",
    "\n",
    "print(int(A) + int(B))"
   ]
  },
  {
   "cell_type": "markdown",
   "id": "d10d5b71",
   "metadata": {},
   "source": [
    "__Example:__ Write a program that requests the time from the user and tells them to eat lunch if it is lunchtime. "
   ]
  },
  {
   "cell_type": "code",
   "execution_count": 23,
   "id": "372589eb",
   "metadata": {},
   "outputs": [
    {
     "name": "stdout",
     "output_type": "stream",
     "text": [
      "enter the time (24 hour clock) in format hh.mm : \n"
     ]
    },
    {
     "ename": "ValueError",
     "evalue": "could not convert string to float: ''",
     "output_type": "error",
     "traceback": [
      "\u001b[1;31m---------------------------------------------------------------------------\u001b[0m",
      "\u001b[1;31mValueError\u001b[0m                                Traceback (most recent call last)",
      "\u001b[1;32m<ipython-input-23-7bf084d0cd6c>\u001b[0m in \u001b[0;36m<module>\u001b[1;34m\u001b[0m\n\u001b[0;32m      1\u001b[0m \u001b[0mtime\u001b[0m \u001b[1;33m=\u001b[0m \u001b[0minput\u001b[0m\u001b[1;33m(\u001b[0m\u001b[1;34m'enter the time (24 hour clock) in format hh.mm : '\u001b[0m\u001b[1;33m)\u001b[0m\u001b[1;33m\u001b[0m\u001b[1;33m\u001b[0m\u001b[0m\n\u001b[1;32m----> 2\u001b[1;33m \u001b[0mtime\u001b[0m \u001b[1;33m=\u001b[0m \u001b[0mfloat\u001b[0m\u001b[1;33m(\u001b[0m\u001b[0mtime\u001b[0m\u001b[1;33m)\u001b[0m    \u001b[1;31m# string converted to float\u001b[0m\u001b[1;33m\u001b[0m\u001b[1;33m\u001b[0m\u001b[0m\n\u001b[0m\u001b[0;32m      3\u001b[0m \u001b[1;33m\u001b[0m\u001b[0m\n\u001b[0;32m      4\u001b[0m \u001b[0mlunch_starts\u001b[0m \u001b[1;33m=\u001b[0m \u001b[1;36m13.00\u001b[0m  \u001b[1;31m# time lunch starts\u001b[0m\u001b[1;33m\u001b[0m\u001b[1;33m\u001b[0m\u001b[0m\n\u001b[0;32m      5\u001b[0m \u001b[0mlunch_ends\u001b[0m \u001b[1;33m=\u001b[0m   \u001b[1;36m14.00\u001b[0m  \u001b[1;31m# time lunch ends\u001b[0m\u001b[1;33m\u001b[0m\u001b[1;33m\u001b[0m\u001b[0m\n",
      "\u001b[1;31mValueError\u001b[0m: could not convert string to float: ''"
     ]
    }
   ],
   "source": [
    "time = input('enter the time (24 hour clock) in format hh.mm : ') \n",
    "time = float(time)    # string converted to float\n",
    "\n",
    "lunch_starts = 13.00  # time lunch starts\n",
    "lunch_ends =   14.00  # time lunch ends\n",
    "\n",
    "lunchtime = time >= lunch_starts and time < lunch_ends\n",
    "\n",
    "if lunchtime:\n",
    "    print(\"Eat lunch\")"
   ]
  },
  {
   "cell_type": "markdown",
   "id": "84cdbf14",
   "metadata": {},
   "source": [
    "`split` : splits a string into a list. "
   ]
  },
  {
   "cell_type": "code",
   "execution_count": 24,
   "id": "20e627d2",
   "metadata": {},
   "outputs": [
    {
     "name": "stdout",
     "output_type": "stream",
     "text": [
      "Enter two numbers \n",
      "\n",
      "[]\n"
     ]
    }
   ],
   "source": [
    "A = input(\"Enter two numbers \")\n",
    "print(A)\n",
    "\n",
    "B = A.split()\n",
    "print(B)"
   ]
  },
  {
   "cell_type": "markdown",
   "id": "e70ff039",
   "metadata": {},
   "source": [
    "# Nested control statements\n",
    "Control statements can be nested to execute more complex decision making in a program. \n",
    "\n",
    "__Example:__ Translate the flow diagram into a programme"
   ]
  },
  {
   "cell_type": "code",
   "execution_count": 27,
   "id": "b35d791f",
   "metadata": {
    "scrolled": true
   },
   "outputs": [
    {
     "name": "stdout",
     "output_type": "stream",
     "text": [
      "enter a number401\n",
      "N > 100 and odd\n"
     ]
    }
   ],
   "source": [
    "number = int(input('enter a number')) # convert input number to integer\n",
    "\n",
    "if number > 100:\n",
    "    print('N > 100', end='')\n",
    "    \n",
    "    if number % 2 == 0:\n",
    "        print(' and even')\n",
    "        \n",
    "    else:\n",
    "        print(' and odd')\n",
    "        \n",
    "else:\n",
    "    print('N <= 100')\n",
    "    \n"
   ]
  },
  {
   "cell_type": "code",
   "execution_count": null,
   "id": "cd62dfc2",
   "metadata": {},
   "outputs": [],
   "source": []
  }
 ],
 "metadata": {
  "kernelspec": {
   "display_name": "Python 3",
   "language": "python",
   "name": "python3"
  },
  "language_info": {
   "codemirror_mode": {
    "name": "ipython",
    "version": 3
   },
   "file_extension": ".py",
   "mimetype": "text/x-python",
   "name": "python",
   "nbconvert_exporter": "python",
   "pygments_lexer": "ipython3",
   "version": "3.8.8"
  }
 },
 "nbformat": 4,
 "nbformat_minor": 5
}
