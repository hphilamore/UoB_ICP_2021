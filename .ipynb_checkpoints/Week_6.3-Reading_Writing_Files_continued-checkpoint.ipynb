{
 "cells": [
  {
   "cell_type": "markdown",
   "id": "6b8fc1cc",
   "metadata": {},
   "source": [
    "# Introduction to Computer Programming\n",
    "\n",
    "## Week 6.3: Reading & Writing Files, Continued\n",
    "\n",
    "* * *\n",
    "\n",
    "<img src=\"img/full-colour-logo-UoB.png\" alt=\"Bristol\" style=\"width: 300px;\"/>"
   ]
  },
  {
   "cell_type": "markdown",
   "id": "123767c1",
   "metadata": {},
   "source": [
    "TODO : \n",
    "Other file locations \n",
    "\n",
    "\n",
    "\n",
    "\n",
    "Other file types\n",
    "\n",
    "csv\n",
    "\n",
    "https://www.pluralsight.com/guides/importing-data-from-tab-delimited-files-with-python\n",
    "\n",
    "https://www.pythontutorial.net/python-basics/python-write-csv-file/\n",
    "\n",
    "\n",
    "\n",
    "reading in multiple files\n",
    "\n",
    "https://automatetheboringstuff.com/chapter8/\n",
    "\n",
    "https://automatetheboringstuff.com/chapter9/"
   ]
  },
  {
   "cell_type": "markdown",
   "id": "7a4eea03",
   "metadata": {},
   "source": [
    "# Reading/writing files in other directories\n",
    "### Downstream\n"
   ]
  },
  {
   "cell_type": "code",
   "execution_count": null,
   "id": "b86c3d6f",
   "metadata": {},
   "outputs": [],
   "source": []
  },
  {
   "cell_type": "markdown",
   "id": "7c69c306",
   "metadata": {},
   "source": [
    "### Upstream"
   ]
  },
  {
   "cell_type": "code",
   "execution_count": null,
   "id": "9f6843b8",
   "metadata": {},
   "outputs": [],
   "source": []
  }
 ],
 "metadata": {
  "kernelspec": {
   "display_name": "Python 3",
   "language": "python",
   "name": "python3"
  },
  "language_info": {
   "codemirror_mode": {
    "name": "ipython",
    "version": 3
   },
   "file_extension": ".py",
   "mimetype": "text/x-python",
   "name": "python",
   "nbconvert_exporter": "python",
   "pygments_lexer": "ipython3",
   "version": "3.8.8"
  }
 },
 "nbformat": 4,
 "nbformat_minor": 5
}
