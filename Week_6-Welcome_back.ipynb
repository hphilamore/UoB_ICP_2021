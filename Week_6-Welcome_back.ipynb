{
 "cells": [
  {
   "cell_type": "markdown",
   "metadata": {
    "slideshow": {
     "slide_type": "slide"
    }
   },
   "source": [
    "# Introduction to Computer Programming\n",
    "\n",
    "## Welcome Back!\n",
    "\n",
    "* * *\n",
    "\n",
    "<img src=\"img/full-colour-logo-UoB.png\" alt=\"Bristol\" style=\"width: 300px;\"/>"
   ]
  },
  {
   "cell_type": "markdown",
   "metadata": {
    "slideshow": {
     "slide_type": "slide"
    }
   },
   "source": [
    "Second half of the term: \n",
    "<br>Building on the syntax fundamentals we studied in the first 5 weeks  \n",
    "\n",
    "- writing and using libraries of python code\n",
    "- learning useful libraries for engineering and maths\n",
    "- preparing for the assignment "
   ]
  },
  {
   "cell_type": "markdown",
   "metadata": {
    "slideshow": {
     "slide_type": "slide"
    }
   },
   "source": [
    "# Student survey \n",
    "- thank you! \n",
    "- pace\n",
    "- interactive in class demos (open Spyder now!) \n",
    "- half term quiz to check your progress\n",
    "- use the links to extra questions on blackboard "
   ]
  },
  {
   "cell_type": "markdown",
   "metadata": {
    "slideshow": {
     "slide_type": "slide"
    }
   },
   "source": [
    "# Quiz\n",
    "https://forms.office.com/Pages/ResponsePage.aspx?id=MH_ksn3NTkql2rGM8aQVG_PiUNuyF8BMtxn7YlTT6d9UREhMODRZWVdLT0ZCQ1ZDQVMzUlYyTkdBQy4u\n",
    "\n",
    "Please complete within 1 week (before next week's class) \n",
    "\n",
    "Link on Blackboard page"
   ]
  }
 ],
 "metadata": {
  "celltoolbar": "Slideshow",
  "kernelspec": {
   "display_name": "Python 3",
   "language": "python",
   "name": "python3"
  },
  "language_info": {
   "codemirror_mode": {
    "name": "ipython",
    "version": 3
   },
   "file_extension": ".py",
   "mimetype": "text/x-python",
   "name": "python",
   "nbconvert_exporter": "python",
   "pygments_lexer": "ipython3",
   "version": "3.8.3"
  }
 },
 "nbformat": 4,
 "nbformat_minor": 4
}
