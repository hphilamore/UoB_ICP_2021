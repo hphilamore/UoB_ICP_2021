{
 "cells": [
  {
   "cell_type": "markdown",
   "metadata": {
    "slideshow": {
     "slide_type": "slide"
    }
   },
   "source": [
    "# Introduction to Computer Programming\n",
    "\n",
    "## Week 7.2: Modules for reading & writing files\n",
    "\n",
    "* * *\n",
    "\n",
    "<img src=\"img/full-colour-logo-UoB.png\" alt=\"Bristol\" style=\"width: 300px;\"/>"
   ]
  },
  {
   "cell_type": "markdown",
   "metadata": {},
   "source": [
    "# Writing csv files"
   ]
  },
  {
   "cell_type": "markdown",
   "metadata": {
    "slideshow": {
     "slide_type": "slide"
    }
   },
   "source": [
    "__Example:__ Use the `csv` module to write the header and first row of the high score table shown to a csv file.\n",
    "\n",
    "| Place | Name | Score | \n",
    "| :-: | :-: | :-: |  \n",
    "| 1 | Elena | 550 | \n",
    "| 2 | Sajid | 480 | \n",
    "| 3 | Tom | 380 | \n",
    "| 4 | Farhad | 305 | \n",
    "| 5 | Manesha | 150 |\n"
   ]
  },
  {
   "cell_type": "code",
   "execution_count": 4,
   "metadata": {},
   "outputs": [],
   "source": [
    "import csv\n",
    "\n",
    "with open('sample_data/scores.csv', 'w') as f:    # open file in write mode\n",
    "\n",
    "    writer = csv.writer(f)                        # writer object\n",
    "\n",
    "    writer.writerow(['place', 'name', 'score'])   # list to row \n",
    "\n",
    "    writer.writerow([1,'Elena', 550]) \n",
    "\n",
    "\n",
    "    "
   ]
  },
  {
   "cell_type": "markdown",
   "metadata": {
    "slideshow": {
     "slide_type": "slide"
    }
   },
   "source": [
    "__Example:__ Write the high score table data to a csv file\n",
    "\n",
    "`writerows` can be used to write a data struct"
   ]
  },
  {
   "cell_type": "code",
   "execution_count": 2,
   "metadata": {},
   "outputs": [],
   "source": [
    "header = ['place', 'name', 'score']\n",
    "\n",
    "# data is list of lists\n",
    "data = [[1, 'Elena', 550],   \n",
    "        [2, 'Sajid', 480],\n",
    "        [3, 'Tom', 380],\n",
    "        [4, 'Farhad', 305],\n",
    "        [5, 'Manesha', 150]    \n",
    "       ]"
   ]
  },
  {
   "cell_type": "code",
   "execution_count": 3,
   "metadata": {},
   "outputs": [],
   "source": [
    "import csv\n",
    "\n",
    "with open('sample_data/scores_.csv', 'w', newline='') as f: # no gap between each line\n",
    "\n",
    "    writer = csv.writer(f) \n",
    "\n",
    "    writer.writerow(header) # write single row\n",
    "    \n",
    "    writer.writerows(data)  # write multiple rows\n"
   ]
  },
  {
   "cell_type": "markdown",
   "metadata": {},
   "source": [
    "# Writing csv files"
   ]
  },
  {
   "cell_type": "markdown",
   "metadata": {},
   "source": [
    "__Example:__ Read the file scores.txt and print the third line."
   ]
  },
  {
   "cell_type": "code",
   "execution_count": 4,
   "metadata": {},
   "outputs": [
    {
     "name": "stdout",
     "output_type": "stream",
     "text": [
      "['Sid', '50']\n",
      "['Jo', '20']\n",
      "['Tim', '50']\n",
      "['Majid', '500']\n",
      "['Ben', '50']\n",
      "['Ola', '500']\n",
      "third line:  ['Tim', '50']\n"
     ]
    }
   ],
   "source": [
    "import csv\n",
    "\n",
    "with open('sample_data/scores.txt') as f:\n",
    "\n",
    "    reader = csv.reader(f, delimiter=' ') # delimiter must be specified if not default value ',' \n",
    "\n",
    "    reader = list(reader)                 # convert to list\n",
    "\n",
    "    for line in reader:                   # iterable\n",
    "        print(line)\n",
    "\n",
    "    print('third line: ', reader[2])      # subscriptable \n",
    "    "
   ]
  },
  {
   "cell_type": "markdown",
   "metadata": {
    "slideshow": {
     "slide_type": "slide"
    }
   },
   "source": [
    "# Reading and writing csv files\n",
    "\n",
    "The same mode specifiers are used as for .txt files.\n",
    "\n",
    "A `reader` *and* `writer` object are created."
   ]
  },
  {
   "cell_type": "markdown",
   "metadata": {},
   "source": [
    "__Example:__ Print the data in the file sample\\_data/scores.csv and add a new entry. "
   ]
  },
  {
   "cell_type": "code",
   "execution_count": 6,
   "metadata": {},
   "outputs": [
    {
     "name": "stdout",
     "output_type": "stream",
     "text": [
      "['place', 'name', 'score']\n",
      "['1', 'Elena', '550']\n",
      "['2', 'Sajid', '480']\n",
      "['3', 'Tom', '380']\n",
      "['4', 'Farhad', '305']\n",
      "['5', 'Manesha', '150']\n",
      "['place', 'name', 'score']\n",
      "['1', 'Elena', '550']\n",
      "['2', 'Sajid', '480']\n",
      "['3', 'Tom', '380']\n",
      "['4', 'Farhad', '305']\n",
      "['5', 'Manesha', '150']\n",
      "['6', 'Lois', '70']\n"
     ]
    }
   ],
   "source": [
    "with open('sample_data/scores_.csv', 'r+',  newline='') as f:\n",
    "    reader = csv.reader(f)  # do not convert to list \n",
    "    writer = csv.writer(f)\n",
    "    \n",
    "    for line in reader:\n",
    "        print(line)\n",
    "        \n",
    "    # position is at end of file\n",
    "        \n",
    "    writer.writerow([6, 'Lois', 70])\n",
    "    \n",
    "    f.seek(0)\n",
    "    \n",
    "    for line in reader:\n",
    "        print(line)"
   ]
  }
 ],
 "metadata": {
  "celltoolbar": "Slideshow",
  "kernelspec": {
   "display_name": "Python 3",
   "language": "python",
   "name": "python3"
  },
  "language_info": {
   "codemirror_mode": {
    "name": "ipython",
    "version": 3
   },
   "file_extension": ".py",
   "mimetype": "text/x-python",
   "name": "python",
   "nbconvert_exporter": "python",
   "pygments_lexer": "ipython3",
   "version": "3.8.3"
  }
 },
 "nbformat": 4,
 "nbformat_minor": 5
}
