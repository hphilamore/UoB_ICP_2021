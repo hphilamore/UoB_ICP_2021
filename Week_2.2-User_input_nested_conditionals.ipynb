{
 "cells": [
  {
   "cell_type": "markdown",
   "metadata": {
    "slideshow": {
     "slide_type": "slide"
    }
   },
   "source": [
    "# Introduction to Computer Programming\n",
    "\n",
    "## 2.2 User input & nested conditionals\n",
    "\n",
    "<img src=\"img/full-colour-logo-UoB.png\" alt=\"Drawing\" style=\"width: 300px;\"/>"
   ]
  },
  {
   "cell_type": "markdown",
   "metadata": {
    "slideshow": {
     "slide_type": "slide"
    }
   },
   "source": [
    "# `input`\n",
    "\n",
    "Accepts typed input from the user.\n",
    "\n",
    "Outputs the typed input as string data. \n",
    "\n",
    "The function argument is a string, which is the prompt displayed to the user. "
   ]
  },
  {
   "cell_type": "code",

   "execution_count": 4,


   "metadata": {
    "scrolled": true
   },
   "outputs": [
    {
     "name": "stdout",
     "output_type": "stream",
     "text": [
      "Enter your name: Ercan \n",
      "My name is Ercan \n"
     ]
    }
   ],
   "source": [
    "name = input(\"Enter your name: \") # type response when prompted and press enter\n",
    "\n",
    "print('My name is', name)"
   ]
  },
  {
   "cell_type": "markdown",
   "metadata": {
    "slideshow": {
     "slide_type": "slide"
    }
   },
   "source": [
    "This is a quick and easy way to add dynamic input to your program."
   ]
  },
  {
   "cell_type": "markdown",
   "metadata": {
    "slideshow": {
     "slide_type": "slide"
    }
   },
   "source": [
    "### Input - a word of warning! \n",
    "The input by the user is stored as a string. \n",
    "<br>Numbers entered will behave as text data unless converted to a numerical data type.\n",
    "<br> Example: `+` will join string data"
   ]
  },
  {
   "cell_type": "code",
<<<<<<< HEAD
   "execution_count": 3,
=======
   "execution_count": 7,
   "id": "6e663176",
>>>>>>> refs/remotes/origin/main
   "metadata": {},
   "outputs": [
    {
     "name": "stdout",
     "output_type": "stream",
     "text": [
      "Enter a number 2\n",
      "Enter another number 3\n",
      "23\n",
      "5\n"
     ]
    }
   ],
   "source": [
    "A = input(\"Enter a number \")\n",
    "B = input(\"Enter another number \")\n",
    "\n",
    "print(A + B)\n",
    "\n",
    "print(int(A) + int(B))"
   ]
  },
  {
   "cell_type": "markdown",
   "metadata": {
    "slideshow": {
     "slide_type": "slide"
    }
   },
   "source": [
    "__Example:__ Write a program that requests the time from the user and tells them to eat lunch if it is lunchtime. \n",
    "\n",
    "<center>\n",
    "  <img src=\"img/flow_diag_if_lunctime.png\" alt=\"Drawing\" style=\"width: 200px;\"/>\n",
    "</center>"
   ]
  },
  {
   "cell_type": "code",
<<<<<<< HEAD
   "execution_count": 4,
=======
   "execution_count": 9,
   "id": "71f32f91",
>>>>>>> refs/remotes/origin/main
   "metadata": {},
   "outputs": [
    {
     "name": "stdout",
     "output_type": "stream",
     "text": [
      "enter the time (24 hour clock) in format hh.mm : 9.00\n"
     ]
    }
   ],
   "source": [
    "t = input('enter the time (24 hour clock) in format hh.mm : ') \n",
    "t = float(t)    # convert string to float\n",
    "\n",
    "# ----------------- Program from last week ---------------------\n",
    "Ls = 13.00      # lunch starts\n",
    "Le = 14.00      # lunch ends\n",
    "\n",
    "lunchtime = t >= Ls and t < Le\n",
    "# ---------------------------------------------------------------\n",
    "\n",
    "if lunchtime:\n",
    "    print(\"Eat lunch\")"
   ]
  },
  {
   "cell_type": "markdown",
   "metadata": {
    "slideshow": {
     "slide_type": "slide"
    }
   },
   "source": [
    "# Nested conditional statements\n",
    "Conditional statements can be nested (a conditional statement within a conditional statement) to execute more complex decision making in a program. "
   ]
  },
  {
   "cell_type": "markdown",
   "metadata": {
    "slideshow": {
     "slide_type": "slide"
    }
   },
   "source": [
    "__Example:__ Translate the flow diagram into a programme\n",
    "\n",
    "<center>\n",
    "  <img src=\"img/adult_child.png\" alt=\"Drawing\" style=\"width: 300px;\"/>\n",
    "</center>"
   ]
  },
  {
   "cell_type": "code",
   "execution_count": 9,
   "metadata": {},
   "outputs": [
    {
     "name": "stdout",
     "output_type": "stream",
     "text": [
      "You're a child\n"
     ]
    }
   ],
   "source": [
    "age = 17\n",
    "driver = False\n",
    "\n",
    "\n",
    "if age >= 18:\n",
    "    print(\"You're an adult\", end='')\n",
    "\n",
    "    if driver:\n",
    "        print(' who can drive')\n",
    "        \n",
    "else:\n",
    "    print(\"You're a child\")\n",
    "    "
   ]
  },
  {
   "cell_type": "markdown",
   "metadata": {
    "slideshow": {
     "slide_type": "slide"
    }
   },
   "source": [
    "# Summary\n",
    "- `input`: accepts typed input from the user. \n",
    "- `input` outputs the typed input as string data!\n",
    "- Conditional statements can be nested to create more complex decision-making within a program.\n"
   ]
  },
  {
   "cell_type": "markdown",
   "metadata": {
    "slideshow": {
     "slide_type": "slide"
    }
   },
   "source": [
    "# In-class Demos"
   ]
  },
  {
   "cell_type": "markdown",
   "metadata": {
    "slideshow": {
     "slide_type": "slide"
    }
   },
   "source": [
    "__Example 1:__ Write a program that asks for the user's age and checks if they are 18 or over. "
   ]
  },
  {
   "cell_type": "code",
   "execution_count": null,
   "metadata": {},
   "outputs": [],
   "source": []
  },
  {
   "cell_type": "markdown",
   "metadata": {
    "slideshow": {
     "slide_type": "slide"
    }
   },
   "source": [
    "__Example 2:__ Write a program that:\n",
    "- asks the user to input a number\n",
    "- checks if a number is odd or even \n",
    "- checks if input even numbers are multiples of 4\n",
    "- checks if input odd numbers are multiples of 3"
   ]
  },
  {
   "cell_type": "code",
<<<<<<< HEAD
   "execution_count": null,
=======
   "execution_count": 14,
   "id": "7cf28651",
>>>>>>> refs/remotes/origin/main
   "metadata": {},
   "outputs": [
    {
     "name": "stdout",
     "output_type": "stream",
     "text": [
      "Input a number 4\n",
      "N is even and multiple of 4\n"
     ]
    }
   ],
   "source": []
  }
 ],
 "metadata": {
  "celltoolbar": "Slideshow",
  "kernelspec": {
   "display_name": "Python 3",
   "language": "python",
   "name": "python3"
  },
  "language_info": {
   "codemirror_mode": {
    "name": "ipython",
    "version": 3
   },
   "file_extension": ".py",
   "mimetype": "text/x-python",
   "name": "python",
   "nbconvert_exporter": "python",
   "pygments_lexer": "ipython3",
   "version": "3.7.4"
  }
 },
 "nbformat": 4,
 "nbformat_minor": 5
}
