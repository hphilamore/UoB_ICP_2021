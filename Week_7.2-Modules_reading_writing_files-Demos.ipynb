{
 "cells": [
  {
   "cell_type": "markdown",
   "metadata": {
    "slideshow": {
     "slide_type": "slide"
    }
   },
   "source": [
    "# Introduction to Computer Programming\n",
    "\n",
    "## Week 7.2: Modules for reading & writing files\n",
    "\n",
    "* * *\n",
    "\n",
    "<img src=\"img/full-colour-logo-UoB.png\" alt=\"Bristol\" style=\"width: 300px;\"/>"
   ]
  },
  {
   "cell_type": "markdown",
   "metadata": {},
   "source": [
    "# Writing csv files"
   ]
  },
  {
   "cell_type": "markdown",
   "metadata": {
    "slideshow": {
     "slide_type": "slide"
    }
   },
   "source": [
    "__Example:__ Use the `csv` module to write the header and first row of the high score table shown to a .txt file.\n",
    "\n",
    "As a delimiter other than the default `','` is being used, we must specity this when creating the writer object. \n",
    "\n",
    "| Place | Name | Score | \n",
    "| :-: | :-: | :-: |  \n",
    "| 1 | Elena | 550 | \n",
    "| 2 | Sajid | 480 | \n",
    "| 3 | Tom | 380 | \n",
    "| 4 | Farhad | 305 | \n",
    "| 5 | Manesha | 150 |\n"
   ]
  },
  {
   "cell_type": "code",
   "execution_count": 11,
   "metadata": {},
   "outputs": [],
   "source": [
    "import csv\n",
    "\n",
    "with open('sample_data/scores_.txt', 'w') as f:    # open file in write mode\n",
    "\n",
    "    w = csv.writer(f, delimiter=' ')              # writer object\n",
    "\n",
    "    w.writerow(['place', 'name', 'score'])        # list to row \n",
    "\n",
    "    w.writerow([1,'Elena', 550]) "
   ]
  },
  {
   "cell_type": "markdown",
   "metadata": {
    "slideshow": {
     "slide_type": "slide"
    }
   },
   "source": [
    "__Example:__ Write the high score table data to a csv file, scores_.csv\n",
    "\n",
    "`writerows` can be used to write a data struct"
   ]
  },
  {
   "cell_type": "code",
   "execution_count": 12,
   "metadata": {},
   "outputs": [],
   "source": [
    "header = ['place', 'name', 'score']\n",
    "\n",
    "# data is list of lists\n",
    "data = [[1, 'Elena', 550],   \n",
    "        [2, 'Sajid', 480],\n",
    "        [3, 'Tom', 380],\n",
    "        [4, 'Farhad', 305],\n",
    "        [5, 'Manesha', 150]    \n",
    "       ]"
   ]
  },
  {
   "cell_type": "code",
   "execution_count": 13,
   "metadata": {},
   "outputs": [],
   "source": [
    "import csv\n",
    "\n",
    "with open('sample_data/scores_.csv', 'w') as f:\n",
    "    \n",
    "    w = csv.writer(f)\n",
    "    \n",
    "    w.writerow(header)\n",
    "    \n",
    "    w.writerows(data)"
   ]
  },
  {
   "cell_type": "markdown",
   "metadata": {},
   "source": [
    "# Reading csv files"
   ]
  },
  {
   "cell_type": "markdown",
   "metadata": {},
   "source": [
    "__Example:__ Read the file scores_.csv and print the third line."
   ]
  },
  {
   "cell_type": "code",
   "execution_count": 14,
   "metadata": {},
   "outputs": [
    {
     "name": "stdout",
     "output_type": "stream",
     "text": [
      "['1,Elena,550']\n"
     ]
    }
   ],
   "source": [
    "import csv\n",
    "\n",
    "with open ('sample_data/scores_.csv') as f:\n",
    "    \n",
    "    r = csv.reader(f, delimiter= ' ')\n",
    "    \n",
    "    r = list(r)\n",
    "    \n",
    "#     for l in r:\n",
    "#         print(l)\n",
    "        \n",
    "    print(r[1])\n",
    "    "
   ]
  },
  {
   "cell_type": "markdown",
   "metadata": {
    "slideshow": {
     "slide_type": "slide"
    }
   },
   "source": [
    "# Reading and writing csv files\n",
    "\n",
    "The same mode specifiers are used as for .txt files.\n",
    "\n",
    "A `reader` *and* `writer` object are created."
   ]
  },
  {
   "cell_type": "markdown",
   "metadata": {},
   "source": [
    "__Example:__ Print the data in the file sample\\_data/scores.csv and add a new entry. "
   ]
  },
  {
   "cell_type": "code",
   "execution_count": 15,
   "metadata": {},
   "outputs": [
    {
     "name": "stdout",
     "output_type": "stream",
     "text": [
      "['place', 'name', 'score']\n",
      "['1', 'Elena', '550']\n",
      "['2', 'Sajid', '480']\n",
      "['3', 'Tom', '380']\n",
      "['4', 'Farhad', '305']\n",
      "['5', 'Manesha', '150']\n",
      "['6', 'Carl', '100']\n",
      "['7', 'Theo', '105']\n",
      "['8', 'Mark', '75']\n",
      "['9', 'Grace', '50']\n",
      "['10', 'Lois', '70']\n",
      "['10', 'Lois', '70']\n",
      "['10', 'Lois', '70']\n",
      "['10', 'Lois', '70']\n"
     ]
    }
   ],
   "source": [
    "# choose append mode as we will write then read\n",
    "\n",
    "# what if we wanted to read then append? \n",
    "\n",
    "with open('sample_data/scores_.csv', 'a+') as f:\n",
    "    \n",
    "    r = csv.reader(f)\n",
    "    \n",
    "    w = csv.writer(f)\n",
    "        \n",
    "    w.writerow([10, 'Lois', 70])\n",
    "    \n",
    "    f.seek(0)\n",
    "    \n",
    "    for line in r:\n",
    "        print(line)"
   ]
  },
  {
   "cell_type": "code",
   "execution_count": null,
   "metadata": {},
   "outputs": [],
   "source": []
  }
 ],
 "metadata": {
  "celltoolbar": "Slideshow",
  "kernelspec": {
   "display_name": "Python 3",
   "language": "python",
   "name": "python3"
  },
  "language_info": {
   "codemirror_mode": {
    "name": "ipython",
    "version": 3
   },
   "file_extension": ".py",
   "mimetype": "text/x-python",
   "name": "python",
   "nbconvert_exporter": "python",
   "pygments_lexer": "ipython3",
   "version": "3.8.3"
  }
 },
 "nbformat": 4,
 "nbformat_minor": 5
}
