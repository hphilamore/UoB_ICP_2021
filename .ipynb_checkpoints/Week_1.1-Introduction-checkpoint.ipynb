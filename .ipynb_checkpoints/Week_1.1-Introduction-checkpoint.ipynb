{
 "cells": [
  {
   "cell_type": "markdown",
   "metadata": {
    "slideshow": {
     "slide_type": "slide"
    }
   },
   "source": [
    "\n",
    "\n",
    "# Introduction to Computer Programming\n",
    "\n",
    "## 1.1 Course Introduction\n",
    "\n",
    "\n",
    "<img src=\"img/full-colour-logo-UoB.png\" alt=\"Drawing\" style=\"width: 300px;\"/>"
   ]
  },
  {
   "cell_type": "markdown",
   "metadata": {
    "slideshow": {
     "slide_type": "slide"
    }
   },
   "source": [
    "# Why study programming?\n",
    "- Increased use of computing in everyday life.\n",
    "- A tool you can use for the other subject you study. \n",
    "- A growing sector of the jobs market (software engineering, data science, AI, robotics...).\n",
    "- Coding in jobs, not traditionally related to computing.\n",
    "- It's fun!"
   ]
  },
  {
   "cell_type": "markdown",
   "metadata": {
    "slideshow": {
     "slide_type": "slide"
    }
   },
   "source": [
    "# Why study Python?\n",
    " - Free and open source\n",
    " - \"High level\" (abstracted from computing processes eg. memory management)\n",
    " - Easy to learn\n",
    " - Versatile - both a scripting and a programming langauge:\n",
    "    - scripting : run in a host appication for debugging and viewing output e.g. a mathematical model\n",
    "    - programming : controls a computer or machine e.g. a microcontroller on a ro\n",
    " - Increasingly used in industry\n",
    " - Community\n",
    "\n",
    " <img src=\"img/python_logo.png\" alt=\"Drawing\" style=\"width: 200px;\"/>"
   ]
  },
  {
   "cell_type": "markdown",
   "metadata": {
    "slideshow": {
     "slide_type": "slide"
    }
   },
   "source": [
    "# Course Goals\n",
    "\n",
    "- A good standalone programming toolkit.\n",
    "- Skills to improve the quality of your work in other subjects. \n",
    "- A fundamental base from which to start developing further as a programmer. \n"
   ]
  },
  {
   "cell_type": "markdown",
   "metadata": {
    "slideshow": {
     "slide_type": "slide"
    }
   },
   "source": [
    "# Course Entry Level\n",
    "\n",
    "Beginner, no prior programming knowlegde.\n",
    "<br>Preparation for first year (and upwards), engineering / engineering-related degree programmme"
   ]
  },
  {
   "cell_type": "markdown",
   "metadata": {},
   "source": [
    "# Course stucture: Weekly schedule \n",
    "\n",
    "<b1><center>Lectures</center></b1>\n",
    "\n",
    "\n",
    "|                  | Group 1| Group 2 | Online students | \n",
    "| :-:              | :-: | :-: | :-: |  \n",
    "|2 hour lecture/lab| Tuesday  |Tuesday  | Monday  | \n",
    "|                  | 13:00-15:00 |15:00-17:00 | 8:00-10:00 | \n",
    "|                  | MVB 2.11 |MVB 2.11 | remo |\n",
    "\n",
    "\n",
    "***\n",
    "<b1><center>Optional drop-in sessions</center></b1>\n",
    "\n",
    "|                                     | On-campus | Online | \n",
    "| :-:                                 | :-: | :-: | \n",
    "|__Optional__ drop-in support session | Friday | Thursday |\n",
    "|                                     | 13:00-15:00 |9:00-10:00| \n",
    "|                                     | MVB 1.15 | remo | \n",
    "\n",
    "\n",
    "\n",
    "\n",
    "__Group 1__ : EMAT, Innovation, Biorobotics, everyone not listed in Groups 1/2\n",
    "\n",
    "__Group 2__: EENG, EDES, Digital Health MSc & CDT\n",
    "\n"
   ]
  },
  {
   "cell_type": "markdown",
   "metadata": {
    "slideshow": {
     "slide_type": "slide"
    }
   },
   "source": [
    "# Class Structure\n",
    " \n",
    "###### Part 1 (1 hour)\n",
    "- 15-30 mins theory/demos\n",
    "- 30-45 mins practise exercises (essential + advanced questions) \n",
    "\n",
    "###### Part 2 (1 hour)\n",
    "- 15-30 mins theory/demos\n",
    "- 30-45 mins practise exercises (essential + advanced questions)\n",
    "\n",
    "Complete any unfinished 'essential' exercises for homework. \n",
    "\n",
    "\n",
    " "
   ]
  },
  {
   "cell_type": "markdown",
   "metadata": {
    "slideshow": {
     "slide_type": "slide"
    }
   },
   "source": [
    "# How To Access the Course Material\n",
    "Blackboard page for unit EMAT10007:\n",
    "- Slides (pdf and Jupyter notebook)\n",
    "- Weekly exercises (pdf)\n",
    "- Example answers released the following week"
   ]
  },
  {
   "cell_type": "markdown",
   "metadata": {
    "slideshow": {
     "slide_type": "slide"
    }
   },
   "source": [
    "# Different ways of running Python\n",
    "\n",
    "We wil run Python code (scripts) in different environments:\n",
    "- Jupyter notebook (lecture slides)\n",
    "- Spyder IDE (intergated development environment)\n",
    "\n",
    "Write, debug and see the output of our code. \n",
    "\n",
    "Learning Python __syntax__ which can be run in many other environments (computer command line, raspberry pi etc...)  "
   ]
  },
  {
   "cell_type": "code",
   "execution_count": 5,
   "metadata": {},
   "outputs": [],
   "source": [
    "# A cell for writing and running code"
   ]
  },
  {
   "cell_type": "markdown",
   "metadata": {},
   "source": [
    "# Installing Anaconda \n",
    "\n",
    "Instructions for installing Anaconda on your personal computer:\n",
    "- Windows : https://docs.anaconda.com/anaconda/install/windows/\n",
    "- Mac : https://docs.anaconda.com/anaconda/install/mac-os/\n",
    "- Linux : https://docs.anaconda.com/anaconda/install/linux/ "
   ]
  },
  {
   "cell_type": "markdown",
   "metadata": {},
   "source": [
    "## Opening Anaconda \n",
    "\n",
    "__Linux lab__\n",
    "- Open Terminal from programs menu\n",
    "- `/opt/anaconda/2020.07/bin/anaconda-navigator`\n",
    "- Press enter\n",
    "\n",
    "__Personal computer__\n",
    "- Choose Anaconda from the programs menu\n",
    "\n",
    "<img src=\"img/Anaconda_Logo.png\" alt=\"Drawing\" style=\"width: 150px;\"/>\n",
    "\n",
    "\n"
   ]
  },
  {
   "cell_type": "markdown",
   "metadata": {},
   "source": [
    "Lecture notres can be viewed as pdf or Jupyter notebook \n",
    "\n",
    "## Opening Jupyter notebook \n",
    "Click 'Launch' next to the Jupyter notebook application\n",
    "<img src=\"img/jupyter_logo.png\" alt=\"Drawing\" style=\"width: 100px;\"/>\n",
    "\n",
    "## Opening lecture notes in Jupyter notebook\n",
    "Navigate to where you have downloaded the .ipynb file to and click on it to open. "
   ]
  },
  {
   "cell_type": "markdown",
   "metadata": {},
   "source": [
    "# Dependencies \n",
    "\n",
    "The folders `sample_data` and `img` should also be downloaded and stored in the same folder as the .ipynb files. "
   ]
  },
  {
   "cell_type": "markdown",
   "metadata": {},
   "source": [
    "# Opening Spyder\n",
    "\n",
    "Click 'Launch' next to the Spyder application\n",
    "\n",
    "<img src=\"img/spyder_logo.png\" alt=\"Drawing\" style=\"width: 100px;\"/>"
   ]
  },
  {
   "cell_type": "markdown",
   "metadata": {
    "slideshow": {
     "slide_type": "slide"
    }
   },
   "source": [
    "# How to save your work in Spyder\n",
    "\n",
    "You will complete the weekly exercises in spyder. \n",
    "\n",
    "These are effectively your notes. \n",
    "\n",
    "Save them in an organised way (e.g using the week/class number).\n",
    "\n",
    "File >> Save >> [`Filename`] (.py file extension automatically added)"
   ]
  },
  {
   "cell_type": "markdown",
   "metadata": {
    "slideshow": {
     "slide_type": "slide"
    }
   },
   "source": [
    "# How you will be assssed\n",
    "__Assignment:__ Single piece of coursework, completed individually.\n",
    "\n",
    "__Theme:__ Write a program to perform and encryption and decryption task + a short (2 page) report \n",
    "\n",
    "__Set:__  Week 12 (December 13th 2021) \n",
    "\n",
    "__Deadline:__ \n"
   ]
  },
  {
   "cell_type": "markdown",
   "metadata": {
    "slideshow": {
     "slide_type": "slide"
    }
   },
   "source": [
    "\n",
    "<h1><center>Any Questions?</center></h1>"
   ]
  },
  {
   "cell_type": "markdown",
   "metadata": {
    "slideshow": {
     "slide_type": "slide"
    }
   },
   "source": [
    "<h1><center>Let's give it a go!...</center></h1>"
   ]
  },
  {
   "cell_type": "code",
   "execution_count": null,
   "metadata": {},
   "outputs": [],
   "source": []
  }
 ],
 "metadata": {
  "celltoolbar": "Slideshow",
  "kernelspec": {
   "display_name": "Python 3",
   "language": "python",
   "name": "python3"
  },
  "language_info": {
   "codemirror_mode": {
    "name": "ipython",
    "version": 3
   },
   "file_extension": ".py",
   "mimetype": "text/x-python",
   "name": "python",
   "nbconvert_exporter": "python",
   "pygments_lexer": "ipython3",
   "version": "3.8.8"
  }
 },
 "nbformat": 4,
 "nbformat_minor": 2
}
