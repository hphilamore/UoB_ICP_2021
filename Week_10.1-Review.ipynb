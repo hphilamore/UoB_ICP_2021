{
 "cells": [
  {
   "cell_type": "markdown",
   "metadata": {
    "slideshow": {
     "slide_type": "slide"
    }
   },
   "source": [
    "# Introduction to Computer Programming\n",
    "\n",
    "\n",
    "\n",
    "## Week 10.1: Review\n",
    "\n",
    "* * *\n",
    "\n",
    "<img src=\"img/full-colour-logo-UoB.png\" alt=\"Bristol\" style=\"width: 300px;\"/>"
   ]
  },
  {
   "cell_type": "markdown",
   "metadata": {
    "slideshow": {
     "slide_type": "slide"
    }
   },
   "source": [
    "# Structure of session\n",
    "\n",
    "* To provide an overview of **core** Python functionality and programming techniques\n",
    "* Not exhaustive - so please see the lecture slides from Weeks 1-7 for more details\n",
    "* Short exercises with solutions presented\n",
    "* **Please open the IDE of your choice**"
   ]
  },
  {
   "cell_type": "markdown",
   "metadata": {
    "slideshow": {
     "slide_type": "slide"
    }
   },
   "source": [
    "# Mathematical operations\n",
    "\n",
    "| Operation | Description | Example |\n",
    "| :-: | :-: | :-: |\n",
    "| + | Addition | 5 + 3 = 8 |\n",
    "| - | Substraction | 5 - 3 = 2 |\n",
    "| * | Multiplication | 5 * 3 = 15 |\n",
    "| / | Division | 5 / 3 = 1.666...|\n",
    "| // | Floor division (round down to an integer) | 5 // 3 = 1|\n",
    "| % | Modulo (compute remainder) | 5 % 3 = 2 |\n",
    "| ** | Exponent | 5 ** 3 = 125 |"
   ]
  },
  {
   "cell_type": "markdown",
   "metadata": {
    "slideshow": {
     "slide_type": "slide"
    }
   },
   "source": [
    "# Boolean operations\n",
    "\n",
    "| Operation | Description | Example | Value |\n",
    "| :-: | :-: | :-: | :-: |\n",
    "| == | Is equal? | 1 == 2 | False |\n",
    "| != | Is not equal? | 1 != 2 | True |\n",
    "| < | Less than? | 1 < 2 | True |\n",
    "| > | Greater than? | 1 > 2 | False |\n",
    "| <= | Less than or equal to? | 1 <= 2 | True |\n",
    "| >= | Greater than or equal to? | 1 >= 2 | False |"
   ]
  },
  {
   "cell_type": "markdown",
   "metadata": {},
   "source": [
    "# Logical operations\n",
    "\n",
    "| Operation | Description | Example | Value |\n",
    "| :-: | :-: | :-:| :-: |\n",
    "| and | Are both true? | 1 < 2 and 3 < 2 | False |\n",
    "| or | Is one true? | 1 < 2 or 3 < 2 | True |\n",
    "| not | Negate the conditional | not(1 < 2) | False |"
   ]
  },
  {
   "cell_type": "markdown",
   "metadata": {
    "slideshow": {
     "slide_type": "slide"
    }
   },
   "source": [
    "# Exercise:\n",
    "\n",
    "Use logical operations to determine whether an integer $N$ is a multipe of four.  Can you also determine whether $N$ is an odd multiple of four?"
   ]
  },
  {
   "cell_type": "code",
   "execution_count": null,
   "metadata": {
    "slideshow": {
     "slide_type": "fragment"
    }
   },
   "outputs": [],
   "source": []
  },
  {
   "cell_type": "markdown",
   "metadata": {
    "slideshow": {
     "slide_type": "slide"
    }
   },
   "source": [
    "# Basic variable types\n",
    "\n",
    "* **Ints**:  integers; e.g. a = 2\n",
    "* **Floats**: floating-point numbers with decimals; e.g. a = 2.0\n",
    "* **Strings**: collection of characters contained in single or double quotes; individual characters can be accessed using an index (starting at 0)"
   ]
  },
  {
   "cell_type": "code",
   "execution_count": 2,
   "metadata": {},
   "outputs": [
    {
     "name": "stdout",
     "output_type": "stream",
     "text": [
      "e\n"
     ]
    }
   ],
   "source": [
    "s = 'Hello'\n",
    "print(s[1])"
   ]
  },
  {
   "cell_type": "markdown",
   "metadata": {
    "slideshow": {
     "slide_type": "fragment"
    }
   },
   "source": [
    "Use the `int`, `float`, and `str` functions to convert between types"
   ]
  },
  {
   "cell_type": "code",
   "execution_count": 3,
   "metadata": {},
   "outputs": [
    {
     "name": "stdout",
     "output_type": "stream",
     "text": [
      "2\n"
     ]
    }
   ],
   "source": [
    "a = 2.0\n",
    "print(int(a))"
   ]
  },
  {
   "cell_type": "markdown",
   "metadata": {
    "slideshow": {
     "slide_type": "slide"
    }
   },
   "source": [
    "# Data structures\n",
    "\n",
    "| Type | Example | Characteristics |\n",
    "| :-: | :-: | :-: |\n",
    "| List | L = [1, 1.0, 'one'] | Mutable, iterable, ordered |\n",
    "| Tuple | t = (1, 1.0, 'one') | Immutable, iterable, ordered |\n",
    "| Set | s = {1, 1.0, 'one'} | Mutable, iterable, unordered, unique |\n",
    "| Dictionary | d = {'a':1, 'b':2, 'c':3} | Mutable, iterable, ordered|\n",
    "\n",
    "* **Mutable**: Can be modified\n",
    "* **Immutable**: Cannot be modified\n",
    "* **Ordered**: Elements can be accessed using an index or a key"
   ]
  },
  {
   "cell_type": "markdown",
   "metadata": {
    "slideshow": {
     "slide_type": "slide"
    }
   },
   "source": [
    "# Data structures continued\n",
    "\n",
    "* Use `list`, `tuple`, and `set` functions to convert between types\n",
    "* Elements in lists and tuples can be accessed using an integer index (starting at 0)\n",
    "* Elements in dictionaries are accessed using keys"
   ]
  },
  {
   "cell_type": "code",
   "execution_count": 4,
   "metadata": {},
   "outputs": [
    {
     "name": "stdout",
     "output_type": "stream",
     "text": [
      "{1, 2, 3}\n",
      "1\n"
     ]
    }
   ],
   "source": [
    "l = [1, 2, 3, 3]\n",
    "print(set(l)) # convert a list to a set\n",
    "print(l[0]) # accessing the first entry of the list l"
   ]
  },
  {
   "cell_type": "code",
   "execution_count": 5,
   "metadata": {},
   "outputs": [
    {
     "name": "stdout",
     "output_type": "stream",
     "text": [
      "9.8\n"
     ]
    }
   ],
   "source": [
    "# create a dict of gravitational accelerations\n",
    "g = {'Earth': 9.8, 'Mars':3.7, 'Jupiter':25}\n",
    "print(g['Earth'])"
   ]
  },
  {
   "cell_type": "markdown",
   "metadata": {
    "slideshow": {
     "slide_type": "slide"
    }
   },
   "source": [
    "# If statements\n",
    "\n",
    "* Used to make a decision in a program\n",
    "* Runs an indented block of code if a conditional statement is true"
   ]
  },
  {
   "cell_type": "code",
   "execution_count": 48,
   "metadata": {},
   "outputs": [
    {
     "name": "stdout",
     "output_type": "stream",
     "text": [
      "Doing something because i < 10\n",
      "Printing non-indented code for all values of i\n"
     ]
    }
   ],
   "source": [
    "i = 5\n",
    "\n",
    "if i < 10:\n",
    "    print(\"Doing something because i < 10\")\n",
    "    \n",
    "print('Printing non-indented code for all values of i')"
   ]
  },
  {
   "cell_type": "markdown",
   "metadata": {
    "slideshow": {
     "slide_type": "slide"
    }
   },
   "source": [
    "# If-else statements\n",
    "\n",
    "* Creates two pathways, the choice depends on whether a condition is true or false"
   ]
  },
  {
   "cell_type": "code",
   "execution_count": 50,
   "metadata": {},
   "outputs": [
    {
     "name": "stdout",
     "output_type": "stream",
     "text": [
      "Doing something\n"
     ]
    }
   ],
   "source": [
    "i = 5\n",
    "\n",
    "if i < 10:\n",
    "    print('Doing something')\n",
    "else:\n",
    "    print('Doing something else')"
   ]
  },
  {
   "cell_type": "markdown",
   "metadata": {
    "slideshow": {
     "slide_type": "slide"
    }
   },
   "source": [
    "# If-else-elif statements\n",
    "\n",
    "* Creates multiple pathways, the choice depends on which condition is true"
   ]
  },
  {
   "cell_type": "code",
   "execution_count": 51,
   "metadata": {},
   "outputs": [
    {
     "name": "stdout",
     "output_type": "stream",
     "text": [
      "Doing something else\n"
     ]
    }
   ],
   "source": [
    "i = 20\n",
    "\n",
    "if i < 10:\n",
    "    print('Doing something')\n",
    "elif i > 10:\n",
    "    print('Doing something else')\n",
    "else:\n",
    "    print('Doing something different from the other two cases')"
   ]
  },
  {
   "cell_type": "markdown",
   "metadata": {
    "slideshow": {
     "slide_type": "slide"
    }
   },
   "source": [
    "# Exercise\n",
    "\n",
    "* A currency converter will change UK pounds into Canadian dollars using the formula\n",
    "\\begin{align}\n",
    "C = r P\n",
    "\\end{align}\n",
    "where $r$ is the conversion rate, $P$ is the number of pounds, and $C$ is the amount of Canadian dollars.\n",
    "\n",
    "* The rate $r$ depends on the number of pounds $P$ being converted:\n",
    "\n",
    "| Pounds $P$ | Rate $r$ |\n",
    "| :-: | :-: |\n",
    "| under £5,000 | 1.64 |\n",
    "| between £5,000 and £10,000 (inclusive) | 1.66 | \n",
    "| over £10,000 | 1.70 |\n",
    "\n",
    "* Write a program to calculate the Canadian pounds $C$ that will be converted for a given number of UK pounds $P$"
   ]
  },
  {
   "cell_type": "markdown",
   "metadata": {
    "slideshow": {
     "slide_type": "slide"
    }
   },
   "source": [
    "# Solution"
   ]
  },
  {
   "cell_type": "code",
   "execution_count": null,
   "metadata": {
    "slideshow": {
     "slide_type": "-"
    }
   },
   "outputs": [],
   "source": []
  },
  {
   "cell_type": "markdown",
   "metadata": {
    "slideshow": {
     "slide_type": "slide"
    }
   },
   "source": [
    "# For loops\n",
    "\n",
    "* For repeating code a fixed number of times\n",
    "```python\n",
    "for e in collection:\n",
    "    # run indented code\n",
    "```\n",
    "* The indented code is run until `e` has taken on every value in `collection` (which is an iterable object like a list or tuple)"
   ]
  },
  {
   "cell_type": "code",
   "execution_count": 10,
   "metadata": {
    "slideshow": {
     "slide_type": "fragment"
    }
   },
   "outputs": [
    {
     "name": "stdout",
     "output_type": "stream",
     "text": [
      "0 1 2 3 4 "
     ]
    }
   ],
   "source": [
    "for i in range(5):\n",
    "    print(i, end=\" \")"
   ]
  },
  {
   "cell_type": "code",
   "execution_count": 11,
   "metadata": {
    "slideshow": {
     "slide_type": "fragment"
    }
   },
   "outputs": [
    {
     "name": "stdout",
     "output_type": "stream",
     "text": [
      "Red, Blue, Green, "
     ]
    }
   ],
   "source": [
    "for c in ['red', 'blue', 'green']:\n",
    "    print(c.capitalize(), end=\", \")"
   ]
  },
  {
   "cell_type": "markdown",
   "metadata": {
    "slideshow": {
     "slide_type": "slide"
    }
   },
   "source": [
    "# While loops\n",
    "\n",
    "* For repeating code until a condition becomes false\n",
    "```python\n",
    "while condition:\n",
    "    # run indented code\n",
    "```\n",
    "* While loops are useful when you don't know how many times to repeat code\n",
    "* Beware of infinite loops!"
   ]
  },
  {
   "cell_type": "code",
   "execution_count": 1,
   "metadata": {
    "scrolled": true,
    "slideshow": {
     "slide_type": "fragment"
    }
   },
   "outputs": [
    {
     "name": "stdout",
     "output_type": "stream",
     "text": [
      "1, 4, 9, 16, 25, 36, 49, 64, 81, 100, 121, 144, 169, 196, 225, 256, 289, 324, 361, 400, 441, "
     ]
    }
   ],
   "source": [
    "# compute the square numbers that are smaller than 450\n",
    "i = 1\n",
    "while i**2 < 450:\n",
    "    print(i**2, end=\", \")\n",
    "    i += 1"
   ]
  },
  {
   "cell_type": "markdown",
   "metadata": {
    "slideshow": {
     "slide_type": "slide"
    }
   },
   "source": [
    "# Break and continue\n",
    "\n",
    "* `break` is used to terminate a loop\n",
    "* `continue` is used to skip an iteration in a loop"
   ]
  },
  {
   "cell_type": "code",
   "execution_count": 13,
   "metadata": {
    "slideshow": {
     "slide_type": "fragment"
    }
   },
   "outputs": [
    {
     "name": "stdout",
     "output_type": "stream",
     "text": [
      "0 1 2 3 4 5 6 7 8 9 "
     ]
    }
   ],
   "source": [
    "for i in range(10):\n",
    "    print(i, end = \" \")"
   ]
  },
  {
   "cell_type": "code",
   "execution_count": 14,
   "metadata": {
    "slideshow": {
     "slide_type": "fragment"
    }
   },
   "outputs": [
    {
     "name": "stdout",
     "output_type": "stream",
     "text": [
      "0 1 2 3 "
     ]
    }
   ],
   "source": [
    "for i in range(10):\n",
    "    if i == 4:\n",
    "        break\n",
    "    print(i, end = \" \")"
   ]
  },
  {
   "cell_type": "code",
   "execution_count": 15,
   "metadata": {
    "slideshow": {
     "slide_type": "fragment"
    }
   },
   "outputs": [
    {
     "name": "stdout",
     "output_type": "stream",
     "text": [
      "0 1 2 3 5 6 7 8 9 "
     ]
    }
   ],
   "source": [
    "for i in range(10):\n",
    "    if i == 4:\n",
    "        continue\n",
    "    print(i, end = \" \")"
   ]
  },
  {
   "cell_type": "markdown",
   "metadata": {
    "slideshow": {
     "slide_type": "slide"
    }
   },
   "source": [
    "# Exercise\n",
    "\n",
    "1. Write a program that calculates how many letters appear before the first e in a word.  For example, in the word \"programmer\", there are 8 letters before the first e.\n",
    "\n",
    "2. What would you change in your program if you wanted to count all the letters except e?"
   ]
  },
  {
   "cell_type": "code",
   "execution_count": null,
   "metadata": {
    "scrolled": true,
    "slideshow": {
     "slide_type": "fragment"
    }
   },
   "outputs": [],
   "source": []
  },
  {
   "cell_type": "markdown",
   "metadata": {
    "slideshow": {
     "slide_type": "fragment"
    }
   },
   "source": [
    "Changing `break` to `continue` counts all of the letters except e"
   ]
  },
  {
   "cell_type": "markdown",
   "metadata": {
    "slideshow": {
     "slide_type": "slide"
    }
   },
   "source": [
    "# Functions\n",
    "\n",
    "* **Functions** are mini-programs based on a collection of code that has been given a name\n",
    "* Functions are defined using the `def` keyword\n",
    "* Function inputs are called **arguments**\n",
    "* The `return` keyword is used to output data from a function"
   ]
  },
  {
   "cell_type": "code",
   "execution_count": 17,
   "metadata": {
    "slideshow": {
     "slide_type": "fragment"
    }
   },
   "outputs": [
    {
     "name": "stdout",
     "output_type": "stream",
     "text": [
      "9\n"
     ]
    }
   ],
   "source": [
    "# add two numbers a and b together\n",
    "def my_sum(a, b):\n",
    "    c = a + b\n",
    "    return c\n",
    "\n",
    "c = my_sum(3, 6)\n",
    "print(c)"
   ]
  },
  {
   "cell_type": "markdown",
   "metadata": {
    "slideshow": {
     "slide_type": "slide"
    }
   },
   "source": [
    "# The unpacking operator\n",
    "\n",
    "* The unpacking operator * is used to define functions with an arbitrary number of arguments"
   ]
  },
  {
   "cell_type": "code",
   "execution_count": 3,
   "metadata": {},
   "outputs": [
    {
     "name": "stdout",
     "output_type": "stream",
     "text": [
      "15\n"
     ]
    }
   ],
   "source": [
    "# sums an arbitrary number of numbers\n",
    "def my_sum(*numbers):\n",
    "    s = 0\n",
    "    for n in numbers:\n",
    "        s += n\n",
    "    return s\n",
    "\n",
    "S = my_sum(1, 2, 3, 4, 5)\n",
    "print(S)"
   ]
  },
  {
   "cell_type": "markdown",
   "metadata": {
    "slideshow": {
     "slide_type": "slide"
    }
   },
   "source": [
    "# Keyword arguments\n",
    "* Keyword arguments allow arguments to be provided in any order"
   ]
  },
  {
   "cell_type": "code",
   "execution_count": 4,
   "metadata": {},
   "outputs": [
    {
     "name": "stdout",
     "output_type": "stream",
     "text": [
      "The name is Isaac Newton\n",
      "The name is Isaac Newton\n"
     ]
    }
   ],
   "source": [
    "# create a function to display someone's name\n",
    "def print_name(first_name, second_name):\n",
    "    print('The name is', first_name, second_name)\n",
    "\n",
    "# using standard (positional) arguments: order matters\n",
    "print_name('Isaac', 'Newton')\n",
    "\n",
    "# using keyword arguments: order does not matter\n",
    "print_name(second_name = 'Newton', first_name = 'Isaac')"
   ]
  },
  {
   "cell_type": "markdown",
   "metadata": {
    "slideshow": {
     "slide_type": "slide"
    }
   },
   "source": [
    "# Default arguments\n",
    "\n",
    "* Default arguments pre-assigns a value to optional arguments\n",
    "* Default values are assigned in the function definition\n",
    "* Default arguments must be the last arguments in a function"
   ]
  },
  {
   "cell_type": "code",
   "execution_count": 6,
   "metadata": {},
   "outputs": [
    {
     "name": "stdout",
     "output_type": "stream",
     "text": [
      "5.0\n",
      "0.75\n"
     ]
    }
   ],
   "source": [
    "# this function divides two numbers (n = numerator and d = denominator)\n",
    "def my_divide(n, d = 1):\n",
    "    print(n / d)\n",
    "\n",
    "my_divide(5)\n",
    "my_divide(3, 4)"
   ]
  },
  {
   "cell_type": "markdown",
   "metadata": {
    "slideshow": {
     "slide_type": "slide"
    }
   },
   "source": [
    "# Variable scope\n",
    "\n",
    "* **Local** variables can only be accessed within the functions that create them"
   ]
  },
  {
   "cell_type": "code",
   "execution_count": 21,
   "metadata": {},
   "outputs": [
    {
     "ename": "NameError",
     "evalue": "name 'z' is not defined",
     "output_type": "error",
     "traceback": [
      "\u001b[0;31m---------------------------------------------------------------------------\u001b[0m",
      "\u001b[0;31mNameError\u001b[0m                                 Traceback (most recent call last)",
      "\u001b[0;32m<ipython-input-21-83ff9cb5c933>\u001b[0m in \u001b[0;36m<module>\u001b[0;34m\u001b[0m\n\u001b[1;32m      6\u001b[0m \u001b[0;34m\u001b[0m\u001b[0m\n\u001b[1;32m      7\u001b[0m \u001b[0;31m# attempt to access a local variable\u001b[0m\u001b[0;34m\u001b[0m\u001b[0;34m\u001b[0m\u001b[0;34m\u001b[0m\u001b[0m\n\u001b[0;32m----> 8\u001b[0;31m \u001b[0mprint\u001b[0m\u001b[0;34m(\u001b[0m\u001b[0mz\u001b[0m\u001b[0;34m)\u001b[0m\u001b[0;34m\u001b[0m\u001b[0;34m\u001b[0m\u001b[0m\n\u001b[0m",
      "\u001b[0;31mNameError\u001b[0m: name 'z' is not defined"
     ]
    }
   ],
   "source": [
    "def my_sum(x, y):\n",
    "    # create a local variable z\n",
    "    z = x + y \n",
    "\n",
    "my_sum(2, 5)\n",
    "\n",
    "# attempt to access a local variable\n",
    "print(z)"
   ]
  },
  {
   "cell_type": "markdown",
   "metadata": {
    "slideshow": {
     "slide_type": "slide"
    }
   },
   "source": [
    "# Variable scope\n",
    "* **Global** variables can be accessed anywhere (**but should be avoided**)\n",
    "* Variables defined in the main python code are global variables\n",
    "* The `global` keyword is used to convert local variables into global variables"
   ]
  },
  {
   "cell_type": "code",
   "execution_count": 22,
   "metadata": {
    "slideshow": {
     "slide_type": "fragment"
    }
   },
   "outputs": [
    {
     "name": "stdout",
     "output_type": "stream",
     "text": [
      "4\n"
     ]
    }
   ],
   "source": [
    "x = 4\n",
    "\n",
    "def print_x():\n",
    "    print(x)\n",
    "    \n",
    "print_x()"
   ]
  },
  {
   "cell_type": "code",
   "execution_count": 23,
   "metadata": {
    "slideshow": {
     "slide_type": "fragment"
    }
   },
   "outputs": [
    {
     "name": "stdout",
     "output_type": "stream",
     "text": [
      "7\n"
     ]
    }
   ],
   "source": [
    "def my_sum(x, y):\n",
    "    global z\n",
    "    z = x + y\n",
    "    \n",
    "my_sum(2, 5)\n",
    "print(z)"
   ]
  },
  {
   "cell_type": "markdown",
   "metadata": {
    "slideshow": {
     "slide_type": "slide"
    }
   },
   "source": [
    "# Exercise\n",
    "\n",
    "Write a function that computes the potential energy of an object using the equation $E = m g h$.  The function should take as inputs:\n",
    "\n",
    "* $m$, mass in kg\n",
    "* $g$, the gravitational acceleration in m/s$^2$\n",
    "* $h$, height in m\n",
    "\n",
    "Follow up: how would you change your code to set $g = 9.8$ by default?"
   ]
  },
  {
   "cell_type": "code",
   "execution_count": null,
   "metadata": {
    "slideshow": {
     "slide_type": "fragment"
    }
   },
   "outputs": [],
   "source": []
  },
  {
   "cell_type": "markdown",
   "metadata": {
    "slideshow": {
     "slide_type": "slide"
    }
   },
   "source": [
    "# Classes\n",
    "\n",
    "* A class contains **attributes** (data) and **methods** (functions) that operate on attributes\n",
    "* Classes are defined using the `class` keyword\n",
    "* The constructor is a function called ``__init__(self, arg1, arg2, ...)`` that is automatically called when objects are created\n",
    "* `self` represents an object in the class (such as the object being created or accessed)"
   ]
  },
  {
   "cell_type": "code",
   "execution_count": 24,
   "metadata": {
    "slideshow": {
     "slide_type": "-"
    }
   },
   "outputs": [
    {
     "name": "stdout",
     "output_type": "stream",
     "text": [
      "1\n"
     ]
    }
   ],
   "source": [
    "class MyFraction():\n",
    "    \n",
    "    # constructor\n",
    "    def __init__(self, num, den):\n",
    "        # class attributes\n",
    "        self.num = num\n",
    "        self.den = den\n",
    "        \n",
    "Frac = MyFraction(1, 2) # create a MyFraction object\n",
    "print(Frac.num) # access the num attribute of F using a dot"
   ]
  },
  {
   "cell_type": "markdown",
   "metadata": {
    "slideshow": {
     "slide_type": "slide"
    }
   },
   "source": [
    "# Methods\n",
    "\n",
    "* Methods are functions that are defined in a class\n",
    "* The first argument must be `self`, which is automatically passed when the method is called\n",
    "* Methods can be called using a dot"
   ]
  },
  {
   "cell_type": "code",
   "execution_count": 8,
   "metadata": {},
   "outputs": [
    {
     "name": "stdout",
     "output_type": "stream",
     "text": [
      "0.5\n"
     ]
    }
   ],
   "source": [
    "class MyFraction():\n",
    "    \n",
    "    # constructor\n",
    "    def __init__(self, num, den):\n",
    "        # class attributes\n",
    "        self.num = num\n",
    "        self.den = den\n",
    "    \n",
    "    # method to compute the floating-point approximation to the fraction\n",
    "    def compute_float(self):\n",
    "        return self.num / self.den\n",
    "        \n",
    "        \n",
    "Frac = MyFraction(1, 2) # create a MyFraction object\n",
    "f = Frac.compute_float() # call the compute_float method; we do not pass it any arguments\n",
    "print(f)"
   ]
  },
  {
   "cell_type": "markdown",
   "metadata": {
    "slideshow": {
     "slide_type": "slide"
    }
   },
   "source": [
    "# Class inheritance\n",
    "\n",
    "* Subclasses inherit the attributes and methods of their parent class (or superclass)\n",
    "* Changes to the subclass do not affect the superclass\n",
    "* The constructor of the subclass needs to call the constructor of the superclass"
   ]
  },
  {
   "cell_type": "code",
   "execution_count": 9,
   "metadata": {},
   "outputs": [
    {
     "name": "stdout",
     "output_type": "stream",
     "text": [
      "0.333\n"
     ]
    }
   ],
   "source": [
    "class NamedFraction(MyFraction):\n",
    "\n",
    "    def __init__(self, num, den, name):\n",
    "        super().__init__(num, den) # calling the constructor of the superclass MyFraction\n",
    "        self.name = name\n",
    "    \n",
    "    def sig_fig(self, n):  # add a new method to the subclass\n",
    "        return round(self.num / self.den, n)\n",
    "    \n",
    "N = NamedFraction(1, 3, 'One third')\n",
    "print(N.sig_fig(3))"
   ]
  },
  {
   "cell_type": "markdown",
   "metadata": {
    "slideshow": {
     "slide_type": "slide"
    }
   },
   "source": [
    "# Exercise\n",
    "\n",
    "1. Write a class called `Square` which takes as input the length of one side (which is stored as an attribute)\n",
    "2. Add a method to compute the area of the square.\n",
    "3. Create a second attribute for the area and have this automatically computed when objects of the class are created."
   ]
  },
  {
   "cell_type": "markdown",
   "metadata": {
    "slideshow": {
     "slide_type": "slide"
    }
   },
   "source": [
    "# Solution"
   ]
  },
  {
   "cell_type": "code",
   "execution_count": null,
   "metadata": {
    "slideshow": {
     "slide_type": "-"
    }
   },
   "outputs": [],
   "source": []
  },
  {
   "cell_type": "markdown",
   "metadata": {
    "slideshow": {
     "slide_type": "slide"
    }
   },
   "source": [
    "# File input and output\n",
    "\n",
    "Use `open`, `read`, `write`, and `close` for reading and writing external files\n",
    "\n",
    "Mode specifiers:\n",
    "\n",
    "| Mode | Operation |\n",
    "| :-: | :- |\n",
    "| r | Open a file to read.  File **must** exist |\n",
    "| w | Open a file to write to.  If file doesn't exist: create file.  If file exists: overwrite contents |\n",
    "| a | Open a file to write to.  If file doesn't exist: create file.  If file exists: append text to file |\n",
    "| r+ | Open a file to read or write to.  File **must** already exist; previous contents will be overwritten |\n",
    "| w+ | Open a file to read or write to.  If file doesn't exist: create file.  If file exists: overwrite contents |\n",
    "| a+ | Open a file to read or write to.  If file doesn't exist: create file.  If file exists: append contents |"
   ]
  },
  {
   "cell_type": "markdown",
   "metadata": {
    "slideshow": {
     "slide_type": "slide"
    }
   },
   "source": [
    "# File input and output examples"
   ]
  },
  {
   "cell_type": "code",
   "execution_count": 27,
   "metadata": {},
   "outputs": [],
   "source": [
    "# write Hello! in a file called new_file.txt\n",
    "file = open('new_file.txt', 'w')\n",
    "file.write('Hello!')\n",
    "file.close()"
   ]
  },
  {
   "cell_type": "code",
   "execution_count": 28,
   "metadata": {
    "slideshow": {
     "slide_type": "fragment"
    }
   },
   "outputs": [
    {
     "name": "stdout",
     "output_type": "stream",
     "text": [
      "['Mercury,', '3.7']\n",
      "['Venus,', '8.9']\n",
      "['Earth,', '9.8']\n",
      "['Mars,', '3.7']\n",
      "['Jupiter,', '25']\n",
      "['Saturn,', '10']\n",
      "['Uranus,', '8.9']\n",
      "['Neptune,', '11']\n"
     ]
    }
   ],
   "source": [
    "# load the contents of planets.txt\n",
    "file = open('planets.txt', 'r')\n",
    "for l in file:\n",
    "    print(l.split())\n",
    "    \n",
    "file.close()"
   ]
  },
  {
   "cell_type": "markdown",
   "metadata": {
    "slideshow": {
     "slide_type": "slide"
    }
   },
   "source": [
    "The end!"
   ]
  }
 ],
 "metadata": {
  "celltoolbar": "Slideshow",
  "kernelspec": {
   "display_name": "Python 3",
   "language": "python",
   "name": "python3"
  },
  "language_info": {
   "codemirror_mode": {
    "name": "ipython",
    "version": 3
   },
   "file_extension": ".py",
   "mimetype": "text/x-python",
   "name": "python",
   "nbconvert_exporter": "python",
   "pygments_lexer": "ipython3",
   "version": "3.8.10"
  }
 },
 "nbformat": 4,
 "nbformat_minor": 4
}
