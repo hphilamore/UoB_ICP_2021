{
 "cells": [
  {
   "cell_type": "markdown",
   "metadata": {},
   "source": [
    "# Week 5 - Classes\n",
    "\n",
    "## Exercise 1 - Classes in Python"
   ]
  },
  {
   "cell_type": "markdown",
   "metadata": {},
   "source": [
    "***\n",
    "**Question 1.**"
   ]
  },
  {
   "cell_type": "code",
   "execution_count": 21,
   "metadata": {},
   "outputs": [
    {
     "name": "stdout",
     "output_type": "stream",
     "text": [
      "This is an item\n"
     ]
    }
   ],
   "source": [
    "class Item():\n",
    "    def __init__(self):\n",
    "        print('This is an item')\n",
    "        \n",
    "Apple = Item()"
   ]
  },
  {
   "cell_type": "markdown",
   "metadata": {},
   "source": [
    "***\n",
    "**Question 2 and 3.**"
   ]
  },
  {
   "cell_type": "code",
   "execution_count": 22,
   "metadata": {},
   "outputs": [],
   "source": [
    "class Item():\n",
    "    def __init__(self, Description, Number, UnitPrice):\n",
    "        self.Description = Description\n",
    "        self.Number = Number\n",
    "        self.UnitPrice = UnitPrice\n",
    "        print('Created a new item: ', self.Description)"
   ]
  },
  {
   "cell_type": "markdown",
   "metadata": {},
   "source": [
    "***\n",
    "**Question 4.**"
   ]
  },
  {
   "cell_type": "code",
   "execution_count": 23,
   "metadata": {},
   "outputs": [
    {
     "name": "stdout",
     "output_type": "stream",
     "text": [
      "Created a new item:  Apple\n",
      "Apple 1 0.5\n"
     ]
    }
   ],
   "source": [
    "Apple = Item('Apple', 1, 0.5)\n",
    "print(Apple.Description, Apple.Number, Apple.UnitPrice)"
   ]
  },
  {
   "cell_type": "markdown",
   "metadata": {},
   "source": [
    "***\n",
    "**Question 5.**"
   ]
  },
  {
   "cell_type": "code",
   "execution_count": 24,
   "metadata": {},
   "outputs": [
    {
     "name": "stdout",
     "output_type": "stream",
     "text": [
      "Created a new item:  Apple\n",
      "Item description: Apple\n",
      "Item number: 1\n",
      "Item unit price: 0.5\n"
     ]
    }
   ],
   "source": [
    "class Item():\n",
    "    def __init__(self, Description, Number, UnitPrice):\n",
    "        self.Description = Description\n",
    "        self.Number = Number\n",
    "        self.UnitPrice = UnitPrice\n",
    "        print('Created a new item: ', self.Description)\n",
    "        \n",
    "    def PrintItemInfo(self):\n",
    "        print('Item description:', self.Description)\n",
    "        print('Item number:', self.Number)\n",
    "        print('Item unit price:', self.UnitPrice)\n",
    "        \n",
    "Apple = Item('Apple', 1, 0.5)\n",
    "Apple.PrintItemInfo()"
   ]
  },
  {
   "cell_type": "markdown",
   "metadata": {},
   "source": [
    "***\n",
    "**Question 6.**"
   ]
  },
  {
   "cell_type": "code",
   "execution_count": 26,
   "metadata": {},
   "outputs": [
    {
     "name": "stdout",
     "output_type": "stream",
     "text": [
      "Created a new item: Apple\n",
      "Created a new item: Orange\n",
      "Created a new item: Coffee\n",
      "Apple\n",
      "Orange\n",
      "Coffee\n"
     ]
    }
   ],
   "source": [
    "class Item():\n",
    "    def __init__(self, Description, Number, UnitPrice):\n",
    "        self.Description = Description\n",
    "        self.Number = Number\n",
    "        self.UnitPrice = UnitPrice\n",
    "        print('Created a new item:', self.Description)\n",
    "        \n",
    "    def PrintItemInfo(self):\n",
    "        print('Item description:', self.Description)\n",
    "        print('Item number:', self.Number)\n",
    "        print('Item unit price:', self.UnitPrice)\n",
    "        \n",
    "    def __str__(self):\n",
    "        return self.Description\n",
    "        \n",
    "# now to create the shopping list:\n",
    "Apple = Item('Apple', 1, 0.5)\n",
    "Orange = Item('Orange', 4, 1)\n",
    "Coffee = Item('Coffee', 1, 5)\n",
    "\n",
    "ShoppingList = [Apple, Orange, Coffee]\n",
    "\n",
    "for l in ShoppingList:\n",
    "    print(l)"
   ]
  },
  {
   "cell_type": "markdown",
   "metadata": {},
   "source": [
    "***\n",
    "**Question**"
   ]
  },
  {
   "cell_type": "code",
   "execution_count": 27,
   "metadata": {},
   "outputs": [
    {
     "name": "stdout",
     "output_type": "stream",
     "text": [
      "Item description: Apple\n",
      "Item number: 1\n",
      "Item unit price: 0.5\n",
      "Item description: Orange\n",
      "Item number: 4\n",
      "Item unit price: 1\n",
      "Item description: Coffee\n",
      "Item number: 1\n",
      "Item unit price: 5\n",
      "The total price is: 5\n"
     ]
    }
   ],
   "source": [
    "total_price = 0\n",
    "for l in ShoppingList:\n",
    "    l.PrintItemInfo()\n",
    "    total_price = l.Number * l.UnitPrice\n",
    "    \n",
    "print('The total price is:', total_price)"
   ]
  },
  {
   "cell_type": "markdown",
   "metadata": {},
   "source": [
    "## Exercise 2 - Inheritance"
   ]
  },
  {
   "cell_type": "markdown",
   "metadata": {},
   "source": [
    "***\n",
    "**Question 1.**"
   ]
  },
  {
   "cell_type": "code",
   "execution_count": 31,
   "metadata": {},
   "outputs": [],
   "source": [
    "class SpecialItem(Item):\n",
    "    def __init__(self, Description, Number, UnitPrice, SpecialInfo):\n",
    "        super.__init__(Description, Number, UnitPrice)\n",
    "        self.SpecialInfo = SpecialInfo"
   ]
  },
  {
   "cell_type": "markdown",
   "metadata": {},
   "source": [
    "***\n",
    "**Question 2 and 3.**"
   ]
  },
  {
   "cell_type": "code",
   "execution_count": 44,
   "metadata": {},
   "outputs": [],
   "source": [
    "class SpecialItem(Item):\n",
    "    def __init__(self, Description, Number, UnitPrice, SpecialInfo):\n",
    "        super().__init__(Description, Number, UnitPrice)\n",
    "        self.SpecialInfo = SpecialInfo\n",
    "        \n",
    "    def __str__(self):\n",
    "        return self.Description + ': ' + self.SpecialInfo\n",
    "        \n",
    "    def PrintItemInfo(self):\n",
    "        print('Item description:', self.Description)\n",
    "        print('Item number:', self.Number)\n",
    "        print('Item unit price:', self.UnitPrice)\n",
    "        print('Special info:', self.SpecialInfo)\n",
    "\n"
   ]
  },
  {
   "cell_type": "markdown",
   "metadata": {},
   "source": [
    "***\n",
    "**Question 4.**"
   ]
  },
  {
   "cell_type": "code",
   "execution_count": 48,
   "metadata": {},
   "outputs": [
    {
     "name": "stdout",
     "output_type": "stream",
     "text": [
      "Created a new item: Paracetamol\n",
      "Paracetamol: Take two tablets every six hours\n",
      "------\n",
      "Item description: Paracetamol\n",
      "Item number: 1\n",
      "Item unit price: 0.5\n",
      "Special info: Take two tablets every six hours\n",
      "------\n",
      "Item description: Apple\n",
      "Item number: 1\n",
      "Item unit price: 0.5\n"
     ]
    }
   ],
   "source": [
    "Paracetamol = SpecialItem('Paracetamol', 1, 0.5, 'Take two tablets every six hours')\n",
    "\n",
    "print(Paracetamol)\n",
    "print('------')\n",
    "\n",
    "Paracetamol.PrintItemInfo()\n",
    "print('------')\n",
    "\n",
    "Apple.PrintItemInfo()"
   ]
  },
  {
   "cell_type": "markdown",
   "metadata": {},
   "source": [
    "## Exercise 3 - Vectors"
   ]
  },
  {
   "cell_type": "markdown",
   "metadata": {},
   "source": [
    "***\n",
    "**Question**"
   ]
  },
  {
   "cell_type": "code",
   "execution_count": 50,
   "metadata": {},
   "outputs": [
    {
     "data": {
      "text/plain": [
       "10.0"
      ]
     },
     "execution_count": 50,
     "metadata": {},
     "output_type": "execute_result"
    }
   ],
   "source": [
    "from math import *\n",
    "\n",
    "sqrt(100)"
   ]
  },
  {
   "cell_type": "markdown",
   "metadata": {},
   "source": [
    "***\n",
    "**Question**"
   ]
  },
  {
   "cell_type": "code",
   "execution_count": 97,
   "metadata": {},
   "outputs": [
    {
     "name": "stdout",
     "output_type": "stream",
     "text": [
      "<1,3,2>\n",
      "<6,3,3>\n",
      "<2.0,6.0,4.0>\n"
     ]
    }
   ],
   "source": [
    "class Vector():\n",
    "    def __init__(self, x, y, z):\n",
    "        self.x = x\n",
    "        self.y = y\n",
    "        self.z = z\n",
    "        \n",
    "    def __str__(self):\n",
    "        return '<'+ str(self.x) + ',' + str(self.y) + ',' + str(self.z) + '>'\n",
    "        \n",
    "    def __add__(self, other):\n",
    "        return Vector(self.x + other.x, self.y + other.y, self.z + other.z)\n",
    "    \n",
    "    def __mul__(self, other):\n",
    "        if type(other) == float:\n",
    "            return Vector(self.x * other, self.y * other, self.z * other)\n",
    "        elif type(other == Vector):\n",
    "            return self.x * other.x + self.y * other.y + self.z * other.z\n",
    "        \n",
    "    def __rmul__(self, other):\n",
    "        if type(other) == float:\n",
    "            return self * other\n",
    "        \n",
    "    \n",
    "v = Vector(1, 3, 2)\n",
    "print(v)\n",
    "\n",
    "w = Vector(5, 0, 1)\n",
    "\n",
    "print(v + w)\n",
    "\n",
    "print(v * 2.0)"
   ]
  },
  {
   "cell_type": "markdown",
   "metadata": {},
   "source": [
    "***\n",
    "**Question**"
   ]
  },
  {
   "cell_type": "code",
   "execution_count": null,
   "metadata": {},
   "outputs": [],
   "source": []
  },
  {
   "cell_type": "markdown",
   "metadata": {},
   "source": [
    "***\n",
    "**Question**"
   ]
  },
  {
   "cell_type": "code",
   "execution_count": null,
   "metadata": {},
   "outputs": [],
   "source": []
  },
  {
   "cell_type": "markdown",
   "metadata": {},
   "source": [
    "***\n",
    "**Question**"
   ]
  },
  {
   "cell_type": "code",
   "execution_count": null,
   "metadata": {},
   "outputs": [],
   "source": []
  },
  {
   "cell_type": "markdown",
   "metadata": {},
   "source": [
    "***\n",
    "**Question**"
   ]
  },
  {
   "cell_type": "code",
   "execution_count": null,
   "metadata": {},
   "outputs": [],
   "source": []
  },
  {
   "cell_type": "markdown",
   "metadata": {},
   "source": [
    "***\n",
    "**Question**"
   ]
  },
  {
   "cell_type": "code",
   "execution_count": null,
   "metadata": {},
   "outputs": [],
   "source": []
  },
  {
   "cell_type": "markdown",
   "metadata": {},
   "source": [
    "***\n",
    "**Question**"
   ]
  },
  {
   "cell_type": "code",
   "execution_count": null,
   "metadata": {},
   "outputs": [],
   "source": []
  }
 ],
 "metadata": {
  "kernelspec": {
   "display_name": "Python 3",
   "language": "python",
   "name": "python3"
  },
  "language_info": {
   "codemirror_mode": {
    "name": "ipython",
    "version": 3
   },
   "file_extension": ".py",
   "mimetype": "text/x-python",
   "name": "python",
   "nbconvert_exporter": "python",
   "pygments_lexer": "ipython3",
   "version": "3.8.10"
  }
 },
 "nbformat": 4,
 "nbformat_minor": 4
}
