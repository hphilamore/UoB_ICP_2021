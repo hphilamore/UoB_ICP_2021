{
 "cells": [
  {
   "cell_type": "markdown",
   "id": "094d8920",
   "metadata": {
    "slideshow": {
     "slide_type": "slide"
    }
   },
   "source": [
    "# Introduction to Computer Programming\n",
    "\n",
    "## Week 8.1: Matplotlib - Plotting \n",
    "\n",
    "* * *\n",
    "\n",
    "<img src=\"img/full-colour-logo-UoB.png\" alt=\"Bristol\" style=\"width: 300px;\"/>"
   ]
  },
  {
   "cell_type": "markdown",
   "id": "b19803af",
   "metadata": {},
   "source": [
    "__Matplotlib__ is a large and versatile package for visualising data.\n",
    "\n",
    "It is useful for creating graphs and plots"
   ]
  },
  {
   "cell_type": "markdown",
   "id": "4a6dfded",
   "metadata": {
    "slideshow": {
     "slide_type": "slide"
    }
   },
   "source": [
    "To display plots created using Matplotlib in Jupyter Notebook, the following line of code must be run in the notebook *before* generating the plot:"
   ]
  },
  {
   "cell_type": "code",
   "execution_count": 1,
   "id": "6d5b5c95",
   "metadata": {
    "slideshow": {
     "slide_type": "-"
    }
   },
   "outputs": [],
   "source": [
    "%matplotlib inline"
   ]
  },
  {
   "cell_type": "markdown",
   "id": "c9ce4fa9",
   "metadata": {
    "slideshow": {
     "slide_type": "slide"
    }
   },
   "source": [
    "To display plots when running a .py file (e.g. in Spyder), the following line must appear in the programme *after* generating the plot:"
   ]
  },
  {
   "cell_type": "code",
   "execution_count": 2,
   "id": "0e16b599",
   "metadata": {
    "slideshow": {
     "slide_type": "-"
    }
   },
   "outputs": [
    {
     "ename": "NameError",
     "evalue": "name 'plt' is not defined",
     "output_type": "error",
     "traceback": [
      "\u001b[1;31m---------------------------------------------------------------------------\u001b[0m",
      "\u001b[1;31mNameError\u001b[0m                                 Traceback (most recent call last)",
      "\u001b[1;32m<ipython-input-2-1eb00ff78cf2>\u001b[0m in \u001b[0;36m<module>\u001b[1;34m\u001b[0m\n\u001b[1;32m----> 1\u001b[1;33m \u001b[0mplt\u001b[0m\u001b[1;33m.\u001b[0m\u001b[0mshow\u001b[0m\u001b[1;33m(\u001b[0m\u001b[1;33m)\u001b[0m\u001b[1;33m\u001b[0m\u001b[1;33m\u001b[0m\u001b[0m\n\u001b[0m",
      "\u001b[1;31mNameError\u001b[0m: name 'plt' is not defined"
     ]
    }
   ],
   "source": [
    "plt.show()"
   ]
  },
  {
   "cell_type": "markdown",
   "id": "17c09f85",
   "metadata": {
    "collapsed": true,
    "slideshow": {
     "slide_type": "slide"
    }
   },
   "source": [
    "# 03 Plotting and Analysing\n",
    "## CLASS MATERIAL\n",
    "\n",
    "<br> <a href='#Matplotlib'>1. Matplotlib</a>\n",
    "<br> <a href='#Scipy'>2. Scipy</a> \n",
    "<br> <a href='#ImportingDataDelimitedFiles'>3. Importing Data from Delimited Files</a> \n",
    "<br> <a href='#CurveFitting'>4. Curve Fitting</a> \n",
    "<br><a href='#Interpolation'>5. Interpolation</a>\n",
    "<br> <a href='#BarChartsHistograms'>6. Bar Charts and Histograms</a> \n",
    "<br> <a href='#ReviewExercises'>7. Review Exercises</a>"
   ]
  },
  {
   "cell_type": "code",
   "execution_count": 3,
   "id": "8c9b3597",
   "metadata": {
    "slideshow": {
     "slide_type": "slide"
    }
   },
   "outputs": [],
   "source": [
    "import numpy as np\n",
    "\n",
    "# plotting\n",
    "import matplotlib.pyplot as plt"
   ]
  },
  {
   "cell_type": "markdown",
   "id": "a3081411",
   "metadata": {
    "slideshow": {
     "slide_type": "slide"
    }
   },
   "source": [
    "<a id='LineScatterPlots'></a>\n",
    "# Line and Scatter Plots\n",
    "A sample data set: $x$ with corresponding values of $f$:"
   ]
  },
  {
   "cell_type": "code",
   "execution_count": 4,
   "id": "55186a9b",
   "metadata": {},
   "outputs": [],
   "source": [
    "x = [-1, 3, 4, 8 , 10]\n",
    "f = [-1, -2, 7, 13 , 1]"
   ]
  },
  {
   "cell_type": "markdown",
   "id": "dd1500b3",
   "metadata": {},
   "source": [
    "Line plot"
   ]
  },
  {
   "cell_type": "code",
   "execution_count": 3,
   "id": "eb03e339",
   "metadata": {
    "slideshow": {
     "slide_type": "slide"
    }
   },
   "outputs": [
    {
     "data": {
      "text/plain": [
       "[<matplotlib.lines.Line2D at 0x115681210>]"
      ]
     },
     "execution_count": 3,
     "metadata": {},
     "output_type": "execute_result"
    },
    {
     "data": {
      "image/png": "[encoded data removed]",
      "text/plain": [
       "<Figure size 432x288 with 1 Axes>"
      ]
     },
     "metadata": {
      "needs_background": "light"
     },
     "output_type": "display_data"
    }
   ],
   "source": [
    "plt.plot(x, f)"
   ]
  },
  {
   "cell_type": "markdown",
   "id": "27f42825",
   "metadata": {
    "slideshow": {
     "slide_type": "slide"
    }
   },
   "source": [
    "Printing the statement with format `[<matplotlib.lines.Line2D at 0x30990b0>]` appears each time (the numbers on your computer may look different) can be avoided by including a semicolon after the `plot` function.\n",
    "\n",
    "    `plot(x, y);`"
   ]
  },
  {
   "cell_type": "markdown",
   "id": "466b44e3",
   "metadata": {
    "slideshow": {
     "slide_type": "slide"
    }
   },
   "source": [
    "__Format string:__ and optional but bonvenient way for defining basic formatting:\n",
    " - the colour of the plot (e.g. `r` = red, `k`= black)<br>https://matplotlib.org/2.0.2/api/colors_api.html \n",
    " - the style of the markers (e.g. `o` = points, `*` = stars)<br>  https://matplotlib.org/api/markers_api.html\n",
    " - the style of the line (e.g. `--` = dashes, `.` = dots) <br>https://matplotlib.org/devdocs/gallery/lines_bars_and_markers/line_styles_reference.html"
   ]
  },
  {
   "cell_type": "code",
   "execution_count": 13,
   "id": "413c595f",
   "metadata": {
    "slideshow": {
     "slide_type": "slide"
    }
   },
   "outputs": [
    {
     "data": {
      "image/png": "[encoded data removed]",
      "text/plain": [
       "<Figure size 432x288 with 1 Axes>"
      ]
     },
     "metadata": {
      "needs_background": "light"
     },
     "output_type": "display_data"
    }
   ],
   "source": [
    "plt.plot(x, f, 'or'); # scatter, o markers, red"
   ]
  },
  {
   "cell_type": "code",
   "execution_count": 16,
   "id": "4b053e46",
   "metadata": {
    "scrolled": true,
    "slideshow": {
     "slide_type": "slide"
    }
   },
   "outputs": [
    {
     "data": {
      "image/png": "[encoded data removed]",
      "text/plain": [
       "<Figure size 432x288 with 1 Axes>"
      ]
     },
     "metadata": {
      "needs_background": "light"
     },
     "output_type": "display_data"
    }
   ],
   "source": [
    "#plt.plot(x, f, '--og');  \n",
    "plt.plot(x, f, '--og');  \n",
    "#plt.plot(x, f, 'ro'); \n",
    "plt.plot(x, f, 'k.'); \n",
    "\n",
    "# Axis labels\n",
    "plt.xlabel('x data');\n",
    "plt.ylabel('y data');"
   ]
  },
  {
   "cell_type": "markdown",
   "id": "cac6b3f7",
   "metadata": {
    "slideshow": {
     "slide_type": "slide"
    }
   },
   "source": [
    "<a id='BarCharts'></a>     \n",
    "# Bar Charts\n",
    "\n",
    "Steps to create a bar chart:\n",
    "1. Create a numpy array with the same number of positions as bars\n",
    "1. Generate bar chart\n",
    "1. Replace x ticks with field name\n",
    "1. Add axis labels"
   ]
  },
  {
   "cell_type": "code",
   "execution_count": 17,
   "id": "04d0892a",
   "metadata": {
    "slideshow": {
     "slide_type": "slide"
    }
   },
   "outputs": [],
   "source": [
    "#sample data\n",
    "groups = ('A', 'B', 'C', 'D', 'E')\n",
    "num_students = (500, 332, 425, 300, 200)"
   ]
  },
  {
   "cell_type": "code",
   "execution_count": 19,
   "id": "d2b85965",
   "metadata": {
    "slideshow": {
     "slide_type": "-"
    }
   },
   "outputs": [
    {
     "data": {
      "image/png": "[encoded data removed]",
      "text/plain": [
       "<Figure size 432x288 with 1 Axes>"
      ]
     },
     "metadata": {
      "needs_background": "light"
     },
     "output_type": "display_data"
    }
   ],
   "source": [
    "# 1. Create a numpy array with the same number of positions as bars\n",
    "x_pos = np.arange(len(groups))\n",
    "\n",
    "# 2. Generate bar chart\n",
    "plt.bar(x_pos, num_students);\n",
    "\n",
    "# 3. Replace x ticks with field name\n",
    "# (Rotate labels 30 degrees)\n",
    "plt.xticks(x_pos, groups, rotation=30);\n",
    "\n",
    "# 4. Add axis labels \n",
    "plt.xlabel('year group');\n",
    "plt.ylabel('number of students');"
   ]
  },
  {
   "cell_type": "markdown",
   "id": "22ebaae7",
   "metadata": {
    "slideshow": {
     "slide_type": "slide"
    }
   },
   "source": [
    "<a id='Histograms'></a>\n",
    "# Histograms\n",
    "\n",
    "We can visualise the distribution values using a histogram.\n",
    "\n",
    "In a histogram, data is sorted into intervals (bins) along one axis.  \n",
    "\n",
    "The number of values that fall within a 'bin' is then displayed on the perpendicular axis."
   ]
  },
  {
   "cell_type": "markdown",
   "id": "7f873960",
   "metadata": {},
   "source": [
    "Example data set "
   ]
  },
  {
   "cell_type": "code",
   "execution_count": 22,
   "id": "7020462a",
   "metadata": {
    "slideshow": {
     "slide_type": "slide"
    }
   },
   "outputs": [],
   "source": [
    "# 4000 random values (size)\n",
    "# normal (Gaussian) distribution (bell curve) \n",
    "# mean = 0 (loc)\n",
    "# standard deviation = 1 (scale)\n",
    "\n",
    "x = np.random.normal(loc=0.0, scale=1.0, size=4000)  \n"
   ]
  },
  {
   "cell_type": "markdown",
   "id": "85f2786d",
   "metadata": {
    "slideshow": {
     "slide_type": "slide"
    }
   },
   "source": [
    "We can visualise how `x` is distributed, using 20 bins. \n",
    "\n",
    "Matplotlib creates 20 bins of equal width, and computes the number of entries in each bin. "
   ]
  },
  {
   "cell_type": "code",
   "execution_count": 27,
   "id": "42da7714",
   "metadata": {},
   "outputs": [
    {
     "data": {
      "text/plain": [
       "Text(0, 0.5, 'frequency')"
      ]
     },
     "execution_count": 27,
     "metadata": {},
     "output_type": "execute_result"
    },
    {
     "data": {
      "image/png": "[encoded data removed]",
      "text/plain": [
       "<Figure size 432x288 with 1 Axes>"
      ]
     },
     "metadata": {
      "needs_background": "light"
     },
     "output_type": "display_data"
    }
   ],
   "source": [
    "# Produce histogram with 20 bins\n",
    "plt.hist(x, 20, facecolor='green');\n",
    "\n",
    "# Add label\n",
    "plt.xlabel('value')\n",
    "plt.ylabel('frequency')"
   ]
  },
  {
   "cell_type": "markdown",
   "id": "8fc70f86",
   "metadata": {
    "slideshow": {
     "slide_type": "slide"
    }
   },
   "source": [
    "Generating the histogram returns 3 values:\n",
    "- value of bins\n",
    "- edges of bins \n",
    "- graphical data for constructing histogram"
   ]
  },
  {
   "cell_type": "code",
   "execution_count": 32,
   "id": "69e68714",
   "metadata": {
    "slideshow": {
     "slide_type": "slide"
    }
   },
   "outputs": [
    {
     "name": "stdout",
     "output_type": "stream",
     "text": [
      "[  6.   9.  31.  41. 107. 167. 260. 409. 487. 513. 492. 479. 375. 251.\n",
      " 181.  92.  59.  25.  10.   6.]\n"
     ]
    },
    {
     "data": {
      "image/png": "[encoded data removed]",
      "text/plain": [
       "<Figure size 432x288 with 1 Axes>"
      ]
     },
     "metadata": {
      "needs_background": "light"
     },
     "output_type": "display_data"
    }
   ],
   "source": [
    "n, edges, patches = plt.hist(x, 20, facecolor='green');\n",
    "\n",
    "print(n) \n"
   ]
  },
  {
   "cell_type": "markdown",
   "id": "f3f5af3d",
   "metadata": {},
   "source": [
    "# Subplots\n",
    "Multiple plots can be included in the same figure using `sublplot`.\n",
    "\n",
    "`subplot(nrows, ncols, index)`"
   ]
  },
  {
   "cell_type": "code",
   "execution_count": 6,
   "id": "11b34fae",
   "metadata": {},
   "outputs": [
    {
     "data": {
      "text/plain": [
       "[<matplotlib.lines.Line2D at 0x11667bd10>]"
      ]
     },
     "execution_count": 6,
     "metadata": {},
     "output_type": "execute_result"
    },
    {
     "data": {
      "image/png": "[encoded data removed]",
      "text/plain": [
       "<Figure size 432x288 with 2 Axes>"
      ]
     },
     "metadata": {
      "needs_background": "light"
     },
     "output_type": "display_data"
    }
   ],
   "source": [
    "plt.subplot(211)    # 2 rows, 1 column, index 1\n",
    "plt.plot(x, f, 'r')\n",
    "\n",
    "plt.subplot(212)    # 2 rows, 1 column, index 2\n",
    "plt.plot(x, f, 'b--')"
   ]
  },
  {
   "cell_type": "code",
   "execution_count": 7,
   "id": "c1817b4e",
   "metadata": {
    "scrolled": true
   },
   "outputs": [
    {
     "data": {
      "text/plain": [
       "[<matplotlib.lines.Line2D at 0x11681d950>]"
      ]
     },
     "execution_count": 7,
     "metadata": {},
     "output_type": "execute_result"
    },
    {
     "data": {
      "image/png": "[encoded data removed]",
      "text/plain": [
       "<Figure size 432x288 with 4 Axes>"
      ]
     },
     "metadata": {
      "needs_background": "light"
     },
     "output_type": "display_data"
    }
   ],
   "source": [
    "plt.subplot(221)    # 2 rows, 2 columns, index 1\n",
    "plt.plot(x, f, 'r')\n",
    "\n",
    "plt.subplot(222)    # 2 rows, 2 columns, index 2\n",
    "plt.plot(x, f, 'b')\n",
    "\n",
    "plt.subplot(223)    # 2 rows, 2 columns, index 3\n",
    "plt.plot(x, f, 'r--')\n",
    "\n",
    "plt.subplot(224)    # 2 rows, 2 columns, index 4\n",
    "plt.plot(x, f, 'b--')"
   ]
  },
  {
   "cell_type": "markdown",
   "id": "3997a8d8",
   "metadata": {},
   "source": [
    "# Saving plots\n",
    "Plots can be saved in widely used formats (.png, .pdf etc) specified using the file name extension:"
   ]
  },
  {
   "cell_type": "code",
   "execution_count": 59,
   "id": "083e3f45",
   "metadata": {},
   "outputs": [
    {
     "data": {
      "text/plain": [
       "<Figure size 432x288 with 0 Axes>"
      ]
     },
     "metadata": {},
     "output_type": "display_data"
    }
   ],
   "source": [
    "plt.savefig('img/four_plots.png');"
   ]
  },
  {
   "cell_type": "markdown",
   "id": "8c6134fd",
   "metadata": {
    "collapsed": true,
    "slideshow": {
     "slide_type": "slide"
    }
   },
   "source": [
    "<a id='ImportingDataDelimitedFiles'></a>\n",
    "# Importing Data with Numpy"
   ]
  },
  {
   "cell_type": "markdown",
   "id": "adc783e8",
   "metadata": {
    "slideshow": {
     "slide_type": "slide"
    }
   },
   "source": [
    "`numpy.loadtxt` can be used to import data form delimied text files.\n",
    "<br>The user can specify paramters including:\n",
    "- __delimiter__ (default = whitespace) \n",
    "- __data type__ (default = float) : <br>If data contains items that cannot be expressed as a float, importing will cause an error unless the data-type is specified.<br>Mixed data types can be imported as `string` values."
   ]
  },
  {
   "cell_type": "markdown",
   "id": "17e66a7a",
   "metadata": {},
   "source": [
    "__Example:__ Import data from `sample_data/data.dat`\n",
    "\n",
    "- __delimiter__ : whitespace \n",
    "- __data type__ : float\n",
    "\n",
    ">`0.000 1.053 2.105 3.158 4.211\n",
    "74.452 48.348 68.733 59.796 54.123`"
   ]
  },
  {
   "cell_type": "code",
   "execution_count": 34,
   "id": "1a6e502a",
   "metadata": {
    "slideshow": {
     "slide_type": "slide"
    }
   },
   "outputs": [
    {
     "name": "stdout",
     "output_type": "stream",
     "text": [
      "[[ 1.053  2.105  3.158  4.211  6.065]\n",
      " [48.348 68.733 59.796 54.123 74.452]]\n",
      "2.105\n"
     ]
    }
   ],
   "source": [
    "A = np.loadtxt('sample_data/sample_data.dat')\n",
    "\n",
    "print(A)       # stored as numpy array\n",
    "\n",
    "print(A[0][1]) # individual elements can be addressed "
   ]
  },
  {
   "cell_type": "markdown",
   "id": "6493e78d",
   "metadata": {
    "slideshow": {
     "slide_type": "slide"
    }
   },
   "source": [
    "__Example:__ Import data from `sample_data/sample_student_data.txt`:\n",
    "- __delimiter__ : tab (`/t`) or whitespace\n",
    "- __data type__ : string (float in some columns)\n",
    "\n",
    "\n",
    "```Python\n",
    "Subject\tSex\tDOB\tHeight\tWeight\tBP\n",
    "(ID)\tM/F\tdd/mm/yy\tm\tkg\tmmHg\n",
    "JW-1\tM\t19/12/1995\t1.82\t92.4\t119/76\n",
    "JW-2\tM\t11/01/1996\t1.77\t80.9\t114/73\n",
    "JW-3\tF\t02/10/1995\t1.68\t69.7\t124/79\n",
    "JW-6\tM\t06/07/1995\t1.72\t75.5\t110/60\n",
    "JW-7\tF\t28/03/1996\t1.66\t72.4\t-\n",
    "JW-9\tF\t11/12/1995\t1.78\t82.1\t115/75\n",
    "...\n",
    "```"
   ]
  },
  {
   "cell_type": "code",
   "execution_count": 40,
   "id": "f567c85d",
   "metadata": {
    "slideshow": {
     "slide_type": "slide"
    }
   },
   "outputs": [
    {
     "data": {
      "text/plain": [
       "array([['Student', 'Sex', 'DOB', 'Height', 'Weight', 'BP'],\n",
       "       ['(ID)', 'M/F', 'dd/mm/yy', 'm', 'kg', 'mmHg'],\n",
       "       ['JW-1', 'M', '19/12/1995', '1.82', '92.4', '119/76'],\n",
       "       ['JW-2', 'M', '11/01/1996', '1.77', '80.9', '114/73'],\n",
       "       ['JW-3', 'F', '02/10/1995', '1.68', '69.7', '124/79'],\n",
       "       ['JW-4', 'M', '11/01/1996', '1.77', '80.9', '114/73'],\n",
       "       ['JW-5', 'F', '02/10/1995', '1.68', '69.7', '124/79'],\n",
       "       ['JW-6', 'M', '06/07/1995', '1.72', '75.5', '110/60'],\n",
       "       ['JW-7', 'F', '28/03/1996', '1.66', '72.4', '-'],\n",
       "       ['JW-9', 'F', '11/12/1995', '1.78', '82.1', '115/75'],\n",
       "       ['JW-10', 'F', '07/04/1996', '1.6', '45', '-/-'],\n",
       "       ['JW-11', 'M', '22/08/1995', '1.72', '77.2', '97/63'],\n",
       "       ['JW-12', 'M', '23/05/1996', '1.83', '88.9', '105/70'],\n",
       "       ['JW-14', 'F', '12/01/1996', '1.56', '56.3', '108/72'],\n",
       "       ['JW-15', 'F', '01/06/1996', '1.64', '65', '99/67'],\n",
       "       ['JW-16', 'M', '10/09/1995', '1.63', '73', '131/84'],\n",
       "       ['JW-17', 'M', '17/02/1996', '1.67', '89.8', '101/76'],\n",
       "       ['JW-18', 'M', '31/07/1996', '1.66', '75.1', '-/-'],\n",
       "       ['JW-19', 'F', '30/10/1995', '1.59', '67.3', '103/69'],\n",
       "       ['JW-22', 'F', '09/03/1996', '1.7', '45', '119/80'],\n",
       "       ['JW-23', 'M', '15/05/1995', '1.97', '89.2', '124/82'],\n",
       "       ['JW-24', 'F', '01/12/1995', '1.66', '63.8', '100/78'],\n",
       "       ['JW-25', 'F', '25/10/1995', '1.63', '64.4', '-/-'],\n",
       "       ['JW-26', 'M', '17/04/1996', '1.69', '55', '121/82']], dtype='<U10')"
      ]
     },
     "execution_count": 40,
     "metadata": {},
     "output_type": "execute_result"
    }
   ],
   "source": [
    "np.loadtxt('sample_data/sample_student_data.txt', dtype=str)"
   ]
  },
  {
   "cell_type": "markdown",
   "id": "e4b0023b",
   "metadata": {
    "slideshow": {
     "slide_type": "slide"
    }
   },
   "source": [
    "Regions can be selected, for example to select only numerical data. \n",
    "\n",
    "`skiprows` skips the first n lines. \n",
    "\n",
    "`usecols` specifies which columns to read (numbering starts at 0) \n",
    "- `usecols = (1, 4, 5)` : extracts the 2nd, 5th and 6th columns.\n",
    "- `usecols = (3, 4)` : extracts the 4th and 5th columns (height and weight data)."
   ]
  },
  {
   "cell_type": "code",
   "execution_count": 42,
   "id": "590a2a25",
   "metadata": {
    "slideshow": {
     "slide_type": "slide"
    }
   },
   "outputs": [
    {
     "name": "stdout",
     "output_type": "stream",
     "text": [
      "[[ 1.63 73.  ]\n",
      " [ 1.67 89.8 ]\n",
      " [ 1.66 75.1 ]\n",
      " [ 1.59 67.3 ]\n",
      " [ 1.7  45.  ]\n",
      " [ 1.97 89.2 ]\n",
      " [ 1.66 63.8 ]\n",
      " [ 1.63 64.4 ]\n",
      " [ 1.69 55.  ]]\n"
     ]
    }
   ],
   "source": [
    "students = np.loadtxt('sample_data/sample_student_data.txt', \n",
    "                      skiprows=15, \n",
    "                      usecols=(3,4))\n",
    "print(students)"
   ]
  },
  {
   "cell_type": "markdown",
   "id": "016f31c9",
   "metadata": {
    "slideshow": {
     "slide_type": "slide"
    }
   },
   "source": [
    "You can now use the imported data as a regular Numpy array of numerical values.\n",
    "\n"
   ]
  },
  {
   "cell_type": "code",
   "execution_count": 46,
   "id": "311b9c72",
   "metadata": {
    "scrolled": true,
    "slideshow": {
     "slide_type": "slide"
    }
   },
   "outputs": [
    {
     "data": {
      "image/png": "[encoded data removed]",
      "text/plain": [
       "<Figure size 432x288 with 1 Axes>"
      ]
     },
     "metadata": {
      "needs_background": "light"
     },
     "output_type": "display_data"
    }
   ],
   "source": [
    "# Use indexing to select which ROWS and which COLUMNS to plot\n",
    "plt.plot(students[:, 0], students[:, 1], 'rx', label=\"students\")\n",
    "\n",
    "# Legend\n",
    "plt.legend(loc='best', fontsize=12)\n",
    "\n",
    "# Axes labels\n",
    "plt.xlabel('Height (m)', fontsize=12)\n",
    "plt.ylabel('Weight (kg)', fontsize=12)\n",
    "\n",
    "# Title\n",
    "plt.title(\"Height-weight relationship for students in class A\", fontsize=14);"
   ]
  },
  {
   "cell_type": "code",
   "execution_count": 55,
   "id": "914d24dd",
   "metadata": {},
   "outputs": [
    {
     "name": "stdout",
     "output_type": "stream",
     "text": [
      "[['JW-3' 'F' '02/10/1995' '1.68' '69.7' '124/79']\n",
      " ['JW-5' 'F' '02/10/1995' '1.68' '69.7' '124/79']\n",
      " ['JW-7' 'F' '28/03/1996' '1.66' '72.4' '-']\n",
      " ['JW-9' 'F' '11/12/1995' '1.78' '82.1' '115/75']\n",
      " ['JW-10' 'F' '07/04/1996' '1.6' '45' '-/-']\n",
      " ['JW-14' 'F' '12/01/1996' '1.56' '56.3' '108/72']\n",
      " ['JW-15' 'F' '01/06/1996' '1.64' '65' '99/67']\n",
      " ['JW-19' 'F' '30/10/1995' '1.59' '67.3' '103/69']\n",
      " ['JW-22' 'F' '09/03/1996' '1.7' '45' '119/80']\n",
      " ['JW-24' 'F' '01/12/1995' '1.66' '63.8' '100/78']\n",
      " ['JW-25' 'F' '25/10/1995' '1.63' '64.4' '-/-']]\n"
     ]
    }
   ],
   "source": [
    "students = np.loadtxt('sample_data/sample_student_data.txt', dtype=str)\n",
    "\n",
    "# all rows, where element 1 == F\n",
    "female = students[students[:,1]=='F']\n",
    "\n",
    "print(female)"
   ]
  },
  {
   "cell_type": "code",
   "execution_count": null,
   "id": "282bfca7",
   "metadata": {},
   "outputs": [],
   "source": []
  }
 ],
 "metadata": {
  "kernelspec": {
   "display_name": "Python 3",
   "language": "python",
   "name": "python3"
  },
  "language_info": {
   "codemirror_mode": {
    "name": "ipython",
    "version": 3
   },
   "file_extension": ".py",
   "mimetype": "text/x-python",
   "name": "python",
   "nbconvert_exporter": "python",
   "pygments_lexer": "ipython3",
   "version": "3.8.8"
  }
 },
 "nbformat": 4,
 "nbformat_minor": 5
}
