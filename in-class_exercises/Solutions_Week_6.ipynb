{
 "cells": [
  {
   "cell_type": "markdown",
   "metadata": {},
   "source": [
    "# Week 6 (Week 7 on BB) File I/O and program arguments\n",
    "## Part 1 File I/O\n",
    "## Exercise 1 - File input and output\n",
    "### 1,2\n",
    "Using the open method, the file HighScoreList.txt is opened in read mode. <br>\n",
    "The file is composed of line which we can iterate through to store the data either in a dictionary or an array"
   ]
  },
  {
   "cell_type": "code",
   "execution_count": 1,
   "metadata": {},
   "outputs": [],
   "source": [
    "\n",
    "HighScoreTxt = open(\"HighScoreList.txt\",\"r\")"
   ]
  },
  {
   "cell_type": "code",
   "execution_count": 2,
   "metadata": {},
   "outputs": [
    {
     "name": "stdout",
     "output_type": "stream",
     "text": [
      "[[575, 'Mit Hobson'], [500, 'Janice Waterfell'], [450, 'Tony Robber'], [350, 'Clark Kent'], [180, 'James Hunter']]\n",
      "{'Mit Hobson': 575, 'Janice Waterfell': 500, 'Tony Robber': 450, 'Clark Kent': 350, 'James Hunter': 180}\n"
     ]
    }
   ],
   "source": [
    "HighScoreTable = []\n",
    "HighScoreDict = {}\n",
    "for Line in  HighScoreTxt:\n",
    "    if(Line != None):\n",
    "        Data = Line.split(',') # splits data at the comma \n",
    "        HighScoreTable.append([int(Data[0]),Data[1].replace(\"\\n\",\"\")])\n",
    "        HighScoreDict[Data[1].replace(\"\\n\",\"\")] = int(Data[0])\n",
    "print(HighScoreTable)\n",
    "print(HighScoreDict)"
   ]
  },
  {
   "cell_type": "markdown",
   "metadata": {},
   "source": [
    "Now the data is store both in a dictionary (where the keys are the players' name and the value their respective Highscore) and a table <br>\n",
    "To print the data in the correct formatting  function is used that will print depending on the type of the argument"
   ]
  },
  {
   "cell_type": "code",
   "execution_count": 3,
   "metadata": {},
   "outputs": [
    {
     "name": "stdout",
     "output_type": "stream",
     "text": [
      "Name: Mit Hobson Score: 575\n",
      "Name: Janice Waterfell Score: 500\n",
      "Name: Tony Robber Score: 450\n",
      "Name: Clark Kent Score: 350\n",
      "Name: James Hunter Score: 180\n",
      "\n",
      "Name: Mit Hobson Score: 575\n",
      "Name: Janice Waterfell Score: 500\n",
      "Name: Tony Robber Score: 450\n",
      "Name: Clark Kent Score: 350\n",
      "Name: James Hunter Score: 180\n"
     ]
    }
   ],
   "source": [
    "def print_scores(data):\n",
    "    if isinstance(data,dict) : # for dictionaries\n",
    "        for keys in data.keys():\n",
    "            print(\"Name: \"+ keys +\" Score: \"+ str(data[keys]))\n",
    "    elif isinstance(data,list): # for lists\n",
    "        for entries in data:\n",
    "            print(\"Name: \"+ entries[1] +\" Score: \"+ str(entries[0]))\n",
    "    else:\n",
    "        print(\"Please input either a table or a dictionary\")\n",
    "print_scores(HighScoreTable)\n",
    "print()\n",
    "print_scores(HighScoreDict)"
   ]
  },
  {
   "cell_type": "markdown",
   "metadata": {},
   "source": [
    "### 2,3\n",
    "Depending on desired format we need to make sure that the user inputs the data in the correct format. "
   ]
  },
  {
   "cell_type": "code",
   "execution_count": 4,
   "metadata": {
    "tags": []
   },
   "outputs": [
    {
     "name": "stdout",
     "output_type": "stream",
     "text": [
      "[123, 'John Smith']\n"
     ]
    }
   ],
   "source": [
    "## input a new score\n",
    "new_entry = []\n",
    "while True:\n",
    "    userinput = input(\"Please enter first name surname and score\")\n",
    "    parsedinput = userinput.split(',')\n",
    "    if len(parsedinput) == 1:\n",
    "        print(\"Please input the score in the format: [Score],[Playert Name]\")\n",
    "        continue\n",
    "    try: \n",
    "        score = int(parsedinput[0])\n",
    "        new_entry.append(int(parsedinput[0]))\n",
    "        new_entry.append(parsedinput[1].strip())\n",
    "        break\n",
    "    except:\n",
    "        print(\"Please Input a valid Score\")\n",
    "\n",
    "\n",
    "print(new_entry)"
   ]
  },
  {
   "cell_type": "markdown",
   "metadata": {},
   "source": [
    "### 3.1, 3.2\n",
    "Now that we have a new entry we need to compare to the score with the current table. Since the next exercise relates to appending vs overwriting let's define two entries one containing a new lowest score and a new highest score <br>\n",
    "**Note on dictionary vs list:** Using a dictionary makes it easier to determine duplicate entries when updating high scores this edge case will not be covered here"
   ]
  },
  {
   "cell_type": "code",
   "execution_count": 6,
   "metadata": {},
   "outputs": [],
   "source": [
    "new_lowest = [179,'John Smith']\n",
    "new_highest = [599,'John Tron']\n",
    "#listofscores = [(i[0],c) for c,i in enumerate(HighScoreTable) ]\n",
    "#print(listofscores)"
   ]
  },
  {
   "cell_type": "code",
   "execution_count": 14,
   "metadata": {},
   "outputs": [
    {
     "name": "stdout",
     "output_type": "stream",
     "text": [
      "180\n",
      "180\n"
     ]
    }
   ],
   "source": [
    "# In this case the list of high score is already sorted to accessing the lowest\n",
    "# element is the same as access the last one\n",
    "lowest_score_table = HighScoreTable[-1][0]\n",
    "print(lowest_score_table)\n",
    "# For the dictionary we can access dictionary values\n",
    "lowest_score_dict = min(HighScoreDict.values())\n",
    "print(lowest_score_dict)"
   ]
  },
  {
   "cell_type": "markdown",
   "metadata": {},
   "source": [
    "For the lowest score we need to append to the file as it isn't necessary to overwrite it <br>\n",
    "For this example we will use the new_lowest entry"
   ]
  },
  {
   "cell_type": "code",
   "execution_count": 8,
   "metadata": {},
   "outputs": [],
   "source": [
    "new_entry = new_lowest\n",
    "newScore = new_entry[0]\n",
    "if newScore <= lowest_score_table:\n",
    "    Update = open(\"HighScoreList.txt\",\"a\")\n",
    "    Update.write(str(new_entry[0])+\",\"+new_entry[1]) #you might need to add a return character \"\\n\" depending on how your file is set up\n",
    "    Update.close()"
   ]
  },
  {
   "cell_type": "markdown",
   "metadata": {},
   "source": [
    "Now we expand this in the case were the new score belongs anywhere but the end of the table in which case overwrite the file but first we need to figure out how to sort the new entry."
   ]
  },
  {
   "cell_type": "code",
   "execution_count": 9,
   "metadata": {},
   "outputs": [
    {
     "name": "stdout",
     "output_type": "stream",
     "text": [
      "[[575, 'Mit Hobson'], [500, 'Janice Waterfell'], [450, 'Tony Robber'], [350, 'Clark Kent'], [180, 'James Hunter'], [599, 'John Tron']]\n",
      "[[599, 'John Tron'], [575, 'Mit Hobson'], [500, 'Janice Waterfell'], [450, 'Tony Robber'], [350, 'Clark Kent'], [180, 'James Hunter']]\n"
     ]
    }
   ],
   "source": [
    "# for a table\n",
    "new_entry = new_highest\n",
    "newScore = new_entry[0]\n",
    "HighScoreTable.append(new_entry)\n",
    "print(HighScoreTable)\n",
    "HighScoreTable.sort(reverse=True)\n",
    "print(HighScoreTable)"
   ]
  },
  {
   "cell_type": "code",
   "execution_count": 10,
   "metadata": {},
   "outputs": [
    {
     "name": "stdout",
     "output_type": "stream",
     "text": [
      "[('John Tron', 599), ('Mit Hobson', 575), ('Janice Waterfell', 500), ('Tony Robber', 450), ('Clark Kent', 350), ('James Hunter', 180)]\n"
     ]
    }
   ],
   "source": [
    "#for a dictionary\n",
    "HighScoreDict[new_entry[1]] = new_entry[0]\n",
    "HighScoreFromDict  = sorted(HighScoreDict.items(), key=lambda x:x[1], reverse=True)\n",
    "print(HighScoreFromDict)"
   ]
  },
  {
   "cell_type": "markdown",
   "metadata": {},
   "source": [
    "As you can see this becomes a list. However it is possible to use dictionary comprehension"
   ]
  },
  {
   "cell_type": "code",
   "execution_count": 12,
   "metadata": {},
   "outputs": [
    {
     "name": "stdout",
     "output_type": "stream",
     "text": [
      "{'John Tron': 599, 'Mit Hobson': 575, 'Janice Waterfell': 500, 'Tony Robber': 450, 'Clark Kent': 350, 'James Hunter': 180}\n"
     ]
    }
   ],
   "source": [
    "HighScoreDict2 = {key: val for key, val in sorted(HighScoreDict.items(), key = lambda entry: entry[1], reverse = True)}\n",
    "print(HighScoreDict2)"
   ]
  },
  {
   "cell_type": "code",
   "execution_count": 17,
   "metadata": {},
   "outputs": [],
   "source": [
    "if newScore <= lowest_score_table:\n",
    "    Update = open(\"HighScoreList.txt\",\"a\") #notice the a option to append\n",
    "    Update.write(str(new_entry[0])+\",\"+new_entry[1])\n",
    "    Update.close()\n",
    "else:\n",
    "    Update = open(\"HighScoreList.txt\",\"w\") #notice the w option to overwrite\n",
    "    for line in HighScoreTable: # This is done using the list but can easily be done be accessing the dictionary using the key\n",
    "        Update.write(str(line[0])+\",\"+line[1]+'\\n')\n",
    "    Update.close()"
   ]
  },
  {
   "cell_type": "code",
   "execution_count": null,
   "metadata": {},
   "outputs": [],
   "source": []
  }
 ],
 "metadata": {
  "kernelspec": {
   "display_name": "Python 3",
   "language": "python",
   "name": "python3"
  },
  "language_info": {
   "codemirror_mode": {
    "name": "ipython",
    "version": 3
   },
   "file_extension": ".py",
   "mimetype": "text/x-python",
   "name": "python",
   "nbconvert_exporter": "python",
   "pygments_lexer": "ipython3",
   "version": "3.8.5"
  }
 },
 "nbformat": 4,
 "nbformat_minor": 4
}
