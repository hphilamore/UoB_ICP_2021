{
 "cells": [
  {
   "cell_type": "markdown",
   "id": "b24c01cf",
   "metadata": {
    "slideshow": {
     "slide_type": "slide"
    }
   },
   "source": [
    "# Introduction to Computer Programming\n",
    "\n",
    "## 2.2 User input & nested conditionals\n",
    "\n",
    "<img src=\"img/full-colour-logo-UoB.png\" alt=\"Drawing\" style=\"width: 300px;\"/>"
   ]
  },
  {
   "cell_type": "markdown",
   "id": "bf8b83ff",
   "metadata": {
    "slideshow": {
     "slide_type": "slide"
    }
   },
   "source": [
    "# In-class Demos"
   ]
  },
  {
   "cell_type": "markdown",
   "id": "167de27e",
   "metadata": {
    "slideshow": {
     "slide_type": "slide"
    }
   },
   "source": [
    "__Example 1:__ Write a program that asks for the user's age and checks if they are 18 or over. "
   ]
  },
  {
   "cell_type": "code",
   "execution_count": 17,
   "id": "0fcdb557",
   "metadata": {},
   "outputs": [
    {
     "name": "stdout",
     "output_type": "stream",
     "text": [
      "Enter your age: 34\n",
      "over 18\n"
     ]
    }
   ],
   "source": [
    "age = input('Enter your age: ')\n",
    "\n",
    "age = int(age)\n",
    "\n",
    "if age >= 18:\n",
    "    print('over 18')"
   ]
  },
  {
   "cell_type": "markdown",
   "id": "24e58a93",
   "metadata": {
    "slideshow": {
     "slide_type": "slide"
    }
   },
   "source": [
    "__Example 2:__ Write a program that:\n",
    "- asks the user to input a number\n",
    "- checks if a number is odd or even \n",
    "- checks if input even numbers are multiples of 4\n",
    "- checks if input odd numbers are multiples of 3"
   ]
  },
  {
   "cell_type": "code",
   "execution_count": 19,
   "id": "7cf28651",
   "metadata": {},
   "outputs": [
    {
     "name": "stdout",
     "output_type": "stream",
     "text": [
      "input a number:4\n",
      "N is odd and multiple of 4\n"
     ]
    }
   ],
   "source": [
    "N = input('input a number:')\n",
    "\n",
    "N = int(N)\n",
    "\n",
    "if N % 2: # number is odd\n",
    "    print('N is odd', end='')\n",
    "    if not N % 3: \n",
    "        print(' and mutiple of 3')\n",
    "        \n",
    "else:\n",
    "    print('N is odd', end ='')\n",
    "    if not N % 4:\n",
    "        print(' and multiple of 4')"
   ]
  }
 ],
 "metadata": {
  "celltoolbar": "Slideshow",
  "kernelspec": {
   "display_name": "Python 3",
   "language": "python",
   "name": "python3"
  },
  "language_info": {
   "codemirror_mode": {
    "name": "ipython",
    "version": 3
   },
   "file_extension": ".py",
   "mimetype": "text/x-python",
   "name": "python",
   "nbconvert_exporter": "python",
   "pygments_lexer": "ipython3",
   "version": "3.8.8"
  }
 },
 "nbformat": 4,
 "nbformat_minor": 5
}
