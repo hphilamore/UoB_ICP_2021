{
 "cells": [
  {
   "cell_type": "markdown",
   "metadata": {
    "slideshow": {
     "slide_type": "slide"
    }
   },
   "source": [
    "# Coursework key dates\n",
    "\n",
    "Assignment: Single piece of coursework, completed individually.\n",
    "\n",
    "Theme: Write a program to perform and encryption and decryption task + a short (2 page) report \n",
    "\n",
    "Set: Friday 19th November 2021 (Week 8)\n",
    "\n",
    "Deadline: Friday 10th December 2021 (Week 11) "
   ]
  },
  {
   "cell_type": "markdown",
   "metadata": {
    "slideshow": {
     "slide_type": "slide"
    }
   },
   "source": [
    "# Drop-in support classes \n",
    "\n",
    " | On-campus Group 1| On-campus Group 2 | Online | \n",
    " | :-: | :-: | :-: |  \n",
    "| Friday  | Friday  | Thursday  | \n",
    "| 13:00-14:00 |14:00-15:00 | 9:00-10:00 | \n",
    "| MVB 1.15 |MVB 1.15 | remo |\n",
    "\n",
    "\n",
    "__Group 1__ : EMAT, Innovation, Biorobotics, everyone not listed in Groups 1/2\n",
    "\n",
    "__Group 2__: EENG, EDES, Digital Health MSc & CDT"
   ]
  },
  {
   "cell_type": "markdown",
   "metadata": {
    "slideshow": {
     "slide_type": "slide"
    }
   },
   "source": [
    "# Introduction to Computer Programming\n",
    "\n",
    "## 2.1 Control Flow\n",
    "\n",
    "<img src=\"img/full-colour-logo-UoB.png\" alt=\"Drawing\" style=\"width: 300px;\"/>"
   ]
  },
  {
   "cell_type": "markdown",
   "metadata": {
    "slideshow": {
     "slide_type": "slide"
    }
   },
   "source": [
    "<a id='ControlStatements'></a>\n",
    "# Conditional Statements\n",
    "- Make decisions within a program and direct the flow.\n",
    "- Run different blocks of code depending on whether a Boolean expression evaluates to `True` or `False`.\n",
    "- This decision making is known as __Control Flow__\n",
    "\n",
    "\n",
    "<center>\n",
    "  <img src=\"img/if_example.png\" alt=\"Drawing\" style=\"width: 400px ;\" align=\"center\"/>\n",
    "</center>"
   ]
  },
  {
   "cell_type": "markdown",
   "metadata": {
    "slideshow": {
     "slide_type": "slide"
    }
   },
   "source": [
    "# `if`\n",
    "\n",
    "Runs a block of code only if a condition is `True`\n",
    "\n",
    "<center>\n",
    "  <img src=\"img/if_flow_.png\" alt=\"Drawing\" style=\"width: 400px;\"/>\n",
    "</center>\n",
    "\n"
   ]
  },
  {
   "cell_type": "code",
   "execution_count": 1,
   "metadata": {
    "slideshow": {
     "slide_type": "slide"
    }
   },
   "outputs": [
    {
     "name": "stdout",
     "output_type": "stream",
     "text": [
      "Further code\n"
     ]
    }
   ],
   "source": [
    "x = 2\n",
    "\n",
    "if x > 10:\n",
    "    print(\"Do this\") # block of code to run only if condition is True\n",
    "    \n",
    "print(\"Further code\")\n"
   ]
  },
  {
   "cell_type": "markdown",
   "metadata": {
    "slideshow": {
     "slide_type": "slide"
    }
   },
   "source": [
    "\n",
    "\n",
    "The colon `:` follows the condition to be evaluated. \n",
    "\n",
    "\n",
    "\n",
    "The indent is used to determine which pieces of code are executed in the case that the condition evaluates to `True`.\n",
    "\n",
    "The indent can be any number of spaces.\n",
    " - must be the same for all lines in a block of code. \n",
    " - 4 spaces is considered best practise. \n",
    " - Many IDEs (e.g. Spyder) automatically indent after you type `if:`.\n",
    "\n"
   ]
  },
  {
   "cell_type": "markdown",
   "metadata": {
    "slideshow": {
     "slide_type": "slide"
    }
   },
   "source": [
    "# `if`... `else`\n",
    "Runs a block of code only if a condition is `True`\n",
    "<br>Otherwise runs a different block of code.\n",
    "\n",
    "<center>\n",
    "  <img src=\"img/if_else_flow_.png\" alt=\"Drawing\" style=\"width: 400px;\"/>\n",
    "</center>"
   ]
  },
  {
   "cell_type": "code",
   "execution_count": 3,
   "metadata": {
    "slideshow": {
     "slide_type": "slide"
    }
   },
   "outputs": [
    {
     "name": "stdout",
     "output_type": "stream",
     "text": [
      "Do that\n",
      "Further code\n"
     ]
    }
   ],
   "source": [
    "x = 9\n",
    "\n",
    "if x > 10:\n",
    "    print(\"Do this\") # if condition is True\n",
    "else:\n",
    "    print(\"Do that\") # if condition is False\n",
    "    \n",
    "print(\"Further code\")\n"
   ]
  },
  {
   "cell_type": "markdown",
   "metadata": {
    "slideshow": {
     "slide_type": "slide"
    }
   },
   "source": [
    "# `if`...`elif`...(`else`)\n",
    "Runs the indented block of code after `if` if the `if` condition is `True`\n",
    "<br>... or runs the indented block of code after `elif` if the `elif` condition is `True`\n",
    "<br>... otherwise runs the indented block of code after `else`.\n",
    "\n",
    "__Only one__ of the three blocks is executed. \n",
    "\n",
    "<center>\n",
    "  <img src=\"img/if_elif_else_flow_.png\" alt=\"Drawing\" style=\"width: 600px;\"/>\n",
    "</center>"
   ]
  },
  {
   "cell_type": "code",
   "execution_count": 4,
   "metadata": {
    "slideshow": {
     "slide_type": "slide"
    }
   },
   "outputs": [
    {
     "name": "stdout",
     "output_type": "stream",
     "text": [
      "Do something else\n",
      "Further code\n"
     ]
    }
   ],
   "source": [
    "x = 4\n",
    "\n",
    "if x > 10:\n",
    "    print(\"Do this\")           # if condition is True\n",
    "elif x > 5:\n",
    "    print(\"Do that\")           # if another condition is True\n",
    "else:\n",
    "    print(\"Do something else\") # if all preceding conditions are False\n",
    "    \n",
    "print(\"Further code\")\n"
   ]
  },
  {
   "cell_type": "markdown",
   "metadata": {
    "slideshow": {
     "slide_type": "slide"
    }
   },
   "source": [
    "An unlimited numer of `elif` statements can be used after an `if` statement\n",
    "\n",
    "The `else` statement is optional."
   ]
  },
  {
   "cell_type": "code",
   "execution_count": 8,
   "metadata": {},
   "outputs": [
    {
     "name": "stdout",
     "output_type": "stream",
     "text": [
      "Further code\n"
     ]
    }
   ],
   "source": [
    "x = -2\n",
    "\n",
    "if x > 10:\n",
    "    print(\"x is greater than 10\") # if condition is True\n",
    "elif x > 5:\n",
    "    print(\"x is greater than 5\") # if another condition is True\n",
    "elif x > 0:\n",
    "    print(\"x is greater than 0\") # if another condition is True\n",
    "\n",
    "    \n",
    "print(\"Further code\")\n"
   ]
  },
  {
   "cell_type": "markdown",
   "metadata": {
    "slideshow": {
     "slide_type": "slide"
    }
   },
   "source": [
    "# Summary\n",
    "\n",
    " - Conditional statements (`if`, `elif` and `else`) perform a test on an expression with a a Boolean (`True` or `False`) value. \n",
    " - Execute/skip blocks of code based on the `True`/`False`value of the expression.   \n",
    "\n"
   ]
  },
  {
   "cell_type": "markdown",
   "metadata": {
    "slideshow": {
     "slide_type": "slide"
    }
   },
   "source": [
    "# In-class Demos"
   ]
  },
  {
   "cell_type": "markdown",
   "metadata": {
    "slideshow": {
     "slide_type": "slide"
    }
   },
   "source": [
    "__Example 1:__ <br>Write a program to modify the initial value of the variable `x` and print the new value, as shown in the flow diagram. \n",
    "\n",
    "<center>\n",
    "  <img src=\"img/alg_flow.png\" alt=\"Drawing\" style=\"width: 400px;\"/>\n",
    "</center>"
   ]
  },
  {
   "cell_type": "code",
   "execution_count": 13,
   "metadata": {
    "slideshow": {
     "slide_type": "-"
    }
   },
   "outputs": [],
   "source": [
    "# Initial value of x\n",
    "\n",
    "# x is greater than 10\n",
    "\n",
    "# x is less than 2\n",
    "\n",
    "# x is in range 2 to 10, inclusive\n",
    "    \n",
    "# Final value of x    \n"
   ]
  },
  {
   "cell_type": "markdown",
   "metadata": {
    "slideshow": {
     "slide_type": "slide"
    }
   },
   "source": [
    "Let's remind ourselves of an example from last week. \n",
    "\n",
    ">__Is it lunchtime?__\n",
    "<br>`True` if time between lunch start and end times.\n",
    "<br>`False` if not.\n",
    "\n",
    ">__Is it time for work?__\n",
    "<br>`True` if time between work start and end times __and not__ lunchtime.\n",
    "<br>`False` if not."
   ]
  },
  {
   "cell_type": "markdown",
   "metadata": {
    "slideshow": {
     "slide_type": "slide"
    }
   },
   "source": [
    "Let's build on the example from last week by including control statements. \n",
    "\n",
    "__Example 2:__ \n",
    "<br>Write a program that tells the user what acitivty to do based on the time of day. \n",
    "- eat lunch if it is lunchtime\n",
    "- do work if it is time for work\n",
    "- go home if it is before or after work"
   ]
  },
  {
   "cell_type": "code",
   "execution_count": 12,
   "metadata": {},
   "outputs": [
    {
     "name": "stdout",
     "output_type": "stream",
     "text": [
      "Go home\n"
     ]
    }
   ],
   "source": [
    "# --------- Program from last week -------------------\n",
    "# Variables\n",
    "t = 18.00           # current time\n",
    "Ls = 13.00         # lunch starts\n",
    "Le = 14.00         # lunch ends\n",
    "Ws = 8.00          # work starts\n",
    "We = 17.00         # work ends   \n",
    "\n",
    "lunchtime = Ls <= t < Le                   # lunchtime\n",
    "work_time = Ws <= t < We and not lunchtime # work_time\n",
    "#------------------------------------------------------"
   ]
  }
 ],
 "metadata": {
  "celltoolbar": "Slideshow",
  "kernelspec": {
   "display_name": "Python 3",
   "language": "python",
   "name": "python3"
  },
  "language_info": {
   "codemirror_mode": {
    "name": "ipython",
    "version": 3
   },
   "file_extension": ".py",
   "mimetype": "text/x-python",
   "name": "python",
   "nbconvert_exporter": "python",
   "pygments_lexer": "ipython3",
   "version": "3.7.4"
  }
 },
 "nbformat": 4,
 "nbformat_minor": 5
}
