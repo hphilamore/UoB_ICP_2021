{
 "cells": [
  {
   "cell_type": "markdown",
   "id": "4ce47f7d",
   "metadata": {},
   "source": [
    "# Introduction to Computer Programming\n",
    "\n",
    "## Week 7.1: Reading & Writing Files\n",
    "\n",
    "* * *\n",
    "\n",
    "<img src=\"img/full-colour-logo-UoB.png\" alt=\"Bristol\" style=\"width: 300px;\"/>"
   ]
  },
  {
   "cell_type": "markdown",
   "id": "3e4f9571",
   "metadata": {},
   "source": [
    "__Reading files__ : Importing data (e.g. experiment results) into a program\n",
    "\n",
    "__Writing files__ : Exporting data (storing data outside of the program e.g. output of a calculation,  metrics recorded during a simulation)"
   ]
  },
  {
   "cell_type": "markdown",
   "id": "778d3144",
   "metadata": {
    "slideshow": {
     "slide_type": "slide"
    }
   },
   "source": [
    "Python functions for reading and writing text data files (.txt, .csv, .dat): \n",
    "- `open()`\n",
    "- `read()`\n",
    "- `write()`\n",
    "- `close()` "
   ]
  },
  {
   "cell_type": "markdown",
   "id": "4c58c8b2",
   "metadata": {
    "slideshow": {
     "slide_type": "slide"
    }
   },
   "source": [
    "Before a file can be read or written to, it must be opened using the `open()` function. \n",
    "\n",
    "```python\n",
    "open(file_path, mode_specifier)\n",
    "```\n",
    "\n",
    "__Mode specifier:__ an open file can be read, overwritten, or added to, depending on the mode specifier used to open it. \n",
    "\n",
    "\n",
    "| Mode specifier | Read (R)/Write (W)| Must already exist | If no file exists  | `write() `| Stream position |\n",
    "| :-: | :-: | :-: | :-: | :-: | :-: | \n",
    "| `r` | R |Yes | N/A | overwrites previous contents | start |\n",
    "| `w` | W |No | Creates new file | overwrites previous contents | start |\n",
    "| `a` | W |No | Creates new file | appends text to end of file| end |\n",
    "| `r+` | R+W |Yes | N/A | overwrites previous contents | start |\n",
    "| `w+` | R+W |No | Creates new file | overwrites previous contents | start |\n",
    "| `a+` | R+W | No | Creates new file | appends text to end of file | end |\n"
   ]
  },
  {
   "cell_type": "markdown",
   "id": "5196f57c",
   "metadata": {
    "slideshow": {
     "slide_type": "slide"
    }
   },
   "source": [
    "Once the file is open, it creates a *file object*.  \n",
    "\n",
    "As you studied last week, an object (an instance of a class) has methods: actions that an object is able to perform. "
   ]
  },
  {
   "cell_type": "markdown",
   "id": "3cf78553",
   "metadata": {},
   "source": [
    "# Writing files\n",
    "We will use the methods:\n",
    "- `write()`\n",
    "- `close()`"
   ]
  },
  {
   "cell_type": "markdown",
   "id": "ca3271d6",
   "metadata": {},
   "source": [
    "__Example:__ Write the high score table shown to a new file with the filename scores.txt\n",
    "\n",
    "| |  | \n",
    "| :-: | :-: |  \n",
    "| Elena | 550 | \n",
    "| Sajid | 480 | \n",
    "| Tom | 380 | \n",
    "| Farhad | 305 | \n",
    "| Manesha | 150 | "
   ]
  },
  {
   "cell_type": "code",
   "execution_count": 1,
   "id": "da772632",
   "metadata": {},
   "outputs": [],
   "source": [
    "file = open('sample_data/scores.txt', 'w') # mode specifier to write\n",
    "\n",
    "file.write('Elena 550\\n' #  \\n creates a line break.\n",
    "          + 'Sajid 480\\n'\n",
    "          + 'Tom 380\\n' \n",
    "          + 'Farhad 305\\n'\n",
    "          + 'Manesha 150\\n') # final \\n means next entry will begin on new line\n",
    "\n",
    "file.close()"
   ]
  },
  {
   "cell_type": "markdown",
   "id": "8c548f15",
   "metadata": {},
   "source": [
    "A file, scores.txt will appear in the same directory (folder) as your python program. \n",
    "You can open the file in a text editor to check the contents. "
   ]
  },
  {
   "cell_type": "markdown",
   "id": "3577a39d",
   "metadata": {},
   "source": [
    "### Writing data structures to files\n",
    "\n",
    "Values that can be represented as a table are likely to be stored in your program as a data structure. \n",
    "\n",
    "Let's look at some alternative ways to write data stored in a data structure to a .txt file. \n",
    "\n",
    "Notice that in each case the data is stored as string data type. "
   ]
  },
  {
   "cell_type": "markdown",
   "id": "8d0baae2",
   "metadata": {},
   "source": [
    "__Example:__ Write a high score table stored as two __lists__ to a new file with the filename scores.txt"
   ]
  },
  {
   "cell_type": "code",
   "execution_count": 3,
   "id": "b94c62ac",
   "metadata": {},
   "outputs": [],
   "source": [
    "names = ['Elena', 'Sajid', 'Tom', 'Farhad', 'Manesha']\n",
    "scores = [550, 480, 380, 305, 150]\n",
    "\n",
    "file = open('sample_data/scores.txt', 'w') \n",
    "\n",
    "# loop through two lists - keys and values of dictionary\n",
    "for n, s in zip(names, scores):\n",
    "    file.write(n + ' ' + str(s) + '\\n')\n",
    "\n",
    "file.close()"
   ]
  },
  {
   "cell_type": "markdown",
   "id": "bede9ed9",
   "metadata": {},
   "source": [
    "__Example:__ Write a high score table stored as a __dictionary__ to a new file with the filename scores.txt"
   ]
  },
  {
   "cell_type": "code",
   "execution_count": 24,
   "id": "98e991cb",
   "metadata": {},
   "outputs": [],
   "source": [
    "scores = {'Elena': 550,\n",
    "          'Sajid': 480,\n",
    "          'Tom': 380,\n",
    "          'Farhad': 305,\n",
    "          'Manesha': 150}\n",
    "\n",
    "file = open('sample_data/scores.txt', 'w') \n",
    "\n",
    "# loop through two lists - keys and values of dictionary\n",
    "for k, v in scores.items():\n",
    "    file.write(k + ' ' + str(v) + '\\n')\n",
    "\n",
    "file.close()"
   ]
  },
  {
   "cell_type": "markdown",
   "id": "4d93afe6",
   "metadata": {},
   "source": [
    "The simplest :"
   ]
  },
  {
   "cell_type": "code",
   "execution_count": 14,
   "id": "b1427333",
   "metadata": {},
   "outputs": [],
   "source": [
    "open('file.txt', 'w').close()"
   ]
  },
  {
   "cell_type": "markdown",
   "id": "0b55eba5",
   "metadata": {},
   "source": [
    "### Closing Files\n",
    "Why do we need to close a file?\n",
    "1. Not automatically closed.  \n",
    "3. Saves changes to file.\n",
    "4. Depending on OS, you may not be able to open a file simultaneously for reading and writing e.g. a program attempts to open a file for writing that is already open for reading"
   ]
  },
  {
   "cell_type": "markdown",
   "id": "5057d456",
   "metadata": {},
   "source": [
    "### Appending files\n",
    "__Example:__ Append (add a new entry to the end of) scores.txt so that the tabel reads\n",
    "\n",
    "\n",
    "  \n",
    "| |  | \n",
    "| :-: | :-: |  \n",
    "| Elena | 550 | \n",
    "| Sajid | 480 | \n",
    "| Tom | 380 | \n",
    "| Farhad | 305 | \n",
    "| Manesha | 150 | \n",
    "\n"
   ]
  },
  {
   "cell_type": "code",
   "execution_count": 15,
   "id": "3a07c1d3",
   "metadata": {},
   "outputs": [],
   "source": [
    "file = open('sample_data/scores.txt', 'a') # mode specifier to append not overwrite\n",
    "\n",
    "file.write('Jen 100\\n')\n",
    "\n",
    "file.close()"
   ]
  },
  {
   "cell_type": "markdown",
   "id": "de209871",
   "metadata": {},
   "source": [
    "# Reading Files \n",
    "\n",
    "We will use the methods \n",
    "- `read()`\n",
    "- `close()`"
   ]
  },
  {
   "cell_type": "markdown",
   "id": "29a2c403",
   "metadata": {},
   "source": [
    "The file contents are imported as an *iterable* object i.e. behaves as a list. \n",
    "<br>The items of the iterable object are the lines of the file as string data. "
   ]
  },
  {
   "cell_type": "code",
   "execution_count": 16,
   "id": "a60ef575",
   "metadata": {},
   "outputs": [
    {
     "name": "stdout",
     "output_type": "stream",
     "text": [
      "Elena 550\n",
      "Sajid 480\n",
      "Tom 380\n",
      "Farhad 305\n",
      "Manesha 150\n",
      "Jen 100\n"
     ]
    }
   ],
   "source": [
    "file = open('sample_data/scores.txt', 'r')\n",
    "for line in file:\n",
    "    print(line, end='') \n",
    "file.close()"
   ]
  },
  {
   "cell_type": "markdown",
   "id": "203c09da",
   "metadata": {},
   "source": [
    "A string can be broken into groups of characters seperated by spaces (or other delimiters) using `split`."
   ]
  },
  {
   "cell_type": "code",
   "execution_count": 17,
   "id": "43f97d59",
   "metadata": {},
   "outputs": [
    {
     "name": "stdout",
     "output_type": "stream",
     "text": [
      "['Elena', 'Sajid', 'Tom', 'Farhad', 'Manesha', 'Jen'] ['550', '480', '380', '305', '150', '100']\n",
      "The winner is Elena!\n",
      "Elena's score is 550\n"
     ]
    }
   ],
   "source": [
    "names = []\n",
    "scores = []\n",
    "\n",
    "file = open('sample_data/scores.txt', 'r')\n",
    "for line in file:\n",
    "    L = line.split()\n",
    "    names.append(L[0])\n",
    "    scores.append(L[1])\n",
    "file.close()\n",
    "\n",
    "print(names, scores)\n",
    "print(f\"The winner is {names[0]}!\\n{names[0]}'s score is {scores[0]}\")"
   ]
  },
  {
   "cell_type": "markdown",
   "id": "ba060e4b",
   "metadata": {},
   "source": [
    "`read()` : returns the file contents as a single string"
   ]
  },
  {
   "cell_type": "code",
   "execution_count": 18,
   "id": "4bcf4c55",
   "metadata": {
    "scrolled": true
   },
   "outputs": [
    {
     "name": "stdout",
     "output_type": "stream",
     "text": [
      "Elena 550\n",
      "Sajid 480\n",
      "Tom 380\n",
      "Farhad 305\n",
      "Manesha 150\n",
      "Jen 100\n",
      " <class 'str'>\n"
     ]
    }
   ],
   "source": [
    "file = open('sample_data/scores.txt') # read-only mode is default mode\n",
    "msg = file.read()\n",
    "print(msg, type(msg))\n",
    "file.close()"
   ]
  },
  {
   "cell_type": "markdown",
   "id": "2b93d38c",
   "metadata": {},
   "source": [
    "`readlines()` : returns all lines in the file as a list. Each line is a *string* item in the *list* object"
   ]
  },
  {
   "cell_type": "code",
   "execution_count": 19,
   "id": "cc835ba3",
   "metadata": {
    "scrolled": true
   },
   "outputs": [
    {
     "name": "stdout",
     "output_type": "stream",
     "text": [
      "Tom 380\n",
      "\n"
     ]
    }
   ],
   "source": [
    "file = open('sample_data/scores.txt') # read-only mode is default mode\n",
    "\n",
    "msg = file.readlines()\n",
    "\n",
    "print(msg[2]) # print 3rd line"
   ]
  },
  {
   "cell_type": "markdown",
   "id": "abfd0dda",
   "metadata": {},
   "source": [
    "# Reading and Writing with `r+`, `w+`, `a+`\n",
    "\n"
   ]
  },
  {
   "cell_type": "code",
   "execution_count": 20,
   "id": "a1708a87",
   "metadata": {},
   "outputs": [
    {
     "name": "stdout",
     "output_type": "stream",
     "text": [
      "Elena 550\n",
      "Sajid 480\n",
      "Tom 380\n",
      "Farhad 305\n",
      "Manesha 150\n",
      "Jen 100\n"
     ]
    }
   ],
   "source": [
    "file = open('sample_data/scores.txt', 'r+') # We want to read then append\n",
    "\n",
    "for line in file:               # read file contents\n",
    "    print(line, end='')\n",
    "    \n",
    "file.write('Ben 50\\n')         # append some data\n",
    "file.write('Ola 500\\n')\n",
    "    \n",
    "file.close()"
   ]
  },
  {
   "cell_type": "markdown",
   "id": "c06de4dd",
   "metadata": {},
   "source": [
    "Be aware of the *stream position* when opening a file to read and write. \n",
    "\n",
    "We can imagine the stream position as the position of the cursor in the file\n",
    "\n",
    "The stream position is at the end of the file:\n",
    "\n",
    "- before appending\n",
    "- after appending\n",
    "- after over-writing\n",
    "- after reading\n",
    "\n",
    "\n",
    "The stream position can be moved to the start of the file (or any other position) with `seek()`.\n",
    "\n",
    "The file can be erased from a position onwards with `truncate()` (useful for overwriting a file in `r+` mode)."
   ]
  },
  {
   "cell_type": "markdown",
   "id": "6ec77141",
   "metadata": {},
   "source": [
    "__Example:__ Open a file, add some data then read new contents"
   ]
  },
  {
   "cell_type": "code",
   "execution_count": 21,
   "id": "7506593d",
   "metadata": {},
   "outputs": [
    {
     "name": "stdout",
     "output_type": "stream",
     "text": [
      "Elena 550\n",
      "Sajid 480\n",
      "Tom 380\n",
      "Farhad 305\n",
      "Manesha 150\n",
      "Jen 100\n",
      "Ben 50\n",
      "Ola 500\n",
      "Ben 50\n",
      "Ola 500\n"
     ]
    }
   ],
   "source": [
    "file = open('sample_data/scores.txt', 'a+') # We want to append then read\n",
    "\n",
    "file.write('Ben 50\\n')         # append some data\n",
    "file.write('Ola 500\\n')\n",
    "\n",
    "file.seek(0)                    # GO BACK TO THE START OF FILE\n",
    "\n",
    "for line in file:               # read file contents\n",
    "    print(line, end='')\n",
    "    \n",
    "file.close()"
   ]
  },
  {
   "cell_type": "code",
   "execution_count": null,
   "id": "a5381f3c",
   "metadata": {},
   "outputs": [],
   "source": [
    "file = open('sample_data/scores.txt', 'r+') # We want to append then read\n",
    "\n",
    "for line in file:               # read file contents\n",
    "    print(line, end='')\n",
    "    \n",
    "file.truncate(0)                # ERASE FROM START OF FILE\n",
    "\n",
    "file.write('Ben 50 \\n')         # write some data\n",
    "file.write('Ola 500 \\n')\n",
    "    \n",
    "file.close()"
   ]
  },
  {
   "cell_type": "code",
   "execution_count": null,
   "id": "1218849f",
   "metadata": {},
   "outputs": [],
   "source": []
  },
  {
   "cell_type": "markdown",
   "id": "930b4996",
   "metadata": {},
   "source": [
    "# Automatically closing files\n",
    "It can be easy to forget to close a file with `close()`\n",
    "\n",
    "`with open()` can be used instead of `open()` to remove the need for `close()`:"
   ]
  },
  {
   "cell_type": "code",
   "execution_count": 11,
   "id": "025af545",
   "metadata": {},
   "outputs": [
    {
     "name": "stdout",
     "output_type": "stream",
     "text": [
      "next bit of the program\n"
     ]
    }
   ],
   "source": [
    "with open('sample_data/scores.txt', 'a') as file:\n",
    "    file.write('Ria 460 \\n')\n",
    "    \n",
    "print('next bit of the program') # Code unindents. File automatically closed"
   ]
  },
  {
   "cell_type": "code",
   "execution_count": 12,
   "id": "c7247d75",
   "metadata": {},
   "outputs": [
    {
     "name": "stdout",
     "output_type": "stream",
     "text": [
      "Elena 550\n",
      "Sajid 480\n",
      "Tom 380\n",
      "Farhad 305\n",
      "Manesha 150\n",
      "Jen 100 \n",
      "Ben 50 \n",
      "Ola 500 \n",
      "Ria 460 \n",
      "\n"
     ]
    }
   ],
   "source": [
    "with open('sample_data/scores.txt', 'r') as file:\n",
    "    print(file.read())"
   ]
  },
  {
   "cell_type": "markdown",
   "id": "031814a0",
   "metadata": {},
   "source": [
    "__Example:__ Sort the players and scores so they are shown in the file scores.txt from first place to last place "
   ]
  },
  {
   "cell_type": "code",
   "execution_count": 13,
   "id": "49ef29f6",
   "metadata": {},
   "outputs": [
    {
     "name": "stdout",
     "output_type": "stream",
     "text": [
      "\u0000\u0000\u0000\u0000\u0000\u0000\u0000\u0000\u0000\u0000\u0000\u0000\u0000\u0000\u0000\u0000\u0000\u0000\u0000\u0000\u0000\u0000\u0000\u0000\u0000\u0000\u0000\u0000\u0000\u0000\u0000\u0000\u0000\u0000\u0000\u0000\u0000\u0000\u0000\u0000\u0000\u0000\u0000\u0000\u0000\u0000\u0000\u0000\u0000\u0000\u0000\u0000\u0000\u0000\u0000\u0000\u0000\u0000\u0000\u0000\u0000\u0000\u0000\u0000\u0000\u0000\u0000\u0000\u0000\u0000\u0000\u0000\u0000\u0000\u0000\u0000\u0000\u0000\u0000\u0000\u0000\u0000\u0000\u0000\u0000\u0000\u0000\u0000\u0000\u0000\u0000\u0000\u0000\u0000\u0000Elena 550\n",
      "Ola 500\n",
      "Ben 50\n",
      "Sajid 480\n",
      "Ria 460\n",
      "Tom 380\n",
      "Farhad 305\n",
      "Manesha 150\n",
      "Jen 100\n",
      "\n"
     ]
    }
   ],
   "source": [
    "with open('sample_data/scores.txt', 'r+') as file: # read then overwrite\n",
    "    names = []\n",
    "    scores = [] \n",
    "\n",
    "    for line in file:                  # read\n",
    "        L = line.split()\n",
    "        names.append(L[0])\n",
    "        scores.append(L[1])\n",
    "    \n",
    "    # perform an operation: \n",
    "    # sorted can sort zipped lists using order of first list\n",
    "    sorted_by_score = sorted(zip(scores, names), reverse=True)\n",
    "    \n",
    "    file.truncate(0)                   # erase file  \n",
    "    \n",
    "    for item in sorted_by_score:       # write\n",
    "        file.write(item[1] + ' ' + item[0] + '\\n') \n",
    "        \n",
    "        \n",
    "    file.seek(0)                       # return position to start \n",
    "    print(file.read())                 # print contents of file"
   ]
  },
  {
   "cell_type": "markdown",
   "id": "fa85d4cd",
   "metadata": {},
   "source": [
    "__Question:__ What if we wanted to write only the top three scores to the file?"
   ]
  },
  {
   "cell_type": "markdown",
   "id": "8dfff219",
   "metadata": {},
   "source": [
    "# Importing a file from a different directory\n",
    "So far we have considered reading/writing files located within the same directory as the Python programme. \n",
    "\n",
    "Like when importing Python files/modules, often we want to read/write a file in a different directory. "
   ]
  },
  {
   "cell_type": "markdown",
   "id": "a2f34591",
   "metadata": {},
   "source": [
    "## Downstream file location\n",
    "\n",
    "`/` is used to indicate a sub-directory downstream of the current location.\n",
    "\n",
    "```python\n",
    "\n",
    "Documents/\n",
    "│\n",
    "├── Folder_1/\n",
    "│   └── myScores.txt\n",
    "│\n",
    "├── Folder_2/\n",
    "│   └── scores.txt\n",
    "│\n",
    "└── read_write.py\n",
    "\n",
    "```"
   ]
  },
  {
   "cell_type": "markdown",
   "id": "7b6811d7",
   "metadata": {},
   "source": [
    "__Example:__ Open a downstream file within `read_write.py`:\n",
    "\n",
    "- using `open`:\n",
    "\n",
    "    file = open('Folder_1/myScores.txt', 'a+')\n",
    "\n",
    "- using `with open`:\n",
    "\n",
    "    with open('Folder_2/scores.txt', 'a') as file:"
   ]
  },
  {
   "cell_type": "markdown",
   "id": "64b7c62b",
   "metadata": {},
   "source": [
    "## Upstream file location\n",
    "`../` is used to indicate a location one directory upstream of the current location.\n",
    "\n",
    "\n",
    "```python\n",
    "\n",
    "Documents/\n",
    "│\n",
    "├── Folder_1/\n",
    "│   └── read_write.py\n",
    "│\n",
    "├── Folder_2/\n",
    "│   └── scores.txt\n",
    "│\n",
    "└── myScores.txt\n",
    "\n",
    "```"
   ]
  },
  {
   "cell_type": "markdown",
   "id": "442610eb",
   "metadata": {},
   "source": [
    "__Example:__ Open an upstream file within `read_write.py` using `open`:\n",
    "\n",
    "    file = open('../myScores.txt', 'a+')\n",
    "\n",
    "__Example:__ Open a file in a different directory at the same level as the directory containing `read_write.py` using ` with open`:    \n",
    "\n",
    "    with open('../Folder_2/scores.txt', 'a') as file:"
   ]
  },
  {
   "cell_type": "markdown",
   "id": "9a70a1b5",
   "metadata": {},
   "source": [
    "# Summary \n",
    "- Python functions for reading and writing files: `open()`, `read()`, `write()`, `close()`\n",
    "- The __mode specifier__ defines operations that can be performed on the opened file \n",
    "- Files must always be closed after opening\n",
    "- Files can be automatically closed by opening with `with open`\n"
   ]
  },
  {
   "cell_type": "code",
   "execution_count": null,
   "id": "c6095654",
   "metadata": {},
   "outputs": [],
   "source": []
  },
  {
   "cell_type": "code",
   "execution_count": null,
   "id": "403029ec",
   "metadata": {},
   "outputs": [],
   "source": []
  },
  {
   "cell_type": "code",
   "execution_count": null,
   "id": "2385686d",
   "metadata": {},
   "outputs": [],
   "source": []
  },
  {
   "cell_type": "markdown",
   "id": "2aa2247a",
   "metadata": {},
   "source": [
    "__Questions for in class exercises:__ \n",
    "\n",
    "How could we check if this was a new high score?\n",
    "\n",
    "Replace leader in leader board? "
   ]
  },
  {
   "cell_type": "markdown",
   "id": "500e6655",
   "metadata": {},
   "source": [
    "\n",
    "\n",
    "__Example:__ Get a user to ente their name and add their name and score to the file 'scores.txt'"
   ]
  },
  {
   "cell_type": "code",
   "execution_count": 246,
   "id": "5f19f856",
   "metadata": {},
   "outputs": [
    {
     "name": "stdout",
     "output_type": "stream",
     "text": [
      "Enter a player name: Hemma\n"
     ]
    }
   ],
   "source": [
    "score = 160\n",
    "new_player = input(\"Enter a player name: \")\n",
    "\n",
    "file = open('scores.txt', 'a') # mode specifier to append not overwrite\n",
    "\n",
    "file.write(f'{new_player} {score} \\n')\n",
    "\n",
    "file.close()"
   ]
  },
  {
   "cell_type": "markdown",
   "id": "3579a274",
   "metadata": {},
   "source": [
    "TODO : \n",
    "Other file locations \n",
    "\n",
    "\n",
    "\n",
    "\n",
    "Other file types\n",
    "\n",
    "csv\n",
    "\n",
    "https://www.pluralsight.com/guides/importing-data-from-tab-delimited-files-with-python\n",
    "\n",
    "https://www.pythontutorial.net/python-basics/python-write-csv-file/\n",
    "\n",
    "\n",
    "\n",
    "reading in multiple files\n",
    "\n",
    "https://automatetheboringstuff.com/chapter8/\n",
    "\n",
    "https://automatetheboringstuff.com/chapter9/"
   ]
  },
  {
   "cell_type": "markdown",
   "id": "90cc8156",
   "metadata": {
    "slideshow": {
     "slide_type": "slide"
    }
   },
   "source": [
    "__Try it yourself__\n",
    "\n",
    "1. Save the previous 4 code cells contents to a file, `interrogate_file.py`. \n",
    "\n",
    "1. Correct the following line to specify the path to `my_file.txt`, *relative* to the location of `interrogate.py`:\n",
    ">`file = open(\"sample_data/my_file.txt’\", \"w\" )`\n",
    "\n",
    "1. Run `interrogate_file.py` from the terminal to see the file get created and display information about `my_file.txt`. "
   ]
  },
  {
   "cell_type": "markdown",
   "id": "58d6eefe",
   "metadata": {},
   "source": [
    "Newline `'\\n'` removed using `strip()`\n",
    "\n",
    "`strip()` can be applied to each item in the list using a list comprehension."
   ]
  },
  {
   "cell_type": "code",
   "execution_count": 90,
   "id": "3c28c3d7",
   "metadata": {
    "scrolled": true
   },
   "outputs": [
    {
     "name": "stdout",
     "output_type": "stream",
     "text": [
      "['Elena 550', 'Sajid 480', 'Tom 380', 'Farhad 305', 'Manesha 150', 'Jen 100']\n"
     ]
    }
   ],
   "source": [
    "words = [line.strip() for line in msg]\n",
    "print(words)"
   ]
  }
 ],
 "metadata": {
  "kernelspec": {
   "display_name": "Python 3",
   "language": "python",
   "name": "python3"
  },
  "language_info": {
   "codemirror_mode": {
    "name": "ipython",
    "version": 3
   },
   "file_extension": ".py",
   "mimetype": "text/x-python",
   "name": "python",
   "nbconvert_exporter": "python",
   "pygments_lexer": "ipython3",
   "version": "3.8.8"
  }
 },
 "nbformat": 4,
 "nbformat_minor": 5
}
