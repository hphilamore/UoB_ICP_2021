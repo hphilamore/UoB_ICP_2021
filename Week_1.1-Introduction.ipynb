{
 "cells": [
  {
   "cell_type": "markdown",
   "metadata": {
    "slideshow": {
     "slide_type": "slide"
    }
   },
   "source": [
    "\n",
    "\n",
    "# Introduction to Computer Programming\n",
    "\n",
    "## 1.1 Course Introduction\n",
    "\n",
    "\n",
    "<img src=\"img/full-colour-logo-UoB.png\" alt=\"Drawing\" style=\"width: 300px;\"/>"
   ]
  },
  {
   "cell_type": "markdown",
   "metadata": {
    "slideshow": {
     "slide_type": "slide"
    }
   },
   "source": [
    "# UoB covid mitigation guidelines \n",
    "\n",
    "- Stay at home if you have symptoms\n",
    "- Wash your hands\n",
    "- Take a Lateral Flow Device test twice a week\n",
    "- Wear your face covering when on campus\n",
    "- Observe local measures to keep you safe\n",
    "\n",
    "https://www.bristol.ac.uk/students/your-studies/study-2021/health-safety/"
   ]
  },
  {
   "cell_type": "markdown",
   "metadata": {
    "slideshow": {
     "slide_type": "slide"
    }
   },
   "source": [
    "# What is programming? \n",
    "\n",
    "Programming is a way to tell a computer to do a specific task e.g. \n",
    "- adding two numbers\n",
    "- plotting some data as a graph \n",
    "- saving a file\n",
    "\n",
    "Like humans, computers understand instructions given in particular (programming) languages. \n",
    "\n",
    "Computers understand instructions that are written in a specific *syntactical* form called a programming language."
   ]
  },
  {
   "cell_type": "markdown",
   "metadata": {
    "slideshow": {
     "slide_type": "slide"
    }
   },
   "source": [
    "# Why study programming?\n",
    "- A tool you can use for the other subject you study. \n",
    "- Increased use of computing in everyday life.\n",
    "- A growing sector of the jobs market (software engineering, data science, AI, robotics...).\n",
    "- Coding in jobs, not traditionally related to computing.\n",
    "- It's fun!"
   ]
  },
  {
   "cell_type": "markdown",
   "metadata": {
    "slideshow": {
     "slide_type": "slide"
    }
   },
   "source": [
    "# Why study Python?\n",
    " - Free and open source\n",
    " - \"High level\" (abstracted from computing processes eg. memory management)\n",
    " - Easy to learn\n",
    " - Versatile - both a scripting and a programming langauge:\n",
    "    - scripting : run in a host application for debugging and viewing output e.g. a mathematical model\n",
    "    - programming : controls a computer or machine e.g. a microcontroller on a robot\n",
    " - Increasingly used in industry\n",
    " - Community\n",
    "\n",
    " <img src=\"img/python_logo.png\" alt=\"Drawing\" style=\"width: 200px;\"/>"
   ]
  },
  {
   "cell_type": "markdown",
   "metadata": {
    "slideshow": {
     "slide_type": "slide"
    }
   },
   "source": [
    "# Course Goals\n",
    "\n",
    "- A good standalone programming toolkit.\n",
    "- Skills to improve the quality of your work in other subjects. \n",
    "- A fundamental base from which to start developing further as a programmer. \n"
   ]
  },
  {
   "cell_type": "markdown",
   "metadata": {
    "slideshow": {
     "slide_type": "slide"
    }
   },
   "source": [
    "# Course Entry Level\n",
    "\n",
    "Beginner, no prior programming knowlegde.\n",
    "<br>First year (and upwards), engineering / engineering-related degree programmme"
   ]
  },
  {
   "cell_type": "markdown",
   "metadata": {
    "slideshow": {
     "slide_type": "slide"
    }
   },
   "source": [
    "# Course stucture: Weekly schedule \n",
    "\n",
    "<b1><center>2 hour Lecture/lab</center></b1>\n",
    "\n",
    "\n",
    " | Group 1| Group 2 | Online students | \n",
    " | :-: | :-: | :-: |  \n",
    "| Tuesday  |Tuesday  | Monday  | \n",
    "| 13:00-15:00 |15:00-17:00 | 8:00-10:00 | \n",
    "| MVB 2.11 |MVB 2.11 | remo |\n",
    "\n",
    "\n",
    "***\n",
    "<b1><center>Optional drop-in sessions</center></b1>\n",
    "\n",
    " | On-campus | Online | \n",
    " | :-: | :-: | \n",
    "| Friday | Thursday |\n",
    "| 13:00-15:00 |9:00-10:00| \n",
    "| MVB 1.15 | remo | \n",
    "\n",
    "\n",
    "\n",
    "\n",
    "__Group 1__ : EMAT, Innovation, Biorobotics, everyone not listed in Groups 1/2\n",
    "\n",
    "__Group 2__: EENG, EDES, Digital Health MSc & CDT\n",
    "\n"
   ]
  },
  {
   "cell_type": "markdown",
   "metadata": {
    "slideshow": {
     "slide_type": "slide"
    }
   },
   "source": [
    "# Class Structure: \n",
    "\n",
    "2 hour lecture/lab\n",
    "\n",
    "Lecturers: Hemma Philamore, Matthew Hennessy\n",
    " \n",
    "###### Part 1 (1 hour)\n",
    "- 15-30 mins theory/demos\n",
    "- 30-45 mins practise exercises (essential + advanced questions) \n",
    "\n",
    "###### Part 2 (1 hour)\n",
    "- 15-30 mins theory/demos\n",
    "- 30-45 mins practise exercises (essential + advanced questions)\n",
    "\n",
    "Complete any unfinished 'essential' exercises for homework (not assessed). \n",
    "\n",
    "Please sit in the same seat/area of the lab each week - TAs (TA profile picture (remo) / lanyard (on-campus) will monitor the same areas of the lab. \n",
    " "
   ]
  },
  {
   "cell_type": "markdown",
   "metadata": {
    "slideshow": {
     "slide_type": "slide"
    }
   },
   "source": [
    "# How To Access the Course Material\n",
    "Blackboard page for unit EMAT10007:\n",
    "- Slides (pdf and Jupyter notebook)\n",
    "- Weekly exercises (pdf)\n",
    "- Example answers released the following week\n",
    "\n",
    "Access these files during the class using a web browser. "
   ]
  },
  {
   "cell_type": "markdown",
   "metadata": {
    "slideshow": {
     "slide_type": "slide"
    }
   },
   "source": [
    "# Different ways of running Python / software we will use\n",
    "\n",
    "We wil run Python code (scripts) in different environments:\n",
    "- Jupyter notebook (lecture slides)\n",
    "- Spyder IDE (integrated development environment)\n",
    "\n",
    "<br>\n",
    "\n",
    "#### IDE (integrated development environment)\n",
    "Allows you to do the following within a single piece of software:\n",
    "- write and edit code\n",
    "- run code and see the output\n",
    "- debug code (graphical dispay showing the nature and cause of an error)\n",
    "\n"
   ]
  },
  {
   "cell_type": "code",
   "execution_count": 12,
   "metadata": {},
   "outputs": [
    {
     "name": "stdout",
     "output_type": "stream",
     "text": [
      "6\n"
     ]
    }
   ],
   "source": [
    "B = 6\n",
    "\n",
    "print(B) \n"
   ]
  },
  {
   "cell_type": "markdown",
   "metadata": {
    "slideshow": {
     "slide_type": "slide"
    }
   },
   "source": [
    "\n",
    "We will learn Python __syntax__ .\n",
    "\n",
    "Python may be be run in many other environments (computer command line, raspberry pi etc...)  "
   ]
  },
  {
   "cell_type": "markdown",
   "metadata": {
    "slideshow": {
     "slide_type": "slide"
    }
   },
   "source": [
    "# Installing Anaconda \n",
    "Anaconda installs a number of applications including:\n",
    "- Jupyter notebook \n",
    "- Spyder IDE \n",
    "\n",
    "Instructions for installing Anaconda on your personal computer:\n",
    "- Windows : https://docs.anaconda.com/anaconda/install/windows/\n",
    "- Mac : https://docs.anaconda.com/anaconda/install/mac-os/\n",
    "- Linux : https://docs.anaconda.com/anaconda/install/linux/ \n",
    "\n",
    "(You should have already installed Anaconda if attending the online class)"
   ]
  },
  {
   "cell_type": "markdown",
   "metadata": {
    "slideshow": {
     "slide_type": "slide"
    }
   },
   "source": [
    "## Opening Anaconda \n",
    "\n",
    "You may use the lab computers or personal laptop computers in the lecture:\n",
    "\n",
    "__Linux lab__\n",
    "- Open Terminal from programs menu\n",
    "- `/opt/anaconda/2020.07/bin/anaconda-navigator`\n",
    "- Press enter\n",
    "\n",
    "__Personal computer__\n",
    "- Choose Anaconda from the programs menu\n",
    "\n",
    "<img src=\"img/Anaconda_Logo.png\" alt=\"Drawing\" style=\"width: 200px;\"/>\n",
    "\n",
    "\n"
   ]
  },
  {
   "cell_type": "markdown",
   "metadata": {
    "slideshow": {
     "slide_type": "slide"
    }
   },
   "source": [
    "\n",
    "## Opening Jupyter notebook \n",
    "Click 'Launch' next to the Jupyter notebook application\n",
    "<img src=\"img/jupyter_logo.png\" alt=\"Drawing\" style=\"width: 100px;\"/>\n",
    "\n",
    "## Opening lecture notes in Jupyter notebook\n",
    "Navigate to where you have downloaded the .ipynb file from blackboard and click on it to open.\n",
    "\n",
    "You can now edit code slides e.g. copy in-class examples \n",
    "\n",
    "Alternativey, open as pdf e.g. in web browser "
   ]
  },
  {
   "cell_type": "markdown",
   "metadata": {
    "slideshow": {
     "slide_type": "slide"
    }
   },
   "source": [
    "# Dependencies \n",
    "\n",
    "If viewing slides using Jupyter notebook...\n",
    "\n",
    "The folders `sample_data`, and `img` should be stored in the *same folder* as the lecture slides (.ipynb files) for the images and code examples to appear correctly in the lecture slides.\n",
    "\n",
    "It is recommended that you store __all slides__, __`sample_data`__,  __`img`__ together in a single folder. \n",
    "\n",
    "You can download `sample_data`, and `img` from the main blackboard page. \n"
   ]
  },
  {
   "cell_type": "markdown",
   "metadata": {
    "slideshow": {
     "slide_type": "slide"
    }
   },
   "source": [
    "# Opening Spyder\n",
    "\n",
    "Click 'Launch' next to the Spyder application\n",
    "\n",
    "<img src=\"img/spyder_logo.png\" alt=\"Drawing\" style=\"width: 100px;\"/>"
   ]
  },
  {
   "cell_type": "markdown",
   "metadata": {
    "slideshow": {
     "slide_type": "slide"
    }
   },
   "source": [
    "# How to save your work in Spyder\n",
    "\n",
    "You will complete the weekly exercises in spyder. \n",
    "\n",
    "These are effectively your notes. \n",
    "\n",
    "Save them in an organised way (e.g using the week/class number).\n",
    "\n",
    "File >> Save >> [`Filename`] (.py file extension automatically added)"
   ]
  },
  {
   "cell_type": "markdown",
   "metadata": {
    "slideshow": {
     "slide_type": "slide"
    }
   },
   "source": [
    "# How you will be assssed\n",
    "__Assignment:__ Single piece of coursework, completed individually.\n",
    "\n",
    "__Theme:__ Write a program to perform and encryption and decryption task + a short (2 page) report \n",
    "\n",
    "__Set:__  End of November\n",
    "\n",
    "__Deadline:__ Before Christmas break\n"
   ]
  },
  {
   "cell_type": "markdown",
   "metadata": {
    "slideshow": {
     "slide_type": "slide"
    }
   },
   "source": [
    "\n",
    "<h1><center>Any Questions?</center></h1>"
   ]
  },
  {
   "cell_type": "markdown",
   "metadata": {
    "slideshow": {
     "slide_type": "slide"
    }
   },
   "source": [
    "<h1><center>Let's give it a go!...</center></h1>"
   ]
  }
 ],
 "metadata": {
  "celltoolbar": "Slideshow",
  "kernelspec": {
   "display_name": "Python 3",
   "language": "python",
   "name": "python3"
  },
  "language_info": {
   "codemirror_mode": {
    "name": "ipython",
    "version": 3
   },
   "file_extension": ".py",
   "mimetype": "text/x-python",
   "name": "python",
   "nbconvert_exporter": "python",
   "pygments_lexer": "ipython3",
   "version": "3.8.8"
  }
 },
 "nbformat": 4,
 "nbformat_minor": 2
}
