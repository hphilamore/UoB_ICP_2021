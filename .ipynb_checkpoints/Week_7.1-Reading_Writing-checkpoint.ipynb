{
 "cells": [
  {
   "cell_type": "markdown",
   "id": "4ce47f7d",
   "metadata": {
    "slideshow": {
     "slide_type": "slide"
    }
   },
   "source": [
    "# Introduction to Computer Programming\n",
    "\n",
    "## Week 7.1: Reading & Writing Files\n",
    "\n",
    "* * *\n",
    "\n",
    "<img src=\"img/full-colour-logo-UoB.png\" alt=\"Bristol\" style=\"width: 300px;\"/>"
   ]
  },
  {
   "cell_type": "markdown",
   "id": "3e4f9571",
   "metadata": {
    "slideshow": {
     "slide_type": "slide"
    }
   },
   "source": [
    "__Reading files__ : Importing data (e.g. experiment results) into a program\n",
    "\n",
    "__Writing files__ : Exporting data - storing data outside of the program. <br>(e.g. output of a calculation) "
   ]
  },
  {
   "cell_type": "markdown",
   "id": "778d3144",
   "metadata": {
    "slideshow": {
     "slide_type": "slide"
    }
   },
   "source": [
    "Python functions for reading and writing text data files (.txt, .csv, .dat): \n",
    "- `open()`\n",
    "- `read()`\n",
    "- `write()`\n",
    "- `close()` "
   ]
  },
  {
   "cell_type": "markdown",
   "id": "4c58c8b2",
   "metadata": {
    "slideshow": {
     "slide_type": "slide"
    }
   },
   "source": [
    "Before a file can be read or written to, it must be opened using the `open()` function. \n",
    "\n",
    "```python\n",
    "open(file_path, mode_specifier)\n",
    "```\n",
    "\n",
    "__Mode specifier:__ an open file can be read, overwritten, or added to, depending on the mode specifier used to open it. \n",
    "\n",
    "\n",
    "| Mode specifier | Read (R)/Write (W)| File must already exist | If no file exists  | `write() `| Stream position when opened|\n",
    "| :-: | :-: | :-: | :-: | :-: | :-: | \n",
    "| `r` | R |Yes | N/A | overwrites previous contents | start |\n",
    "| `w` | W |No | Creates new file | overwrites previous contents | start |\n",
    "| `a` | W |No | Creates new file | appends text to end of file| end |\n",
    "| `r+` | R+W |Yes | N/A | overwrites previous contents | start |\n",
    "| `w+` | R+W |No | Creates new file | overwrites previous contents | start |\n",
    "| `a+` | R+W | No | Creates new file | appends text to end of file | end |\n"
   ]
  },
  {
   "cell_type": "markdown",
   "id": "5196f57c",
   "metadata": {
    "slideshow": {
     "slide_type": "slide"
    }
   },
   "source": [
    "Once the file is open, it creates a *file object*.  \n",
    "\n",
    "As you studied last week, an object (an instance of a class) has methods: actions that an object is able to perform. "
   ]
  },
  {
   "cell_type": "markdown",
   "id": "3cf78553",
   "metadata": {
    "slideshow": {
     "slide_type": "slide"
    }
   },
   "source": [
    "# Writing files\n",
    "We will use the methods:\n",
    "- `write()`\n",
    "- `close()`"
   ]
  },
  {
   "cell_type": "markdown",
   "id": "ebca67f9",
   "metadata": {},
   "source": [
    "`write` can be used to write string data to a text file.\n",
    "\n",
    "```python\n",
    "file = open('my_file.txt', 'w') # mode specifier to write\n",
    "\n",
    "file.write('hello world')\n",
    "\n",
    "file.close()\n",
    "```"
   ]
  },
  {
   "cell_type": "markdown",
   "id": "ca3271d6",
   "metadata": {
    "slideshow": {
     "slide_type": "slide"
    }
   },
   "source": [
    "__Example:__ Write the high score table shown to a new file with the filename scores.txt\n",
    "\n",
    "| |  | \n",
    "| :-: | :-: |  \n",
    "| Elena | 550 | \n",
    "| Sajid | 480 | \n",
    "| Tom | 380 | \n",
    "| Farhad | 305 | \n",
    "| Manesha | 150 | "
   ]
  },
  {
   "cell_type": "code",
   "execution_count": 138,
   "id": "011b5b57",
   "metadata": {},
   "outputs": [],
   "source": [
    "names = ['Elena', 'Sajid', 'Tom', 'Farhad', 'Manesha']\n",
    "scores = [550, 480, 380, 305, 150]\n",
    "\n",
    "file = open('sample_data/scores.txt', 'w') \n",
    "\n",
    "# loop through two lists \n",
    "for n, s in zip(names, scores):\n",
    "    file.write(n + ' ' + str(s) + '\\n') # numbers converted to string\n",
    "\n",
    "file.close()"
   ]
  },
  {
   "cell_type": "markdown",
   "id": "8c548f15",
   "metadata": {
    "slideshow": {
     "slide_type": "slide"
    }
   },
   "source": [
    "A file, scores.txt will be created.\n",
    "\n",
    "The file's location is determined when `open` is called. \n",
    "\n",
    "You can open the file in a text editor to check the contents. "
   ]
  },
  {
   "cell_type": "markdown",
   "id": "e73eff81",
   "metadata": {
    "slideshow": {
     "slide_type": "slide"
    }
   },
   "source": [
    "A file type that is often used to store tabulated data is the .csv file.\n",
    "\n",
    ".csv files can be opened in spreadsheet programs like excel  \n",
    "\n",
    "A .csv file is simply a text file, with row items separated (or *delimited*) by commas."
   ]
  },
  {
   "cell_type": "markdown",
   "id": "5e065ea8",
   "metadata": {
    "slideshow": {
     "slide_type": "slide"
    }
   },
   "source": [
    "__Example:__ Write a high score table stored as two __lists__ to a new file with the name scores.csv"
   ]
  },
  {
   "cell_type": "code",
   "execution_count": 174,
   "id": "1612f876",
   "metadata": {},
   "outputs": [],
   "source": [
    "names = ['Elena', 'Sajid', 'Tom', 'Farhad', 'Manesha']\n",
    "scores = [550, 480, 380, 305, 150]\n",
    "\n",
    "file = open('sample_data/scores.csv', 'w') \n",
    "\n",
    "# loop through two lists \n",
    "for n, s in zip(names, scores):\n",
    "    file.write(n + ',' + str(s) + '\\n') # a comma seperates the values\n",
    "\n",
    "file.close()"
   ]
  },
  {
   "cell_type": "markdown",
   "id": "bede9ed9",
   "metadata": {
    "slideshow": {
     "slide_type": "skip"
    }
   },
   "source": [
    "__Example:__ Write a high score table stored as a __dictionary__ to a new file with the filename scores.txt"
   ]
  },
  {
   "cell_type": "code",
   "execution_count": 190,
   "id": "98e991cb",
   "metadata": {
    "slideshow": {
     "slide_type": "skip"
    }
   },
   "outputs": [],
   "source": [
    "scores = {'Elena': 550,\n",
    "          'Sajid': 480,\n",
    "          'Tom': 380,\n",
    "          'Farhad': 305,\n",
    "          'Manesha': 150}\n",
    "\n",
    "file = open('sample_data/scores.txt', 'w') \n",
    "\n",
    "# loop through two lists - keys and values of dictionary\n",
    "for k, v in scores.items():\n",
    "    file.write(k + ' ' + str(v) + '\\n')\n",
    "\n",
    "file.close()"
   ]
  },
  {
   "cell_type": "markdown",
   "id": "0b55eba5",
   "metadata": {
    "slideshow": {
     "slide_type": "slide"
    }
   },
   "source": [
    "### Closing Files\n",
    "Why do we need to close a file?\n",
    "1. Not automatically closed.  \n",
    "3. Saves changes to file.\n",
    "4. Depending on OS, you may not be able to open a file simultaneously for reading and writing e.g. a program attempts to open a file for writing that is already open for reading"
   ]
  },
  {
   "cell_type": "markdown",
   "id": "f087f623",
   "metadata": {
    "slideshow": {
     "slide_type": "slide"
    }
   },
   "source": [
    "The simplest open-close process.  \n",
    "\n",
    "This will erase the contents of / create a new file `file.txt` in the folder `sample_data`"
   ]
  },
  {
   "cell_type": "code",
   "execution_count": 1,
   "id": "9e8488c9",
   "metadata": {},
   "outputs": [],
   "source": [
    "open('sample_data/file.txt', 'w').close()\n"
   ]
  },
  {
   "cell_type": "markdown",
   "id": "5057d456",
   "metadata": {
    "slideshow": {
     "slide_type": "slide"
    }
   },
   "source": [
    "### Appending files\n",
    "__Example:__ Append (add a new entry to the end of) scores.txt so that the table reads\n",
    "\n",
    "\n",
    "  \n",
    "| |  | \n",
    "| :-: | :-: |  \n",
    "| Elena | 550 | \n",
    "| Sajid | 480 | \n",
    "| Tom | 380 | \n",
    "| Farhad | 305 | \n",
    "| Manesha | 150 | \n",
    "| Jen | 100 |\n"
   ]
  },
  {
   "cell_type": "code",
   "execution_count": 115,
   "id": "3a07c1d3",
   "metadata": {},
   "outputs": [],
   "source": [
    "file = open('sample_data/scores.txt', 'a') # mode specifier to append not overwrite\n",
    "\n",
    "file.write('Jen 100\\n')\n",
    "\n",
    "file.close()\n"
   ]
  },
  {
   "cell_type": "markdown",
   "id": "de209871",
   "metadata": {
    "slideshow": {
     "slide_type": "slide"
    }
   },
   "source": [
    "# Reading Files \n",
    "\n",
    "We can instead use the mode specifier `'r'` to open a file in read mode. \n",
    "\n",
    "`'r'` is in fact the default mode specifier so we can omit it. "
   ]
  },
  {
   "cell_type": "code",
   "execution_count": 3,
   "id": "a60ef575",
   "metadata": {},
   "outputs": [
    {
     "name": "stdout",
     "output_type": "stream",
     "text": [
      "1 Elena 550\n",
      "\n",
      "2 Sajid 480\n",
      "\n",
      "3 Tom 380\n",
      "\n",
      "4 Farhad 305\n",
      "\n",
      "5 Manesha 150\n",
      "\n"
     ]
    }
   ],
   "source": [
    "f = open('sample_data/scores.txt', 'r')    # file object returned by `open` is ITERABLE but not SUBSCRIPTABLE\n",
    "\n",
    "#print(f[0])    # not subscriptable\n",
    "\n",
    "for line in f:  # iterable\n",
    "    print(line) # each line is a string\n",
    "    \n",
    "#f.seek(0)      # stream position goes to end of file when operation run on file object\n",
    "                # can be returned to start with seek \n",
    "    \n",
    "for line in f:\n",
    "    print(line) \n",
    "    \n",
    "f.close()"
   ]
  },
  {
   "cell_type": "markdown",
   "id": "203c09da",
   "metadata": {
    "slideshow": {
     "slide_type": "slide"
    }
   },
   "source": [
    "If we convert the file object to a list:\n",
    "- it is subsriptable \n",
    "- the stream position doesn't need to be reset after each operation"
   ]
  },
  {
   "cell_type": "markdown",
   "id": "7db756b8",
   "metadata": {
    "slideshow": {
     "slide_type": "slide"
    }
   },
   "source": [
    "__Example:__ \n",
    "\n",
    "Collect a list of names and a list of scores from the file `'sample_data/scores.txt'`\n",
    "\n",
    "Print the name and score of the winnder.    "
   ]
  },
  {
   "cell_type": "code",
   "execution_count": 176,
   "id": "43f97d59",
   "metadata": {},
   "outputs": [
    {
     "name": "stdout",
     "output_type": "stream",
     "text": [
      "winner:  Elena 550\n",
      "\n",
      "['Elena', 'Sajid', 'Tom', 'Farhad', 'Manesha'] ['550', '480', '380', '305', '150']\n"
     ]
    }
   ],
   "source": [
    "f = open('sample_data/scores.txt', 'r')\n",
    "\n",
    "file = list(f)                # convert to list of strings (lines)\n",
    "\n",
    "names, scores = [], []          \n",
    "for line in file:            # iterable: collect names and scores using loop \n",
    "    L = line.split()         # split() converts string (line) to list of strings (words), seperated by ' ' by default\n",
    "    names.append(L[0])\n",
    "    scores.append(L[1])\n",
    "    \n",
    "print('winner: ', file[0])   # subscriptable\n",
    "    \n",
    "f.close()\n",
    "\n",
    "print(names, scores)\n"
   ]
  },
  {
   "cell_type": "markdown",
   "id": "a6c3a953",
   "metadata": {
    "slideshow": {
     "slide_type": "slide"
    }
   },
   "source": [
    "Alternatively, we can also use list comprehension instead of a loop to get the list of names and list of scores. "
   ]
  },
  {
   "cell_type": "code",
   "execution_count": 5,
   "id": "2cd4d7d5",
   "metadata": {},
   "outputs": [
    {
     "name": "stdout",
     "output_type": "stream",
     "text": [
      "[['1', 'Elena', '550'], ['2', 'Sajid', '480'], ['3', 'Tom', '380'], ['4', 'Farhad', '305'], ['5', 'Manesha', '150']]\n",
      "['1', '2', '3', '4', '5'] ['Elena', 'Sajid', 'Tom', 'Farhad', 'Manesha']\n"
     ]
    }
   ],
   "source": [
    "f = open('sample_data/scores.txt', 'r')\n",
    "\n",
    "file = list(f)                        # convert to list of strings (lines)\n",
    "\n",
    "L = [line.split() for line in file]   # list of lists\n",
    "print(L)\n",
    "names = [i[0] for i in L]             # names and scores\n",
    "scores = [i[1] for i in L]\n",
    "\n",
    "print(names, scores)\n"
   ]
  },
  {
   "cell_type": "markdown",
   "id": "abfd0dda",
   "metadata": {
    "slideshow": {
     "slide_type": "slide"
    }
   },
   "source": [
    "# Reading and Writing with `r+`, `w+`, `a+`\n",
    "\n"
   ]
  },
  {
   "cell_type": "code",
   "execution_count": 182,
   "id": "a1708a87",
   "metadata": {},
   "outputs": [
    {
     "name": "stdout",
     "output_type": "stream",
     "text": [
      "Elena 550\n",
      "\n",
      "Sajid 480\n",
      "\n",
      "Tom 380\n",
      "\n",
      "Farhad 305\n",
      "\n",
      "Manesha 150\n",
      "\n",
      "Ben 50\n",
      "\n",
      "Ola 500\n",
      "\n"
     ]
    }
   ],
   "source": [
    "file = open('sample_data/scores.txt', 'r+') # We want to read then append\n",
    "\n",
    "for line in file:                           # read file contents\n",
    "    print(line)\n",
    "    \n",
    "# stream position at end of file\n",
    "    \n",
    "file.write('Ben 50\\n')                      # append some data\n",
    "file.write('Ola 500\\n')\n",
    "    \n",
    "file.close()\n"
   ]
  },
  {
   "cell_type": "markdown",
   "id": "c06de4dd",
   "metadata": {
    "slideshow": {
     "slide_type": "slide"
    }
   },
   "source": [
    "Be aware of the *stream position* when opening a file to read and write. \n",
    "\n",
    "We can imagine the stream position as the position of the cursor in the file\n",
    "\n",
    "The stream position is at the *end* of the file:\n",
    "\n",
    "- before appending\n",
    "- after appending\n",
    "- after over-writing\n",
    "- after reading\n",
    "\n",
    "\n",
    "The stream position can be moved to the start of the file (or any other position) with `seek()`.\n",
    "\n",
    "The file can be erased from a position (function argument) onwards with `truncate()`, default position is current position)"
   ]
  },
  {
   "cell_type": "markdown",
   "id": "6ec77141",
   "metadata": {
    "slideshow": {
     "slide_type": "slide"
    }
   },
   "source": [
    "__Example:__ Open a file, add some data then read new contents"
   ]
  },
  {
   "cell_type": "code",
   "execution_count": 14,
   "id": "7506593d",
   "metadata": {},
   "outputs": [
    {
     "name": "stdout",
     "output_type": "stream",
     "text": [
      "Ben 50\n",
      "Ola 500\n",
      "6 Ben 50\n",
      "7 Ola 500\n"
     ]
    }
   ],
   "source": [
    "file = open('sample_data/scores.txt', 'a+') \n",
    "\n",
    "file.write('6 Ben 50\\n')         # append some data\n",
    "file.write('7 Ola 500\\n')\n",
    "\n",
    "file.seek(0)                     # GO BACK TO THE START OF FILE\n",
    "\n",
    "for line in file:                # read file contents\n",
    "    print(line, end='')\n",
    "    \n",
    "file.close()"
   ]
  },
  {
   "cell_type": "markdown",
   "id": "b8c9bc31",
   "metadata": {
    "slideshow": {
     "slide_type": "slide"
    }
   },
   "source": [
    "__Example:__ Open a file, read the contents, then overwrite the file"
   ]
  },
  {
   "cell_type": "code",
   "execution_count": 15,
   "id": "a5381f3c",
   "metadata": {
    "slideshow": {
     "slide_type": "-"
    }
   },
   "outputs": [
    {
     "name": "stdout",
     "output_type": "stream",
     "text": [
      "Ben 50\n",
      "Ola 500\n",
      "6 Ben 50\n",
      "7 Ola 500\n"
     ]
    }
   ],
   "source": [
    "file = open('sample_data/scores.txt', 'r+') \n",
    "\n",
    "for line in file:               # read file contents\n",
    "    print(line, end='')\n",
    "\n",
    "#file.truncate(0)              # ERASE FROM START OF FILE\n",
    "file.seek(0)                   # GO BACK TO THE START OF FILE\n",
    "\n",
    "file.write('6 Ben 50\\n')       # write some data\n",
    "file.write('7 Ola 500\\n')\n",
    "\n",
    "file.truncate()                # ERASE FROM CURRENT POSITION\n",
    "    \n",
    "file.close()"
   ]
  },
  {
   "cell_type": "markdown",
   "id": "930b4996",
   "metadata": {
    "slideshow": {
     "slide_type": "slide"
    }
   },
   "source": [
    "# Automatically closing files\n",
    "It can be easy to forget to close a file with `close()`\n",
    "\n",
    "`with open()` can be used instead of `open()` to remove the need for `close()`:"
   ]
  },
  {
   "cell_type": "code",
   "execution_count": 16,
   "id": "025af545",
   "metadata": {
    "slideshow": {
     "slide_type": "-"
    }
   },
   "outputs": [
    {
     "name": "stdout",
     "output_type": "stream",
     "text": [
      "next bit of the program\n"
     ]
    }
   ],
   "source": [
    "with open('sample_data/scores.txt', 'a') as file:\n",
    "    file.write('8 Ria 460 \\n')\n",
    "    \n",
    "print('next bit of the program') # Code unindents. File automatically closed\n"
   ]
  },
  {
   "cell_type": "code",
   "execution_count": 17,
   "id": "c7247d75",
   "metadata": {
    "slideshow": {
     "slide_type": "slide"
    }
   },
   "outputs": [
    {
     "name": "stdout",
     "output_type": "stream",
     "text": [
      "6 Ben 50\n",
      "7 Ola 500\n",
      "8 Ria 460 \n",
      "\n"
     ]
    }
   ],
   "source": [
    "with open('sample_data/scores.txt', 'r') as file:\n",
    "    print(file.read())\n",
    "    "
   ]
  },
  {
   "cell_type": "markdown",
   "id": "8dfff219",
   "metadata": {
    "slideshow": {
     "slide_type": "slide"
    }
   },
   "source": [
    "# Importing a file from a different directory\n",
    "So far we have considered reading/writing files located within the same directory as the Python program. \n",
    "\n",
    "Like when importing Python files/modules, often we want to read/write a file located in a different directory. "
   ]
  },
  {
   "cell_type": "markdown",
   "id": "a2f34591",
   "metadata": {
    "slideshow": {
     "slide_type": "slide"
    }
   },
   "source": [
    "## Downstream file location\n",
    "\n",
    "`/` is used to indicate a sub-directory downstream of the current location.\n",
    "\n",
    "```python\n",
    "\n",
    "Documents/\n",
    "│\n",
    "├── Folder_1/\n",
    "│   └── myScores.txt\n",
    "│\n",
    "├── Folder_2/\n",
    "│   └── scores.txt\n",
    "│\n",
    "└── read_write.py\n",
    "\n",
    "```"
   ]
  },
  {
   "cell_type": "markdown",
   "id": "7b6811d7",
   "metadata": {
    "slideshow": {
     "slide_type": "slide"
    }
   },
   "source": [
    "__Example:__ Open a downstream file within `read_write.py`:\n",
    "\n",
    "- using `open`:\n",
    "\n",
    "    `file = open('Folder_1/myScores.txt', 'a+')`\n",
    "<br>\n",
    "- using `with open`:\n",
    "\n",
    "    `with open('Folder_2/scores.txt', 'a') as file:`"
   ]
  },
  {
   "cell_type": "markdown",
   "id": "64b7c62b",
   "metadata": {
    "slideshow": {
     "slide_type": "slide"
    }
   },
   "source": [
    "## Upstream file location\n",
    "`../` is used to indicate a location one directory upstream of the current location.\n",
    "\n",
    "\n",
    "```python\n",
    "\n",
    "Documents/\n",
    "│\n",
    "├── Folder_1/\n",
    "│   └── read_write.py\n",
    "│\n",
    "├── Folder_2/\n",
    "│   └── scores.txt\n",
    "│\n",
    "└── myScores.txt\n",
    "\n",
    "```"
   ]
  },
  {
   "cell_type": "markdown",
   "id": "442610eb",
   "metadata": {
    "slideshow": {
     "slide_type": "slide"
    }
   },
   "source": [
    "__Example:__ Open an upstream file within `read_write.py` using `open`:\n",
    "\n",
    "    file = open('../myScores.txt', 'a+')\n",
    "\n",
    "__Example:__ Open a file in a different directory at the same level as the directory containing `read_write.py` using ` with open`:    \n",
    "\n",
    "    with open('../Folder_2/scores.txt', 'a') as file:"
   ]
  },
  {
   "cell_type": "markdown",
   "id": "9a70a1b5",
   "metadata": {
    "slideshow": {
     "slide_type": "slide"
    }
   },
   "source": [
    "# Summary \n",
    "- Python functions for reading and writing files: `open()`, `read()`, `write()`, `close()`\n",
    "- The __mode specifier__ defines operations that can be performed on the opened file \n",
    "- Files must always be closed after opening\n",
    "- Files can be automatically closed by opening with `with open`\n"
   ]
  },
  {
   "cell_type": "markdown",
   "id": "0be840be",
   "metadata": {
    "slideshow": {
     "slide_type": "skip"
    }
   },
   "source": [
    "__Extra Example:__ \n",
    "\n",
    "Re-order table in scores.txt so it shows the players and their scores ranked  in order of highest score to lowest score. "
   ]
  },
  {
   "cell_type": "code",
   "execution_count": 191,
   "id": "fff065dc",
   "metadata": {
    "slideshow": {
     "slide_type": "skip"
    }
   },
   "outputs": [
    {
     "name": "stdout",
     "output_type": "stream",
     "text": [
      "[['Elena', '550'], ['Sajid', '480'], ['Tom', '380'], ['Farhad', '305'], ['Manesha', '150']]\n",
      "['Elena', 'Sajid', 'Tom', 'Farhad', 'Manesha'] [550.0, 480.0, 380.0, 305.0, 150.0]\n",
      "['Elena', 'Sajid', 'Tom', 'Farhad', 'Manesha']\n",
      "[550.0, 480.0, 380.0, 305.0, 150.0]\n",
      "[(550.0, 'Elena'), (480.0, 'Sajid'), (380.0, 'Tom'), (305.0, 'Farhad'), (150.0, 'Manesha')]\n",
      "Elena 550.0\n",
      "Sajid 480.0\n",
      "Tom 380.0\n",
      "Farhad 305.0\n",
      "Manesha 150.0\n",
      "\n"
     ]
    }
   ],
   "source": [
    "with open('sample_data/scores.txt', 'r+') as f: # read then overwrite\n",
    "    file = list(f)                        # convert to list of strings (lines)\n",
    "    L = [line.split() for line in file]   # list of lists\n",
    "    print(L)\n",
    "    names = [i[0] for i in L]\n",
    "    scores = [i[1] for i in L]\n",
    "    scores = [float(s) for s in scores]   # convert to numerical data\n",
    "    print(names, scores)\n",
    "        \n",
    "    print(names)\n",
    "    print(scores)\n",
    "     \n",
    "    # sorted can sort lists, and also zipped lists using order of first list\n",
    "    sorted_by_score = sorted(zip(scores, names), reverse=True)\n",
    "    print(sorted_by_score)\n",
    "    \n",
    "    f.truncate(0)                   # erase file \n",
    "    f.seek(0)                       # go to start\n",
    "    \n",
    "    \n",
    "    for item in sorted_by_score:       # write edited table to file\n",
    "        f.write(item[1] + ' ' + str(item[0]) + '\\n') \n",
    "        \n",
    "        \n",
    "    f.seek(0)                       # go to start \n",
    "    print(f.read())                 # read returns contents of file as single string\n",
    "\n",
    "    "
   ]
  },
  {
   "cell_type": "markdown",
   "id": "0b958632",
   "metadata": {
    "slideshow": {
     "slide_type": "slide"
    }
   },
   "source": [
    "__Question:__ What if we wanted to write only the top three scores to the file?"
   ]
  }
 ],
 "metadata": {
  "celltoolbar": "Slideshow",
  "kernelspec": {
   "display_name": "Python 3",
   "language": "python",
   "name": "python3"
  },
  "language_info": {
   "codemirror_mode": {
    "name": "ipython",
    "version": 3
   },
   "file_extension": ".py",
   "mimetype": "text/x-python",
   "name": "python",
   "nbconvert_exporter": "python",
   "pygments_lexer": "ipython3",
   "version": "3.8.8"
  }
 },
 "nbformat": 4,
 "nbformat_minor": 5
}
