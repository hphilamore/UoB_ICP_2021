{
 "cells": [
  {
   "cell_type": "markdown",
   "id": "fa1e446b",
   "metadata": {
    "slideshow": {
     "slide_type": "slide"
    }
   },
   "source": [
    "\n",
    "# Introduction to Computer Programming\n",
    "\n",
    "## 2.1 Control Flow\n",
    "\n",
    "<img src=\"img/full-colour-logo-UoB.png\" alt=\"Drawing\" style=\"width: 300px;\"/>"
   ]
  },
  {
   "cell_type": "markdown",
   "id": "30568c53",
   "metadata": {
    "slideshow": {
     "slide_type": "slide"
    }
   },
   "source": [
    "# In-class Demos"
   ]
  },
  {
   "cell_type": "markdown",
   "id": "0bed29c9",
   "metadata": {
    "slideshow": {
     "slide_type": "slide"
    }
   },
   "source": [
    "__Example 1:__ <br>Write a program to modify the initial value of the variable `x` and print the new value, as shown in the flow diagram. \n",
    "\n",
    "<center>\n",
    "  <img src=\"img/alg_flow.png\" alt=\"Drawing\" style=\"width: 400px;\"/>\n",
    "</center>"
   ]
  },
  {
   "cell_type": "code",
   "execution_count": 49,
   "id": "876656f0",
   "metadata": {
    "slideshow": {
     "slide_type": "-"
    }
   },
   "outputs": [
    {
     "name": "stdout",
     "output_type": "stream",
     "text": [
      "0\n"
     ]
    }
   ],
   "source": [
    "x = 20\n",
    "\n",
    "if x > 10:\n",
    "    x = x - 20\n",
    "\n",
    "elif x < 2:\n",
    "    x = x + 21\n",
    "    \n",
    "else:\n",
    "    x = x * 2.5\n",
    "    \n",
    "print(x)"
   ]
  },
  {
   "cell_type": "markdown",
   "id": "2990d31a",
   "metadata": {
    "slideshow": {
     "slide_type": "slide"
    }
   },
   "source": [
    "# Variable re-assignment \n",
    "__Note:__ In programming, `x = x - 20` is used to set the value of `x` to the original value of `x` minus 21. \n",
    "\n",
    "If this were a mathematical equation, no values of `x` would satisfy the equation. \n",
    "\n",
    "In programming, however, an expression of this form is used to *reassign* the value of `x`. "
   ]
  },
  {
   "cell_type": "markdown",
   "id": "8cc2a18e",
   "metadata": {
    "slideshow": {
     "slide_type": "slide"
    }
   },
   "source": [
    "Let's remind ourselves of an example from last week. \n",
    "\n",
    ">__Is it lunchtime?__\n",
    "<br>`True` if time between lunch start and end times.\n",
    "<br>`False` if not.\n",
    "\n",
    ">__Is it time for work?__\n",
    "<br>`True` if time between work start and end times __and not__ lunchtime.\n",
    "<br>`False` if not."
   ]
  },
  {
   "cell_type": "markdown",
   "id": "22b032e2",
   "metadata": {
    "slideshow": {
     "slide_type": "slide"
    }
   },
   "source": [
    "Let's build on the example from last week by including control statements. \n",
    "\n",
    "__Example 2:__ \n",
    "<br>Write a program that shows where a person will be based on the time of day. \n",
    "- at the lab if it is lunchtime __or__ time for work \n",
    "- at home if it is before or after work"
   ]
  },
  {
   "cell_type": "code",
   "execution_count": 48,
   "id": "8d5cce2d",
   "metadata": {},
   "outputs": [
    {
     "name": "stdout",
     "output_type": "stream",
     "text": [
      "at the lab\n"
     ]
    }
   ],
   "source": [
    "# --------- Program from last week -------------------\n",
    "# Variables\n",
    "t = 16.00           # current time\n",
    "Ls = 13.00         # lunch starts\n",
    "Le = 14.00         # lunch ends\n",
    "Ws = 8.00          # work starts\n",
    "We = 17.00         # work ends   \n",
    "\n",
    "is_lunchtime = Ls <= t < Le                   # lunchtime (boolean value)\n",
    "\n",
    "is_work_time = Ws <= t < We and not lunchtime # work_time (boolean value)\n",
    "#------------------------------------------------------\n",
    "\n",
    "if lunchtime == True or work_time == True:\n",
    "    print('at the lab')\n",
    "else:\n",
    "    print('at home')\n"
   ]
  },
  {
   "cell_type": "markdown",
   "id": "43aa8947",
   "metadata": {
    "slideshow": {
     "slide_type": "slide"
    }
   },
   "source": [
    "As `is_lunchtime` is equal to either `True` or `False`, we can omit `==True` "
   ]
  },
  {
   "cell_type": "code",
   "execution_count": 47,
   "id": "28dea6c3",
   "metadata": {},
   "outputs": [
    {
     "name": "stdout",
     "output_type": "stream",
     "text": [
      "at the lab\n"
     ]
    }
   ],
   "source": [
    "if lunchtime or work_time:\n",
    "    print('at the lab')\n",
    "else:\n",
    "    print('at home')"
   ]
  },
  {
   "cell_type": "markdown",
   "id": "19109d97",
   "metadata": {
    "slideshow": {
     "slide_type": "slide"
    }
   },
   "source": [
    "__Example 3:__ \n",
    "<br>Create three variables with numerical values. <br>Create a program that prints `'found'` if __any__ of the  variables are greater than 10.\n",
    "\n",
    "__Hint:__ In a conditional statement, non-zero values are treated as `True`, zero is treated as `False`. \n"
   ]
  },
  {
   "cell_type": "code",
   "execution_count": 36,
   "id": "4821af41",
   "metadata": {},
   "outputs": [],
   "source": [
    "A = 2\n",
    "B = 2\n",
    "C = 4\n",
    "\n",
    "if A>10 or B>10 or C>10:\n",
    "    print('found')"
   ]
  },
  {
   "cell_type": "markdown",
   "id": "5c67f13d",
   "metadata": {
    "slideshow": {
     "slide_type": "slide"
    }
   },
   "source": [
    "Notice that the following code __won't__ work:\n",
    "\n",
    "```python\n",
    "\n",
    "A = 2\n",
    "B = 3\n",
    "C = 4\n",
    "\n",
    "if A or B or C>10:\n",
    "    print('found') \n",
    "```\n",
    "\n",
    "This is because, in a conditional statement, *non-zero values* are treated as `True`, zero is treated as `False`. \n",
    "\n",
    "A and B are non-zero numbers (2 and 3) so `A` is `True`, `B` is `True` and C>10 is `False`. \n",
    "\n",
    "The `or` operators make the output of the condition `True`. \n",
    "\n",
    "__Note:__ All strings, with the exception of empty strings `''`, are treated as True. "
   ]
  },
  {
   "cell_type": "code",
   "execution_count": 45,
   "id": "0b6e8aec",
   "metadata": {},
   "outputs": [
    {
     "data": {
      "text/plain": [
       "True"
      ]
     },
     "execution_count": 45,
     "metadata": {},
     "output_type": "execute_result"
    }
   ],
   "source": [
    "bool(' ')"
   ]
  },
  {
   "cell_type": "code",
   "execution_count": null,
   "metadata": {},
   "outputs": [],
   "source": []
  }
 ],
 "metadata": {
  "celltoolbar": "Slideshow",
  "kernelspec": {
   "display_name": "Python 3",
   "language": "python",
   "name": "python3"
  },
  "language_info": {
   "codemirror_mode": {
    "name": "ipython",
    "version": 3
   },
   "file_extension": ".py",
   "mimetype": "text/x-python",
   "name": "python",
   "nbconvert_exporter": "python",
   "pygments_lexer": "ipython3",
   "version": "3.8.8"
  }
 },
 "nbformat": 4,
 "nbformat_minor": 5
}
