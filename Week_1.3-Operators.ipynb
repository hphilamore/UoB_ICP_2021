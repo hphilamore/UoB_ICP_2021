{
 "cells": [
  {
   "cell_type": "markdown",
   "id": "9ee89631",
   "metadata": {
    "slideshow": {
     "slide_type": "slide"
    }
   },
   "source": [
    "# Introduction to Computer Programming\n",
    "\n",
    "## 1.3 Operators\n",
    "\n",
    "<img src=\"img/full-colour-logo-UoB.png\" alt=\"Drawing\" style=\"width: 300px;\"/>"
   ]
  },
  {
   "cell_type": "markdown",
   "id": "ec64b772",
   "metadata": {
    "slideshow": {
     "slide_type": "slide"
    }
   },
   "source": [
    "<a id='ComparisonOperators'></a>\n",
    "# Comparison Operators\n",
    "\n",
    "__Comparison operators__ (==, !=, <, > ....) compare values and return a *Boolean* value: `True` or `False`\n",
    "\n",
    "__Commonly used comparison operators:__\n",
    "\n",
    "$==$   &nbsp; &nbsp; &nbsp; &nbsp; &nbsp;         Equality <br>\n",
    "$!=$   &nbsp; &nbsp; &nbsp; &nbsp; &nbsp;         Inequality <br>\n",
    "$>$    &nbsp; &nbsp; &nbsp; &nbsp; &nbsp; &nbsp;  Greater than <br>\n",
    "$<$    &nbsp; &nbsp; &nbsp; &nbsp; &nbsp; &nbsp;  Less than <br>\n",
    "$>=$   &nbsp; &nbsp; &nbsp; &nbsp;         Greater than or equal to <br>\n",
    "$<=$   &nbsp; &nbsp; &nbsp; &nbsp;         Less than or equal to <br>\n"
   ]
  },
  {
   "cell_type": "markdown",
   "id": "d1bb7f7a",
   "metadata": {
    "slideshow": {
     "slide_type": "slide"
    }
   },
   "source": [
    "__Examples:__"
   ]
  },
  {
   "cell_type": "code",
   "execution_count": 18,
   "id": "ce91d9e1",
   "metadata": {},
   "outputs": [
    {
     "name": "stdout",
     "output_type": "stream",
     "text": [
      "False\n"
     ]
    }
   ],
   "source": [
    "print(10 < 9)"
   ]
  },
  {
   "cell_type": "code",
   "execution_count": 2,
   "id": "892ed7bb",
   "metadata": {},
   "outputs": [
    {
     "name": "stdout",
     "output_type": "stream",
     "text": [
      "True\n"
     ]
    }
   ],
   "source": [
    "print(15 < 20)"
   ]
  },
  {
   "cell_type": "code",
   "execution_count": 1,
   "id": "fa300608",
   "metadata": {},
   "outputs": [
    {
     "name": "stdout",
     "output_type": "stream",
     "text": [
      "True\n"
     ]
    }
   ],
   "source": [
    "print(20 <= 20)"
   ]
  },
  {
   "cell_type": "code",
   "execution_count": 39,
   "id": "263bed60",
   "metadata": {
    "slideshow": {
     "slide_type": "slide"
    }
   },
   "outputs": [
    {
     "name": "stdout",
     "output_type": "stream",
     "text": [
      "False\n"
     ]
    }
   ],
   "source": [
    "A = 1.0\n",
    "\n",
    "B = 2\n",
    "\n",
    "C = type(A) == type(B)\n",
    "\n",
    "print(C)\n"
   ]
  },
  {
   "cell_type": "markdown",
   "id": "9eb11a98",
   "metadata": {
    "slideshow": {
     "slide_type": "slide"
    }
   },
   "source": [
    "<a id='LogicalOperators'></a>\n",
    "# Logical Operators\n",
    "\n",
    "Comparison operators compare two values.\n",
    "\n",
    "__Logical operators__ combine *multiple* expressions/variables with `True`/`False` (boolean) values and outout a *single* `True`/`False` (boolean) value. \n",
    "\n",
    "__Logical operators__:\n",
    "<br>`and`\n",
    "<br>`or`\n",
    "<br>`not`"
   ]
  },
  {
   "cell_type": "markdown",
   "id": "dd69577b",
   "metadata": {
    "slideshow": {
     "slide_type": "slide"
    }
   },
   "source": [
    "\n",
    "`X and Y`\n",
    "\n",
    "Output:\n",
    "<br> `True` if statement `X` __and__ statement `Y` *both* true.\n",
    "<br> Otherwise `False`. "
   ]
  },
  {
   "cell_type": "markdown",
   "id": "461e99d4",
   "metadata": {
    "slideshow": {
     "slide_type": "-"
    }
   },
   "source": [
    "`X or Y`\n",
    "\n",
    "Output:\n",
    "<br> `True` if statement `X` __or__ statement `Y` true.\n",
    "<br> Otherwise `False`. "
   ]
  },
  {
   "cell_type": "markdown",
   "id": "257ba550",
   "metadata": {
    "slideshow": {
     "slide_type": "slide"
    }
   },
   "source": [
    "__Examples:__\n",
    "\n",
    "$10 < 9$   &nbsp; &nbsp;&nbsp; &nbsp;  `False`\n",
    "\n",
    "$20 <= 20$  &nbsp; &nbsp;                `True`"
   ]
  },
  {
   "cell_type": "code",
   "execution_count": 3,
   "id": "df12c9cc",
   "metadata": {},
   "outputs": [
    {
     "name": "stdout",
     "output_type": "stream",
     "text": [
      "False\n"
     ]
    }
   ],
   "source": [
    "print(10 < 9 and 20 <= 20)\n"
   ]
  },
  {
   "cell_type": "code",
   "execution_count": 4,
   "id": "4926a005",
   "metadata": {},
   "outputs": [
    {
     "name": "stdout",
     "output_type": "stream",
     "text": [
      "True\n"
     ]
    }
   ],
   "source": [
    "print(10 < 9 or 20 <= 20)\n"
   ]
  },
  {
   "cell_type": "markdown",
   "id": "0c460a26",
   "metadata": {
    "slideshow": {
     "slide_type": "slide"
    }
   },
   "source": [
    "In Python, the `not` operator negates a statement, e.g.:"
   ]
  },
  {
   "cell_type": "code",
   "execution_count": 6,
   "id": "d7c0aad4",
   "metadata": {},
   "outputs": [
    {
     "name": "stdout",
     "output_type": "stream",
     "text": [
      "False\n",
      "True\n"
     ]
    }
   ],
   "source": [
    "a = 12\n",
    "\n",
    "print(a < 0)\n",
    "\n",
    "print(not a < 0)\n"
   ]
  },
  {
   "cell_type": "markdown",
   "id": "f1b50f95",
   "metadata": {
    "slideshow": {
     "slide_type": "slide"
    }
   },
   "source": [
    "\n",
    "<a id='OperatorPrecedence'></a>\n",
    "# Operator Precedence\n",
    "\n",
    "\n",
    "1. Parentheses\n",
    "1. Arithmetic operators (top to bottom)<br>\n",
    "   `**`                  &nbsp; &nbsp; &nbsp; &nbsp; &nbsp;&nbsp;&nbsp;&nbsp; &nbsp; &nbsp; Exponent__ <br>\n",
    "   `*`, `/`, `//`, `\\%`  &nbsp; &nbsp;&nbsp; Multiplication, division, floor division, modulo (evaluated left to right)<br>\n",
    "   `+`, `-`             &nbsp; &nbsp;&nbsp;&nbsp; &nbsp;&nbsp;&nbsp; &nbsp; &nbsp; Addition, subtraction (evaluated left to right)\n",
    "1. Comparison operators: `<`, `<=`,  `>`,  `>=`, `!=`, `==`(evaluated left to right)\n",
    "1. Logical `not`\n",
    "1. Logical `and`\n",
    "1. Logical `or` "
   ]
  },
  {
   "cell_type": "markdown",
   "id": "97ca1461",
   "metadata": {
    "slideshow": {
     "slide_type": "slide"
    }
   },
   "source": [
    "__Example:__ Write a program, using comparison and logical operators, that answers a question based on the current time of day:"
   ]
  },
  {
   "cell_type": "markdown",
   "id": "078146e9",
   "metadata": {
    "slideshow": {
     "slide_type": "-"
    }
   },
   "source": [
    ">__Is it lunchtime?__\n",
    "<br>`True` if current time is between lunch start and end times.\n",
    "<br>`False` if not."
   ]
  },
  {
   "cell_type": "code",
   "execution_count": 2,
   "id": "dc09def4",
   "metadata": {},
   "outputs": [
    {
     "name": "stdout",
     "output_type": "stream",
     "text": [
      "Is it lunchtime? False\n"
     ]
    }
   ],
   "source": [
    "# Variables\n",
    "time = 12.00          # current time\n",
    "lunch_starts = 13.00  # time lunch starts\n",
    "lunch_ends =   14.00  # time lunch ends\n",
    "\n",
    "\n",
    "# Logical and comparsion operators to find lunchtime True / False value\n",
    "is_lunchtime = time >= lunch_starts and time < lunch_ends\n",
    "\n",
    "\n",
    "print(\"Is it lunchtime?\", is_lunchtime)\n"
   ]
  },
  {
   "cell_type": "markdown",
   "id": "7d429b9d",
   "metadata": {
    "slideshow": {
     "slide_type": "slide"
    }
   },
   "source": [
    "If we change the value of `time`, the program output changes. "
   ]
  },
  {
   "cell_type": "markdown",
   "id": "30640f57",
   "metadata": {
    "slideshow": {
     "slide_type": "slide"
    }
   },
   "source": [
    "<a id='StackingComparisonOperators'></a>\n",
    "#  Stacking Comparison Operators\n",
    "\n",
    "\n",
    "Extract from example program:\n",
    "\n",
    "```python\n",
    "is_lunchtime = time >= lunch_starts and time < lunch_ends\n",
    "\n",
    "```\n",
    "\n",
    "We can rewrite *stacking* the comparison operators: \n",
    "```python\n",
    "\n",
    "time >= lunch_starts and time < lunch_ends\n",
    "\n",
    "```\n",
    "\n",
    "is the same as\n",
    "\n",
    "```python\n",
    "lunch_starts <= time < lunch_ends\n",
    "\n",
    "```"
   ]
  },
  {
   "cell_type": "markdown",
   "id": "d6f1807c",
   "metadata": {
    "slideshow": {
     "slide_type": "slide"
    }
   },
   "source": [
    "# Summary\n",
    " - __Arithmetic operators__ (+, -, /, * ....)<br>Used with numeric values to perform mathematical operations (behave differently with strings).\n",
    " - __Comparison operators__ (==, !=, <, > ....)<br>Compare two *variables*.<br>Outcome of a comparison is a *Boolean* (True or False) value.\n",
    " - __Logical operators__ (`and`, `or`)<br>Compare Boolean `True` or `False` values (e.g. outcomes of two *comparison operations*) to form logic statements. <br>Outcome of a logical operation is a *Boolean* (True or False) value.<br>Logical `not` operator returns the inverse Boolean value of a comparison.\n",
    " "
   ]
  },
  {
   "cell_type": "markdown",
   "id": "76395da2",
   "metadata": {
    "slideshow": {
     "slide_type": "slide"
    }
   },
   "source": [
    "# In-class Demos"
   ]
  },
  {
   "cell_type": "markdown",
   "id": "44609533",
   "metadata": {
    "slideshow": {
     "slide_type": "slide"
    }
   },
   "source": [
    "__Example 1:__ <br>Write a program that:\n",
    "1. creates 3 variables, `A`, `B` and `C`, with numerical values\n",
    "2. outputs a statement that tells the user if the values include *any* negative numbers. "
   ]
  },
  {
   "cell_type": "code",
   "execution_count": 43,
   "id": "5e890ba8",
   "metadata": {
    "slideshow": {
     "slide_type": "-"
    }
   },
   "outputs": [
    {
     "name": "stdout",
     "output_type": "stream",
     "text": [
      "negatives? True\n"
     ]
    }
   ],
   "source": [
    "A, B, C = 1, -1, 7\n",
    "\n",
    "answer = A<0 or B<0 or C<0\n",
    "\n",
    "print('negatives?', answer)\n",
    "\n"
   ]
  },
  {
   "cell_type": "markdown",
   "id": "ffb448f9",
   "metadata": {
    "slideshow": {
     "slide_type": "slide"
    }
   },
   "source": [
    "__Example 2:__ <br> Write a program that answers *two* questions based on the current time of day:"
   ]
  },
  {
   "cell_type": "markdown",
   "id": "25eb9991",
   "metadata": {},
   "source": [
    ">__Is it lunchtime?__\n",
    "<br>`True` if time between lunch start and end times.\n",
    "<br>`False` if not.\n",
    "\n",
    ">__Is it time for work?__\n",
    "<br>`True` if time between work start and end times __and not__ lunchtime.\n",
    "<br>`False` if not."
   ]
  },
  {
   "cell_type": "code",
   "execution_count": 1,
   "id": "4c9678eb",
   "metadata": {
    "slideshow": {
     "slide_type": "-"
    }
   },
   "outputs": [
    {
     "name": "stdout",
     "output_type": "stream",
     "text": [
      "True\n",
      "False\n"
     ]
    }
   ],
   "source": [
    "t = 13.30\n",
    "Ls = 13.00\n",
    "Le = 14.00\n",
    "Ws = 8.00\n",
    "We = 17.00\n",
    "\n",
    "is_lunchtime = Ls <= t < Le\n",
    "\n",
    "is_work_time = Ws <= t < We and not is_lunchtime\n",
    "\n",
    "print(is_lunchtime)\n",
    "print(is_work_time)"
   ]
  }
 ],
 "metadata": {
  "celltoolbar": "Slideshow",
  "kernelspec": {
   "display_name": "Python 3",
   "language": "python",
   "name": "python3"
  },
  "language_info": {
   "codemirror_mode": {
    "name": "ipython",
    "version": 3
   },
   "file_extension": ".py",
   "mimetype": "text/x-python",
   "name": "python",
   "nbconvert_exporter": "python",
   "pygments_lexer": "ipython3",
   "version": "3.8.8"
  }
 },
 "nbformat": 4,
 "nbformat_minor": 5
}
