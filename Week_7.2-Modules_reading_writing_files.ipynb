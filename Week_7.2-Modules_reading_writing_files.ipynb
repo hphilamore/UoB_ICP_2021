{
 "cells": [
  {
   "cell_type": "markdown",
   "id": "f356d87f",
   "metadata": {
    "slideshow": {
     "slide_type": "slide"
    }
   },
   "source": [
    "# Introduction to Computer Programming\n",
    "\n",
    "## Week 7.2: Modules for reading & writing files\n",
    "\n",
    "* * *\n",
    "\n",
    "<img src=\"img/full-colour-logo-UoB.png\" alt=\"Bristol\" style=\"width: 300px;\"/>"
   ]
  },
  {
   "cell_type": "markdown",
   "id": "3ea68e9a",
   "metadata": {
    "slideshow": {
     "slide_type": "slide"
    }
   },
   "source": [
    "Importing Python modules imports sections of pre-written code (by you or another developer) to make wriitng your program easier. \n",
    "\n",
    "We use/store data in different formats.\n",
    "\n",
    "Python modules for reading/writing, importing/exporting data files:\n",
    "- `csv`: working with delimited files\n",
    "- `os`: operating-system level operations e.g. manipulating a file-system\n",
    "\n",
    "We will study how these imported files can make the file read/write process easier. "
   ]
  },
  {
   "cell_type": "markdown",
   "id": "ef500acd",
   "metadata": {
    "slideshow": {
     "slide_type": "slide"
    }
   },
   "source": [
    "# CSV (and other delimited files)"
   ]
  },
  {
   "cell_type": "markdown",
   "id": "a44b72ea",
   "metadata": {},
   "source": [
    "CSV (comma-seperated-value) file : a delimited text file that uses a comma to separate values.\n",
    "\n",
    "A delimited file uses a set character (tab, space, vertical bar etc) to separate values. \n",
    "\n",
    "The CSV file is a widely used format for storing tabular data in plain text   and is supported by software applications e.g. Microsoft Excel, Google Spreadsheet.\n",
    "\n",
    "\n",
    "\n",
    "\n",
    "\n",
    "<img src=\"img/csv_file_example.png\" alt=\"Bristol\" style=\"width: 400px;\"/>"
   ]
  },
  {
   "cell_type": "markdown",
   "id": "b77e2317",
   "metadata": {
    "slideshow": {
     "slide_type": "slide"
    }
   },
   "source": [
    "Python's `csv` module can be used to handle files of this type.\n",
    "\n",
    "https://docs.python.org/3/library/csv.html"
   ]
  },
  {
   "cell_type": "code",
   "execution_count": 73,
   "id": "e6b09626",
   "metadata": {},
   "outputs": [],
   "source": [
    "import csv"
   ]
  },
  {
   "cell_type": "markdown",
   "id": "bbd9e6c7",
   "metadata": {
    "slideshow": {
     "slide_type": "slide"
    }
   },
   "source": [
    "### Writing CSV files"
   ]
  },
  {
   "cell_type": "markdown",
   "id": "fca1089c",
   "metadata": {},
   "source": [
    "Writing files using `write` can be time-consuming. \n",
    "\n",
    "We need to add delimiters (`','`, `' '` etc) and new line markers (`'\\n'`). "
   ]
  },
  {
   "cell_type": "code",
   "execution_count": 97,
   "id": "415dff4b",
   "metadata": {},
   "outputs": [],
   "source": [
    "names = ['Elena', 'Sajid', 'Tom', 'Farhad', 'Manesha']\n",
    "scores = [550, 480, 380, 305, 150]\n",
    "\n",
    "with open('sample_data/scores_.csv', 'w') as f:\n",
    "\n",
    "    # loop through two lists \n",
    "    for n, s in zip(names, scores):\n",
    "        f.write(n + ',' + str(s) + '\\n')"
   ]
  },
  {
   "cell_type": "markdown",
   "id": "149a975d",
   "metadata": {
    "slideshow": {
     "slide_type": "slide"
    }
   },
   "source": [
    "The `csv` module provides a way to write lists straight to a csv file. \n",
    "\n",
    "The code to do the process of adding delimiters is buried in a file in the `csv` module (.py file(s))."
   ]
  },
  {
   "cell_type": "code",
   "execution_count": 98,
   "id": "882e93c0",
   "metadata": {},
   "outputs": [],
   "source": [
    "with open('sample_data/scores_.csv', 'w', newline='') as f: # file opened as normal\n",
    "    \n",
    "    writer = csv.writer(f)            # writer object is created\n",
    "    \n",
    "    for n, s in zip(names, scores):\n",
    "        writer.writerow([n, s])       # the writerow function can then be used, input argument is list"
   ]
  },
  {
   "cell_type": "markdown",
   "id": "aa769e49",
   "metadata": {
    "slideshow": {
     "slide_type": "slide"
    }
   },
   "source": [
    "__Example:__ Use the `csv` module to write the header and first row of the high score table shown to a csv file.\n",
    "\n",
    "| Place | Name | Score | \n",
    "| :-: | :-: | :-: |  \n",
    "| 1 | Elena | 550 | \n",
    "| 2 | Sajid | 480 | \n",
    "| 3 | Tom | 380 | \n",
    "| 4 | Farhad | 305 | \n",
    "| 5 | Manesha | 150 |\n"
   ]
  },
  {
   "cell_type": "code",
   "execution_count": 99,
   "id": "65144410",
   "metadata": {},
   "outputs": [],
   "source": [
    "import csv\n",
    "\n",
    "with open('sample_data/scores.csv', 'w') as f:    # open file in write mode\n",
    "\n",
    "    writer = csv.writer(f)                        # writer object\n",
    "\n",
    "    writer.writerow(['place', 'name', 'score'])   # list to row \n",
    "\n",
    "    writer.writerow([1,'Elena', 550]) "
   ]
  },
  {
   "cell_type": "markdown",
   "id": "a5bad7cd",
   "metadata": {
    "slideshow": {
     "slide_type": "slide"
    }
   },
   "source": [
    "### Appending CSV files"
   ]
  },
  {
   "cell_type": "code",
   "execution_count": 106,
   "id": "c9118d6e",
   "metadata": {},
   "outputs": [],
   "source": [
    "import csv\n",
    "\n",
    "with open('sample_data/scores.csv', 'a') as f:   # open file in append mode\n",
    "\n",
    "    writer = csv.writer(f)                       # writer object\n",
    "\n",
    "    writer.writerow([2, 'Sajid', 480])           # list to row\n",
    "    writer.writerow([3, 'Tom', 380]) \n",
    "    writer.writerow([4, 'Farhad', 305]) \n",
    "    writer.writerow([5, 'Manesha', 150]) "
   ]
  },
  {
   "cell_type": "markdown",
   "id": "fac07420",
   "metadata": {
    "slideshow": {
     "slide_type": "slide"
    }
   },
   "source": [
    "If you open `scores.csv` you will see there is an additional blank row between subsequent rows: \n",
    "\n",
    "<img src=\"img/scores_csv.png\" alt=\"Bristol\" style=\"width: 200px;\"/>"
   ]
  },
  {
   "cell_type": "markdown",
   "id": "41cff4be",
   "metadata": {
    "slideshow": {
     "slide_type": "slide"
    }
   },
   "source": [
    "To avoid the blank line, pass the argument `newline=''` to the `open` function. "
   ]
  },
  {
   "cell_type": "markdown",
   "id": "03c94050",
   "metadata": {
    "slideshow": {
     "slide_type": "slide"
    }
   },
   "source": [
    "__Example:__ Write the high score table data to a csv file"
   ]
  },
  {
   "cell_type": "code",
   "execution_count": 101,
   "id": "c3abd20e",
   "metadata": {},
   "outputs": [],
   "source": [
    "header = ['place', 'name', 'score']\n",
    "\n",
    "# data is list of lists\n",
    "data = [[1, 'Elena', 550],   \n",
    "        [2, 'Sajid', 480],\n",
    "        [3, 'Tom', 380],\n",
    "        [4, 'Farhad', 305],\n",
    "        [5, 'Manesha', 150]    \n",
    "       ]"
   ]
  },
  {
   "cell_type": "code",
   "execution_count": 77,
   "id": "f9d6da9a",
   "metadata": {},
   "outputs": [],
   "source": [
    "import csv\n",
    "\n",
    "with open('sample_data/scores.csv', 'w', newline='') as f: # no gap between each line\n",
    "\n",
    "    writer = csv.writer(f) \n",
    "\n",
    "    writer.writerow(header) # write single row\n",
    "    \n",
    "    writer.writerows(data)  # write multiple rows\n"
   ]
  },
  {
   "cell_type": "markdown",
   "id": "92f899e8",
   "metadata": {
    "slideshow": {
     "slide_type": "slide"
    }
   },
   "source": [
    "<img src=\"img/scores_csv_newline.png\" alt=\"Bristol\" style=\"width: 200px;\"/>"
   ]
  },
  {
   "cell_type": "markdown",
   "id": "c9136c70",
   "metadata": {
    "slideshow": {
     "slide_type": "slide"
    }
   },
   "source": [
    "### Writing data as columns\n",
    "\n",
    "The data for the high score table may be stored in the Python programme as:\n",
    "\n",
    "    places = [1, 2, 3, 4, 5]\n",
    "    names = ['Elena', 'Sajid', 'Tom', 'Farhad', 'Manesha']\n",
    "    scores = [550, 480, 380, 305, 150]\n",
    "    \n",
    "Often we want to oganise our data in columns, not rows:\n",
    "<img src=\"img/scores_csv_newline.png\" alt=\"Bristol\" style=\"width: 200px;\"/>\n",
    "    \n",
    "But we can't write a column explicitly in Python, as we would in Excel, we can only write rows. \n",
    "\n",
    "The CSV file is essentially a text file with commas to separate values. "
   ]
  },
  {
   "cell_type": "markdown",
   "id": "a8f944a9",
   "metadata": {
    "slideshow": {
     "slide_type": "slide"
    }
   },
   "source": [
    "We can transpose the data in to lists that when writtem to a file will arrange the data in columns. \n",
    "\n",
    "This can be achieved using a loop (+ list comprhension)\n",
    "\n",
    "[An identical process can be used to transform imported data arranged in columns into lists so that it's easier to use in the Python program]  \n",
    "\n",
    "__Example:__ Write `places`, `names` and `scores` to columns of a csv file. "
   ]
  },
  {
   "cell_type": "code",
   "execution_count": 104,
   "id": "09ad9015",
   "metadata": {
    "slideshow": {
     "slide_type": "slide"
    }
   },
   "outputs": [],
   "source": [
    "places = [1, 2, 3, 4, 5]\n",
    "names = ['Elena', 'Sajid', 'Tom', 'Farhad', 'Manesha']\n",
    "scores = [550, 480, 380, 305, 150]\n",
    "\n",
    "data = [places, names, scores]\n",
    "\n",
    "with open('sample_data/scores.csv', 'w', newline='') as f: # no gap between each line\n",
    "    \n",
    "    writer = csv.writer(f) \n",
    "    \n",
    "    for i in range(len(places)):\n",
    "        writer.writerow([d[i] for d in data]) \n",
    "        # OR\n",
    "        #writer.writerow([places[i], names[i], scores[i]]) "
   ]
  },
  {
   "cell_type": "markdown",
   "id": "3dc58f4d",
   "metadata": {
    "slideshow": {
     "slide_type": "skip"
    }
   },
   "source": [
    "Alternatively, can use `zip` to transpose the data from rows to columns before writing to a CSV file. \n",
    "\n",
    "Like when using `zip` to iterate through two lists, items from mutiple lists are regrouped elementwise.  "
   ]
  },
  {
   "cell_type": "code",
   "execution_count": 79,
   "id": "b44effc8",
   "metadata": {
    "slideshow": {
     "slide_type": "skip"
    }
   },
   "outputs": [
    {
     "name": "stdout",
     "output_type": "stream",
     "text": [
      "[(1, 'Elena', 550), (2, 'Sajid', 480), (3, 'Tom', 380), (4, 'Farhad', 305), (5, 'Manesha', 150)]\n"
     ]
    }
   ],
   "source": [
    "places = [1, 2, 3, 4, 5]\n",
    "names = ['Elena', 'Sajid', 'Tom', 'Farhad', 'Manesha']\n",
    "scores = [550, 480, 380, 305, 150]\n",
    "\n",
    "data = zip(places, names, scores)\n",
    "\n",
    "print(list(data)) # must be converted to a list to print, iterate etc"
   ]
  },
  {
   "cell_type": "markdown",
   "id": "b5772106",
   "metadata": {
    "slideshow": {
     "slide_type": "skip"
    }
   },
   "source": [
    "To transpose a list of lists we can use `*`. \n",
    "\n",
    "This *unpacks* the list (removing the outer brackets). "
   ]
  },
  {
   "cell_type": "code",
   "execution_count": 80,
   "id": "ee8d8c8c",
   "metadata": {
    "slideshow": {
     "slide_type": "skip"
    }
   },
   "outputs": [
    {
     "name": "stdout",
     "output_type": "stream",
     "text": [
      "[(1, 'Elena', 550), (2, 'Sajid', 480), (3, 'Tom', 380), (4, 'Farhad', 305), (5, 'Manesha', 150)]\n"
     ]
    }
   ],
   "source": [
    "data = [[1, 2, 3, 4, 5], \n",
    "        ['Elena', 'Sajid', 'Tom', 'Farhad', 'Manesha'],\n",
    "        [550, 480, 380, 305, 150]    \n",
    "       ]\n",
    "\n",
    "data_cols = list(zip(*data)) # must be converted to a list to print, iterate etc\n",
    "\n",
    "print(data_cols)"
   ]
  },
  {
   "cell_type": "markdown",
   "id": "06bb3493",
   "metadata": {
    "slideshow": {
     "slide_type": "skip"
    }
   },
   "source": [
    "This can then be written to a .csv or .txt file"
   ]
  },
  {
   "cell_type": "code",
   "execution_count": 111,
   "id": "0b3e1e2c",
   "metadata": {
    "slideshow": {
     "slide_type": "skip"
    }
   },
   "outputs": [],
   "source": [
    "with open('sample_data/scores.csv', 'w', newline='') as f:\n",
    "    \n",
    "    writer = csv.writer(f) \n",
    "    \n",
    "    writer.writerows(data_cols) "
   ]
  },
  {
   "cell_type": "code",
   "execution_count": 110,
   "id": "10395e7f",
   "metadata": {
    "slideshow": {
     "slide_type": "skip"
    }
   },
   "outputs": [],
   "source": [
    "with open('sample_data/scores.txt', 'w', newline='') as f:\n",
    "\n",
    "    writer = csv.writer(f, delimiter=' ') # specify the delimiter\n",
    "    \n",
    "    writer.writerows(data_cols)  "
   ]
  },
  {
   "cell_type": "markdown",
   "id": "4f1f7cca",
   "metadata": {
    "slideshow": {
     "slide_type": "slide"
    }
   },
   "source": [
    "### Reading CSV files\n",
    "Reading text files and converting them to a useful format (list of strings) can be a lengthy process. \n",
    "\n"
   ]
  },
  {
   "cell_type": "code",
   "execution_count": 113,
   "id": "e8a51509",
   "metadata": {},
   "outputs": [
    {
     "name": "stdout",
     "output_type": "stream",
     "text": [
      "[['1', 'Elena', '550\\n'], ['2', 'Sajid', '480\\n'], ['3', 'Tom', '380\\n'], ['4', 'Farhad', '305\\n'], ['5', 'Manesha', '150\\n']]\n",
      "\n",
      "[['1', 'Elena', '550'], ['2', 'Sajid', '480'], ['3', 'Tom', '380'], ['4', 'Farhad', '305'], ['5', 'Manesha', '150']]\n"
     ]
    }
   ],
   "source": [
    "with open('sample_data/scores.csv') as f:\n",
    "    file = list(f)                                     # list of strings (lines) \n",
    "    lines = [line.split(',') for line in file]         # list of list (lines) of strings (words) \n",
    "    print(lines)\n",
    "    print()\n",
    "    L = [[w.strip() for w in words] for words in lines]# remove '\\n'\n",
    "    print(L)"
   ]
  },
  {
   "cell_type": "markdown",
   "id": "35ebc305",
   "metadata": {
    "slideshow": {
     "slide_type": "slide"
    }
   },
   "source": [
    "`csv` has an equivalent to the `writer` object to make reading deliited files easier. "
   ]
  },
  {
   "cell_type": "code",
   "execution_count": 85,
   "id": "3baaf6e2",
   "metadata": {
    "scrolled": true
   },
   "outputs": [
    {
     "name": "stdout",
     "output_type": "stream",
     "text": [
      "['place', 'name', 'score']\n",
      "['1', 'Elena', '550']\n",
      "['2', 'Sajid', '480']\n",
      "['3', 'Tom', '380']\n",
      "['4', 'Farhad', '305']\n",
      "['5', 'Manesha', '150']\n"
     ]
    }
   ],
   "source": [
    "with open('sample_data/scores.csv') as f:\n",
    "    \n",
    "    reader = csv.reader(f) \n",
    "\n",
    "    for line in reader:      # iterable\n",
    "        print(line)\n",
    "    \n",
    "    # position is now at end of file \n",
    "    # may be returned to start with f.seek(0)\n",
    "\n",
    "    f.close()"
   ]
  },
  {
   "cell_type": "markdown",
   "id": "815f3017",
   "metadata": {
    "slideshow": {
     "slide_type": "slide"
    }
   },
   "source": [
    "`reader` and `writer` objects have the same limitations as the file object returned by `open`:\n",
    "- iterable but ont subscriptable\n",
    "- moves stream position to end of file\n",
    "\n",
    "It can be useful to convert the reader object to a list of lists:"
   ]
  },
  {
   "cell_type": "code",
   "execution_count": 93,
   "id": "40a6f37d",
   "metadata": {},
   "outputs": [
    {
     "name": "stdout",
     "output_type": "stream",
     "text": [
      "['Ben', '50']\n",
      "['Ola', '500']\n",
      "['Ben', '50']\n",
      "['Ola', '500']\n",
      "third line:  ['Ola', '500']\n"
     ]
    }
   ],
   "source": [
    "import csv\n",
    "\n",
    "with open('sample_data/scores.txt') as f:\n",
    "\n",
    "    reader = csv.reader(f, delimiter=' ') # delimiter must be specified if not default value ',' \n",
    "\n",
    "    reader = list(reader)                 # convert to list\n",
    "\n",
    "    for line in reader:                   # iterable\n",
    "        print(line)\n",
    "\n",
    "    print('third line: ', reader[1])      # subscriptable "
   ]
  },
  {
   "cell_type": "markdown",
   "id": "9de80d94",
   "metadata": {
    "slideshow": {
     "slide_type": "slide"
    }
   },
   "source": [
    "# Reading and writing csv files\n",
    "\n",
    "The same mode specifiers are used as for .txt files.\n",
    "\n",
    "A `reader` *and* `writer` object are created."
   ]
  },
  {
   "cell_type": "markdown",
   "id": "5bed51dd",
   "metadata": {},
   "source": [
    "__Example:__ Print the data in the file sample\\_data/scores.csv and add a new entry. "
   ]
  },
  {
   "cell_type": "code",
   "execution_count": 87,
   "id": "c70dc6cd",
   "metadata": {},
   "outputs": [
    {
     "name": "stdout",
     "output_type": "stream",
     "text": [
      "['place', 'name', 'score']\n",
      "['1', 'Elena', '550']\n",
      "['2', 'Sajid', '480']\n",
      "['3', 'Tom', '380']\n",
      "['4', 'Farhad', '305']\n",
      "['5', 'Manesha', '150']\n",
      "['6', 'Lois', '70']\n",
      "['6', 'Lois', '70']\n",
      "['place', 'name', 'score']\n",
      "['1', 'Elena', '550']\n",
      "['2', 'Sajid', '480']\n",
      "['3', 'Tom', '380']\n",
      "['4', 'Farhad', '305']\n",
      "['5', 'Manesha', '150']\n",
      "['6', 'Lois', '70']\n",
      "['6', 'Lois', '70']\n",
      "['6', 'Lois', '70']\n"
     ]
    }
   ],
   "source": [
    "with open('sample_data/scores.csv', 'r+',  newline='') as f:\n",
    "    reader = csv.reader(f)  # do not convert to list \n",
    "    writer = csv.writer(f)\n",
    "    \n",
    "    for line in reader:\n",
    "        print(line)\n",
    "        \n",
    "    # position is at end of file\n",
    "        \n",
    "    writer.writerow([6, 'Lois', 70])\n",
    "    \n",
    "    f.seek(0)\n",
    "    \n",
    "    for line in reader:\n",
    "        print(line)"
   ]
  },
  {
   "cell_type": "markdown",
   "id": "7d80374a",
   "metadata": {
    "slideshow": {
     "slide_type": "slide"
    }
   },
   "source": [
    "# Iterating multiple files \n",
    "\n",
    "We may want to include multiple files in a program, e.g. iterate over multiple files in a directory. \n",
    "\n",
    " Python module `os` has many useful functions for system level operations: \n",
    "https://docs.python.org/3/library/os.html"
   ]
  },
  {
   "cell_type": "markdown",
   "id": "ebd7b1f0",
   "metadata": {
    "slideshow": {
     "slide_type": "slide"
    }
   },
   "source": [
    "__Example:__ Print the names of all the files in the directory `sample_data/a_folder`"
   ]
  },
  {
   "cell_type": "code",
   "execution_count": 87,
   "id": "a944ecfb",
   "metadata": {},
   "outputs": [
    {
     "name": "stdout",
     "output_type": "stream",
     "text": [
      "sample_student_data.csv\n",
      "signal_data.csv\n",
      "temperature_data.csv\n"
     ]
    }
   ],
   "source": [
    "import os\n",
    "\n",
    "# gets the current directory as a string\n",
    "current_directory = os.getcwd() \n",
    "\n",
    "# joins directory names to create a path to the target directory\n",
    "directory_to_iterate = os.path.join(current_directory, 'sample_data', 'a_folder')\n",
    "\n",
    "# loops through the files in that directory as a list\n",
    "for file in os.listdir(directory_to_iterate):\n",
    "    print(file)"
   ]
  },
  {
   "cell_type": "markdown",
   "id": "8596dc9b",
   "metadata": {
    "slideshow": {
     "slide_type": "slide"
    }
   },
   "source": [
    "# Summary \n",
    "Functions imported from modules can shorten processes that are lengthy to produce in pure Python by impotring code stored elsewhere. \n",
    "\n",
    "Some Python modules for reading/writing, importing/exporting data files:\n",
    "- `csv`: working with delimited files\n",
    "- `os`: operating-system level operations e.g. manipulating a file-system\n",
    "\n",
    "# Further reading\n",
    "- Explore the `os` module for system-level operations (e.g. creating a new directory in your filesystem)  https://docs.python.org/3/library/os.html\n",
    "- Will will learn more ways to read and write files using packages we study later on the course (e.g. `matplotlib`, `numpy`). \n",
    "- Pandas is a useful Python package for handling spreadsheet-style data https://pandas.pydata.org/docs/getting_started/index.html#getting-started"
   ]
  },
  {
   "cell_type": "markdown",
   "id": "efab530e",
   "metadata": {
    "slideshow": {
     "slide_type": "-"
    }
   },
   "source": [
    "__Extra Example:__ \n",
    "\n",
    "Import the data from the file sample\\_data/scores.csv and generate a row containing the data from each column:"
   ]
  },
  {
   "cell_type": "code",
   "execution_count": 42,
   "id": "07905dd1",
   "metadata": {
    "slideshow": {
     "slide_type": "-"
    }
   },
   "outputs": [
    {
     "name": "stdout",
     "output_type": "stream",
     "text": [
      "['place', 'name', 'score']\n",
      "('1', '2', '3', '4', '5')\n",
      "('Elena', 'Sajid', 'Tom', 'Farhad', 'Manesha')\n",
      "('550', '480', '380', '305', '150')\n"
     ]
    }
   ],
   "source": [
    "import csv\n",
    "\n",
    "with open('sample_data/scores.csv') as f:\n",
    "\n",
    "    reader = list(csv.reader(f))  # reader is iterable but not subscriptable --> convert to list        \n",
    "    \n",
    "    header = reader[0]            # choose first row as header\n",
    "    print(header)\n",
    "\n",
    "    data = list(zip(*reader[1:])) # transpose data excluding header row\n",
    "\n",
    "    print(data[0])                # place                \n",
    "    print(data[1])                # name\n",
    "    print(data[2])                # score"
   ]
  }
 ],
 "metadata": {
  "celltoolbar": "Slideshow",
  "kernelspec": {
   "display_name": "Python 3",
   "language": "python",
   "name": "python3"
  },
  "language_info": {
   "codemirror_mode": {
    "name": "ipython",
    "version": 3
   },
   "file_extension": ".py",
   "mimetype": "text/x-python",
   "name": "python",
   "nbconvert_exporter": "python",
   "pygments_lexer": "ipython3",
   "version": "3.8.8"
  }
 },
 "nbformat": 4,
 "nbformat_minor": 5
}
