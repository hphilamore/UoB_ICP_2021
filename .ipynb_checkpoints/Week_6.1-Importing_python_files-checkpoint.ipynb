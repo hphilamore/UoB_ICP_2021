{
 "cells": [
  {
   "cell_type": "markdown",
   "metadata": {},
   "source": [
    "# Introduction to Computer Programming\n",
    "\n",
    "## Week 6.1: Importing Python files \n",
    "\n",
    "* * *\n",
    "\n",
    "<img src=\"img/full-colour-logo-UoB.png\" alt=\"Bristol\" style=\"width: 300px;\"/>"
   ]
  },
  {
   "cell_type": "markdown",
   "metadata": {},
   "source": [
    "__Modularity:__ Breaking large chunks of code into smaller, more manageable pieces. \n",
    "\n",
    "Useful blocks of code (e.g. variables, functions, classes) can be stored in a python file (a __module__)\n",
    "\n",
    "The module is then `import`ed for use in a program saved elsewhere on your computer. "
   ]
  },
  {
   "cell_type": "markdown",
   "metadata": {},
   "source": [
    "__Example__ The Python module, `math`installs with Python<br>\n",
    "https://docs.python.org/3/library/math.html"
   ]
  },
  {
   "cell_type": "code",
   "execution_count": 2,
   "metadata": {},
   "outputs": [
    {
     "name": "stdout",
     "output_type": "stream",
     "text": [
      "3.141592653589793\n"
     ]
    }
   ],
   "source": [
    "import math\n",
    "\n",
    "print(math.pi)"
   ]
  },
  {
   "cell_type": "markdown",
   "metadata": {},
   "source": [
    "__Module:__ A python file containing python code (variables, functions, classes etc).\n",
    "\n",
    "__Package:__ A file directory (folder) containing python files (and other directories).\n",
    "\n",
    "__Script:__ A top level file, run as an program (importing would run the program).\n",
    "\n",
    "`__init__.py`__:__ Required to make Python treat a directory as a package. <br>Can be empty or execute initialization code for a package."
   ]
  },
  {
   "cell_type": "markdown",
   "metadata": {},
   "source": [
    "__Example:__ Three files in the same directory, `fruit`\n",
    "<img src=\"img/fruit_folder_1.png\" alt=\"Bristol\" style=\"width: 400px;\"/>"
   ]
  },
  {
   "cell_type": "markdown",
   "metadata": {},
   "source": [
    "__Example:__ Four files in the same directory, `fruit`\n",
    "<br>Import variables from `banana.py` and `strawberry.py` into `main.py`:\n",
    "\n",
    "```python\n",
    "fruit/\n",
    "│\n",
    "├── __init__.py\n",
    "├── banana.py\n",
    "├── strawberry.py\n",
    "└── main.py\n",
    "```"
   ]
  },
  {
   "cell_type": "markdown",
   "metadata": {},
   "source": [
    "Contents of four files in the same directory:\n",
    "***\n",
    "##### __init__.py\n",
    "    # (empty file)\n",
    "***\n",
    "##### banana.py\n",
    "    word = 'banana'    \n",
    "***\n",
    "##### strawberry.py\n",
    "    word = 'strawberry' \n",
    "***\n",
    "##### main.py\n",
    "    import banana\n",
    "    import strawberry\n",
    "    print(banana.word)\n",
    "    print(strawberry.word)\n",
    "***"
   ]
  },
  {
   "cell_type": "markdown",
   "metadata": {},
   "source": [
    "When we run `main.py` the contents of `banana.py` and `strawberry.py` are imported and can be used within the `main.py` program. "
   ]
  },
  {
   "cell_type": "markdown",
   "metadata": {},
   "source": [
    "__Example:__ Three files in the same directory, `fruit`\n",
    "<br>Import function from `banana.py`into `main.py`:\n",
    "\n",
    "```python\n",
    "fruit/\n",
    "│\n",
    "├── __init__.py\n",
    "├── banana.py\n",
    "└── main.py\n",
    "```"
   ]
  },
  {
   "cell_type": "markdown",
   "metadata": {},
   "source": [
    "Contents of three files in the same directory: \n",
    "***\n",
    "##### __init__.py\n",
    "    # (empty file)\n",
    "***\n",
    "##### banana.py\n",
    "    def peel():\n",
    "        print('Peel!')   \n",
    "***\n",
    "##### main.py\n",
    "    # main.py\n",
    "    import banana\n",
    "    banana.peel()\n",
    "***"
   ]
  },
  {
   "cell_type": "markdown",
   "metadata": {
    "slideshow": {
     "slide_type": "slide"
    }
   },
   "source": [
    "<a id='LocalNamespace'></a>\n",
    "\n",
    "### Namespaces\n",
    "Each Python file has a local namespace.\n",
    "\n",
    "This is a “symbol table” that contains the names of imported modules, packages etc. \n",
    "\n",
    "When you import a package/module, the part after `import` gets added to the local namespace.\n",
    "\n",
    "This part should be used to prepend all variables etc from the imported module, to use them in the current program.  "
   ]
  },
  {
   "cell_type": "markdown",
   "metadata": {
    "collapsed": true,
    "slideshow": {
     "slide_type": "slide"
    }
   },
   "source": [
    "Contents of four files in the same directory:\n",
    "***\n",
    "##### __init__.py\n",
    "    # (empty file)\n",
    "***\n",
    "##### banana.py\n",
    "    word = 'banana'    \n",
    "***\n",
    "##### strawberry.py\n",
    "    word = 'strawberry' \n",
    "***\n",
    "##### main.py\n",
    "    import banana\n",
    "    import strawberry\n",
    "    print(banana.word)\n",
    "    print(strawberry.word)\n",
    "***\n",
    "\n",
    "\n",
    "\n",
    "\n",
    "We prepend `word` with the __namespace__,  `strawberry` when we want to print `'strawberry'`.\n",
    "\n",
    "We prepend `word` with the __namespace__,  `banana` when we want to print `'banana'`.\n",
    "\n",
    "The namespace indicates which module/package to import the variable/function etc from."
   ]
  },
  {
   "cell_type": "markdown",
   "metadata": {
    "slideshow": {
     "slide_type": "slide"
    }
   },
   "source": [
    "### Changing the module name in the local namespace\n",
    "\n",
    "In main.py, you can change the lines:\n",
    "\n",
    "    import strawberry\n",
    "    print(strawberry.word)\n",
    "\n",
    "to \n",
    "\n",
    "    import strawberry as s\n",
    "    print(s.word)"
   ]
  },
  {
   "cell_type": "markdown",
   "metadata": {
    "slideshow": {
     "slide_type": "slide"
    }
   },
   "source": [
    "### Importing *individual items* from a module (by adding to the local namespace)\n",
    "\n",
    "In main.py, you can change the lines:\n",
    "    \n",
    "    import strawberry\n",
    "    print(strawberry.word)\n",
    "\n",
    "to \n",
    "\n",
    "    from strawberry import word\n",
    "    print(word)\n",
    "\n",
    "        "
   ]
  },
  {
   "cell_type": "markdown",
   "metadata": {},
   "source": [
    "### Importing *individual items* from a module - A word of warning! \n",
    "\n",
    "A name can only have one associated value in a program. \n",
    "\n",
    "__Example:__ Importing two variables with the same name\n",
    "\n",
    "    from strawberry import word\n",
    "    from banana import word\n",
    "    \n",
    "\n",
    "__Question:__ What will be the output of `print(word)`? "
   ]
  },
  {
   "cell_type": "markdown",
   "metadata": {},
   "source": [
    "Namespaces can be helpful - items (variables, functions) with the same name but from different modules can be used. "
   ]
  },
  {
   "cell_type": "markdown",
   "metadata": {
    "slideshow": {
     "slide_type": "slide"
    }
   },
   "source": [
    "### Importing *all contents* of a module \n",
    "\n",
    "        from strawberry import *\n",
    "        print(word)"
   ]
  },
  {
   "cell_type": "markdown",
   "metadata": {
    "slideshow": {
     "slide_type": "slide"
    }
   },
   "source": [
    "### Importing *all contents* of a module  - A word of warning! \n",
    "\n",
    "It is inadvisable to use `from ... import *` where you do not know the full content of a module <br> (e.g. a large module or a module written by a developer downloaded from the internet).\n",
    "\n",
    "You may overshadow useful parts of your program such as built-in Python functions (`print`, `type` etc). \n",
    "\n",
    "It may be appropraite to use * with a small, specific, user-defined module. "
   ]
  },
  {
   "cell_type": "markdown",
   "metadata": {},
   "source": [
    "# Importing a file from a different directory\n",
    "## Downstream file location"
   ]
  },
  {
   "cell_type": "markdown",
   "metadata": {},
   "source": [
    "__Example:__ Importing from a downstream sub-directory (a __package__)\n",
    "\n",
    "<img src=\"img/fruit_folder_2.png\" alt=\"Bristol\" style=\"width: 400px;\"/>"
   ]
  },
  {
   "cell_type": "markdown",
   "metadata": {},
   "source": [
    "__Example:__ Importing from a downstream sub-directory (a __package__)\n",
    "\n",
    "```python\n",
    "    example_w6a/\n",
    "    │\n",
    "    ├── main.py\n",
    "    └── fruit/\n",
    "        ├── __init__.py\n",
    "        ├── banana.py\n",
    "        └── strawberry.py\n",
    "```"
   ]
  },
  {
   "cell_type": "markdown",
   "metadata": {},
   "source": [
    "`.` is used to indicate a sub-directory downstream of the current location:\n",
    "<br>- `import subfolder.file`\n",
    "<br>-`import folder.subfolder.file`\n",
    "\n",
    "\n",
    "\n",
    "Everything after `import` is stored in the local namespace and must be used to prepend any variables, functions etc from the imported module. "
   ]
  },
  {
   "cell_type": "markdown",
   "metadata": {},
   "source": [
    "File contents\n",
    "***\n",
    "##### main.py\n",
    "    import fruit.strawberry       # OR from fruit import strawberry\n",
    "    print(fruit.strawberry.word)\n",
    "***\n",
    "##### fruit/___init__.py\n",
    "    # (empty file)\n",
    "***\n",
    "##### fruit/_banana.py\n",
    "    word = 'banana'    \n",
    "***\n",
    "##### fruit/_strawberry.py\n",
    "    word = 'strawberry' \n",
    "\n",
    "***"
   ]
  },
  {
   "cell_type": "markdown",
   "metadata": {},
   "source": [
    "The longer namespace when packages are imported can make code long and difficult to read.\n",
    "\n",
    "__Example__ Renaming `fruit.strawberry` --> `strawb` to make code shorter and neater "
   ]
  },
  {
   "cell_type": "markdown",
   "metadata": {},
   "source": [
    "File contents\n",
    "***\n",
    "##### main.py\n",
    "    import fruit.strawberry as strawb # OR from fruit import strawberry as strawb\n",
    "    print(strawb.word)\n",
    "***\n",
    "##### fruit/___init__.py\n",
    "    # (empty file)\n",
    "***\n",
    "##### fruit/_banana.py\n",
    "    word = 'banana'    \n",
    "***\n",
    "##### fruit/_strawberry.py\n",
    "    word = 'strawberry' \n",
    "\n",
    "***"
   ]
  },
  {
   "cell_type": "markdown",
   "metadata": {},
   "source": [
    "`__init__.py` can be used to run initialisation code such as importing individual modules from within a package\n",
    "\n",
    "This can be more efficient than individually importing multiple submodules.\n",
    "\n",
    "`from . import banana` means *from current directory (indicated by the `.`), import banana*\n",
    "\n",
    "`fruit/__init__.py` is run when fruit is imported.  "
   ]
  },
  {
   "cell_type": "markdown",
   "metadata": {},
   "source": [
    "File contents\n",
    "***\n",
    "##### main.py\n",
    "    import fruit                 # banana module in __init__.py so automatically imported\n",
    "    import fruit.strawberry      # strawberry module needs to be imported using full path \n",
    "    print(fruit.banana.word) \n",
    "    print(fruit.strawberry.word) \n",
    "***\n",
    "##### fruit/___init__.py\n",
    "    from . import banana\n",
    "***\n",
    "##### fruit/_banana.py\n",
    "    word = 'banana'    \n",
    "***\n",
    "##### fruit/_strawberry.py\n",
    "    word = 'strawberry' \n",
    "\n",
    "***"
   ]
  },
  {
   "cell_type": "markdown",
   "metadata": {},
   "source": [
    "## Upstream file location\n",
    "__Example:__ Importing from an upstream directory\n",
    "\n",
    "If a file is located upstream of a script being run, it cannot automatically be found by the Python interpreter. \n",
    "\n",
    "<img src=\"img/fruit_folder_3.png\" alt=\"Bristol\" style=\"width: 400px;\"/>\n",
    "\n"
   ]
  },
  {
   "cell_type": "markdown",
   "metadata": {},
   "source": [
    "## Upstream file location\n",
    "__Example:__ Importing from an upstream directory\n",
    "\n",
    "If a file is located upstream of a script being run, it cannot automatically be found by the Python interpreter. \n",
    "\n",
    "\n",
    "```python\n",
    "\n",
    "example_w6b/\n",
    "│\n",
    "├── scripts/\n",
    "│   └── my_script.py\n",
    "│\n",
    "├── fruit/\n",
    "│   ├── __init__.py\n",
    "│   └── strawberry.py\n",
    "│\n",
    "├── functions.py \n",
    "└── __init__.py\n",
    "\n",
    "```"
   ]
  },
  {
   "cell_type": "markdown",
   "metadata": {},
   "source": [
    "This is because Python only looks for modules and packages in its __import path__. \n",
    "\n",
    "This is a list of locations: \n",
    "- current directory\n",
    "- contents of `PYTHONPATH` variable (a list of user defined directories)\n",
    "- standard directories automatically set when python installs"
   ]
  },
  {
   "cell_type": "markdown",
   "metadata": {},
   "source": [
    "To view the path we can use the `sys` module which installs with Python:"
   ]
  },
  {
   "cell_type": "code",
   "execution_count": 1,
   "metadata": {},
   "outputs": [
    {
     "name": "stdout",
     "output_type": "stream",
     "text": [
      "['C:\\\\Users\\\\hemma\\\\iCloudDrive\\\\Documents\\\\Code\\\\Jupyter_NBooks\\\\Teaching\\\\UoB\\\\UoB_ICP_2021', 'C:\\\\Users\\\\hemma\\\\anaconda3\\\\python38.zip', 'C:\\\\Users\\\\hemma\\\\anaconda3\\\\DLLs', 'C:\\\\Users\\\\hemma\\\\anaconda3\\\\lib', 'C:\\\\Users\\\\hemma\\\\anaconda3', '', 'C:\\\\Users\\\\hemma\\\\anaconda3\\\\lib\\\\site-packages', 'C:\\\\Users\\\\hemma\\\\anaconda3\\\\lib\\\\site-packages\\\\locket-0.2.1-py3.8.egg', 'C:\\\\Users\\\\hemma\\\\anaconda3\\\\lib\\\\site-packages\\\\win32', 'C:\\\\Users\\\\hemma\\\\anaconda3\\\\lib\\\\site-packages\\\\win32\\\\lib', 'C:\\\\Users\\\\hemma\\\\anaconda3\\\\lib\\\\site-packages\\\\Pythonwin', 'C:\\\\Users\\\\hemma\\\\anaconda3\\\\lib\\\\site-packages\\\\IPython\\\\extensions', 'C:\\\\Users\\\\hemma\\\\.ipython']\n"
     ]
    }
   ],
   "source": [
    "import sys\n",
    "print(sys.path)"
   ]
  },
  {
   "cell_type": "markdown",
   "metadata": {},
   "source": [
    "To add a *location* to the path from wihtin a python program we can use `sys`.\n",
    "\n",
    "`../` is used to indicate a location one directory upstream of the current location.\n",
    "\n",
    "```python\n",
    "\n",
    "example_w6b/\n",
    "│\n",
    "├── scripts/\n",
    "│   └── my_script.py\n",
    "│\n",
    "├── fruit/\n",
    "│   ├── __init__.py\n",
    "│   └── strawberry.py\n",
    "│\n",
    "├── functions.py \n",
    "└── __init__.py\n",
    "\n",
    "```\n",
    "\n",
    "__Example:__ In `my_script.py`:\n",
    "```python\n",
    "import sys\n",
    "sys.path.append('../') # appends the python path with the directory one level up\n",
    "sys.path.append('../fruit') # appends the python path with a different directory at th same level\n",
    "import functions\n",
    "import strawberry\n",
    "```"
   ]
  },
  {
   "cell_type": "markdown",
   "metadata": {},
   "source": [
    "A directory can be removed in a similar way:\n",
    "    \n",
    "```python\n",
    "sys.path.remove('../')\n",
    "```\n"
   ]
  },
  {
   "cell_type": "code",
   "execution_count": null,
   "metadata": {},
   "outputs": [],
   "source": []
  },
  {
   "cell_type": "code",
   "execution_count": null,
   "metadata": {},
   "outputs": [],
   "source": []
  },
  {
   "cell_type": "markdown",
   "metadata": {},
   "source": [
    "# Summary\n",
    "\n",
    "- __Module:__ A python file containing python code (variables, functions, classes etc).\n",
    "\n",
    "- __Package:__ A file directory (folder) containing python files (and other directories).\n",
    "\n",
    "- __Script:__ A top level file, run as an program (importing would run the program).\n",
    "\n",
    "- `__init__.py`__:__ Required to make Python treat a directory as a package. \n",
    "\n",
    "\n",
    "- When you import a package/module, the part after `import` should be used to prepend all variables, functions etc from the imported module, to use them in the current program. \n",
    "\n",
    "- We can rename packages when they are imported.\n",
    "\n",
    "- Individual variables, functions etc can be imported. "
   ]
  },
  {
   "cell_type": "markdown",
   "metadata": {},
   "source": [
    "## Examples - making your own library "
   ]
  },
  {
   "cell_type": "markdown",
   "metadata": {},
   "source": [
    "Add illustrations of a file system "
   ]
  },
  {
   "cell_type": "code",
   "execution_count": null,
   "metadata": {},
   "outputs": [],
   "source": []
  },
  {
   "cell_type": "code",
   "execution_count": null,
   "metadata": {},
   "outputs": [],
   "source": []
  },
  {
   "cell_type": "code",
   "execution_count": null,
   "metadata": {},
   "outputs": [],
   "source": [
    "fruit_and_veg/\n",
    "│\n",
    "├── fruit/\n",
    "│   ├── __init__.py\n",
    "│   └── banana.py\n",
    "│\n",
    "├── vegetables/\n",
    "│   ├── __init__.py\n",
    "│   ├── broccoli.py\n",
    "│   ├── carrot.py\n",
    "│   └── spinach.py\n",
    "│\n",
    "└── __init__.py"
   ]
  },
  {
   "cell_type": "code",
   "execution_count": null,
   "metadata": {},
   "outputs": [],
   "source": []
  },
  {
   "cell_type": "code",
   "execution_count": null,
   "metadata": {},
   "outputs": [],
   "source": []
  },
  {
   "cell_type": "code",
   "execution_count": null,
   "metadata": {},
   "outputs": [],
   "source": []
  },
  {
   "cell_type": "code",
   "execution_count": null,
   "metadata": {},
   "outputs": [],
   "source": [
    "## Absolute imports  # adding file to python path # installing with pip "
   ]
  },
  {
   "cell_type": "code",
   "execution_count": null,
   "metadata": {},
   "outputs": [],
   "source": []
  },
  {
   "cell_type": "markdown",
   "metadata": {},
   "source": [
    "https://realpython.com/python-import/"
   ]
  },
  {
   "cell_type": "markdown",
   "metadata": {},
   "source": [
    "https://stackabuse.com/python-modules-creating-importing-and-sharing/"
   ]
  },
  {
   "cell_type": "code",
   "execution_count": null,
   "metadata": {},
   "outputs": [],
   "source": []
  }
 ],
 "metadata": {
  "kernelspec": {
   "display_name": "Python 3",
   "language": "python",
   "name": "python3"
  },
  "language_info": {
   "codemirror_mode": {
    "name": "ipython",
    "version": 3
   },
   "file_extension": ".py",
   "mimetype": "text/x-python",
   "name": "python",
   "nbconvert_exporter": "python",
   "pygments_lexer": "ipython3",
   "version": "3.7.4"
  }
 },
 "nbformat": 4,
 "nbformat_minor": 5
}
