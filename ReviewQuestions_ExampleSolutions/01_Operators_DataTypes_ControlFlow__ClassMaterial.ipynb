{
 "cells": [
  {
   "cell_type": "markdown",
   "metadata": {
    "slideshow": {
     "slide_type": "slide"
    }
   },
   "source": [
    "# 01 Operators, Data Types & Control Flow\n",
    "\n",
    "# Review Exercises - Solutions\n",
    "\n",
    "\n"
   ]
  },
  {
   "cell_type": "markdown",
   "metadata": {},
   "source": [
    "## Review Exercise 1: Temperature conversion\n",
    "    \n",
    "Write a Python program to convert 45 degrees fahrenheit to celcius and print the answer. \n",
    "\n",
    "Formula : $c = 5(f-32)/9 $\n",
    "\n",
    "[ where $c$ = temperature in celsius and $f$ = temperature in fahrenheit ]\n",
    "\n",
    "Expected Output :\n",
    "```\n",
    "45 degrees Fahrenheit is 7.222°C\n",
    "```"
   ]
  },
  {
   "cell_type": "code",
   "execution_count": 1,
   "metadata": {},
   "outputs": [],
   "source": [
    "# Review Exercise 1: Temperature conversion"
   ]
  },
  {
   "cell_type": "code",
   "execution_count": 2,
   "metadata": {},
   "outputs": [
    {
     "name": "stdout",
     "output_type": "stream",
     "text": [
      "45 degrees Fahrenheit is 7.222°C\n"
     ]
    }
   ],
   "source": [
    "# Review Exercise 1: Temperature conversion\n",
    "F = 45\n",
    "C = (5/9) * (F - 32)\n",
    "\n",
    "print(f\"{F} degrees Fahrenheit is {round(C, 3)}°C\")"
   ]
  },
  {
   "cell_type": "markdown",
   "metadata": {
    "slideshow": {
     "slide_type": "slide"
    }
   },
   "source": [
    "### Review Exercise 2: `continue`\n",
    "Write a Python program that prints all the numbers from 0 to 6 except 3 and 6.\n",
    "\n",
    "Note : Use 'continue' statement.\n",
    "\n",
    "Expected Output : ` 1 2 4 5`"
   ]
  },
  {
   "cell_type": "code",
   "execution_count": 3,
   "metadata": {
    "slideshow": {
     "slide_type": "subslide"
    }
   },
   "outputs": [
    {
     "name": "stdout",
     "output_type": "stream",
     "text": [
      "0 1 2 4 5 \n",
      "\n"
     ]
    }
   ],
   "source": [
    "# Review Exercise 2: `continue`\n",
    "# Example Solution\n",
    "for x in range(6):\n",
    "    if (x == 3 or x==6):\n",
    "        continue\n",
    "    print(x,end=' ')\n",
    "print(\"\\n\")"
   ]
  },
  {
   "cell_type": "markdown",
   "metadata": {
    "slideshow": {
     "slide_type": "slide"
    }
   },
   "source": [
    "### Review Exercise 3 : Currency Trading \n",
    "\n",
    "$JPY = $ amount paid in Japanese yen \n",
    "\n",
    "$multiplier$ is shown in the table (it depends on $JPY$)\n",
    "\n",
    "$market\\:rate$ : 1 JPY = 0.0091 USD.\n",
    "\n",
    "\n",
    "\n",
    "|Amount (JPY)                                |Multiplier               |\n",
    "|--------------------------------------------|-------------------------|\n",
    "| $ < 10,000$                                | 0.9                     |   \n",
    "| $\\geq 10,000$ and $ < 100,000$             | 0.925                   |   \n",
    "| $\\geq 100,000$ and $ < 1,000,000$          | 0.95                    |   \n",
    "| $\\geq 1,000,000$ and $ < 10,000,000$       | 0.97                    |   \n",
    "| $\\geq 10,000,000$                          | 0.98                    |    \n",
    "\n",
    "\n",
    "\n",
    "USD received by customer = `JPY * multiplier * market_rate `"
   ]
  },
  {
   "cell_type": "markdown",
   "metadata": {},
   "source": [
    "<p align=\"center\">\n",
    "  <img src=\"img/flow_diag_currency_trading.png\" alt=\"Drawing\" style=\"width: 600px;\"/>\n",
    "</p>"
   ]
  },
  {
   "cell_type": "markdown",
   "metadata": {
    "collapsed": true,
    "slideshow": {
     "slide_type": "subslide"
    }
   },
   "source": [
    "\n",
    "Use the flow diagram to write a program using `if`, `elif` and `else`. \n",
    "<br>Your program should:\n",
    "- calculate the amount (USD) received by a customer for a given sum paid in JPY.\n",
    "- print the amount paid by the customer (JPY).\n",
    "- print the amount received by the customer (USD).\n",
    "- print the *effective rate* = $\\frac{USD}{JPY}$.\n",
    "\n",
    "Use your prgram to calculate the amount in USD for 100,000 JPY.\n",
    "\n",
    "\n",
    "\n"
   ]
  },
  {
   "cell_type": "code",
   "execution_count": 4,
   "metadata": {},
   "outputs": [
    {
     "name": "stdout",
     "output_type": "stream",
     "text": [
      "Amount in JPY sold: 10000\n",
      "Amount in USD purchased: 84.175\n",
      "Effective rate: 0.0084175\n"
     ]
    }
   ],
   "source": [
    "# Review Exercise 3 : Currency Trading \n",
    "# Example solution\n",
    "\n",
    "JPY  = 10_000          # The amount in JPY to be changed into USD\n",
    "\n",
    "market_rate = 0.0091   # 1 JPY is worth this many dollars at the market rate\n",
    "\n",
    "\n",
    "# Apply the appropriate reduction depending on the amount being sold\n",
    "if JPY < 10_000:\n",
    "    multiplier = 0.9 \n",
    "        \n",
    "elif JPY < 100_000:  \n",
    "    multiplier = 0.925 \n",
    "    \n",
    "elif JPY < 1_000_000:\n",
    "    multiplier = 0.95 \n",
    "      \n",
    "elif JPY < 10_000_000:\n",
    "    multiplier = 0.97 \n",
    "\n",
    "else: # JPY > 10,000,000\n",
    "    multiplier = 0.98 \n",
    "    \n",
    "    \n",
    "# Calculate the total amount sold to the customer    \n",
    "USD = JPY * market_rate * multiplier \n",
    "    \n",
    "    \n",
    "# Print a breakdown of the transaction    \n",
    "print(\"Amount in JPY sold:\", JPY)\n",
    "print(\"Amount in USD purchased:\", USD)\n",
    "print(\"Effective rate:\", USD/JPY)"
   ]
  },
  {
   "cell_type": "markdown",
   "metadata": {
    "slideshow": {
     "slide_type": "subslide"
    }
   },
   "source": [
    " __Note: Readability:__ <br>Underscores `_` *can be* placed in long numbers to make them easier to read.\n",
    " \n",
    " > `1_000_000` = 1,000,000 <br>\n",
    " > `6_000_000_000` = 6,000,000,000\n",
    "\n",
    "\n",
    "\n",
    " \n"
   ]
  }
 ],
 "metadata": {
  "celltoolbar": "Slideshow",
  "kernelspec": {
   "display_name": "Python 3",
   "language": "python",
   "name": "python3"
  },
  "language_info": {
   "codemirror_mode": {
    "name": "ipython",
    "version": 3
   },
   "file_extension": ".py",
   "mimetype": "text/x-python",
   "name": "python",
   "nbconvert_exporter": "python",
   "pygments_lexer": "ipython3",
   "version": "3.7.4"
  }
 },
 "nbformat": 4,
 "nbformat_minor": 2
}
