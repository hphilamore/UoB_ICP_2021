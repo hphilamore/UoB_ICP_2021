{
 "cells": [
  {
   "cell_type": "markdown",
   "id": "5bffc556",
   "metadata": {
    "slideshow": {
     "slide_type": "slide"
    }
   },
   "source": [
    "# Introduction to Computer Programming\n",
    "\n",
    "## 2.1 Control Flow\n",
    "\n",
    "<img src=\"img/full-colour-logo-UoB.png\" alt=\"Drawing\" style=\"width: 300px;\"/>"
   ]
  },
  {
   "cell_type": "markdown",
   "id": "c2ceceb8",
   "metadata": {
    "slideshow": {
     "slide_type": "slide"
    }
   },
   "source": [
    "<a id='ControlStatements'></a>\n",
    "# Conditional Statements\n",
    "- Make decisions within a program and direct the flow.\n",
    "- Run different blocks of code depending on whether a Boolean expression evaluates to `True` or `False`.\n",
    "- This decision making is known as __Control Flow__\n",
    "\n",
    "<p align=\"center\">\n",
    "  <img src=\"img/conditional_statement.png\" alt=\"Drawing\" style=\"width: 300px;\"/>\n",
    "</p>"
   ]
  },
  {
   "cell_type": "markdown",
   "id": "b1de506a",
   "metadata": {},
   "source": [
    "# `if`\n",
    "\n",
    "Runs a block of code only if a condition is true \n",
    "\n",
    "<p align=\"center\">\n",
    "  <img src=\"img/if.png\" alt=\"Drawing\" style=\"width: 150px;\"/>\n",
    "</p>\n",
    "\n"
   ]
  },
  {
   "cell_type": "code",
   "execution_count": 1,
   "id": "f53afe39",
   "metadata": {
    "slideshow": {
     "slide_type": "slide"
    }
   },
   "outputs": [
    {
     "name": "stdout",
     "output_type": "stream",
     "text": [
      "Do this\n",
      "Further code\n"
     ]
    }
   ],
   "source": [
    "x = 11\n",
    "\n",
    "if x > 10:\n",
    "    print(\"Do this\") # block of code to run only if condition is True\n",
    "    \n",
    "print(\"Further code\")"
   ]
  },
  {
   "cell_type": "markdown",
   "id": "7d16fff7",
   "metadata": {},
   "source": [
    "### The role of the colon\n",
    "\n",
    "The colon follows the condition to be evaluated\n",
    "\n",
    "### The role of the indent\n",
    "\n",
    "The indent is used to determine which pieces of code are executed in the case that the condition evaluates to `True`.\n",
    "\n",
    "The indent can be any number of spaces.\n",
    "<br>The number of spaces must be the same for all lines in a block of code. \n",
    "<br>4 spaces is considered best practise. \n",
    "<br>Many IDEs (e.g. Spyder) automatically indent after you type `if:`.\n",
    "\n"
   ]
  },
  {
   "cell_type": "markdown",
   "id": "144e67c4",
   "metadata": {},
   "source": [
    "# `if`... `else`\n",
    "Runs the indented block of code after `if` if the condition is true.\n",
    "<br>Otherwise runs the indented block of code after `else`\n",
    "\n",
    "<p align=\"center\">\n",
    "  <img src=\"img/if_else.png\" alt=\"Drawing\" style=\"width: 200px;\"/>\n",
    "</p>"
   ]
  },
  {
   "cell_type": "code",
   "execution_count": 7,
   "id": "6a36ac9b",
   "metadata": {},
   "outputs": [
    {
     "name": "stdout",
     "output_type": "stream",
     "text": [
      "Do that\n",
      "Further code\n"
     ]
    }
   ],
   "source": [
    "x = 5\n",
    "\n",
    "if x > 10:\n",
    "    print(\"Do this\") # if condition is True\n",
    "else:\n",
    "    print(\"Do that\") # if condition is False\n",
    "    \n",
    "print(\"Further code\")"
   ]
  },
  {
   "cell_type": "markdown",
   "id": "50553877",
   "metadata": {},
   "source": [
    "# `if`...`elif`...(`else`)\n",
    "Runs the indented block of code after `if` if the `if` condition is true.\n",
    "<br>Otherwise runs the indented block of code after `elif` if the `elif` condition is true.\n",
    "<br>Otherwise runs the indented block of code after `else`\n",
    "\n",
    "__Only one__ of the three blocks is executed\n",
    "\n",
    "\n",
    " #################PICTURE HERE #####################"
   ]
  },
  {
   "cell_type": "code",
   "execution_count": 11,
   "id": "e94b5e73",
   "metadata": {},
   "outputs": [
    {
     "name": "stdout",
     "output_type": "stream",
     "text": [
      "Do something else\n",
      "Further code\n"
     ]
    }
   ],
   "source": [
    "x = 5\n",
    "\n",
    "if x > 10:\n",
    "    print(\"Do this\") # if condition is True\n",
    "elif x > 5:\n",
    "    print(\"Do that\") # if another condition is True\n",
    "else:\n",
    "    print(\"Do something else\") # if all conditions are False\n",
    "    \n",
    "print(\"Further code\")"
   ]
  },
  {
   "cell_type": "markdown",
   "id": "5e4399b9",
   "metadata": {},
   "source": [
    "An unlimited numer of `elif` statements can be used after an `if` statement\n",
    "\n",
    "The `else` statement is optional."
   ]
  },
  {
   "cell_type": "code",
   "execution_count": 12,
   "id": "35500086",
   "metadata": {},
   "outputs": [
    {
     "name": "stdout",
     "output_type": "stream",
     "text": [
      "x is greater than 0\n",
      "Further code\n"
     ]
    }
   ],
   "source": [
    "x = 5\n",
    "\n",
    "if x > 10:\n",
    "    print(\"x is greater than 10\") # if condition is True\n",
    "elif x > 5:\n",
    "    print(\"x is greater than 5\") # if another condition is True\n",
    "elif x > 0:\n",
    "    print(\"x is greater than 0\") # if another condition is True\n",
    "\n",
    "    \n",
    "print(\"Further code\")"
   ]
  },
  {
   "cell_type": "markdown",
   "id": "fdbfa775",
   "metadata": {
    "slideshow": {
     "slide_type": "slide"
    }
   },
   "source": [
    "__Example:__ Write a program to modify the initial value of the variable `x` and print the new value, as shown in the flow diagram. \n",
    "\n",
    "<p align=\"center\">\n",
    "  <img src=\"img/alg_flow.png\" alt=\"Drawing\" style=\"width: 400px;\"/>\n",
    "</p>"
   ]
  },
  {
   "cell_type": "code",
   "execution_count": 20,
   "id": "775528d7",
   "metadata": {
    "slideshow": {
     "slide_type": "slide"
    }
   },
   "outputs": [
    {
     "name": "stdout",
     "output_type": "stream",
     "text": [
      "Modified x =  -10.0\n"
     ]
    }
   ],
   "source": [
    "#Example : Modify input variable, `x`.\n",
    "\n",
    "x = -10.0  # Initial x value\n",
    "\n",
    "\n",
    "# x is greater than 10\n",
    "\n",
    "\n",
    "# x is less than 2\n",
    "\n",
    "\n",
    "# x is in range 2 to 10\n",
    "\n",
    "print(x)\n",
    "\n"
   ]
  },
  {
   "cell_type": "code",
   "execution_count": 21,
   "id": "de2a6c0c",
   "metadata": {
    "slideshow": {
     "slide_type": "slide"
    }
   },
   "outputs": [
    {
     "name": "stdout",
     "output_type": "stream",
     "text": [
      "11.0\n"
     ]
    }
   ],
   "source": [
    "# Example solution\n",
    "# Example : Modify input variable, `x`.\n",
    "\n",
    "x = -10.0  # Initial x value\n",
    "\n",
    "\n",
    "# x is greater than 10\n",
    "if x > 10:\n",
    "    x -= 20\n",
    "\n",
    "\n",
    "# x is less than 2\n",
    "elif x < 2:\n",
    "    x += 21\n",
    "\n",
    "\n",
    "# x is in range 2 to 10\n",
    "else:\n",
    "    x *= 2.5\n",
    "\n",
    "print(x)\n",
    "\n"
   ]
  },
  {
   "cell_type": "markdown",
   "id": "403ac2ba",
   "metadata": {
    "slideshow": {
     "slide_type": "slide"
    }
   },
   "source": [
    "Let's recap an example from last week...\n",
    "\n",
    "A simple computer program that uses comparison and logical operators.\n",
    "\n",
    "__Example:__ Write a program that answers questions based on the current time of day:\n",
    ">__Is it lunchtime?__\n",
    "<br>`True` if between lunch start and end times.\n",
    "<br>`False` if not."
   ]
  },
  {
   "cell_type": "code",
   "execution_count": 16,
   "id": "372589eb",
   "metadata": {},
   "outputs": [
    {
     "name": "stdout",
     "output_type": "stream",
     "text": [
      "Is it lunchtime?\n",
      "False\n"
     ]
    }
   ],
   "source": [
    "time = 9.00          # current time\n",
    "\n",
    "lunch_starts = 13.00  # time lunch starts\n",
    "lunch_ends =   14.00  # time lunch ends\n",
    "\n",
    "lunchtime = time >= lunch_starts and time < lunch_ends\n",
    "\n",
    "print(\"Is it lunchtime?\")\n",
    "print(lunchtime)"
   ]
  },
  {
   "cell_type": "markdown",
   "id": "12607c81",
   "metadata": {},
   "source": [
    ">__Is it lunchtime?__\n",
    "<br>`True` if between lunch start and end times.\n",
    "<br>`False` if not.\n",
    "\n",
    ">__Is it time for work?__\n",
    "<br>`True` if between work start and end times *and* not lunchtime.\n",
    "<br>`False` if not."
   ]
  },
  {
   "cell_type": "code",
   "execution_count": 24,
   "id": "069f9010",
   "metadata": {
    "slideshow": {
     "slide_type": "slide"
    }
   },
   "outputs": [
    {
     "name": "stdout",
     "output_type": "stream",
     "text": [
      "Is it lunchtime?\n",
      "False\n",
      "Is it work time?\n",
      "True\n"
     ]
    }
   ],
   "source": [
    "time = 17.00          # current time\n",
    "\n",
    "work_starts = 8.00    # time work starts \n",
    "work_ends =  17.00    # time work ends\n",
    "\n",
    "lunch_starts = 13.00  # time lunch starts\n",
    "lunch_ends =   14.00  # time lunch ends\n",
    "\n",
    "# lunchtime if the time is between the start and end of lunchtime\n",
    "lunchtime = time >= lunch_starts and time < lunch_ends\n",
    "\n",
    "# work_time if the time is not...  \n",
    "work_time = not (   time < work_starts     # ... before work\n",
    "                 or time > work_ends       # ... or after work\n",
    "                 or lunchtime)             # ... or lunchtime\n",
    "                 \n",
    "\n",
    "print(\"Is it lunchtime?\")\n",
    "print(lunchtime)\n",
    "\n",
    "print(\"Is it work time?\")\n",
    "print(work_time)\n"
   ]
  },
  {
   "cell_type": "markdown",
   "id": "0633aeaa",
   "metadata": {
    "slideshow": {
     "slide_type": "slide"
    }
   },
   "source": [
    "The program tells us what period of the day we are in, based on the time. \n",
    "\n",
    "We can use __control statements__ to decide the flow of the program based on this output. \n",
    "\n",
    "__Example:__ Write a program that tells the user to eat lunch if it is lunchtime.\n",
    "\n",
    "<p align=\"center\">\n",
    "  <img src=\"img/flow_diag_if_lunctime.png\" alt=\"Drawing\" style=\"width: 150px;\"/>\n",
    "</p>"
   ]
  },
  {
   "cell_type": "code",
   "execution_count": 18,
   "id": "0fe7f07b",
   "metadata": {},
   "outputs": [],
   "source": [
    "time = 9.00          # current time\n",
    "\n",
    "lunch_starts = 13.00  # time lunch starts\n",
    "lunch_ends =   14.00  # time lunch ends\n",
    "\n",
    "lunchtime = time >= lunch_starts and time < lunch_ends\n",
    "\n",
    "if lunchtime:\n",
    "    print(\"Eat lunch\")"
   ]
  },
  {
   "cell_type": "markdown",
   "id": "d2531ecf",
   "metadata": {
    "slideshow": {
     "slide_type": "slide"
    }
   },
   "source": [
    "__Example:__ Write a program that tells the user to eat lunch if it is lunchtime *and to do work if it is time for work*. \n",
    "  \n",
    "<p align=\"center\">\n",
    "  <img src=\"img/flow_diag_if_lunctime_elif_work.png\" alt=\"Drawing\" style=\"width: 300px;\"/>\n",
    "</p>"
   ]
  },
  {
   "cell_type": "code",
   "execution_count": 19,
   "id": "61bd6dad",
   "metadata": {},
   "outputs": [
    {
     "name": "stdout",
     "output_type": "stream",
     "text": [
      "Eat lunch\n"
     ]
    }
   ],
   "source": [
    "# --------- Program from last week ---------\n",
    "\n",
    "time = 13.05          # current time\n",
    "\n",
    "work_starts = 8.00    # time work starts \n",
    "work_ends =  17.00    # time work ends\n",
    "\n",
    "lunch_starts = 13.00  # time lunch starts\n",
    "lunch_ends =   14.00  # time lunch ends\n",
    "\n",
    "# variable lunchtime is True if the time is between the start and end of lunchtime\n",
    "lunchtime = time >= lunch_starts and time < lunch_ends\n",
    "\n",
    "# variable work_time is True if the time is not...  \n",
    "work_time = not (   time < work_starts     # ... before work\n",
    "                 or time > work_ends       # ... or after work\n",
    "                 or lunchtime)             # ... or lunchtime\n",
    "\n",
    "# -------------------------------------------\n",
    "\n",
    "if lunchtime:  \n",
    "    print(\"Eat lunch\")\n",
    "        \n",
    "# elif work_time: \n",
    "#     print(\"Do work\")\n",
    "\n"
   ]
  },
  {
   "cell_type": "markdown",
   "id": "725ea386",
   "metadata": {},
   "source": [
    "__Example:__ Write a program that tells the user to:\n",
    "- eat lunch if it is lunchtime\n",
    "- do work if it is time for work\n",
    "- go home if it is before or after work\n",
    "  \n",
    "<p align=\"center\">\n",
    "  <img src=\"img/flow_diag_if_lunctime_elif_work_else_home.png\" alt=\"Drawing\" style=\"width: 300px;\"/>\n",
    "</p>"
   ]
  },
  {
   "cell_type": "code",
   "execution_count": null,
   "id": "30822d25",
   "metadata": {},
   "outputs": [],
   "source": [
    "# --------- Program from last week ---------\n",
    "\n",
    "time = 13.05          # current time\n",
    "\n",
    "work_starts = 8.00    # time work starts \n",
    "work_ends =  17.00    # time work ends\n",
    "\n",
    "lunch_starts = 13.00  # time lunch starts\n",
    "lunch_ends =   14.00  # time lunch ends\n",
    "\n",
    "# variable lunchtime is True if the time is between the start and end of lunchtime\n",
    "lunchtime = time >= lunch_starts and time < lunch_ends\n",
    "\n",
    "# variable work_time is True if the time is not...  \n",
    "work_time = not (   time < work_starts     # ... before work\n",
    "                 or time > work_ends       # ... or after work\n",
    "                 or lunchtime)             # ... or lunchtime\n",
    "\n",
    "# -------------------------------------------\n",
    "\n",
    "\n",
    "if lunchtime:  \n",
    "    print(\"Eat lunch\")\n",
    "        \n",
    "elif work_time: \n",
    "    print(\"Do work\")\n",
    "        \n",
    "# else:   \n",
    "#     print(\"Go home\")"
   ]
  },
  {
   "cell_type": "markdown",
   "id": "113d76b7",
   "metadata": {},
   "source": [
    "### Summary\n",
    "\n",
    " - The Python `if` keyword performs a conditional test on an expression for a Boolean value of True or False.\n",
    " - Alternatives to an `if` test are provided using `elif` and `else` tests.\n",
    "\n",
    " \n",
    " [*McGrath, Python in easy steps, 2013*]"
   ]
  }
 ],
 "metadata": {
  "celltoolbar": "Slideshow",
  "kernelspec": {
   "display_name": "Python 3",
   "language": "python",
   "name": "python3"
  },
  "language_info": {
   "codemirror_mode": {
    "name": "ipython",
    "version": 3
   },
   "file_extension": ".py",
   "mimetype": "text/x-python",
   "name": "python",
   "nbconvert_exporter": "python",
   "pygments_lexer": "ipython3",
   "version": "3.8.8"
  }
 },
 "nbformat": 4,
 "nbformat_minor": 5
}
