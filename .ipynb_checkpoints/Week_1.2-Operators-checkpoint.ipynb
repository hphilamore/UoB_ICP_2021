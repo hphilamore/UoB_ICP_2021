{
 "cells": [
  {
   "cell_type": "markdown",
   "metadata": {},
   "source": [
    "# Introduction to Computer Programming\n",
    "\n",
    "## 1.2 Data Types and Operators\n",
    "\n",
    "<img src=\"img/full-colour-logo-UoB.png\" alt=\"Drawing\" style=\"width: 300px;\"/>"
   ]
  },
  {
   "cell_type": "markdown",
   "metadata": {
    "slideshow": {
     "slide_type": "slide"
    }
   },
   "source": [
    "# Variables \n",
    " - We need a way to store and use values, e.g. numbers, within a program\n",
    " - We can *assign* a value to a variable.\n",
    " - The `print` function displays whatever is between the parenthses `(...)`"
   ]
  },
  {
   "cell_type": "code",
   "execution_count": 37,
   "metadata": {},
   "outputs": [
    {
     "name": "stdout",
     "output_type": "stream",
     "text": [
      "1\n"
     ]
    }
   ],
   "source": [
    "A = 1 \n",
    "print(A)"
   ]
  },
  {
   "cell_type": "markdown",
   "metadata": {},
   "source": [
    "# Data Types\n",
    "Every variable has a type (`int`, `float`, `string`....).\n",
    " \n",
    " __Basic Data Types__ (not exhaustive)\n",
    " \n",
    "- `int` integer\n",
    "- `float` floating point number (number with decimal point)\n",
    "- `str` string: text data enclosed within quotation marks <br>e.g. `'text'` or `\"text\"` <br>(including number represented as text data)\n",
    "- `bool` boolean: True or False"
   ]
  },
  {
   "cell_type": "markdown",
   "metadata": {},
   "source": [
    "A type is automatically assigned when a variable is created. \n",
    "\n",
    "Python's `type()` function returns the type of a variable within the parentheses `(...)`.\n",
    "\n",
    "__Example:__ Create some variables and display their type"
   ]
  },
  {
   "cell_type": "code",
   "execution_count": 39,
   "metadata": {},
   "outputs": [
    {
     "name": "stdout",
     "output_type": "stream",
     "text": [
      "1 <class 'int'>\n",
      "1.0 <class 'float'>\n",
      "1 <class 'str'>\n",
      "True <class 'bool'>\n"
     ]
    }
   ],
   "source": [
    "A = 1 \n",
    "print(A, type(A))\n",
    "\n",
    "B = 1.0 \n",
    "print(B, type(B))\n",
    "\n",
    "C = '1'\n",
    "print(C, type(C))\n",
    "\n",
    "D = True\n",
    "print(D, type(D))"
   ]
  },
  {
   "cell_type": "markdown",
   "metadata": {},
   "source": [
    "### Casting\n",
    "The data type of a variable can be converted by *casting* (`int(variable_name)`, `float(variable_name)`....)\n",
    "__Example:__ Convert from a floating point number to an integer"
   ]
  },
  {
   "cell_type": "code",
   "execution_count": 26,
   "metadata": {},
   "outputs": [
    {
     "name": "stdout",
     "output_type": "stream",
     "text": [
      "1 <class 'int'>\n"
     ]
    }
   ],
   "source": [
    "B = 1.0 \n",
    "E = int(B)\n",
    "print(E, type(E))"
   ]
  },
  {
   "cell_type": "markdown",
   "metadata": {
    "slideshow": {
     "slide_type": "slide"
    }
   },
   "source": [
    "<a id='ArithmeticOperators'></a>\n",
    "# Arithmetic Operators\n",
    "\n",
    "__Arithmetic operators__ (+, -, /, * ....) are used with numeric values to perform common mathematical operations.\n"
   ]
  },
  {
   "cell_type": "markdown",
   "metadata": {},
   "source": [
    "__Example: <br>Write a program that calculates the volume of a cuboid."
   ]
  },
  {
   "cell_type": "code",
   "execution_count": 23,
   "metadata": {},
   "outputs": [
    {
     "name": "stdout",
     "output_type": "stream",
     "text": [
      "100\n"
     ]
    }
   ],
   "source": [
    "l = 10 # length\n",
    "w = 5  # width\n",
    "d = 2  # depth\n",
    "\n",
    "volume = l * w * d\n",
    "print(volume)"
   ]
  },
  {
   "cell_type": "markdown",
   "metadata": {},
   "source": [
    "__Example:__ Find the area of a circle with diameter 2 metres\n",
    "\n",
    "![title](img/circle_radius.png)\n",
    "\n",
    "$$A = \\pi r ^ 2$$ "
   ]
  },
  {
   "cell_type": "code",
   "execution_count": 3,
   "metadata": {},
   "outputs": [
    {
     "name": "stdout",
     "output_type": "stream",
     "text": [
      "12.568 m2\n"
     ]
    }
   ],
   "source": [
    "pi = 3.142\n",
    "\n",
    "r = 2 \n",
    "\n",
    "A = pi * r ** 2 \n",
    "\n",
    "print(A, 'm2')"
   ]
  },
  {
   "cell_type": "markdown",
   "metadata": {
    "slideshow": {
     "slide_type": "slide"
    }
   },
   "source": [
    "### Arithmetic operators - a word of warning!\n",
    "\n",
    "**Question**: What will the output of the following code be?\n",
    "***\n",
    "```python\n",
    "A = 2\n",
    "B = '2'\n",
    "\n",
    "print(A + A)\n",
    "\n",
    "print(A + B)\n",
    "\n",
    "print(B + B) \n",
    "```\n",
    "***"
   ]
  },
  {
   "cell_type": "markdown",
   "metadata": {
    "slideshow": {
     "slide_type": "slide"
    }
   },
   "source": [
    "\n",
    "***\n",
    "```python\n",
    "A = 2\n",
    "B = '2'\n",
    "```\n",
    "***\n",
    "**Answer**: Numbers represented as strings are not recognised as numerical values. \n",
    "<br>Arithmetic Operators behave differently on numerical and non-numerical values.\n",
    "\n",
    "<br>`print(A + A)` \n",
    "> 2\n",
    "\n",
    "<br>`print(A + B)` \n",
    "> Error. <br>Cannot add numerical and non-numerical value\n",
    "\n",
    "<br>`print(A + A)` \n",
    "> 22 <br> Adding string (text) data connect the two strings"
   ]
  },
  {
   "cell_type": "code",
   "execution_count": 43,
   "metadata": {},
   "outputs": [
    {
     "name": "stdout",
     "output_type": "stream",
     "text": [
      "4\n",
      "22\n"
     ]
    }
   ],
   "source": [
    "A = 2\n",
    "\n",
    "B = '2'\n",
    "\n",
    "print (A + A)\n",
    "\n",
    "# print (A + B) # generates an error\n",
    "\n",
    "print (B + B) # strings are connected using +"
   ]
  },
  {
   "cell_type": "markdown",
   "metadata": {},
   "source": [
    "__Comments:__  \n",
    "Comment are notes in the program that are not be run as code. \n",
    "<br>The hash `#` symbol is used to add a *comment* to a line of code."
   ]
  },
  {
   "cell_type": "markdown",
   "metadata": {
    "slideshow": {
     "slide_type": "slide"
    }
   },
   "source": [
    "<a id='ComparisonOperators'></a>\n",
    "# Comparison Operators\n",
    "\n",
    "__Comparison operators__ (==, !=, <, > ....) compare values and return a *Boolean* value: `True` or `False`\n",
    "\n",
    "__Commonly used comparison operators:__\n",
    "\n",
    "$==$   &nbsp; &nbsp; &nbsp; &nbsp; &nbsp;         Equality <br>\n",
    "$!=$   &nbsp; &nbsp; &nbsp; &nbsp; &nbsp;         Inequality <br>\n",
    "$>$    &nbsp; &nbsp; &nbsp; &nbsp; &nbsp; &nbsp;  Greater than <br>\n",
    "$<$    &nbsp; &nbsp; &nbsp; &nbsp; &nbsp; &nbsp;  Less than <br>\n",
    "$>=$   &nbsp; &nbsp; &nbsp; &nbsp;         Greater than or equal to <br>\n",
    "$<=$   &nbsp; &nbsp; &nbsp; &nbsp;         Less than or equal to <br>\n"
   ]
  },
  {
   "cell_type": "markdown",
   "metadata": {
    "slideshow": {
     "slide_type": "slide"
    }
   },
   "source": [
    "__Examples:__\n",
    "\n",
    "$10 < 9$   &nbsp; &nbsp;&nbsp; &nbsp;  is false\n",
    "\n",
    "$15 < 20$  &nbsp; &nbsp;                is true"
   ]
  },
  {
   "cell_type": "code",
   "execution_count": 18,
   "metadata": {},
   "outputs": [
    {
     "name": "stdout",
     "output_type": "stream",
     "text": [
      "False\n"
     ]
    }
   ],
   "source": [
    "print(10 < 9)"
   ]
  },
  {
   "cell_type": "code",
   "execution_count": 29,
   "metadata": {},
   "outputs": [
    {
     "name": "stdout",
     "output_type": "stream",
     "text": [
      "True\n"
     ]
    }
   ],
   "source": [
    "print(20 <= 20)"
   ]
  },
  {
   "cell_type": "markdown",
   "metadata": {
    "slideshow": {
     "slide_type": "slide"
    }
   },
   "source": [
    "<a id='LogicalOperators'></a>\n",
    "# Logical Operators\n",
    "\n",
    "Comparison operators compare two values.\n",
    "\n",
    "__Logical operators__ combine multiple boolean expressions and/or values and outout a single boolean `True` or `False` value. \n",
    "\n",
    "__Logical operators__:\n",
    "<br>`and`\n",
    "<br>`or`\n",
    "<br>`not`"
   ]
  },
  {
   "cell_type": "markdown",
   "metadata": {
    "slideshow": {
     "slide_type": "slide"
    }
   },
   "source": [
    "\n",
    "`X and Y`\n",
    "\n",
    "Output:\n",
    "<br> `True` if statement `X` __and__ statement `Y` *both* true.\n",
    "<br> Otherwise `False`. "
   ]
  },
  {
   "cell_type": "markdown",
   "metadata": {
    "slideshow": {
     "slide_type": "slide"
    }
   },
   "source": [
    "`X or Y`\n",
    "\n",
    "Output:\n",
    "<br> `True` if statement `X` __or__ statement `Y` true.\n",
    "<br> Otherwise `False`. "
   ]
  },
  {
   "cell_type": "markdown",
   "metadata": {
    "slideshow": {
     "slide_type": "slide"
    }
   },
   "source": [
    "__Examples:__\n",
    "\n",
    "$10 < 9$   &nbsp; &nbsp;&nbsp; &nbsp;  `False`\n",
    "\n",
    "$15 < 20$  &nbsp; &nbsp;                `True`"
   ]
  },
  {
   "cell_type": "code",
   "execution_count": 20,
   "metadata": {},
   "outputs": [
    {
     "name": "stdout",
     "output_type": "stream",
     "text": [
      "False\n"
     ]
    }
   ],
   "source": [
    "print(10 < 9 and 20 <= 20)"
   ]
  },
  {
   "cell_type": "code",
   "execution_count": 30,
   "metadata": {},
   "outputs": [
    {
     "name": "stdout",
     "output_type": "stream",
     "text": [
      "True\n"
     ]
    }
   ],
   "source": [
    "print(10 < 9 or 20 <= 20)"
   ]
  },
  {
   "cell_type": "markdown",
   "metadata": {
    "slideshow": {
     "slide_type": "slide"
    }
   },
   "source": [
    "In Python, the `not` operator negates a statement, e.g.:"
   ]
  },
  {
   "cell_type": "code",
   "execution_count": 7,
   "metadata": {},
   "outputs": [
    {
     "name": "stdout",
     "output_type": "stream",
     "text": [
      "False\n",
      "True\n"
     ]
    }
   ],
   "source": [
    "a = 12\n",
    "print(a < 0)\n",
    "print(not a < 0)"
   ]
  },
  {
   "cell_type": "markdown",
   "metadata": {
    "slideshow": {
     "slide_type": "slide"
    }
   },
   "source": [
    "A simple computer program that uses comparison and logical operators.\n",
    "\n",
    "__Example:__ Write a program that answers questions based on the current time of day:"
   ]
  },
  {
   "cell_type": "markdown",
   "metadata": {
    "slideshow": {
     "slide_type": "slide"
    }
   },
   "source": [
    ">__Is it lunchtime?__\n",
    "<br>`True` if between lunch start and end times.\n",
    "<br>`False` if not."
   ]
  },
  {
   "cell_type": "code",
   "execution_count": 32,
   "metadata": {},
   "outputs": [
    {
     "name": "stdout",
     "output_type": "stream",
     "text": [
      "Is it lunchtime? False\n",
      "\n"
     ]
    }
   ],
   "source": [
    "# Variables\n",
    "time = 9.00           # current time\n",
    "lunch_starts = 13.00  # time lunch starts\n",
    "lunch_ends =   14.00  # time lunch ends\n",
    "\n",
    "\n",
    "# Logical and comparsion operators\n",
    "lunchtime = time >= lunch_starts and time < lunch_ends\n",
    "\n",
    "\n",
    "print(\"Is it lunchtime?\", lunchtime)\n",
    "print()"
   ]
  },
  {
   "cell_type": "markdown",
   "metadata": {
    "slideshow": {
     "slide_type": "slide"
    }
   },
   "source": [
    "If we change the value of `time`, the program output changes. "
   ]
  },
  {
   "cell_type": "markdown",
   "metadata": {
    "slideshow": {
     "slide_type": "slide"
    }
   },
   "source": [
    "Note that the comparison operators (`>=`, `<=`, `<` and `>`) are evaluated before the logical operators (`and`, `or`).\n",
    "<a id='OperatorPrecedence'></a>\n",
    "# Operator Precedence\n",
    "\n",
    "\n",
    "1. Parentheses\n",
    "1. Exponents \n",
    "1. Multiplication, Division, Floor Division and Modulo (left to right)\n",
    "1. Addition and Subtraction (left to right)\n",
    "1. Comparison Operators (left to right)\n",
    "1. Boolean not\n",
    "1. Boolean and\n",
    "1. Boolean or"
   ]
  },
  {
   "cell_type": "markdown",
   "metadata": {
    "slideshow": {
     "slide_type": "slide"
    }
   },
   "source": [
    "<a id='StackingComparisonOperators'></a>\n",
    "#  Stacking Comparison Operators\n",
    "\n",
    "\n",
    "Extract from example program:\n",
    "\n",
    "```python\n",
    "lunchtime = time >= lunch_starts and time < lunch_ends\n",
    "\n",
    "```\n",
    "\n",
    "We can rewrite *stacking* the comparison operators: \n",
    "```python\n",
    "\n",
    "time >= lunch_starts and time < lunch_ends\n",
    "\n",
    "```\n",
    "\n",
    "is the same as\n",
    "\n",
    "```python\n",
    "lunch_starts <= time < lunch_ends\n",
    "\n",
    "```"
   ]
  },
  {
   "cell_type": "markdown",
   "metadata": {},
   "source": [
    "# Summary\n",
    " - __Arithmetic operators__ (+, -, /, * ....) are used with numeric values to perform common mathematical operations.\n",
    " - __Comparison operators__ (==, !=, <, > ....) compare two *variables*.\n",
    "     - The outcome of a comparison is a *Boolean* (True or False) value.\n",
    " - __Logical operators__ (`and`, `or`) compare Boolean `True` or `False` values, such as the outcomes of two *comparison operations*, to form logic statements.\n",
    "     - The outcome of a logical operation is a *Boolean* (True or False) value.\n",
    "     - The logical `not` operator returns the inverse Boolean value of a comparison.\n",
    " "
   ]
  },
  {
   "cell_type": "markdown",
   "metadata": {},
   "source": [
    "# In-class examples"
   ]
  },
  {
   "cell_type": "markdown",
   "metadata": {
    "slideshow": {
     "slide_type": "slide"
    }
   },
   "source": [
    "__Example 1:__ Find the volume of a cone.\n",
    "\n",
    "Base radius = 2 cm\n",
    "<br> Height = 10 cm\n",
    "\n",
    "Volume of a cone: $V = \\frac{Ah}{3}$  <br>where $A=$ base area\n",
    "<img src=\"img/cone.png\" alt=\"Drawing\" style=\"width: 200px;\"/>"
   ]
  },
  {
   "cell_type": "code",
   "execution_count": 5,
   "metadata": {},
   "outputs": [
    {
     "name": "stdout",
     "output_type": "stream",
     "text": [
      "41.89333333333333 cm3\n"
     ]
    }
   ],
   "source": [
    "pi = 3.142\n",
    "r = 2\n",
    "h = 10 \n",
    "\n",
    "A = pi * r ** 2  # (cm2)  \n",
    "\n",
    "# A can now be used as a variable in other equations\n",
    "\n",
    "V = A * h / 3    # (cm3)   \n",
    "\n",
    "print(V, 'cm3')"
   ]
  },
  {
   "cell_type": "markdown",
   "metadata": {},
   "source": [
    "__Example 2:__ <br>Write a program that creates 3 variables, `A`, `B` and `C`, with numerical values, and outputs a statement that tells the user if the values include any negative numbers. "
   ]
  },
  {
   "cell_type": "code",
   "execution_count": 20,
   "metadata": {},
   "outputs": [
    {
     "name": "stdout",
     "output_type": "stream",
     "text": [
      "Values include negative numbers:  True\n",
      "Values are only positive numbers:  False\n"
     ]
    }
   ],
   "source": [
    "A = 1\n",
    "B = -1\n",
    "C = 2\n",
    "\n",
    "answer = A < 0 or B < 0 or C < 0\n",
    "\n",
    "print('Values include negative numbers: ',answer)\n",
    "\n",
    "print('Values are only positive numbers: ', not answer)"
   ]
  },
  {
   "cell_type": "markdown",
   "metadata": {
    "slideshow": {
     "slide_type": "slide"
    }
   },
   "source": [
    "__Example 3:__ <br> Write a program that answers two questions based on the current time of day:"
   ]
  },
  {
   "cell_type": "markdown",
   "metadata": {},
   "source": [
    ">__Is it lunchtime?__\n",
    "<br>`True` if between lunch start and end times.\n",
    "<br>`False` if not.\n",
    "\n",
    ">__Is it time for work?__\n",
    "<br>`True` if between work start and end times *and not* lunchtime.\n",
    "<br>`False` if not."
   ]
  },
  {
   "cell_type": "code",
   "execution_count": 33,
   "metadata": {
    "slideshow": {
     "slide_type": "slide"
    }
   },
   "outputs": [
    {
     "name": "stdout",
     "output_type": "stream",
     "text": [
      "Is it work time? True\n",
      "Is it lunchtime? False\n"
     ]
    }
   ],
   "source": [
    "# Variables\n",
    "t =  9.00          # current time\n",
    "Ls = 13.00         # lunch starts\n",
    "Le = 14.00         # lunch ends\n",
    "Ws = 8.00          # work starts\n",
    "We = 17.00         # work ends\n",
    " \n",
    "# lunchtime\n",
    "  \n",
    "\n",
    "# work_time \n",
    "# not before work or after work or lunchtime\n",
    "                 \n",
    "\n",
    "print(\"Is it work time?\", work_time)\n",
    "print(\"Is it lunchtime?\", lunchtime)"
   ]
  },
  {
   "cell_type": "code",
   "execution_count": 31,
   "metadata": {
    "slideshow": {
     "slide_type": "slide"
    }
   },
   "outputs": [
    {
     "name": "stdout",
     "output_type": "stream",
     "text": [
      "Is it work time? True\n",
      "Is it lunchtime? False\n"
     ]
    }
   ],
   "source": [
    "# Variables\n",
    "t = 9.00           # current time\n",
    "Ls = 13.00         # lunch starts\n",
    "Le = 14.00         # lunch ends\n",
    "Ws = 8.00          # work starts\n",
    "We = 17.00         # work ends   \n",
    " \n",
    "# lunchtime\n",
    "lunchtime = Ls <= t < Le\n",
    "\n",
    "# work_time \n",
    "# not before work or after work or lunchtime\n",
    "work_time = not ( t < Ws or t > We or lunchtime)  \n",
    "                 \n",
    "\n",
    "print(\"Is it work time?\", work_time)\n",
    "print(\"Is it lunchtime?\", lunchtime)"
   ]
  },
  {
   "cell_type": "code",
   "execution_count": null,
   "metadata": {},
   "outputs": [],
   "source": []
  }
 ],
 "metadata": {
  "kernelspec": {
   "display_name": "Python 3",
   "language": "python",
   "name": "python3"
  },
  "language_info": {
   "codemirror_mode": {
    "name": "ipython",
    "version": 3
   },
   "file_extension": ".py",
   "mimetype": "text/x-python",
   "name": "python",
   "nbconvert_exporter": "python",
   "pygments_lexer": "ipython3",
   "version": "3.7.4"
  }
 },
 "nbformat": 4,
 "nbformat_minor": 5
}
