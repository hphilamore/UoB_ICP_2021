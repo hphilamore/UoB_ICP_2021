{
 "cells": [
  {
   "cell_type": "markdown",
   "id": "9ee89631",
   "metadata": {},
   "source": [
    "# Introduction to Computer Programming\n",
    "\n",
    "## 1.3 Operators\n",
    "\n",
    "<img src=\"img/full-colour-logo-UoB.png\" alt=\"Drawing\" style=\"width: 300px;\"/>"
   ]
  },
  {
   "cell_type": "markdown",
   "id": "ec64b772",
   "metadata": {
    "slideshow": {
     "slide_type": "slide"
    }
   },
   "source": [
    "<a id='ComparisonOperators'></a>\n",
    "# Comparison Operators\n",
    "\n",
    "__Comparison operators__ (==, !=, <, > ....) compare values and return a *Boolean* value: `True` or `False`\n",
    "\n",
    "__Commonly used comparison operators:__\n",
    "\n",
    "$==$   &nbsp; &nbsp; &nbsp; &nbsp; &nbsp;         Equality <br>\n",
    "$!=$   &nbsp; &nbsp; &nbsp; &nbsp; &nbsp;         Inequality <br>\n",
    "$>$    &nbsp; &nbsp; &nbsp; &nbsp; &nbsp; &nbsp;  Greater than <br>\n",
    "$<$    &nbsp; &nbsp; &nbsp; &nbsp; &nbsp; &nbsp;  Less than <br>\n",
    "$>=$   &nbsp; &nbsp; &nbsp; &nbsp;         Greater than or equal to <br>\n",
    "$<=$   &nbsp; &nbsp; &nbsp; &nbsp;         Less than or equal to <br>\n"
   ]
  },
  {
   "cell_type": "markdown",
   "id": "d1bb7f7a",
   "metadata": {
    "slideshow": {
     "slide_type": "slide"
    }
   },
   "source": [
    "__Examples:__\n",
    "\n",
    "$10 < 9$   &nbsp; &nbsp;&nbsp; &nbsp;  is false\n",
    "\n",
    "$15 < 20$  &nbsp; &nbsp;                is true"
   ]
  },
  {
   "cell_type": "code",
   "execution_count": 18,
   "id": "ce91d9e1",
   "metadata": {},
   "outputs": [
    {
     "name": "stdout",
     "output_type": "stream",
     "text": [
      "False\n"
     ]
    }
   ],
   "source": [
    "print(10 < 9)"
   ]
  },
  {
   "cell_type": "code",
   "execution_count": 29,
   "id": "fa300608",
   "metadata": {},
   "outputs": [
    {
     "name": "stdout",
     "output_type": "stream",
     "text": [
      "True\n"
     ]
    }
   ],
   "source": [
    "print(20 <= 20)"
   ]
  },
  {
   "cell_type": "code",
   "execution_count": 2,
   "id": "263bed60",
   "metadata": {},
   "outputs": [
    {
     "name": "stdout",
     "output_type": "stream",
     "text": [
      "True\n"
     ]
    }
   ],
   "source": [
    "A = 1\n",
    "B = 2\n",
    "C = type(A) == type(B)\n",
    "print(C)"
   ]
  },
  {
   "cell_type": "markdown",
   "id": "9eb11a98",
   "metadata": {
    "slideshow": {
     "slide_type": "slide"
    }
   },
   "source": [
    "<a id='LogicalOperators'></a>\n",
    "# Logical Operators\n",
    "\n",
    "Comparison operators compare two values.\n",
    "\n",
    "__Logical operators__ combine multiple boolean expressions and/or values and outout a single boolean `True` or `False` value. \n",
    "\n",
    "__Logical operators__:\n",
    "<br>`and`\n",
    "<br>`or`\n",
    "<br>`not`"
   ]
  },
  {
   "cell_type": "markdown",
   "id": "dd69577b",
   "metadata": {
    "slideshow": {
     "slide_type": "slide"
    }
   },
   "source": [
    "\n",
    "`X and Y`\n",
    "\n",
    "Output:\n",
    "<br> `True` if statement `X` __and__ statement `Y` *both* true.\n",
    "<br> Otherwise `False`. "
   ]
  },
  {
   "cell_type": "markdown",
   "id": "461e99d4",
   "metadata": {
    "slideshow": {
     "slide_type": "slide"
    }
   },
   "source": [
    "`X or Y`\n",
    "\n",
    "Output:\n",
    "<br> `True` if statement `X` __or__ statement `Y` true.\n",
    "<br> Otherwise `False`. "
   ]
  },
  {
   "cell_type": "markdown",
   "id": "257ba550",
   "metadata": {
    "slideshow": {
     "slide_type": "slide"
    }
   },
   "source": [
    "__Examples:__\n",
    "\n",
    "$10 < 9$   &nbsp; &nbsp;&nbsp; &nbsp;  `False`\n",
    "\n",
    "$15 < 20$  &nbsp; &nbsp;                `True`"
   ]
  },
  {
   "cell_type": "code",
   "execution_count": 20,
   "id": "df12c9cc",
   "metadata": {},
   "outputs": [
    {
     "name": "stdout",
     "output_type": "stream",
     "text": [
      "False\n"
     ]
    }
   ],
   "source": [
    "print(10 < 9 and 20 <= 20)"
   ]
  },
  {
   "cell_type": "code",
   "execution_count": 30,
   "id": "4926a005",
   "metadata": {},
   "outputs": [
    {
     "name": "stdout",
     "output_type": "stream",
     "text": [
      "True\n"
     ]
    }
   ],
   "source": [
    "print(10 < 9 or 20 <= 20)"
   ]
  },
  {
   "cell_type": "markdown",
   "id": "0c460a26",
   "metadata": {
    "slideshow": {
     "slide_type": "slide"
    }
   },
   "source": [
    "In Python, the `not` operator negates a statement, e.g.:"
   ]
  },
  {
   "cell_type": "code",
   "execution_count": 7,
   "id": "d7c0aad4",
   "metadata": {},
   "outputs": [
    {
     "name": "stdout",
     "output_type": "stream",
     "text": [
      "False\n",
      "True\n"
     ]
    }
   ],
   "source": [
    "a = 12\n",
    "print(a < 0)\n",
    "print(not a < 0)"
   ]
  },
  {
   "cell_type": "markdown",
   "id": "97ca1461",
   "metadata": {
    "slideshow": {
     "slide_type": "slide"
    }
   },
   "source": [
    "A simple computer program that uses comparison and logical operators.\n",
    "\n",
    "__Example:__ Write a program that answers questions based on the current time of day:"
   ]
  },
  {
   "cell_type": "markdown",
   "id": "078146e9",
   "metadata": {
    "slideshow": {
     "slide_type": "slide"
    }
   },
   "source": [
    ">__Is it lunchtime?__\n",
    "<br>`True` if between lunch start and end times.\n",
    "<br>`False` if not."
   ]
  },
  {
   "cell_type": "code",
   "execution_count": 32,
   "id": "dc09def4",
   "metadata": {},
   "outputs": [
    {
     "name": "stdout",
     "output_type": "stream",
     "text": [
      "Is it lunchtime? False\n",
      "\n"
     ]
    }
   ],
   "source": [
    "# Variables\n",
    "time = 9.00           # current time\n",
    "lunch_starts = 13.00  # time lunch starts\n",
    "lunch_ends =   14.00  # time lunch ends\n",
    "\n",
    "\n",
    "# Logical and comparsion operators\n",
    "lunchtime = time >= lunch_starts and time < lunch_ends\n",
    "\n",
    "\n",
    "print(\"Is it lunchtime?\", lunchtime)\n",
    "print()"
   ]
  },
  {
   "cell_type": "markdown",
   "id": "7d429b9d",
   "metadata": {
    "slideshow": {
     "slide_type": "slide"
    }
   },
   "source": [
    "If we change the value of `time`, the program output changes. "
   ]
  },
  {
   "cell_type": "markdown",
   "id": "3dbbc2b4",
   "metadata": {
    "slideshow": {
     "slide_type": "slide"
    }
   },
   "source": [
    "Note that the comparison operators (`>=`, `<=`, `<` and `>`) are evaluated before the logical operators (`and`, `or`).\n",
    "<a id='OperatorPrecedence'></a>\n",
    "# Operator Precedence\n",
    "\n",
    "\n",
    "1. Parentheses\n",
    "1. Exponents \n",
    "1. Multiplication, Division, Floor Division and Modulo (left to right)\n",
    "1. Addition and Subtraction (left to right)\n",
    "1. Comparison Operators (left to right)\n",
    "1. Boolean not\n",
    "1. Boolean and\n",
    "1. Boolean or"
   ]
  },
  {
   "cell_type": "markdown",
   "id": "30640f57",
   "metadata": {
    "slideshow": {
     "slide_type": "slide"
    }
   },
   "source": [
    "<a id='StackingComparisonOperators'></a>\n",
    "#  Stacking Comparison Operators\n",
    "\n",
    "\n",
    "Extract from example program:\n",
    "\n",
    "```python\n",
    "lunchtime = time >= lunch_starts and time < lunch_ends\n",
    "\n",
    "```\n",
    "\n",
    "We can rewrite *stacking* the comparison operators: \n",
    "```python\n",
    "\n",
    "time >= lunch_starts and time < lunch_ends\n",
    "\n",
    "```\n",
    "\n",
    "is the same as\n",
    "\n",
    "```python\n",
    "lunch_starts <= time < lunch_ends\n",
    "\n",
    "```"
   ]
  },
  {
   "cell_type": "markdown",
   "id": "d6f1807c",
   "metadata": {},
   "source": [
    "# Summary\n",
    " - __Arithmetic operators__ (+, -, /, * ....) are used with numeric values to perform common mathematical operations.\n",
    " - __Comparison operators__ (==, !=, <, > ....) compare two *variables*.\n",
    "     - The outcome of a comparison is a *Boolean* (True or False) value.\n",
    " - __Logical operators__ (`and`, `or`) compare Boolean `True` or `False` values, such as the outcomes of two *comparison operations*, to form logic statements.\n",
    "     - The outcome of a logical operation is a *Boolean* (True or False) value.\n",
    "     - The logical `not` operator returns the inverse Boolean value of a comparison.\n",
    " "
   ]
  },
  {
   "cell_type": "markdown",
   "id": "76395da2",
   "metadata": {},
   "source": [
    "# In-class examples"
   ]
  },
  {
   "cell_type": "markdown",
   "id": "44609533",
   "metadata": {},
   "source": [
    "__Example 1:__ <br>Write a program that creates 3 variables, `A`, `B` and `C`, with numerical values, and outputs a statement that tells the user if the values include any negative numbers. "
   ]
  },
  {
   "cell_type": "code",
   "execution_count": 20,
   "id": "5e890ba8",
   "metadata": {},
   "outputs": [
    {
     "name": "stdout",
     "output_type": "stream",
     "text": [
      "Values include negative numbers:  True\n",
      "Values are only positive numbers:  False\n"
     ]
    }
   ],
   "source": [
    "A = 1\n",
    "B = -1\n",
    "C = 2\n",
    "\n",
    "answer = A < 0 or B < 0 or C < 0\n",
    "\n",
    "print('Values include negative numbers: ',answer)\n",
    "\n",
    "print('Values are only positive numbers: ', not answer)"
   ]
  },
  {
   "cell_type": "markdown",
   "id": "ffb448f9",
   "metadata": {
    "slideshow": {
     "slide_type": "slide"
    }
   },
   "source": [
    "__Example 2:__ <br> Write a program that answers two questions based on the current time of day:"
   ]
  },
  {
   "cell_type": "markdown",
   "id": "25eb9991",
   "metadata": {},
   "source": [
    ">__Is it lunchtime?__\n",
    "<br>`True` if between lunch start and end times.\n",
    "<br>`False` if not.\n",
    "\n",
    ">__Is it time for work?__\n",
    "<br>`True` if between work start and end times *and not* lunchtime.\n",
    "<br>`False` if not."
   ]
  },
  {
   "cell_type": "code",
   "execution_count": 33,
   "id": "6a867ec9",
   "metadata": {
    "slideshow": {
     "slide_type": "slide"
    }
   },
   "outputs": [
    {
     "name": "stdout",
     "output_type": "stream",
     "text": [
      "Is it work time? True\n",
      "Is it lunchtime? False\n"
     ]
    }
   ],
   "source": [
    "# Variables\n",
    "t =  9.00          # current time\n",
    "Ls = 13.00         # lunch starts\n",
    "Le = 14.00         # lunch ends\n",
    "Ws = 8.00          # work starts\n",
    "We = 17.00         # work ends\n",
    " \n",
    "# lunchtime\n",
    "  \n",
    "\n",
    "# work_time \n",
    "# not before work or after work or lunchtime\n",
    "                 \n",
    "\n",
    "print(\"Is it work time?\", work_time)\n",
    "print(\"Is it lunchtime?\", lunchtime)"
   ]
  },
  {
   "cell_type": "code",
   "execution_count": 31,
   "id": "4c9678eb",
   "metadata": {
    "slideshow": {
     "slide_type": "slide"
    }
   },
   "outputs": [
    {
     "name": "stdout",
     "output_type": "stream",
     "text": [
      "Is it work time? True\n",
      "Is it lunchtime? False\n"
     ]
    }
   ],
   "source": [
    "# Variables\n",
    "t = 9.00           # current time\n",
    "Ls = 13.00         # lunch starts\n",
    "Le = 14.00         # lunch ends\n",
    "Ws = 8.00          # work starts\n",
    "We = 17.00         # work ends   \n",
    " \n",
    "# lunchtime\n",
    "lunchtime = Ls <= t < Le\n",
    "\n",
    "# work_time \n",
    "# not before work or after work or lunchtime\n",
    "work_time = not ( t < Ws or t > We or lunchtime)  \n",
    "                 \n",
    "\n",
    "print(\"Is it work time?\", work_time)\n",
    "print(\"Is it lunchtime?\", lunchtime)"
   ]
  },
  {
   "cell_type": "code",
   "execution_count": null,
   "id": "6d290caf",
   "metadata": {},
   "outputs": [],
   "source": []
  }
 ],
 "metadata": {
  "kernelspec": {
   "display_name": "Python 3",
   "language": "python",
   "name": "python3"
  },
  "language_info": {
   "codemirror_mode": {
    "name": "ipython",
    "version": 3
   },
   "file_extension": ".py",
   "mimetype": "text/x-python",
   "name": "python",
   "nbconvert_exporter": "python",
   "pygments_lexer": "ipython3",
   "version": "3.8.8"
  }
 },
 "nbformat": 4,
 "nbformat_minor": 5
}
