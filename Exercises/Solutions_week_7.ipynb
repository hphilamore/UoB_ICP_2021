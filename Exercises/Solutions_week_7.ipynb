{
 "cells": [
  {
   "cell_type": "markdown",
   "metadata": {},
   "source": [
    "# Exercise Week 8 Numpy \n",
    "## Part 1 User input\n",
    "## Exercise 1 Element-Wise Operation\n",
    "### 1,2"
   ]
  },
  {
   "cell_type": "code",
   "execution_count": 2,
   "metadata": {},
   "outputs": [],
   "source": [
    "numsList = list(range(2,10))"
   ]
  },
  {
   "cell_type": "code",
   "execution_count": 3,
   "metadata": {},
   "outputs": [
    {
     "name": "stdout",
     "output_type": "stream",
     "text": [
      "[2 3 4 5 6 7 8 9]\n"
     ]
    }
   ],
   "source": [
    "import numpy as np\n",
    "numsArrays = np.array(numsList)\n",
    "print(numsArrays)"
   ]
  },
  {
   "cell_type": "markdown",
   "metadata": {},
   "source": [
    "### 3,4\n",
    "How to add 3 to each element and substract 2"
   ]
  },
  {
   "cell_type": "code",
   "execution_count": 3,
   "metadata": {},
   "outputs": [
    {
     "name": "stdout",
     "output_type": "stream",
     "text": [
      "[5, 6, 7, 8, 9, 10, 11, 12]\n"
     ]
    }
   ],
   "source": [
    "#using list comprehension on numsList\n",
    "numsList = [x + 3 for x in numsList]\n",
    "print(numsList)"
   ]
  },
  {
   "cell_type": "code",
   "execution_count": 4,
   "metadata": {},
   "outputs": [
    {
     "name": "stdout",
     "output_type": "stream",
     "text": [
      "[ 5  6  7  8  9 10 11 12]\n"
     ]
    }
   ],
   "source": [
    "#using numpy\n",
    "numsArrays += 3 \n",
    "print(numsArrays)"
   ]
  },
  {
   "cell_type": "code",
   "execution_count": 5,
   "metadata": {},
   "outputs": [
    {
     "name": "stdout",
     "output_type": "stream",
     "text": [
      "[0, 1, 2, 3, 4, 5, 6, 7]\n",
      "[0 1 2 3 4 5 6 7]\n"
     ]
    }
   ],
   "source": [
    "# here we have our list and array back to their original value\n",
    "numsList = list(range(2,10))\n",
    "numsArrays = np.array(numsList)\n",
    "\n",
    "numsList = [x - 2 for x in numsList]\n",
    "print(numsList)\n",
    "numsArrays -= 2 \n",
    "print(numsArrays)"
   ]
  },
  {
   "cell_type": "markdown",
   "metadata": {},
   "source": [
    "### 5"
   ]
  },
  {
   "cell_type": "code",
   "execution_count": 6,
   "metadata": {},
   "outputs": [
    {
     "name": "stdout",
     "output_type": "stream",
     "text": [
      "[ 1.  2.  3.  4.  5.  6.  7.  8.  9. 10.]\n"
     ]
    }
   ],
   "source": [
    "x = np.linspace(1,10,10)\n",
    "print(x)"
   ]
  },
  {
   "cell_type": "markdown",
   "metadata": {},
   "source": [
    "linespasce takes as parameter the start, stop and number of point respontively, The function also accept other arguments for more information please refer to the documentation found [here](https://numpy.org/doc/stable/reference/generated/numpy.linspace.html)"
   ]
  },
  {
   "cell_type": "markdown",
   "metadata": {},
   "source": [
    "### 6"
   ]
  },
  {
   "cell_type": "code",
   "execution_count": 7,
   "metadata": {},
   "outputs": [
    {
     "data": {
      "text/plain": [
       "[numpy.float64,\n",
       " numpy.float64,\n",
       " numpy.float64,\n",
       " numpy.float64,\n",
       " numpy.float64,\n",
       " numpy.float64,\n",
       " numpy.float64,\n",
       " numpy.float64,\n",
       " numpy.float64,\n",
       " numpy.float64]"
      ]
     },
     "execution_count": 7,
     "metadata": {},
     "output_type": "execute_result"
    }
   ],
   "source": [
    "list(map(type,x))"
   ]
  },
  {
   "cell_type": "markdown",
   "metadata": {},
   "source": [
    "As mentioined above the function linespace takes multiple arguments one of which is the type, if no argument is given for the type, it type of the array is infered from the arguments "
   ]
  },
  {
   "cell_type": "code",
   "execution_count": 8,
   "metadata": {},
   "outputs": [
    {
     "data": {
      "text/plain": [
       "[numpy.int64,\n",
       " numpy.int64,\n",
       " numpy.int64,\n",
       " numpy.int64,\n",
       " numpy.int64,\n",
       " numpy.int64,\n",
       " numpy.int64,\n",
       " numpy.int64,\n",
       " numpy.int64,\n",
       " numpy.int64]"
      ]
     },
     "execution_count": 8,
     "metadata": {},
     "output_type": "execute_result"
    }
   ],
   "source": [
    "x_int64 = np.linspace(1,10,10, dtype = np.int64)\n",
    "list(map(type,x_int64))"
   ]
  },
  {
   "cell_type": "markdown",
   "metadata": {},
   "source": [
    "### 7,8"
   ]
  },
  {
   "cell_type": "code",
   "execution_count": 9,
   "metadata": {},
   "outputs": [
    {
     "name": "stdout",
     "output_type": "stream",
     "text": [
      "[ 2.  4.  6.  8. 10.]\n",
      "[ 2.  4.  6.  8. 10.]\n"
     ]
    }
   ],
   "source": [
    "x = x*2 \n",
    "print(x[0:5])\n",
    "x = x/2\n",
    "print(x[x%2 == 0])"
   ]
  },
  {
   "cell_type": "markdown",
   "metadata": {},
   "source": [
    "## Exercise 2- Shaping arrays\n",
    "### 1,2,3"
   ]
  },
  {
   "cell_type": "code",
   "execution_count": 10,
   "metadata": {},
   "outputs": [
    {
     "name": "stdout",
     "output_type": "stream",
     "text": [
      "[[2. 2. 2.]\n",
      " [2. 2. 2.]]\n"
     ]
    }
   ],
   "source": [
    "# using the one function we will generate  a matrix of one and multiply it by 2\n",
    "y = np.ones((2,3))*2\n",
    "print(y)"
   ]
  },
  {
   "cell_type": "code",
   "execution_count": 11,
   "metadata": {},
   "outputs": [
    {
     "data": {
      "text/plain": [
       "array([[2., 2.],\n",
       "       [2., 2.],\n",
       "       [2., 2.]])"
      ]
     },
     "execution_count": 11,
     "metadata": {},
     "output_type": "execute_result"
    }
   ],
   "source": [
    "y.reshape(3,2)"
   ]
  },
  {
   "cell_type": "code",
   "execution_count": 12,
   "metadata": {},
   "outputs": [
    {
     "ename": "ValueError",
     "evalue": "cannot reshape array of size 6 into shape (4,2)",
     "output_type": "error",
     "traceback": [
      "\u001b[1;31m---------------------------------------------------------------------------\u001b[0m",
      "\u001b[1;31mValueError\u001b[0m                                Traceback (most recent call last)",
      "\u001b[1;32m<ipython-input-12-1df94cd01fc8>\u001b[0m in \u001b[0;36m<module>\u001b[1;34m\u001b[0m\n\u001b[1;32m----> 1\u001b[1;33m \u001b[0my\u001b[0m\u001b[1;33m.\u001b[0m\u001b[0mreshape\u001b[0m\u001b[1;33m(\u001b[0m\u001b[1;36m4\u001b[0m\u001b[1;33m,\u001b[0m\u001b[1;36m2\u001b[0m\u001b[1;33m)\u001b[0m\u001b[1;33m\u001b[0m\u001b[1;33m\u001b[0m\u001b[0m\n\u001b[0m",
      "\u001b[1;31mValueError\u001b[0m: cannot reshape array of size 6 into shape (4,2)"
     ]
    }
   ],
   "source": [
    "y.reshape(4,2)"
   ]
  },
  {
   "cell_type": "markdown",
   "metadata": {},
   "source": [
    "As you can see you cannot resize an array into a larger one here the new array would have to contain 8 elements, $y$ only has 6"
   ]
  },
  {
   "cell_type": "markdown",
   "metadata": {},
   "source": [
    "### 4,5\n",
    "Notice that this is just the sequence from 1 to 6 reshaped You could use of for a loop and access the indices to replace the values of the y array"
   ]
  },
  {
   "cell_type": "code",
   "execution_count": 13,
   "metadata": {},
   "outputs": [
    {
     "name": "stdout",
     "output_type": "stream",
     "text": [
      "[[1. 2.]\n",
      " [3. 4.]\n",
      " [5. 6.]]\n"
     ]
    }
   ],
   "source": [
    "y = np.arange(1.,7.).reshape(3,2)\n",
    "print(y)"
   ]
  },
  {
   "cell_type": "code",
   "execution_count": 14,
   "metadata": {},
   "outputs": [
    {
     "name": "stdout",
     "output_type": "stream",
     "text": [
      "[[ 1.  4.]\n",
      " [ 9. 16.]\n",
      " [25. 36.]]\n"
     ]
    }
   ],
   "source": [
    "z = y*y\n",
    "print(z)"
   ]
  },
  {
   "cell_type": "markdown",
   "metadata": {},
   "source": [
    "This performs element-wise multiplication"
   ]
  },
  {
   "cell_type": "markdown",
   "metadata": {},
   "source": [
    "### 6"
   ]
  },
  {
   "cell_type": "code",
   "execution_count": 15,
   "metadata": {},
   "outputs": [
    {
     "data": {
      "text/plain": [
       "array([[91.]])"
      ]
     },
     "execution_count": 15,
     "metadata": {},
     "output_type": "execute_result"
    }
   ],
   "source": [
    "np.dot(y.reshape(1,6),y.reshape(6,1))\n"
   ]
  },
  {
   "cell_type": "markdown",
   "metadata": {},
   "source": [
    "I have used the dot product on a two vectors so the solution is single integer see [dot product definition](https://en.wikipedia.org/wiki/Dot_product) <br>\n",
    "Alternatively we can use the transpose method on y"
   ]
  },
  {
   "cell_type": "code",
   "execution_count": 16,
   "metadata": {},
   "outputs": [
    {
     "name": "stdout",
     "output_type": "stream",
     "text": [
      "[[1. 2.]\n",
      " [3. 4.]\n",
      " [5. 6.]]\n",
      "[[1. 3. 5.]\n",
      " [2. 4. 6.]]\n"
     ]
    }
   ],
   "source": [
    "print(y)\n",
    "print(y.T)"
   ]
  },
  {
   "cell_type": "markdown",
   "metadata": {},
   "source": [
    "## Part 2 Numpy Functionality \n",
    "## Exercise 3- Lottery Game"
   ]
  },
  {
   "cell_type": "code",
   "execution_count": 17,
   "metadata": {},
   "outputs": [
    {
     "name": "stdin",
     "output_type": "stream",
     "text": [
      "Please your number -0 3\n",
      "Please your number -1 14\n",
      "Please your number -2 17\n"
     ]
    }
   ],
   "source": [
    "# Let's ask the user for an input \n",
    "GuessedNumbers = np.array([])\n",
    "for i in range(3):\n",
    "    tempnum = input(\"Please your number -\"+str(i))\n",
    "    GuessedNumbers = np.append(GuessedNumbers,int(tempnum))"
   ]
  },
  {
   "cell_type": "code",
   "execution_count": 18,
   "metadata": {},
   "outputs": [
    {
     "name": "stdout",
     "output_type": "stream",
     "text": [
      "[ 3. 14. 17.]\n"
     ]
    }
   ],
   "source": [
    "print(GuessedNumbers)"
   ]
  },
  {
   "cell_type": "markdown",
   "metadata": {},
   "source": [
    "Now we need a way to make sure the user inputs not only a valid number and is within the defined range $[1,20]$. <br>\n",
    "To that we can use a try and except block to catch any errors "
   ]
  },
  {
   "cell_type": "code",
   "execution_count": 19,
   "metadata": {},
   "outputs": [
    {
     "name": "stdin",
     "output_type": "stream",
     "text": [
      "Please your first guess 13\n",
      "Please your second guess 13\n",
      "Please your third guess 13\n"
     ]
    }
   ],
   "source": [
    "phrases = [\"first\",\"second\",\"third\"]\n",
    "GuessedNumbers = np.array([])\n",
    "counter = 0\n",
    "while True:\n",
    "    tempnum = input(\"Please your \"+phrases[counter]+\" guess\")\n",
    "    try:\n",
    "        tempnum = int(tempnum)\n",
    "    except:\n",
    "        print(\"Please enter a valid number\")\n",
    "    if not (tempnum >= 1 and tempnum<=20):\n",
    "        print(\"Please enter a number between 1 and 20\")\n",
    "    else:\n",
    "        counter += 1\n",
    "        GuessedNumbers = np.append(GuessedNumbers,tempnum)\n",
    "    if counter >2:\n",
    "        break"
   ]
  },
  {
   "cell_type": "code",
   "execution_count": 20,
   "metadata": {},
   "outputs": [
    {
     "name": "stdout",
     "output_type": "stream",
     "text": [
      "[13. 13. 13.]\n"
     ]
    }
   ],
   "source": [
    "print(GuessedNumbers)"
   ]
  },
  {
   "cell_type": "markdown",
   "metadata": {},
   "source": [
    "The numbers above are derived from user input you can test the code for yourself and try to input a number out of range or a string to see what happens. We will now proceed to make the lottery portion of this game. To that end we will use the function random from number which allows us to generate and array of random numbers"
   ]
  },
  {
   "cell_type": "code",
   "execution_count": 25,
   "metadata": {},
   "outputs": [
    {
     "name": "stdout",
     "output_type": "stream",
     "text": [
      "[19. 18. 13.]\n"
     ]
    }
   ],
   "source": [
    "lotterynumbers = np.random.randint(1,20,3).astype(np.float64)\n",
    "print(lotterynumbers)"
   ]
  },
  {
   "cell_type": "markdown",
   "metadata": {},
   "source": [
    "We have generated our lottery number and have the user input, let's sort the two lists and compare them "
   ]
  },
  {
   "cell_type": "code",
   "execution_count": 26,
   "metadata": {},
   "outputs": [
    {
     "name": "stdout",
     "output_type": "stream",
     "text": [
      "Sorry try again later\n"
     ]
    }
   ],
   "source": [
    "if np.array_equiv(np.sort(GuessedNumbers),np.sort(lotterynumbers)):\n",
    "    print(\"Congratulations you won\")\n",
    "else: \n",
    "    print(\"Sorry try again later\")"
   ]
  },
  {
   "cell_type": "markdown",
   "metadata": {},
   "source": [
    "This program allows the user to repeat the same number for each of the guesses and randint can give you the same number twice. To aid to that we will made the user imput rule stricter"
   ]
  },
  {
   "cell_type": "code",
   "execution_count": 28,
   "metadata": {},
   "outputs": [
    {
     "name": "stdin",
     "output_type": "stream",
     "text": [
      "Please your first guess 13\n",
      "Please your second guess 13\n"
     ]
    },
    {
     "name": "stdout",
     "output_type": "stream",
     "text": [
      "Please enter different numbers\n"
     ]
    },
    {
     "name": "stdin",
     "output_type": "stream",
     "text": [
      "Please your second guess 17\n",
      "Please your third guess 4\n"
     ]
    }
   ],
   "source": [
    "phrases = [\"first\",\"second\",\"third\"]\n",
    "GuessedNumbers = np.array([])\n",
    "counter = 0\n",
    "while True:\n",
    "    tempnum = input(\"Please your \"+phrases[counter]+\" guess\")\n",
    "    try:\n",
    "        tempnum = int(tempnum)\n",
    "    except:\n",
    "        print(\"Please enter a valid number\")\n",
    "    if not (tempnum >= 1 and tempnum<=20):\n",
    "        print(\"Please enter a number between 1 and 20\")\n",
    "    if tempnum in GuessedNumbers.tolist():\n",
    "        print(\"Please enter different numbers\")\n",
    "    else:\n",
    "        counter += 1\n",
    "        GuessedNumbers = np.append(GuessedNumbers,tempnum)\n",
    "    if counter >2:\n",
    "        break"
   ]
  },
  {
   "cell_type": "code",
   "execution_count": 8,
   "metadata": {},
   "outputs": [
    {
     "name": "stdout",
     "output_type": "stream",
     "text": [
      "[10. 15.  7.]\n"
     ]
    }
   ],
   "source": [
    "# the numbers will be now generated using the following line of code \n",
    "lotterynumbers  = np.random.choice(range(1,21),3, replace=False).astype(np.float64)\n",
    "print(lotterynumbers)"
   ]
  },
  {
   "cell_type": "markdown",
   "metadata": {},
   "source": []
  },
  {
   "cell_type": "code",
   "execution_count": 35,
   "metadata": {},
   "outputs": [
    {
     "name": "stdout",
     "output_type": "stream",
     "text": [
      "Sorry try again later\n",
      "You guessed 1 numbers correctly\n"
     ]
    }
   ],
   "source": [
    "if np.array_equiv(np.sort(GuessedNumbers),np.sort(lotterynumbers)):\n",
    "    print(\"Congratulations you won\")\n",
    "else: \n",
    "    print(\"Sorry try again later\")\n",
    "    print(\"You guessed\", len(set(GuessedNumbers) & set(lotterynumbers)),\"numbers correctly\")"
   ]
  },
  {
   "cell_type": "markdown",
   "metadata": {},
   "source": [
    "The last print of the cell above relates to the number of guess the user got right, by transforming both list to set it is possible to find the length of the intersection  "
   ]
  },
  {
   "cell_type": "code",
   "execution_count": null,
   "metadata": {},
   "outputs": [],
   "source": []
  }
 ],
 "metadata": {
  "kernelspec": {
   "display_name": "Python 3.8.5 64-bit",
   "language": "python",
   "name": "python38564bit2a72fec0d97546d782c3d1a16fadf4e6"
  },
  "language_info": {
   "codemirror_mode": {
    "name": "ipython",
    "version": 3
   },
   "file_extension": ".py",
   "mimetype": "text/x-python",
   "name": "python",
   "nbconvert_exporter": "python",
   "pygments_lexer": "ipython3",
   "version": "3.8.5"
  }
 },
 "nbformat": 4,
 "nbformat_minor": 4
}
