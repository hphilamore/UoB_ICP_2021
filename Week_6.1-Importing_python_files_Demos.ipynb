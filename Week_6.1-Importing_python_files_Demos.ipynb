{
 "cells": [
  {
   "cell_type": "markdown",
   "metadata": {
    "slideshow": {
     "slide_type": "slide"
    }
   },
   "source": [
    "# Introduction to Computer Programming\n",
    "\n",
    "## Week 6.1: Importing Python files \n",
    "\n",
    "* * *\n",
    "\n",
    "<img src=\"img/full-colour-logo-UoB.png\" alt=\"Bristol\" style=\"width: 300px;\"/>"
   ]
  },
  {
   "cell_type": "markdown",
   "metadata": {
    "slideshow": {
     "slide_type": "slide"
    }
   },
   "source": [
    "# In-class Demos"
   ]
  },
  {
   "cell_type": "markdown",
   "metadata": {
    "slideshow": {
     "slide_type": "slide"
    }
   },
   "source": [
    "##### Try it yourself\n",
    "__Example 1a:__ \n",
    "\n",
    "Create the file structure shown below within a new folder called `lecture_6`. \n",
    "\n",
    "Add the content shown within each file. \n",
    "\n",
    "\n",
    "```python\n",
    "lecture_6/\n",
    "│\n",
    "├── __init__.py\n",
    "├── capitals.py\n",
    "└── main.py\n",
    "```\n",
    "\n",
    "\n",
    "***\n",
    "`__init__.py`\n",
    "\n",
    "``` python\n",
    "\n",
    "    # (empty file)\n",
    "    \n",
    "```\n",
    "***\n",
    "`capitals.py`\n",
    "``` python\n",
    "    Japan = ('Japan', 'Tokyo')\n",
    "    Germany = ('Germany', 'Berlin')\n",
    "```\n",
    "***\n",
    "`main.py`\n",
    "``` python\n",
    "\n",
    "    # (empty file)\n",
    "```\n",
    "***"
   ]
  },
  {
   "cell_type": "markdown",
   "metadata": {
    "slideshow": {
     "slide_type": "slide"
    }
   },
   "source": [
    "__Example 1b:__ \n",
    "\n",
    "Within `main.py`, print the output below: <br> `The capital of Japan is Tokyo`"
   ]
  },
  {
   "cell_type": "markdown",
   "metadata": {},
   "source": [
    "Solution: Example 1b\n",
    "\n",
    "`main.py`\n",
    "***\n",
    "``` python\n",
    "\n",
    "    import capitals\n",
    "    \n",
    "    print('The capital of', capitals.Japan[0], 'is', capitals.Japan[1])\n",
    "    \n",
    "    # OR \n",
    "\n",
    "    print(f'The capital of {capitals.Japan[0]} is {capitals.Japan[1]}')\n",
    " ```\n",
    "\n",
    "***"
   ]
  },
  {
   "cell_type": "markdown",
   "metadata": {
    "slideshow": {
     "slide_type": "slide"
    }
   },
   "source": [
    "##### Try it yourself\n",
    "__Example 1c:__ \n",
    "\n",
    "Within `main.py`, print the output below:<br> `The capital of Germany begins with B`\n",
    "\n",
    "__Example 1d:__ \n",
    "Can you make the code in `main.py` any more concise? "
   ]
  },
  {
   "cell_type": "markdown",
   "metadata": {
    "slideshow": {
     "slide_type": "slide"
    }
   },
   "source": [
    "Solution: Example 1c\n",
    "\n",
    "`main.py`\n",
    "***\n",
    "``` python\n",
    "\n",
    "    import capitals\n",
    "\n",
    "    print(f'The capital of {capitals.Germany[0]} begins with {capitals.Germany[1][0]}')\n",
    "``` \n",
    "***"
   ]
  },
  {
   "cell_type": "markdown",
   "metadata": {},
   "source": [
    "Solution: Example 1d\n",
    "### Changing the module name in the local namespace\n",
    "`main.py`\n",
    "\n",
    "***\n",
    "``` python\n",
    "\n",
    "    import capitals as c\n",
    "\n",
    "    print(f'The capital of {c.Japan[0]} is {c.Japan[1]}')\n",
    "\n",
    "    print(f'The capital of {c.Germany[0]} begins with {c.Germany[1][0]}')\n",
    "\n",
    "```\n",
    "***\n"
   ]
  },
  {
   "cell_type": "markdown",
   "metadata": {},
   "source": [
    "Solution: Example 1d\n",
    "### Importing *individual items* from a module\n",
    "\n",
    "Whatever comes after `import` is added to the local namespace\n",
    "\n",
    "`main.py`\n",
    "***\n",
    "``` python\n",
    "\n",
    "    from capitals import Japan, Germany \n",
    "\n",
    "    print(f'The capital of {Japan[0]} is {Japan[1]}')\n",
    "\n",
    "    print(f'The capital of {Germany[0]} begins with {Germany[1][0]}')\n",
    "```\n",
    "***"
   ]
  },
  {
   "cell_type": "markdown",
   "metadata": {},
   "source": [
    "Solution: Example 1d\n",
    "### Importing *individual items* from a module and renaming\n",
    "\n",
    "Whatever comes after `import` is added to the local namespace\n",
    "\n",
    "`main.py`\n",
    "***\n",
    "\n",
    "``` python\n",
    "    from capitals import Japan as J, Germany as G \n",
    "\n",
    "    print(f'The capital of {J[0]} is {J[1]}')\n",
    "\n",
    "    print(f'The capital of {G[0]} begins with {G[1][0]}')\n",
    "```\n",
    "***"
   ]
  },
  {
   "cell_type": "code",
   "execution_count": null,
   "metadata": {},
   "outputs": [],
   "source": []
  }
 ],
 "metadata": {
  "celltoolbar": "Slideshow",
  "kernelspec": {
   "display_name": "Python 3",
   "language": "python",
   "name": "python3"
  },
  "language_info": {
   "codemirror_mode": {
    "name": "ipython",
    "version": 3
   },
   "file_extension": ".py",
   "mimetype": "text/x-python",
   "name": "python",
   "nbconvert_exporter": "python",
   "pygments_lexer": "ipython3",
   "version": "3.8.3"
  }
 },
 "nbformat": 4,
 "nbformat_minor": 5
}
