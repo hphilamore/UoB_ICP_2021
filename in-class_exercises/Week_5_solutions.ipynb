{
 "cells": [
  {
   "cell_type": "markdown",
   "metadata": {},
   "source": [
    "# Week 5 Classes and Class Inheritence\n",
    "## Exercise 1:  Defining Classes\n",
    "### 1,2,3"
   ]
  },
  {
   "cell_type": "code",
   "execution_count": 13,
   "metadata": {},
   "outputs": [],
   "source": [
    "class Item:\n",
    "    def __init__(self, Description,Number,UnitPrice):\n",
    "        self.Description = Description\n",
    "        self.Number = Number\n",
    "        self.UnitPrice = UnitPrice\n",
    "        print(\"Item Created New Item\", Description)\n",
    "\n",
    "    def PrintItemInfo(self):\n",
    "        print(self.Description, self.Number,self.UnitPrice)\n",
    "\n",
    "    def __str__(self):\n",
    "        return self.Description"
   ]
  },
  {
   "cell_type": "markdown",
   "metadata": {},
   "source": [
    "### 4,5,6,7"
   ]
  },
  {
   "cell_type": "code",
   "execution_count": 16,
   "metadata": {},
   "outputs": [
    {
     "name": "stdout",
     "output_type": "stream",
     "text": [
      "Item Created New Item Apple\n",
      "Item Created New Item Kiwi\n",
      "Item Created New Item Banana\n"
     ]
    }
   ],
   "source": [
    "Apple  = Item(\"Apple\",1,0.5)\n",
    "Kiwi   = Item(\"Kiwi\",2,1)\n",
    "Banana = Item(\"Banana\",2,0.20) \n",
    "ShoppingList = [Apple, Kiwi, Banana]\n",
    "print(Apple.__str__())\n",
    "print(str(Apple))"
   ]
  },
  {
   "cell_type": "code",
   "execution_count": 15,
   "metadata": {},
   "outputs": [
    {
     "name": "stdout",
     "output_type": "stream",
     "text": [
      "Apple\n",
      "Kiwi\n",
      "Banana\n"
     ]
    },
    {
     "data": {
      "text/plain": [
       "2.9"
      ]
     },
     "execution_count": 15,
     "metadata": {},
     "output_type": "execute_result"
    }
   ],
   "source": [
    "list(map(lambda x: print(str(x)),ShoppingList))\n",
    "sum(list(map(lambda x: x.Number*x.UnitPrice,ShoppingList)))\n"
   ]
  },
  {
   "cell_type": "code",
   "execution_count": 17,
   "metadata": {},
   "outputs": [
    {
     "name": "stdout",
     "output_type": "stream",
     "text": [
      "Apple\n",
      "Kiwi\n",
      "Banana\n",
      "2.9\n"
     ]
    }
   ],
   "source": [
    "# alternatively if you want to use loop\n",
    "Total = 0\n",
    "for item in ShoppingList:\n",
    "    print(str(item))\n",
    "    Total += item.UnitPrice*item.Number\n",
    "\n",
    "print(Total)\n"
   ]
  },
  {
   "cell_type": "code",
   "execution_count": 6,
   "metadata": {},
   "outputs": [],
   "source": [
    "class SpecialItem(Item):\n",
    "    def __init__(self, Description, Number, UnitPrice,SpecialInfo):\n",
    "        Item.__init__(self,Description,Number,UnitPrice) #alternatively  you could user the super() method to call from the parent class\n",
    "        self.SpecialInfo = SpecialInfo\n",
    "    def __str__(self): # override __str__() function\n",
    "        return self.Description, self.SpecialInfo\n",
    "    def PrintItemInfo(self): # overide the __str__()\n",
    "          print(self.Description, self.Number,self.UnitPrice, self.SpecialInfo)\n"
   ]
  },
  {
   "cell_type": "code",
   "execution_count": 23,
   "metadata": {},
   "outputs": [
    {
     "name": "stdout",
     "output_type": "stream",
     "text": [
      "Item Created New Item Paracetamol\n",
      "Item Created New Item Candles\n"
     ]
    }
   ],
   "source": [
    "Paracetamol = SpecialItem(\"Paracetamol\",1,1,\"Take two tablets every 6 hours\")\n",
    "Candles = SpecialItem(\"Candles\",20,0.1,\"Fire harzard\")\n",
    "ShoppingList.append(Paracetamol)\n",
    "ShoppingList.append(Candles)"
   ]
  },
  {
   "cell_type": "markdown",
   "metadata": {},
   "source": [
    "Finally let's print all the Item info from the list"
   ]
  },
  {
   "cell_type": "code",
   "execution_count": 25,
   "metadata": {},
   "outputs": [
    {
     "name": "stdout",
     "output_type": "stream",
     "text": [
      "Apple 1 0.5\n",
      "Kiwi 2 1\n",
      "Banana 2 0.2\n",
      "Paracetamol 1 1 Take two tablets every 6 hours\n",
      "Candles 20 0.1 Fire harzard\n"
     ]
    }
   ],
   "source": [
    "for items in ShoppingList:\n",
    "    items.PrintItemInfo()"
   ]
  },
  {
   "cell_type": "code",
   "execution_count": null,
   "metadata": {},
   "outputs": [],
   "source": []
  }
 ],
 "metadata": {
  "kernelspec": {
   "display_name": "Python 3",
   "language": "python",
   "name": "python3"
  },
  "language_info": {
   "codemirror_mode": {
    "name": "ipython",
    "version": 3
   },
   "file_extension": ".py",
   "mimetype": "text/x-python",
   "name": "python",
   "nbconvert_exporter": "python",
   "pygments_lexer": "ipython3",
   "version": "3.8.5"
  }
 },
 "nbformat": 4,
 "nbformat_minor": 4
}
