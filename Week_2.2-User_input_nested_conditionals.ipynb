{
 "cells": [
  {
   "cell_type": "markdown",
   "id": "fd766ed7",
   "metadata": {
    "slideshow": {
     "slide_type": "slide"
    }
   },
   "source": [
    "# Introduction to Computer Programming\n",
    "\n",
    "## 2.2 User input & nested conditionals\n",
    "\n",
    "<img src=\"img/full-colour-logo-UoB.png\" alt=\"Drawing\" style=\"width: 300px;\"/>"
   ]
  },
  {
   "cell_type": "markdown",
   "id": "6e3c5080",
   "metadata": {
    "slideshow": {
     "slide_type": "slide"
    }
   },
   "source": [
    "# `input`\n",
    "\n",
    "Accepts typed input from the user.\n",
    "\n",
    "Outputs the typed input as string data. \n",
    "\n",
    "The function argument is a string, which is the prompt displayed to the user. "
   ]
  },
  {
   "cell_type": "code",
   "execution_count": 14,
   "id": "d2af726b",
   "metadata": {
    "scrolled": true
   },
   "outputs": [
    {
     "name": "stdout",
     "output_type": "stream",
     "text": [
      "Enter your name: Hemma\n",
      "My name is Hemma\n"
     ]
    }
   ],
   "source": [
    "name = input(\"Enter your name: \") # type response when prompted and press enter\n",
    "\n",
    "print('My name is', name)\n"
   ]
  },
  {
   "cell_type": "markdown",
   "id": "2f50f923",
   "metadata": {
    "slideshow": {
     "slide_type": "slide"
    }
   },
   "source": [
    "This is a quick and easy way to add dynamic input to your program."
   ]
  },
  {
   "cell_type": "markdown",
   "id": "a118fc12",
   "metadata": {
    "slideshow": {
     "slide_type": "slide"
    }
   },
   "source": [
    "### Input - a word of warning! \n",
    "The input by the user is stored as a string. \n",
    "<br>Numbers entered will behave as text data unless converted to a numerical data type.\n",
    "<br> Example: `+` will join string data"
   ]
  },
  {
   "cell_type": "code",
   "execution_count": 15,
   "id": "6e663176",
   "metadata": {},
   "outputs": [
    {
     "name": "stdout",
     "output_type": "stream",
     "text": [
      "Enter a number 4\n",
      "Enter another number 5\n",
      "45\n",
      "9\n"
     ]
    }
   ],
   "source": [
    "A = input(\"Enter a number \")\n",
    "B = input(\"Enter another number \")\n",
    "\n",
    "print(A + B)\n",
    "\n",
    "print(int(A) + int(B))\n"
   ]
  },
  {
   "cell_type": "markdown",
   "id": "29eccfff",
   "metadata": {
    "slideshow": {
     "slide_type": "slide"
    }
   },
   "source": [
    "__Example:__ Write a program that requests the time from the user and tells them to eat lunch if it is lunchtime. \n",
    "\n",
    "<center>\n",
    "  <img src=\"img/flow_diag_if_lunctime.png\" alt=\"Drawing\" style=\"width: 200px;\"/>\n",
    "</center>"
   ]
  },
  {
   "cell_type": "code",
   "execution_count": 32,
   "id": "71f32f91",
   "metadata": {},
   "outputs": [
    {
     "name": "stdout",
     "output_type": "stream",
     "text": [
      "enter the time (24 hour clock) in format hh.mm : 13.00\n",
      "Eat lunch\n"
     ]
    }
   ],
   "source": [
    "t = input('enter the time (24 hour clock) in format hh.mm : ') \n",
    "t = float(t)    # convert string to float\n",
    "\n",
    "# ----------------- Program from last week ---------------------\n",
    "Ls = 13.00      # lunch starts\n",
    "Le = 14.00      # lunch ends\n",
    "\n",
    "is_lunchtime = t >= Ls and t < Le\n",
    "# ---------------------------------------------------------------\n",
    "\n",
    "if is_lunchtime:        \n",
    "    print(\"Eat lunch\")"
   ]
  },
  {
   "cell_type": "markdown",
   "id": "ac061947",
   "metadata": {
    "slideshow": {
     "slide_type": "slide"
    }
   },
   "source": [
    "Notice, this has the same meaning as:\n",
    "    \n",
    "```python\n",
    "\n",
    "if is_lunchtime == True:        \n",
    "    print(\"Eat lunch\")\n",
    "    \n",
    "```\n",
    "\n",
    "As `is_lunchtime` is equal to either `True` or `False`, we can omit `==True` "
   ]
  },
  {
   "cell_type": "markdown",
   "id": "62b25d34",
   "metadata": {
    "slideshow": {
     "slide_type": "slide"
    }
   },
   "source": [
    "# Nested conditional statements\n",
    "Conditional statements can be nested (a conditional statement within a conditional statement) to execute more complex decision making in a program. "
   ]
  },
  {
   "cell_type": "markdown",
   "id": "062cec4a",
   "metadata": {
    "slideshow": {
     "slide_type": "slide"
    }
   },
   "source": [
    "__Example:__ Translate the flow diagram into a program\n",
    "\n",
    "<center>\n",
    "  <img src=\"img/adult_child.png\" alt=\"Drawing\" style=\"width: 300px;\"/>\n",
    "</center>"
   ]
  },
  {
   "cell_type": "code",
   "execution_count": 20,
   "id": "fbe0da8a",
   "metadata": {},
   "outputs": [
    {
     "name": "stdout",
     "output_type": "stream",
     "text": [
      "you're an adult\n"
     ]
    }
   ],
   "source": [
    "age = input('Enter your age: ')\n",
    "driver = input('Can you drive? (True/False) ')\n",
    "\n",
    "\n",
    "if age>=18:\n",
    "    print(\"you're an adult\")\n",
    "\n",
    "    if driver:\n",
    "        print(\" who can drive\")\n",
    "\n",
    "else:\n",
    "    print(\"you're a child\")\n",
    "    "
   ]
  },
  {
   "cell_type": "markdown",
   "id": "77b8ff30",
   "metadata": {
    "slideshow": {
     "slide_type": "slide"
    }
   },
   "source": [
    "# Summary\n",
    "- `input`: accepts typed input from the user. \n",
    "- `input` outputs the typed input as string data!\n",
    "- Conditional statements can be nested to create more complex decision-making within a program.\n"
   ]
  },
  {
   "cell_type": "markdown",
   "id": "5af53b97",
   "metadata": {
    "slideshow": {
     "slide_type": "slide"
    }
   },
   "source": [
    "# In-class Demos"
   ]
  },
  {
   "cell_type": "markdown",
   "id": "143a027d",
   "metadata": {
    "slideshow": {
     "slide_type": "slide"
    }
   },
   "source": [
    "__Example 1:__ \n",
    "\n",
    "Again, translate the flow diagram into a program. <br>This time, the program should accept the users age, and ability to drive (if they are an adult) using `input`. \n",
    "\n",
    "<center>\n",
    "  <img src=\"img/adult_child.png\" alt=\"Drawing\" style=\"width: 300px;\"/>\n",
    "</center>"
   ]
  },
  {
   "cell_type": "code",
   "execution_count": 31,
   "id": "0fcdb557",
   "metadata": {},
   "outputs": [
    {
     "name": "stdout",
     "output_type": "stream",
     "text": [
      "enter your age: 18\n",
      "can you drive? (True/False) True\n",
      "adult who can drive\n"
     ]
    }
   ],
   "source": [
    "age = input('enter your age: ')\n",
    "age = int(age)\n",
    "\n",
    "if age>=18:\n",
    "    status = \"adult\"\n",
    "    driver = input('can you drive? (True/False) ') # String 'True' cannot be converted to boolean True by casting\n",
    "    \n",
    "    if driver == 'True':                           # nested if  \n",
    "        status = status + \" who can drive\"\n",
    "        \n",
    "    print(status)\n",
    "    \n",
    "else:\n",
    "    print(\"child\")"
   ]
  },
  {
   "cell_type": "markdown",
   "id": "2aee3931",
   "metadata": {
    "slideshow": {
     "slide_type": "slide"
    }
   },
   "source": [
    "__Example 2:__ Write a program that:\n",
    "- asks the user to input a number\n",
    "- checks if a number is odd or even \n",
    "- checks if input even numbers are multiples of 4\n",
    "- checks if input odd numbers are multiples of 3\n",
    "\n",
    "__Hint:__ In a conditional statement, non-zero values are treated as `True`, zero is treated as `False`. <br>i.e. We can write shorter, neater code by omitting `==True` "
   ]
  },
  {
   "cell_type": "code",
   "execution_count": 25,
   "id": "7cf28651",
   "metadata": {},
   "outputs": [
    {
     "name": "stdout",
     "output_type": "stream",
     "text": [
      "Enter a number: 3\n",
      "odd and multiple of 3\n"
     ]
    }
   ],
   "source": [
    "N = input('Enter a number: ')\n",
    "N = int(N)\n",
    "\n",
    "if N % 2 : \n",
    "    print('odd', end='')\n",
    "    \n",
    "    if not N % 3:\n",
    "        print(' and multiple of 3')\n",
    "    \n",
    "else:\n",
    "    print('even')\n",
    "    \n",
    "    if not N % 4 :\n",
    "        print(' and multiple of 4')"
   ]
  }
 ],
 "metadata": {
  "celltoolbar": "Slideshow",
  "kernelspec": {
   "display_name": "Python 3",
   "language": "python",
   "name": "python3"
  },
  "language_info": {
   "codemirror_mode": {
    "name": "ipython",
    "version": 3
   },
   "file_extension": ".py",
   "mimetype": "text/x-python",
   "name": "python",
   "nbconvert_exporter": "python",
   "pygments_lexer": "ipython3",
   "version": "3.8.8"
  }
 },
 "nbformat": 4,
 "nbformat_minor": 5
}
