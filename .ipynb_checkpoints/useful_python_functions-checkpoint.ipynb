{
 "cells": [
  {
   "cell_type": "markdown",
   "id": "c2b37c49",
   "metadata": {},
   "source": [
    "## print\n",
    "Displays the value within the parentheses\n",
    "\n",
    "Multiple values can be separated by commas\n",
    "\n",
    "`end=` can be used to change the default newline operation to a different operation"
   ]
  },
  {
   "cell_type": "code",
   "execution_count": 1,
   "id": "7cd454f7",
   "metadata": {},
   "outputs": [
    {
     "name": "stdout",
     "output_type": "stream",
     "text": [
      "5\n",
      "name:  hemma\n",
      "number: 10\n"
     ]
    }
   ],
   "source": [
    "print(5)\n",
    "\n",
    "N = 'hemma'\n",
    "print('name: ', N)\n",
    "\n",
    "print('number: ', end='')\n",
    "print(10)"
   ]
  },
  {
   "cell_type": "markdown",
   "id": "f890097b",
   "metadata": {},
   "source": [
    "## type\n",
    "Returns the data type of the value within the parentheses"
   ]
  },
  {
   "cell_type": "code",
   "execution_count": 2,
   "id": "7d4b2255",
   "metadata": {},
   "outputs": [
    {
     "name": "stdout",
     "output_type": "stream",
     "text": [
      "<class 'int'>\n",
      "<class 'float'>\n",
      "<class 'str'>\n"
     ]
    }
   ],
   "source": [
    "A = 5\n",
    "\n",
    "B = 5.0\n",
    "\n",
    "C = '5'\n",
    "\n",
    "print( type(A) )\n",
    "\n",
    "print( type(B) )\n",
    "\n",
    "print( type(C) )"
   ]
  },
  {
   "cell_type": "markdown",
   "id": "752caef2",
   "metadata": {},
   "source": [
    "## input\n",
    "Accepts typed input from the user.\n",
    "\n",
    "Outputs the typed input as string data. \n",
    "\n",
    "The function argument is a string, which is the prompt displayed to the user. "
   ]
  },
  {
   "cell_type": "code",
   "execution_count": 6,
   "id": "02be090a",
   "metadata": {},
   "outputs": [
    {
     "name": "stdout",
     "output_type": "stream",
     "text": [
      "Enter a number: 4\n",
      "4 <class 'str'>\n",
      "4.0 <class 'float'>\n",
      "16.0\n"
     ]
    }
   ],
   "source": [
    "N = input('Enter a number: ')\n",
    "\n",
    "print(N, type(N))\n",
    "\n",
    "N = float(N)\n",
    "\n",
    "print(N, type(N))\n",
    "\n",
    "print(N**2)"
   ]
  },
  {
   "cell_type": "code",
   "execution_count": null,
   "id": "171e84fd",
   "metadata": {},
   "outputs": [],
   "source": []
  }
 ],
 "metadata": {
  "kernelspec": {
   "display_name": "Python 3",
   "language": "python",
   "name": "python3"
  },
  "language_info": {
   "codemirror_mode": {
    "name": "ipython",
    "version": 3
   },
   "file_extension": ".py",
   "mimetype": "text/x-python",
   "name": "python",
   "nbconvert_exporter": "python",
   "pygments_lexer": "ipython3",
   "version": "3.8.8"
  }
 },
 "nbformat": 4,
 "nbformat_minor": 5
}
