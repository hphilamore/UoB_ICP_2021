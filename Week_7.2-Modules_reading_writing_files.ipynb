{
 "cells": [
  {
   "cell_type": "markdown",
   "metadata": {
    "slideshow": {
     "slide_type": "slide"
    }
   },
   "source": [
    "# Introduction to Computer Programming\n",
    "\n",
    "## Week 7.2: Modules for reading & writing files\n",
    "\n",
    "* * *\n",
    "\n",
    "<img src=\"img/full-colour-logo-UoB.png\" alt=\"Bristol\" style=\"width: 300px;\"/>"
   ]
  },
  {
   "cell_type": "markdown",
   "metadata": {
    "slideshow": {
     "slide_type": "slide"
    }
   },
   "source": [
    " \n",
    "\n",
    "\n",
    "\n",
    "Importing Python modules imports sections of pre-written code.<br> \n",
    "\n",
    "`csv`: A Python modules for reading/writing delimited files\n",
    "\n",
    " "
   ]
  },
  {
   "cell_type": "markdown",
   "metadata": {
    "slideshow": {
     "slide_type": "slide"
    }
   },
   "source": [
    "# CSV (and other delimited files)"
   ]
  },
  {
   "cell_type": "markdown",
   "metadata": {},
   "source": [
    "__Delimited file:__<br>\n",
    "Uses a set character (tab, space, vertical bar etc) to separate values.\n",
    "\n",
    "__CSV (comma-seperated-value):__ <br>A *delimited* text file that uses a comma to separate values.\n",
    "\n",
    "The CSV file is a widely used format for storing tabular data in plain text   and is supported by software applications e.g. Microsoft Excel, Google Spreadsheet.\n",
    "\n",
    "<img src=\"img/csv_file_example.png\" alt=\"Bristol\" style=\"width: 400px;\"/>"
   ]
  },
  {
   "cell_type": "markdown",
   "metadata": {
    "slideshow": {
     "slide_type": "slide"
    }
   },
   "source": [
    "Python's `csv` module can be used to handle files of this type.\n",
    "\n",
    "https://docs.python.org/3/library/csv.html"
   ]
  },
  {
   "cell_type": "code",
   "execution_count": 1,
   "metadata": {},
   "outputs": [],
   "source": [
    "import csv"
   ]
  },
  {
   "cell_type": "markdown",
   "metadata": {
    "slideshow": {
     "slide_type": "slide"
    }
   },
   "source": [
    "### Writing CSV files"
   ]
  },
  {
   "cell_type": "markdown",
   "metadata": {},
   "source": [
    "Writing files using `write` can be time-consuming. \n",
    "\n",
    "We need to add delimiters (`','`, `' '` etc) and new line markers (`'\\n'`).\n",
    "\n",
    "\n",
    "```python\n",
    "names = ['Elena', 'Sajid', 'Tom', 'Farhad', 'Manesha']\n",
    "scores = [550, 480, 380, 305, 150]\n",
    "\n",
    "with open('sample_data/scores_.csv', 'w') as f:\n",
    "\n",
    "    # loop through two lists \n",
    "    for n, s in zip(names, scores):\n",
    "        f.write(n + ',' + str(s) + '\\n')\n",
    "```"
   ]
  },
  {
   "cell_type": "markdown",
   "metadata": {
    "slideshow": {
     "slide_type": "slide"
    }
   },
   "source": [
    "The `writer` class from the `csv` module handles delimiters automatically. \n",
    "\n",
    "<br>\n",
    "\n",
    "<br>\n",
    "\n",
    "`writerow` : \n",
    "- a method belonging to the `writer` class\n",
    "- writes list to csv file as row\n",
    "\n",
    "\n",
    "__Example:__ Write the high score table to a csv file scores_.csv\n"
   ]
  },
  {
   "cell_type": "code",
   "execution_count": 2,
   "metadata": {},
   "outputs": [],
   "source": [
    "names = ['Elena', 'Sajid', 'Tom', 'Farhad', 'Manesha']\n",
    "scores = [550, 480, 380, 305, 150]\n",
    "\n",
    "with open('sample_data/scores_.csv', 'w') as f:\n",
    "    \n",
    "    w = csv.writer(f)\n",
    "    \n",
    "    for n, s in zip(names, scores):\n",
    "        w.writerow([n, s])\n",
    "    \n",
    "    "
   ]
  },
  {
   "cell_type": "markdown",
   "metadata": {
    "slideshow": {
     "slide_type": "slide"
    }
   },
   "source": [
    "##### Try it yourself\n",
    "\n",
    "__Example:__ Use the `csv` module to write the header and first row of the high score table shown to a .txt file.\n",
    "\n",
    "_Hint_\n",
    "\n",
    ".txt file so delimiter is `' '` not `','` (default).\n",
    "\n",
    "Specify delimiter when creating the writer object using the named argument `delimiter=' '`. \n",
    "\n",
    "| Place | Name | Score | \n",
    "| :-: | :-: | :-: |  \n",
    "| 1 | Elena | 550 | \n",
    "| 2 | Sajid | 480 | \n",
    "| 3 | Tom | 380 | \n",
    "| 4 | Farhad | 305 | \n",
    "| 5 | Manesha | 150 |\n"
   ]
  },
  {
   "cell_type": "code",
   "execution_count": 3,
   "metadata": {},
   "outputs": [],
   "source": [
    "import csv \n",
    "\n",
    "with open('sample_data/scores_.txt', 'w') as f:\n",
    "    \n",
    "    w = csv.writer(f, delimiter=' ')\n",
    "    \n",
    "    w.writerow(['place', 'name', 'score'])\n",
    "    \n",
    "    w.writerow([1, 'Elena', 500])\n",
    "    "
   ]
  },
  {
   "cell_type": "markdown",
   "metadata": {
    "slideshow": {
     "slide_type": "slide"
    }
   },
   "source": [
    "## `writerow` - A word of warning! \n",
    "\n",
    "On Windows, `writerow` introduces an additional blank row between subsequent rows.\n",
    "\n",
    "To avoid the blank line, pass the additional named argument `newline=''` to the `open` function: \n",
    "\n",
    "\n",
    "```python\n",
    "with open('sample_data/scores_.csv', 'w', newline='') as f:    \n",
    "```"
   ]
  },
  {
   "cell_type": "markdown",
   "metadata": {
    "slideshow": {
     "slide_type": "slide"
    }
   },
   "source": [
    "__Example:__ Write the high score table data to a csv file, scores_.csv\n",
    "\n",
    "`writerows` can be used to write a data structure (containing multiple lists) to the file\n",
    "\n"
   ]
  },
  {
   "cell_type": "code",
   "execution_count": 5,
   "metadata": {},
   "outputs": [],
   "source": [
    "header = ['place', 'name', 'score']\n",
    "\n",
    "# data is list of lists\n",
    "data = [[1, 'Elena', 550],   \n",
    "        [2, 'Sajid', 480],\n",
    "        [3, 'Tom', 380],\n",
    "        [4, 'Farhad', 305],\n",
    "        [5, 'Manesha', 150]    \n",
    "       ]"
   ]
  },
  {
   "cell_type": "code",
   "execution_count": 6,
   "metadata": {},
   "outputs": [],
   "source": [
    "with open('sample_data/scores_.csv', 'w') as f:\n",
    "    \n",
    "    w = csv.writer(f)\n",
    "    \n",
    "    w.writerow(header)\n",
    "    \n",
    "    w.writerows(data)"
   ]
  },
  {
   "cell_type": "markdown",
   "metadata": {
    "slideshow": {
     "slide_type": "slide"
    }
   },
   "source": [
    "### Appending CSV files\n",
    "\n",
    "(Code structure identical to write, apart from mode specifier) "
   ]
  },
  {
   "cell_type": "code",
   "execution_count": 7,
   "metadata": {},
   "outputs": [],
   "source": [
    "import csv\n",
    "\n",
    "with open('sample_data/scores_.csv', 'a') as f:   # open file in append mode\n",
    "\n",
    "    w = csv.writer(f)                       # writer object\n",
    "\n",
    "    w.writerow([6, 'Carl', 100])           # list to row\n",
    "    w.writerow([7, 'Theo', 105]) \n",
    "    w.writerow([8, 'Mark', 75]) \n",
    "    w.writerow([9, 'Grace', 50]) "
   ]
  },
  {
   "cell_type": "markdown",
   "metadata": {
    "slideshow": {
     "slide_type": "slide"
    }
   },
   "source": [
    "### Reading CSV files\n",
    "Reading csv files and converting them to a useful format (list of strings) can be a lengthy process!"
   ]
  },
  {
   "cell_type": "code",
   "execution_count": 100,
   "metadata": {},
   "outputs": [
    {
     "name": "stdout",
     "output_type": "stream",
     "text": [
      "['place,name,score\\n', '1,Elena,550\\n', '2,Sajid,480\\n', '3,Tom,380\\n', '4,Farhad,305\\n', '5,Manesha,150\\n', '6,Carl,100\\n', '7,Theo,105\\n', '8,Mark,75\\n', '9,Grace,50\\n']\n",
      "['place,name,score', '1,Elena,550', '2,Sajid,480', '3,Tom,380', '4,Farhad,305', '5,Manesha,150', '6,Carl,100', '7,Theo,105', '8,Mark,75', '9,Grace,50']\n",
      "[['place', 'name', 'score'], ['1', 'Elena', '550'], ['2', 'Sajid', '480'], ['3', 'Tom', '380'], ['4', 'Farhad', '305'], ['5', 'Manesha', '150'], ['6', 'Carl', '100'], ['7', 'Theo', '105'], ['8', 'Mark', '75'], ['9', 'Grace', '50']]\n"
     ]
    }
   ],
   "source": [
    "with open('sample_data/scores_.csv') as f:\n",
    "    file = list(f)                          # list of strings (lines) \n",
    "    \n",
    "    print(file)\n",
    "    \n",
    "    lines = [line.strip() for line in file] # remove \\n from each string\n",
    "    \n",
    "    print(lines)\n",
    "    \n",
    "    lists = [l.split(',') for l in lines]   # convert each line string --> list\n",
    "    \n",
    "    print(lists)"
   ]
  },
  {
   "cell_type": "markdown",
   "metadata": {
    "slideshow": {
     "slide_type": "slide"
    }
   },
   "source": [
    "The `writer` class from the `csv` module removes delimiters and `\\n` characters automatically. \n",
    "\n",
    "__Example:__ Read the contents of the file scores_.csv"
   ]
  },
  {
   "cell_type": "code",
   "execution_count": 8,
   "metadata": {
    "scrolled": true
   },
   "outputs": [
    {
     "name": "stdout",
     "output_type": "stream",
     "text": [
      "['place', 'name', 'score']\n",
      "['1', 'Elena', '550']\n",
      "['2', 'Sajid', '480']\n",
      "['3', 'Tom', '380']\n",
      "['4', 'Farhad', '305']\n",
      "['5', 'Manesha', '150']\n",
      "['6', 'Carl', '100']\n",
      "['7', 'Theo', '105']\n",
      "['8', 'Mark', '75']\n",
      "['9', 'Grace', '50']\n"
     ]
    }
   ],
   "source": [
    "with open('sample_data/scores_.csv') as f:\n",
    "    \n",
    "    r = csv.reader(f)\n",
    "    \n",
    "    for line in r:\n",
    "        print(line)\n",
    "        \n",
    "        "
   ]
  },
  {
   "cell_type": "markdown",
   "metadata": {
    "slideshow": {
     "slide_type": "slide"
    }
   },
   "source": [
    "`reader` and `writer` objects: \n",
    "- iterable but not subscriptable\n",
    "- moves stream position to end of file after operation using either object"
   ]
  },
  {
   "cell_type": "markdown",
   "metadata": {},
   "source": [
    "__Example:__ Read the file scores_.csv and print the third line."
   ]
  },
  {
   "cell_type": "code",
   "execution_count": 11,
   "metadata": {},
   "outputs": [
    {
     "name": "stdout",
     "output_type": "stream",
     "text": [
      "['place', 'name', 'score']\n",
      "['1', 'Elena', '550']\n",
      "['2', 'Sajid', '480']\n",
      "['3', 'Tom', '380']\n",
      "['4', 'Farhad', '305']\n",
      "['5', 'Manesha', '150']\n",
      "['6', 'Carl', '100']\n",
      "['7', 'Theo', '105']\n",
      "['8', 'Mark', '75']\n",
      "['9', 'Grace', '50']\n",
      "['10', 'Lois', '70']\n",
      "['10', 'Lois', '70']\n"
     ]
    }
   ],
   "source": [
    "with open('sample_data/scores_.csv', 'a+') as f:\n",
    "    \n",
    "    r = csv.reader(f)\n",
    "    \n",
    "    w = csv.writer(f)\n",
    "    \n",
    "    w.writerow([10, 'Lois', 70])\n",
    "    \n",
    "    f.seek(0)\n",
    "    \n",
    "    for line in r:\n",
    "        print(line)"
   ]
  },
  {
   "cell_type": "markdown",
   "metadata": {
    "slideshow": {
     "slide_type": "slide"
    }
   },
   "source": [
    "# Reading and writing csv files\n",
    "\n",
    "The same mode specifiers are used as for .txt files.\n",
    "\n",
    "A `reader` *and* `writer` object are created."
   ]
  },
  {
   "cell_type": "markdown",
   "metadata": {},
   "source": [
    "__Example:__ Add a new entry to the file scores_.csv and then print the contents. \n",
    "\n",
    "What if we want to print the contents before adding a new line?"
   ]
  },
  {
   "cell_type": "code",
   "execution_count": 103,
   "metadata": {},
   "outputs": [
    {
     "name": "stdout",
     "output_type": "stream",
     "text": [
      "['place', 'name', 'score']\n",
      "['1', 'Elena', '550']\n",
      "['2', 'Sajid', '480']\n",
      "['3', 'Tom', '380']\n",
      "['4', 'Farhad', '305']\n",
      "['5', 'Manesha', '150']\n",
      "['6', 'Carl', '100']\n",
      "['7', 'Theo', '105']\n",
      "['8', 'Mark', '75']\n",
      "['9', 'Grace', '50']\n",
      "['10', 'Lois', '70']\n"
     ]
    }
   ],
   "source": []
  },
  {
   "cell_type": "markdown",
   "metadata": {
    "slideshow": {
     "slide_type": "slide"
    }
   },
   "source": [
    "# Summary \n",
    "Functions imported from modules can shorten processes that are lengthy to produce in pure Python by importing code stored elsewhere. \n",
    "\n",
    "`csv`: A Python modules for reading/writing delimited files\n",
    "\n",
    "# Further reading\n",
    "- More ways to read and write files using packages we study later on the unit (e.g. `matplotlib`, `numpy`).\n",
    "- Explore the `os` module for system-level operations (e.g. creating a new directory in your filesystem)  https://docs.python.org/3/library/os.html\n",
    "- Explore the `Pandas` package: useful for handling spreadsheet-style data https://pandas.pydata.org/docs/getting_started/index.html#getting-started"
   ]
  },
  {
   "cell_type": "markdown",
   "metadata": {
    "slideshow": {
     "slide_type": "skip"
    }
   },
   "source": [
    "# Extra example : Writing data as columns\n",
    "\n",
    "Data stored as lists\n",
    "\n",
    "    places = [1, 2, 3, 4, 5]\n",
    "    names = ['Elena', 'Sajid', 'Tom', 'Farhad', 'Manesha']\n",
    "    scores = [550, 480, 380, 305, 150]\n",
    "    \n",
    "Often we want to organise our data in columns, not rows:\n",
    "<img src=\"img/scores_csv_newline.png\" alt=\"Bristol\" style=\"width: 300px;\"/>\n",
    "    \n",
    "We can't write a column explicitly in Python, as we would in Excel, we can only write rows. \n",
    "\n",
    "The CSV file is essentially a text file with commas to separate values. "
   ]
  },
  {
   "cell_type": "markdown",
   "metadata": {
    "slideshow": {
     "slide_type": "skip"
    }
   },
   "source": [
    "We re-arrange the data into lists that when written to a file, will arrange the data in columns. \n",
    "\n",
    "This can be achieved using a loop (+ list comprhension)\n",
    "\n",
    "[An identical process can be used to to the inverse operation : we can transform imported data arranged in columns into lists so that it's easier to use in the Python program]  "
   ]
  },
  {
   "cell_type": "markdown",
   "metadata": {
    "slideshow": {
     "slide_type": "skip"
    }
   },
   "source": [
    "__Example:__ Write `places`, `names` and `scores` to columns of a csv file. "
   ]
  },
  {
   "cell_type": "code",
   "execution_count": 104,
   "metadata": {
    "slideshow": {
     "slide_type": "skip"
    }
   },
   "outputs": [],
   "source": [
    "places = [1, 2, 3, 4, 5]\n",
    "names = ['Elena', 'Sajid', 'Tom', 'Farhad', 'Manesha']\n",
    "scores = [550, 480, 380, 305, 150]\n",
    "\n",
    "data = [places, names, scores]\n",
    "\n",
    "with open('sample_data/scores.csv', 'w') as f: # no gap between each line\n",
    "    \n",
    "    w = csv.writer(f) \n",
    "    \n",
    "    for i in range(len(places)):\n",
    "        w.writerow([d[i] for d in data]) \n",
    "        # OR\n",
    "        #w.writerow([places[i], names[i], scores[i]]) \n",
    "        "
   ]
  },
  {
   "cell_type": "markdown",
   "metadata": {
    "slideshow": {
     "slide_type": "skip"
    }
   },
   "source": [
    "# Extra example : Using `zip` to convert between rows and columns \n",
    "\n",
    "Import the data from the file sample\\_data/scores.csv and generate a row containing the data from each column:"
   ]
  },
  {
   "cell_type": "markdown",
   "metadata": {
    "slideshow": {
     "slide_type": "skip"
    }
   },
   "source": [
    "Alternatively, can use `zip` to transpose the data from rows to columns before writing to a CSV file. \n",
    "\n",
    "Like when using `zip` to iterate through two lists, items from mutiple lists are regrouped elementwise.  "
   ]
  },
  {
   "cell_type": "code",
   "execution_count": 105,
   "metadata": {
    "slideshow": {
     "slide_type": "skip"
    }
   },
   "outputs": [
    {
     "name": "stdout",
     "output_type": "stream",
     "text": [
      "[(1, 'Elena', 550), (2, 'Sajid', 480), (3, 'Tom', 380), (4, 'Farhad', 305), (5, 'Manesha', 150)]\n"
     ]
    }
   ],
   "source": [
    "places = [1, 2, 3, 4, 5]\n",
    "names = ['Elena', 'Sajid', 'Tom', 'Farhad', 'Manesha']\n",
    "scores = [550, 480, 380, 305, 150]\n",
    "\n",
    "data = zip(places, names, scores)\n",
    "\n",
    "print(list(data)) # must be converted to a list to print, iterate etc"
   ]
  },
  {
   "cell_type": "markdown",
   "metadata": {
    "slideshow": {
     "slide_type": "skip"
    }
   },
   "source": [
    "To transpose a list of lists we can use `*`. \n",
    "\n",
    "This *unpacks* the list (removing the outer brackets). "
   ]
  },
  {
   "cell_type": "code",
   "execution_count": 106,
   "metadata": {
    "slideshow": {
     "slide_type": "skip"
    }
   },
   "outputs": [
    {
     "name": "stdout",
     "output_type": "stream",
     "text": [
      "[(1, 'Elena', 550), (2, 'Sajid', 480), (3, 'Tom', 380), (4, 'Farhad', 305), (5, 'Manesha', 150)]\n"
     ]
    }
   ],
   "source": [
    "data = [[1, 2, 3, 4, 5], \n",
    "        ['Elena', 'Sajid', 'Tom', 'Farhad', 'Manesha'],\n",
    "        [550, 480, 380, 305, 150]    \n",
    "       ]\n",
    "\n",
    "data_cols = list(zip(*data)) # must be converted to a list to print, iterate etc\n",
    "\n",
    "print(data_cols)"
   ]
  },
  {
   "cell_type": "markdown",
   "metadata": {
    "slideshow": {
     "slide_type": "skip"
    }
   },
   "source": [
    "This can then be written to a .csv or .txt file"
   ]
  },
  {
   "cell_type": "code",
   "execution_count": 107,
   "metadata": {
    "slideshow": {
     "slide_type": "skip"
    }
   },
   "outputs": [],
   "source": [
    "with open('sample_data/scores.csv', 'w', newline='') as f:\n",
    "    \n",
    "    w = csv.writer(f) \n",
    "    \n",
    "    w.writerows(data_cols) "
   ]
  },
  {
   "cell_type": "code",
   "execution_count": 108,
   "metadata": {
    "slideshow": {
     "slide_type": "skip"
    }
   },
   "outputs": [],
   "source": [
    "with open('sample_data/scores.txt', 'w', newline='') as f:\n",
    "\n",
    "    w = csv.writer(f, delimiter=' ') # specify the delimiter\n",
    "    \n",
    "    w.writerows(data_cols)  "
   ]
  },
  {
   "cell_type": "code",
   "execution_count": 109,
   "metadata": {
    "scrolled": true,
    "slideshow": {
     "slide_type": "skip"
    }
   },
   "outputs": [
    {
     "name": "stdout",
     "output_type": "stream",
     "text": [
      "['1', 'Elena', '550']\n",
      "('2', '3', '4', '5')\n",
      "('Sajid', 'Tom', 'Farhad', 'Manesha')\n",
      "('480', '380', '305', '150')\n"
     ]
    }
   ],
   "source": [
    "import csv\n",
    "\n",
    "with open('sample_data/scores.csv') as f:\n",
    "\n",
    "    r = list(csv.reader(f))  # reader is iterable but not subscriptable --> convert to list        \n",
    "    \n",
    "    header = reader[0]            # choose first row as header\n",
    "    print(header)\n",
    "\n",
    "    data = list(zip(*r[1:])) # transpose data EXCLUDING header row\n",
    "\n",
    "    print(data[0])                # place                \n",
    "    print(data[1])                # name\n",
    "    print(data[2])                # score"
   ]
  },
  {
   "cell_type": "code",
   "execution_count": null,
   "metadata": {},
   "outputs": [],
   "source": []
  },
  {
   "cell_type": "code",
   "execution_count": null,
   "metadata": {},
   "outputs": [],
   "source": []
  }
 ],
 "metadata": {
  "celltoolbar": "Slideshow",
  "kernelspec": {
   "display_name": "Python 3",
   "language": "python",
   "name": "python3"
  },
  "language_info": {
   "codemirror_mode": {
    "name": "ipython",
    "version": 3
   },
   "file_extension": ".py",
   "mimetype": "text/x-python",
   "name": "python",
   "nbconvert_exporter": "python",
   "pygments_lexer": "ipython3",
   "version": "3.8.3"
  }
 },
 "nbformat": 4,
 "nbformat_minor": 5
}
