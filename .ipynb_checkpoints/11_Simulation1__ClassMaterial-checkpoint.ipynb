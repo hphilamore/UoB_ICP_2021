{
 "cells": [
  {
   "cell_type": "markdown",
   "metadata": {
    "slideshow": {
     "slide_type": "slide"
    }
   },
   "source": [
    "<img src=\"img/full-colour-logo-UoB.png\" alt=\"Drawing\" style=\"width: 200px;\"/>\n",
    "\n",
    "# Introduction to Programming for Engineers\n",
    "\n",
    "## Python 3\n",
    "\n",
    "\n"
   ]
  },
  {
   "cell_type": "markdown",
   "metadata": {
    "collapsed": true,
    "slideshow": {
     "slide_type": "slide"
    }
   },
   "source": [
    "# 11 Simulation : Grids and Multi-Agent Systems\n",
    "## CLASS MATERIAL\n",
    "\n",
    "<br> <a href='#Grid-BasedSimulations'>1. Grid-Based Simulations</a> \n",
    "<br> <a href='#SpatialVectorization'>2. Spatial Vectorization</a> \n",
    "<br><a href='#ReviewExercises'>3. Review Exercises</a>"
   ]
  },
  {
   "cell_type": "markdown",
   "metadata": {
    "slideshow": {
     "slide_type": "slide"
    }
   },
   "source": [
    "### Lesson Goal\n",
    "\n",
    "Learn how to construct grid and particle/agent based simulations and visualise the results through animation. "
   ]
  },
  {
   "cell_type": "markdown",
   "metadata": {
    "slideshow": {
     "slide_type": "slide"
    }
   },
   "source": [
    "### Fundamental programming concepts\n",
    "\n",
    "- Using numpy arrays to contruct efficient grid and particle based simulations.\n",
    "- Create animations of the results (.gif and .mp4 videos)"
   ]
  },
  {
   "cell_type": "markdown",
   "metadata": {
    "slideshow": {
     "slide_type": "slide"
    }
   },
   "source": [
    "Computer simulation can be a useful tool for solving and visualising the behaviour of large collections of agents across multiple timesteps. \n",
    "\n",
    "__Agents__: individuals that interact with one another and their environment. \n",
    "\n",
    "Example agents:\n",
    "- dicretised areas of an environment having one of a set of states\n",
    "- particles in a chemical reaction\n",
    "- swarm robots or biological organisms (flocking birds, humans) "
   ]
  },
  {
   "cell_type": "markdown",
   "metadata": {
    "slideshow": {
     "slide_type": "slide"
    }
   },
   "source": [
    "Using `for` loops is one way to cycle through each agent in a collection. \n",
    "\n",
    "For example, to cycle through every cell of an orthoganol grid, we could use:\n",
    "\n",
    "```for x in X:\n",
    "    for y in Y:\n",
    "        ...\n",
    "        ```\n",
    "\n",
    "However, this is computationally costly and programatically inelegant. "
   ]
  },
  {
   "cell_type": "markdown",
   "metadata": {
    "slideshow": {
     "slide_type": "slide"
    }
   },
   "source": [
    "Python provides useful tools for:\n",
    "- quickly and concisely solving the rules governing a simulation for large groups of agents.\n",
    "- visualising the results as animations "
   ]
  },
  {
   "cell_type": "markdown",
   "metadata": {
    "slideshow": {
     "slide_type": "slide"
    }
   },
   "source": [
    "<a id='Grid-BasedSimulations'></a>\n",
    "# 1. Grid-Based Simulations\n",
    "\n",
    "<br> <a href='#ExampleWildfire'>1.1 Example : Wildfire</a>\n",
    "<br> <a href='#ExampleGameLife'>1.2 Example : Game of Life</a> \n",
    "\n",
    "\n",
    "Orthoganol grids are a popular choice for spatial representation of environments as they allow for fast and easy solutions using numpy arrays. \n",
    "\n"
   ]
  },
  {
   "cell_type": "markdown",
   "metadata": {
    "slideshow": {
     "slide_type": "slide"
    }
   },
   "source": [
    "<a id='ExampleWildfire'></a>\n",
    "## 1.1 Example : Wildfire\n",
    "We can use a grid to model the spread of a fire.\n",
    "\n",
    "__Problem setting:__\n",
    "- A bounded area represented as an orthoganol grid is covered by either \n",
    "    - vegetation (`Fuel`)\n",
    "    - `Clear` ground\n",
    "- The centre-most cell is on fire (`Burning`)\n",
    "\n",
    "The fire spreads with the following rules:\n",
    ">If a cell is on fire in timestep $t$:\n",
    ">- the cell is cleared in timestep $t+1$\n",
    ">- all orthoganol neighbours congaining fuel are `Burning` in timestep $t+1$\n",
    "\n",
    "<br><img src=\"img/neighbours.png\" alt=\"Drawing\" style=\"width: 200px;\"/>"
   ]
  },
  {
   "cell_type": "markdown",
   "metadata": {
    "slideshow": {
     "slide_type": "slide"
    }
   },
   "source": [
    "Install packages \n",
    "imageio"
   ]
  },
  {
   "cell_type": "code",
   "execution_count": 1,
   "metadata": {},
   "outputs": [],
   "source": [
    "import numpy as np\n",
    "import imageio\n",
    "from numpy import ma as ma"
   ]
  },
  {
   "cell_type": "code",
   "execution_count": 2,
   "metadata": {
    "slideshow": {
     "slide_type": "slide"
    }
   },
   "outputs": [],
   "source": [
    "prob = .6               # probability of a cell being fuel\n",
    "timesteps = 300         # simulation time\n",
    "height = 100            # grid height\n",
    "width = 100             # grid width"
   ]
  },
  {
   "cell_type": "code",
   "execution_count": 3,
   "metadata": {
    "slideshow": {
     "slide_type": "slide"
    }
   },
   "outputs": [],
   "source": [
    "# Cell States\n",
    "C = 0 # Clear\n",
    "F = 1 # Fuel\n",
    "B = 2 # Burning"
   ]
  },
  {
   "cell_type": "code",
   "execution_count": 4,
   "metadata": {
    "slideshow": {
     "slide_type": "slide"
    }
   },
   "outputs": [
    {
     "name": "stdout",
     "output_type": "stream",
     "text": [
      "[[1. 1. 1. ... 0. 1. 0.]\n",
      " [1. 0. 1. ... 0. 0. 1.]\n",
      " [0. 1. 0. ... 1. 1. 1.]\n",
      " ...\n",
      " [1. 0. 1. ... 1. 1. 0.]\n",
      " [0. 1. 1. ... 1. 1. 0.]\n",
      " [1. 0. 1. ... 1. 0. 1.]]\n"
     ]
    }
   ],
   "source": [
    "# array : grid at each timestep\n",
    "states = np.zeros((timesteps, height, width)) \n",
    "\n",
    "np.random.seed(0) # the same random selection each time\n",
    " \n",
    "# Create an initial random distribution of clear (0) and fuel (1) cells\n",
    "states[0] = np.random.choice([C,F],                # possible cell value\n",
    "                        size=[height, width],      # size of array\n",
    "                        p=[1-prob,prob])           # probability of each value\n",
    "\n",
    "# set centre cell on fire\n",
    "states[0,height//2, width//2] = B\n",
    "\n",
    "print(states[0])"
   ]
  },
  {
   "cell_type": "markdown",
   "metadata": {
    "slideshow": {
     "slide_type": "slide"
    }
   },
   "source": [
    "The grid has a one cell border that is not updated at each timestep.\n",
    "\n",
    "```\n",
    "for x in range(1,width-1):    \n",
    "            for y in range(1,height-1):\n",
    "            ```\n",
    "\n",
    "<br><img src=\"img/neighbours.png\" alt=\"Drawing\" style=\"width: 200px;\"/>"
   ]
  },
  {
   "cell_type": "markdown",
   "metadata": {},
   "source": [
    "Let's forst consider the solution using `for` loops:"
   ]
  },
  {
   "cell_type": "code",
   "execution_count": 5,
   "metadata": {
    "slideshow": {
     "slide_type": "slide"
    }
   },
   "outputs": [],
   "source": [
    "def iterate():\n",
    "    \"Cycles through each cell and checks if it should be clear, fuel or burning\"\n",
    "    for t in range(1,timesteps):       # At every timestep ...\n",
    "        states[t] = states[t-1].copy() # ... make a copy of the previous timestep.\n",
    "\n",
    "        for x in range(1,width-1):    # Loop through each cell (x,y value) on the grid        \n",
    "            for y in range(1,height-1):\n",
    "\n",
    "                if np.array_equal(states[t-1,x,y], B):         # If cell is on fire...\n",
    "\n",
    "                    states[t,x,y] = C                          # ... clear cell                        \n",
    "\n",
    "                    if np.array_equal(states[t-1,x+1,y], F):   # ...and set any orthoganol neighbours on fire \n",
    "                                    states[t,x+1,y] = B\n",
    "\n",
    "                    if np.array_equal(states[t-1,x-1,y], F):\n",
    "                                    states[t,x-1,y] = B    \n",
    "\n",
    "                    if np.array_equal(states[t-1,x,y+1], F):\n",
    "                                    states[t,x,y+1] = B    \n",
    "\n",
    "                    if np.array_equal(states[t-1,x,y-1], F):\n",
    "                                    states[t,x,y-1] = B  "
   ]
  },
  {
   "cell_type": "code",
   "execution_count": 6,
   "metadata": {
    "slideshow": {
     "slide_type": "slide"
    }
   },
   "outputs": [],
   "source": [
    "iterate()"
   ]
  },
  {
   "cell_type": "code",
   "execution_count": 7,
   "metadata": {
    "slideshow": {
     "slide_type": "slide"
    }
   },
   "outputs": [],
   "source": [
    "def make_gif(name):\n",
    "    \"Crops the simulation to a 200 frames (limit for gif). Saves animation as gif\"\n",
    "    # a grid to hold a colour representation of each cell \n",
    "    coloured = np.zeros((timesteps, height, width, 3),\n",
    "                       dtype=np.uint8)\n",
    "\n",
    "\n",
    "    # Color\n",
    "    for t in range(timesteps): # each timestep\n",
    "\n",
    "        coloured[t] = np.where(states[t].reshape(height, width, 1) == 0, \n",
    "                               np.array([139,69,19]).reshape(1,3) , \n",
    "                               coloured[t])\n",
    "        \n",
    "        coloured[t] = np.where(states[t].reshape(height, width, 1) == 1, \n",
    "                               np.array([0,255,0]).reshape(1,3)   , \n",
    "                               coloured[t])\n",
    "        coloured[t] = np.where(states[t].reshape(height, width, 1) == 2, \n",
    "                               np.array([255,0,0]).reshape(1,3)   , \n",
    "                               coloured[t])\n",
    "\n",
    "    # Crop\n",
    "    cropped = coloured[\n",
    "        :200,\n",
    "        1:height-1,\n",
    "        1:width-1\n",
    "    ]\n",
    "\n",
    "    #imageio.mimsave('./img/wildfire.gif', cropped)\n",
    "    imageio.mimsave(name, cropped)"
   ]
  },
  {
   "cell_type": "code",
   "execution_count": 8,
   "metadata": {
    "slideshow": {
     "slide_type": "slide"
    }
   },
   "outputs": [],
   "source": [
    "make_gif('./img/wildfire.gif')"
   ]
  },
  {
   "cell_type": "markdown",
   "metadata": {
    "slideshow": {
     "slide_type": "-"
    }
   },
   "source": [
    "<img src=\"img/wildfire.gif\" alt=\"Drawing\" style=\"width: 300px;\"/>"
   ]
  },
  {
   "cell_type": "markdown",
   "metadata": {
    "slideshow": {
     "slide_type": "slide"
    }
   },
   "source": [
    "Let's revisit the function `iterate`.\n",
    "\n",
    "Instead of using for loops, we can create a set of rules that allow us to treat the environment as a single array. \n",
    "\n"
   ]
  },
  {
   "cell_type": "code",
   "execution_count": 9,
   "metadata": {
    "slideshow": {
     "slide_type": "slide"
    }
   },
   "outputs": [],
   "source": [
    "def iterate():\n",
    "    \"Cycles through each cell and checks if it should be clear, fuel or burning\"\n",
    "    for t in range(1,timesteps):                # At every timestep ...\n",
    "        states[t] = states[t-1].copy()          # ... make a copy of the previous timestep.\n",
    "        \n",
    "        burn = ma.make_mask( states[t-1]==B )*1   # Make a map of burning cells\n",
    "        \n",
    "        print(burn)\n",
    "        \n",
    "        if burn.size==1:                        # If no cells are burning, stop the simulation\n",
    "            break\n",
    "                \n",
    "        states[t] = states[t] - burn * 2        # Extinguish any burning cells from previous timestep\n",
    "                             \n",
    "        # Ignite any orthoganol neightbours of burning cells from previous timestep\n",
    "        states[t,1:-1,1:-1] = states[t,1:-1,1:-1] + (states[t,1:-1,1:-1] * \n",
    "                           np.sign(\n",
    "                           burn[ :-2, 1:-1] +\n",
    "                           burn[1:-1, :-2] +\n",
    "                           burn[1:-1, 2:] +\n",
    "                           burn[2:  , 1:-1]\n",
    "                          )\n",
    "                                                     )\n",
    "        \n",
    "\n"
   ]
  },
  {
   "cell_type": "markdown",
   "metadata": {
    "slideshow": {
     "slide_type": "slide"
    }
   },
   "source": [
    "##### What does this code do?\n",
    "Let's look at what each part of the new function does..."
   ]
  },
  {
   "cell_type": "markdown",
   "metadata": {
    "slideshow": {
     "slide_type": "slide"
    }
   },
   "source": [
    "We cycle through each timestep, copying the previous timestep as before:\n",
    "```python\n",
    "def iterate():\n",
    "    \"Cycles through each cell : clear, fuel or burning?\"\n",
    "    for t in range(1,timesteps):       # At every timestep ...\n",
    "        states[t] = states[t-1].copy() # ...copy previous timestep\n",
    "        ```\n",
    "        \n",
    "        "
   ]
  },
  {
   "cell_type": "markdown",
   "metadata": {
    "slideshow": {
     "slide_type": "slide"
    }
   },
   "source": [
    "```python\n",
    "    burn = ma.make_mask(states[t-1]==B)*1   # map of burning cells\n",
    "```\n",
    "\n",
    "The function `make_mask` makes a mask of an array containing boolean values where a certain condition is true or false. \n",
    "\n",
    "\n",
    "`a = np.array([[2, 3],[1,4]])`\n",
    "\n",
    "`ma.make_mask(a==2)`\n",
    "\n",
    "__`>> [[True, False],[False, False]]`__\n",
    "\n",
    "`ma.make_mask(a > 1) * 1`\n",
    "\n",
    "__`>> [[1, 1],[0, 1]]`__\n",
    "\n",
    "\n",
    "\n",
    "\n"
   ]
  },
  {
   "cell_type": "markdown",
   "metadata": {
    "slideshow": {
     "slide_type": "slide"
    }
   },
   "source": [
    "```\n",
    "if burn.size==1:                  # If no cells are burning, stop the simulation\n",
    "            break\n",
    "        ```\n",
    "        \n",
    "If the condition is not True for any cell in the grid, `ma.make_map` will return a single value, 0.\n",
    "\n",
    "There are several ways to deal with this, one way is to `break` out of the loop. "
   ]
  },
  {
   "cell_type": "markdown",
   "metadata": {
    "slideshow": {
     "slide_type": "slide"
    }
   },
   "source": [
    "Elementwise subtraction of the map of burning cells from the grid. \n",
    "\n",
    "`# Extinguish any burning cells from previous timestep\n",
    "states[t] = states[t] - burn * 2  `"
   ]
  },
  {
   "cell_type": "markdown",
   "metadata": {
    "slideshow": {
     "slide_type": "slide"
    }
   },
   "source": [
    "The sum of the four orthogonal neighbours of each cell can be found by finding the sum of the arrays one cell to the left, right, top and bottom of the region of interest `states[t,1:-1,1:-1` . \n",
    "\n",
    "`burn[ :-2, 1:-1] + burn[1:-1, :-2] + burn[1:-1, 2:] + burn[2:,1:-1]`"
   ]
  },
  {
   "cell_type": "markdown",
   "metadata": {
    "slideshow": {
     "slide_type": "-"
    }
   },
   "source": [
    "<img src=\"img/vectorize_array.png\" alt=\"Drawing\" style=\"width: 500px;\"/>"
   ]
  },
  {
   "cell_type": "markdown",
   "metadata": {
    "slideshow": {
     "slide_type": "slide"
    }
   },
   "source": [
    "```\n",
    "# Ignite any orthoganol neightbours of burning cells from previous timestep\n",
    "        states[t,1:-1,1:-1] = (states[t,1:-1,1:-1 + \n",
    "                                  (states[t,1:-1,1:-1] * \n",
    "                                       np.sign(\n",
    "                                       burn[ :-2, 1:-1] +\n",
    "                                       burn[1:-1, :-2] +\n",
    "                                       burn[1:-1, 2:] +\n",
    "                                       burn[2:  , 1:-1]\n",
    "                                      )\n",
    "                               )\n",
    "                                                     ```"
   ]
  },
  {
   "cell_type": "markdown",
   "metadata": {
    "slideshow": {
     "slide_type": "slide"
    }
   },
   "source": [
    "Let's run the code using the new function:"
   ]
  },
  {
   "cell_type": "code",
   "execution_count": 10,
   "metadata": {
    "slideshow": {
     "slide_type": "slide"
    }
   },
   "outputs": [],
   "source": [
    "import numpy as np\n",
    "import imageio\n",
    "\n",
    "prob = .6               # probability of a cell being fuel\n",
    "timesteps = 300         # simulation time\n",
    "height = 100            # grid height\n",
    "width = 100             # grid width\n",
    "\n",
    "\n",
    "# Cell States\n",
    "C = 0 # Clear\n",
    "F = 1 # Fuel\n",
    "B = 2 # Burning\n",
    "\n"
   ]
  },
  {
   "cell_type": "code",
   "execution_count": 11,
   "metadata": {
    "slideshow": {
     "slide_type": "slide"
    }
   },
   "outputs": [
    {
     "name": "stdout",
     "output_type": "stream",
     "text": [
      "[[0 0 0 ... 0 0 0]\n",
      " [0 0 0 ... 0 0 0]\n",
      " [0 0 0 ... 0 0 0]\n",
      " ...\n",
      " [0 0 0 ... 0 0 0]\n",
      " [0 0 0 ... 0 0 0]\n",
      " [0 0 0 ... 0 0 0]]\n",
      "[[0 0 0 ... 0 0 0]\n",
      " [0 0 0 ... 0 0 0]\n",
      " [0 0 0 ... 0 0 0]\n",
      " ...\n",
      " [0 0 0 ... 0 0 0]\n",
      " [0 0 0 ... 0 0 0]\n",
      " [0 0 0 ... 0 0 0]]\n",
      "[[0 0 0 ... 0 0 0]\n",
      " [0 0 0 ... 0 0 0]\n",
      " [0 0 0 ... 0 0 0]\n",
      " ...\n",
      " [0 0 0 ... 0 0 0]\n",
      " [0 0 0 ... 0 0 0]\n",
      " [0 0 0 ... 0 0 0]]\n",
      "[[0 0 0 ... 0 0 0]\n",
      " [0 0 0 ... 0 0 0]\n",
      " [0 0 0 ... 0 0 0]\n",
      " ...\n",
      " [0 0 0 ... 0 0 0]\n",
      " [0 0 0 ... 0 0 0]\n",
      " [0 0 0 ... 0 0 0]]\n",
      "[[0 0 0 ... 0 0 0]\n",
      " [0 0 0 ... 0 0 0]\n",
      " [0 0 0 ... 0 0 0]\n",
      " ...\n",
      " [0 0 0 ... 0 0 0]\n",
      " [0 0 0 ... 0 0 0]\n",
      " [0 0 0 ... 0 0 0]]\n",
      "[[0 0 0 ... 0 0 0]\n",
      " [0 0 0 ... 0 0 0]\n",
      " [0 0 0 ... 0 0 0]\n",
      " ...\n",
      " [0 0 0 ... 0 0 0]\n",
      " [0 0 0 ... 0 0 0]\n",
      " [0 0 0 ... 0 0 0]]\n",
      "[[0 0 0 ... 0 0 0]\n",
      " [0 0 0 ... 0 0 0]\n",
      " [0 0 0 ... 0 0 0]\n",
      " ...\n",
      " [0 0 0 ... 0 0 0]\n",
      " [0 0 0 ... 0 0 0]\n",
      " [0 0 0 ... 0 0 0]]\n",
      "[[0 0 0 ... 0 0 0]\n",
      " [0 0 0 ... 0 0 0]\n",
      " [0 0 0 ... 0 0 0]\n",
      " ...\n",
      " [0 0 0 ... 0 0 0]\n",
      " [0 0 0 ... 0 0 0]\n",
      " [0 0 0 ... 0 0 0]]\n",
      "[[0 0 0 ... 0 0 0]\n",
      " [0 0 0 ... 0 0 0]\n",
      " [0 0 0 ... 0 0 0]\n",
      " ...\n",
      " [0 0 0 ... 0 0 0]\n",
      " [0 0 0 ... 0 0 0]\n",
      " [0 0 0 ... 0 0 0]]\n",
      "[[0 0 0 ... 0 0 0]\n",
      " [0 0 0 ... 0 0 0]\n",
      " [0 0 0 ... 0 0 0]\n",
      " ...\n",
      " [0 0 0 ... 0 0 0]\n",
      " [0 0 0 ... 0 0 0]\n",
      " [0 0 0 ... 0 0 0]]\n",
      "[[0 0 0 ... 0 0 0]\n",
      " [0 0 0 ... 0 0 0]\n",
      " [0 0 0 ... 0 0 0]\n",
      " ...\n",
      " [0 0 0 ... 0 0 0]\n",
      " [0 0 0 ... 0 0 0]\n",
      " [0 0 0 ... 0 0 0]]\n",
      "[[0 0 0 ... 0 0 0]\n",
      " [0 0 0 ... 0 0 0]\n",
      " [0 0 0 ... 0 0 0]\n",
      " ...\n",
      " [0 0 0 ... 0 0 0]\n",
      " [0 0 0 ... 0 0 0]\n",
      " [0 0 0 ... 0 0 0]]\n",
      "[[0 0 0 ... 0 0 0]\n",
      " [0 0 0 ... 0 0 0]\n",
      " [0 0 0 ... 0 0 0]\n",
      " ...\n",
      " [0 0 0 ... 0 0 0]\n",
      " [0 0 0 ... 0 0 0]\n",
      " [0 0 0 ... 0 0 0]]\n",
      "[[0 0 0 ... 0 0 0]\n",
      " [0 0 0 ... 0 0 0]\n",
      " [0 0 0 ... 0 0 0]\n",
      " ...\n",
      " [0 0 0 ... 0 0 0]\n",
      " [0 0 0 ... 0 0 0]\n",
      " [0 0 0 ... 0 0 0]]\n",
      "[[0 0 0 ... 0 0 0]\n",
      " [0 0 0 ... 0 0 0]\n",
      " [0 0 0 ... 0 0 0]\n",
      " ...\n",
      " [0 0 0 ... 0 0 0]\n",
      " [0 0 0 ... 0 0 0]\n",
      " [0 0 0 ... 0 0 0]]\n",
      "[[0 0 0 ... 0 0 0]\n",
      " [0 0 0 ... 0 0 0]\n",
      " [0 0 0 ... 0 0 0]\n",
      " ...\n",
      " [0 0 0 ... 0 0 0]\n",
      " [0 0 0 ... 0 0 0]\n",
      " [0 0 0 ... 0 0 0]]\n",
      "[[0 0 0 ... 0 0 0]\n",
      " [0 0 0 ... 0 0 0]\n",
      " [0 0 0 ... 0 0 0]\n",
      " ...\n",
      " [0 0 0 ... 0 0 0]\n",
      " [0 0 0 ... 0 0 0]\n",
      " [0 0 0 ... 0 0 0]]\n",
      "[[0 0 0 ... 0 0 0]\n",
      " [0 0 0 ... 0 0 0]\n",
      " [0 0 0 ... 0 0 0]\n",
      " ...\n",
      " [0 0 0 ... 0 0 0]\n",
      " [0 0 0 ... 0 0 0]\n",
      " [0 0 0 ... 0 0 0]]\n",
      "[[0 0 0 ... 0 0 0]\n",
      " [0 0 0 ... 0 0 0]\n",
      " [0 0 0 ... 0 0 0]\n",
      " ...\n",
      " [0 0 0 ... 0 0 0]\n",
      " [0 0 0 ... 0 0 0]\n",
      " [0 0 0 ... 0 0 0]]\n",
      "[[0 0 0 ... 0 0 0]\n",
      " [0 0 0 ... 0 0 0]\n",
      " [0 0 0 ... 0 0 0]\n",
      " ...\n",
      " [0 0 0 ... 0 0 0]\n",
      " [0 0 0 ... 0 0 0]\n",
      " [0 0 0 ... 0 0 0]]\n",
      "[[0 0 0 ... 0 0 0]\n",
      " [0 0 0 ... 0 0 0]\n",
      " [0 0 0 ... 0 0 0]\n",
      " ...\n",
      " [0 0 0 ... 0 0 0]\n",
      " [0 0 0 ... 0 0 0]\n",
      " [0 0 0 ... 0 0 0]]\n",
      "[[0 0 0 ... 0 0 0]\n",
      " [0 0 0 ... 0 0 0]\n",
      " [0 0 0 ... 0 0 0]\n",
      " ...\n",
      " [0 0 0 ... 0 0 0]\n",
      " [0 0 0 ... 0 0 0]\n",
      " [0 0 0 ... 0 0 0]]\n",
      "[[0 0 0 ... 0 0 0]\n",
      " [0 0 0 ... 0 0 0]\n",
      " [0 0 0 ... 0 0 0]\n",
      " ...\n",
      " [0 0 0 ... 0 0 0]\n",
      " [0 0 0 ... 0 0 0]\n",
      " [0 0 0 ... 0 0 0]]\n",
      "[[0 0 0 ... 0 0 0]\n",
      " [0 0 0 ... 0 0 0]\n",
      " [0 0 0 ... 0 0 0]\n",
      " ...\n",
      " [0 0 0 ... 0 0 0]\n",
      " [0 0 0 ... 0 0 0]\n",
      " [0 0 0 ... 0 0 0]]\n",
      "[[0 0 0 ... 0 0 0]\n",
      " [0 0 0 ... 0 0 0]\n",
      " [0 0 0 ... 0 0 0]\n",
      " ...\n",
      " [0 0 0 ... 0 0 0]\n",
      " [0 0 0 ... 0 0 0]\n",
      " [0 0 0 ... 0 0 0]]\n",
      "[[0 0 0 ... 0 0 0]\n",
      " [0 0 0 ... 0 0 0]\n",
      " [0 0 0 ... 0 0 0]\n",
      " ...\n",
      " [0 0 0 ... 0 0 0]\n",
      " [0 0 0 ... 0 0 0]\n",
      " [0 0 0 ... 0 0 0]]\n",
      "[[0 0 0 ... 0 0 0]\n",
      " [0 0 0 ... 0 0 0]\n",
      " [0 0 0 ... 0 0 0]\n",
      " ...\n",
      " [0 0 0 ... 0 0 0]\n",
      " [0 0 0 ... 0 0 0]\n",
      " [0 0 0 ... 0 0 0]]\n",
      "[[0 0 0 ... 0 0 0]\n",
      " [0 0 0 ... 0 0 0]\n",
      " [0 0 0 ... 0 0 0]\n",
      " ...\n",
      " [0 0 0 ... 0 0 0]\n",
      " [0 0 0 ... 0 0 0]\n",
      " [0 0 0 ... 0 0 0]]\n",
      "[[0 0 0 ... 0 0 0]\n",
      " [0 0 0 ... 0 0 0]\n",
      " [0 0 0 ... 0 0 0]\n",
      " ...\n",
      " [0 0 0 ... 0 0 0]\n",
      " [0 0 0 ... 0 0 0]\n",
      " [0 0 0 ... 0 0 0]]\n",
      "[[0 0 0 ... 0 0 0]\n",
      " [0 0 0 ... 0 0 0]\n",
      " [0 0 0 ... 0 0 0]\n",
      " ...\n",
      " [0 0 0 ... 0 0 0]\n",
      " [0 0 0 ... 0 0 0]\n",
      " [0 0 0 ... 0 0 0]]\n",
      "[[0 0 0 ... 0 0 0]\n",
      " [0 0 0 ... 0 0 0]\n",
      " [0 0 0 ... 0 0 0]\n",
      " ...\n",
      " [0 0 0 ... 0 0 0]\n",
      " [0 0 0 ... 0 0 0]\n",
      " [0 0 0 ... 0 0 0]]\n",
      "[[0 0 0 ... 0 0 0]\n",
      " [0 0 0 ... 0 0 0]\n",
      " [0 0 0 ... 0 0 0]\n",
      " ...\n",
      " [0 0 0 ... 0 0 0]\n",
      " [0 0 0 ... 0 0 0]\n",
      " [0 0 0 ... 0 0 0]]\n",
      "[[0 0 0 ... 0 0 0]\n",
      " [0 0 0 ... 0 0 0]\n",
      " [0 0 0 ... 0 0 0]\n",
      " ...\n",
      " [0 0 0 ... 0 0 0]\n",
      " [0 0 0 ... 0 0 0]\n",
      " [0 0 0 ... 0 0 0]]\n",
      "[[0 0 0 ... 0 0 0]\n",
      " [0 0 0 ... 0 0 0]\n",
      " [0 0 0 ... 0 0 0]\n",
      " ...\n",
      " [0 0 0 ... 0 0 0]\n",
      " [0 0 0 ... 0 0 0]\n",
      " [0 0 0 ... 0 0 0]]\n",
      "[[0 0 0 ... 0 0 0]\n",
      " [0 0 0 ... 0 0 0]\n",
      " [0 0 0 ... 0 0 0]\n",
      " ...\n",
      " [0 0 0 ... 0 0 0]\n",
      " [0 0 0 ... 0 0 0]\n",
      " [0 0 0 ... 0 0 0]]\n",
      "[[0 0 0 ... 0 0 0]\n",
      " [0 0 0 ... 0 0 0]\n",
      " [0 0 0 ... 0 0 0]\n",
      " ...\n",
      " [0 0 0 ... 0 0 0]\n",
      " [0 0 0 ... 0 0 0]\n",
      " [0 0 0 ... 0 0 0]]\n",
      "[[0 0 0 ... 0 0 0]\n",
      " [0 0 0 ... 0 0 0]\n",
      " [0 0 0 ... 0 0 0]\n",
      " ...\n",
      " [0 0 0 ... 0 0 0]\n",
      " [0 0 0 ... 0 0 0]\n",
      " [0 0 0 ... 0 0 0]]\n",
      "[[0 0 0 ... 0 0 0]\n",
      " [0 0 0 ... 0 0 0]\n",
      " [0 0 0 ... 0 0 0]\n",
      " ...\n",
      " [0 0 0 ... 0 0 0]\n",
      " [0 0 0 ... 0 0 0]\n",
      " [0 0 0 ... 0 0 0]]\n",
      "[[0 0 0 ... 0 0 0]\n",
      " [0 0 0 ... 0 0 0]\n",
      " [0 0 0 ... 0 0 0]\n",
      " ...\n",
      " [0 0 0 ... 0 0 0]\n",
      " [0 0 0 ... 0 0 0]\n",
      " [0 0 0 ... 0 0 0]]\n",
      "[[0 0 0 ... 0 0 0]\n",
      " [0 0 0 ... 0 0 0]\n",
      " [0 0 0 ... 0 0 0]\n",
      " ...\n",
      " [0 0 0 ... 0 0 0]\n",
      " [0 0 0 ... 0 0 0]\n",
      " [0 0 0 ... 0 0 0]]\n",
      "[[0 0 0 ... 0 0 0]\n",
      " [0 0 0 ... 0 0 0]\n",
      " [0 0 0 ... 0 0 0]\n",
      " ...\n",
      " [0 0 0 ... 0 0 0]\n",
      " [0 0 0 ... 0 0 0]\n",
      " [0 0 0 ... 0 0 0]]\n",
      "[[0 0 0 ... 0 0 0]\n",
      " [0 0 0 ... 0 0 0]\n",
      " [0 0 0 ... 0 0 0]\n",
      " ...\n",
      " [0 0 0 ... 0 0 0]\n",
      " [0 0 0 ... 0 0 0]\n",
      " [0 0 0 ... 0 0 0]]\n",
      "[[0 0 0 ... 0 0 0]\n",
      " [0 0 0 ... 0 0 0]\n",
      " [0 0 0 ... 0 0 0]\n",
      " ...\n",
      " [0 0 0 ... 0 0 0]\n",
      " [0 0 0 ... 0 0 0]\n",
      " [0 0 0 ... 0 0 0]]\n",
      "[[0 0 0 ... 0 0 0]\n",
      " [0 0 0 ... 0 0 0]\n",
      " [0 0 0 ... 0 0 0]\n",
      " ...\n",
      " [0 0 0 ... 0 0 0]\n",
      " [0 0 0 ... 0 0 0]\n",
      " [0 0 0 ... 0 0 0]]\n",
      "[[0 0 0 ... 0 0 0]\n",
      " [0 0 0 ... 0 0 0]\n",
      " [0 0 0 ... 0 0 0]\n",
      " ...\n",
      " [0 0 0 ... 0 0 0]\n",
      " [0 0 0 ... 0 0 0]\n",
      " [0 0 0 ... 0 0 0]]\n",
      "[[0 0 0 ... 0 0 0]\n",
      " [0 0 0 ... 0 0 0]\n",
      " [0 0 0 ... 0 0 0]\n",
      " ...\n",
      " [0 0 0 ... 0 0 0]\n",
      " [0 0 0 ... 0 0 0]\n",
      " [0 0 0 ... 0 0 0]]\n",
      "[[0 0 0 ... 0 0 0]\n",
      " [0 0 0 ... 0 0 0]\n",
      " [0 0 0 ... 0 0 0]\n",
      " ...\n",
      " [0 0 0 ... 0 0 0]\n",
      " [0 0 0 ... 0 0 0]\n",
      " [0 0 0 ... 0 0 0]]\n",
      "[[0 0 0 ... 0 0 0]\n",
      " [0 0 0 ... 0 0 0]\n",
      " [0 0 0 ... 0 0 0]\n",
      " ...\n",
      " [0 0 0 ... 0 0 0]\n",
      " [0 0 0 ... 0 0 0]\n",
      " [0 0 0 ... 0 0 0]]\n",
      "[[0 0 0 ... 0 0 0]\n",
      " [0 0 0 ... 0 0 0]\n",
      " [0 0 0 ... 0 0 0]\n",
      " ...\n",
      " [0 0 0 ... 0 0 0]\n",
      " [0 0 0 ... 0 0 0]\n",
      " [0 0 0 ... 0 0 0]]\n",
      "[[0 0 0 ... 0 0 0]\n",
      " [0 0 0 ... 0 0 0]\n",
      " [0 0 0 ... 0 0 0]\n",
      " ...\n",
      " [0 0 0 ... 0 0 0]\n",
      " [0 0 0 ... 0 0 0]\n",
      " [0 0 0 ... 0 0 0]]\n",
      "[[0 0 0 ... 0 0 0]\n",
      " [0 0 0 ... 0 0 0]\n",
      " [0 0 0 ... 0 0 0]\n",
      " ...\n",
      " [0 0 0 ... 0 0 0]\n",
      " [0 0 0 ... 0 0 0]\n",
      " [0 0 0 ... 0 0 0]]\n",
      "[[0 0 0 ... 0 0 0]\n",
      " [0 0 0 ... 0 0 0]\n",
      " [0 0 0 ... 0 0 0]\n",
      " ...\n",
      " [0 0 0 ... 0 0 0]\n",
      " [0 0 0 ... 0 0 0]\n",
      " [0 0 0 ... 0 0 0]]\n",
      "[[0 0 0 ... 0 0 0]\n",
      " [0 0 0 ... 0 0 0]\n",
      " [0 0 0 ... 0 0 0]\n",
      " ...\n",
      " [0 0 0 ... 0 0 0]\n",
      " [0 0 0 ... 0 0 0]\n",
      " [0 0 0 ... 0 0 0]]\n",
      "[[0 0 0 ... 0 0 0]\n",
      " [0 0 0 ... 0 0 0]\n",
      " [0 0 0 ... 0 0 0]\n",
      " ...\n",
      " [0 0 0 ... 0 0 0]\n",
      " [0 0 0 ... 0 0 0]\n",
      " [0 0 0 ... 0 0 0]]\n",
      "[[0 0 0 ... 0 0 0]\n",
      " [0 0 0 ... 0 0 0]\n",
      " [0 0 0 ... 0 0 0]\n",
      " ...\n",
      " [0 0 0 ... 0 0 0]\n",
      " [0 0 0 ... 0 0 0]\n",
      " [0 0 0 ... 0 0 0]]\n",
      "[[0 0 0 ... 0 0 0]\n",
      " [0 0 0 ... 0 0 0]\n",
      " [0 0 0 ... 0 0 0]\n",
      " ...\n",
      " [0 0 0 ... 0 0 0]\n",
      " [0 0 0 ... 0 0 0]\n",
      " [0 0 0 ... 0 0 0]]\n",
      "[[0 0 0 ... 0 0 0]\n",
      " [0 0 0 ... 0 0 0]\n",
      " [0 0 0 ... 0 0 0]\n",
      " ...\n",
      " [0 0 0 ... 0 0 0]\n",
      " [0 0 0 ... 0 0 0]\n",
      " [0 0 0 ... 0 0 0]]\n",
      "[[0 0 0 ... 0 0 0]\n",
      " [0 0 0 ... 0 0 0]\n",
      " [0 0 0 ... 0 0 0]\n",
      " ...\n",
      " [0 0 0 ... 0 0 0]\n",
      " [0 0 0 ... 0 0 0]\n",
      " [0 0 0 ... 0 0 0]]\n",
      "0\n"
     ]
    }
   ],
   "source": [
    "# # array : grid at each timestep\n",
    "states = np.zeros((timesteps, height, width)) \n",
    " \n",
    "# Create an initial random distribution of clear (0) and fuel (1) cells\n",
    "states[0] = np.random.choice([C,F],                # possible cell value\n",
    "                        size=[height, width], # size of array\n",
    "                        p=[1-prob,prob])      # probability of each value\n",
    "\n",
    "\n",
    "# set centre cell on fire\n",
    "states[0,height//2, width//2] = B\n",
    "\n",
    "iterate()\n",
    "\n",
    "make_gif('./img/wildfire.gif')"
   ]
  },
  {
   "cell_type": "markdown",
   "metadata": {
    "slideshow": {
     "slide_type": "slide"
    }
   },
   "source": [
    "<img src=\"img/wildfire.gif\" alt=\"Drawing\" style=\"width: 300px;\"/>"
   ]
  },
  {
   "cell_type": "markdown",
   "metadata": {
    "slideshow": {
     "slide_type": "slide"
    }
   },
   "source": [
    "This type of simulation is known as a __cellular automata__. \n",
    "\n",
    "__Cellular Automata__\n",
    "<br>A discrete model studied in computer science, mathematics, physics, complexity science, theoretical biology and microstructure modeling.\n",
    "\n",
    "<br><img src=\"img/bacteria_compressed.gif\n",
    "\" alt=\"Drawing\" style=\"width: 400px;\"/>\n",
    "\n",
    "A regular grid of cells, each in one of a finite number of states, such as on and off. "
   ]
  },
  {
   "cell_type": "markdown",
   "metadata": {
    "slideshow": {
     "slide_type": "slide"
    }
   },
   "source": [
    "<a id='ExampleGameLife'></a>\n",
    "## 1.2 Example : Game of Life\n",
    "\n",
    "\n",
    "\n",
    "The best-known example of a cellular automaton.\n",
    "\n",
    "Devised by the British mathematician John Horton Conway in 1970. \n",
    "\n",
    "Zero-player game : evolution is determined by initial state (no input from human players). "
   ]
  },
  {
   "cell_type": "markdown",
   "metadata": {
    "slideshow": {
     "slide_type": "slide"
    }
   },
   "source": [
    "Model space : An infinite two-dimensional orthogonal grid of square cells.\n",
    "\n",
    "Each cell has two possible states: live or dead. \n",
    "\n",
    "Every cell interacts with its 8 neighbours : cells that are directly horizontally, vertically, or diagonally adjacent. \n",
    "\n"
   ]
  },
  {
   "cell_type": "markdown",
   "metadata": {
    "slideshow": {
     "slide_type": "slide"
    }
   },
   "source": [
    "At each timestep:\n",
    "    \n",
    "- Any live cell with fewer than two live neighbours dies, as if by underpopulation.\n",
    "- Any live cell with more than three live neighbours dies, as if by overcrowding.\n",
    "- Any live cell with two or three live neighbours lives, unchanged, to the next generation.\n",
    "- Any dead cell with exactly three live neighbours becomes a live cell."
   ]
  },
  {
   "cell_type": "code",
   "execution_count": 12,
   "metadata": {
    "slideshow": {
     "slide_type": "slide"
    }
   },
   "outputs": [],
   "source": [
    "prob = 0.2              # probability of a cell being fuel\n",
    "timesteps = 300         # simulation time\n",
    "height = 100            # grid height\n",
    "width = 100             # grid width\n",
    "\n",
    "# Cell States\n",
    "ON = 1\n",
    "OFF = 0"
   ]
  },
  {
   "cell_type": "markdown",
   "metadata": {
    "slideshow": {
     "slide_type": "slide"
    }
   },
   "source": [
    "Populate the grid, as before"
   ]
  },
  {
   "cell_type": "code",
   "execution_count": 13,
   "metadata": {},
   "outputs": [
    {
     "name": "stdout",
     "output_type": "stream",
     "text": [
      "[[0. 0. 0. ... 0. 1. 0.]\n",
      " [0. 0. 0. ... 0. 0. 0.]\n",
      " [0. 0. 0. ... 1. 1. 1.]\n",
      " ...\n",
      " [1. 0. 1. ... 0. 0. 0.]\n",
      " [0. 0. 1. ... 1. 1. 0.]\n",
      " [1. 0. 0. ... 0. 0. 1.]]\n"
     ]
    }
   ],
   "source": [
    "# populate grid with random on/off - more off than on\n",
    "# # array : grid at each timestep\n",
    "states = np.zeros((timesteps, height, width)) \n",
    "\n",
    "np.random.seed(0)\n",
    " \n",
    "# Create an initial random distribution of OFF (0) and ON (1) cells\n",
    "states[0] = np.random.choice([OFF,ON],                # possible cell value\n",
    "                             size=[height, width],    # size of array\n",
    "                             p=[1-prob,prob])         # probability of each value\n",
    "\n",
    "print(states[0])"
   ]
  },
  {
   "cell_type": "markdown",
   "metadata": {
    "slideshow": {
     "slide_type": "slide"
    }
   },
   "source": [
    "We need to update the `iterate` function to be run at each timestep. \n",
    "\n",
    "There are two key differences from the last simulation. \n",
    "\n",
    "1. The game is played on an infinite surface : a toroid\n",
    "<br><img src=\"img/torus.gif\" alt=\"Drawing\" style=\"width: 300px;\"/>\n",
    "\n",
    "2. Different rules to determine the next state"
   ]
  },
  {
   "cell_type": "markdown",
   "metadata": {
    "slideshow": {
     "slide_type": "slide"
    }
   },
   "source": [
    "In contrast to the previous example (which had a bounding border of one cell):\n",
    "\n",
    "- The upper neighbour of a cell in the top row is in the bottom row\n",
    "- The lower neighbour of a cell in the bottom row is in the top row\n",
    "- The left neighbour of a cell in the furtherst left column is in the furthest right column\n",
    "- The right neighbour of a cell in the furtherst right column is in the furthest left column"
   ]
  },
  {
   "cell_type": "markdown",
   "metadata": {
    "slideshow": {
     "slide_type": "slide"
    }
   },
   "source": [
    "We can use the `roll` function which rolls array elements along a given axis.\n",
    "\n",
    "`np.roll( array,\n",
    "          number of places to shift,\n",
    "          axis to shift\n",
    "         )`"
   ]
  },
  {
   "cell_type": "code",
   "execution_count": 14,
   "metadata": {
    "slideshow": {
     "slide_type": "slide"
    }
   },
   "outputs": [],
   "source": [
    "def iterate():\n",
    "    for t in range(1,timesteps):         # At every timestep ...\n",
    "        states[t] = states[t-1].copy() # ... make a copy of the previous timestep.\n",
    "\n",
    "        # compute 8-neghbor sum \n",
    "        # using toroidal boundary conditions - x and y wrap around \n",
    "        total = (np.roll(states[t], 1, 0) +\n",
    "                 np.roll(states[t], -1, 0) + \n",
    "                 np.roll(states[t], 1, 1) +\n",
    "                 np.roll(states[t], -1, 1) + \n",
    "                 np.roll(np.roll(states[t], 1, 0), 1, 1) +\n",
    "                 np.roll(np.roll(states[t], -1, 0), -1, 1) +\n",
    "                 np.roll(np.roll(states[t], 1, 0), -1, 1) +\n",
    "                 np.roll(np.roll(states[t], -1, 0), 1, 1)) \n",
    "  \n",
    "        # apply game of life rules\n",
    "        states[t] = np.where((states[t-1] == ON)  &  ((total < 2) | (total > 3)), \n",
    "                             OFF, \n",
    "                             states[t])\n",
    "        states[t] = np.where((states[t-1] == OFF) & (total == 3), \n",
    "                             ON, \n",
    "                             states[t])"
   ]
  },
  {
   "cell_type": "code",
   "execution_count": 15,
   "metadata": {
    "slideshow": {
     "slide_type": "slide"
    }
   },
   "outputs": [],
   "source": [
    "iterate()"
   ]
  },
  {
   "cell_type": "code",
   "execution_count": 16,
   "metadata": {
    "slideshow": {
     "slide_type": "slide"
    }
   },
   "outputs": [],
   "source": [
    "make_gif('./img/game_of_life.gif')"
   ]
  },
  {
   "cell_type": "markdown",
   "metadata": {},
   "source": [
    "<img src=\"img/game_of_life.gif\" alt=\"Drawing\" style=\"width: 300px;\"/>"
   ]
  },
  {
   "cell_type": "markdown",
   "metadata": {
    "slideshow": {
     "slide_type": "slide"
    }
   },
   "source": [
    "The game of life has several patterns that oscillate : repeating infinitely until the game is stopped.\n",
    "\n",
    "The glider is a pattern that travels across the board in Conway's Game of Life. \n",
    "\n",
    "<img src=\"img/Animated_glider_emblem.gif\" alt=\"Drawing\" style=\"width: 100px;\"/>\n",
    "\n",
    "The mutation and movement of a \"glider\"."
   ]
  },
  {
   "cell_type": "code",
   "execution_count": 17,
   "metadata": {
    "slideshow": {
     "slide_type": "slide"
    }
   },
   "outputs": [],
   "source": [
    "# populate grid \n",
    "states = np.zeros((timesteps, height, width))\n",
    "\n",
    "glider = [[1, 0, 0],\n",
    "          [0, 1, 1],\n",
    "          [1, 1, 0]]\n",
    "\n",
    "states[0, :3, :3] = glider\n",
    "\n",
    "iterate()\n",
    "\n",
    "make_gif('./img/game_of_life_glider.gif')"
   ]
  },
  {
   "cell_type": "markdown",
   "metadata": {
    "slideshow": {
     "slide_type": "slide"
    }
   },
   "source": [
    "<img src=\"img/game_of_life_glider.gif\" alt=\"Drawing\" style=\"width: 300px;\"/>"
   ]
  },
  {
   "cell_type": "markdown",
   "metadata": {
    "slideshow": {
     "slide_type": "slide"
    }
   },
   "source": [
    "An early question posed about the Game of Life was whether any configurations exist which result in asymptotically unbounded growth.\n",
    "\n",
    "The following example is one of the most compact configurations which display unbounded growth.\n",
    "\n",
    "Note : growth is unbounded on an infinite grid. On a torroidal grid growth is unbounded until the edge is reached, after that different results are produced."
   ]
  },
  {
   "cell_type": "code",
   "execution_count": 18,
   "metadata": {
    "slideshow": {
     "slide_type": "slide"
    }
   },
   "outputs": [],
   "source": [
    "# populate grid \n",
    "height = 30\n",
    "width = 40\n",
    "states = np.zeros((timesteps, height, width))\n",
    "\n",
    "unbounded = [[1, 1, 1, 0, 1],\n",
    "             [1, 0, 0, 0, 0],\n",
    "             [0, 0, 0, 1, 1],\n",
    "             [0, 1, 1, 0, 1],\n",
    "             [1, 0, 1, 0, 1]]\n",
    "\n",
    "states[0, 15:20, 18:23] = unbounded\n",
    "\n",
    "iterate()\n",
    "\n",
    "make_gif('./img/game_of_life_unbounded.gif')"
   ]
  },
  {
   "cell_type": "markdown",
   "metadata": {
    "slideshow": {
     "slide_type": "slide"
    }
   },
   "source": [
    "<img src=\"img/game_of_life_unbounded.gif\" alt=\"Drawing\" style=\"width: 300px;\"/>"
   ]
  },
  {
   "cell_type": "markdown",
   "metadata": {
    "slideshow": {
     "slide_type": "slide"
    }
   },
   "source": [
    "The earliest known instance of unbounded growth is the \"Glider Gun\". \n",
    "\n",
    "It is an oscillating pattern that creates an infinite series of gliders."
   ]
  },
  {
   "cell_type": "code",
   "execution_count": 19,
   "metadata": {
    "slideshow": {
     "slide_type": "slide"
    }
   },
   "outputs": [],
   "source": [
    "# populate grid \n",
    "height = 100\n",
    "width = 100\n",
    "states = np.zeros((timesteps, height, width))\n",
    "\n",
    "glider_gun =\\\n",
    "[[0,0,0,0,0,0,0,0,0,0,0,0,0,0,0,0,0,0,0,0,0,0,0,0,1,0,0,0,0,0,0,0,0,0,0,0],\n",
    " [0,0,0,0,0,0,0,0,0,0,0,0,0,0,0,0,0,0,0,0,0,0,1,0,1,0,0,0,0,0,0,0,0,0,0,0],\n",
    " [0,0,0,0,0,0,0,0,0,0,0,0,1,1,0,0,0,0,0,0,1,1,0,0,0,0,0,0,0,0,0,0,0,0,1,1],\n",
    " [0,0,0,0,0,0,0,0,0,0,0,1,0,0,0,1,0,0,0,0,1,1,0,0,0,0,0,0,0,0,0,0,0,0,1,1],\n",
    " [1,1,0,0,0,0,0,0,0,0,1,0,0,0,0,0,1,0,0,0,1,1,0,0,0,0,0,0,0,0,0,0,0,0,0,0],\n",
    " [1,1,0,0,0,0,0,0,0,0,1,0,0,0,1,0,1,1,0,0,0,0,1,0,1,0,0,0,0,0,0,0,0,0,0,0],\n",
    " [0,0,0,0,0,0,0,0,0,0,1,0,0,0,0,0,1,0,0,0,0,0,0,0,1,0,0,0,0,0,0,0,0,0,0,0],\n",
    " [0,0,0,0,0,0,0,0,0,0,0,1,0,0,0,1,0,0,0,0,0,0,0,0,0,0,0,0,0,0,0,0,0,0,0,0],\n",
    " [0,0,0,0,0,0,0,0,0,0,0,0,1,1,0,0,0,0,0,0,0,0,0,0,0,0,0,0,0,0,0,0,0,0,0,0]]\n",
    "\n",
    "\n",
    "states[0, 1:10, 1:37] = glider_gun\n",
    "\n",
    "iterate()\n",
    "\n",
    "make_gif('./img/game_of_life_glider_gun.gif')"
   ]
  },
  {
   "cell_type": "markdown",
   "metadata": {
    "slideshow": {
     "slide_type": "slide"
    }
   },
   "source": [
    "<img src=\"img/game_of_life_glider_gun.gif\" alt=\"Drawing\" style=\"width: 300px;\"/>"
   ]
  },
  {
   "cell_type": "markdown",
   "metadata": {
    "slideshow": {
     "slide_type": "slide"
    }
   },
   "source": [
    "By applying different:\n",
    "- sets of rules\n",
    "- initial conditions \n",
    "to the grid, systems such as chemical reactions, population dynamics and biological systems such as neurons and patterning on shells/skin."
   ]
  },
  {
   "cell_type": "markdown",
   "metadata": {
    "slideshow": {
     "slide_type": "slide"
    }
   },
   "source": [
    "We are now going to consider a different method of producing animation that can be applied not only to grid-based simulation but to any figure constructed using `matplotlib`. "
   ]
  },
  {
   "cell_type": "markdown",
   "metadata": {
    "slideshow": {
     "slide_type": "slide"
    }
   },
   "source": [
    "This will be convenient for the simulations of rigid body dynamics that we will study next week. \n",
    "\n"
   ]
  },
  {
   "cell_type": "code",
   "execution_count": 20,
   "metadata": {
    "slideshow": {
     "slide_type": "slide"
    }
   },
   "outputs": [],
   "source": [
    "import numpy as np\n",
    "import matplotlib.pyplot as plt \n",
    "import matplotlib.animation as animation\n",
    "from matplotlib.animation import FFMpegWriter\n",
    "from matplotlib import animation, rc\n",
    "from IPython.display import HTML\n",
    "%matplotlib inline"
   ]
  },
  {
   "cell_type": "markdown",
   "metadata": {
    "slideshow": {
     "slide_type": "slide"
    }
   },
   "source": [
    "These are the steps for creating an animation using the `matplotlib.animation` package:\n",
    "\n",
    "1. Variables\n",
    "1. Figure window\n",
    "1. Axes within the figure window.\n",
    "1. Object(s) to animate\n",
    "1. Function (e.g. `animate`) to update simulation as a function of time\n",
    "1. Use the function `animation.FuncAnimation` to create the animation."
   ]
  },
  {
   "cell_type": "code",
   "execution_count": 21,
   "metadata": {
    "slideshow": {
     "slide_type": "slide"
    }
   },
   "outputs": [],
   "source": [
    "# 1. Variables \n",
    "prob = 0.2              # probability of a cell being fuel\n",
    "timesteps = 300         # simulation time\n",
    "height = 100            # grid height\n",
    "width = 100             # grid width\n",
    "\n",
    "# Cell States\n",
    "ON = 1\n",
    "OFF = 0"
   ]
  },
  {
   "cell_type": "code",
   "execution_count": 22,
   "metadata": {
    "slideshow": {
     "slide_type": "slide"
    }
   },
   "outputs": [
    {
     "name": "stdout",
     "output_type": "stream",
     "text": [
      "[0 0 0 0 0 0 0 1 1 0 0 0 0 1 0 0 0 1 0 1 1 0 0 0 0 0 0 1 0 0 0 0 0 0 0 0 0\n",
      " 0 1 0 0 0 0 0 0 0 0 0 0 0 0 0 1 0 0 0 0 0 0 0 0 0 0 0 0 0 1 0 1 0 1 0 1 0\n",
      " 0 0 0 0 0 0 0 0 0 0 0 0 0 0 0 1 0 0 0 0 0 0 0 0 1 0]\n"
     ]
    }
   ],
   "source": [
    "# populate a single 2D grid \n",
    "#states = np.zeros((height, width)) \n",
    "\n",
    "np.random.seed(0)\n",
    " \n",
    "# Create an initial random distribution of clear (0) and fuel (1) cells\n",
    "states = np.random.choice([OFF,ON],                # possible cell value\n",
    "                          size=[height, width],    # size of array\n",
    "                          p=[1-prob,prob])         # probability of each value\n",
    "\n",
    "print(states[0])"
   ]
  },
  {
   "cell_type": "code",
   "execution_count": 23,
   "metadata": {
    "scrolled": true,
    "slideshow": {
     "slide_type": "slide"
    }
   },
   "outputs": [
    {
     "data": {
      "image/png": "[encoded data removed]",
      "text/plain": [
       "<Figure size 432x288 with 1 Axes>"
      ]
     },
     "metadata": {
      "needs_background": "light"
     },
     "output_type": "display_data"
    }
   ],
   "source": [
    "fig, ax = plt.subplots()   # 2,3 Figure + axes\n",
    "mat = ax.matshow(states)   # 4. Object to animate : input array as a colour matrix "
   ]
  },
  {
   "cell_type": "markdown",
   "metadata": {
    "slideshow": {
     "slide_type": "slide"
    }
   },
   "source": [
    "We need to write a function that updates a figure of the grid each time it is called.\n",
    "\n",
    "The function should have __one input, the frame number__, even if it is not used in the function. "
   ]
  },
  {
   "cell_type": "code",
   "execution_count": 24,
   "metadata": {
    "slideshow": {
     "slide_type": "slide"
    }
   },
   "outputs": [],
   "source": [
    "# 5. Function to update simulation\n",
    "def iterate(data):\n",
    "    \"A function to update the game of life simulation using the neighbour rules\"  \n",
    "\n",
    "    # Make states a glocal variable\n",
    "    global states  \n",
    "\n",
    "    # Copy grid \n",
    "    newState = states.copy()\n",
    "\n",
    "    # Compute 8-neghbor sum \n",
    "    total = (np.roll(newState, 1, 0) +\n",
    "           np.roll(newState, -1, 0) + \n",
    "           np.roll(newState, 1, 1) +\n",
    "           np.roll(newState, -1, 1) + \n",
    "           np.roll(np.roll(newState, 1, 0), 1, 1) +\n",
    "           np.roll(np.roll(newState, -1, 0), -1, 1) +\n",
    "           np.roll(np.roll(newState, 1, 0), -1, 1) +\n",
    "           np.roll(np.roll(newState, -1, 0), 1, 1)) \n",
    "\n",
    "    # Apply rules\n",
    "    newState = np.where((states == ON)  &  ((total < 2) | (total > 3)), OFF, newState)\n",
    "    newState = np.where((states == OFF) & (total == 3), ON, newState)  \n",
    "\n",
    "    # Update figure using the set_data function\n",
    "    mat.set_data(newState)\n",
    "    \n",
    "    states = newState\n",
    "    \n",
    "    # For animation the current figure must be returned\n",
    "    return [mat]"
   ]
  },
  {
   "cell_type": "markdown",
   "metadata": {
    "slideshow": {
     "slide_type": "slide"
    }
   },
   "source": [
    "The function to create the animation `FuncAnimation` takes several arguments, including the `iterate` function. "
   ]
  },
  {
   "cell_type": "code",
   "execution_count": 25,
   "metadata": {},
   "outputs": [
    {
     "ename": "NameError",
     "evalue": "name 'writer' is not defined",
     "output_type": "error",
     "traceback": [
      "\u001b[0;31m---------------------------------------------------------------------------\u001b[0m",
      "\u001b[0;31mNameError\u001b[0m                                 Traceback (most recent call last)",
      "\u001b[0;32m<ipython-input-25-7479b292ef76>\u001b[0m in \u001b[0;36m<module>\u001b[0;34m\u001b[0m\n\u001b[1;32m     12\u001b[0m \u001b[0;34m\u001b[0m\u001b[0m\n\u001b[1;32m     13\u001b[0m \u001b[0;34m\u001b[0m\u001b[0m\n\u001b[0;32m---> 14\u001b[0;31m \u001b[0mani\u001b[0m\u001b[0;34m.\u001b[0m\u001b[0msave\u001b[0m\u001b[0;34m(\u001b[0m\u001b[0;34m\"img/game_of_life_anim.mp4\"\u001b[0m\u001b[0;34m,\u001b[0m \u001b[0mwriter\u001b[0m\u001b[0;34m=\u001b[0m\u001b[0mwriter\u001b[0m\u001b[0;34m)\u001b[0m\u001b[0;34m\u001b[0m\u001b[0;34m\u001b[0m\u001b[0m\n\u001b[0m",
      "\u001b[0;31mNameError\u001b[0m: name 'writer' is not defined"
     ]
    }
   ],
   "source": [
    "# 6. Create animation object\n",
    "ani = animation.FuncAnimation(fig,           # The figure object to animate\n",
    "                              iterate,       # Function to call at each frame\n",
    "                              interval=50,   # Delay between frames ms (default = 2)\n",
    "                              frames=30  # Number of frames\n",
    "                             )\n",
    "\n",
    "# Create the animation\n",
    "ani\n",
    "\n",
    "#writer = FFMpegWriter(fps=15, metadata=dict(artist='Me'), bitrate=1800) \n",
    "\n",
    " \n",
    "ani.save(\"img/game_of_life_anim.mp4\", writer=writer)"
   ]
  },
  {
   "cell_type": "code",
   "execution_count": null,
   "metadata": {
    "slideshow": {
     "slide_type": "slide"
    }
   },
   "outputs": [],
   "source": [
    "from IPython.display import HTML\n",
    "HTML(ani.to_jshtml())"
   ]
  },
  {
   "cell_type": "markdown",
   "metadata": {
    "slideshow": {
     "slide_type": "slide"
    }
   },
   "source": [
    "<a id='SpatialVectorization'></a>\n",
    "# 2. Spatial Vectorization\n",
    "\n",
    "\n",
    "Where elements share the same computation but interact with only a subgroup of other elements. \n",
    "\n",
    "This was already the case for the cellular automata examples.\n",
    "\n",
    "In more realistic situations there is an added difficulty because the subgroup is often dynamic and needs to be updated at each iteration:\n",
    "- particle systems where particles interact mostly with local neighbours. \n",
    "- \"boids\" that simulate flocking behaviors.\n",
    "\n",
    "<img src=\"img/flocking.gif\" alt=\"Drawing\" style=\"width: 300px;\"/>"
   ]
  },
  {
   "cell_type": "markdown",
   "metadata": {
    "slideshow": {
     "slide_type": "slide"
    }
   },
   "source": [
    "## Example : Boids \n",
    "\n",
    "An artificial life program, developed by Craig Reynolds in 1986, which simulates the flocking behaviour of birds. \n",
    "\n",
    "The name \"boid\" corresponds to a shortened version of \"bird-oid object\", which refers to a bird-like object."
   ]
  },
  {
   "cell_type": "markdown",
   "metadata": {
    "slideshow": {
     "slide_type": "slide"
    }
   },
   "source": [
    "Boids is an example of emergent behavior; the complexity of Boids arises from the interaction of individual agents (the boids).\n",
    "\n"
   ]
  },
  {
   "cell_type": "markdown",
   "metadata": {
    "slideshow": {
     "slide_type": "slide"
    }
   },
   "source": [
    "Interaction is governed by a set of simple rules that determine the boids acceleration and velocity: \n",
    "\n",
    "- __separation__: steer to avoid crowding local flock-mates\n",
    "- __alignment__: steer towards the average heading of local flock-mates\n",
    "- __cohesion__: steer to move toward the average position (center of mass) of local flock-mates\n",
    "\n",
    "\n",
    "<img src=\"img/boids.png\" alt=\"Drawing\" style=\"width: 400px;\"/>"
   ]
  },
  {
   "cell_type": "code",
   "execution_count": null,
   "metadata": {
    "slideshow": {
     "slide_type": "slide"
    }
   },
   "outputs": [],
   "source": [
    "import numpy as np "
   ]
  },
  {
   "cell_type": "code",
   "execution_count": null,
   "metadata": {
    "slideshow": {
     "slide_type": "slide"
    }
   },
   "outputs": [],
   "source": [
    "boid_count = 10     # number of boids"
   ]
  },
  {
   "cell_type": "code",
   "execution_count": null,
   "metadata": {
    "slideshow": {
     "slide_type": "slide"
    }
   },
   "outputs": [],
   "source": [
    "height = 2000\n",
    "width = 2000\n",
    "limits = np.array([height, width])   # define edges of simulation environment"
   ]
  },
  {
   "cell_type": "code",
   "execution_count": null,
   "metadata": {
    "slideshow": {
     "slide_type": "slide"
    }
   },
   "outputs": [],
   "source": [
    "np.random.seed(0)\n",
    "\n",
    "# create 2 x boid_count array of random values in range [0,1]\n",
    "positions = np.random.rand(2, boid_count) \n",
    "\n",
    "# Mulitply by size of environment to get random poitions\n",
    "positions *= limits[:, np.newaxis] \n",
    "\n",
    "# initial position of each boid\n",
    "positions "
   ]
  },
  {
   "cell_type": "markdown",
   "metadata": {
    "slideshow": {
     "slide_type": "slide"
    }
   },
   "source": [
    "#### What does this code do?\n",
    "\n",
    "The `newaxis` expression is used to increase the dimension of the existing array by one more dimension\n",
    "\n",
    "`limits[:, np.newaxis] `\n",
    "\n",
    "\n",
    "This reshapes the 1-dimensional array `limits` to allow the following multiplication to take place.\n",
    "\n",
    "Multiply a 2×10 array  by a 2×1 array – and get a 2×10 array.\n",
    "<br>`positions = np.random.rand(2, boid_count) * limits[:, np.newaxis] `\n",
    "\n",
    "(In this case, it is has the same result as `limits[:].reshape(2,1)`)"
   ]
  },
  {
   "cell_type": "markdown",
   "metadata": {
    "slideshow": {
     "slide_type": "slide"
    }
   },
   "source": [
    "\\begin{align*}\n",
    "p &= p_{min} + D(p_{max} - p_{min})\\\\\n",
    "\\begin{bmatrix} p_x \\\\ p_y \\end{bmatrix}\n",
    "  &= \\begin{bmatrix} p_{x,min} \\\\ p_{y,min} \\end{bmatrix} \n",
    "     + D \n",
    "     \\left(\n",
    "     \\begin{bmatrix} p_{x,max} \\\\ p_{y,max} \\end{bmatrix} - \n",
    "     \\begin{bmatrix} p_{x,min} \\\\ p_{y,min} \\end{bmatrix}\n",
    "     \\right)\n",
    "\\end{align*}\n",
    "\n",
    "where $D$ is a random number in range 0 to 1"
   ]
  },
  {
   "cell_type": "code",
   "execution_count": null,
   "metadata": {},
   "outputs": [],
   "source": [
    "def new_flock(count, minimum, maximum):\n",
    "    \n",
    "    return (minimum[:, np.newaxis] + \n",
    "            np.random.rand(2, count) * \n",
    "            (maximum - minimum)[:, np.newaxis])"
   ]
  },
  {
   "cell_type": "markdown",
   "metadata": {
    "slideshow": {
     "slide_type": "slide"
    }
   },
   "source": [
    "Let’s assume that we want our initial positions to vary between 100 and 200 in the x axis, and 900 and 1100 in the y axis. \n",
    "\n",
    "We can generate random positions within these constraints with:"
   ]
  },
  {
   "cell_type": "code",
   "execution_count": null,
   "metadata": {},
   "outputs": [],
   "source": [
    "positions = new_flock(boid_count, \n",
    "                      np.array([100, 900]), \n",
    "                      np.array([200, 1100]))"
   ]
  },
  {
   "cell_type": "markdown",
   "metadata": {
    "slideshow": {
     "slide_type": "slide"
    }
   },
   "source": [
    "Each bird will also need a starting velocity. \n",
    "\n",
    "Let’s make these random.\n",
    "\n",
    "Let's let initial x velocities range over [0,10] and the y velocities over [−20,20]."
   ]
  },
  {
   "cell_type": "code",
   "execution_count": null,
   "metadata": {},
   "outputs": [],
   "source": [
    "velocities = new_flock(boid_count, \n",
    "                       np.array([0, -20]), \n",
    "                       np.array([10, 20]))\n",
    "velocities"
   ]
  },
  {
   "cell_type": "markdown",
   "metadata": {
    "slideshow": {
     "slide_type": "slide"
    }
   },
   "source": [
    "To find the position in the next timestep according to:\n",
    "\n",
    "$p_t = p_{t-1} + v_{t-1}$\n",
    "\n",
    "where:\n",
    "<br>$p=$ position of each bird\n",
    "<br>$v=$ velocity of each bird"
   ]
  },
  {
   "cell_type": "code",
   "execution_count": null,
   "metadata": {},
   "outputs": [],
   "source": [
    "positions += velocities"
   ]
  },
  {
   "cell_type": "markdown",
   "metadata": {
    "slideshow": {
     "slide_type": "slide"
    }
   },
   "source": [
    "### Animate\n",
    "Now we can animate our Boids, again by using the matplotlib animation tools."
   ]
  },
  {
   "cell_type": "code",
   "execution_count": null,
   "metadata": {
    "slideshow": {
     "slide_type": "slide"
    }
   },
   "outputs": [],
   "source": [
    "import numpy as np\n",
    "import matplotlib.pyplot as plt \n",
    "import matplotlib.animation as animation\n",
    "from matplotlib.animation import FFMpegWriter\n",
    "from matplotlib import animation, rc\n",
    "from IPython.display import HTML\n",
    "%matplotlib inline"
   ]
  },
  {
   "cell_type": "markdown",
   "metadata": {
    "slideshow": {
     "slide_type": "slide"
    }
   },
   "source": [
    "These are the steps for creating an animation using the `matplotlib.animation` package:\n",
    "\n",
    "1. Variables\n",
    "1. Figure window\n",
    "1. Axes within the figure window.\n",
    "1. Object(s) to animate\n",
    "1. Function (e.g. `animate`) to update simulation as a function of time\n",
    "1. Use the function `animation.FuncAnimation` to create the animation."
   ]
  },
  {
   "cell_type": "code",
   "execution_count": null,
   "metadata": {
    "slideshow": {
     "slide_type": "slide"
    }
   },
   "outputs": [],
   "source": [
    "# 1. Variables : define positions and velocities\n",
    "positions = new_flock(100, np.array([100, 900]), np.array([200, 1100]))\n",
    "velocities = new_flock(100, np.array([0, -20]), np.array([10, 20]))\n",
    "\n",
    "# 2. Figure window\n",
    "figure = plt.figure()                   \n",
    "\n",
    "# 3. Axes within the figure window\n",
    "axes = plt.axes(xlim=(0, limits[0]),    # choose the figure size\n",
    "                ylim=(0, limits[1]))\n",
    "\n",
    "# 4. Object to animate : scatter plot\n",
    "scatter = axes.scatter(positions[0, :], # x values\n",
    "                       positions[1, :], # y values\n",
    "                       marker='o', \n",
    "                       edgecolor='k', \n",
    "                       lw=0.5)"
   ]
  },
  {
   "cell_type": "markdown",
   "metadata": {
    "slideshow": {
     "slide_type": "slide"
    }
   },
   "source": [
    "The function to run to update each frame of the animation:"
   ]
  },
  {
   "cell_type": "code",
   "execution_count": null,
   "metadata": {},
   "outputs": [],
   "source": [
    "def update_boids(positions, velocities):\n",
    "    \"Updates the position of each boid\"\n",
    "    positions += velocities\n",
    "\n",
    "def animate(frame):\n",
    "    update_boids(positions, velocities)\n",
    "    # change the positions in the figure\n",
    "    scatter.set_offsets(positions.transpose())   "
   ]
  },
  {
   "cell_type": "markdown",
   "metadata": {
    "slideshow": {
     "slide_type": "slide"
    }
   },
   "source": [
    "Create the animation using `FuncAnimation`:"
   ]
  },
  {
   "cell_type": "code",
   "execution_count": null,
   "metadata": {},
   "outputs": [],
   "source": [
    "anim = animation.FuncAnimation(figure,      # The figure object to animate \n",
    "                               animate,     # Function to call at each frame\n",
    "                               frames=50,   # Delay between frames ms (default = 2)\n",
    "                               interval=50) # Number of frames"
   ]
  },
  {
   "cell_type": "code",
   "execution_count": null,
   "metadata": {
    "slideshow": {
     "slide_type": "slide"
    }
   },
   "outputs": [],
   "source": [
    "anim.save('img/boids_basic.mp4')"
   ]
  },
  {
   "cell_type": "code",
   "execution_count": null,
   "metadata": {
    "slideshow": {
     "slide_type": "slide"
    }
   },
   "outputs": [],
   "source": [
    "from IPython.display import HTML\n",
    "HTML(anim.to_jshtml())"
   ]
  },
  {
   "cell_type": "markdown",
   "metadata": {
    "slideshow": {
     "slide_type": "slide"
    }
   },
   "source": [
    "### Cohesion\n",
    "\n",
    "Boids try to fly towards the centre of mass of the group"
   ]
  },
  {
   "cell_type": "code",
   "execution_count": null,
   "metadata": {},
   "outputs": [],
   "source": [
    "positions = new_flock(4, np.array([100, 900]), np.array([200, 1100]))\n",
    "velocities = new_flock(4, np.array([0, -20]), np.array([10, 20]))\n",
    "\n",
    "COM = np.mean(positions, 1) # mean x and y position (along row axis)\n",
    "\n",
    "positions.shape"
   ]
  },
  {
   "cell_type": "markdown",
   "metadata": {
    "slideshow": {
     "slide_type": "slide"
    }
   },
   "source": [
    "Find the x and y components of the vector from each position to the middle. "
   ]
  },
  {
   "cell_type": "code",
   "execution_count": null,
   "metadata": {},
   "outputs": [],
   "source": [
    "cohesion = positions - COM[:, np.newaxis]"
   ]
  },
  {
   "cell_type": "markdown",
   "metadata": {
    "slideshow": {
     "slide_type": "slide"
    }
   },
   "source": [
    "Substract the velocity pulling the boid towarsd the COM from the total velcoity of each individual. "
   ]
  },
  {
   "cell_type": "code",
   "execution_count": null,
   "metadata": {},
   "outputs": [],
   "source": [
    "cohesion_strength = 0.01\n",
    "\n",
    "velocities = velocities - (cohesion * cohesion_strength)"
   ]
  },
  {
   "cell_type": "markdown",
   "metadata": {
    "slideshow": {
     "slide_type": "slide"
    }
   },
   "source": [
    "Let’s update our function, and animate that:"
   ]
  },
  {
   "cell_type": "code",
   "execution_count": null,
   "metadata": {},
   "outputs": [],
   "source": [
    "def update_boids(positions, velocities):\n",
    "    # Cohesion\n",
    "    cohesion_strength = 0.01                     # cohesion parameter\n",
    "    COM = np.mean(positions, 1)                  # centre of mass of flock\n",
    "    cohesion = positions - COM[:, np.newaxis]    # distance from each boid to COM\n",
    "    velocities -= cohesion * cohesion_strength   # update velocities\n",
    "    \n",
    "    positions += velocities  # update positions\n",
    "    \n",
    "def animate(frame):\n",
    "    update_boids(positions, velocities)\n",
    "    scatter.set_offsets(positions.transpose())"
   ]
  },
  {
   "cell_type": "code",
   "execution_count": null,
   "metadata": {
    "slideshow": {
     "slide_type": "slide"
    }
   },
   "outputs": [],
   "source": [
    "positions = new_flock(4, np.array([100, 900]), np.array([200, 1100]))\n",
    "velocities = new_flock(4, np.array([0, -20]), np.array([10, 20]))\n",
    "\n",
    "anim = animation.FuncAnimation(figure, \n",
    "                               animate,\n",
    "                               frames=200, \n",
    "                               interval=50)"
   ]
  },
  {
   "cell_type": "code",
   "execution_count": null,
   "metadata": {
    "slideshow": {
     "slide_type": "slide"
    }
   },
   "outputs": [],
   "source": [
    "anim.save('img/boids_cohesion.mp4')\n"
   ]
  },
  {
   "cell_type": "code",
   "execution_count": null,
   "metadata": {
    "slideshow": {
     "slide_type": "slide"
    }
   },
   "outputs": [],
   "source": [
    "HTML(anim.to_jshtml())"
   ]
  },
  {
   "cell_type": "markdown",
   "metadata": {
    "slideshow": {
     "slide_type": "slide"
    }
   },
   "source": [
    "### Seperation\n",
    "Avoid collisions with nearby flockmates"
   ]
  },
  {
   "cell_type": "markdown",
   "metadata": {
    "slideshow": {
     "slide_type": "slide"
    }
   },
   "source": [
    "We want to find the distance from every boid to every other boid (including itself). \n",
    "\n",
    "We can use broadcasting to subtract every value in an array from every value an array.\n",
    "\n",
    "Example:"
   ]
  },
  {
   "cell_type": "code",
   "execution_count": null,
   "metadata": {
    "slideshow": {
     "slide_type": "slide"
    }
   },
   "outputs": [],
   "source": [
    "a = np.array([1, 2, 3, 4])\n",
    "\n",
    "a"
   ]
  },
  {
   "cell_type": "code",
   "execution_count": null,
   "metadata": {
    "slideshow": {
     "slide_type": "slide"
    }
   },
   "outputs": [],
   "source": [
    "a[np.newaxis, :]"
   ]
  },
  {
   "cell_type": "code",
   "execution_count": null,
   "metadata": {},
   "outputs": [],
   "source": [
    "a[:, np.newaxis]"
   ]
  },
  {
   "cell_type": "code",
   "execution_count": null,
   "metadata": {
    "scrolled": true
   },
   "outputs": [],
   "source": [
    "a[np.newaxis, :] - a[:, np.newaxis]"
   ]
  },
  {
   "cell_type": "code",
   "execution_count": null,
   "metadata": {
    "slideshow": {
     "slide_type": "-"
    }
   },
   "outputs": [],
   "source": [
    "(a[np.newaxis, :] - a[:, np.newaxis]).shape"
   ]
  },
  {
   "cell_type": "markdown",
   "metadata": {
    "slideshow": {
     "slide_type": "slide"
    }
   },
   "source": [
    "We can subtract all x,y positions..."
   ]
  },
  {
   "cell_type": "code",
   "execution_count": null,
   "metadata": {
    "scrolled": true
   },
   "outputs": [],
   "source": [
    "positions[:, np.newaxis, :].shape"
   ]
  },
  {
   "cell_type": "markdown",
   "metadata": {
    "slideshow": {
     "slide_type": "slide"
    }
   },
   "source": [
    "...from all x,y positions"
   ]
  },
  {
   "cell_type": "code",
   "execution_count": null,
   "metadata": {},
   "outputs": [],
   "source": [
    "positions[:, :, np.newaxis].shape"
   ]
  },
  {
   "cell_type": "code",
   "execution_count": null,
   "metadata": {
    "slideshow": {
     "slide_type": "slide"
    }
   },
   "outputs": [],
   "source": [
    "separations = positions[:, np.newaxis, :] - positions[:, :, np.newaxis]"
   ]
  },
  {
   "cell_type": "code",
   "execution_count": null,
   "metadata": {},
   "outputs": [],
   "source": [
    "separations.shape"
   ]
  },
  {
   "cell_type": "code",
   "execution_count": null,
   "metadata": {
    "slideshow": {
     "slide_type": "slide"
    }
   },
   "outputs": [],
   "source": [
    "positions = new_flock(4, np.array([100, 900]), np.array([200, 1100]))\n",
    "velocities = new_flock(4, np.array([0, -20]), np.array([10, 20]))"
   ]
  },
  {
   "cell_type": "markdown",
   "metadata": {
    "slideshow": {
     "slide_type": "slide"
    }
   },
   "source": [
    "Find the elementwise sum of squared x and y value for each distance"
   ]
  },
  {
   "cell_type": "code",
   "execution_count": null,
   "metadata": {},
   "outputs": [],
   "source": [
    "sum_square_dis = np.sum(separations**2, 0)\n",
    "sum_square_dis.shape"
   ]
  },
  {
   "cell_type": "code",
   "execution_count": null,
   "metadata": {
    "slideshow": {
     "slide_type": "slide"
    }
   },
   "outputs": [],
   "source": [
    "alert_distance = 2000\n",
    "close_birds = sum_square_dis < alert_distance\n",
    "close_birds"
   ]
  },
  {
   "cell_type": "markdown",
   "metadata": {
    "slideshow": {
     "slide_type": "slide"
    }
   },
   "source": [
    "Find the direction distances only to those birds which are too close:"
   ]
  },
  {
   "cell_type": "code",
   "execution_count": null,
   "metadata": {},
   "outputs": [],
   "source": [
    "separations_if_close = np.copy(separations) # copy of all distances\n",
    "\n",
    "far_map = np.logical_not(close_birds)      # map of far away birds\n",
    "far_map\n"
   ]
  },
  {
   "cell_type": "markdown",
   "metadata": {
    "slideshow": {
     "slide_type": "slide"
    }
   },
   "source": [
    "Set x and y values in separations_if_close to zero if they are far away:"
   ]
  },
  {
   "cell_type": "code",
   "execution_count": null,
   "metadata": {},
   "outputs": [],
   "source": [
    "separations_if_close[0, :, :][far_map] = 0 # x values\n",
    "separations_if_close[1, :, :][far_map] = 0 # y values\n",
    "separations_if_close \n",
    "separations_if_close.shape"
   ]
  },
  {
   "cell_type": "markdown",
   "metadata": {
    "slideshow": {
     "slide_type": "slide"
    }
   },
   "source": [
    "Sum of x distance and y distance to closest boids for each boid"
   ]
  },
  {
   "cell_type": "code",
   "execution_count": null,
   "metadata": {},
   "outputs": [],
   "source": [
    "np.sum(separations_if_close, 2) "
   ]
  },
  {
   "cell_type": "markdown",
   "metadata": {
    "slideshow": {
     "slide_type": "slide"
    }
   },
   "source": [
    "Add the velocity seperating the boids to the total velcoity of each individual."
   ]
  },
  {
   "cell_type": "code",
   "execution_count": null,
   "metadata": {},
   "outputs": [],
   "source": [
    "velocities = velocities + np.sum(separations_if_close, 2)"
   ]
  },
  {
   "cell_type": "markdown",
   "metadata": {
    "slideshow": {
     "slide_type": "slide"
    }
   },
   "source": [
    "Let's update the `update_boids` function to include the seperation rule:"
   ]
  },
  {
   "cell_type": "code",
   "execution_count": null,
   "metadata": {},
   "outputs": [],
   "source": [
    "def update_boids(positions, velocities):\n",
    "    # Cohesion\n",
    "    cohesion_strength = 0.01                      # cohesion parameter\n",
    "    COM = np.mean(positions, 1)                   # centre of mass of flock\n",
    "    cohesion = positions - COM[:, np.newaxis]     # distance from each boid to COM\n",
    "    velocities -= cohesion * cohesion_strength    # update velocities\n",
    "\n",
    "    # Seperation\n",
    "    separations = positions[:, np.newaxis, :] - positions[:, :, np.newaxis] # all distances between boids \n",
    "    sum_squared_dis = np.sum(separations**2, 0)   # sum of squared distances\n",
    "    alert_distance = 100                          # threshold for seperation\n",
    "    far_map = sum_squared_dis > alert_distance    # boolean map of far boids \n",
    "    separations_if_close = np.copy(separations)   # copy of all distances between boids \n",
    "    separations_if_close[0, :, :][far_map] = 0    # remove far boids\n",
    "    separations_if_close[1, :, :][far_map] = 0\n",
    "    velocities += np.sum(separations_if_close, 1) # update velocity of boids\n",
    "\n",
    "    positions += velocities  # update positions\n",
    "    \n",
    "def animate(frame):\n",
    "    update_boids(positions, velocities)\n",
    "    scatter.set_offsets(positions.transpose())"
   ]
  },
  {
   "cell_type": "code",
   "execution_count": null,
   "metadata": {
    "slideshow": {
     "slide_type": "slide"
    }
   },
   "outputs": [],
   "source": [
    "positions = new_flock(100, np.array([100, 900]), np.array([200, 1100]))\n",
    "velocities = new_flock(100, np.array([0, -20]), np.array([10, 20]))\n",
    "\n",
    "anim = animation.FuncAnimation(figure, \n",
    "                               animate,\n",
    "                               frames=200, \n",
    "                               interval=50)\n",
    "\n",
    "\n"
   ]
  },
  {
   "cell_type": "code",
   "execution_count": null,
   "metadata": {
    "slideshow": {
     "slide_type": "slide"
    }
   },
   "outputs": [],
   "source": [
    "anim.save('img/boids_seperation.mp4')\n",
    "\n",
    "HTML(anim.to_jshtml())"
   ]
  },
  {
   "cell_type": "markdown",
   "metadata": {
    "slideshow": {
     "slide_type": "slide"
    }
   },
   "source": [
    "### Alignment \n",
    "\n",
    "Attempt to match velocity with nearby flockmates"
   ]
  },
  {
   "cell_type": "code",
   "execution_count": null,
   "metadata": {
    "slideshow": {
     "slide_type": "slide"
    }
   },
   "outputs": [],
   "source": [
    "def update_boids(positions, velocities):\n",
    "    # Cohesion\n",
    "    cohesion_strength = 0.01                      # cohesion parameter\n",
    "    COM = np.mean(positions, 1)                   # centre of mass of flock\n",
    "    cohesion = positions - COM[:, np.newaxis]     # distance from each boid to COM\n",
    "    velocities -= cohesion * cohesion_strength    # update velocities\n",
    "\n",
    "    # Seperation\n",
    "    separations = positions[:, np.newaxis, :] - positions[:, :, np.newaxis] # all distances between boids \n",
    "    sum_squared_dis = np.sum(separations**2, 0)   # sum of squared distances\n",
    "    alert_distance = 100                          # threshold for seperation\n",
    "    far_map = sum_squared_dis > alert_distance    # boolean map of far boids \n",
    "    separations_if_close = np.copy(separations)   # copy of all distances between boids \n",
    "    separations_if_close[0, :, :][far_map] = 0    # remove far boids\n",
    "    separations_if_close[1, :, :][far_map] = 0\n",
    "    velocities += np.sum(separations_if_close, 1) # update velocity of boids\n",
    "\n",
    "    # Alignment\n",
    "    velocity_dif = velocities[:, np.newaxis, :] - velocities[:, :, np.newaxis] # all differences in velocity between boids \n",
    "    form_flying_distance = 10000                                # threshold for formation flying\n",
    "    form_flying_strength = 0.125                                # formation flying parameter\n",
    "    very_far_map = sum_squared_dis > form_flying_distance       # boolean map of very far boids\n",
    "    velocity_dif_if_close = np.copy(velocity_dif)               # copy of all differences in velocity between boids \n",
    "    velocity_dif_if_close[0, :, :][very_far_map] = 0            # remove very far boids\n",
    "    velocity_dif_if_close[1, :, :][very_far_map] = 0\n",
    "    velocities -= np.mean(velocity_dif_if_close, 1) * form_flying_strength     # update velocity of boids\n",
    "\n",
    "    positions += velocities                       # update positions\n",
    "    \n"
   ]
  },
  {
   "cell_type": "code",
   "execution_count": null,
   "metadata": {
    "slideshow": {
     "slide_type": "slide"
    }
   },
   "outputs": [],
   "source": [
    "def animate(frame):\n",
    "    update_boids(positions, velocities)\n",
    "    scatter.set_offsets(positions.transpose())"
   ]
  },
  {
   "cell_type": "code",
   "execution_count": null,
   "metadata": {
    "slideshow": {
     "slide_type": "slide"
    }
   },
   "outputs": [],
   "source": [
    "positions = new_flock(100, np.array([100, 900]), np.array([200, 1100]))\n",
    "velocities = new_flock(100, np.array([0, -20]), np.array([10, 20]))\n",
    "\n",
    "anim = animation.FuncAnimation(figure, \n",
    "                               animate,\n",
    "                               frames=400, \n",
    "                               interval=50)"
   ]
  },
  {
   "cell_type": "code",
   "execution_count": null,
   "metadata": {
    "scrolled": true,
    "slideshow": {
     "slide_type": "slide"
    }
   },
   "outputs": [],
   "source": [
    "anim.save('img/boids_alignment.mp4')\n",
    "\n",
    "HTML(anim.to_jshtml())"
   ]
  },
  {
   "cell_type": "markdown",
   "metadata": {
    "slideshow": {
     "slide_type": "slide"
    }
   },
   "source": [
    "Our boids eventually travel outside of the plot window. \n",
    "\n",
    "Like the previous simulations we can setconditions that effect the boundary of the simulation. \n",
    "\n",
    "In the boids simulation, the boids avoid the walls by *steering*, heading away from the wall on a heading normal to it's surface.\n",
    "\n",
    "The wall does not provide a physical boundary in this case.\n",
    "\n",
    "The boid can, for example, fly through the boundary. "
   ]
  },
  {
   "cell_type": "markdown",
   "metadata": {
    "slideshow": {
     "slide_type": "slide"
    }
   },
   "source": [
    "We define parameters for the distance from the wall at which we want a repulsive force to act. "
   ]
  },
  {
   "cell_type": "code",
   "execution_count": null,
   "metadata": {},
   "outputs": [],
   "source": [
    "wall_alert_distance = 1\n",
    "wall_strength = 1"
   ]
  },
  {
   "cell_type": "code",
   "execution_count": null,
   "metadata": {
    "slideshow": {
     "slide_type": "slide"
    }
   },
   "outputs": [],
   "source": [
    "positions = new_flock(10, np.array([100, 900]), np.array([200, 1100]))\n",
    "velocities = new_flock(10, np.array([0, -20]), np.array([10, 20]))"
   ]
  },
  {
   "cell_type": "code",
   "execution_count": null,
   "metadata": {
    "slideshow": {
     "slide_type": "slide"
    }
   },
   "outputs": [],
   "source": [
    "right = np.copy(positions[0, :]) - width    # x distance from roght wall\n",
    "far_map = right < wall_alert_distance       # map of x vals far from wall\n",
    "right[far_map] = 0                          # remove boids far from wall\n",
    "velocities[0, :] +=  right * -wall_strength # update velocity of boids close to wall   \n",
    "    "
   ]
  },
  {
   "cell_type": "code",
   "execution_count": null,
   "metadata": {
    "slideshow": {
     "slide_type": "slide"
    }
   },
   "outputs": [],
   "source": [
    "def update_boids(positions, velocities):\n",
    "    # Cohesion\n",
    "    cohesion_strength = 0.01                      # cohesion parameter\n",
    "    COM = np.mean(positions, 1)                   # centre of mass of flock\n",
    "    cohesion = positions - COM[:, np.newaxis]     # distance from each boid to COM\n",
    "    velocities -= cohesion * cohesion_strength    # update velocities\n",
    "\n",
    "    # Seperation\n",
    "    separations = positions[:, np.newaxis, :] - positions[:, :, np.newaxis] # all distances between boids \n",
    "    sum_squared_dis = np.sum(separations**2, 0)   # sum of squared distances\n",
    "    alert_distance = 100                          # threshold for seperation\n",
    "    far_map = sum_squared_dis > alert_distance    # boolean map of far boids \n",
    "    separations_if_close = np.copy(separations)   # copy of all distances between boids \n",
    "    separations_if_close[0, :, :][far_map] = 0    # remove far boids\n",
    "    separations_if_close[1, :, :][far_map] = 0\n",
    "    velocities += np.sum(separations_if_close, 1) # update velocity of boids\n",
    "\n",
    "    # Alignment\n",
    "    velocity_dif = velocities[:, np.newaxis, :] - velocities[:, :, np.newaxis] # all differences in velocity between boids \n",
    "    form_flying_distance = 10000                                # threshold for formation flying\n",
    "    form_flying_strength = 0.125                                # formation flying parameter\n",
    "    very_far_map = sum_squared_dis > form_flying_distance       # boolean map of very far boids\n",
    "    velocity_dif_if_close = np.copy(velocity_dif)               # copy of all differences in velocity between boids \n",
    "    velocity_dif_if_close[0, :, :][very_far_map] = 0            # remove very far boids\n",
    "    velocity_dif_if_close[1, :, :][very_far_map] = 0\n",
    "    velocities -= np.mean(velocity_dif_if_close, 1) * form_flying_strength     # update velocity of boids\n",
    "\n",
    "    # Simulate wall\n",
    "    wall_alert_distance = 1\n",
    "    wall_strength = 3\n",
    "    \n",
    "    left = np.copy(positions[0, :])                # x distance from left wall\n",
    "    far_map = left > wall_alert_distance           # map of x vals far from left wall\n",
    "    left[far_map] = 0                              # remove boids far from wall\n",
    "    velocities[0, :] += left * -wall_strength      # update velocity of boids close to wall   \n",
    "    \n",
    "    right = np.copy(positions[0, :]) - width        # x distance from right wall\n",
    "    far_map = right < wall_alert_distance           # map of x vals far from wall\n",
    "    right[far_map] = 0                              # remove boids far from wall\n",
    "    velocities[0, :] +=  right * -wall_strength     # update velocity of boids close to wall   \n",
    "    \n",
    "    top = np.copy(positions[1, :]) \n",
    "    far_map = top > wall_alert_distance\n",
    "    top[far_map] = 0\n",
    "    velocities[1, :] +=  top * -wall_strength \n",
    "    \n",
    "    bottom = np.copy(positions[1, :]) - height\n",
    "    far_map = bottom < wall_alert_distance\n",
    "    bottom[far_map] = 0\n",
    "    velocities[1, :] +=  bottom * -wall_strength \n",
    "    \n",
    "    positions += velocities                       # update positions\n",
    "    \n",
    "def animate(frame):\n",
    "    update_boids(positions, velocities)\n",
    "    scatter.set_offsets(positions.transpose())"
   ]
  },
  {
   "cell_type": "code",
   "execution_count": null,
   "metadata": {
    "scrolled": true,
    "slideshow": {
     "slide_type": "slide"
    }
   },
   "outputs": [],
   "source": [
    "# bounce off right wall\n",
    "positions = new_flock(100, np.array([500, 900]), np.array([700, 1100]))\n",
    "velocities = new_flock(100, np.array([0, -20]), np.array([10, 20])) \n",
    "\n",
    "anim.save('img/boids_rightbounce.mp4')\n",
    "\n",
    "HTML(anim.to_jshtml())"
   ]
  },
  {
   "cell_type": "code",
   "execution_count": null,
   "metadata": {
    "slideshow": {
     "slide_type": "slide"
    }
   },
   "outputs": [],
   "source": [
    "# bounce off left wall\n",
    "positions = new_flock(100, np.array([500, 900]), np.array([700, 1100]))\n",
    "velocities = new_flock(100, np.array([0, -20]), np.array([10, 20])) # right bounce\n",
    "\n",
    "anim.save('img/boids_leftbounce.mp4')\n",
    "\n",
    "HTML(anim.to_jshtml())"
   ]
  },
  {
   "cell_type": "code",
   "execution_count": null,
   "metadata": {
    "slideshow": {
     "slide_type": "slide"
    }
   },
   "outputs": [],
   "source": [
    "# bounce off top wall\n",
    "positions = new_flock(100, np.array([500, 900]), np.array([700, 1100]))\n",
    "velocities = new_flock(100, np.array([-20, -10]), np.array([20, 0])) # bottom bounce\n",
    "\n",
    "anim.save('img/boids_topbounce.mp4')\n",
    "\n",
    "HTML(anim.to_jshtml())"
   ]
  },
  {
   "cell_type": "code",
   "execution_count": null,
   "metadata": {
    "slideshow": {
     "slide_type": "slide"
    }
   },
   "outputs": [],
   "source": [
    "# bounce off top wall\n",
    "positions = new_flock(100, np.array([500, 900]), np.array([700, 1100]))\n",
    "velocities = new_flock(100, np.array([-20, 0]), np.array([20, 10])) # top bounce\n",
    "\n",
    "anim.save('img/boids_bottombounce.mp4')\n",
    "\n",
    "HTML(anim.to_jshtml())"
   ]
  },
  {
   "cell_type": "code",
   "execution_count": null,
   "metadata": {
    "slideshow": {
     "slide_type": "slide"
    }
   },
   "outputs": [],
   "source": [
    "# random direction\n",
    "positions = new_flock(100, np.array([500, 900]), np.array([700, 1100]))\n",
    "velocities = new_flock(100, np.array([-40, -60]), np.array([40, 50])) # top bounce\n",
    "\n",
    "\n",
    "\n",
    "anim = animation.FuncAnimation(figure, \n",
    "                               animate,\n",
    "                               frames=200, \n",
    "                               interval=20)\n",
    "\n",
    "\n",
    "anim.save('img/boids_alignment.mp4')\n",
    "\n",
    "HTML(anim.to_jshtml())"
   ]
  },
  {
   "cell_type": "markdown",
   "metadata": {
    "slideshow": {
     "slide_type": "slide"
    }
   },
   "source": [
    "To add more complex environemnts and behaviours, we need a new appraoch that allows us to handle large numbers of individuals.\n",
    "\n",
    "<img src=\"img/boids01.gif\" alt=\"Drawing\" style=\"width: 300px;\"/>\n",
    "\n",
    "This will be the topic of next weeek's class. "
   ]
  },
  {
   "cell_type": "markdown",
   "metadata": {
    "slideshow": {
     "slide_type": "slide"
    }
   },
   "source": [
    "By creating layers of numpy arrays you can produce simulate complex and realistic behaviour quickly without requiring much memory. \n",
    "\n",
    "For example, you could introduce another array `accelerations`:  \n",
    "- gravity acting on every particle\n",
    "- acceleration due to a collision"
   ]
  },
  {
   "cell_type": "markdown",
   "metadata": {
    "slideshow": {
     "slide_type": "slide"
    }
   },
   "source": [
    "# Summary\n",
    "- Grid-based simulations are a fast and computationally light way to model complex and rule-based systems and environments.\n",
    "- Numpy arrays are a useful way to represent a grid-based simulation due to built-in elementwise operations and broadcasting.\n",
    "- Python provides a number of ways for creating animated visualisations of simulation data : \n",
    "    - capturing an RGB colour array as a .gif file\n",
    "    - using the `matplotlib.animation` package to animate a figure\n",
    "    \n",
    "- Python arrays are can also be useful way to represent large collections of interacting (simple!) agents.\n",
    "\n",
    "<br><img src=\"img/Reaction-Diffusion_3D.gif\n",
    "\" alt=\"Drawing\" style=\"width: 200px;\"/>"
   ]
  },
  {
   "cell_type": "markdown",
   "metadata": {
    "slideshow": {
     "slide_type": "slide"
    }
   },
   "source": [
    "<a id='ReviewExercises'></a>\n",
    "# 3. Review Exercises"
   ]
  },
  {
   "cell_type": "markdown",
   "metadata": {
    "slideshow": {
     "slide_type": "slide"
    }
   },
   "source": [
    "# Review Exercise 1 : Game of Life\n",
    "\n",
    "Create recreating the game of life example. \n",
    "\n",
    "Try populating the grid with different starting conditions (you can find some famous initial conditions by searching the internet).\n",
    "\n",
    "Try changing the rules of the game. \n",
    "\n",
    "Save the results of your simulation as an animation. "
   ]
  },
  {
   "cell_type": "markdown",
   "metadata": {
    "slideshow": {
     "slide_type": "slide"
    }
   },
   "source": [
    "# Review Exercise 2 : Particles in a box\n",
    "\n",
    "In the boids simulation, the boids avoid the walls by *steering*, heading away from the wall on a heading normal to it's surface.\n",
    "\n",
    "The wall does not provide a physical boundary in this case.\n",
    "\n",
    "The boid can, for example, fly through the boundary. "
   ]
  },
  {
   "cell_type": "markdown",
   "metadata": {
    "slideshow": {
     "slide_type": "slide"
    }
   },
   "source": [
    "Let's change the problem setting slightly.\n",
    "\n",
    "- 10 particles\n",
    "- random starting position\n",
    "- random starting velocity\n",
    "- particles can occupy the same space (ignore collisions with other particles)\n",
    "- if a particle collides with the simulation boundary, it bounces off...\n",
    "\n"
   ]
  },
  {
   "cell_type": "markdown",
   "metadata": {
    "slideshow": {
     "slide_type": "slide"
    }
   },
   "source": [
    "The basic principle when bouncing is that the incoming angle shoudl be equal to the outgong angle. \n",
    "\n",
    "<img src=\"img/ball.png\" alt=\"Drawing\" style=\"width: 300px;\"/>"
   ]
  },
  {
   "cell_type": "markdown",
   "metadata": {
    "slideshow": {
     "slide_type": "slide"
    }
   },
   "source": [
    "We can buid a simple kinematic model of the particle collision by neglecting forces (e.g. friction):\n",
    "- if a particle hits a surface parallel to x axis, $v_y = v_y \\times - 1$#\n",
    "- if a particle hits a surface parallel to y axis, $v_x = v_x \\times - 1$"
   ]
  },
  {
   "cell_type": "markdown",
   "metadata": {
    "slideshow": {
     "slide_type": "slide"
    }
   },
   "source": [
    "Build a simulation of the problem setting described.\n",
    "\n",
    "Save an animation of your simulation."
   ]
  },
  {
   "cell_type": "code",
   "execution_count": null,
   "metadata": {
    "slideshow": {
     "slide_type": "slide"
    }
   },
   "outputs": [],
   "source": [
    "import io \n",
    "import base64 \n",
    "from IPython.display import HTML\n",
    "video = io.open('img/bouncing_particles.mp4', 'r+b').read()\n",
    "encoded = base64.b64encode(video)\n",
    "HTML(data='''<video width = \"500\"  alt=\"test\" controls>\n",
    "                <source src=\"data:video/mp4;base64,{0}\" type=\"video/mp4\" />\n",
    "             </video>'''.format(encoded.decode('ascii')))"
   ]
  },
  {
   "cell_type": "code",
   "execution_count": null,
   "metadata": {
    "slideshow": {
     "slide_type": "slide"
    }
   },
   "outputs": [],
   "source": []
  }
 ],
 "metadata": {
  "celltoolbar": "Slideshow",
  "kernelspec": {
   "display_name": "Python 3",
   "language": "python",
   "name": "python3"
  },
  "language_info": {
   "codemirror_mode": {
    "name": "ipython",
    "version": 3
   },
   "file_extension": ".py",
   "mimetype": "text/x-python",
   "name": "python",
   "nbconvert_exporter": "python",
   "pygments_lexer": "ipython3",
   "version": "3.7.4"
  }
 },
 "nbformat": 4,
 "nbformat_minor": 2
}
