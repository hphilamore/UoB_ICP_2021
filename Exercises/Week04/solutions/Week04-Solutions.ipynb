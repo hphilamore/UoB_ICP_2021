{
 "cells": [
  {
   "cell_type": "markdown",
   "metadata": {},
   "source": [
    "# Part 1 - Functions"
   ]
  },
  {
   "cell_type": "markdown",
   "metadata": {},
   "source": [
    "## Exercise 1"
   ]
  },
  {
   "cell_type": "markdown",
   "metadata": {},
   "source": [
    "***\n",
    "**Question 1.**"
   ]
  },
  {
   "cell_type": "code",
   "execution_count": 15,
   "metadata": {},
   "outputs": [],
   "source": [
    "def RetSqaured(Number):\n",
    "    # Returns the square\n",
    "    Squared = Number ** 2\n",
    "    return Squared"
   ]
  },
  {
   "cell_type": "markdown",
   "metadata": {},
   "source": [
    "***\n",
    "**Question 2.**"
   ]
  },
  {
   "cell_type": "code",
   "execution_count": 18,
   "metadata": {},
   "outputs": [
    {
     "name": "stdout",
     "output_type": "stream",
     "text": [
      "1\n",
      "4\n",
      "9\n",
      "16\n",
      "25\n",
      "36\n",
      "49\n",
      "64\n",
      "81\n",
      "100\n"
     ]
    }
   ],
   "source": [
    "for n in range(1,11):\n",
    "    print(RetSqaured(n))"
   ]
  },
  {
   "cell_type": "markdown",
   "metadata": {},
   "source": [
    "***\n",
    "**Question 3.**"
   ]
  },
  {
   "cell_type": "code",
   "execution_count": 19,
   "metadata": {},
   "outputs": [],
   "source": [
    "def CalcPower(Number, Power):\n",
    "    return Number ** Power"
   ]
  },
  {
   "cell_type": "markdown",
   "metadata": {},
   "source": [
    "***\n",
    "**Question 4.**"
   ]
  },
  {
   "cell_type": "code",
   "execution_count": 20,
   "metadata": {},
   "outputs": [
    {
     "name": "stdout",
     "output_type": "stream",
     "text": [
      "2\n",
      "4\n",
      "8\n",
      "16\n",
      "32\n",
      "64\n",
      "128\n",
      "256\n",
      "512\n",
      "1024\n"
     ]
    }
   ],
   "source": [
    "for p in range(1, 11):\n",
    "    print(CalcPower(2, p))"
   ]
  },
  {
   "cell_type": "markdown",
   "metadata": {},
   "source": [
    "***\n",
    "**Question 5.**"
   ]
  },
  {
   "cell_type": "code",
   "execution_count": 22,
   "metadata": {},
   "outputs": [],
   "source": [
    "def CalcPower(Number, Power = 1):\n",
    "    return Number ** Power"
   ]
  },
  {
   "cell_type": "markdown",
   "metadata": {},
   "source": [
    "***\n",
    "**Question 6.** Here's one solution to this problem"
   ]
  },
  {
   "cell_type": "code",
   "execution_count": 23,
   "metadata": {},
   "outputs": [
    {
     "name": "stdout",
     "output_type": "stream",
     "text": [
      "[2, 8, 16]\n"
     ]
    }
   ],
   "source": [
    "def CalcPowers(Number, Powers):\n",
    "    ans = []\n",
    "    for p in Powers:\n",
    "        ans.append(Number ** p)\n",
    "    return ans\n",
    "\n",
    "print(CalcPowers(2, [1, 3, 4]))"
   ]
  },
  {
   "cell_type": "markdown",
   "metadata": {},
   "source": [
    "We can also solve this problem using list comprehensions"
   ]
  },
  {
   "cell_type": "code",
   "execution_count": 24,
   "metadata": {},
   "outputs": [
    {
     "name": "stdout",
     "output_type": "stream",
     "text": [
      "[2, 8, 16]\n"
     ]
    }
   ],
   "source": [
    "def CalcPowers(Number, Powers):\n",
    "    return [Number ** p for p in Powers]\n",
    "\n",
    "print(CalcPowers(2, [1, 3, 4]))"
   ]
  },
  {
   "cell_type": "markdown",
   "metadata": {},
   "source": [
    "The unpacking operator * can also be used when dealing with an unknown number of arguments"
   ]
  },
  {
   "cell_type": "markdown",
   "metadata": {},
   "source": [
    "***\n",
    "**Question 7.**"
   ]
  },
  {
   "cell_type": "code",
   "execution_count": 28,
   "metadata": {},
   "outputs": [
    {
     "name": "stdout",
     "output_type": "stream",
     "text": [
      "0.5\n",
      "undefined\n"
     ]
    }
   ],
   "source": [
    "def inverse(x):\n",
    "    if x == 0:\n",
    "        return 'undefined'\n",
    "    else:\n",
    "        return 1 / x\n",
    "\n",
    "print(inverse(2))\n",
    "print(inverse(0))"
   ]
  },
  {
   "cell_type": "markdown",
   "metadata": {},
   "source": [
    "***\n",
    "**Question 8.**"
   ]
  },
  {
   "cell_type": "code",
   "execution_count": 29,
   "metadata": {},
   "outputs": [
    {
     "name": "stdout",
     "output_type": "stream",
     "text": [
      "Help on function swap in module __main__:\n",
      "\n",
      "swap(a, b)\n",
      "    This function swaps the values of two variables a and b by \n",
      "    returning them in the opposite order.  This function should\n",
      "    be called as follows: a, b = swap(a,b)\n",
      "\n",
      "{1, 3, 5}\n",
      "['red', 'blue', 'green']\n"
     ]
    }
   ],
   "source": [
    "def swap(a, b):\n",
    "    \"\"\"\n",
    "    This function swaps the values of two variables a and b by \n",
    "    returning them in the opposite order.  This function should\n",
    "    be called as follows: a, b = swap(a, b)\n",
    "    \"\"\"\n",
    "    return (b, a)\n",
    "\n",
    "help(swap)\n",
    "\n",
    "a = ['red', 'blue', 'green']\n",
    "b = {1, 3, 5}\n",
    "\n",
    "a, b = swap(a, b)\n",
    "print(a)\n",
    "print(b)"
   ]
  },
  {
   "cell_type": "markdown",
   "metadata": {},
   "source": [
    "## Exercise 2 - 99 Bottles of Beer"
   ]
  },
  {
   "cell_type": "markdown",
   "metadata": {},
   "source": [
    "***\n",
    "**Question 1.**: Here we create a string that stores the verse.  Due to the length of the string, we contain it in round brackets () and then break it across multiple lines"
   ]
  },
  {
   "cell_type": "code",
   "execution_count": 56,
   "metadata": {},
   "outputs": [
    {
     "name": "stdout",
     "output_type": "stream",
     "text": [
      "99 bottles of beer on the wall, 99 bottles of beer. Take one down, pass it around, 98 bottles of beer on the wall\n"
     ]
    }
   ],
   "source": [
    "def CreateVerse(CurrentBottle):\n",
    "    string = (str(CurrentBottle) + ' bottles of beer on the wall, ' + \n",
    "              str(CurrentBottle) + ' bottles of beer. Take one down, pass it around, ' +\n",
    "              str(CurrentBottle-1) + ' bottles of beer on the wall')\n",
    "    return string\n",
    "        \n",
    "print(CreateVerse(99))"
   ]
  },
  {
   "cell_type": "markdown",
   "metadata": {},
   "source": [
    "***\n",
    "**Question 2.**"
   ]
  },
  {
   "cell_type": "code",
   "execution_count": 59,
   "metadata": {},
   "outputs": [
    {
     "name": "stdout",
     "output_type": "stream",
     "text": [
      "4 bottles of beer on the wall, 4 bottles of beer. Take one down, pass it around, 3 bottles of beer on the wall\n",
      "3 bottles of beer on the wall, 3 bottles of beer. Take one down, pass it around, 2 bottles of beer on the wall\n",
      "2 bottles of beer on the wall, 2 bottles of beer. Take one down, pass it around, 1 bottles of beer on the wall\n",
      "1 bottles of beer on the wall, 1 bottles of beer. Take one down, pass it around, 0 bottles of beer on the wall\n"
     ]
    }
   ],
   "source": [
    "def SingSong(TotalBottles):\n",
    "    while TotalBottles > 0:\n",
    "        verse = CreateVerse(TotalBottles)\n",
    "        print(verse)\n",
    "        TotalBottles -= 1\n",
    "\n",
    "SingSong(4)"
   ]
  },
  {
   "cell_type": "markdown",
   "metadata": {},
   "source": [
    "***\n",
    "**Question 3.**"
   ]
  },
  {
   "cell_type": "code",
   "execution_count": 58,
   "metadata": {},
   "outputs": [
    {
     "name": "stdout",
     "output_type": "stream",
     "text": [
      "4 bottles of beer on the wall, 4 bottles of beer. Take one down, pass it around, 3 bottles of beer on the wall\n",
      "3 bottles of beer on the wall, 3 bottles of beer. Take one down, pass it around, 2 bottles of beer on the wall\n",
      "2 bottles of beer on the wall, 2 bottles of beer. Take one down, pass it around, 1 bottles of beer on the wall\n",
      "1 bottles of beer on the wall, 1 bottles of beer. Take one down, pass it around, 0 bottles of beer on the wall\n"
     ]
    }
   ],
   "source": [
    "def FillVerses(TotalBottles):\n",
    "    Verses = [CreateVerse(b) for b in range(1, TotalBottles + 1)]\n",
    "    return Verses\n",
    "\n",
    "verses = FillVerses(4)\n",
    "verses.reverse()\n",
    "for v in verses:\n",
    "    print(v)"
   ]
  },
  {
   "cell_type": "markdown",
   "metadata": {},
   "source": [
    "# Part 2 - Function arguments and scope\n",
    "\n",
    "## Exercise 3 - Variadic functions"
   ]
  },
  {
   "cell_type": "markdown",
   "metadata": {},
   "source": [
    "***\n",
    "**Question 1.**"
   ]
  },
  {
   "cell_type": "code",
   "execution_count": 68,
   "metadata": {},
   "outputs": [
    {
     "name": "stdout",
     "output_type": "stream",
     "text": [
      "10 24\n"
     ]
    }
   ],
   "source": [
    "def sum_prod(*numbers):\n",
    "    \n",
    "    # set the value of the sum (s) to zero\n",
    "    s = 0\n",
    "    # set the value of the product (p) to one\n",
    "    p = 1\n",
    "    \n",
    "    for n in numbers:\n",
    "        s += n\n",
    "        p *= n\n",
    "\n",
    "    return s, p\n",
    "\n",
    "s, p = sum_prod(1, 2, 3, 4)\n",
    "print(s, p)"
   ]
  },
  {
   "cell_type": "markdown",
   "metadata": {},
   "source": [
    "***\n",
    "**Question 2.**.  Here we use some of Python's built-in functions.  Recall that `len` computes the number of entries in a tuple"
   ]
  },
  {
   "cell_type": "code",
   "execution_count": 70,
   "metadata": {},
   "outputs": [
    {
     "name": "stdout",
     "output_type": "stream",
     "text": [
      "1\n",
      "7\n",
      "4.0\n"
     ]
    }
   ],
   "source": [
    "def analyse_numbers(*numbers):\n",
    "\n",
    "    return min(numbers), max(numbers), sum(numbers) / len(numbers)\n",
    "\n",
    "maximum, minimum, mean = analyse_numbers(1, 2, 3, 4, 5, 6, 7)\n",
    "print(maximum)\n",
    "print(minimum)\n",
    "print(mean)"
   ]
  },
  {
   "cell_type": "markdown",
   "metadata": {},
   "source": [
    "## Exercise 4 - Variable scope"
   ]
  },
  {
   "cell_type": "markdown",
   "metadata": {},
   "source": [
    "***\n",
    "**Question 1.** This prints \"I hate spam\" because S is a global variable (since it is defined in the main body of code)"
   ]
  },
  {
   "cell_type": "code",
   "execution_count": 73,
   "metadata": {},
   "outputs": [
    {
     "name": "stdout",
     "output_type": "stream",
     "text": [
      "I hate spam\n"
     ]
    }
   ],
   "source": [
    "def F():\n",
    "    print(S)\n",
    "    \n",
    "S = \"I hate spam\"\n",
    "F()"
   ]
  },
  {
   "cell_type": "markdown",
   "metadata": {},
   "source": [
    "***\n",
    "**Question 2.** This prints \"Me too\" followed by \"I hate spam\".  When S is defined locally in the function F, it overrides the value of S defined in the main body of Python code"
   ]
  },
  {
   "cell_type": "code",
   "execution_count": 74,
   "metadata": {},
   "outputs": [
    {
     "name": "stdout",
     "output_type": "stream",
     "text": [
      "Me too\n",
      "I hate spam\n"
     ]
    }
   ],
   "source": [
    "def F():\n",
    "    S = \"Me too\"\n",
    "    print(S)\n",
    "    \n",
    "S = \"I hate spam\"\n",
    "F()\n",
    "print(S)"
   ]
  },
  {
   "cell_type": "markdown",
   "metadata": {},
   "source": [
    "***\n",
    "**Question 3.** This prints \"Me too\" twice.  In the function F we declare that S is a global variable with global scope.  Therefore, when the function F is called, it overwrites the value of S that was set in the main body of code."
   ]
  },
  {
   "cell_type": "code",
   "execution_count": 75,
   "metadata": {
    "scrolled": true
   },
   "outputs": [
    {
     "name": "stdout",
     "output_type": "stream",
     "text": [
      "Me too\n",
      "Me too\n"
     ]
    }
   ],
   "source": [
    "def F():\n",
    "    global S\n",
    "    S = \"Me too\"\n",
    "    print(S)\n",
    "    \n",
    "S = \"I hate spam\"\n",
    "F()\n",
    "print(S)"
   ]
  },
  {
   "cell_type": "markdown",
   "metadata": {},
   "source": [
    "***\n",
    "**Question 4.** This creates an error.  Although the function F runs correctly when it is called, the variable T has local scope and cannot be accessed outside of this function.  Therefore, calling print(T) leads to an error since T is not defined"
   ]
  },
  {
   "cell_type": "code",
   "execution_count": 77,
   "metadata": {},
   "outputs": [
    {
     "name": "stdout",
     "output_type": "stream",
     "text": [
      "I am a variable\n"
     ]
    },
    {
     "ename": "NameError",
     "evalue": "name 'T' is not defined",
     "output_type": "error",
     "traceback": [
      "\u001b[0;31m---------------------------------------------------------------------------\u001b[0m",
      "\u001b[0;31mNameError\u001b[0m                                 Traceback (most recent call last)",
      "\u001b[0;32m<ipython-input-77-55ad425ac11d>\u001b[0m in \u001b[0;36m<module>\u001b[0;34m\u001b[0m\n\u001b[1;32m      4\u001b[0m \u001b[0;34m\u001b[0m\u001b[0m\n\u001b[1;32m      5\u001b[0m \u001b[0mF\u001b[0m\u001b[0;34m(\u001b[0m\u001b[0;34m)\u001b[0m\u001b[0;34m\u001b[0m\u001b[0;34m\u001b[0m\u001b[0m\n\u001b[0;32m----> 6\u001b[0;31m \u001b[0mprint\u001b[0m\u001b[0;34m(\u001b[0m\u001b[0mT\u001b[0m\u001b[0;34m)\u001b[0m\u001b[0;34m\u001b[0m\u001b[0;34m\u001b[0m\u001b[0m\n\u001b[0m",
      "\u001b[0;31mNameError\u001b[0m: name 'T' is not defined"
     ]
    }
   ],
   "source": [
    "def F():\n",
    "    T = \"I am a variable\"\n",
    "    print(T)\n",
    "    \n",
    "F()\n",
    "print(T)"
   ]
  },
  {
   "cell_type": "markdown",
   "metadata": {},
   "source": [
    "# Part 3 - Recursive functions\n",
    "\n",
    "## Exercise 5 -  Recursive functions"
   ]
  },
  {
   "cell_type": "markdown",
   "metadata": {},
   "source": [
    "***\n",
    "**Question 1.**"
   ]
  },
  {
   "cell_type": "code",
   "execution_count": 80,
   "metadata": {},
   "outputs": [
    {
     "name": "stdout",
     "output_type": "stream",
     "text": [
      "120\n"
     ]
    }
   ],
   "source": [
    "def factorial(n):\n",
    "    if n == 0:\n",
    "        return 1\n",
    "    else:\n",
    "        return n * factorial(n - 1)\n",
    "        \n",
    "print(factorial(5))"
   ]
  },
  {
   "cell_type": "markdown",
   "metadata": {},
   "source": [
    "***\n",
    "**Question 2 and 3**"
   ]
  },
  {
   "cell_type": "code",
   "execution_count": 155,
   "metadata": {},
   "outputs": [
    {
     "name": "stdout",
     "output_type": "stream",
     "text": [
      "1 1 2 3 5 8 13 21 34 55 89 144 233 377 "
     ]
    }
   ],
   "source": [
    "def Fib(n):\n",
    "    if n == 1 or n == 2:\n",
    "        return 1\n",
    "    else:\n",
    "        return Fib(n-1) + Fib(n-2)\n",
    "    \n",
    "for i in range(1,15):\n",
    "    print(Fib(i), end = \" \")"
   ]
  },
  {
   "cell_type": "markdown",
   "metadata": {},
   "source": [
    "# Part 4 - Advanced questions\n",
    "\n",
    "## Exercise 6 - More functions"
   ]
  },
  {
   "cell_type": "markdown",
   "metadata": {},
   "source": [
    "***\n",
    "**Question 1.**"
   ]
  },
  {
   "cell_type": "code",
   "execution_count": 21,
   "metadata": {},
   "outputs": [
    {
     "name": "stdout",
     "output_type": "stream",
     "text": [
      "4\n"
     ]
    }
   ],
   "source": [
    "def median(a, b, c):\n",
    "    if a < b:\n",
    "        if b < c:\n",
    "            return b\n",
    "        if c < a:\n",
    "            return a\n",
    "    else:\n",
    "        if a < c:\n",
    "            return a\n",
    "        if c < b:\n",
    "            return b\n",
    "\n",
    "print(median(5, 4, 3))"
   ]
  },
  {
   "cell_type": "markdown",
   "metadata": {},
   "source": [
    "***\n",
    "**Question 2.**: In this solution, we convert the integer into a string.  We then loop through the entries of the string, convert them into an integer, and sum them up."
   ]
  },
  {
   "cell_type": "code",
   "execution_count": 81,
   "metadata": {},
   "outputs": [
    {
     "name": "stdout",
     "output_type": "stream",
     "text": [
      "10\n"
     ]
    }
   ],
   "source": [
    "def sum_digits(N):\n",
    "    string = str(N)\n",
    "    S = 0\n",
    "    for s in string:\n",
    "        S += int(s)\n",
    "    return S\n",
    "\n",
    "print(sum_digits(1234))\n",
    "        "
   ]
  },
  {
   "cell_type": "markdown",
   "metadata": {},
   "source": [
    "Another solution is to use maths without converting between types.  The trick here is to note that the digits of a number $N$ are the divisors of powers of 10 and can be calculated using floor division.  For example, $1234 = 1 * 10^3 + 2 * 10^2 + 3 * 10^1 + 4 * 10^0$.  The first step in the code is to calculate the largest power of 10 that (floor) divides $N$.  Let's call this power $p$.  In the example when $N = 1234$ we have $p = 3$.\n",
    "\n",
    "Once we have $p$, we can extract the first digit using floor division and calculating $N // 10^p$.  In the example above, $N // 10^3 = 1$, which is indeed the first digit.\n",
    "\n",
    "To calculate the second digit in the example, we use the fact that $1234 - 1 * 10^3 = 2 * 10^2 + 3 * 10^1  + 4 * 10^0$.  So, by substracting off the first digit times $10^p$ from $N$, we can floor divide the result by $10^{p-1}$ to obtain the second digit.\n",
    "\n",
    "We then repeat this process to extract all of the digits and sum them up"
   ]
  },
  {
   "cell_type": "code",
   "execution_count": 105,
   "metadata": {},
   "outputs": [
    {
     "name": "stdout",
     "output_type": "stream",
     "text": [
      "10\n"
     ]
    }
   ],
   "source": [
    "def sum_digits(N):\n",
    "    \n",
    "    # use floor division to calculate the largest power of 10 that divides N\n",
    "    p = 0\n",
    "    while N // 10**(p+1) > 0:\n",
    "        p += 1\n",
    "        \n",
    "    # set the sum of the digits to zero\n",
    "    S = 0\n",
    "    \n",
    "    # extract the digits of N\n",
    "    while p >= 0:\n",
    "        \n",
    "        # calculate the digit\n",
    "        digit = N // 10**p\n",
    "        \n",
    "        # add the digit to the sum\n",
    "        S += digit\n",
    "        \n",
    "        # substract off the current digit times the current power of ten\n",
    "        N -= digit * 10**p\n",
    "        \n",
    "        # decrease the power of 10\n",
    "        p -= 1\n",
    "        \n",
    "    return S\n",
    "\n",
    "print(sum_digits(1234))"
   ]
  },
  {
   "cell_type": "markdown",
   "metadata": {},
   "source": [
    "***\n",
    "**Question 3.**  We solve this problem in two parts.  First we create a function that determines whether an integer is prime.  Then we create a function that computes the prime factorization.  The first thing we do here is create a list of all of the prime numbers that are between 2 and $N$.  We then divide $N$ by these prime numbers.  If there is zero remainder, then we've found a prime factor.  We then reassign the value of $N$ by dividing it by this prime factor and we repeat the calculation"
   ]
  },
  {
   "cell_type": "code",
   "execution_count": 149,
   "metadata": {},
   "outputs": [
    {
     "name": "stdout",
     "output_type": "stream",
     "text": [
      "[3, 7, 7]\n"
     ]
    }
   ],
   "source": [
    "# define a function that tests whether a number is prime\n",
    "def is_prime(N):\n",
    "    if N == 1:\n",
    "        return True\n",
    "    else:\n",
    "        for i in range(2, N):\n",
    "            if N % i == 0:\n",
    "                return False\n",
    "        \n",
    "        return True\n",
    "\n",
    "# the function that computes the prime factorizations\n",
    "def prime_factorization(N):\n",
    "    \n",
    "    # a list of prime factors\n",
    "    factors = []\n",
    "    \n",
    "    # a list of prime numbers between 2 and N\n",
    "    primes = [n for n in range(2, N+1) if is_prime(n)]\n",
    "    \n",
    "    # looping through the primes to find the factors\n",
    "    while N > 1:\n",
    "        for p in primes:\n",
    "            if N % p == 0:\n",
    "                factors.append(p)\n",
    "                N = int(N / p)\n",
    "                break\n",
    "\n",
    "    # return the list\n",
    "    return factors\n",
    "\n",
    "print(prime_factorization(147))\n",
    "        "
   ]
  },
  {
   "cell_type": "markdown",
   "metadata": {},
   "source": [
    "***\n",
    "**Question 4.**.  There are many ways to sort a list.  In the approach below, we sort a list L by looking for the smallest element, second-smallest, third-smallest, etc and then building a list with these values.\n",
    "\n",
    "We begin by looking for the smallest number in the list L (called min_L with index idx).  We then swap the position of the smallest entry (i.e. min_L) and the first entry of L (i.e. L[0])  \n",
    "\n",
    "We then examine the sub-list L[1,:], which consists of all of the entries of L except the first.  We then find the smallest entry of this sublist, which will be the second-smallest number in the original list L.  We save the value of the smallest number as min_L and its index as idx.  We then swap the first entry in the sublist L[1,:], which is L[1], with its smallest value.  The result is that the first two entries of the list L will now have the smallest and second-smallest numbers.  \n",
    "\n",
    "We then consider the sub-list L[2,:] and find the smallest number, corresponding to the third-smallest number of L.  We then swap this with L[2].  The process then repeats"
   ]
  },
  {
   "cell_type": "code",
   "execution_count": 3,
   "metadata": {},
   "outputs": [
    {
     "name": "stdout",
     "output_type": "stream",
     "text": [
      "[2, 2, 3, 3, 4, 6, 6, 7]\n",
      "[2, 2, 3, 3, 4, 6, 6, 7]\n"
     ]
    }
   ],
   "source": [
    "def my_sort(L):\n",
    "    \n",
    "    # first we find the length of L\n",
    "    N = len(L)\n",
    "    \n",
    "    # we use a for loop to examine the lists L[:], L[1:], L[2:] and find the smallest numbers in them\n",
    "    for i in range(0, N):\n",
    "        \n",
    "        # this bit of code finds the smallest number in the sub-list given by L[i:] and save its index\n",
    "        min_L = L[i]\n",
    "        idx = i\n",
    "        for j in range(i+1, N):\n",
    "            if L[j] < min_L:\n",
    "                min_L = L[j]\n",
    "                idx = j\n",
    "        \n",
    "        # now we swap the i-th entry of L with the minimum value in the sublist L[i:]\n",
    "        L[idx] = L[i]\n",
    "        L[i] = min_L\n",
    "        \n",
    "    return L\n",
    "\n",
    "L = [4, 3, 2, 6, 3, 2, 6, 7]\n",
    "S = my_sort(L)\n",
    "print(S)\n",
    "L.sort()\n",
    "print(L)"
   ]
  }
 ],
 "metadata": {
  "kernelspec": {
   "display_name": "Python 3",
   "language": "python",
   "name": "python3"
  },
  "language_info": {
   "codemirror_mode": {
    "name": "ipython",
    "version": 3
   },
   "file_extension": ".py",
   "mimetype": "text/x-python",
   "name": "python",
   "nbconvert_exporter": "python",
   "pygments_lexer": "ipython3",
   "version": "3.8.8"
  }
 },
 "nbformat": 4,
 "nbformat_minor": 4
}
