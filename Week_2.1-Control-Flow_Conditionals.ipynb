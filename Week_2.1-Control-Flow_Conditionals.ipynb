{
 "cells": [
  {
   "cell_type": "markdown",
   "id": "9814610f",
   "metadata": {
    "slideshow": {
     "slide_type": "slide"
    }
   },
   "source": [
    "# Coursework key dates\n",
    "\n",
    "Assignment: Single piece of coursework, completed individually.\n",
    "\n",
    "Theme: Write a program to perform and encryption and decryption task + a short (2 page) report \n",
    "\n",
    "Set: Friday 19th November 2021 (Week 8)\n",
    "\n",
    "Deadline: Friday 10th December 2021 (Week 11) "
   ]
  },
  {
   "cell_type": "markdown",
   "id": "96a7207b",
   "metadata": {
    "slideshow": {
     "slide_type": "slide"
    }
   },
   "source": [
    "# Drop-in support classes \n",
    "\n",
    " | On-campus Group 1| On-campus Group 2 | Online | \n",
    " | :-: | :-: | :-: |  \n",
    "| Friday  | Friday  | Thursday  | \n",
    "| 13:00-14:00 |14:00-15:00 | 9:00-10:00 | \n",
    "| MVB 1.15 |MVB 1.15 | remo |\n",
    "\n",
    "\n",
    "__Group 1__ : EMAT, Innovation, Biorobotics, everyone not listed in Groups 1/2\n",
    "\n",
    "__Group 2__: EENG, EDES, Digital Health MSc & CDT"
   ]
  },
  {
   "cell_type": "markdown",
   "id": "d74dea25",
   "metadata": {
    "slideshow": {
     "slide_type": "slide"
    }
   },
   "source": [
    "# Introduction to Computer Programming\n",
    "\n",
    "## 2.1 Control Flow\n",
    "\n",
    "<img src=\"img/full-colour-logo-UoB.png\" alt=\"Drawing\" style=\"width: 300px;\"/>"
   ]
  },
  {
   "cell_type": "markdown",
   "id": "38bace2c",
   "metadata": {
    "slideshow": {
     "slide_type": "slide"
    }
   },
   "source": [
    "<a id='ControlStatements'></a>\n",
    "# Conditional Statements\n",
    "- Make decisions within a program and direct the flow.\n",
    "- Run different blocks of code depending on whether a Boolean expression evaluates to `True` or `False`.\n",
    "- This decision making is known as __Control Flow__\n",
    "\n",
    "\n",
    "<center>\n",
    "  <img src=\"img/if_example.png\" alt=\"Drawing\" style=\"width: 400px ;\" align=\"center\"/>\n",
    "</center>"
   ]
  },
  {
   "cell_type": "markdown",
   "id": "47927965",
   "metadata": {
    "slideshow": {
     "slide_type": "slide"
    }
   },
   "source": [
    "# `if`\n",
    "\n",
    "Runs a block of code only if a condition is `True`\n",
    "\n",
    "<center>\n",
    "  <img src=\"img/if_flow_.png\" alt=\"Drawing\" style=\"width: 400px;\"/>\n",
    "</center>\n",
    "\n"
   ]
  },
  {
   "cell_type": "code",
   "execution_count": 20,
   "id": "4eb61a47",
   "metadata": {
    "slideshow": {
     "slide_type": "slide"
    }
   },
   "outputs": [
    {
     "name": "stdout",
     "output_type": "stream",
     "text": [
      "Further code\n"
     ]
    }
   ],
   "source": [
    "x = 3\n",
    "\n",
    "if x > 10:\n",
    "    print(\"Do this\") # block of code to run only if condition is True\n",
    "    \n",
    "print(\"Further code\")\n"
   ]
  },
  {
   "cell_type": "markdown",
   "id": "58f002db",
   "metadata": {
    "slideshow": {
     "slide_type": "slide"
    }
   },
   "source": [
    "\n",
    "\n",
    "The colon `:` follows the condition to be evaluated. \n",
    "\n",
    "\n",
    "\n",
    "The indent is used to determine which pieces of code are executed in the case that the condition evaluates to `True`.\n",
    "\n",
    "The indent can be any number of spaces.\n",
    " - must be the same for all lines in a block of code. \n",
    " - 4 spaces is considered best practise. \n",
    " - Many IDEs (e.g. Spyder) automatically indent after you type `if:`.\n",
    "\n"
   ]
  },
  {
   "cell_type": "markdown",
   "id": "e8c4f2bd",
   "metadata": {
    "slideshow": {
     "slide_type": "slide"
    }
   },
   "source": [
    "# `if`... `else`\n",
    "Runs a block of code only if a condition is `True`\n",
    "<br>Otherwise runs a different block of code.\n",
    "\n",
    "<center>\n",
    "  <img src=\"img/if_else_flow_.png\" alt=\"Drawing\" style=\"width: 400px;\"/>\n",
    "</center>"
   ]
  },
  {
   "cell_type": "code",
   "execution_count": 22,
   "id": "231aec8a",
   "metadata": {
    "slideshow": {
     "slide_type": "slide"
    }
   },
   "outputs": [
    {
     "name": "stdout",
     "output_type": "stream",
     "text": [
      "Do that\n",
      "Further code\n"
     ]
    }
   ],
   "source": [
    "x = 2\n",
    "\n",
    "if x > 10:\n",
    "    print(\"Do this\") # if condition is True\n",
    "else:\n",
    "    print(\"Do that\") # if condition is False\n",
    "    \n",
    "print(\"Further code\")\n"
   ]
  },
  {
   "cell_type": "markdown",
   "id": "32f947a1",
   "metadata": {
    "slideshow": {
     "slide_type": "slide"
    }
   },
   "source": [
    "__Note: <br>Only one__ of the indented blocks of code (after `if` __or__ after `else`) is executed! "
   ]
  },
  {
   "cell_type": "markdown",
   "id": "afcbae3b",
   "metadata": {
    "slideshow": {
     "slide_type": "slide"
    }
   },
   "source": [
    "# `if`...`elif`...(`else`)\n",
    "Runs the indented block of code after `if` if the `if` condition is `True`\n",
    "<br>... or runs the indented block of code after `elif` if the `elif` condition is `True`\n",
    "<br>... otherwise runs the indented block of code after `else`.\n",
    "\n",
    "__Only one__ of the three blocks is executed. \n",
    "\n",
    "<center>\n",
    "  <img src=\"img/if_elif_else_flow_.png\" alt=\"Drawing\" style=\"width: 600px;\"/>\n",
    "</center>"
   ]
  },
  {
   "cell_type": "markdown",
   "id": "f427db17",
   "metadata": {
    "slideshow": {
     "slide_type": "slide"
    }
   },
   "source": [
    "__Note: <br>Only one__ of the indented blocks of code (after `if` __or__ after `elif` __or__ after `else` ) is executed! "
   ]
  },
  {
   "cell_type": "code",
   "execution_count": 24,
   "id": "7f0182e0",
   "metadata": {
    "slideshow": {
     "slide_type": "slide"
    }
   },
   "outputs": [
    {
     "name": "stdout",
     "output_type": "stream",
     "text": [
      "Do this\n",
      "Further code\n"
     ]
    }
   ],
   "source": [
    "x = 12\n",
    "\n",
    "if x > 10:\n",
    "    print(\"Do this\")           # if condition is True\n",
    "    \n",
    "elif x > 5:\n",
    "    print(\"Do that\")           # if another condition is True\n",
    "    \n",
    "else:\n",
    "    print(\"Do something else\") # if all preceding conditions are False\n",
    "    \n",
    "print(\"Further code\")\n"
   ]
  },
  {
   "cell_type": "markdown",
   "id": "abead83e",
   "metadata": {
    "slideshow": {
     "slide_type": "slide"
    }
   },
   "source": [
    "An unlimited numer of `elif` statements can be used after an `if` statement\n",
    "\n",
    "The `else` statement is optional."
   ]
  },
  {
   "cell_type": "code",
   "execution_count": 25,
   "id": "40e8f4ed",
   "metadata": {},
   "outputs": [
    {
     "name": "stdout",
     "output_type": "stream",
     "text": [
      "Further code\n"
     ]
    }
   ],
   "source": [
    "x = -1\n",
    "\n",
    "if x > 10:\n",
    "    print(\"x is greater than 10\") # if condition is True\n",
    "elif x > 5:\n",
    "    print(\"x is greater than 5\") # if another condition is True\n",
    "elif x > 0:\n",
    "    print(\"x is greater than 0\") # if another condition is True\n",
    "\n",
    "    \n",
    "print(\"Further code\")\n"
   ]
  },
  {
   "cell_type": "markdown",
   "id": "dddf72b6",
   "metadata": {
    "slideshow": {
     "slide_type": "slide"
    }
   },
   "source": [
    "# Summary\n",
    "\n",
    " - Conditional statements (`if`, `elif` and `else`) perform a test on an expression with a a Boolean (`True` or `False`) value. \n",
    " - Execute/skip blocks of code based on the `True`/`False`value of the expression.   \n",
    "\n"
   ]
  },
  {
   "cell_type": "markdown",
   "id": "dc1cd2a6",
   "metadata": {
    "slideshow": {
     "slide_type": "slide"
    }
   },
   "source": [
    "# In-class Demos"
   ]
  },
  {
   "cell_type": "markdown",
   "id": "0bed29c9",
   "metadata": {
    "slideshow": {
     "slide_type": "slide"
    }
   },
   "source": [
    "__Example 1:__ <br>Write a program to modify the initial value of the variable `x` and print the new value, as shown in the flow diagram. \n",
    "\n",
    "<center>\n",
    "  <img src=\"img/alg_flow.png\" alt=\"Drawing\" style=\"width: 400px;\"/>\n",
    "</center>"
   ]
  },
  {
   "cell_type": "code",
   "execution_count": 49,
   "id": "876656f0",
   "metadata": {
    "slideshow": {
     "slide_type": "-"
    }
   },
   "outputs": [
    {
     "name": "stdout",
     "output_type": "stream",
     "text": [
      "0\n"
     ]
    }
   ],
   "source": [
    "x = 20\n",
    "\n",
    "if x > 10:\n",
    "    x = x - 20\n",
    "\n",
    "elif x < 2:\n",
    "    x = x + 21\n",
    "    \n",
    "else:\n",
    "    x = x * 2.5\n",
    "    \n",
    "print(x)"
   ]
  },
  {
   "cell_type": "markdown",
   "id": "6dadc026",
   "metadata": {
    "slideshow": {
     "slide_type": "slide"
    }
   },
   "source": [
    "__Note:__ In programming, `x = x - 20` is used to set the value of `x` to the original value of `x` minus 21. \n",
    "\n",
    "If this were a mathematical equation, no values of `x` would satisfy the equation. \n",
    "\n",
    "In programming, however, an expression of this form is used to *reassign* the value of `x`. "
   ]
  },
  {
   "cell_type": "markdown",
   "id": "8cc2a18e",
   "metadata": {
    "slideshow": {
     "slide_type": "slide"
    }
   },
   "source": [
    "Let's remind ourselves of an example from last week. \n",
    "\n",
    ">__Is it lunchtime?__\n",
    "<br>`True` if time between lunch start and end times.\n",
    "<br>`False` if not.\n",
    "\n",
    ">__Is it time for work?__\n",
    "<br>`True` if time between work start and end times __and not__ lunchtime.\n",
    "<br>`False` if not."
   ]
  },
  {
   "cell_type": "markdown",
   "id": "22b032e2",
   "metadata": {
    "slideshow": {
     "slide_type": "slide"
    }
   },
   "source": [
    "Let's build on the example from last week by including control statements. \n",
    "\n",
    "__Example 2:__ \n",
    "<br>Write a program that shows where a person will be based on the time of day. \n",
    "- at the lab if it is lunchtime __or__ time for work \n",
    "- at home if it is before or after work"
   ]
  },
  {
   "cell_type": "code",
   "execution_count": 48,
   "id": "8d5cce2d",
   "metadata": {},
   "outputs": [
    {
     "name": "stdout",
     "output_type": "stream",
     "text": [
      "at the lab\n"
     ]
    }
   ],
   "source": [
    "# --------- Program from last week -------------------\n",
    "# Variables\n",
    "t = 16.00           # current time\n",
    "Ls = 13.00         # lunch starts\n",
    "Le = 14.00         # lunch ends\n",
    "Ws = 8.00          # work starts\n",
    "We = 17.00         # work ends   \n",
    "\n",
    "is_lunchtime = Ls <= t < Le                   # lunchtime (boolean value)\n",
    "\n",
    "is_work_time = Ws <= t < We and not lunchtime # work_time (boolean value)\n",
    "#------------------------------------------------------\n",
    "\n",
    "if lunchtime == True or work_time == True:\n",
    "    print('at the lab')\n",
    "else:\n",
    "    print('at home')\n"
   ]
  },
  {
   "cell_type": "markdown",
   "id": "1b6cc63c",
   "metadata": {
    "slideshow": {
     "slide_type": "slide"
    }
   },
   "source": [
    "As `is_lunchtime` is equal to either `True` or `False`, we can omit `==True` "
   ]
  },
  {
   "cell_type": "code",
   "execution_count": 47,
   "id": "3df16880",
   "metadata": {},
   "outputs": [
    {
     "name": "stdout",
     "output_type": "stream",
     "text": [
      "at the lab\n"
     ]
    }
   ],
   "source": [
    "if lunchtime or work_time:\n",
    "    print('at the lab')\n",
    "else:\n",
    "    print('at home')"
   ]
  },
  {
   "cell_type": "markdown",
   "id": "b9b144a3",
   "metadata": {
    "slideshow": {
     "slide_type": "slide"
    }
   },
   "source": [
    "__Example 3:__ \n",
    "<br>Create three variables with numerical values. <br>Create a program that prints `'found'` if __any__ of the  variables are greater than 10.\n",
    "\n",
    "__Hint:__ In a conditional statement, non-zero values are treated as `True`, zero is treated as `False`. \n"
   ]
  },
  {
   "cell_type": "code",
   "execution_count": 36,
   "id": "58dd4da8",
   "metadata": {},
   "outputs": [],
   "source": [
    "A = 2\n",
    "B = 2\n",
    "C = 4\n",
    "\n",
    "if A>10 or B>10 or C>10:\n",
    "    print('found')"
   ]
  },
  {
   "cell_type": "markdown",
   "id": "a958e9ae",
   "metadata": {
    "slideshow": {
     "slide_type": "slide"
    }
   },
   "source": [
    "Notice that the following code __won't__ work:\n",
    "\n",
    "```python\n",
    "\n",
    "A = 2\n",
    "B = 3\n",
    "C = 4\n",
    "\n",
    "if A or B or C>10:\n",
    "    print('found') \n",
    "```\n",
    "\n",
    "This is because, in a conditional statement, *non-zero values* are treated as `True`, zero is treated as `False`. \n",
    "\n",
    "A and B are non-zero numbers (2 and 3) so `A` is `True`, `B` is `True` and C>10 is `False`. \n",
    "\n",
    "The `or` operators make the output of the condition `True`. \n",
    "\n",
    "__Note:__ All strings, with the exception of empty strings `''`, are treated as True. "
   ]
  },
  {
   "cell_type": "code",
   "execution_count": 45,
   "id": "177351e0",
   "metadata": {},
   "outputs": [
    {
     "data": {
      "text/plain": [
       "True"
      ]
     },
     "execution_count": 45,
     "metadata": {},
     "output_type": "execute_result"
    }
   ],
   "source": [
    "bool(' ')"
   ]
  }
 ],
 "metadata": {
  "celltoolbar": "Slideshow",
  "kernelspec": {
   "display_name": "Python 3",
   "language": "python",
   "name": "python3"
  },
  "language_info": {
   "codemirror_mode": {
    "name": "ipython",
    "version": 3
   },
   "file_extension": ".py",
   "mimetype": "text/x-python",
   "name": "python",
   "nbconvert_exporter": "python",
   "pygments_lexer": "ipython3",
   "version": "3.8.8"
  }
 },
 "nbformat": 4,
 "nbformat_minor": 5
}
