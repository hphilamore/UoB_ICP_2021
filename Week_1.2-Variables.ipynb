{
 "cells": [
  {
   "cell_type": "markdown",
   "id": "bed3e43c",
   "metadata": {},
   "source": [
    "# Introduction to Computer Programming\n",
    "\n",
    "## 1.2 Variables\n",
    "\n",
    "<img src=\"img/full-colour-logo-UoB.png\" alt=\"Drawing\" style=\"width: 300px;\"/>"
   ]
  },
  {
   "cell_type": "markdown",
   "id": "a72e29de",
   "metadata": {
    "slideshow": {
     "slide_type": "slide"
    }
   },
   "source": [
    "# Variables \n",
    " - We need a way to store and use values, e.g. numbers, within a program\n",
    " - We can *assign* a value to a variable.\n",
    " - The `print` function displays whatever is between the parenthses `(...)`"
   ]
  },
  {
   "cell_type": "code",
   "execution_count": 37,
   "id": "dac04d79",
   "metadata": {},
   "outputs": [
    {
     "name": "stdout",
     "output_type": "stream",
     "text": [
      "1\n"
     ]
    }
   ],
   "source": [
    "A = 1 \n",
    "print(A)"
   ]
  },
  {
   "cell_type": "code",
   "execution_count": 8,
   "id": "dbfd1d98",
   "metadata": {},
   "outputs": [
    {
     "name": "stdout",
     "output_type": "stream",
     "text": [
      "True\n"
     ]
    }
   ],
   "source": [
    "A = 1.0\n",
    "B = 4.0"
   ]
  },
  {
   "cell_type": "code",
   "execution_count": 4,
   "id": "393a7780",
   "metadata": {},
   "outputs": [],
   "source": [
    "A, B = 1.0, 4.0"
   ]
  },
  {
   "cell_type": "markdown",
   "id": "95cb7cd5",
   "metadata": {},
   "source": [
    "# Data Types\n",
    "Every variable has a type (`int`, `float`, `string`....).\n",
    " \n",
    " __Basic Data Types__ (not exhaustive)\n",
    " \n",
    "- `int` integer\n",
    "- `float` floating point number (number with decimal point)\n",
    "- `str` string: text data enclosed within quotation marks <br>e.g. `'text'` or `\"text\"` <br>(including number represented as text data)\n",
    "- `bool` boolean: True or False"
   ]
  },
  {
   "cell_type": "markdown",
   "id": "f9c118dd",
   "metadata": {},
   "source": [
    "A type is automatically assigned when a variable is created. \n",
    "\n",
    "Python's `type()` function returns the type of a variable within the parentheses `(...)`.\n",
    "\n",
    "__Example:__ Create some variables and display their type"
   ]
  },
  {
   "cell_type": "code",
   "execution_count": 39,
   "id": "e1fa167f",
   "metadata": {},
   "outputs": [
    {
     "name": "stdout",
     "output_type": "stream",
     "text": [
      "1 <class 'int'>\n",
      "1.0 <class 'float'>\n",
      "1 <class 'str'>\n",
      "True <class 'bool'>\n"
     ]
    }
   ],
   "source": [
    "A = 1 \n",
    "print(A, type(A))\n",
    "\n",
    "B = 1.0 \n",
    "print(B, type(B))\n",
    "\n",
    "C = '1'\n",
    "print(C, type(C))\n",
    "\n",
    "D = True\n",
    "print(D, type(D))"
   ]
  },
  {
   "cell_type": "markdown",
   "id": "2cd0eab3",
   "metadata": {},
   "source": [
    "### Casting\n",
    "The data type of a variable can be converted by *casting* (`int(variable_name)`, `float(variable_name)`....)\n",
    "__Example:__ Convert from a floating point number to an integer"
   ]
  },
  {
   "cell_type": "code",
   "execution_count": 26,
   "id": "21a733d0",
   "metadata": {},
   "outputs": [
    {
     "name": "stdout",
     "output_type": "stream",
     "text": [
      "1 <class 'int'>\n"
     ]
    }
   ],
   "source": [
    "B = 1.0 \n",
    "E = int(B)\n",
    "print(E, type(E))"
   ]
  },
  {
   "cell_type": "markdown",
   "id": "bac021eb",
   "metadata": {
    "slideshow": {
     "slide_type": "slide"
    }
   },
   "source": [
    "<a id='ArithmeticOperators'></a>\n",
    "# Arithmetic Operators\n",
    "\n",
    "Python can be used like a calculator.\n",
    "\n",
    "__Arithmetic operators__ (+, -, /, * ....) are used with numeric values to perform common mathematical operations.\n",
    "\n",
    "Operators are listed ib order of operator precedence\n",
    "\n",
    "\n",
    "$**$   &nbsp; &nbsp; &nbsp; &nbsp;                Exponent <br>\n",
    "$*$    &nbsp; &nbsp; &nbsp; &nbsp; &nbsp;         Multiplication <br>\n",
    "$/$    &nbsp; &nbsp; &nbsp; &nbsp; &nbsp; &nbsp;  Division <br>\n",
    "$//$   &nbsp; &nbsp; &nbsp; &nbsp; &nbsp;         Floor division (round down to the next integer)<br>\n",
    "$\\%$   &nbsp; &nbsp; &nbsp; &nbsp; &nbsp;         Modulo `a % b = a - b * (a // b)` (remainder)<br>\n",
    "$+$    &nbsp; &nbsp; &nbsp; &nbsp; &nbsp;         Addition <br>\n",
    "$-$    &nbsp; &nbsp; &nbsp; &nbsp; &nbsp;         Subtraction <br>\n"
   ]
  },
  {
   "cell_type": "markdown",
   "id": "e9539f12",
   "metadata": {},
   "source": [
    "__Example:__ Find the area of a circle with diameter 2 metres\n",
    "\n",
    "![title](img/circle_radius.png)\n",
    "\n",
    "$$A = \\pi r ^ 2$$ "
   ]
  },
  {
   "cell_type": "code",
   "execution_count": 3,
   "id": "a6bcca29",
   "metadata": {},
   "outputs": [
    {
     "name": "stdout",
     "output_type": "stream",
     "text": [
      "12.568 m2\n"
     ]
    }
   ],
   "source": [
    "pi = 3.142\n",
    "\n",
    "r = 2 \n",
    "\n",
    "A = pi * r ** 2 \n",
    "\n",
    "print(A, 'm2')"
   ]
  },
  {
   "cell_type": "markdown",
   "id": "388f98f3",
   "metadata": {
    "slideshow": {
     "slide_type": "slide"
    }
   },
   "source": [
    "### Arithmetic operators - a word of warning!\n",
    "\n",
    "**Question**: What will the output of the following code be?\n",
    "***\n",
    "```python\n",
    "A = 2\n",
    "B = '2'\n",
    "\n",
    "print(A + A)\n",
    "\n",
    "print(A + B)\n",
    "\n",
    "print(B + B) \n",
    "```\n",
    "***"
   ]
  },
  {
   "cell_type": "markdown",
   "id": "ba70c435",
   "metadata": {
    "slideshow": {
     "slide_type": "slide"
    }
   },
   "source": [
    "\n",
    "***\n",
    "```python\n",
    "A = 2\n",
    "B = '2'\n",
    "```\n",
    "***\n",
    "**Answer**: Numbers represented as strings are not recognised as numerical values. \n",
    "<br>Arithmetic Operators behave differently on numerical and non-numerical values.\n",
    "\n",
    "<br>`print(A + A)` \n",
    "> 2\n",
    "\n",
    "<br>`print(A + B)` \n",
    "> Error. <br>Cannot add numerical and non-numerical value\n",
    "\n",
    "<br>`print(A + A)` \n",
    "> 22 <br> Adding string (text) data connect the two strings"
   ]
  },
  {
   "cell_type": "code",
   "execution_count": 43,
   "id": "792b4eea",
   "metadata": {},
   "outputs": [
    {
     "name": "stdout",
     "output_type": "stream",
     "text": [
      "4\n",
      "22\n"
     ]
    }
   ],
   "source": [
    "A = 2\n",
    "\n",
    "B = '2'\n",
    "\n",
    "print (A + A)\n",
    "\n",
    "# print (A + B) # generates an error\n",
    "\n",
    "print (B + B) # strings are connected using +"
   ]
  },
  {
   "cell_type": "markdown",
   "id": "e9832eb0",
   "metadata": {},
   "source": [
    "__Comments:__  \n",
    "Comment are notes in the program that are not be run as code. \n",
    "<br>The hash `#` symbol is used to add a *comment* to a line of code."
   ]
  },
  {
   "cell_type": "markdown",
   "id": "f0bf12fb",
   "metadata": {},
   "source": [
    "# Strings \n",
    "Strings behave differently from numerical data. \n",
    "\n",
    "We can return the Nth character(s) of a string with `string[N]`:"
   ]
  },
  {
   "cell_type": "code",
   "execution_count": 6,
   "id": "5b332ee2",
   "metadata": {},
   "outputs": [
    {
     "name": "stdout",
     "output_type": "stream",
     "text": [
      "H\n",
      "o\n",
      "o\n",
      "Hel\n",
      "Hel\n",
      "llo\n",
      "llo\n",
      "llo\n"
     ]
    }
   ],
   "source": [
    "x = 'Hello'\n",
    "\n",
    "print(x[0])   # first letter\n",
    "\n",
    "print(x[4])   # last letter\n",
    "print(x[-1])\n",
    "\n",
    "print(x[0:3]) # first 3 letters\n",
    "print(x[:3])\n",
    "\n",
    "print(x[2:5])  # last three letters\n",
    "print(x[2:])\n",
    "print(x[-3:])"
   ]
  },
  {
   "cell_type": "markdown",
   "id": "5c80f98a",
   "metadata": {},
   "source": [
    "# In-class examples"
   ]
  },
  {
   "cell_type": "markdown",
   "id": "4dbf3154",
   "metadata": {
    "slideshow": {
     "slide_type": "slide"
    }
   },
   "source": [
    "__Example 1:__ Find the volume of a cone.\n",
    "\n",
    "Base radius = 2 cm\n",
    "<br> Height = 10 cm\n",
    "\n",
    "Volume of a cone: $V = \\frac{Ah}{3}$  <br>where $A=$ base area\n",
    "<img src=\"img/cone.png\" alt=\"Drawing\" style=\"width: 200px;\"/>"
   ]
  },
  {
   "cell_type": "code",
   "execution_count": 5,
   "id": "e4e05005",
   "metadata": {},
   "outputs": [
    {
     "name": "stdout",
     "output_type": "stream",
     "text": [
      "41.89333333333333 cm3\n"
     ]
    }
   ],
   "source": [
    "pi = 3.142\n",
    "r = 2\n",
    "h = 10 \n",
    "\n",
    "A = pi * r ** 2  # (cm2)  \n",
    "\n",
    "# A can now be used as a variable in other equations\n",
    "\n",
    "V = A * h / 3    # (cm3)   \n",
    "\n",
    "print(V, 'cm3')"
   ]
  },
  {
   "cell_type": "markdown",
   "id": "b1ec0683",
   "metadata": {},
   "source": [
    "__Example 2:__ Create a varibale `Name` and assign it a `string` value. <br>Use the variable to print the output: `My name is` followed by the value of `Name`. e.g.\n",
    "\n",
    "\n",
    "    My name is Hemma\n"
   ]
  },
  {
   "cell_type": "code",
   "execution_count": 10,
   "id": "01935b36",
   "metadata": {},
   "outputs": [
    {
     "name": "stdout",
     "output_type": "stream",
     "text": [
      "My name is Hemma\n"
     ]
    }
   ],
   "source": [
    "Name = 'Hemma'\n",
    "\n",
    "print('My name is ' + Name)"
   ]
  }
 ],
 "metadata": {
  "kernelspec": {
   "display_name": "Python 3",
   "language": "python",
   "name": "python3"
  },
  "language_info": {
   "codemirror_mode": {
    "name": "ipython",
    "version": 3
   },
   "file_extension": ".py",
   "mimetype": "text/x-python",
   "name": "python",
   "nbconvert_exporter": "python",
   "pygments_lexer": "ipython3",
   "version": "3.8.8"
  }
 },
 "nbformat": 4,
 "nbformat_minor": 5
}
