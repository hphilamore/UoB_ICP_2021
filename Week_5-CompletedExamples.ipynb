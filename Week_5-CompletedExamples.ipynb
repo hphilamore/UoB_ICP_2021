{
 "cells": [
  {
   "cell_type": "markdown",
   "metadata": {},
   "source": [
    "# Week 5.1 - Classes\n",
    "\n",
    "**Example** Defining a class, called MyFraction, for fractions"
   ]
  },
  {
   "cell_type": "code",
   "execution_count": 8,
   "metadata": {},
   "outputs": [],
   "source": [
    "import math\n",
    "\n",
    "class MyFraction():\n",
    "    # contructor\n",
    "    def __init__(self, num, den):\n",
    "        # attributes\n",
    "        self.num = num\n",
    "        self.den = den\n",
    "        self.simplify()\n",
    "        \n",
    "    # calculates the floating point value\n",
    "    def calc_float(self):\n",
    "        return self.num / self.den\n",
    "    \n",
    "    # simplify the fraction\n",
    "    def simplify(self):\n",
    "        # find the greatest common divisor\n",
    "        gcd = math.gcd(self.num, self.den)\n",
    "        \n",
    "        # simplify the numerator and denomenator\n",
    "        self.num = int(self.num / gcd)\n",
    "        self.den = int(self.den / gcd)\n",
    "                \n",
    "    # prints the function nicely (the clunky way)\n",
    "    def nice_print(self):\n",
    "        print('\\n ' + str(self.num) + '\\n---\\n' + ' ' + str(self.den) + '\\n')\n",
    "        \n",
    "    # redefine Python's str function to work with MyFraction objects\n",
    "    def __str__(self):\n",
    "        return '\\n ' + str(self.num) + '\\n---\\n' + ' ' + str(self.den) + '\\n'\n",
    "    \n",
    "    # overload the multiplication operator *\n",
    "    def __mul__(self, other):\n",
    "        \n",
    "        num = self.num * other.num\n",
    "        den = self.den * other.den\n",
    "        \n",
    "        return MyFraction(num, den)"
   ]
  },
  {
   "cell_type": "markdown",
   "metadata": {},
   "source": [
    "***\n",
    "**Example**: Define a fraction"
   ]
  },
  {
   "cell_type": "code",
   "execution_count": 12,
   "metadata": {},
   "outputs": [],
   "source": [
    "a = MyFraction(2, 4)"
   ]
  },
  {
   "cell_type": "markdown",
   "metadata": {},
   "source": [
    "***\n",
    "**Example**: Access the numerator and denominator of a fraction and print them"
   ]
  },
  {
   "cell_type": "code",
   "execution_count": 13,
   "metadata": {},
   "outputs": [
    {
     "name": "stdout",
     "output_type": "stream",
     "text": [
      "1\n",
      "2\n"
     ]
    }
   ],
   "source": [
    "print(a.num)\n",
    "print(a.den)"
   ]
  },
  {
   "cell_type": "markdown",
   "metadata": {},
   "source": [
    "***\n",
    "**Example**: Calculate the floating point approximation using the `calc_float` method"
   ]
  },
  {
   "cell_type": "code",
   "execution_count": 14,
   "metadata": {},
   "outputs": [
    {
     "data": {
      "text/plain": [
       "0.5"
      ]
     },
     "execution_count": 14,
     "metadata": {},
     "output_type": "execute_result"
    }
   ],
   "source": [
    "a.calc_float()"
   ]
  },
  {
   "cell_type": "markdown",
   "metadata": {},
   "source": [
    "***\n",
    "**Example**: Print a fraction using the `nice_print` method"
   ]
  },
  {
   "cell_type": "code",
   "execution_count": 15,
   "metadata": {},
   "outputs": [
    {
     "name": "stdout",
     "output_type": "stream",
     "text": [
      "\n",
      " 1\n",
      "---\n",
      " 2\n",
      "\n"
     ]
    }
   ],
   "source": [
    "a.nice_print()"
   ]
  },
  {
   "cell_type": "markdown",
   "metadata": {},
   "source": [
    "***\n",
    "**Example**: Print a fraction using Python's `print` function"
   ]
  },
  {
   "cell_type": "code",
   "execution_count": 16,
   "metadata": {},
   "outputs": [
    {
     "name": "stdout",
     "output_type": "stream",
     "text": [
      "\n",
      " 1\n",
      "---\n",
      " 2\n",
      "\n"
     ]
    }
   ],
   "source": [
    "print(a)"
   ]
  },
  {
   "cell_type": "markdown",
   "metadata": {},
   "source": [
    "***\n",
    "**Example**: Multiply two fractions and print the result"
   ]
  },
  {
   "cell_type": "code",
   "execution_count": 19,
   "metadata": {},
   "outputs": [
    {
     "name": "stdout",
     "output_type": "stream",
     "text": [
      "\n",
      " 2\n",
      "---\n",
      " 5\n",
      "\n"
     ]
    }
   ],
   "source": [
    "a = MyFraction(1, 2)\n",
    "b = MyFraction(4, 5)\n",
    "c = a * b\n",
    "print(c)"
   ]
  },
  {
   "cell_type": "markdown",
   "metadata": {},
   "source": [
    "***\n",
    "# Week 5.2 - Class inheritance\n",
    "\n",
    "**Example**: Define a subclass of MyFraction, called NamedFraction, that has an extra attribute that provides the name of the fraction (e.g. one quarter, two thirds, etc.)"
   ]
  },
  {
   "cell_type": "code",
   "execution_count": 34,
   "metadata": {},
   "outputs": [],
   "source": [
    "class NamedFraction(MyFraction):\n",
    "    \n",
    "    # the constructor\n",
    "    def __init__(self, num, den, name):\n",
    "        # call the constructor for the superclass to inherit attributes\n",
    "        super().__init__(num, den)\n",
    "        self.name = name\n",
    "    \n",
    "    # redefine the str function\n",
    "    def __str__(self):\n",
    "        return self.name + ' = ' + str(self.num) + '/' + str(self.den)\n",
    "    \n",
    "    # approximate the fraction with n digits of accuracy\n",
    "    def sig_fig(self, n):\n",
    "        return round(self.num / self.den, n)"
   ]
  },
  {
   "cell_type": "markdown",
   "metadata": {},
   "source": [
    "***\n",
    "**Example**: Define a NamedFraction object"
   ]
  },
  {
   "cell_type": "code",
   "execution_count": 35,
   "metadata": {},
   "outputs": [
    {
     "name": "stdout",
     "output_type": "stream",
     "text": [
      "One third\n",
      "0.3333333333333333\n"
     ]
    }
   ],
   "source": [
    "a = NamedFraction(1, 3, 'One third')\n",
    "print(a.name)\n",
    "print(a.calc_float())"
   ]
  },
  {
   "cell_type": "markdown",
   "metadata": {},
   "source": [
    "***\n",
    "**Example**: Print a NamedFraction object and compare it with the output from printing a MyFraction object"
   ]
  },
  {
   "cell_type": "code",
   "execution_count": 37,
   "metadata": {},
   "outputs": [
    {
     "name": "stdout",
     "output_type": "stream",
     "text": [
      "One third = 1/3\n",
      "\n",
      " 1\n",
      "---\n",
      " 3\n",
      "\n"
     ]
    }
   ],
   "source": [
    "print(a)\n",
    "\n",
    "b = MyFraction(1,3)\n",
    "print(b)"
   ]
  },
  {
   "cell_type": "markdown",
   "metadata": {},
   "source": [
    "***\n",
    "**Example**: Approximate the value of a NamedFraction object with 3 digits of accuracy:"
   ]
  },
  {
   "cell_type": "code",
   "execution_count": 38,
   "metadata": {},
   "outputs": [
    {
     "data": {
      "text/plain": [
       "0.333"
      ]
     },
     "execution_count": 38,
     "metadata": {},
     "output_type": "execute_result"
    }
   ],
   "source": [
    "a = NamedFraction(1, 3, 'One third')\n",
    "a.sig_fig(3)"
   ]
  }
 ],
 "metadata": {
  "kernelspec": {
   "display_name": "Python 3",
   "language": "python",
   "name": "python3"
  },
  "language_info": {
   "codemirror_mode": {
    "name": "ipython",
    "version": 3
   },
   "file_extension": ".py",
   "mimetype": "text/x-python",
   "name": "python",
   "nbconvert_exporter": "python",
   "pygments_lexer": "ipython3",
   "version": "3.8.10"
  }
 },
 "nbformat": 4,
 "nbformat_minor": 4
}
