{
 "cells": [
  {
   "cell_type": "markdown",
   "id": "6c682270",
   "metadata": {
    "slideshow": {
     "slide_type": "slide"
    }
   },
   "source": [
    "# Introduction to Computer Programming\n",
    "\n",
    "## Week 9.2: Curve Fitting \n",
    "\n",
    "* * *\n",
    "\n",
    "<img src=\"img/full-colour-logo-UoB.png\" alt=\"Bristol\" style=\"width: 300px;\"/>"
   ]
  },
  {
   "cell_type": "markdown",
   "id": "e06f550d",
   "metadata": {
    "slideshow": {
     "slide_type": "slide"
    }
   },
   "source": [
    "# In-class Demos"
   ]
  },
  {
   "cell_type": "markdown",
   "id": "7074dd17",
   "metadata": {
    "slideshow": {
     "slide_type": "slide"
    }
   },
   "source": [
    "__Example 1:__ \n",
    "\n",
    "Fit third degree polynomial function the x,y data given. \n",
    "\n",
    "Find the root mean square error for the fitted data  $$RMSE=\\sqrt{\\frac{1}{N}\\sum_{i=1}^{N}{\\varepsilon_i^2}}$$    "
   ]
  },
  {
   "cell_type": "code",
   "execution_count": null,
   "id": "00eecfb5",
   "metadata": {},
   "outputs": [],
   "source": [
    "x = np.array([1, 6, 3, 4, 10, 2, 7, 8, 9, 5])\n",
    "y = np.array([2, 4, 5, 4, 13, 3, 4, 8, 12, 4])"
   ]
  },
  {
   "cell_type": "code",
   "execution_count": 71,
   "id": "75210e5f",
   "metadata": {},
   "outputs": [],
   "source": [
    "# Find coefficients of polynomial\n",
    "coeffs_3 = np.polyfit(x, y, 3)\n",
    "\n",
    "# Generate fitted data \n",
    "yfit3 = np.poly1d(coeffs_3)(x)\n",
    "\n",
    "# RMSE \n",
    "rmse = RMSE(x,y,yfit3) # using RMSE function defined in earlier example "
   ]
  },
  {
   "cell_type": "markdown",
   "id": "9ecec9f6",
   "metadata": {
    "collapsed": true,
    "slideshow": {
     "slide_type": "slide"
    }
   },
   "source": [
    "__Example 2__: \n",
    "\n",
    "Import data in from `sample_data/signal_data.csv`. \n",
    "\n",
    "Fit a function of the form $y = a \\sin(x +b)$ to the data. <br>(i.e. find constants $a$ and $b$). \n",
    "\n",
    "Plot the raw and fitted data on the same graph."
   ]
  },
  {
   "cell_type": "code",
   "execution_count": 82,
   "id": "e3e9047d",
   "metadata": {},
   "outputs": [
    {
     "data": {
      "image/png": "[encoded data removed]",
      "text/plain": [
       "<Figure size 432x288 with 1 Axes>"
      ]
     },
     "metadata": {
      "needs_background": "light"
     },
     "output_type": "display_data"
    }
   ],
   "source": [
    "# IMPORT DATA\n",
    "s = np.loadtxt('sample_data/signal_data.csv', dtype=float, delimiter=',')\n",
    "x = s[0]\n",
    "y = s[1]\n",
    "\n",
    "\n",
    "# DEFINE FUNCTION TO FIT \n",
    "def sin_func(x, a, b):             \n",
    "    y = a * np.sin(x + b) \n",
    "    return y\n",
    "\n",
    "# FIT CONSTANTS\n",
    "c, cov = curve_fit(sin_func, x, y)  \n",
    "c = curve_fit(sin_func, x, y)[0]\n",
    "\n",
    "\n",
    "# GENERATE FITTED DATA\n",
    "x_new = np.array(sorted(x))         # sort x data monotonically\n",
    "y_fit = sin_func(x_new, *c)         # run function on sorted data\n",
    "\n",
    "\n",
    "# PLOT\n",
    "plt.plot(x,     y,     'o',    label='raw')\n",
    "plt.plot(x_new, y_fit, 'r',    label='fit')\n",
    "plt.legend(loc='best');                \n"
   ]
  }
 ],
 "metadata": {
  "celltoolbar": "Slideshow",
  "kernelspec": {
   "display_name": "Python 3",
   "language": "python",
   "name": "python3"
  },
  "language_info": {
   "codemirror_mode": {
    "name": "ipython",
    "version": 3
   },
   "file_extension": ".py",
   "mimetype": "text/x-python",
   "name": "python",
   "nbconvert_exporter": "python",
   "pygments_lexer": "ipython3",
   "version": "3.8.8"
  }
 },
 "nbformat": 4,
 "nbformat_minor": 5
}
