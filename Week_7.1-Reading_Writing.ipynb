{
 "cells": [
  {
   "cell_type": "markdown",
   "metadata": {
    "slideshow": {
     "slide_type": "slide"
    }
   },
   "source": [
    "# Introduction to Computer Programming\n",
    "\n",
    "## Week 7.1: Reading & Writing Files\n",
    "\n",
    "* * *\n",
    "\n",
    "<img src=\"img/full-colour-logo-UoB.png\" alt=\"Bristol\" style=\"width: 300px;\"/>"
   ]
  },
  {
   "cell_type": "markdown",
   "metadata": {
    "slideshow": {
     "slide_type": "slide"
    }
   },
   "source": [
    "Open Spyder now "
   ]
  },
  {
   "cell_type": "markdown",
   "metadata": {
    "slideshow": {
     "slide_type": "slide"
    }
   },
   "source": [
    "__Reading files__ : Importing data (e.g. experiment results) into a program\n",
    "\n",
    "__Writing files__ : Exporting data - storing data outside of the program. <br>(e.g. output of a calculation) "
   ]
  },
  {
   "cell_type": "markdown",
   "metadata": {
    "slideshow": {
     "slide_type": "slide"
    }
   },
   "source": [
    "Built-in Python functions for reading and writing text data files (.txt, .csv, .dat): \n",
    "- `open()`\n",
    "- `write()`\n",
    "- `close()` "
   ]
  },
  {
   "cell_type": "markdown",
   "metadata": {
    "slideshow": {
     "slide_type": "slide"
    }
   },
   "source": [
    "Before a file can be read or written to, it must be opened using the `open()` function. \n",
    "\n",
    "```python\n",
    "open(file_path, mode_specifier)\n",
    "```"
   ]
  },
  {
   "cell_type": "markdown",
   "metadata": {
    "slideshow": {
     "slide_type": "slide"
    }
   },
   "source": [
    "\n",
    "\n",
    "__Mode specifier:__ <br> An open file can be read, overwritten, or added to, depending on the mode specifier used to open it. \n",
    "\n",
    "\n",
    "| Mode specifier | Read (R)/Write (W)| File must already exist | If no file exists  | `write() `| Stream position when opened|\n",
    "| :-: | :-: | :-: | :-: | :-: | :-: | \n",
    "| `r` | R |Yes | N/A | N/A | start |\n",
    "| `w` | W |No | Creates new file | overwrites previous contents | start |\n",
    "| `a` | W |No | Creates new file | appends text to end of file| end |\n",
    "| `r+` | R+W |Yes | N/A | overwrites previous contents | start |\n",
    "| `w+` | R+W |No | Creates new file | overwrites previous contents | start |\n",
    "| `a+` | R+W | No | Creates new file | appends text to end of file | end |\n",
    "\n",
    "__append__: start writing at end of file<br>\n",
    "__write__: start writing at beginning of file"
   ]
  },
  {
   "cell_type": "markdown",
   "metadata": {
    "slideshow": {
     "slide_type": "slide"
    }
   },
   "source": [
    "Once the file is open, it creates a *file object*.  \n",
    "\n",
    "An object (an instance of a class) can have methods.\n",
    "\n",
    "Methods are actions or functions that the object is able to perform. "
   ]
  },
  {
   "cell_type": "markdown",
   "metadata": {
    "slideshow": {
     "slide_type": "slide"
    }
   },
   "source": [
    "# Writing files `w`\n",
    "We will use the methods:\n",
    "- `write()`\n",
    "- `close()`"
   ]
  },
  {
   "cell_type": "markdown",
   "metadata": {},
   "source": [
    "`write` can be used to write string data to a text file.\n",
    "\n",
    "```python\n",
    "file = open('my_file.txt', 'w') # mode specifier to write\n",
    "\n",
    "file.write('hello world')\n",
    "\n",
    "file.close()\n",
    "```"
   ]
  },
  {
   "cell_type": "markdown",
   "metadata": {
    "slideshow": {
     "slide_type": "slide"
    }
   },
   "source": [
    "A file type that is often used to store tabulated data is the .csv file.\n",
    "\n",
    ".csv files can be opened in spreadsheet programs like excel  \n",
    "\n",
    "A .csv file is simply a text file, with row items separated (or *delimited*) by commas."
   ]
  },
  {
   "cell_type": "markdown",
   "metadata": {
    "slideshow": {
     "slide_type": "slide"
    }
   },
   "source": [
    "__Example:__ <br>\n",
    "Write the high score table shown to a new file with the filename scores.txt / scores.csv\n",
    "\n",
    "| |  | \n",
    "| :-: | :-: |  \n",
    "| Elena | 550 | \n",
    "| Sajid | 480 | \n",
    "| Tom | 380 | \n",
    "| Farhad | 305 | \n",
    "| Manesha | 150 | "
   ]
  },
  {
   "cell_type": "code",
   "execution_count": 281,
   "metadata": {},
   "outputs": [],
   "source": [
    "names = ['Elena', 'Sajid', 'Tom', 'Farhad', 'Manesha']\n",
    "scores = [550, 480, 380, 305, 150]\n",
    "\n",
    "file = open('sample_data/scores.txt', 'w') \n",
    " \n",
    "\n",
    "\n",
    "# loop through two lists \n",
    "for n, s in zip(names, scores):\n",
    "    file.write(n + ' ' + str(s) + '\\n') # numbers converted to string\n",
    "    \n",
    "    #file.write(f'{n} {s}\\n') # using f strings\n",
    "\n",
    "\n",
    "file.close()"
   ]
  },
  {
   "cell_type": "markdown",
   "metadata": {
    "slideshow": {
     "slide_type": "slide"
    }
   },
   "source": [
    "# Importing a file from a different directory\n",
    "So far we have considered reading/writing files located within the same directory as the Python program. \n",
    "\n",
    "Like when importing Python files/modules, often we want to read/write a file located in a different directory. \n",
    "\n",
    "The directory must already exist. "
   ]
  },
  {
   "cell_type": "markdown",
   "metadata": {
    "slideshow": {
     "slide_type": "slide"
    }
   },
   "source": [
    "## Downstream file location\n",
    "\n",
    "`/` is used to indicate a sub-directory downstream of the current location.\n",
    "\n",
    "\n",
    "```python\n",
    "\n",
    "Documents/\n",
    "│\n",
    "├── Folder_1/\n",
    "│   └── myScores.txt\n",
    "│\n",
    "├── Folder_2/\n",
    "│   └── scores.txt\n",
    "│\n",
    "└── read_write.py\n",
    "\n",
    "```\n",
    "\n",
    "__Example:__ Open a downstream file within `read_write.py`:\n",
    "\n",
    "`file = open('Folder_1/myScores.txt', 'w')`"
   ]
  },
  {
   "cell_type": "markdown",
   "metadata": {
    "slideshow": {
     "slide_type": "slide"
    }
   },
   "source": [
    "## Upstream file location\n",
    "`../` is used to indicate a location one directory upstream of the current location.\n",
    "\n",
    "\n",
    "```python\n",
    "\n",
    "Documents/\n",
    "│\n",
    "├── Folder_1/\n",
    "│   └── read_write.py\n",
    "│\n",
    "├── Folder_2/\n",
    "│   └── scores.txt\n",
    "│\n",
    "└── myScores.txt\n",
    "\n",
    "```\n",
    "\n",
    "__Example:__ Open an upstream file within `read_write.py`:\n",
    "\n",
    "    file = open('../myScores.txt', 'w')\n",
    "\n",
    "__Example:__ Open a file in a different directory at the same level as the directory containing `read_write.py:    \n",
    "\n",
    "    file = open('../Folder_2/scores.txt', 'w')"
   ]
  },
  {
   "cell_type": "markdown",
   "metadata": {
    "slideshow": {
     "slide_type": "slide"
    }
   },
   "source": [
    "### Closing Files\n",
    "Why do we need to close a file?\n",
    "1. Not automatically closed.  \n",
    "3. Saves changes to file.\n",
    "4. Depending on OS, you may not be able to open a file simultaneously for reading and writing e.g. a program attempts to open a file for writing that is already open for reading"
   ]
  },
  {
   "cell_type": "markdown",
   "metadata": {
    "slideshow": {
     "slide_type": "slide"
    }
   },
   "source": [
    "`close` is just a method, belonging to the file object. \n",
    "\n",
    "The simplest open-close process is shown.  \n",
    "\n",
    "This will erase the contents of / create a new file `file.txt` in the folder `sample_data`"
   ]
  },
  {
   "cell_type": "code",
   "execution_count": 235,
   "metadata": {},
   "outputs": [],
   "source": [
    "open('sample_data/file.txt', 'w').close()\n"
   ]
  },
  {
   "cell_type": "markdown",
   "metadata": {
    "slideshow": {
     "slide_type": "slide"
    }
   },
   "source": [
    "# Appending files `a`\n",
    "\n",
    "Start writing at end of file. \n",
    "\n",
    "__Example:__ Append (add a new entry to the end of) scores.txt so that the table reads\n",
    "\n",
    "\n",
    "  \n",
    "| |  | \n",
    "| :-: | :-: |  \n",
    "| Elena | 550 | \n",
    "| Sajid | 480 | \n",
    "| Tom | 380 | \n",
    "| Farhad | 305 | \n",
    "| Manesha | 150 | \n",
    "| Jen | 100 |\n"
   ]
  },
  {
   "cell_type": "code",
   "execution_count": 250,
   "metadata": {},
   "outputs": [],
   "source": [
    "file = open('sample_data/scores.txt', 'a')  \n",
    "\n",
    "file.write('Jen 100\\n')\n",
    "\n",
    "file.close()\n"
   ]
  },
  {
   "cell_type": "markdown",
   "metadata": {
    "slideshow": {
     "slide_type": "slide"
    }
   },
   "source": [
    "# Reading Files `r`\n",
    "\n",
    "We use the mode specifier `'r'` to open a file in read mode. \n",
    "\n",
    "`'r'` can be omitted as it is the default value for the named argument `mode`.  \n",
    "\n",
    "The file object is:\n",
    "- iterable (can use for loop etc)\n",
    "- not subscriptable (cannot index individual elements)"
   ]
  },
  {
   "cell_type": "code",
   "execution_count": 252,
   "metadata": {},
   "outputs": [
    {
     "name": "stdout",
     "output_type": "stream",
     "text": [
      "Elena 550\n",
      "\n",
      "Sajid 480\n",
      "\n",
      "Tom 380\n",
      "\n",
      "Farhad 305\n",
      "\n",
      "Manesha 150\n",
      "\n",
      "Jen 100\n",
      "\n"
     ]
    }
   ],
   "source": [
    "f = open('sample_data/scores.txt', 'r')    \n",
    "\n",
    "# print(f[0])    # not subscriptable\n",
    "\n",
    "for line in f:  # iterable\n",
    "    print(line) # each line is a string"
   ]
  },
  {
   "cell_type": "markdown",
   "metadata": {
    "slideshow": {
     "slide_type": "slide"
    }
   },
   "source": [
    "\n",
    "\n",
    "The __stream position__:\n",
    "\n",
    "- can be thought of as a curser. \n",
    "- goes to end of file when an operation run on file object\n",
    "- can be returned to start (or any position) with `seek` "
   ]
  },
  {
   "cell_type": "markdown",
   "metadata": {
    "slideshow": {
     "slide_type": "slide"
    }
   },
   "source": [
    "\n",
    "Be aware of the *stream position* when opening a file to read. \n",
    "\n",
    "\n",
    "The stream position is:\n",
    "- at the *start* of the file after reading. \n",
    "- at the *end* of the file after reading. \n"
   ]
  },
  {
   "cell_type": "code",
   "execution_count": 255,
   "metadata": {},
   "outputs": [
    {
     "name": "stdout",
     "output_type": "stream",
     "text": [
      "Elena 550\n",
      "Sajid 480\n",
      "Tom 380\n",
      "Farhad 305\n",
      "Manesha 150\n",
      "Jen 100\n"
     ]
    }
   ],
   "source": [
    "f = open('sample_data/scores.txt', 'r')    \n",
    "\n",
    "\n",
    "for line in f:  # iterable\n",
    "    print(line, end='') # each line is a string\n",
    "    \n",
    "# f.seek(0)      # stream position goes to end of file when operation run on file object\n",
    "                # can be returned to start with seek \n",
    "    \n",
    "for line in f:\n",
    "    print(line, end='') \n",
    "    \n",
    "f.close()"
   ]
  },
  {
   "cell_type": "markdown",
   "metadata": {
    "slideshow": {
     "slide_type": "slide"
    }
   },
   "source": [
    "If we convert the file object to a list:\n",
    "- it is subsriptable \n",
    "- the stream position of the list doesn't need to be reset after each operation\n",
    "- the stream position of the file object is at the end of the file after the list conversion operation"
   ]
  },
  {
   "cell_type": "markdown",
   "metadata": {
    "slideshow": {
     "slide_type": "slide"
    }
   },
   "source": [
    "__Example:__ \n",
    "\n",
    "Print the list of names and a list of scores from the file `'sample_data/scores.txt'`\n",
    "\n",
    "Print the name and score of the winner.    "
   ]
  },
  {
   "cell_type": "code",
   "execution_count": 256,
   "metadata": {},
   "outputs": [
    {
     "name": "stdout",
     "output_type": "stream",
     "text": [
      "Elena 550\n",
      "\n",
      "Sajid 480\n",
      "\n",
      "Tom 380\n",
      "\n",
      "Farhad 305\n",
      "\n",
      "Manesha 150\n",
      "\n",
      "Jen 100\n",
      "\n",
      "winner:  Elena 550\n",
      "\n"
     ]
    }
   ],
   "source": [
    "f = open('sample_data/scores.txt', 'r')\n",
    "\n",
    "file = list(f)               # convert to list of strings (lines)\n",
    "\n",
    "for line in file:  \n",
    "    print(line) \n",
    "    \n",
    "print('winner: ', file[0])   # subscriptable (no need to return to start position)\n",
    "    \n",
    "f.close()"
   ]
  },
  {
   "cell_type": "markdown",
   "metadata": {
    "slideshow": {
     "slide_type": "slide"
    }
   },
   "source": [
    "# Reading and Writing with `r+`, `w+`, `a+`\n",
    "\n",
    "All modes can be used to read and write files. \n",
    "\n",
    "Differences that determine which to use:\n",
    "- Stream position when opened\n",
    "- How the stream position when opened affects `write() `\n",
    "\n",
    "\n",
    "<br>\n",
    "\n",
    "<br>\n",
    "\n",
    "\n",
    "| Mode specifier | Read (R)/Write (W)| File must already exist | If no file exists  | `write()`| Stream position when opened|\n",
    "| :-: | :-: | :-: | :-: | :-: | :-: | \n",
    "| `r+` | R+W |Yes | N/A | overwrites previous contents | start |\n",
    "| `w+` | R+W |No | Creates new file | overwrites previous contents | start |\n",
    "| `a+` | R+W | No | Creates new file | appends text to end of file | end |\n",
    "\n"
   ]
  },
  {
   "cell_type": "markdown",
   "metadata": {
    "slideshow": {
     "slide_type": "slide"
    }
   },
   "source": [
    "# `a+`\n",
    "__Example__: When we want to read and/or edit (append only).\n",
    "\n",
    "\n",
    "The stream position is: \n",
    "- at the *end* when opened (must be moved to the start to read). \n",
    "- always moved to the *end* before writing when `write` is called (previous contents never overwritten).\n",
    "- at the *end* after writing.  \n"
   ]
  },
  {
   "cell_type": "code",
   "execution_count": null,
   "metadata": {},
   "outputs": [],
   "source": []
  },
  {
   "cell_type": "markdown",
   "metadata": {
    "slideshow": {
     "slide_type": "slide"
    }
   },
   "source": [
    "# `r+`\n",
    "__Example__: When we want to read and/or edit.\n",
    "\n",
    "The stream position is at the *end* of the file:\n",
    "\n",
    "- after reading\n",
    "- before appending\n",
    "- after appending\n"
   ]
  },
  {
   "cell_type": "code",
   "execution_count": null,
   "metadata": {},
   "outputs": [],
   "source": []
  },
  {
   "cell_type": "markdown",
   "metadata": {
    "slideshow": {
     "slide_type": "slide"
    }
   },
   "source": [
    "# `w+`\n",
    "__Example__: When we want to overwrite file then read \n",
    "\n",
    "The stream position is:\n",
    "- at the *start* when opened (previous contents overwritten).\n",
    "- at the *end* after writing (subsequent lines added using `write` will appended the file, not overwrite previous contents, until file is closed). \n",
    "\n",
    "Writing *must* happen before reading. \n"
   ]
  },
  {
   "cell_type": "code",
   "execution_count": null,
   "metadata": {},
   "outputs": [],
   "source": []
  },
  {
   "cell_type": "markdown",
   "metadata": {
    "slideshow": {
     "slide_type": "slide"
    }
   },
   "source": [
    "\n",
    "# Editing file contents  - a word of warning! \n",
    "\n",
    "Unlike the `+a` mode specifier `+r` and `+w` allow writing from *anywhere* in the file:\n",
    "- using `seek`\n",
    "- in `r+` mode where the stream position is at start of file\n",
    "\n"
   ]
  },
  {
   "cell_type": "code",
   "execution_count": 265,
   "metadata": {},
   "outputs": [
    {
     "name": "stdout",
     "output_type": "stream",
     "text": [
      "Sid 50\n",
      "Jo 20\n",
      "500\n"
     ]
    }
   ],
   "source": [
    "file = open('sample_data/scores.txt', 'r+') # stream position at start of file\n",
    "\n",
    "    \n",
    "file.write('Sid 50\\n')                      # overwrite \n",
    "file.write('Jo 20\\n')\n",
    "\n",
    "file.seek(0)\n",
    "\n",
    "for line in file:                           # read \n",
    "    print(line, end='')\n",
    "\n",
    "    \n",
    "file.close()"
   ]
  },
  {
   "cell_type": "markdown",
   "metadata": {},
   "source": [
    "\n",
    "\n",
    "- `'\\n'` inserts a 'new line' character \n",
    "- any trailing characters \n",
    "\n",
    "```python\n",
    "    Tim 50\\nMajid  500\\n\n",
    "    Sid 50\\nJo 20\\n \n",
    "```\n",
    "   "
   ]
  },
  {
   "cell_type": "markdown",
   "metadata": {
    "slideshow": {
     "slide_type": "slide"
    }
   },
   "source": [
    "It is advisable to:\n",
    "1. convert the data you want to edit to an format to a easy-to-edit Python data structure\n",
    "1. overwrite the original file"
   ]
  },
  {
   "cell_type": "markdown",
   "metadata": {
    "slideshow": {
     "slide_type": "slide"
    }
   },
   "source": [
    "__Example__: Edit the file to remove the unwanted line between Jo and Ola.  \n",
    "\n",
    "The file can be erased from a position onwards with `truncate()`, (default position is current position)"
   ]
  },
  {
   "cell_type": "code",
   "execution_count": 267,
   "metadata": {},
   "outputs": [
    {
     "ename": "IndexError",
     "evalue": "list assignment index out of range",
     "output_type": "error",
     "traceback": [
      "\u001b[0;31m---------------------------------------------------------------------------\u001b[0m",
      "\u001b[0;31mIndexError\u001b[0m                                Traceback (most recent call last)",
      "\u001b[0;32m<ipython-input-267-e0b21f424292>\u001b[0m in \u001b[0;36m<module>\u001b[0;34m\u001b[0m\n\u001b[1;32m      3\u001b[0m \u001b[0mfile\u001b[0m \u001b[0;34m=\u001b[0m \u001b[0mlist\u001b[0m\u001b[0;34m(\u001b[0m\u001b[0mf\u001b[0m\u001b[0;34m)\u001b[0m      \u001b[0;31m# convert to list of strings (lines)\u001b[0m\u001b[0;34m\u001b[0m\u001b[0;34m\u001b[0m\u001b[0m\n\u001b[1;32m      4\u001b[0m \u001b[0;34m\u001b[0m\u001b[0m\n\u001b[0;32m----> 5\u001b[0;31m \u001b[0;32mdel\u001b[0m \u001b[0mfile\u001b[0m\u001b[0;34m[\u001b[0m\u001b[0;36m2\u001b[0m\u001b[0;34m]\u001b[0m         \u001b[0;31m# remove element 2\u001b[0m\u001b[0;34m\u001b[0m\u001b[0;34m\u001b[0m\u001b[0m\n\u001b[0m\u001b[1;32m      6\u001b[0m \u001b[0;34m\u001b[0m\u001b[0m\n\u001b[1;32m      7\u001b[0m \u001b[0mprint\u001b[0m\u001b[0;34m(\u001b[0m\u001b[0mfile\u001b[0m\u001b[0;34m)\u001b[0m\u001b[0;34m\u001b[0m\u001b[0;34m\u001b[0m\u001b[0m\n",
      "\u001b[0;31mIndexError\u001b[0m: list assignment index out of range"
     ]
    }
   ],
   "source": [
    "f = open('sample_data/scores.txt', 'r+')\n",
    "\n",
    "file = list(f)      # convert to list of strings (lines)\n",
    "    \n",
    "del file[2]         # remove element 2\n",
    "\n",
    "print(file)\n",
    "\n",
    "f.seek(0)           # go to start of file\n",
    "\n",
    "for line in file:   # overwrite original file\n",
    "    f.write(line)\n",
    "    \n",
    "f.truncate()        # remove trailing characters as new message is shorter\n",
    "    \n",
    "f.close()\n"
   ]
  },
  {
   "cell_type": "code",
   "execution_count": 268,
   "metadata": {
    "slideshow": {
     "slide_type": "slide"
    }
   },
   "outputs": [
    {
     "name": "stdout",
     "output_type": "stream",
     "text": [
      "Sid 50\n",
      "Jo 20\n"
     ]
    }
   ],
   "source": [
    "file = open('sample_data/scores.txt', 'r+') \n",
    "\n",
    "for line in file:               # read file contents\n",
    "    print(line, end='')\n",
    "    \n",
    "file.close()"
   ]
  },
  {
   "cell_type": "markdown",
   "metadata": {
    "slideshow": {
     "slide_type": "slide"
    }
   },
   "source": [
    "# Automatically closing files\n",
    "It can be easy to forget to close a file with `close()`\n",
    "\n",
    "`with open()` can be used instead of `open()` to remove the need for `close()`:"
   ]
  },
  {
   "cell_type": "code",
   "execution_count": 272,
   "metadata": {
    "slideshow": {
     "slide_type": "-"
    }
   },
   "outputs": [
    {
     "name": "stdout",
     "output_type": "stream",
     "text": [
      "next bit of the program\n"
     ]
    }
   ],
   "source": [
    "with open('sample_data/scores.txt', 'a') as file:\n",
    "    file.write('Ria 460 \\n')\n",
    "    \n",
    "print('next bit of the program') # Code unindents. File automatically closed\n"
   ]
  },
  {
   "cell_type": "code",
   "execution_count": 273,
   "metadata": {
    "slideshow": {
     "slide_type": "-"
    }
   },
   "outputs": [
    {
     "name": "stdout",
     "output_type": "stream",
     "text": [
      "Sid 50\n",
      "Jo 20\n",
      "8 Ria 460 \n",
      "Ria 460 \n",
      "Ria 460 \n",
      "\n"
     ]
    }
   ],
   "source": [
    "with open('sample_data/scores.txt', 'r') as file:\n",
    "    print(file.read())\n",
    "    "
   ]
  },
  {
   "cell_type": "markdown",
   "metadata": {
    "slideshow": {
     "slide_type": "slide"
    }
   },
   "source": [
    "# Summary \n",
    "- Python functions for reading and writing files: `open()`, `read()`, `write()`, `close()`\n",
    "- The __mode specifier__ defines operations that can be performed on the opened file \n",
    "- Files must always be closed after opening\n",
    "- Files can be automatically closed by opening with `with open`\n"
   ]
  },
  {
   "cell_type": "markdown",
   "metadata": {
    "slideshow": {
     "slide_type": "slide"
    }
   },
   "source": [
    "# In-class demos"
   ]
  },
  {
   "cell_type": "markdown",
   "metadata": {
    "slideshow": {
     "slide_type": "slide"
    }
   },
   "source": [
    "##### Try it yourself\n",
    "\n",
    "__Example 1:__ Write a high score table stored as two __lists__ to a new file with the name scores.csv\n",
    "\n",
    "Hint: use a `for` loop "
   ]
  },
  {
   "cell_type": "code",
   "execution_count": 307,
   "metadata": {},
   "outputs": [],
   "source": [
    "names = ['Elena', 'Sajid', 'Tom', 'Farhad', 'Manesha']\n",
    "scores = [550, 480, 380, 305, 150]\n",
    "    \n"
   ]
  },
  {
   "cell_type": "code",
   "execution_count": null,
   "metadata": {},
   "outputs": [],
   "source": []
  },
  {
   "cell_type": "markdown",
   "metadata": {
    "slideshow": {
     "slide_type": "slide"
    }
   },
   "source": [
    "##### Try it yourself\n",
    "__Example 2:__ Read the file you just created and print each line"
   ]
  },
  {
   "cell_type": "code",
   "execution_count": null,
   "metadata": {},
   "outputs": [],
   "source": []
  },
  {
   "cell_type": "markdown",
   "metadata": {
    "slideshow": {
     "slide_type": "slide"
    }
   },
   "source": [
    "##### Try it yourself\n",
    "__Example 3:__ Read the file you just created and print the first row"
   ]
  },
  {
   "cell_type": "code",
   "execution_count": null,
   "metadata": {},
   "outputs": [],
   "source": [
    "\n"
   ]
  },
  {
   "cell_type": "markdown",
   "metadata": {
    "slideshow": {
     "slide_type": "slide"
    }
   },
   "source": [
    "__Example 4:__ Read the file you just created and make a Python list of:\n",
    "- names\n",
    "- scores"
   ]
  },
  {
   "cell_type": "code",
   "execution_count": null,
   "metadata": {},
   "outputs": [],
   "source": [
    "  \n",
    "\n"
   ]
  },
  {
   "cell_type": "markdown",
   "metadata": {
    "slideshow": {
     "slide_type": "slide"
    }
   },
   "source": [
    "__Example 5:__ change the first row to `'Mia, 700'`:\n"
   ]
  },
  {
   "cell_type": "code",
   "execution_count": null,
   "metadata": {},
   "outputs": [],
   "source": [
    "   \n",
    "    "
   ]
  }
 ],
 "metadata": {
  "celltoolbar": "Slideshow",
  "kernelspec": {
   "display_name": "Python 3",
   "language": "python",
   "name": "python3"
  },
  "language_info": {
   "codemirror_mode": {
    "name": "ipython",
    "version": 3
   },
   "file_extension": ".py",
   "mimetype": "text/x-python",
   "name": "python",
   "nbconvert_exporter": "python",
   "pygments_lexer": "ipython3",
   "version": "3.8.3"
  }
 },
 "nbformat": 4,
 "nbformat_minor": 5
}
