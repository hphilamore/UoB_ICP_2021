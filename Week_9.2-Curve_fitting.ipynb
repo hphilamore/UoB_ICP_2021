{
 "cells": [
  {
   "cell_type": "markdown",
   "id": "6c682270",
   "metadata": {
    "slideshow": {
     "slide_type": "slide"
    }
   },
   "source": [
    "# Introduction to Computer Programming\n",
    "\n",
    "## Week 9.2: Curve Fitting \n",
    "\n",
    "* * *\n",
    "\n",
    "<img src=\"img/full-colour-logo-UoB.png\" alt=\"Bristol\" style=\"width: 300px;\"/>"
   ]
  },
  {
   "cell_type": "markdown",
   "id": "58fcfa16",
   "metadata": {
    "slideshow": {
     "slide_type": "slide"
    }
   },
   "source": [
    "It can be useful to define a relationship between two variables, x and y. \n",
    "\n",
    "We often want to 'fit' a function to a set of data points (e.g. experimental data).\n",
    "\n",
    "Python has several tools (e.g. Numpy and Scipy packages) for finding relationships in a set of data."
   ]
  },
  {
   "cell_type": "code",
   "execution_count": 2,
   "id": "ece2ef60",
   "metadata": {},
   "outputs": [],
   "source": [
    "import numpy as np\n",
    "import matplotlib.pyplot as plt\n",
    "%matplotlib inline"
   ]
  },
  {
   "cell_type": "markdown",
   "id": "fa9b8f02",
   "metadata": {
    "slideshow": {
     "slide_type": "slide"
    }
   },
   "source": [
    "<a id='LinearRegression'></a>\n",
    "# Linear Regression\n",
    ">*__Linear function:__ <br>Has form* $$f(x) = mx + c$$ <br> *where $m$ and $c$ are constants*.\n",
    "\n",
    "Linear regression calculates a __linear function__ that minimizes the combined error between the fitted line and the data points. \n",
    "\n",
    "<img src=\"img/linear_regression.png\" alt=\"Drawing\" style=\"width: 300px;\"/>"
   ]
  },
  {
   "cell_type": "markdown",
   "id": "73afbd3e",
   "metadata": {
    "slideshow": {
     "slide_type": "slide"
    }
   },
   "source": [
    "<a id='FittingPolynomialFunction'></a>\n",
    "# Fitting a polynomial function\n",
    "\n",
    ">*__Polynomial function:__ a function involving only non-negative integer powers of x.*\n",
    "\n",
    "__1st degree polynomial__ &nbsp; &nbsp; $y = \\mathrm{a}x^1 + \\mathrm{b}x^0$\n",
    "<br>(linear function)\n",
    "\n",
    "__2nd degree polynomial__ &nbsp; &nbsp; $y = \\mathrm{c}x^2 + \\mathrm{d}x^1 + \\mathrm{e}x^0$\n",
    "\n",
    "__3rd degree polynomial__ &nbsp; &nbsp; $y = \\mathrm{f}x^3 + \\mathrm{g}x^2 + \\mathrm{h}x^1 + \\mathrm{i}x^0$\n"
   ]
  },
  {
   "cell_type": "code",
   "execution_count": 3,
   "id": "e84aaca1",
   "metadata": {
    "scrolled": true,
    "slideshow": {
     "slide_type": "slide"
    }
   },
   "outputs": [
    {
     "data": {
      "text/plain": [
       "[<matplotlib.lines.Line2D at 0x1e7c05e47f0>]"
      ]
     },
     "execution_count": 3,
     "metadata": {},
     "output_type": "execute_result"
    },
    {
     "data": {
      "image/png": "[encoded data removed]",
      "text/plain": [
       "<Figure size 432x288 with 1 Axes>"
      ]
     },
     "metadata": {
      "needs_background": "light"
     },
     "output_type": "display_data"
    }
   ],
   "source": [
    "x = np.array([1, 6, 3, 4, 10, 2, 7, 8, 9, 5])\n",
    "y = np.array([2, 4, 5, 4, 13, 3, 4, 8, 12, 4])\n",
    "plt.plot(x,y,'o')"
   ]
  },
  {
   "cell_type": "markdown",
   "id": "18950a8f",
   "metadata": {
    "slideshow": {
     "slide_type": "slide"
    }
   },
   "source": [
    "### Fitted function \n",
    "A polynomial function can be fitted using the `numpy.polyfit` function. \n",
    "\n",
    "Inputs: \n",
    "- independent variables \n",
    "- dependent variables \n",
    "- degree of the polynomial \n",
    "\n",
    "Returns:\n",
    "- coefficients of each term of the polynomial."
   ]
  },
  {
   "cell_type": "code",
   "execution_count": 1,
   "id": "bbfee35c",
   "metadata": {},
   "outputs": [
    {
     "ename": "NameError",
     "evalue": "name 'np' is not defined",
     "output_type": "error",
     "traceback": [
      "\u001b[1;31m---------------------------------------------------------------------------\u001b[0m",
      "\u001b[1;31mNameError\u001b[0m                                 Traceback (most recent call last)",
      "\u001b[1;32m<ipython-input-1-ff22c2088f27>\u001b[0m in \u001b[0;36m<module>\u001b[1;34m\u001b[0m\n\u001b[0;32m      1\u001b[0m \u001b[1;31m# coefficients of fited function\u001b[0m\u001b[1;33m\u001b[0m\u001b[1;33m\u001b[0m\u001b[1;33m\u001b[0m\u001b[0m\n\u001b[1;32m----> 2\u001b[1;33m \u001b[0mcoeffs_1\u001b[0m \u001b[1;33m=\u001b[0m \u001b[0mnp\u001b[0m\u001b[1;33m.\u001b[0m\u001b[0mpolyfit\u001b[0m\u001b[1;33m(\u001b[0m\u001b[0mx\u001b[0m\u001b[1;33m,\u001b[0m \u001b[0my\u001b[0m\u001b[1;33m,\u001b[0m \u001b[1;36m1\u001b[0m\u001b[1;33m)\u001b[0m \u001b[1;31m# 1st degree poly\u001b[0m\u001b[1;33m\u001b[0m\u001b[1;33m\u001b[0m\u001b[0m\n\u001b[0m\u001b[0;32m      3\u001b[0m \u001b[1;33m\u001b[0m\u001b[0m\n\u001b[0;32m      4\u001b[0m \u001b[0mcoeffs_2\u001b[0m \u001b[1;33m=\u001b[0m \u001b[0mnp\u001b[0m\u001b[1;33m.\u001b[0m\u001b[0mpolyfit\u001b[0m\u001b[1;33m(\u001b[0m\u001b[0mx\u001b[0m\u001b[1;33m,\u001b[0m \u001b[0my\u001b[0m\u001b[1;33m,\u001b[0m \u001b[1;36m2\u001b[0m\u001b[1;33m)\u001b[0m \u001b[1;31m# 2nd degree poly\u001b[0m\u001b[1;33m\u001b[0m\u001b[1;33m\u001b[0m\u001b[0m\n\u001b[0;32m      5\u001b[0m \u001b[1;33m\u001b[0m\u001b[0m\n",
      "\u001b[1;31mNameError\u001b[0m: name 'np' is not defined"
     ]
    }
   ],
   "source": [
    "# coefficients of fited function\n",
    "coeffs_1 = np.polyfit(x, y, 1) # 1st degree poly \n",
    "\n",
    "coeffs_2 = np.polyfit(x, y, 2) # 2nd degree poly\n",
    "\n",
    "print(coeffs_1)\n",
    "print(coeffs_2[0], coeffs_2[1], coeffs_2[2])"
   ]
  },
  {
   "cell_type": "markdown",
   "id": "8ee9bd84",
   "metadata": {
    "slideshow": {
     "slide_type": "slide"
    }
   },
   "source": [
    "### Fitted data \n",
    "`numpy.poly1d` : generates fitted y data allowing the fitted function to be plotted.\n",
    "\n",
    "Inputs:\n",
    "- coefficients of the fitted polynomial function\n",
    "- x data, monotonically sorted (for plottting) \n",
    " \n",
    "Returns:\n",
    "- fitted y data"
   ]
  },
  {
   "cell_type": "markdown",
   "id": "7ae47ae9",
   "metadata": {},
   "source": [
    "x values from original data (sorted monotonically for line plot) "
   ]
  },
  {
   "cell_type": "code",
   "execution_count": 66,
   "id": "c801591d",
   "metadata": {},
   "outputs": [],
   "source": [
    "x_new = np.array(sorted(x))  # x values, sorted monotonically"
   ]
  },
  {
   "cell_type": "markdown",
   "id": "e0af3d20",
   "metadata": {},
   "source": [
    "Fitted y values "
   ]
  },
  {
   "cell_type": "code",
   "execution_count": 67,
   "id": "965c40e1",
   "metadata": {
    "slideshow": {
     "slide_type": "slide"
    }
   },
   "outputs": [],
   "source": [
    "# 1st order polynomial\n",
    "yfit1 = np.poly1d(coeffs_1)(x_new) \n",
    "\n",
    "# 2nd order polynomial\n",
    "yfit2 = np.poly1d(coeffs_2)(x_new) "
   ]
  },
  {
   "cell_type": "markdown",
   "id": "113289ae",
   "metadata": {
    "slideshow": {
     "slide_type": "slide"
    }
   },
   "source": [
    "Essentially `poly1d` does the following pure Python operation:"
   ]
  },
  {
   "cell_type": "code",
   "execution_count": 68,
   "id": "753671cf",
   "metadata": {},
   "outputs": [],
   "source": [
    "yfit1 = coeffs_1[0]*x_new + coeffs_1[1]\n",
    "\n",
    "yfit2 = coeffs_2[0]*x_new**2 + coeffs_2[1]*x_new + coeffs_2[2]"
   ]
  },
  {
   "cell_type": "markdown",
   "id": "57d9cc43",
   "metadata": {},
   "source": [
    "### Plotting fitted data"
   ]
  },
  {
   "cell_type": "code",
   "execution_count": 2,
   "id": "4b02052e",
   "metadata": {
    "slideshow": {
     "slide_type": "slide"
    }
   },
   "outputs": [
    {
     "ename": "NameError",
     "evalue": "name 'coeffs_1' is not defined",
     "output_type": "error",
     "traceback": [
      "\u001b[1;31m---------------------------------------------------------------------------\u001b[0m",
      "\u001b[1;31mNameError\u001b[0m                                 Traceback (most recent call last)",
      "\u001b[1;32m<ipython-input-2-5a1179b7a47f>\u001b[0m in \u001b[0;36m<module>\u001b[1;34m\u001b[0m\n\u001b[0;32m      1\u001b[0m \u001b[1;31m# write eqns as strings using coefficients\u001b[0m\u001b[1;33m\u001b[0m\u001b[1;33m\u001b[0m\u001b[1;33m\u001b[0m\u001b[0m\n\u001b[1;32m----> 2\u001b[1;33m \u001b[0meqn_1\u001b[0m \u001b[1;33m=\u001b[0m \u001b[1;34mf'y={round(coeffs_1[0],2)}*x + {round(coeffs_1[1],2)}'\u001b[0m\u001b[1;33m\u001b[0m\u001b[1;33m\u001b[0m\u001b[0m\n\u001b[0m\u001b[0;32m      3\u001b[0m \u001b[0meqn_2\u001b[0m \u001b[1;33m=\u001b[0m \u001b[1;34mf'y={round(coeffs_2[0],2)}*x**2 + {round(coeffs_2[1],2)}*x**1 + {round(coeffs_2[2],2)}'\u001b[0m\u001b[1;33m\u001b[0m\u001b[1;33m\u001b[0m\u001b[0m\n\u001b[0;32m      4\u001b[0m \u001b[1;33m\u001b[0m\u001b[0m\n\u001b[0;32m      5\u001b[0m \u001b[1;33m\u001b[0m\u001b[0m\n",
      "\u001b[1;31mNameError\u001b[0m: name 'coeffs_1' is not defined"
     ]
    }
   ],
   "source": [
    "# write eqns as strings using coefficients\n",
    "eqn_1 = f'y={round(coeffs_1[0],2)}*x + {round(coeffs_1[1],2)}'\n",
    "eqn_2 = f'y={round(coeffs_2[0],2)}*x**2 + {round(coeffs_2[1],2)}*x**1 + {round(coeffs_2[2],2)}'\n",
    "\n",
    "\n",
    "# plot data \n",
    "plt.plot(x, y, 'o', label='raw data') # raw data\n",
    "plt.plot(x_new, yfit1, label=eqn_1);  # fitted 1st degree poly\n",
    "plt.plot(x_new, yfit2, label=eqn_2);  # fitted 2nd degree poly\n",
    "\n",
    "\n",
    "# 'label' used to display the equation of the line as the legend\n",
    "plt.legend()\n",
    "\n",
    "\n",
    "# label the axes\n",
    "plt.xlabel('x')\n",
    "plt.ylabel('y')"
   ]
  },
  {
   "cell_type": "markdown",
   "id": "4a3e0671",
   "metadata": {
    "slideshow": {
     "slide_type": "slide"
    }
   },
   "source": [
    "<a id='FittingArbitraryFunction'></a>\n",
    "# Fitting an Arbitrary Function\n",
    "\n",
    "Curve fitting is not limited to polynomial functions. \n",
    "\n",
    "We can fit any function with unknown constants to the data using the function `curve_fit` from the `scipy` package.\n",
    "\n"
   ]
  },
  {
   "cell_type": "markdown",
   "id": "7aaa93f1",
   "metadata": {
    "slideshow": {
     "slide_type": "slide"
    }
   },
   "source": [
    "### Fitted function \n",
    "Choose a function to fit e.g.\n",
    "$$y = a e^{bx}$$"
   ]
  },
  {
   "cell_type": "markdown",
   "id": "0f4896e7",
   "metadata": {
    "slideshow": {
     "slide_type": "slide"
    }
   },
   "source": [
    "Define the function in the following format: "
   ]
  },
  {
   "cell_type": "code",
   "execution_count": 53,
   "id": "d7e67913",
   "metadata": {
    "slideshow": {
     "slide_type": "-"
    }
   },
   "outputs": [],
   "source": [
    "def exponential(x, a, b): # input arguments are independent variable, then unknown constant(s) \n",
    "    y = a * np.exp(b*x)   \n",
    "    return y              "
   ]
  },
  {
   "cell_type": "markdown",
   "id": "d0cf6854",
   "metadata": {
    "slideshow": {
     "slide_type": "slide"
    }
   },
   "source": [
    "Use `curve_fit` to find the constants that best fit the function to the data.\n",
    "<br>Inputs:\n",
    " - the function to fit (in the format above)\n",
    " - the independent variable\n",
    " - the dependent variable\n",
    " \n",
    "\n",
    "<br>Returns:\n",
    " - constants of fitted function\n",
    " - the covariance of the parameters (a statistical measure of accuracy)"
   ]
  },
  {
   "cell_type": "code",
   "execution_count": 54,
   "id": "68131609",
   "metadata": {},
   "outputs": [],
   "source": [
    "from scipy.optimize import curve_fit\n",
    "\n",
    "# constants of fitted function\n",
    "c, cov = curve_fit(exponential, x, y)    "
   ]
  },
  {
   "cell_type": "markdown",
   "id": "099dffbd",
   "metadata": {},
   "source": [
    "### Fitted data \n",
    "Generate fitted data by runnnig the function we defined (`exponential`), on:\n",
    "- x data (sorted monotonically if plotting)\n",
    "- fitted constants (`*` allows `c` to be a data structure of any length)"
   ]
  },
  {
   "cell_type": "code",
   "execution_count": 55,
   "id": "8d4f7829",
   "metadata": {},
   "outputs": [],
   "source": [
    "# input  to function to get fitted data\n",
    "# use monotonically sorted x data\n",
    "yfit = exponential(x_new, *c) "
   ]
  },
  {
   "cell_type": "markdown",
   "id": "3a39ee92",
   "metadata": {},
   "source": [
    "### Plotting fitted data"
   ]
  },
  {
   "cell_type": "code",
   "execution_count": 56,
   "id": "7960865d",
   "metadata": {
    "slideshow": {
     "slide_type": "slide"
    }
   },
   "outputs": [
    {
     "data": {
      "text/plain": [
       "<matplotlib.legend.Legend at 0x1e7c1d4fc10>"
      ]
     },
     "execution_count": 56,
     "metadata": {},
     "output_type": "execute_result"
    },
    {
     "data": {
      "image/png": "[encoded data removed]",
      "text/plain": [
       "<Figure size 432x288 with 1 Axes>"
      ]
     },
     "metadata": {
      "needs_background": "light"
     },
     "output_type": "display_data"
    }
   ],
   "source": [
    "# write eqn as string using constants\n",
    "eqn = f'y={round(c[0],2)}exp({round(c[1],2)}x)'\n",
    "\n",
    "# plot data \n",
    "plt.plot(x, y, 'o', label='raw data') # raw data\n",
    "plt.plot(x_new, yfit, label=eqn);     # fitted function\n",
    "plt.legend()"
   ]
  },
  {
   "cell_type": "markdown",
   "id": "6a7ed4ff",
   "metadata": {},
   "source": [
    "How does `polyfit`/`curve_fit` determine which coefficients/constants give the best fit?\n",
    "\n",
    "How can we measure 'goodness' of fit e.g. to choose order of polynomial for best fit line? "
   ]
  },
  {
   "cell_type": "markdown",
   "id": "3991da1a",
   "metadata": {
    "slideshow": {
     "slide_type": "slide"
    }
   },
   "source": [
    "<a id='RootMeanSquareError'></a>\n",
    "# Root Mean Square Error (RMSE)\n",
    "\n",
    "A widely used measure of the error between fitted values and raw data. \n",
    "\n",
    "__Error/residual, $\\varepsilon$:__ <br>The difference between the raw value $y(x)$ and the fitted value $a(x)$. \n",
    "\n",
    "$$\n",
    "\\varepsilon = a(x) - y(x)\n",
    "$$"
   ]
  },
  {
   "cell_type": "markdown",
   "id": "1737771d",
   "metadata": {
    "slideshow": {
     "slide_type": "slide"
    }
   },
   "source": [
    "*Sum* of the squared errors (so that negative and positive errors do not cancel) for $N$ data points: \n",
    "\n",
    "$$S = \\sum_{i=1}^{N}\\varepsilon_i^2$$\n",
    "\n",
    "\n",
    "RMSE:\n",
    "$$RMSE=\\sqrt{\\frac{1}{N}S}=\\sqrt{\\frac{1}{N}\\sum_{i=1}^{N}{\\varepsilon_i^2}}$$"
   ]
  },
  {
   "cell_type": "markdown",
   "id": "d49a9cd8",
   "metadata": {
    "slideshow": {
     "slide_type": "slide"
    }
   },
   "source": [
    "Smaller RMSE indictes smaller error (i.e. a better fit between raw and fitted data). \n",
    "\n",
    "We can optimise the fitted function by minimising the RMSE (used by `curve_fit`).\n",
    "\n",
    "Also referred to as the *least squares*  approach.  "
   ]
  },
  {
   "cell_type": "markdown",
   "id": "7ac00e76",
   "metadata": {},
   "source": [
    "We can also use RMSE to compare fitted functions and determine statistically which is a better fit.  "
   ]
  },
  {
   "cell_type": "code",
   "execution_count": 35,
   "id": "a5037b83",
   "metadata": {},
   "outputs": [],
   "source": [
    "def RMSE(x, y, yfit):\n",
    "    \"Returns the RMSE of a polynomial of specified order fitted to x-y data\"\n",
    "    # error\n",
    "    e = (yfit - y)  \n",
    "    \n",
    "    # RMSE\n",
    "    return np.sqrt(np.sum(e**2)/ len(x)) "
   ]
  },
  {
   "cell_type": "markdown",
   "id": "7cb0368b",
   "metadata": {
    "slideshow": {
     "slide_type": "slide"
    }
   },
   "source": [
    "Let's compare the RMSE of each polynomial we fitted to the x,y data earlier "
   ]
  },
  {
   "cell_type": "code",
   "execution_count": 4,
   "id": "3c1ed829",
   "metadata": {},
   "outputs": [
    {
     "ename": "NameError",
     "evalue": "name 'np' is not defined",
     "output_type": "error",
     "traceback": [
      "\u001b[1;31m---------------------------------------------------------------------------\u001b[0m",
      "\u001b[1;31mNameError\u001b[0m                                 Traceback (most recent call last)",
      "\u001b[1;32m<ipython-input-4-9bef6b97e6d8>\u001b[0m in \u001b[0;36m<module>\u001b[1;34m\u001b[0m\n\u001b[0;32m      1\u001b[0m \u001b[1;32mfor\u001b[0m \u001b[0morder\u001b[0m \u001b[1;32min\u001b[0m \u001b[0mrange\u001b[0m\u001b[1;33m(\u001b[0m\u001b[1;36m1\u001b[0m\u001b[1;33m,\u001b[0m \u001b[1;36m3\u001b[0m\u001b[1;33m)\u001b[0m\u001b[1;33m:\u001b[0m\u001b[1;33m\u001b[0m\u001b[1;33m\u001b[0m\u001b[0m\n\u001b[1;32m----> 2\u001b[1;33m     \u001b[0mcoeffs\u001b[0m \u001b[1;33m=\u001b[0m \u001b[0mnp\u001b[0m\u001b[1;33m.\u001b[0m\u001b[0mpolyfit\u001b[0m\u001b[1;33m(\u001b[0m\u001b[0mx\u001b[0m\u001b[1;33m,\u001b[0m \u001b[0my\u001b[0m\u001b[1;33m,\u001b[0m \u001b[0mdegree\u001b[0m\u001b[1;33m)\u001b[0m \u001b[1;31m# coefficients of fitted polynomial\u001b[0m\u001b[1;33m\u001b[0m\u001b[1;33m\u001b[0m\u001b[0m\n\u001b[0m\u001b[0;32m      3\u001b[0m     \u001b[0myfit\u001b[0m \u001b[1;33m=\u001b[0m \u001b[0mnp\u001b[0m\u001b[1;33m.\u001b[0m\u001b[0mpoly1d\u001b[0m\u001b[1;33m(\u001b[0m\u001b[0mcoeffs\u001b[0m\u001b[1;33m)\u001b[0m\u001b[1;33m(\u001b[0m\u001b[0mx\u001b[0m\u001b[1;33m)\u001b[0m      \u001b[1;31m# no need to sort x monotonically, not plotting line\u001b[0m\u001b[1;33m\u001b[0m\u001b[1;33m\u001b[0m\u001b[0m\n\u001b[0;32m      4\u001b[0m     \u001b[0mrmse\u001b[0m \u001b[1;33m=\u001b[0m \u001b[0mRMSE\u001b[0m\u001b[1;33m(\u001b[0m\u001b[0mx\u001b[0m\u001b[1;33m,\u001b[0m\u001b[0my\u001b[0m\u001b[1;33m,\u001b[0m\u001b[0myfit\u001b[0m\u001b[1;33m)\u001b[0m            \u001b[1;31m# goodness of fit\u001b[0m\u001b[1;33m\u001b[0m\u001b[1;33m\u001b[0m\u001b[0m\n\u001b[0;32m      5\u001b[0m     \u001b[0mprint\u001b[0m\u001b[1;33m(\u001b[0m\u001b[1;34mf'polynomial order {degree}, RMSE = {rmse}'\u001b[0m\u001b[1;33m)\u001b[0m\u001b[1;33m\u001b[0m\u001b[1;33m\u001b[0m\u001b[0m\n",
      "\u001b[1;31mNameError\u001b[0m: name 'np' is not defined"
     ]
    }
   ],
   "source": [
    "for order in range(1, 3):\n",
    "    coeffs = np.polyfit(x, y, degree) # coefficients of fitted polynomial\n",
    "    yfit = np.poly1d(coeffs)(x)      # no need to sort x monotonically, not plotting line\n",
    "    rmse = RMSE(x,y,yfit)            # goodness of fit\n",
    "    print(f'polynomial order {degree}, RMSE = {rmse}')            "
   ]
  },
  {
   "cell_type": "markdown",
   "id": "ef518072",
   "metadata": {
    "slideshow": {
     "slide_type": "slide"
    }
   },
   "source": [
    "The second order polynomial gives a better fit."
   ]
  },
  {
   "cell_type": "markdown",
   "id": "c167179e",
   "metadata": {},
   "source": [
    "What about the exponential function? "
   ]
  },
  {
   "cell_type": "code",
   "execution_count": 63,
   "id": "32446062",
   "metadata": {},
   "outputs": [
    {
     "name": "stdout",
     "output_type": "stream",
     "text": [
      "RMSE = 1.3338248760975377\n",
      "y=1.4exp(0.22x), RMSE = 1.3338248760975377\n"
     ]
    }
   ],
   "source": [
    "c, cov = curve_fit(exponential, x, y)  # constants of fitted function\n",
    "yfit = exponential(x, *c)              # no need to sort x monotonically, not plotting line\n",
    "rmse = RMSE(x,y,yfit)                  # goodness of fit \n",
    "print(f'RMSE = {rmse}')            \n",
    "print(f'{eqn}, RMSE = {rmse}')            "
   ]
  },
  {
   "cell_type": "markdown",
   "id": "ffd21870",
   "metadata": {},
   "source": [
    "Of the three functions tested, the second order polynomial gives a better fit, statitically."
   ]
  },
  {
   "cell_type": "markdown",
   "id": "9ff26a13",
   "metadata": {
    "slideshow": {
     "slide_type": "slide"
    }
   },
   "source": [
    "# Summary\n",
    "<a id='Summary'></a>\n",
    "1. Find constants of fitted function\n",
    "    - __Polynomial functions:__ Find coefficients of polynomial by running `polyfit` on data and specifying order of polynomial.\n",
    "    - __Arbitrary functions:__ Find constants of arbitrary function by defining function to fit and running `curve_fit` on raw data and function to fit.  <br> <br>\n",
    "\n",
    "1. Generate fitted data (arrange x data monontonically if plotting as graph):\n",
    "    - __Polynomial functions:__ Use `poly1D` to generate the fitted data using fitted coefficients for given input range.\n",
    "    - __Arbitrary functions:__ Call function defined in step 1 using a range of x data and fitted coefficents as inputs. <br> <br>\n",
    "    \n",
    "1. Test goodness of fit: RMSE or other otimisation method. \n",
    "\n",
    "\n",
    " "
   ]
  },
  {
   "cell_type": "markdown",
   "id": "e06f550d",
   "metadata": {},
   "source": [
    "# In-class Demos"
   ]
  },
  {
   "cell_type": "markdown",
   "id": "7074dd17",
   "metadata": {},
   "source": [
    "__Example 1:__ \n",
    "\n",
    "Fit third deree polynomial function the x,y data given. \n",
    "\n",
    "Find the root mean square error for the fitted data  $$RMSE=\\sqrt{\\frac{1}{N}\\sum_{i=1}^{N}{\\varepsilon_i^2}}$$    "
   ]
  },
  {
   "cell_type": "code",
   "execution_count": null,
   "id": "00eecfb5",
   "metadata": {},
   "outputs": [],
   "source": [
    "x = np.array([1, 6, 3, 4, 10, 2, 7, 8, 9, 5])\n",
    "y = np.array([2, 4, 5, 4, 13, 3, 4, 8, 12, 4])"
   ]
  },
  {
   "cell_type": "code",
   "execution_count": 71,
   "id": "75210e5f",
   "metadata": {},
   "outputs": [],
   "source": [
    "# Find coefficients of polynomial\n",
    "\n",
    "\n",
    "# Generate fitted data \n",
    "\n",
    "\n",
    "# RMSE \n"
   ]
  },
  {
   "cell_type": "markdown",
   "id": "9ecec9f6",
   "metadata": {
    "collapsed": true,
    "slideshow": {
     "slide_type": "subslide"
    }
   },
   "source": [
    "__Example 2__: \n",
    "\n",
    "Import data in from `sample_data/signal_data.csv`. \n",
    "\n",
    "Fit a function of the form $y = a \\sin(x +b)$ to the data. <br>(i.e. find constants $a$ and $b$). \n",
    "\n",
    "Plot the raw and fitted data on the same graph."
   ]
  },
  {
   "cell_type": "code",
   "execution_count": 1,
   "id": "e3e9047d",
   "metadata": {},
   "outputs": [],
   "source": [
    "# IMPORT DATA\n",
    "\n",
    "\n",
    "\n",
    "# FIT FUNCTION\n",
    "\n",
    "\n",
    "\n",
    "\n",
    "# GENERATE FITTED DATA\n",
    "\n",
    "\n",
    "\n",
    "# PLOT\n",
    "              \n"
   ]
  },
  {
   "cell_type": "code",
   "execution_count": null,
   "id": "0dd1cbd8",
   "metadata": {},
   "outputs": [],
   "source": []
  }
 ],
 "metadata": {
  "kernelspec": {
   "display_name": "Python 3",
   "language": "python",
   "name": "python3"
  },
  "language_info": {
   "codemirror_mode": {
    "name": "ipython",
    "version": 3
   },
   "file_extension": ".py",
   "mimetype": "text/x-python",
   "name": "python",
   "nbconvert_exporter": "python",
   "pygments_lexer": "ipython3",
   "version": "3.8.8"
  }
 },
 "nbformat": 4,
 "nbformat_minor": 5
}
