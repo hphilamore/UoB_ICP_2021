{
 "cells": [
  {
   "cell_type": "markdown",
   "metadata": {
    "slideshow": {
     "slide_type": "slide"
    }
   },
   "source": [
    "# Introduction to Computer Programming\n",
    "\n",
    "\n",
    "\n",
    "## Week 8.2: Symbolic computation with SymPy\n",
    "\n",
    "* * *\n",
    "\n",
    "<img src=\"img/full-colour-logo-UoB.png\" alt=\"Bristol\" style=\"width: 300px;\"/>"
   ]
  },
  {
   "cell_type": "markdown",
   "metadata": {
    "slideshow": {
     "slide_type": "slide"
    }
   },
   "source": [
    "# What is symbolic computation?\n",
    "\n",
    "Symbolic computation is about performing exact mathematical operations that go beyond the basics like addition and multiplication (think differentiation and integration)\n",
    "\n",
    "The idea is to introduce a new type of variable, called a **symbol**, that behaves like an algebraic variable.\n",
    "\n",
    "Symbols can be operated on without having a precise value assigned to them.\n",
    "\n",
    "This is different from the variable types we have seen so far (e.g. int, float), which need a value assigned to them when they are created\n",
    "\n",
    "```python\n",
    "x = 1.33\n",
    "v = [1, 2, 3, 4]\n",
    "```"
   ]
  },
  {
   "cell_type": "markdown",
   "metadata": {
    "slideshow": {
     "slide_type": "slide"
    }
   },
   "source": [
    "# SymPy\n",
    "\n",
    "**SymPy** is a Python library for carrying out exact computations using symbolic computing.\n",
    "\n",
    "Features of SymPy include:\n",
    "\n",
    "* Solving algebraic equations (linear equations, polynomials, nonlinear equations)\n",
    "* Differentiating and integrating functions\n",
    "* Solving linear algebra problems (linear systems, determinants, eigenvalue problems)\n",
    "* Solving differential equations\n",
    "* And much more: see https://www.sympy.org/en/index.html for more info!"
   ]
  },
  {
   "cell_type": "markdown",
   "metadata": {
    "slideshow": {
     "slide_type": "slide"
    }
   },
   "source": [
    "# Getting started\n",
    "To get started, let's load the SymPy library into Python:"
   ]
  },
  {
   "cell_type": "code",
   "execution_count": 1,
   "metadata": {},
   "outputs": [],
   "source": [
    "from sympy import *"
   ]
  },
  {
   "cell_type": "markdown",
   "metadata": {
    "slideshow": {
     "slide_type": "slide"
    }
   },
   "source": [
    "# Some special variables\n",
    "\n",
    "SymPy has exact representations of useful mathematical quantities\n",
    "\n",
    "* `pi` represents $\\pi$\n",
    "* `E` represents Euler's number $e$\n",
    "* `oo` (two o's) represents infininty $\\infty$\n",
    "* `I` represents the complex number $i = \\sqrt{-1}$"
   ]
  },
  {
   "cell_type": "markdown",
   "metadata": {
    "slideshow": {
     "slide_type": "slide"
    }
   },
   "source": [
    "# Displaying maths\n",
    "\n",
    "The `pprint` and `display` functions can be used to print and display mathematical expressions in Sypder (and also in Jupyter notebooks)\n",
    "\n",
    "The `display` function works better, but it requires additional software (LaTeX) to be installed -- not an issue for the lab computers\n",
    "\n",
    "**Note**: the `display` function uses black font, which is not very visible in the default Spyder scheme.  The Spyder colours can be changed by going to:\n",
    "\n",
    "Tools -> Preferences -> Appearance -> Syntax highlighting scheme"
   ]
  },
  {
   "cell_type": "markdown",
   "metadata": {
    "slideshow": {
     "slide_type": "slide"
    }
   },
   "source": [
    "**Example**: print $\\pi^2$ using `pprint`, `display`, and using a Jupyter notebook"
   ]
  },
  {
   "cell_type": "code",
   "execution_count": 1,
   "metadata": {
    "slideshow": {
     "slide_type": "-"
    }
   },
   "outputs": [],
   "source": [
    "# printing pi**2 using pprint\n"
   ]
  },
  {
   "cell_type": "code",
   "execution_count": 2,
   "metadata": {},
   "outputs": [],
   "source": [
    "# printing pi with the display function\n"
   ]
  },
  {
   "cell_type": "code",
   "execution_count": 3,
   "metadata": {},
   "outputs": [],
   "source": [
    "# printing with Jupyter notebook without display or pprint\n"
   ]
  },
  {
   "cell_type": "markdown",
   "metadata": {
    "slideshow": {
     "slide_type": "slide"
    }
   },
   "source": [
    "**Examples**: Let's explore using some of these special variables"
   ]
  },
  {
   "cell_type": "code",
   "execution_count": null,
   "metadata": {
    "slideshow": {
     "slide_type": "-"
    }
   },
   "outputs": [],
   "source": []
  },
  {
   "cell_type": "code",
   "execution_count": null,
   "metadata": {
    "slideshow": {
     "slide_type": "-"
    }
   },
   "outputs": [],
   "source": []
  },
  {
   "cell_type": "code",
   "execution_count": null,
   "metadata": {
    "slideshow": {
     "slide_type": "-"
    }
   },
   "outputs": [],
   "source": []
  },
  {
   "cell_type": "code",
   "execution_count": null,
   "metadata": {},
   "outputs": [],
   "source": []
  },
  {
   "cell_type": "markdown",
   "metadata": {
    "slideshow": {
     "slide_type": "slide"
    }
   },
   "source": [
    "# Defining variables as symbols\n",
    "\n",
    "In order to make use of the capabilities of SymPy, we need to define variables as symbols.\n",
    "\n",
    "This is done using the `symbols` function"
   ]
  },
  {
   "cell_type": "code",
   "execution_count": 9,
   "metadata": {},
   "outputs": [],
   "source": []
  },
  {
   "cell_type": "markdown",
   "metadata": {},
   "source": [
    "This creates a variable $x$ of type symbol."
   ]
  },
  {
   "cell_type": "markdown",
   "metadata": {
    "slideshow": {
     "slide_type": "slide"
    }
   },
   "source": [
    "\n",
    "Even though we haven't assigned a value to $x$, we can still perform operations on it and use it to define new variables"
   ]
  },
  {
   "cell_type": "code",
   "execution_count": null,
   "metadata": {},
   "outputs": [],
   "source": []
  },
  {
   "cell_type": "markdown",
   "metadata": {
    "slideshow": {
     "slide_type": "fragment"
    }
   },
   "source": [
    "This is the power of symbolic computing"
   ]
  },
  {
   "cell_type": "markdown",
   "metadata": {
    "slideshow": {
     "slide_type": "slide"
    }
   },
   "source": [
    "# Defining mathematical functions\n",
    "\n",
    "Once we define a symbol, we can use it to create mathematical functions.\n",
    "\n",
    "**Example**: Define the function $y(x) = \\sqrt{x}$"
   ]
  },
  {
   "cell_type": "code",
   "execution_count": null,
   "metadata": {},
   "outputs": [],
   "source": []
  },
  {
   "cell_type": "markdown",
   "metadata": {
    "slideshow": {
     "slide_type": "slide"
    }
   },
   "source": [
    "Values of $x$ can be substituted into $y$ using the `subs` method\n",
    "\n",
    "**Example**: Substitute $x = 4$ into $y(x) = \\sqrt{x}$"
   ]
  },
  {
   "cell_type": "code",
   "execution_count": null,
   "metadata": {},
   "outputs": [],
   "source": []
  },
  {
   "cell_type": "markdown",
   "metadata": {
    "slideshow": {
     "slide_type": "slide"
    }
   },
   "source": [
    "Let's see what happens when we substitute $x = 8$ into the function $y = \\sqrt{x}$"
   ]
  },
  {
   "cell_type": "code",
   "execution_count": null,
   "metadata": {},
   "outputs": [],
   "source": []
  },
  {
   "cell_type": "markdown",
   "metadata": {
    "slideshow": {
     "slide_type": "fragment"
    }
   },
   "source": [
    "The number $2\\sqrt{2}$ is represented exactly as a symbol rather than being approximated by a float"
   ]
  },
  {
   "cell_type": "markdown",
   "metadata": {
    "slideshow": {
     "slide_type": "fragment"
    }
   },
   "source": [
    "The `evalf` method evaluates a symbolic expression as a floating point number"
   ]
  },
  {
   "cell_type": "code",
   "execution_count": null,
   "metadata": {},
   "outputs": [],
   "source": []
  },
  {
   "cell_type": "markdown",
   "metadata": {
    "slideshow": {
     "slide_type": "slide"
    }
   },
   "source": [
    "There are some other ways we can do this.  The simplest is to substitute $x = 8.0$ into $y$, which automatically triggers the floating-point evaluation"
   ]
  },
  {
   "cell_type": "code",
   "execution_count": null,
   "metadata": {},
   "outputs": [],
   "source": []
  },
  {
   "cell_type": "markdown",
   "metadata": {
    "slideshow": {
     "slide_type": "fragment"
    }
   },
   "source": [
    "The substitution and evaluation can be done at the same time using dictionaries (helpful when substituting multiple values)"
   ]
  },
  {
   "cell_type": "code",
   "execution_count": null,
   "metadata": {},
   "outputs": [],
   "source": []
  },
  {
   "cell_type": "markdown",
   "metadata": {
    "slideshow": {
     "slide_type": "slide"
    }
   },
   "source": [
    "#  Exercise:\n",
    "\n",
    "Define the function \n",
    "\\begin{align}\n",
    "y(t) = \\frac{t^2}{1 + 2t}.\n",
    "\\end{align}\n",
    "Then evaluate $y(2)$ exactly and find a floating-point approximation to this value"
   ]
  },
  {
   "cell_type": "markdown",
   "metadata": {
    "slideshow": {
     "slide_type": "slide"
    }
   },
   "source": [
    "# Solution:"
   ]
  },
  {
   "cell_type": "code",
   "execution_count": 4,
   "metadata": {},
   "outputs": [],
   "source": []
  },
  {
   "cell_type": "markdown",
   "metadata": {
    "slideshow": {
     "slide_type": "slide"
    }
   },
   "source": [
    "# Plotting functions\n",
    "\n",
    "SymPy enables plotting of functions using the matplotlib package, which will be covered in more detail next week.\n",
    "\n",
    "Functions can be plotted using the `plot` function"
   ]
  },
  {
   "cell_type": "markdown",
   "metadata": {
    "slideshow": {
     "slide_type": "slide"
    }
   },
   "source": [
    "**Example**: Plot the function $y(x) = \\sin(x^2)$"
   ]
  },
  {
   "cell_type": "code",
   "execution_count": null,
   "metadata": {},
   "outputs": [],
   "source": []
  },
  {
   "cell_type": "markdown",
   "metadata": {
    "slideshow": {
     "slide_type": "slide"
    }
   },
   "source": [
    "It is possible to specify plotting range by passing a tuple to the `plot` function"
   ]
  },
  {
   "cell_type": "code",
   "execution_count": null,
   "metadata": {},
   "outputs": [],
   "source": []
  },
  {
   "cell_type": "markdown",
   "metadata": {
    "slideshow": {
     "slide_type": "slide"
    }
   },
   "source": [
    "# Differentiating functions\n",
    "\n",
    "The `diff` function enables functions to be differentiated an arbitrary number of times\n",
    "\n",
    "**Example**: Compute $y'$ and $y'''$ when $y = \\sqrt{x}$"
   ]
  },
  {
   "cell_type": "code",
   "execution_count": null,
   "metadata": {},
   "outputs": [],
   "source": []
  },
  {
   "cell_type": "code",
   "execution_count": null,
   "metadata": {},
   "outputs": [],
   "source": []
  },
  {
   "cell_type": "markdown",
   "metadata": {
    "slideshow": {
     "slide_type": "slide"
    }
   },
   "source": [
    "# Exercise:\n",
    "\n",
    "Plot the function $y(x) = \\cos(4 \\pi x) e^{-3 x}$ from $x = 0$ to $x = 2$.  Compute $y'''(1)$.  \n",
    "\n",
    "**Hint**: use the `cos` and `exp` functions for the cosine and exponential"
   ]
  },
  {
   "cell_type": "markdown",
   "metadata": {
    "slideshow": {
     "slide_type": "slide"
    }
   },
   "source": [
    "# Solution:"
   ]
  },
  {
   "cell_type": "code",
   "execution_count": null,
   "metadata": {},
   "outputs": [],
   "source": []
  },
  {
   "cell_type": "markdown",
   "metadata": {
    "slideshow": {
     "slide_type": "slide"
    }
   },
   "source": [
    "# Integrating functions\n",
    "\n",
    "The `integrate` function computes the indefinite integral of a function (if it exists)\n",
    "\n",
    "**Example**: Compute the indefinite integral of $y = x$"
   ]
  },
  {
   "cell_type": "code",
   "execution_count": null,
   "metadata": {},
   "outputs": [],
   "source": []
  },
  {
   "cell_type": "markdown",
   "metadata": {},
   "source": [
    "**Warning**: SymPy does not add the constant of integration to indefinite integrals!"
   ]
  },
  {
   "cell_type": "markdown",
   "metadata": {
    "slideshow": {
     "slide_type": "slide"
    }
   },
   "source": [
    "The `integrate` function can also handle definite integrals.\n",
    "\n",
    "**Example**: Compute\n",
    "$$ \n",
    "\\int_{0}^{1} x^2\\, dx\n",
    "$$"
   ]
  },
  {
   "cell_type": "code",
   "execution_count": null,
   "metadata": {},
   "outputs": [],
   "source": []
  },
  {
   "cell_type": "markdown",
   "metadata": {
    "slideshow": {
     "slide_type": "slide"
    }
   },
   "source": [
    "**Example**: Compute the following integral exactly and approximately\n",
    "$$\n",
    "\\int_{0}^{\\infty} \\frac{\\sin x}{x}\\, dx\n",
    "$$"
   ]
  },
  {
   "cell_type": "code",
   "execution_count": 5,
   "metadata": {},
   "outputs": [],
   "source": [
    "# compute the exact value"
   ]
  },
  {
   "cell_type": "code",
   "execution_count": 6,
   "metadata": {},
   "outputs": [],
   "source": [
    "# compute a floating-point approximation to the integral"
   ]
  },
  {
   "cell_type": "markdown",
   "metadata": {
    "slideshow": {
     "slide_type": "slide"
    }
   },
   "source": [
    "# Solving an equation\n",
    "\n",
    "The `solve` function solves algebraic equations of the form $F(x) = 0$\n",
    "\n",
    "**Example**: Solve $x^3 = a x$ where $a$ is a parameter\n",
    "\n",
    "**Solution**: First we write this as $F(x) = x^3 - ax = 0$"
   ]
  },
  {
   "cell_type": "code",
   "execution_count": 8,
   "metadata": {},
   "outputs": [],
   "source": [
    "# define a and x as symbols\n",
    "\n",
    "# define the function and solve\n"
   ]
  },
  {
   "cell_type": "markdown",
   "metadata": {
    "slideshow": {
     "slide_type": "slide"
    }
   },
   "source": [
    "# Summary\n",
    "\n",
    "SciPy performs **exact** mathematical calculations using **symbolic computing**\n",
    "\n",
    "* `symbols` is used to define algebraic variables\n",
    "* `subs` and `evalf` are for substituting values and computing floating-point approximations\n",
    "* `diff` and `integrate` compute derivatives and integrals\n",
    "* `solve` solves algebraic equations\n",
    "\n",
    "This is very useful for calculus homework!\n",
    "\n",
    "For more details of SymPy, see https://www.sympy.org/en/index.html"
   ]
  }
 ],
 "metadata": {
  "celltoolbar": "Slideshow",
  "kernelspec": {
   "display_name": "Python 3",
   "language": "python",
   "name": "python3"
  },
  "language_info": {
   "codemirror_mode": {
    "name": "ipython",
    "version": 3
   },
   "file_extension": ".py",
   "mimetype": "text/x-python",
   "name": "python",
   "nbconvert_exporter": "python",
   "pygments_lexer": "ipython3",
   "version": "3.8.10"
  }
 },
 "nbformat": 4,
 "nbformat_minor": 4
}
