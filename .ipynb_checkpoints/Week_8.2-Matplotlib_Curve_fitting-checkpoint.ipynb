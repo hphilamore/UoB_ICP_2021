{
 "cells": [
  {
   "cell_type": "markdown",
   "id": "f79e7b17",
   "metadata": {
    "slideshow": {
     "slide_type": "slide"
    }
   },
   "source": [
    "<a id='CurveFitting'></a>\n",
    "# 4. Curve Fitting\n",
    "\n",
    "\n",
    "\n",
    "<br> &emsp;&emsp; <a href='#LinearRegression'>4.1 Linear Regression</a>\n",
    "<br> &emsp;&emsp; <a href='#FittingPolynomialFunction'>4.2 Fitting a Polynomial Function</a>\n",
    "<br> &emsp;&emsp; <a href='#RootMeanSquareError'>4.3 Root Mean Square Error</a>\n",
    "<br> &emsp;&emsp; <a href='#FittingArbitraryFunction'>4.4 Fitting an Arbitrary Function</a> \n",
    "\n",
    "\n"
   ]
  },
  {
   "cell_type": "markdown",
   "id": "7bfde0b3",
   "metadata": {
    "slideshow": {
     "slide_type": "slide"
    }
   },
   "source": [
    "It can be useful to define a relationship between two variables, x and y. \n",
    "\n",
    "For example, we often want to 'fit' a function to a set of data points (e.g. experimental data).\n",
    "\n",
    "Python has several tools for finding relationships in a set of data."
   ]
  },
  {
   "cell_type": "markdown",
   "id": "163c09ab",
   "metadata": {
    "slideshow": {
     "slide_type": "slide"
    }
   },
   "source": [
    "<a id='LinearRegression'></a>\n",
    "## 4.1 Linear Regression\n",
    "Linear regression calculates a __linear function__ that minimizes the combined distance between the fitted line and the data points. \n",
    "\n",
    "<img src=\"img/linear_regression.png\" alt=\"Drawing\" style=\"width: 300px;\"/>"
   ]
  },
  {
   "cell_type": "markdown",
   "id": "9e9bbe6d",
   "metadata": {
    "slideshow": {
     "slide_type": "slide"
    }
   },
   "source": [
    "A __linear function__ has the form:\n",
    "$$\n",
    "y = mx + c\n",
    "$$"
   ]
  },
  {
   "cell_type": "markdown",
   "id": "91bfad14",
   "metadata": {
    "slideshow": {
     "slide_type": "slide"
    }
   },
   "source": [
    "<a id='FittingPolynomialFunction'></a>\n",
    "## 4.2 Fitting a polynomial Function\n",
    "\n",
    ">*__Polynomial function__: a function involving only non-negative integer powers of x.*\n",
    "\n",
    "__1st order polynomial function__ (linear function)\n",
    "$$y = \\mathbf{a}x^1 + \\mathbf{b}x^0$$\n",
    "\n",
    "__2nd order polynomial function__\n",
    "$$y = \\mathbf{c}x^2 + \\mathbf{d}x^1 + \\mathbf{e}x^0$$\n",
    "\n",
    "__3rd order polynomial function__\n",
    "$$y = \\mathbf{f}x^3 + \\mathbf{g}x^2 + \\mathbf{h}x^1 + \\mathbf{i}x^0$$\n",
    "\n"
   ]
  },
  {
   "cell_type": "markdown",
   "id": "907feda5",
   "metadata": {
    "slideshow": {
     "slide_type": "slide"
    }
   },
   "source": [
    "A polynomial curve can be fitted through a data set using the `polyfit` function from `numpy`. \n",
    "\n",
    "The function arguments are:\n",
    "- independent variables \n",
    "- dependent variables \n",
    "- order of the polynomial \n",
    "\n",
    "The `polyfit` function returns the coefficients of each term of the polynomial."
   ]
  },
  {
   "cell_type": "code",
   "execution_count": 14,
   "id": "ac0f26d1",
   "metadata": {
    "slideshow": {
     "slide_type": "slide"
    }
   },
   "outputs": [
    {
     "name": "stdout",
     "output_type": "stream",
     "text": [
      "6.077443700312607 42.582457358775194\n",
      "0.35757289708419016 -1.0740142413711886 65.16600875356613\n",
      "[ 0.3575729  -1.07401424 65.16600875]\n",
      "0.35757289708419016 -1.0740142413711886 65.16600875356613\n"
     ]
    }
   ],
   "source": [
    "x = [0.000000000000000000e+00, 1.052631578947368363e+00, 2.105263157894736725e+00, 3.157894736842105310e+00,4.210526315789473450e+00, 5.263157894736841591e+00, 6.315789473684210620e+00,7.368421052631578760e+00,8.421052631578946901e+00,9.473684210526315042e+00,1.052631578947368318e+01,1.157894736842105132e+01,1.263157894736842124e+01,1.368421052631578938e+01,1.473684210526315752e+01, 1.578947368421052566e+01,1.684210526315789380e+01,1.789473684210526372e+01,1.894736842105263008e+01,2.000000000000000000e+01]\n",
    "y = [7.445192947240600745e+01, 4.834835792411828947e+01, 6.873305436340778840e+01, 5.979576407972768948e+01,6.404530772390434379e+01,6.090548420541189500e+01, 7.157546008677115879e+01, 8.620253336570679892e+01, 1.138154622045899913e+02, 8.493639813028174501e+01, 9.783457330550828601e+01, 1.082064229481453594e+02, 1.063876210674365979e+02, 1.001971993955305038e+02, 1.061496321788094832e+02, 1.279575585921491836e+02, 1.556956405962417875e+02, 1.584164804859289859e+02, 1.753888794716459358e+02, 1.980941276403034124e+02]\n",
    "\n",
    "# convert to numpy array to allow elementwise operations\n",
    "x = np.array(x)\n",
    "y = np.array(y)\n",
    "\n",
    "\n",
    "a, b = np.polyfit(x, y, 1)\n",
    "\n",
    "c, d, e = np.polyfit(x, y, 2)\n",
    "\n",
    "coeffs = np.polyfit(x, y, 2)\n",
    "\n",
    "\n",
    "print(a, b)\n",
    "print(c, d, e)\n",
    "print(coeffs)\n",
    "print(coeffs[0], coeffs[1], coeffs[2])"
   ]
  },
  {
   "cell_type": "code",
   "execution_count": 15,
   "id": "3d9b5305",
   "metadata": {
    "slideshow": {
     "slide_type": "slide"
    }
   },
   "outputs": [],
   "source": [
    "# 1st order polynomial\n",
    "# 2 coefficients\n",
    "a = np.polyfit(x, y, 1)\n",
    "\n",
    "# 2nd order polynomial\n",
    "# 3 coefficients\n",
    "b = np.polyfit(x, y, 2)\n",
    "\n",
    "# 3rd order polynomial \n",
    "# 4 coefficients\n",
    "c = np.polyfit(x, y, 3)\n",
    "\n",
    "# 4th order polynomial\n",
    "# 5 coefficients\n",
    "d = np.polyfit(x, y, 4)"
   ]
  },
  {
   "cell_type": "markdown",
   "id": "c28350ea",
   "metadata": {
    "slideshow": {
     "slide_type": "slide"
    }
   },
   "source": [
    "#### Generating the Fitted Polynomial Function\n",
    "To produce a polynomial function using the generated coeffients, we can use the function `poly1D`.  "
   ]
  },
  {
   "cell_type": "code",
   "execution_count": 16,
   "id": "514f10b1",
   "metadata": {},
   "outputs": [
    {
     "name": "stdout",
     "output_type": "stream",
     "text": [
      "[(0.0, 74.45192947240601), (1.0526315789473684, 48.34835792411829), (2.1052631578947367, 68.73305436340779), (3.1578947368421053, 59.79576407972769), (4.2105263157894735, 64.04530772390434), (5.263157894736842, 60.905484205411895), (6.315789473684211, 71.57546008677116), (7.368421052631579, 86.2025333657068), (8.421052631578947, 113.81546220458999), (9.473684210526315, 84.93639813028175), (10.526315789473683, 97.83457330550829), (11.578947368421051, 108.20642294814536), (12.631578947368421, 106.3876210674366), (13.68421052631579, 100.1971993955305), (14.736842105263158, 106.14963217880948), (15.789473684210526, 127.95755859214918), (16.842105263157894, 155.6956405962418), (17.894736842105264, 158.416480485929), (18.94736842105263, 175.38887947164594), (20.0, 198.0941276403034)]\n",
      "[0.0, 1.0526315789473684, 2.1052631578947367, 3.1578947368421053, 4.2105263157894735]\n",
      "[74.45192947240601, 48.34835792411829, 68.73305436340779, 59.79576407972769, 64.04530772390434]\n"
     ]
    }
   ],
   "source": [
    "# print(x[:5])\n",
    "# print(y[:5], end = '\\n\\n')\n",
    "\n",
    "# sort x and y values so that x (first argumant) values are in ascending order\n",
    "# sorted retrns list of tuples : [(x_0, y_0), (x_1, y_1), ... (x_n, y_n)]\n",
    "tmp = sorted(zip(x, y)) #,key=lambda x: x[0]) i.e. to sort using second list in zip\n",
    "\n",
    "x = []\n",
    "y = []\n",
    "\n",
    "for t in tmp:\n",
    "    x.append(t[0])\n",
    "    y.append(t[1])\n",
    "\n",
    "print(tmp)\n",
    "# We can also write this: \n",
    "x = [t[0] for t in tmp]\n",
    "y = [t[1] for t in tmp]\n",
    "\n",
    "print(x[:5])\n",
    "print(y[:5])\n",
    "\n",
    "\n",
    "# convert x and y to numpy array \n",
    "x = np.asarray(x)\n",
    "y = np.asarray(y)"
   ]
  },
  {
   "cell_type": "code",
   "execution_count": 17,
   "id": "b1973143",
   "metadata": {
    "slideshow": {
     "slide_type": "slide"
    }
   },
   "outputs": [],
   "source": [
    "# 1st order polynomial\n",
    "yfit1 = np.poly1d(a)(x)\n",
    "\n",
    "# 2nd order polynomial\n",
    "yfit2 = np.poly1d(b)(x)\n",
    "\n",
    "# 3rd order polynomial \n",
    "yfit3 = np.poly1d(c)(x)\n",
    "\n",
    "# 4th order polynomial\n",
    "yfit4 = np.poly1d(d)(x)"
   ]
  },
  {
   "cell_type": "markdown",
   "id": "d99b7901",
   "metadata": {
    "slideshow": {
     "slide_type": "slide"
    }
   },
   "source": [
    "Note, that this produces the same output as:"
   ]
  },
  {
   "cell_type": "code",
   "execution_count": 18,
   "id": "4199f709",
   "metadata": {},
   "outputs": [],
   "source": [
    "yfit1 = a[0]*x + a[1]\n",
    "\n",
    "yfit2 = b[0]*x**2 + b[1]*x + b[2]\n",
    "\n",
    "yfit3 = c[0]*x**3 + c[1]*x**2 + c[2]*x + c[3]\n",
    "\n",
    "yfit4 = d[0]*x**4 + d[1]*x**3 + d[2]*x**2 + d[3]*x + d[4]"
   ]
  },
  {
   "cell_type": "code",
   "execution_count": 19,
   "id": "f4cd5e68",
   "metadata": {
    "slideshow": {
     "slide_type": "slide"
    }
   },
   "outputs": [
    {
     "data": {
      "image/png": "[encoded data removed]",
      "text/plain": [
       "<Figure size 432x288 with 1 Axes>"
      ]
     },
     "metadata": {
      "needs_background": "light"
     },
     "output_type": "display_data"
    }
   ],
   "source": [
    "# plot a scatter plot of raw data\n",
    "plt.plot(x, y, 'o', label='experiment data')\n",
    "\n",
    "\n",
    "# plot the fitted linear function \n",
    "# the argument 'label' is used to print the equation of the line on the plot \n",
    "plt.plot(x, yfit1, label=f'{round(a[0],2)}*x + {round(a[1],2)}');\n",
    "plt.plot(x, yfit2, label=f'{round(b[0],2)}*x**2 + {round(b[1],2)}*x**1 + {round(b[2],2)}');\n",
    "plt.plot(x, yfit3, label=f'{round(c[0],2)}*x**3 + {round(c[1],2)}*x**2 + {round(c[2],2)}*x + {round(c[3],2)}');\n",
    "plt.plot(x, yfit4, label=f'{round(d[0],2)}*x**4 + {round(d[1],2)}*x**3 + {round(d[2],2)}*x**2 + {round(d[3],2)}*x + {round(d[4],2)}');\n",
    "\n",
    "\n",
    "# display the label \n",
    "# anchor the upper left corner of the legend to the point (1,1)\n",
    "# 1 represents the height and width of the plot respectively\n",
    "plt.legend(bbox_to_anchor=(1,1), loc=\"upper left\")\n",
    "\n",
    "\n",
    "# label the axes\n",
    "plt.xlabel('x')\n",
    "plt.ylabel('y')\n",
    "\n",
    "\n",
    "# add a title \n",
    "plt.title('Relationship between x and y');"
   ]
  },
  {
   "cell_type": "markdown",
   "id": "e09b3fc4",
   "metadata": {
    "slideshow": {
     "slide_type": "slide"
    }
   },
   "source": [
    "<a id='RMSE'></a>\n",
    "We need a metric to assess the \"goodness of fit\". \n",
    "\n",
    "\n",
    "We will use the __root mean square error__.\n",
    "\n",
    "\n",
    "\n"
   ]
  },
  {
   "cell_type": "markdown",
   "id": "2c380aaa",
   "metadata": {
    "slideshow": {
     "slide_type": "slide"
    }
   },
   "source": [
    "<a id='RootMeanSquareError'></a>\n",
    "## 4.3 Root Mean Square Error (RMSE)\n",
    "\n",
    "A frequently used measure of the differences between values predicted by a model or relationship and the real values. \n",
    "\n",
    "__Error/residual:__ the difference between:\n",
    "- the observed value $y(x)$ at $x$ \n",
    "- the fitted value $a(x)$ at $x$\n",
    "\n",
    "$$\n",
    "\\varepsilon_i = a(x_i) - y(x_i)\n",
    "$$"
   ]
  },
  {
   "cell_type": "markdown",
   "id": "bbd32c84",
   "metadata": {
    "slideshow": {
     "slide_type": "slide"
    }
   },
   "source": [
    "For $N$ data points, the *sum* of the squared errors is \n",
    "\n",
    "$$S = \\sum_{i=1}^{N}\\varepsilon_i^2$$\n",
    "\n",
    "The RMSE is computed as\n",
    "\n",
    "$$RMSE=\\sqrt{\\frac{1}{N}S}=\\sqrt{\\frac{1}{N}\\sum_{i=1}^{N}{\\varepsilon_i^2}}$$"
   ]
  },
  {
   "cell_type": "markdown",
   "id": "aa6a8dea",
   "metadata": {
    "slideshow": {
     "slide_type": "slide"
    }
   },
   "source": [
    "Smaller RMSE indictes a better fit between raw and fitted data. \n",
    "\n",
    "We can optimise the fitted function by minimising the RMSE (sum of the squared errors).\n",
    "\n",
    "Therefore, this optimisation approach is often referred to as the *least squares* approach. "
   ]
  },
  {
   "cell_type": "markdown",
   "id": "64785bec",
   "metadata": {
    "slideshow": {
     "slide_type": "slide"
    }
   },
   "source": [
    "To find the RMSE of the example above:\n",
    "\n",
    "Error, $\\varepsilon_i = a(x_i) - y_i$\n",
    "\n",
    "RMSE, $E=\\sqrt{\\frac{1}{N}\\sum{\\varepsilon_i^2}}$"
   ]
  },
  {
   "cell_type": "code",
   "execution_count": 20,
   "id": "c015e0c4",
   "metadata": {
    "slideshow": {
     "slide_type": "slide"
    }
   },
   "outputs": [
    {
     "ename": "NameError",
     "evalue": "name 'yfit' is not defined",
     "output_type": "error",
     "traceback": [
      "\u001b[0;31m---------------------------------------------------------------------------\u001b[0m",
      "\u001b[0;31mNameError\u001b[0m                                 Traceback (most recent call last)",
      "\u001b[0;32m<ipython-input-20-17bf0f5f9a17>\u001b[0m in \u001b[0;36m<module>\u001b[0;34m\u001b[0m\n\u001b[1;32m      1\u001b[0m \u001b[0;31m# error\u001b[0m\u001b[0;34m\u001b[0m\u001b[0;34m\u001b[0m\u001b[0;34m\u001b[0m\u001b[0m\n\u001b[0;32m----> 2\u001b[0;31m \u001b[0me\u001b[0m \u001b[0;34m=\u001b[0m \u001b[0;34m(\u001b[0m\u001b[0myfit\u001b[0m \u001b[0;34m-\u001b[0m \u001b[0my\u001b[0m\u001b[0;34m)\u001b[0m\u001b[0;34m\u001b[0m\u001b[0;34m\u001b[0m\u001b[0m\n\u001b[0m\u001b[1;32m      3\u001b[0m \u001b[0;34m\u001b[0m\u001b[0m\n\u001b[1;32m      4\u001b[0m \u001b[0;31m# RMSE\u001b[0m\u001b[0;34m\u001b[0m\u001b[0;34m\u001b[0m\u001b[0;34m\u001b[0m\u001b[0m\n\u001b[1;32m      5\u001b[0m \u001b[0mrmse\u001b[0m \u001b[0;34m=\u001b[0m \u001b[0mnp\u001b[0m\u001b[0;34m.\u001b[0m\u001b[0msqrt\u001b[0m\u001b[0;34m(\u001b[0m\u001b[0mnp\u001b[0m\u001b[0;34m.\u001b[0m\u001b[0msum\u001b[0m\u001b[0;34m(\u001b[0m\u001b[0me\u001b[0m\u001b[0;34m**\u001b[0m\u001b[0;36m2\u001b[0m\u001b[0;34m)\u001b[0m\u001b[0;34m/\u001b[0m \u001b[0mlen\u001b[0m\u001b[0;34m(\u001b[0m\u001b[0my\u001b[0m\u001b[0;34m)\u001b[0m\u001b[0;34m)\u001b[0m\u001b[0;34m\u001b[0m\u001b[0;34m\u001b[0m\u001b[0m\n",
      "\u001b[0;31mNameError\u001b[0m: name 'yfit' is not defined"
     ]
    }
   ],
   "source": [
    "# error\n",
    "e = (yfit - y)\n",
    "\n",
    "# RMSE\n",
    "rmse = np.sqrt(np.sum(e**2)/ len(y))"
   ]
  },
  {
   "cell_type": "markdown",
   "id": "2971c360",
   "metadata": {
    "slideshow": {
     "slide_type": "slide"
    }
   },
   "source": [
    "Let's compare the RMSE of each fitted line. "
   ]
  },
  {
   "cell_type": "code",
   "execution_count": null,
   "id": "9a292b9f",
   "metadata": {},
   "outputs": [],
   "source": [
    "RMSE = []\n",
    "\n",
    "\n",
    "for yfit in [yfit1, yfit2, yfit3, yfit4]:\n",
    "    # error\n",
    "    e = (yfit - y)\n",
    "    \n",
    "    # rmse\n",
    "    rmse = np.sqrt(np.sum(e**2)/ len(y))\n",
    "\n",
    "    # RMSE\n",
    "    RMSE.append(round(rmse, 3))\n",
    "\n",
    "    \n",
    "print(RMSE)\n",
    "\n",
    "print(f\"The {np.argmin(RMSE) + 1} order polynomial gives the lowest error\")\n",
    "\n",
    "np.argmin(RMSE)\n",
    "#print(list(enumerate(RMSE, 1)))"
   ]
  },
  {
   "cell_type": "markdown",
   "id": "525da705",
   "metadata": {
    "slideshow": {
     "slide_type": "slide"
    }
   },
   "source": [
    "To compare our solutions to the raw data, for *each polynomial* we need to have:\n",
    "1. Found coefficients \n",
    "1. Estimated y values \n",
    "1. Found RMSE \n",
    "1. Compare RMSE values to determine fitted relationship with lowest error"
   ]
  },
  {
   "cell_type": "markdown",
   "id": "bc42bf57",
   "metadata": {},
   "source": [
    "We can use __format__ to change how a string is displayed..."
   ]
  },
  {
   "cell_type": "code",
   "execution_count": null,
   "id": "c1f4af05",
   "metadata": {
    "slideshow": {
     "slide_type": "slide"
    }
   },
   "outputs": [],
   "source": [
    "r = 0.0123456\n",
    "s = 0.2345678\n",
    "\n",
    "# cast as a string\n",
    "print(str(r))\n",
    "print('%s' % r)\n",
    "print('{}'.format(r))\n",
    "\n",
    "# cast as a string, scientific notation\n",
    "print('%E' % r)\n",
    "\n",
    "# specify number of significant figures displayed\n",
    "print('%.2E, %.1E' % (r, s))\n"
   ]
  },
  {
   "cell_type": "markdown",
   "id": "e5261732",
   "metadata": {
    "collapsed": true,
    "slideshow": {
     "slide_type": "slide"
    }
   },
   "source": [
    "__Note:__ \n",
    "- Matplot lib automatically changes the colour of the line each time you plot. \n",
    "- This is much shorter than repeatedly writig out the code to plot each line of the figure."
   ]
  },
  {
   "cell_type": "markdown",
   "id": "979d9da8",
   "metadata": {
    "slideshow": {
     "slide_type": "slide"
    }
   },
   "source": [
    "<a id='FittingArbitraryFunction'></a>\n",
    "## 4.4 Fitting an Arbitrary Function\n",
    "\n",
    "Curve fitted is not limited to polynomial functions. \n",
    "\n",
    "We can fit any function with unknown constants to the data using the function `curve_fit`.\n",
    "\n"
   ]
  },
  {
   "cell_type": "code",
   "execution_count": null,
   "id": "0840a47d",
   "metadata": {
    "slideshow": {
     "slide_type": "slide"
    }
   },
   "outputs": [],
   "source": [
    "x = [0.000000000000000000e+00, 1.052631578947368363e+00, 2.105263157894736725e+00, 3.157894736842105310e+00,4.210526315789473450e+00, 5.263157894736841591e+00, 6.315789473684210620e+00,7.368421052631578760e+00,8.421052631578946901e+00,9.473684210526315042e+00,1.052631578947368318e+01,1.157894736842105132e+01,1.263157894736842124e+01,1.368421052631578938e+01,1.473684210526315752e+01, 1.578947368421052566e+01,1.684210526315789380e+01,1.789473684210526372e+01,1.894736842105263008e+01,2.000000000000000000e+01]\n",
    "y = [7.445192947240600745e+01, 4.834835792411828947e+01, 6.873305436340778840e+01, 5.979576407972768948e+01,6.404530772390434379e+01,6.090548420541189500e+01, 7.157546008677115879e+01, 8.620253336570679892e+01, 1.138154622045899913e+02, 8.493639813028174501e+01, 9.783457330550828601e+01, 1.082064229481453594e+02, 1.063876210674365979e+02, 1.001971993955305038e+02, 1.061496321788094832e+02, 1.279575585921491836e+02, 1.556956405962417875e+02, 1.584164804859289859e+02, 1.753888794716459358e+02, 1.980941276403034124e+02]\n",
    "x = np.array(x)\n",
    "y = np.array(y)\n",
    "\n",
    "plt.plot(x, y, 'o')\n",
    "plt.xlabel('x')\n",
    "plt.ylabel('y')"
   ]
  },
  {
   "cell_type": "markdown",
   "id": "6dab6646",
   "metadata": {
    "slideshow": {
     "slide_type": "slide"
    }
   },
   "source": [
    "There are many Python functions for curve fitting. \n",
    "\n",
    "The function `curve_fit` can be used to fit a user-defined fuction. \n",
    "\n",
    "We first define a function that we want to fit e.g.\n",
    "$$y = a e^{bx}$$"
   ]
  },
  {
   "cell_type": "markdown",
   "id": "a3bc575d",
   "metadata": {
    "slideshow": {
     "slide_type": "slide"
    }
   },
   "source": [
    "\n",
    "We write the function in the following format. \n",
    "\n",
    "We will learn more about this format when we study user-defined functions. "
   ]
  },
  {
   "cell_type": "code",
   "execution_count": null,
   "id": "ad9ec6a7",
   "metadata": {
    "slideshow": {
     "slide_type": "-"
    }
   },
   "outputs": [],
   "source": [
    "def exponential(x, a, b): # function name and inputs\n",
    "    y = a * np.exp(b*x)   # function\n",
    "    return y              # output"
   ]
  },
  {
   "cell_type": "markdown",
   "id": "ed21b0a5",
   "metadata": {
    "slideshow": {
     "slide_type": "slide"
    }
   },
   "source": [
    "`curve_fit` takes three input arguments:\n",
    " - the function to fit (in the format above)\n",
    " - the independent variable\n",
    " - the dependent variable\n",
    " \n",
    "<br>\n",
    "`curve_fit` returns two arguments:\n",
    " - an array with the optimised parameters\n",
    " - the covariance of the parameters (a statistical measure of accuracy)"
   ]
  },
  {
   "cell_type": "code",
   "execution_count": null,
   "id": "d0fdd665",
   "metadata": {
    "slideshow": {
     "slide_type": "slide"
    }
   },
   "outputs": [],
   "source": [
    "from scipy.optimize import curve_fit\n",
    "\n",
    "opt, cov = curve_fit(exponential, x, y)\n",
    "\n",
    "# fitted data, any number of parameters is allowable\n",
    "yfit = exponential(x, *opt)\n",
    "\n",
    "\n",
    "# error\n",
    "e = (yfit - y)\n",
    "\n",
    "\n",
    "# RMSE\n",
    "rmse = np.sqrt(np.sum(e**2)/ len(y))\n",
    "\n",
    "\n",
    "# show the optimised parameters\n",
    "print(f'RMSE = {round(rmse,3)}')"
   ]
  },
  {
   "cell_type": "code",
   "execution_count": null,
   "id": "ab78e039",
   "metadata": {
    "slideshow": {
     "slide_type": "slide"
    }
   },
   "outputs": [],
   "source": [
    "plt.plot(x, y,     'o', label='raw data')\n",
    "plt.plot(x, y_fit, 'r', label= f'y = {round(opt[0],3)} * e**({round(opt[1],3)}*x)')\n",
    "\n",
    "# display the label \n",
    "plt.legend(bbox_to_anchor=(1,1), loc=\"upper left\")\n",
    "\n",
    "\n",
    "# label the axes\n",
    "plt.xlabel('x')\n",
    "plt.ylabel('y')\n",
    "\n",
    "\n",
    "# add a title \n",
    "plt.title('Relationship between x and y');"
   ]
  },
  {
   "cell_type": "markdown",
   "id": "8baedc01",
   "metadata": {
    "slideshow": {
     "slide_type": "slide"
    }
   },
   "source": [
    "# Summary\n",
    "<a id='Summary'></a>\n",
    "- Matplotlib can be used to produce a wide range of styles of figures and plots of your data.\n",
    "- The matplotlib library can be used to quicky produce simple plots to visualise and check your solutions to mathematical problems.\n",
    "- This includes fitting a curve or a relationship to data imported from a delimted text file.\n",
    "- Simple line and scatter plots can be customised using a `formatstring`\n",
    "- Additional features such as a figure legend and axis labels can be set as arguments when creating plots.\n"
   ]
  },
  {
   "cell_type": "markdown",
   "id": "90bacf8e",
   "metadata": {},
   "source": [
    "Online resources for more Matplotlib functionality:\n",
    " - Matplotlib Gallery (http://matplotlib.org/gallery.html)\n",
    " - Github (http://gree2.github.io/python/2015/04/10/python-matplotlib-plotting-examples-and-exercises)\n",
    " \n",
    " "
   ]
  },
  {
   "cell_type": "markdown",
   "id": "97826ff6",
   "metadata": {
    "slideshow": {
     "slide_type": "slide"
    }
   },
   "source": [
    "<a id='ReviewExercises'></a>\n",
    "# 7. Review Exercises\n",
    "\n",
    "Compete the exercises below."
   ]
  },
  {
   "cell_type": "markdown",
   "id": "978eeb1b",
   "metadata": {
    "collapsed": true,
    "slideshow": {
     "slide_type": "subslide"
    }
   },
   "source": [
    "### Review Exercise 1: Curve Fitting\n",
    "\n",
    "The experimental data in `sample_data/signal_data.csv` resembles the function:\n",
    "\n",
    "$$y = a \\sin(x +b)$$\n",
    "\n",
    "$a$ and $b$ are unknown constants.\n",
    "\n",
    "1. Import the data from the file `sample_data/signal_data.csv`\n",
    "\n",
    "1. Use `curve_fit` to find optimal values of $a$ and $b$.\n",
    "\n",
    "1. Plot the raw data and the fitted data on the same graph. Label the data and include a legend.\n",
    "1. Calculate the root mean square error (RMSE) of the fitted data and show the computed value as the plot title. \n",
    "1. Print the equation of the fitted line.\n",
    "1. Save the figure in the sample_data folder as a .pdf file.\n",
    "\n",
    "__Use comments in your code to explain what each part does.__\n"
   ]
  },
  {
   "cell_type": "code",
   "execution_count": null,
   "id": "5a84ebd3",
   "metadata": {},
   "outputs": [],
   "source": [
    "# Review Exercise 1: Curve Fitting"
   ]
  },
  {
   "cell_type": "code",
   "execution_count": null,
   "id": "303ae4e9",
   "metadata": {},
   "outputs": [],
   "source": []
  },
  {
   "cell_type": "code",
   "execution_count": null,
   "id": "f687b1ee",
   "metadata": {},
   "outputs": [],
   "source": [
    "# Review Exercise 2: Interpolation"
   ]
  },
  {
   "cell_type": "code",
   "execution_count": null,
   "id": "1d15286b",
   "metadata": {},
   "outputs": [],
   "source": []
  },
  {
   "cell_type": "markdown",
   "id": "d4bc6795",
   "metadata": {},
   "source": [
    "## Review Exercise 3: Importing .csv Data and Working with Arrays\n",
    "\n",
    "The file `sample_data/douglas_data.csv` contains a data set of recorded parameters for a sample of wooden beams.\n",
    "\n",
    "__Part A : Importing data__\n",
    "<br>Open the file and look at the data. \n",
    "What is the delimiter used?\n",
    "Which rows and columns contain non-numeric data? \n",
    "\n",
    "Import the data using `np.loadtxt`, setting the data type to float. \n",
    "<br>Exclude the rows and columns containing non-numeric data.\n",
    "\n",
    "*Remember : The use of scientific notation can be surpressed by:*\n",
    "\n",
    "        np.set_printoptions(suppress=True)\n",
    "        \n",
    "__Part B : Manipulating Data__\n",
    "<br>Select the first 10 rows of the array to create a new array.\n",
    "\n",
    "The data in the last column is in units $\\mathrm{N/mm}^2$. \n",
    "\n",
    "Convert the data in this column to units $\\mathrm{N/m}^2$.\n",
    "\n",
    "The area of each beam in the data set is 0.01 $\\mathrm{m^2}$.\n",
    "<br>The density of each beam is given in the fifth column. \n",
    "<br>The height of each beam is given in the sixth column. \n",
    "<br>Add a new column to the array that contains mass of each beam (kg) using:\n",
    "\n",
    "__mass = area $\\times$ height $\\times$ density__\n",
    "\n",
    "\n",
    "__Part C : Displaying Data__\n",
    "<br>Print the mass of the 1st beam in the array.\n",
    "<br>Print a string to indicate what this value means e.g.\n",
    "                \n",
    "       The mass of beam 1 is ...\n",
    "       \n",
    "<br>Print the data in odd numbered columns of row 5. \n"
   ]
  },
  {
   "cell_type": "code",
   "execution_count": null,
   "id": "21f480c8",
   "metadata": {},
   "outputs": [],
   "source": [
    "# Review Exercise 3A: Importing .csv Data and Working with Arrays"
   ]
  },
  {
   "cell_type": "code",
   "execution_count": null,
   "id": "df72bd6b",
   "metadata": {},
   "outputs": [],
   "source": []
  },
  {
   "cell_type": "code",
   "execution_count": null,
   "id": "f2a9b147",
   "metadata": {},
   "outputs": [],
   "source": [
    "# Review Exercise 3B :Manipulating Data"
   ]
  },
  {
   "cell_type": "code",
   "execution_count": null,
   "id": "a589f00a",
   "metadata": {},
   "outputs": [],
   "source": []
  },
  {
   "cell_type": "code",
   "execution_count": null,
   "id": "e63d8711",
   "metadata": {},
   "outputs": [],
   "source": [
    "# Review Exercise 3C: Displaying Data"
   ]
  },
  {
   "cell_type": "code",
   "execution_count": null,
   "id": "0e9c6986",
   "metadata": {},
   "outputs": [],
   "source": []
  },
  {
   "cell_type": "code",
   "execution_count": null,
   "id": "0a24ca99",
   "metadata": {},
   "outputs": [],
   "source": []
  }
 ],
 "metadata": {
  "kernelspec": {
   "display_name": "Python 3",
   "language": "python",
   "name": "python3"
  },
  "language_info": {
   "codemirror_mode": {
    "name": "ipython",
    "version": 3
   },
   "file_extension": ".py",
   "mimetype": "text/x-python",
   "name": "python",
   "nbconvert_exporter": "python",
   "pygments_lexer": "ipython3",
   "version": "3.8.8"
  }
 },
 "nbformat": 4,
 "nbformat_minor": 5
}
