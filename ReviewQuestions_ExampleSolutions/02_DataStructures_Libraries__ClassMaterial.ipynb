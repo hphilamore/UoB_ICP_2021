{
 "cells": [
  {
   "cell_type": "markdown",
   "metadata": {
    "collapsed": true,
    "slideshow": {
     "slide_type": "slide"
    }
   },
   "source": [
    "# 02 Data Structures and Libraries\n",
    "\n",
    "# Review Exercises - Solutions\n",
    "\n",
    "\n",
    "\n"
   ]
  },
  {
   "cell_type": "markdown",
   "metadata": {
    "slideshow": {
     "slide_type": "slide"
    }
   },
   "source": [
    "## Review Exercise 1 : Combining Imported Functions\n",
    "\n",
    "The dot product of two vectors can be found as:\n",
    "\n",
    "\\begin{align}\n",
    "\\mathbf{A} \\cdot \\mathbf{B} = |\\mathbf{A}| |\\mathbf{B}| cos(\\theta)\n",
    "\\end{align}\n",
    "\n",
    "Where:\n",
    "\n",
    "<br>$\\theta$ is the angle between the two vectors\n",
    "\n",
    "$|\\mathbf{A}|$ is the magnitude of vector $\\mathbf{A}$.\n",
    "\n",
    "$|\\mathbf{B}|$ is the magnitude of vector $\\mathbf{B}$.\n",
    "\n"
   ]
  },
  {
   "cell_type": "markdown",
   "metadata": {
    "slideshow": {
     "slide_type": "slide"
    }
   },
   "source": [
    "The magnitude of an $n$-length vector $ \\mathbf{A} = [A_1, ..., A_n]$ is:\n",
    "\n",
    "$|\\mathbf{A}| = \\sqrt{A_1^2 + ... + A_n^2}$\n",
    "\n",
    "\n",
    "\n",
    "\n",
    "\n"
   ]
  },
  {
   "cell_type": "markdown",
   "metadata": {
    "slideshow": {
     "slide_type": "slide"
    }
   },
   "source": [
    "<p align=\"center\">\n",
    "  <img src=\"../img/dot-product-angle.gif\" alt=\"Drawing\" style=\"width: 300px;\"/>\n",
    "</p>\n",
    "\n",
    "Find the angle between the vectors `a` and `b`. \n",
    "\n",
    "*Hint:*\n",
    "\n",
    "Use a numpy function from this class to find the dot product.\n",
    "\n",
    "Search online to find a numpy function that computes *magnitude*.\n",
    "\n",
    "Search online to find a numpy function for the *inverse cosine*."
   ]
  },
  {
   "cell_type": "code",
   "execution_count": 1,
   "metadata": {},
   "outputs": [],
   "source": [
    "# Review Exercise 1 : Find the angle between a and b\n",
    "a = [9, 2, 7]\n",
    "b = [4, 8, 10]"
   ]
  },
  {
   "cell_type": "code",
   "execution_count": 2,
   "metadata": {},
   "outputs": [
    {
     "name": "stdout",
     "output_type": "stream",
     "text": [
      "0.6672196386878\n"
     ]
    }
   ],
   "source": [
    "# Review Exercise 1 : Find the angle between a and b\n",
    "# Example Solution\n",
    "import numpy as np\n",
    "\n",
    "a = [9, 2, 7]\n",
    "b = [4, 8, 10]\n",
    "\n",
    "ab = np.dot(a, b)\n",
    "maga = np.linalg.norm(a)\n",
    "magb = np.linalg.norm(b)\n",
    "\n",
    "theta =  np.arccos(ab / (maga * magb))\n",
    "\n",
    "print(theta)"
   ]
  },
  {
   "cell_type": "markdown",
   "metadata": {
    "collapsed": true,
    "slideshow": {
     "slide_type": "slide"
    }
   },
   "source": [
    "## Review Exercise 2 :  Classifer\n",
    "\n",
    "The dot product also indicates if the angle between two vectors $\\mathbf{A}$ and $\\mathbf{B}$ is:\n",
    "\n",
    "   - acute ($\\mathbf{A} \\cdot \\mathbf{B}>0$)\n",
    "   - obtuse ($\\mathbf{A} \\cdot \\mathbf{B}<0$)\n",
    "   - right angle ($\\mathbf{A} \\cdot \\mathbf{B}==0$)\n",
    "\n",
    "Using `if`, `elif` and `else`, classify the angle between `a` and `b` as acute, obtuse or right angle."
   ]
  },
  {
   "cell_type": "code",
   "execution_count": 3,
   "metadata": {},
   "outputs": [],
   "source": [
    "# Review Exercise 2 :  Classifer\n",
    "\n",
    "a = [-1, 2, 6]\n",
    "b = [4, 3, 3]\n",
    "\n"
   ]
  },
  {
   "cell_type": "code",
   "execution_count": 4,
   "metadata": {},
   "outputs": [
    {
     "name": "stdout",
     "output_type": "stream",
     "text": [
      "theta is acute\n"
     ]
    }
   ],
   "source": [
    "# Review Exercise 2 :  Classifer\n",
    "# Example Solution\n",
    "\n",
    "a = [-1, 2, 6]\n",
    "b = [4, 3, 3]\n",
    "\n",
    "ab = np.dot(a, b)\n",
    "\n",
    "if ab > 0:\n",
    "    print(\"theta is acute\")\n",
    "elif ab < 0:\n",
    "    print(\"theta is obtuse\")\n",
    "else:\n",
    "    print(\"theta is right angle\")"
   ]
  },
  {
   "cell_type": "markdown",
   "metadata": {
    "slideshow": {
     "slide_type": "slide"
    }
   },
   "source": [
    "## Review Exercise 3: Numpy Package Functions. \n",
    "Find a function in the Python Numpy documentation that matches the function definition and use it to solve the problems below:"
   ]
  },
  {
   "cell_type": "markdown",
   "metadata": {
    "slideshow": {
     "slide_type": "slide"
    }
   },
   "source": [
    "__(A)__ Definition: *Calculates the exponential function, $y= e^x$ for all elements in the input array.*\n",
    "\n",
    "Print a list where each element is the exponential function of the corresponding element in list `a = [0.1, 0, 10]`"
   ]
  },
  {
   "cell_type": "code",
   "execution_count": 5,
   "metadata": {},
   "outputs": [],
   "source": [
    "# Review Exercise 3A\n",
    "# Print a list where each element is the exponential function of the corresponding element in list a"
   ]
  },
  {
   "cell_type": "code",
   "execution_count": 6,
   "metadata": {},
   "outputs": [
    {
     "name": "stdout",
     "output_type": "stream",
     "text": [
      "[1.10517092e+00 1.00000000e+00 2.20264658e+04]\n"
     ]
    }
   ],
   "source": [
    "# Review Exercise 3A\n",
    "# Example Solution\n",
    "a = [0.1, 0, 10]\n",
    "print(np.exp(a))"
   ]
  },
  {
   "cell_type": "markdown",
   "metadata": {
    "slideshow": {
     "slide_type": "slide"
    }
   },
   "source": [
    "__(B)__ Definition: *Converts angles from degrees to radians.*\n",
    "\n",
    "Convert angle `theta`, expressed in degrees, to radians:\n",
    "<br>`theta` = 47"
   ]
  },
  {
   "cell_type": "code",
   "execution_count": 7,
   "metadata": {},
   "outputs": [],
   "source": [
    "# Review Exercise 3B\n",
    "# convert angle `theta`, expressed in degrees, to radians"
   ]
  },
  {
   "cell_type": "code",
   "execution_count": 8,
   "metadata": {},
   "outputs": [
    {
     "data": {
      "text/plain": [
       "0.8203047484373349"
      ]
     },
     "execution_count": 8,
     "metadata": {},
     "output_type": "execute_result"
    }
   ],
   "source": [
    "# Review Exercise 3B\n",
    "# Example Solution\n",
    "\n",
    "np.radians(47)"
   ]
  },
  {
   "cell_type": "markdown",
   "metadata": {
    "slideshow": {
     "slide_type": "slide"
    }
   },
   "source": [
    "__(C)__ Definition: *Return the positive square-root of an array, element-wise.*\n",
    "\n",
    "Generate an array where each element is the square root of the corresponding element in array `a = ([4, 16, 81])`"
   ]
  },
  {
   "cell_type": "code",
   "execution_count": 9,
   "metadata": {},
   "outputs": [],
   "source": [
    "# Review Exercise 3C\n",
    "# Print a list where each element is the square root of the corresponding element in list a"
   ]
  },
  {
   "cell_type": "code",
   "execution_count": 10,
   "metadata": {},
   "outputs": [
    {
     "name": "stdout",
     "output_type": "stream",
     "text": [
      "[2. 4. 9.]\n"
     ]
    }
   ],
   "source": [
    "# Review Exercise 3C\n",
    "# Example Solution\n",
    "\n",
    "a = ([4, 16, 81])\n",
    "print(np.sqrt(a))"
   ]
  },
  {
   "cell_type": "markdown",
   "metadata": {},
   "source": [
    "## Review Exercise 4:  Using a single list with a `for` loop.\n",
    "In the cell below, use a `for` loop to print the first letter of each month in the list.\n",
    "\n"
   ]
  },
  {
   "cell_type": "code",
   "execution_count": 11,
   "metadata": {},
   "outputs": [],
   "source": [
    "# Review Exercise 4\n",
    "# Print the first letter of each month in the list\n",
    "\n",
    "months = [\"January\",\n",
    "         \"February\",\n",
    "         \"March\",\n",
    "         \"April\",\n",
    "         \"May\",\n",
    "         \"June\",\n",
    "         \"July\",\n",
    "         \"August\",\n",
    "         \"September\",\n",
    "         \"October\",\n",
    "         \"November\",\n",
    "         \"December\"]"
   ]
  },
  {
   "cell_type": "code",
   "execution_count": 12,
   "metadata": {},
   "outputs": [
    {
     "name": "stdout",
     "output_type": "stream",
     "text": [
      "JFMAMJJASOND"
     ]
    }
   ],
   "source": [
    "# Review Exercise 4\n",
    "# Example Solution\n",
    "months = [\"January\",\n",
    "         \"February\",\n",
    "         \"March\",\n",
    "         \"April\",\n",
    "         \"May\",\n",
    "         \"June\",\n",
    "         \"July\",\n",
    "         \"August\",\n",
    "         \"September\",\n",
    "         \"October\",\n",
    "         \"November\",\n",
    "         \"December\"]\n",
    "\n",
    "for m in months:\n",
    "    print(m[0], end=\"\")"
   ]
  }
 ],
 "metadata": {
  "celltoolbar": "Slideshow",
  "kernelspec": {
   "display_name": "Python 3",
   "language": "python",
   "name": "python3"
  },
  "language_info": {
   "codemirror_mode": {
    "name": "ipython",
    "version": 3
   },
   "file_extension": ".py",
   "mimetype": "text/x-python",
   "name": "python",
   "nbconvert_exporter": "python",
   "pygments_lexer": "ipython3",
   "version": "3.7.4"
  }
 },
 "nbformat": 4,
 "nbformat_minor": 2
}
