{
 "cells": [
  {
   "cell_type": "markdown",
   "metadata": {
    "slideshow": {
     "slide_type": "slide"
    }
   },
   "source": [
    "# Introduction to Computer Programming\n",
    "\n",
    "## Week 5.2: Class inheritance\n",
    "\n",
    "* * *\n",
    "\n",
    "<img src=\"img/full-colour-logo-UoB.png\" alt=\"Bristol\" style=\"width: 300px;\"/>"
   ]
  },
  {
   "cell_type": "code",
   "execution_count": 18,
   "metadata": {
    "slideshow": {
     "slide_type": "skip"
    }
   },
   "outputs": [],
   "source": [
    "# This code is needed for the examples in the slides\n",
    "\n",
    "import math\n",
    "\n",
    "class MyFraction():\n",
    "    # contructor\n",
    "    def __init__(self, num, den):\n",
    "        # attributes\n",
    "        self.num = num\n",
    "        self.den = den\n",
    "        self.simplify()\n",
    "        \n",
    "    # calculates the floating point value\n",
    "    def calc_float(self):\n",
    "        return self.num / self.den\n",
    "    \n",
    "    # simplify the fraction\n",
    "    def simplify(self):\n",
    "        # find the greatest common divisor\n",
    "        gcd = math.gcd(self.num, self.den)\n",
    "        \n",
    "        # simplify the numerator and denomenator\n",
    "        self.num = int(self.num / gcd)\n",
    "        self.den = int(self.den / gcd)\n",
    "                \n",
    "    # prints the function nicely (the clunky way)\n",
    "    def nice_print(self):\n",
    "        print(' ' + str(self.num) + '\\n---\\n' + ' ' + str(self.den))\n",
    "        \n",
    "    # redefine Python's str function to work with MyFraction objects\n",
    "    def __str__(self):\n",
    "        return ' ' + str(self.num) + '\\n---\\n' + ' ' + str(self.den)\n",
    "    \n",
    "    # overload the multiplication operator *\n",
    "    def __mul__(self, other):\n",
    "        \n",
    "        num = self.num * other.num\n",
    "        den = self.den * other.den\n",
    "        \n",
    "        return MyFraction(num, den)"
   ]
  },
  {
   "cell_type": "markdown",
   "metadata": {
    "slideshow": {
     "slide_type": "slide"
    }
   },
   "source": [
    "# Class inheritance\n",
    "\n",
    "Class inheritance is mechanism to create a new class based on an existing class.\n",
    "\n",
    "The new class is called the child class and the existing class is called the parent class.\n",
    "\n",
    "In programming terminology, the child class is a **subclass** of the parent class.  \n",
    "\n",
    "The parent class is the child's **superclass**."
   ]
  },
  {
   "cell_type": "markdown",
   "metadata": {
    "slideshow": {
     "slide_type": "slide"
    }
   },
   "source": [
    "Class is inheritance is useful because the child class **inherits** the attributes and methods of its parent class.\n",
    "\n",
    "Attributes can be added/modified to the child class without altering the parent class.\n",
    "\n",
    "However, modifications to the parent class are automatically inherited by the child class."
   ]
  },
  {
   "cell_type": "markdown",
   "metadata": {
    "slideshow": {
     "slide_type": "slide"
    }
   },
   "source": [
    "# Aims\n",
    "\n",
    "In these slides, we'll learn how to use class inheritance to define a subclass."
   ]
  },
  {
   "cell_type": "markdown",
   "metadata": {
    "slideshow": {
     "slide_type": "slide"
    }
   },
   "source": [
    "# Defining a subclass\n",
    "\n",
    "**Example**: Define a class, called NamedFraction, that is a subclass of MyFraction.  The NamedFraction subclass will:\n",
    "\n",
    "* Have an extra attribute that stores the name of the fraction (e.g. one quarter, two thirds).\n",
    "* Override the `__str__` function to print the name of the fraction\n",
    "* Define a new function `sig_fig` that evaluates the fraction with a user-defined number of signficant figures"
   ]
  },
  {
   "cell_type": "markdown",
   "metadata": {
    "slideshow": {
     "slide_type": "slide"
    }
   },
   "source": [
    "Before doing this, let's examine the definition of the MyFraction class:\n",
    "```python\n",
    "class MyFraction():\n",
    "    # code\n",
    "    ```\n",
    "The \"argument\" in a class definition is used to indicate its superclass, if there is one.\n",
    "\n",
    "The empty round brackets () indicates that MyFraction does not have a superclass (so it is not a subclass).\n",
    "\n",
    "Since NamedFraction *does* have a superclass (MyFraction), we must define it as:\n",
    "```python\n",
    "class NamedFraction(MyFraction):\n",
    "    # code\n",
    "    ```"
   ]
  },
  {
   "cell_type": "markdown",
   "metadata": {
    "slideshow": {
     "slide_type": "slide"
    }
   },
   "source": [
    "# The constructor\n",
    "\n",
    "As before, we must define the constructor for our new class.  \n",
    "\n",
    "This is done a little bit differently for a subclass, since we want it to inherit all of the attributes of its superclass.\n",
    "\n",
    "To do this, we call the constructor for the superclass in the constructor for the subclass:"
   ]
  },
  {
   "cell_type": "code",
   "execution_count": 2,
   "metadata": {},
   "outputs": [],
   "source": [
    "class NamedFraction(MyFraction):\n",
    "    # constructor\n",
    "    def __init__(self, num, den):\n",
    "        # call the constructor for the superclass to inherit attributes\n",
    "        super().__init__(num, den)"
   ]
  },
  {
   "cell_type": "markdown",
   "metadata": {},
   "source": [
    "Remember, even though the definition of `__init__` in the MyFraction class involves three arguments, we only pass two arguments when calling it\n",
    "\n",
    "At this point, we can create NamedFraction objects with all of the features of MyFraction objects"
   ]
  },
  {
   "cell_type": "markdown",
   "metadata": {
    "slideshow": {
     "slide_type": "slide"
    }
   },
   "source": [
    "# Building the subclass: adding an attribute\n",
    "\n",
    "We can add an attribute to the NamedFraction class to store the name of the fraction (given as input)."
   ]
  },
  {
   "cell_type": "code",
   "execution_count": 4,
   "metadata": {},
   "outputs": [
    {
     "name": "stdout",
     "output_type": "stream",
     "text": [
      "One third\n"
     ]
    }
   ],
   "source": [
    "class NamedFraction(MyFraction):\n",
    "    # constructor\n",
    "    def __init__(self, num, den, name):\n",
    "        # call the constructor for the superclass to inherit attributes\n",
    "        super().__init__(num, den)\n",
    "        self.name = name\n",
    "        \n",
    "a = NamedFraction(1, 3, 'One third')\n",
    "print(a.name)"
   ]
  },
  {
   "cell_type": "markdown",
   "metadata": {
    "slideshow": {
     "slide_type": "slide"
    }
   },
   "source": [
    "# Building the subclass: overwriting the __str__ function\n",
    "\n",
    "The NamedFraction class inherits the `__str__` method from MyFraction.  \n",
    "\n",
    "However, we'd like to modify this for the NamedFraction class so that it also prints the name\n",
    "\n",
    "This can be done by defining `__str__` in the NamedFraction class.  \n",
    "\n",
    "The changes here **will not** affect the MyFraction superclass"
   ]
  },
  {
   "cell_type": "code",
   "execution_count": 20,
   "metadata": {
    "slideshow": {
     "slide_type": "slide"
    }
   },
   "outputs": [
    {
     "name": "stdout",
     "output_type": "stream",
     "text": [
      "One third = 1/3\n",
      " 1\n",
      "---\n",
      " 5\n"
     ]
    }
   ],
   "source": [
    "class NamedFraction(MyFraction):\n",
    "    # constructor\n",
    "    def __init__(self, num, den, name):\n",
    "        # call the constructor for the superclass to inherit attributes\n",
    "        super().__init__(num, den)\n",
    "        self.name = name\n",
    "    \n",
    "    # redefine the str function\n",
    "    def __str__(self):\n",
    "        return self.name + ' = ' + str(self.num) + '/' + str(self.den)\n",
    "\n",
    "a = NamedFraction(1, 3, 'One third')\n",
    "b = MyFraction(1, 5)\n",
    "print(a)\n",
    "print(b)"
   ]
  },
  {
   "cell_type": "markdown",
   "metadata": {
    "slideshow": {
     "slide_type": "slide"
    }
   },
   "source": [
    "# Building the subclass: adding a new function\n",
    "\n",
    "New functions can be added to subclasses.\n",
    "\n",
    "These won't be available to objects belonging to the superclass.\n",
    "\n",
    "Let's add a new function called `sig_fig` to the NamedFraction class that computes the floating point approximation to the fraction with $n$ digits"
   ]
  },
  {
   "cell_type": "code",
   "execution_count": 12,
   "metadata": {
    "slideshow": {
     "slide_type": "slide"
    }
   },
   "outputs": [
    {
     "data": {
      "text/plain": [
       "0.333"
      ]
     },
     "execution_count": 12,
     "metadata": {},
     "output_type": "execute_result"
    }
   ],
   "source": [
    "class NamedFraction(MyFraction):\n",
    "    # constructor\n",
    "    def __init__(self, num, den, name):\n",
    "        # call the constructor for the superclass to inherit attributes\n",
    "        super().__init__(num, den)\n",
    "        self.name = name\n",
    "    \n",
    "    # redefine the str function\n",
    "    def __str__(self):\n",
    "        return self.name + ' = ' + str(self.num) + '/' + str(self.den)\n",
    "    \n",
    "    # add a new function to approx the fraction to n digits of accuracy\n",
    "    def sig_fig(self, n):\n",
    "        return round(self.num / self.den, n)\n",
    "\n",
    "a = NamedFraction(1, 3, 'One third')\n",
    "a.sig_fig(3)"
   ]
  },
  {
   "cell_type": "markdown",
   "metadata": {
    "slideshow": {
     "slide_type": "slide"
    }
   },
   "source": [
    "# Summary\n",
    "\n",
    "* Class inheritance allows new classes to be defined that **inherit** the attributes of an existing class\n",
    "* The new class is called a **subclass** of its parent class\n",
    "* The parent class is the child's **superclass**\n",
    "\n",
    "In this case, defining the NamedFraction subclass was relatively easy.  This is because we could make use of all of the work we put into defining the MyFraction superclass"
   ]
  }
 ],
 "metadata": {
  "celltoolbar": "Slideshow",
  "kernelspec": {
   "display_name": "Python 3",
   "language": "python",
   "name": "python3"
  },
  "language_info": {
   "codemirror_mode": {
    "name": "ipython",
    "version": 3
   },
   "file_extension": ".py",
   "mimetype": "text/x-python",
   "name": "python",
   "nbconvert_exporter": "python",
   "pygments_lexer": "ipython3",
   "version": "3.8.10"
  }
 },
 "nbformat": 4,
 "nbformat_minor": 4
}
