{
 "cells": [
  {
   "cell_type": "markdown",
   "id": "a94a8d09",
   "metadata": {},
   "source": [
    "# Introduction to Computer Programming\n",
    "\n",
    "## Week 6.1: Importing Python files \n",
    "\n",
    "* * *\n",
    "\n",
    "<img src=\"img/full-colour-logo-UoB.png\" alt=\"Bristol\" style=\"width: 300px;\"/>"
   ]
  },
  {
   "cell_type": "markdown",
   "id": "3847e89e",
   "metadata": {},
   "source": [
    "__Modularity:__ Breaking large chunks of code into smaller, more manageable pieces. \n",
    "\n",
    "Useful blocks of code (e.g. variables, functions, classes) can be stored in a python file (a __module__)\n",
    "\n",
    "The module is then `import`ed for use in a program saved elsewhere on your computer. "
   ]
  },
  {
   "cell_type": "markdown",
   "id": "d5b7a620",
   "metadata": {},
   "source": [
    "__Example__ The Python module, `math`installs with Python<br>\n",
    "https://docs.python.org/3/library/math.html"
   ]
  },
  {
   "cell_type": "code",
   "execution_count": 2,
   "id": "f82a5fa5",
   "metadata": {},
   "outputs": [
    {
     "name": "stdout",
     "output_type": "stream",
     "text": [
      "3.141592653589793\n"
     ]
    }
   ],
   "source": [
    "import math\n",
    "\n",
    "print(math.pi)"
   ]
  },
  {
   "cell_type": "markdown",
   "id": "ac2df6ba",
   "metadata": {},
   "source": [
    "__Module:__ A python file containing python code (variables, functions, classes etc).\n",
    "\n",
    "__Package:__ A file directory (folder) containing python files (and other directories).\n",
    "\n",
    "__Script:__ A top level file, run as an program (importing would run the program).\n",
    "\n",
    "`__init__.py`__:__ Required to make Python treat a directory as a package. <br>Can be empty or execute initialization code for a package."
   ]
  },
  {
   "cell_type": "markdown",
   "id": "d5f59dfe",
   "metadata": {},
   "source": [
    "__Example:__ Three files in the same directory, `fruit`\n",
    "<img src=\"img/fruit_folder_1.png\" alt=\"Bristol\" style=\"width: 400px;\"/>"
   ]
  },
  {
   "cell_type": "markdown",
   "id": "4c32ff9f",
   "metadata": {},
   "source": [
    "__Example:__ Four files in the same directory, `fruit`\n",
    "<br>Import variables from `banana.py` and `strawberry.py` into `main.py`:\n",
    "\n",
    "```python\n",
    "fruit/\n",
    "│\n",
    "├── __init__.py\n",
    "├── banana.py\n",
    "├── strawberry.py\n",
    "└── main.py\n",
    "```"
   ]
  },
  {
   "cell_type": "markdown",
   "id": "b8f8a47d",
   "metadata": {},
   "source": [
    "Contents of four files in the same directory:\n",
    "***\n",
    "##### __init__.py\n",
    "    # (empty file)\n",
    "***\n",
    "##### banana.py\n",
    "    word = 'banana'    \n",
    "***\n",
    "##### strawberry.py\n",
    "    word = 'strawberry' \n",
    "***\n",
    "##### main.py\n",
    "    import banana\n",
    "    import strawberry\n",
    "    print(banana.word)\n",
    "    print(strawberry.word)\n",
    "***"
   ]
  },
  {
   "cell_type": "markdown",
   "id": "5a6bb437",
   "metadata": {},
   "source": [
    "When we run `main.py` the contents of `banana.py` and `strawberry.py` are imported and can be used within the `main.py` program. "
   ]
  },
  {
   "cell_type": "markdown",
   "id": "8edd9176",
   "metadata": {},
   "source": [
    "__Example:__ Three files in the same directory, `fruit`\n",
    "<br>Import function from `banana.py`into `main.py`:\n",
    "\n",
    "```python\n",
    "fruit/\n",
    "│\n",
    "├── __init__.py\n",
    "├── banana.py\n",
    "└── main.py\n",
    "```"
   ]
  },
  {
   "cell_type": "markdown",
   "id": "e695ffa4",
   "metadata": {},
   "source": [
    "Contents of three files in the same directory: \n",
    "***\n",
    "##### __init__.py\n",
    "    # (empty file)\n",
    "***\n",
    "##### banana.py\n",
    "    def peel():\n",
    "        print('Peel!')   \n",
    "***\n",
    "##### main.py\n",
    "    # main.py\n",
    "    import banana\n",
    "    banana.peel()\n",
    "***"
   ]
  },
  {
   "cell_type": "markdown",
   "id": "05a27dbf",
   "metadata": {},
   "source": [
    "Contents of three files in the same directory: \n",
    "***\n",
    "##### __init__.py\n",
    "    # (empty file)\n",
    "***\n",
    "##### banana.py\n",
    "    class Banana():\n",
    "        def __init__(self):\n",
    "            pass\n",
    "        def peel(self):\n",
    "            print('Peel!')  \n",
    "        \n",
    "***\n",
    "##### main.py\n",
    "    # main.py\n",
    "    import banana\n",
    "    b = Banana()\n",
    "    b.peel()\n",
    "***"
   ]
  },
  {
   "cell_type": "markdown",
   "id": "6089560b",
   "metadata": {
    "slideshow": {
     "slide_type": "slide"
    }
   },
   "source": [
    "<a id='LocalNamespace'></a>\n",
    "\n",
    "### Namespaces\n",
    "Each Python file has a local namespace.\n",
    "\n",
    "This is a “symbol table” that contains the names of imported modules, packages etc. \n",
    "\n",
    "When you import a package/module, the part after `import` gets added to the local namespace.\n",
    "\n",
    "This part should be used to prepend all variables etc from the imported module, to use them in the current program.  "
   ]
  },
  {
   "cell_type": "markdown",
   "id": "70325abf",
   "metadata": {
    "collapsed": true,
    "slideshow": {
     "slide_type": "slide"
    }
   },
   "source": [
    "Contents of four files in the same directory:\n",
    "***\n",
    "##### __init__.py\n",
    "    # (empty file)\n",
    "***\n",
    "##### banana.py\n",
    "    word = 'banana'    \n",
    "***\n",
    "##### strawberry.py\n",
    "    word = 'strawberry' \n",
    "***\n",
    "##### main.py\n",
    "    import banana\n",
    "    import strawberry\n",
    "    print(banana.word)\n",
    "    print(strawberry.word)\n",
    "***\n",
    "\n",
    "\n",
    "\n",
    "\n",
    "We prepend `word` with the __namespace__,  `strawberry` when we want to print `'strawberry'`.\n",
    "\n",
    "We prepend `word` with the __namespace__,  `banana` when we want to print `'banana'`.\n",
    "\n",
    "The namespace indicates which module/package to import the variable/function etc from."
   ]
  },
  {
   "cell_type": "markdown",
   "id": "a45a213c",
   "metadata": {
    "slideshow": {
     "slide_type": "slide"
    }
   },
   "source": [
    "### Changing the module name in the local namespace\n",
    "\n",
    "In main.py, you can change the lines:\n",
    "\n",
    "    import strawberry\n",
    "    print(strawberry.word)\n",
    "\n",
    "to \n",
    "\n",
    "    import strawberry as s\n",
    "    print(s.word)"
   ]
  },
  {
   "cell_type": "markdown",
   "id": "07194103",
   "metadata": {
    "slideshow": {
     "slide_type": "slide"
    }
   },
   "source": [
    "### Importing *individual items* from a module (by adding to the local namespace)\n",
    "\n",
    "In main.py, you can change the lines:\n",
    "    \n",
    "    import strawberry\n",
    "    print(strawberry.word)\n",
    "\n",
    "to \n",
    "\n",
    "    from strawberry import word\n",
    "    print(word)\n",
    "\n",
    "        "
   ]
  },
  {
   "cell_type": "markdown",
   "id": "16315242",
   "metadata": {},
   "source": [
    "### Importing *individual items* from a module - A word of warning! \n",
    "\n",
    "A name can only have one associated value in a program. \n",
    "\n",
    "__Example:__ Importing two variables with the same name\n",
    "\n",
    "    from strawberry import word\n",
    "    from banana import word\n",
    "    \n",
    "\n",
    "__Question:__ What will be the output of `print(word)`? "
   ]
  },
  {
   "cell_type": "markdown",
   "id": "53720076",
   "metadata": {},
   "source": [
    "Namespaces can be helpful - items (variables, functions) with the same name but from different modules can be used. "
   ]
  },
  {
   "cell_type": "markdown",
   "id": "0582b642",
   "metadata": {
    "slideshow": {
     "slide_type": "slide"
    }
   },
   "source": [
    "### Importing *all contents* of a module \n",
    "\n",
    "        from strawberry import *\n",
    "        print(word)"
   ]
  },
  {
   "cell_type": "markdown",
   "id": "00b490d6",
   "metadata": {
    "slideshow": {
     "slide_type": "slide"
    }
   },
   "source": [
    "### Importing *all contents* of a module  - A word of warning! \n",
    "\n",
    "It is inadvisable to use `from ... import *` where you do not know the full content of a module <br> (e.g. a large module or a module written by a developer downloaded from the internet).\n",
    "\n",
    "You may overshadow useful parts of your program such as built-in Python functions (`print`, `type` etc). \n",
    "\n",
    "It may be appropraite to use * with a small, specific, user-defined module. "
   ]
  },
  {
   "cell_type": "markdown",
   "id": "a530588e",
   "metadata": {},
   "source": [
    "# Summary\n",
    "\n",
    "- __Module:__ A python file containing python code (variables, functions, classes etc).\n",
    "\n",
    "- __Package:__ A file directory (folder) containing python files (and other directories).\n",
    "\n",
    "- __Script:__ A top level file, run as an program (importing would run the program).\n",
    "\n",
    "- `__init__.py`__:__ Required to make Python treat a directory as a package. \n",
    "\n",
    "\n",
    "- When you import a package/module, the part after `import` should be used to prepend all variables, functions etc from the imported module, to use them in the current program. \n",
    "\n",
    "- We can rename packages when they are imported.\n",
    "\n",
    "- Individual variables, functions etc can be imported. "
   ]
  },
  {
   "cell_type": "markdown",
   "id": "440cd7a0",
   "metadata": {},
   "source": [
    "## Examples - making your own library "
   ]
  },
  {
   "cell_type": "markdown",
   "id": "a469eef2",
   "metadata": {},
   "source": [
    "Add illustrations of a file system "
   ]
  },
  {
   "cell_type": "code",
   "execution_count": null,
   "id": "4a1e078e",
   "metadata": {},
   "outputs": [],
   "source": []
  },
  {
   "cell_type": "code",
   "execution_count": null,
   "id": "2948ef5e",
   "metadata": {},
   "outputs": [],
   "source": []
  },
  {
   "cell_type": "code",
   "execution_count": null,
   "id": "81b0f9bc",
   "metadata": {},
   "outputs": [],
   "source": [
    "fruit_and_veg/\n",
    "│\n",
    "├── fruit/\n",
    "│   ├── __init__.py\n",
    "│   └── banana.py\n",
    "│\n",
    "├── vegetables/\n",
    "│   ├── __init__.py\n",
    "│   ├── broccoli.py\n",
    "│   ├── carrot.py\n",
    "│   └── spinach.py\n",
    "│\n",
    "└── __init__.py"
   ]
  },
  {
   "cell_type": "code",
   "execution_count": null,
   "id": "cbb084bd",
   "metadata": {},
   "outputs": [],
   "source": []
  },
  {
   "cell_type": "code",
   "execution_count": null,
   "id": "798ef8eb",
   "metadata": {},
   "outputs": [],
   "source": []
  },
  {
   "cell_type": "code",
   "execution_count": null,
   "id": "4eb9e1f1",
   "metadata": {},
   "outputs": [],
   "source": []
  },
  {
   "cell_type": "code",
   "execution_count": null,
   "id": "eaac724a",
   "metadata": {},
   "outputs": [],
   "source": [
    "## Absolute imports  # adding file to python path # installing with pip "
   ]
  },
  {
   "cell_type": "code",
   "execution_count": null,
   "id": "a4e5d6e4",
   "metadata": {},
   "outputs": [],
   "source": []
  },
  {
   "cell_type": "markdown",
   "id": "8c016d2f",
   "metadata": {},
   "source": [
    "https://realpython.com/python-import/"
   ]
  },
  {
   "cell_type": "markdown",
   "id": "5a65f6aa",
   "metadata": {},
   "source": [
    "https://stackabuse.com/python-modules-creating-importing-and-sharing/"
   ]
  },
  {
   "cell_type": "code",
   "execution_count": null,
   "id": "281cd3d2",
   "metadata": {},
   "outputs": [],
   "source": []
  }
 ],
 "metadata": {
  "kernelspec": {
   "display_name": "Python 3",
   "language": "python",
   "name": "python3"
  },
  "language_info": {
   "codemirror_mode": {
    "name": "ipython",
    "version": 3
   },
   "file_extension": ".py",
   "mimetype": "text/x-python",
   "name": "python",
   "nbconvert_exporter": "python",
   "pygments_lexer": "ipython3",
   "version": "3.8.8"
  }
 },
 "nbformat": 4,
 "nbformat_minor": 5
}
