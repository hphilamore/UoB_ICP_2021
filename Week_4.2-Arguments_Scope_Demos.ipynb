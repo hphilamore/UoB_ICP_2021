{
 "cells": [
  {
   "cell_type": "markdown",
   "metadata": {
    "slideshow": {
     "slide_type": "slide"
    }
   },
   "source": [
    "# Introduction to Computer Programming\n",
    "\n",
    "## Week 4.2: Function arguments and scope\n",
    "\n",
    "* * *\n",
    "\n",
    "<img src=\"img/full-colour-logo-UoB.png\" alt=\"Bristol\" style=\"width: 300px;\"/>"
   ]
  },
  {
   "cell_type": "markdown",
   "metadata": {
    "slideshow": {
     "slide_type": "slide"
    }
   },
   "source": [
    "# Arguments\n",
    "\n",
    "* Arguments allow input to be provided to functions\n",
    "* When defining a function, multiple arguments must be separated by commas\n",
    "* When we call a function, the order of the arguments we provide must match the order of arguments the function expects\n",
    "* This is why docstrings are helpful!"
   ]
  },
  {
   "cell_type": "markdown",
   "metadata": {
    "slideshow": {
     "slide_type": "slide"
    }
   },
   "source": [
    "# Why does the argument order matter?\n",
    "\n",
    "Let's consider a function that prints a name:"
   ]
  },
  {
   "cell_type": "code",
   "execution_count": 1,
   "metadata": {},
   "outputs": [],
   "source": [
    "def print_name(first_name, last_name):\n",
    "    print(first_name, last_name)"
   ]
  },
  {
   "cell_type": "markdown",
   "metadata": {
    "slideshow": {
     "slide_type": "fragment"
    }
   },
   "source": [
    "If this function is called using `print_name(Matt, Hennessy)`, then:\n",
    "1. The argument *first_name* is assigned the value of 'Matt'\n",
    "2. The argument *last_name* is assigned the value of 'Hennessy'\n",
    "\n",
    "**By default, the arguments in a function are assigned values in the order they are provided**"
   ]
  },
  {
   "cell_type": "markdown",
   "metadata": {
    "slideshow": {
     "slide_type": "slide"
    }
   },
   "source": [
    "# Keyword arguments\n",
    "\n",
    "Python, in fact, allows arguments to be assigned in any order using **keyword arguments**.\n",
    "\n",
    "The idea is to provide the names of the arguments as well as their values when calling a function.\n",
    "\n",
    "For example\n",
    "```python\n",
    "my_function(a = 1.0, b = 2.0, c = 2.3)\n",
    "my_function(c = 2.3, a = 1.0, b = 2.0)\n",
    "```\n",
    "would produce the same result"
   ]
  },
  {
   "cell_type": "markdown",
   "metadata": {
    "slideshow": {
     "slide_type": "slide"
    }
   },
   "source": [
    "**Example**: Consider the `print_name` function"
   ]
  },
  {
   "cell_type": "code",
   "execution_count": 2,
   "metadata": {},
   "outputs": [],
   "source": [
    "def print_name(first_name, last_name):\n",
    "    print(first_name, last_name)"
   ]
  },
  {
   "cell_type": "markdown",
   "metadata": {},
   "source": [
    "We'll call this function using standard (positional) arguments and then keyword arguments"
   ]
  },
  {
   "cell_type": "code",
   "execution_count": 3,
   "metadata": {
    "slideshow": {
     "slide_type": "-"
    }
   },
   "outputs": [
    {
     "name": "stdout",
     "output_type": "stream",
     "text": [
      "Matt Hennessy\n"
     ]
    }
   ],
   "source": [
    "# call using positional arguments (order matters)\n",
    "print_name('Matt', 'Hennessy')"
   ]
  },
  {
   "cell_type": "code",
   "execution_count": 4,
   "metadata": {},
   "outputs": [
    {
     "name": "stdout",
     "output_type": "stream",
     "text": [
      "Matt Hennessy\n"
     ]
    }
   ],
   "source": [
    "# call using keyword arguments (order does not matter)\n",
    "print_name(last_name = 'Hennessy', first_name='Matt')"
   ]
  },
  {
   "cell_type": "markdown",
   "metadata": {
    "slideshow": {
     "slide_type": "slide"
    }
   },
   "source": [
    "# Default arguments\n",
    "\n",
    "If a function argument usually takes on the same value, then we can assign a default value to it.\n",
    "* This means that this argument does not need to have a value passed to it when the function is called.\n",
    "* It also means that this argument must be **optional**\n",
    "\n",
    "To create a **default argument**, the default value of the argument is assigned in the function definition\n",
    "```python\n",
    "def fun(arg = default_value):\n",
    "```"
   ]
  },
  {
   "cell_type": "markdown",
   "metadata": {
    "slideshow": {
     "slide_type": "slide"
    }
   },
   "source": [
    "**Example**: Let's return to the name-printing function.  Now, let's add an option for the names to be printed in reverse order by passing a Boolean called *reverse*:"
   ]
  },
  {
   "cell_type": "code",
   "execution_count": 3,
   "metadata": {},
   "outputs": [
    {
     "name": "stdout",
     "output_type": "stream",
     "text": [
      "Matt Hennessy\n",
      "Hennessy, Matt\n"
     ]
    }
   ],
   "source": [
    "def print_name(first_name, second_name, reverse):\n",
    "    if reverse:\n",
    "        print(second_name + ', ' + first_name)\n",
    "    else:\n",
    "        print(first_name, second_name)\n",
    "        \n",
    "print_name('Matt', 'Hennessy', False)\n",
    "print_name('Matt', 'Hennessy', True)"
   ]
  },
  {
   "cell_type": "markdown",
   "metadata": {
    "slideshow": {
     "slide_type": "slide"
    }
   },
   "source": [
    "Now let's use a default argument to automatically set the *reverse* parameter equal to False"
   ]
  },
  {
   "cell_type": "code",
   "execution_count": 6,
   "metadata": {},
   "outputs": [],
   "source": [
    "def print_name(first_name, second_name, reverse = False):\n",
    "    if reverse:\n",
    "        print(second_name + ', ' + first_name)\n",
    "    else:\n",
    "        print(first_name, second_name)"
   ]
  },
  {
   "cell_type": "markdown",
   "metadata": {
    "slideshow": {
     "slide_type": "fragment"
    }
   },
   "source": [
    "This means we can call the function without providing a third argument:"
   ]
  },
  {
   "cell_type": "code",
   "execution_count": 7,
   "metadata": {
    "slideshow": {
     "slide_type": "-"
    }
   },
   "outputs": [
    {
     "name": "stdout",
     "output_type": "stream",
     "text": [
      "Matt Hennessy\n"
     ]
    }
   ],
   "source": [
    "print_name('Matt', 'Hennessy')"
   ]
  },
  {
   "cell_type": "markdown",
   "metadata": {
    "slideshow": {
     "slide_type": "fragment"
    }
   },
   "source": [
    "However, if we do want to use reverse order, then we can pass the third argument to override the default value:"
   ]
  },
  {
   "cell_type": "code",
   "execution_count": 8,
   "metadata": {},
   "outputs": [
    {
     "name": "stdout",
     "output_type": "stream",
     "text": [
      "Hennessy, Matt\n"
     ]
    }
   ],
   "source": [
    "print_name('Matt', 'Hennessy', True)"
   ]
  },
  {
   "cell_type": "markdown",
   "metadata": {
    "slideshow": {
     "slide_type": "slide"
    }
   },
   "source": [
    "# Variable number of arguments\n",
    "\n",
    "Python enables functions with a variable number of arguments to be written using the **unpacking operator** *\n",
    "```python\n",
    "def my_function(*arguments):\n",
    "```\n",
    "\n",
    "The unpacking operator * tells Python to create a tuple out of the arguments it receives"
   ]
  },
  {
   "cell_type": "markdown",
   "metadata": {
    "slideshow": {
     "slide_type": "slide"
    }
   },
   "source": [
    "**Example**: Write a function that sums an arbitrary number of numbers.  Each number will be passed to the function as an argument."
   ]
  },
  {
   "cell_type": "code",
   "execution_count": 3,
   "metadata": {},
   "outputs": [
    {
     "name": "stdout",
     "output_type": "stream",
     "text": [
      "15\n"
     ]
    }
   ],
   "source": [
    "def my_sum(*numbers):\n",
    "    S = 0\n",
    "    for n in numbers:\n",
    "        S += n\n",
    "    return S\n",
    "\n",
    "S = my_sum(1, 2, 3, 4, 5)\n",
    "print(S)"
   ]
  },
  {
   "cell_type": "markdown",
   "metadata": {
    "slideshow": {
     "slide_type": "slide"
    }
   },
   "source": [
    "# Variable scope\n",
    "\n",
    "The **scope** of a variable describes the part of the program in which it can be accessed\n",
    "\n",
    "The variables defined in a function only exist within that function and cannot be accessed outside of it\n",
    "* These variables are said to be in the **local scope** of the function\n",
    "* This is why we need to use the `return` keyword to produce outputs"
   ]
  },
  {
   "cell_type": "markdown",
   "metadata": {
    "slideshow": {
     "slide_type": "slide"
    }
   },
   "source": [
    "**Example**: Accessing a local variable *c* outside of the function in which it is defined triggers an error"
   ]
  },
  {
   "cell_type": "code",
   "execution_count": 11,
   "metadata": {},
   "outputs": [
    {
     "ename": "NameError",
     "evalue": "name 'c' is not defined",
     "output_type": "error",
     "traceback": [
      "\u001b[0;31m---------------------------------------------------------------------------\u001b[0m",
      "\u001b[0;31mNameError\u001b[0m                                 Traceback (most recent call last)",
      "\u001b[0;32m<ipython-input-11-748ff6adc5fc>\u001b[0m in \u001b[0;36m<module>\u001b[0;34m\u001b[0m\n\u001b[1;32m      4\u001b[0m \u001b[0;34m\u001b[0m\u001b[0m\n\u001b[1;32m      5\u001b[0m \u001b[0madd\u001b[0m\u001b[0;34m(\u001b[0m\u001b[0;36m2\u001b[0m\u001b[0;34m,\u001b[0m\u001b[0;36m4\u001b[0m\u001b[0;34m)\u001b[0m\u001b[0;34m\u001b[0m\u001b[0;34m\u001b[0m\u001b[0m\n\u001b[0;32m----> 6\u001b[0;31m \u001b[0mprint\u001b[0m\u001b[0;34m(\u001b[0m\u001b[0mc\u001b[0m\u001b[0;34m)\u001b[0m\u001b[0;34m\u001b[0m\u001b[0;34m\u001b[0m\u001b[0m\n\u001b[0m",
      "\u001b[0;31mNameError\u001b[0m: name 'c' is not defined"
     ]
    }
   ],
   "source": [
    "# this function adds a and b, saves the result in c\n",
    "def add(a, b):\n",
    "    c = a + b\n",
    "    \n",
    "add(2,4)\n",
    "print(c)"
   ]
  },
  {
   "cell_type": "markdown",
   "metadata": {
    "slideshow": {
     "slide_type": "slide"
    }
   },
   "source": [
    "**Example**: Consider the two functions"
   ]
  },
  {
   "cell_type": "code",
   "execution_count": 12,
   "metadata": {},
   "outputs": [],
   "source": [
    "def fun1():\n",
    "    x = 1\n",
    "    \n",
    "def fun2():\n",
    "    y = 2"
   ]
  },
  {
   "cell_type": "markdown",
   "metadata": {},
   "source": [
    "The scope of *x* is `fun1` and the scope of *y* is `fun2`.  Both *x* and *y* have local scope."
   ]
  },
  {
   "cell_type": "markdown",
   "metadata": {
    "slideshow": {
     "slide_type": "slide"
    }
   },
   "source": [
    "# Global variables and scope\n",
    "\n",
    "Global variables have **global scope**, which means they can be accessed and modified *anywhere*\n",
    "\n",
    "Variables defined in the main body of Python code automatically have global scope\n",
    "\n",
    "**Example**: Global scope allows variables to be used in functions without passing them as arguments"
   ]
  },
  {
   "cell_type": "code",
   "execution_count": 1,
   "metadata": {},
   "outputs": [
    {
     "name": "stdout",
     "output_type": "stream",
     "text": [
      "5\n"
     ]
    }
   ],
   "source": [
    "def print_x():\n",
    "    print(x)\n",
    "    \n",
    "x = 5\n",
    "print_x()"
   ]
  },
  {
   "cell_type": "markdown",
   "metadata": {
    "slideshow": {
     "slide_type": "slide"
    }
   },
   "source": [
    "# The `global` keyword\n",
    "\n",
    "A variable with local scope can obtain global scope using the `global` keyword"
   ]
  },
  {
   "cell_type": "code",
   "execution_count": 14,
   "metadata": {},
   "outputs": [
    {
     "name": "stdout",
     "output_type": "stream",
     "text": [
      "6\n"
     ]
    }
   ],
   "source": [
    "def add(a,b):\n",
    "    global c\n",
    "    c = a + b\n",
    "    \n",
    "add(1, 5)\n",
    "print(c)"
   ]
  },
  {
   "cell_type": "markdown",
   "metadata": {
    "slideshow": {
     "slide_type": "fragment"
    }
   },
   "source": [
    "Even though *c* was defined in the `add` function, it has global scope, so it can be accessed anywhere"
   ]
  },
  {
   "cell_type": "markdown",
   "metadata": {
    "slideshow": {
     "slide_type": "slide"
    }
   },
   "source": [
    "# Good programming practice - global variables\n",
    "\n",
    "*Just because something can be done, doesn't mean it should be done*\n",
    "\n",
    "Global variables should be avoided whenever possible.  Since they can be accessed and modified anywhere in the program, it becomes difficult to keep track of these changes and find mistakes if they occur!\n",
    "\n",
    "The exercises will demonstrate these points"
   ]
  },
  {
   "cell_type": "markdown",
   "metadata": {
    "slideshow": {
     "slide_type": "slide"
    }
   },
   "source": [
    "# Summary\n",
    "\n",
    "* By default, arguments are assigned values in the order they are provided\n",
    "* Keyword arguments can be used to assign values to arguments in any order\n",
    "* Default arguments pre-assign values to optional arguments\n",
    "* The scope of a variable describes where a variable can be accessed\n",
    "* Variables with global scope can be accessed anywhere, but should be avoided when possible"
   ]
  }
 ],
 "metadata": {
  "celltoolbar": "Slideshow",
  "kernelspec": {
   "display_name": "Python 3",
   "language": "python",
   "name": "python3"
  },
  "language_info": {
   "codemirror_mode": {
    "name": "ipython",
    "version": 3
   },
   "file_extension": ".py",
   "mimetype": "text/x-python",
   "name": "python",
   "nbconvert_exporter": "python",
   "pygments_lexer": "ipython3",
   "version": "3.8.10"
  }
 },
 "nbformat": 4,
 "nbformat_minor": 4
}
