{
 "cells": [
  {
   "cell_type": "markdown",
   "id": "5bffc556",
   "metadata": {
    "slideshow": {
     "slide_type": "slide"
    }
   },
   "source": [
    "# Introduction to Computer Programming\n",
    "\n",
    "## 2.2 Control Flow\n",
    "\n",
    "<img src=\"img/full-colour-logo-UoB.png\" alt=\"Drawing\" style=\"width: 300px;\"/>"
   ]
  },
  {
   "cell_type": "markdown",
   "id": "47e88d5c",
   "metadata": {},
   "source": [
    "# Input\n",
    "\n",
    "`input`: accepts typed input from the user and stores this as string data. \n",
    "\n",
    "The function argument is a string, which is the prompt displayed to the user. "
   ]
  },
  {
   "cell_type": "code",
   "execution_count": 3,
   "id": "3bc47454",
   "metadata": {
    "scrolled": true
   },
   "outputs": [
    {
     "name": "stdout",
     "output_type": "stream",
     "text": [
      "Enter your name: Hemma\n",
      "My name is  Hemma\n"
     ]
    }
   ],
   "source": [
    "name = input(\"Enter your name: \") # type response when prompted and press enter\n",
    "\n",
    "print('My name is ', name)"
   ]
  },
  {
   "cell_type": "markdown",
   "id": "8ef9d2c2",
   "metadata": {},
   "source": [
    "This is a quick and easy way to add dynamic input to your program."
   ]
  },
  {
   "cell_type": "markdown",
   "id": "dfc8331c",
   "metadata": {},
   "source": [
    "### Input - a word of warning! \n",
    "The input by the user is stored as a string. \n",
    "<br>Numbers entered will behave as text data unless converted to a numerical data type."
   ]
  },
  {
   "cell_type": "code",
   "execution_count": 22,
   "id": "c8a278a8",
   "metadata": {},
   "outputs": [
    {
     "name": "stdout",
     "output_type": "stream",
     "text": [
      "Enter a number \n",
      "Enter another number \n",
      "\n"
     ]
    },
    {
     "ename": "ValueError",
     "evalue": "invalid literal for int() with base 10: ''",
     "output_type": "error",
     "traceback": [
      "\u001b[1;31m---------------------------------------------------------------------------\u001b[0m",
      "\u001b[1;31mValueError\u001b[0m                                Traceback (most recent call last)",
      "\u001b[1;32m<ipython-input-22-23fd8189f69c>\u001b[0m in \u001b[0;36m<module>\u001b[1;34m\u001b[0m\n\u001b[0;32m      4\u001b[0m \u001b[0mprint\u001b[0m\u001b[1;33m(\u001b[0m\u001b[0mA\u001b[0m \u001b[1;33m+\u001b[0m \u001b[0mB\u001b[0m\u001b[1;33m)\u001b[0m\u001b[1;33m\u001b[0m\u001b[1;33m\u001b[0m\u001b[0m\n\u001b[0;32m      5\u001b[0m \u001b[1;33m\u001b[0m\u001b[0m\n\u001b[1;32m----> 6\u001b[1;33m \u001b[0mprint\u001b[0m\u001b[1;33m(\u001b[0m\u001b[0mint\u001b[0m\u001b[1;33m(\u001b[0m\u001b[0mA\u001b[0m\u001b[1;33m)\u001b[0m \u001b[1;33m+\u001b[0m \u001b[0mint\u001b[0m\u001b[1;33m(\u001b[0m\u001b[0mB\u001b[0m\u001b[1;33m)\u001b[0m\u001b[1;33m)\u001b[0m\u001b[1;33m\u001b[0m\u001b[1;33m\u001b[0m\u001b[0m\n\u001b[0m",
      "\u001b[1;31mValueError\u001b[0m: invalid literal for int() with base 10: ''"
     ]
    }
   ],
   "source": [
    "A = input(\"Enter a number \")\n",
    "B = input(\"Enter another number \")\n",
    "\n",
    "print(A + B)\n",
    "\n",
    "print(int(A) + int(B))"
   ]
  },
  {
   "cell_type": "markdown",
   "id": "d10d5b71",
   "metadata": {},
   "source": [
    "__Example:__ Write a program that requests the time from the user and tells them to eat lunch if it is lunchtime. \n",
    "\n",
    "<p align=\"center\">\n",
    "  <img src=\"img/flow_diag_if_lunctime.png\" alt=\"Drawing\" style=\"width: 200px;\"/>\n",
    "</p>"
   ]
  },
  {
   "cell_type": "code",
   "execution_count": 11,
   "id": "372589eb",
   "metadata": {},
   "outputs": [
    {
     "name": "stdout",
     "output_type": "stream",
     "text": [
      "enter the time (24 hour clock) in format hh.mm : 3.00\n"
     ]
    }
   ],
   "source": [
    "t = input('enter the time (24 hour clock) in format hh.mm : ') \n",
    "t = float(t)    # string converted to float\n",
    "\n",
    "\n",
    "# ----------------- Program from last week ---------------------\n",
    "Ls = 13.00      # lunch starts\n",
    "Le = 14.00      # lunch ends\n",
    "\n",
    "lunchtime = t >= Ls and t < Le\n",
    "\n",
    "if lunchtime:\n",
    "    print(\"Eat lunch\")\n",
    "# ---------------------------------------------------------------"
   ]
  },
  {
   "cell_type": "markdown",
   "id": "84cdbf14",
   "metadata": {},
   "source": [
    "`split` : splits a string into a list. "
   ]
  },
  {
   "cell_type": "code",
   "execution_count": 6,
   "id": "20e627d2",
   "metadata": {},
   "outputs": [
    {
     "name": "stdout",
     "output_type": "stream",
     "text": [
      "Enter two numbers 3 4\n",
      "3 4\n",
      "['3', '4']\n"
     ]
    }
   ],
   "source": [
    "A = input(\"Enter two numbers \")\n",
    "print(A)\n",
    "\n",
    "B = A.split()\n",
    "print(B)"
   ]
  },
  {
   "cell_type": "markdown",
   "id": "e70ff039",
   "metadata": {},
   "source": [
    "# Nested conditional statements\n",
    "Conditional statements can be nested (a conditional statement within a conditional statement) to execute more complex decision making in a program. \n",
    "\n",
    "__Example:__ Translate the flow diagram into a programme\n",
    "\n",
    "######################## PICTURE ###################################"
   ]
  },
  {
   "cell_type": "code",
   "execution_count": 7,
   "id": "a747a985",
   "metadata": {},
   "outputs": [
    {
     "name": "stdout",
     "output_type": "stream",
     "text": [
      "You're an adult who can drive\n"
     ]
    }
   ],
   "source": [
    "age = 19\n",
    "graduated = False\n",
    "driver = True\n",
    "\n",
    "# Check if person is 18 years or older\n",
    "if age >= 18:\n",
    "    print(\"You're an adult\", end='')\n",
    "\n",
    "    if graduated:\n",
    "        print(' with a degree')\n",
    "    if driver:\n",
    "        print(' who can drive')"
   ]
  },
  {
   "cell_type": "code",
   "execution_count": 27,
   "id": "b35d791f",
   "metadata": {
    "scrolled": true
   },
   "outputs": [
    {
     "name": "stdout",
     "output_type": "stream",
     "text": [
      "enter a number401\n",
      "N > 100 and odd\n"
     ]
    }
   ],
   "source": [
    "number = int(input('enter a number')) # convert input number to integer\n",
    "\n",
    "if number > 100:\n",
    "    print('N > 100', end='')\n",
    "    \n",
    "    if number % 2 == 0:\n",
    "        print(' and even')\n",
    "        \n",
    "    else:\n",
    "        print(' and odd')\n",
    "        \n",
    "else:\n",
    "    print('N <= 100')\n",
    "    \n"
   ]
  },
  {
   "cell_type": "markdown",
   "id": "bbf8243d",
   "metadata": {},
   "source": [
    "# In-class examples"
   ]
  },
  {
   "cell_type": "markdown",
   "id": "92049a53",
   "metadata": {},
   "source": [
    "__Example 1:__ Write a program that asks for the user's age and checks if they are 18 or over. "
   ]
  },
  {
   "cell_type": "code",
   "execution_count": 21,
   "id": "da0b7013",
   "metadata": {},
   "outputs": [
    {
     "name": "stdout",
     "output_type": "stream",
     "text": [
      "Enter your age: 34\n",
      "adult\n"
     ]
    }
   ],
   "source": [
    "age = input('Enter your age: ')\n",
    "\n",
    "if int(age) >= 18:\n",
    "    print('adult')"
   ]
  },
  {
   "cell_type": "markdown",
   "id": "be3bb941",
   "metadata": {},
   "source": [
    "__Example 2:__ Write a program for an online shop that:\n",
    "- asks for the number of items ordered\n",
    "- check how many are in stock and prints a message to re-supply if the order cannot be fulfilled\n",
    "- if the items are in stock, prints a message if there will be multiple packages shipped assuming 8 items fit in one box."
   ]
  },
  {
   "cell_type": "code",
   "execution_count": 20,
   "id": "13534a82",
   "metadata": {},
   "outputs": [
    {
     "name": "stdout",
     "output_type": "stream",
     "text": [
      "No items ordered: 56\n",
      "re-supply!\n"
     ]
    }
   ],
   "source": [
    "Ordered = int(input('No items ordered: '))\n",
    "InStock = 32\n",
    "\n",
    "if InStock < Ordered:\n",
    "    print('re-supply!')\n",
    "else:\n",
    "    if Ordered/8 > 1:\n",
    "        print('mutiple packages!')"
   ]
  },
  {
   "cell_type": "markdown",
   "id": "c73328ea",
   "metadata": {},
   "source": [
    "__Example 3:__ Write a program that:\n",
    "- checks if a number of odd or even. \n",
    "- checks if input even numbers are multiples of 4.\n",
    "- checks if input odd numbers are multiples of 3."
   ]
  },
  {
   "cell_type": "code",
   "execution_count": 24,
   "id": "8f5d0e97",
   "metadata": {},
   "outputs": [
    {
     "name": "stdout",
     "output_type": "stream",
     "text": [
      "Odd number and multiple of 3\n"
     ]
    }
   ],
   "source": [
    "N = 9\n",
    "\n",
    "if not N % 2:\n",
    "    print('Even number', end='')\n",
    "    if not N % 4:\n",
    "        print(' and mulitple of 4')\n",
    "else:\n",
    "    print('Odd number', end='')\n",
    "    if not N % 3:\n",
    "        print(' and multiple of 3')"
   ]
  },
  {
   "cell_type": "code",
   "execution_count": null,
   "id": "609ee343",
   "metadata": {},
   "outputs": [],
   "source": []
  }
 ],
 "metadata": {
  "kernelspec": {
   "display_name": "Python 3",
   "language": "python",
   "name": "python3"
  },
  "language_info": {
   "codemirror_mode": {
    "name": "ipython",
    "version": 3
   },
   "file_extension": ".py",
   "mimetype": "text/x-python",
   "name": "python",
   "nbconvert_exporter": "python",
   "pygments_lexer": "ipython3",
   "version": "3.8.8"
  }
 },
 "nbformat": 4,
 "nbformat_minor": 5
}
