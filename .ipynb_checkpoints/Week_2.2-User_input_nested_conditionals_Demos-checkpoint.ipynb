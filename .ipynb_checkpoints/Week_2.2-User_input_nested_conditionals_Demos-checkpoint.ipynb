{
 "cells": [
  {
   "cell_type": "markdown",
   "metadata": {
    "slideshow": {
     "slide_type": "slide"
    }
   },
   "source": [
    "# Introduction to Computer Programming\n",
    "\n",
    "## 2.2 User input & nested conditionals\n",
    "\n",
    "<img src=\"img/full-colour-logo-UoB.png\" alt=\"Drawing\" style=\"width: 300px;\"/>"
   ]
  },
  {
   "cell_type": "markdown",
   "metadata": {
    "slideshow": {
     "slide_type": "slide"
    }
   },
   "source": [
    "# In-class Demos"
   ]
  },
  {
   "cell_type": "markdown",
   "metadata": {
    "slideshow": {
     "slide_type": "slide"
    }
   },
   "source": [
    "__Example 1:__ Write a program that asks for the user's age and checks if they are 18 or over. "
   ]
  },
  {
   "cell_type": "code",
   "execution_count": 1,
   "metadata": {
    "scrolled": true
   },
   "outputs": [
    {
     "name": "stdout",
     "output_type": "stream",
     "text": [
      "Enter your age: 56\n",
      "18 or over\n"
     ]
    }
   ],
   "source": [
    "age = input(\"Enter your age: \")\n",
    "\n",
    "age = int(age)\n",
    "\n",
    "if age > 18:\n",
    "    print('18 or over')"
   ]
  },
  {
   "cell_type": "markdown",
   "metadata": {
    "slideshow": {
     "slide_type": "slide"
    }
   },
   "source": [
    "__Example 2:__ Write a program that:\n",
    "- asks the user to input a number\n",
    "- checks if a number is odd or even \n",
    "- checks if input even numbers are multiples of 4\n",
    "- checks if input odd numbers are multiples of 3\n",
    "\n",
    "__Hint:__ In a conditional statement:\n",
    "- non-zero values are treated as True\n",
    "- zero is treated as false"
   ]
  },
  {
   "cell_type": "code",
   "execution_count": 7,
   "metadata": {},
   "outputs": [
    {
     "name": "stdout",
     "output_type": "stream",
     "text": [
      "Enter a number: 33\n",
      "odd number and multiple of 3\n"
     ]
    }
   ],
   "source": [
    "N = input('Enter a number: ')\n",
    "N = int(N)\n",
    "\n",
    "if N % 2:\n",
    "    print('odd number', end='')\n",
    "    \n",
    "    if not N % 3:\n",
    "        print(' and multiple of 3')\n",
    "\n",
    "else:\n",
    "    print('even number', end='')\n",
    "    \n",
    "    if not N % 4:\n",
    "        print(' and mulitple of 4')\n",
    "        \n",
    "\n",
    "    "
   ]
  },
  {
   "cell_type": "code",
   "execution_count": null,
   "metadata": {},
   "outputs": [],
   "source": []
  }
 ],
 "metadata": {
  "celltoolbar": "Slideshow",
  "kernelspec": {
   "display_name": "Python 3",
   "language": "python",
   "name": "python3"
  },
  "language_info": {
   "codemirror_mode": {
    "name": "ipython",
    "version": 3
   },
   "file_extension": ".py",
   "mimetype": "text/x-python",
   "name": "python",
   "nbconvert_exporter": "python",
   "pygments_lexer": "ipython3",
   "version": "3.7.4"
  }
 },
 "nbformat": 4,
 "nbformat_minor": 5
}
