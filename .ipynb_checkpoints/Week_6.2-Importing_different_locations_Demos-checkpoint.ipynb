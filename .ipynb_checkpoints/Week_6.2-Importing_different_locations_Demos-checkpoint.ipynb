{
 "cells": [
  {
   "cell_type": "markdown",
   "metadata": {
    "slideshow": {
     "slide_type": "slide"
    }
   },
   "source": [
    "# Introduction to Computer Programming\n",
    "\n",
    "## Week 6.2: Importing files from different locations\n",
    "\n",
    "* * *\n",
    "\n",
    "<img src=\"img/full-colour-logo-UoB.png\" alt=\"Bristol\" style=\"width: 300px;\"/>"
   ]
  },
  {
   "cell_type": "markdown",
   "metadata": {
    "slideshow": {
     "slide_type": "slide"
    }
   },
   "source": [
    "# In-class Demos"
   ]
  },
  {
   "cell_type": "markdown",
   "metadata": {
    "slideshow": {
     "slide_type": "slide"
    }
   },
   "source": [
    "##### Try it yourself\n",
    "__Example 1a:__ \n",
    "\n",
    "Create the file structure shown below within a new folder called `lecture_6`. \n",
    "\n",
    "\n",
    "\n",
    "\n",
    "```python\n",
    "\n",
    "    example_w6b/\n",
    "    │\n",
    "    ├── scripts/\n",
    "    │   └── my_script.py\n",
    "    │\n",
    "    ├── fruit/\n",
    "    │   ├── __init__.py\n",
    "    │   └── strawberry.py\n",
    "    │\n",
    "    ├── functions.py \n",
    "    └── __init__.py\n",
    "```\n",
    "\n",
    "\n"
   ]
  },
  {
   "cell_type": "markdown",
   "metadata": {
    "slideshow": {
     "slide_type": "slide"
    }
   },
   "source": [
    "##### Try it yourself\n",
    "__Example 1b:__ \n",
    "\n",
    "Add the content shown:\n",
    "\n",
    "***\n",
    "`functions.py`\n",
    "``` python\n",
    "\n",
    "    def letters(word):\n",
    "        for w in word:\n",
    "            print(w)\n",
    "```\n",
    "***\n",
    "`strawberry.py`\n",
    "``` python\n",
    "    word = 'strawberry'\n",
    "```\n",
    "***\n"
   ]
  },
  {
   "cell_type": "markdown",
   "metadata": {},
   "source": [
    "__Example 1c:__ \n",
    "    \n",
    "Within `my_script.py`, use the function `letters` to print the letters of the word 'Python' on seperate lines.  "
   ]
  },
  {
   "cell_type": "markdown",
   "metadata": {},
   "source": [
    "Solution: Example 1c\n",
    "\n",
    "`my_script.py`\n",
    "***\n",
    "``` python\n",
    "\n",
    "    import sys\n",
    "    sys.path.append('../')\n",
    "    \n",
    "    import functions\n",
    "    \n",
    "    functions.letters('Python')\n",
    "```\n",
    "***"
   ]
  },
  {
   "cell_type": "markdown",
   "metadata": {
    "slideshow": {
     "slide_type": "slide"
    }
   },
   "source": [
    "##### Try it yourself\n",
    "__Example 1d:__ \n",
    "\n",
    "Within `my_script.py`, use the function `letters` to print the letters of the variable `word` imported from strawberry.py\n",
    "\n"
   ]
  },
  {
   "cell_type": "markdown",
   "metadata": {
    "slideshow": {
     "slide_type": "slide"
    }
   },
   "source": [
    "Solution: Example 1c\n",
    "\n",
    "Add directory one level up to path\n",
    "\n",
    "`my_script.py`\n",
    "***\n",
    "\n",
    "``` python\n",
    "    import sys\n",
    "    sys.path.append('../')\n",
    "    \n",
    "    import functions\n",
    "    import fruit.strawberry\n",
    "    \n",
    "    functions.letters(fruit.strawberry.word)\n",
    "```\n",
    "***\n",
    "\n",
    "Add directory one level up and different directory to path\n",
    "\n",
    "\n",
    "`my_script.py`\n",
    "***\n",
    "``` python\n",
    "\n",
    "    import sys\n",
    "    sys.path.append('../')\n",
    "    sys.path.append('../fruit')\n",
    "    \n",
    "    import functions\n",
    "    import strawberry\n",
    "    \n",
    "    functions.letters(strawberry.word)\n",
    "```\n",
    "***\n",
    "\n",
    "Renaming and importing individual objects\n",
    "\n",
    "\n",
    "`my_script.py`\n",
    "***\n",
    "``` python\n",
    "\n",
    "    import sys\n",
    "    sys.path.append('../')\n",
    "    sys.path.append('../fruit')\n",
    "    \n",
    "    import functions as f\n",
    "    from strawberry import word\n",
    "    \n",
    "    f.letters(word)\n",
    "```\n",
    "\n",
    "***"
   ]
  },
  {
   "cell_type": "code",
   "execution_count": null,
   "metadata": {},
   "outputs": [],
   "source": []
  }
 ],
 "metadata": {
  "celltoolbar": "Slideshow",
  "kernelspec": {
   "display_name": "Python 3",
   "language": "python",
   "name": "python3"
  },
  "language_info": {
   "codemirror_mode": {
    "name": "ipython",
    "version": 3
   },
   "file_extension": ".py",
   "mimetype": "text/x-python",
   "name": "python",
   "nbconvert_exporter": "python",
   "pygments_lexer": "ipython3",
   "version": "3.8.3"
  }
 },
 "nbformat": 4,
 "nbformat_minor": 5
}
