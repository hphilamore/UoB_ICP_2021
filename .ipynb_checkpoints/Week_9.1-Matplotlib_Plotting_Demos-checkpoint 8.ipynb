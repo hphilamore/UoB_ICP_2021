{
 "cells": [
  {
   "cell_type": "markdown",
   "metadata": {
    "slideshow": {
     "slide_type": "slide"
    }
   },
   "source": [
    "# Introduction to Computer Programming\n",
    "\n",
    "## Week 9.1: Matplotlib - Plotting \n",
    "\n",
    "* * *\n",
    "\n",
    "<img src=\"img/full-colour-logo-UoB.png\" alt=\"Bristol\" style=\"width: 300px;\"/>"
   ]
  },
  {
   "cell_type": "markdown",
   "metadata": {
    "slideshow": {
     "slide_type": "slide"
    }
   },
   "source": [
    "# In-class Demos"
   ]
  },
  {
   "cell_type": "code",
   "execution_count": 5,
   "metadata": {},
   "outputs": [],
   "source": [
    "import matplotlib.pyplot as plt\n",
    "%matplotlib inline\n",
    "import numpy as np\n"
   ]
  },
  {
   "cell_type": "markdown",
   "metadata": {
    "slideshow": {
     "slide_type": "slide"
    }
   },
   "source": [
    "__Example 1:__ Use the format string to change the appearance of the plot of f against x. "
   ]
  },
  {
   "cell_type": "code",
   "execution_count": 8,
   "metadata": {},
   "outputs": [],
   "source": [
    "x = [-1, 3, 4, 8, 10]\n",
    "f = [-1, -2, 7, 13 , 1]"
   ]
  },
  {
   "cell_type": "code",
   "execution_count": 9,
   "metadata": {
    "scrolled": true,
    "slideshow": {
     "slide_type": "-"
    }
   },
   "outputs": [
    {
     "data": {
      "image/png": "[encoded data removed]",
      "text/plain": [
       "<Figure size 432x288 with 1 Axes>"
      ]
     },
     "metadata": {
      "needs_background": "light"
     },
     "output_type": "display_data"
    }
   ],
   "source": [
    "plt.plot(x, f, '--og')  \n",
    "\n",
    "#plt.plot(x, f, 'k.')\n",
    "  \n",
    "#plt.plot(x, f, 'ro') \n",
    "\n",
    "plt.plot(x, f, 'r*', markerfacecolor='blue', markersize=12) \n",
    "\n",
    "plt.show()"
   ]
  },
  {
   "cell_type": "markdown",
   "metadata": {},
   "source": [
    "__Example 2:__ \n",
    "\n",
    "Display:\n",
    "\n",
    "- the bar chart of the students in each group\n",
    "- the histogram of the frequency distribution of z\n",
    "\n",
    "as two subplots on the same figure.\n",
    "\n",
    "`subplots_adjust` can be used to adjust the spacing between plots<br>\n",
    "https://matplotlib.org/stable/api/_as_gen/matplotlib.pyplot.subplots_adjust.html"
   ]
  },
  {
   "cell_type": "code",
   "execution_count": null,
   "metadata": {},
   "outputs": [],
   "source": [
    "plt.subplot(211)                        # 2 rows, 1 column, index 1\n",
    "x_pos = np.arange(len(groups))          # array with element for each group\n",
    "plt.bar(x_pos, num_students)            # bar chart\n",
    "plt.xticks(x_pos, groups, rotation=30)  # replace labels\n",
    "plt.xlabel('group')\n",
    "plt.ylabel('n students')\n",
    "\n",
    "plt.subplot(212)                        # 2 rows, 1 column, index 2\n",
    "plt.hist(z, bins=10)                    # histogram of data and bins                \n",
    "plt.xlabel('value')\n",
    "plt.ylabel('frequency')\n",
    "\n",
    "\n",
    "plt.subplots_adjust(hspace = 0.4)      # adjust spacing   \n",
    "\n",
    "plt.show()"
   ]
  },
  {
   "cell_type": "code",
   "execution_count": null,
   "metadata": {},
   "outputs": [],
   "source": [
    "students = np.loadtxt('sample_data/sample_student_data.txt', \n",
    "                      skiprows=2,\n",
    "                      dtype=str) \n",
    "\n",
    "\n",
    "\n",
    "plt.subplot(211)\n",
    "plt.plot(students[:, 3].astype(float), students[:, 4].astype(float), 'o')\n",
    "plt.xlabel('Height (m)')\n",
    "plt.ylabel('Weight (kg)')\n",
    "\n",
    "plt.subplot(212)\n",
    "plt.hist(height, bins=10);           \n",
    "plt.xlabel('Height (m)')\n",
    "plt.ylabel('frequency')\n",
    "\n",
    "plt.subplots_adjust(hspace = 0.4) "
   ]
  },
  {
   "cell_type": "markdown",
   "metadata": {},
   "source": [
    "__Example 4:__ (Extra) Display the plots:\n",
    "\n",
    "\n",
    "\n",
    "as two subplots of the same figure"
   ]
  },
  {
   "cell_type": "code",
   "execution_count": null,
   "metadata": {},
   "outputs": [],
   "source": [
    "fig, ax = plt.subplots(nrows=2)  # 2 rows, 1 column\n",
    "#fig, ax = plt.subplots(nrows=2, sharex=True)  # 2 rows, 1 column\n",
    "#fig, ax = plt.subplots(2,1)  # 2 rows, 1 column\n",
    "\n",
    "ax[0].plot(students[:, 3].astype(float), students[:, 4].astype(float), 'o') # 1st row\n",
    "ax[0].set(ylabel=\"Weight (kg)\")\n",
    "\n",
    "\n",
    "ax[1].hist(height, bins=10)  \n",
    "ax[1].set(xlabel=\"Height (m)\",ylabel=\"Frequency\")\n",
    "\n",
    "\n",
    "plt.subplots_adjust(hspace = 0.4)   # the amount of height reserved for white space between subplots\n",
    "\n",
    "\n",
    "fig.show()"
   ]
  },
  {
   "cell_type": "markdown",
   "metadata": {},
   "source": [
    "https://matplotlib.org/3.1.1/gallery/subplots_axes_and_figures/subplots_demo.html"
   ]
  },
  {
   "cell_type": "code",
   "execution_count": null,
   "metadata": {},
   "outputs": [],
   "source": []
  },
  {
   "cell_type": "markdown",
   "metadata": {
    "slideshow": {
     "slide_type": "slide"
    }
   },
   "source": [
    "__Example 3:__ \n",
    "<br>Import height and weight data from `sample_data/sample_student_data.txt` and plot a scatter plot of the data.\n",
    "\n",
    "How can we change the colour of the markers in the plot? "
   ]
  },
  {
   "cell_type": "code",
   "execution_count": null,
   "metadata": {
    "scrolled": false,
    "slideshow": {
     "slide_type": "-"
    }
   },
   "outputs": [],
   "source": [
    "import matplotlib.pyplot as plt\n",
    "import numpy as np\n",
    "\n",
    "students = np.loadtxt('sample_data/sample_student_data.txt', \n",
    "                      skiprows=2, \n",
    "                      usecols=(3,4)) \n",
    "\n",
    "\n",
    "print(students[:2,:]) # have a look at the data "
   ]
  },
  {
   "cell_type": "code",
   "execution_count": 7,
   "metadata": {},
   "outputs": [
    {
     "ename": "NameError",
     "evalue": "name 'students' is not defined",
     "output_type": "error",
     "traceback": [
      "\u001b[0;31m---------------------------------------------------------------------------\u001b[0m",
      "\u001b[0;31mNameError\u001b[0m                                 Traceback (most recent call last)",
      "\u001b[0;32m<ipython-input-7-476875d66e93>\u001b[0m in \u001b[0;36m<module>\u001b[0;34m\u001b[0m\n\u001b[1;32m      1\u001b[0m \u001b[0;31m# Plot column 1 against column 0\u001b[0m\u001b[0;34m\u001b[0m\u001b[0;34m\u001b[0m\u001b[0;34m\u001b[0m\u001b[0m\n\u001b[0;32m----> 2\u001b[0;31m \u001b[0mplt\u001b[0m\u001b[0;34m.\u001b[0m\u001b[0mplot\u001b[0m\u001b[0;34m(\u001b[0m\u001b[0mstudents\u001b[0m\u001b[0;34m[\u001b[0m\u001b[0;34m:\u001b[0m\u001b[0;34m,\u001b[0m \u001b[0;36m0\u001b[0m\u001b[0;34m]\u001b[0m\u001b[0;34m,\u001b[0m \u001b[0mstudents\u001b[0m\u001b[0;34m[\u001b[0m\u001b[0;34m:\u001b[0m\u001b[0;34m,\u001b[0m \u001b[0;36m1\u001b[0m\u001b[0;34m]\u001b[0m\u001b[0;34m,\u001b[0m \u001b[0;34m'o'\u001b[0m\u001b[0;34m)\u001b[0m\u001b[0;34m\u001b[0m\u001b[0;34m\u001b[0m\u001b[0m\n\u001b[0m\u001b[1;32m      3\u001b[0m \u001b[0;34m\u001b[0m\u001b[0m\n\u001b[1;32m      4\u001b[0m \u001b[0;31m# change colour\u001b[0m\u001b[0;34m\u001b[0m\u001b[0;34m\u001b[0m\u001b[0;34m\u001b[0m\u001b[0m\n\u001b[1;32m      5\u001b[0m \u001b[0;31m# plt.plot(students[:, 0], students[:, 1], 'ko', markerfacecolor='red')\u001b[0m\u001b[0;34m\u001b[0m\u001b[0;34m\u001b[0m\u001b[0;34m\u001b[0m\u001b[0m\n",
      "\u001b[0;31mNameError\u001b[0m: name 'students' is not defined"
     ]
    }
   ],
   "source": [
    "# Plot column 1 against column 0\n",
    "plt.plot(students[:, 0], students[:, 1], 'o')\n",
    "\n",
    "# change colour\n",
    "# plt.plot(students[:, 0], students[:, 1], 'ko', markerfacecolor='red')\n",
    "\n",
    "# Axes labels\n",
    "plt.xlabel('Height (m)', fontsize=12)\n",
    "plt.ylabel('Weight (kg)', fontsize=12)"
   ]
  },
  {
   "cell_type": "code",
   "execution_count": null,
   "metadata": {},
   "outputs": [],
   "source": []
  },
  {
   "cell_type": "code",
   "execution_count": null,
   "metadata": {},
   "outputs": [],
   "source": []
  },
  {
   "cell_type": "code",
   "execution_count": null,
   "metadata": {},
   "outputs": [],
   "source": []
  }
 ],
 "metadata": {
  "celltoolbar": "Slideshow",
  "kernelspec": {
   "display_name": "Python 3",
   "language": "python",
   "name": "python3"
  },
  "language_info": {
   "codemirror_mode": {
    "name": "ipython",
    "version": 3
   },
   "file_extension": ".py",
   "mimetype": "text/x-python",
   "name": "python",
   "nbconvert_exporter": "python",
   "pygments_lexer": "ipython3",
   "version": "3.7.4"
  }
 },
 "nbformat": 4,
 "nbformat_minor": 5
}
