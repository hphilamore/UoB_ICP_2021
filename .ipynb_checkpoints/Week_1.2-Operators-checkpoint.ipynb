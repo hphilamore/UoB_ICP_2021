{
 "cells": [
  {
   "cell_type": "markdown",
   "id": "01aa0acc",
   "metadata": {},
   "source": [
    "# Introduction to Computer Programming\n",
    "\n",
    "## 1.2 Data Types and Operators\n",
    "\n",
    "<img src=\"img/full-colour-logo-UoB.png\" alt=\"Drawing\" style=\"width: 300px;\"/>"
   ]
  },
  {
   "cell_type": "markdown",
   "id": "f7304810",
   "metadata": {
    "slideshow": {
     "slide_type": "slide"
    }
   },
   "source": [
    "# Variables \n",
    " - We need a way to store and use values, e.g. numbers, within a program\n",
    " - We can *assign* a value to a variable."
   ]
  },
  {
   "cell_type": "code",
   "execution_count": 37,
   "id": "47ef3d03",
   "metadata": {},
   "outputs": [
    {
     "name": "stdout",
     "output_type": "stream",
     "text": [
      "1\n"
     ]
    }
   ],
   "source": [
    "A = 1 \n",
    "print(A)"
   ]
  },
  {
   "cell_type": "markdown",
   "id": "849decd1",
   "metadata": {},
   "source": [
    "# Data Types\n",
    "Every variable has a type (`int`, `float`, `string`....).\n",
    " \n",
    " __Basic Data Types__ (not exhaustive)\n",
    " \n",
    "- `int` integer\n",
    "- `float` floating point number (number with decimal point)\n",
    "- `str` string: text data enclosed within quotation marks <br>e.g. `'text'` or `\"text\"` <br>(including number represented as text data)\n",
    "- `bool` boolean: True or False"
   ]
  },
  {
   "cell_type": "markdown",
   "id": "d6b33bd7",
   "metadata": {},
   "source": [
    "A type is automatically assigned when a variable is created. \n",
    "\n",
    "Python's `type()` function can be used to determine the type of a variable.\n",
    "\n",
    "__Example:__ Create some variables and display their type"
   ]
  },
  {
   "cell_type": "code",
   "execution_count": 39,
   "id": "b9317279",
   "metadata": {},
   "outputs": [
    {
     "name": "stdout",
     "output_type": "stream",
     "text": [
      "1 <class 'int'>\n",
      "1.0 <class 'float'>\n",
      "1 <class 'str'>\n",
      "True <class 'bool'>\n"
     ]
    }
   ],
   "source": [
    "A = 1 \n",
    "print(A, type(A))\n",
    "\n",
    "B = 1.0 \n",
    "print(B, type(B))\n",
    "\n",
    "C = '1'\n",
    "print(C, type(C))\n",
    "\n",
    "D = True\n",
    "print(D, type(D))"
   ]
  },
  {
   "cell_type": "markdown",
   "id": "4007ad48",
   "metadata": {},
   "source": [
    "### Casting\n",
    "The data type of a variable can be converted by *casting* (`int(variable_name)`, `float(variable_name)`....)\n",
    "__Example:__ Convert from a floating point number to an integer"
   ]
  },
  {
   "cell_type": "code",
   "execution_count": 41,
   "id": "3cb99074",
   "metadata": {},
   "outputs": [
    {
     "name": "stdout",
     "output_type": "stream",
     "text": [
      "1 <class 'int'>\n"
     ]
    }
   ],
   "source": [
    "B = 1.0 \n",
    "E = int(B)\n",
    "print(E, type(E))"
   ]
  },
  {
   "cell_type": "markdown",
   "id": "fb49a3d5",
   "metadata": {
    "slideshow": {
     "slide_type": "slide"
    }
   },
   "source": [
    "<a id='ArithmeticOperators'></a>\n",
    "# Arithmetic Operators\n",
    "\n",
    "__Arithmetic operators__ (+, -, /, * ....) are used with numeric values to perform common mathematical operations.\n"
   ]
  },
  {
   "cell_type": "markdown",
   "id": "ba41ac68",
   "metadata": {},
   "source": [
    "__Example:__ Find the area of a circle with diameter 2 metres\n",
    "\n",
    "__Comments:__ A `#` symbol is used to add a *comment* to a line of code. \n",
    "<br>The comment is used to adda note to the program and will not be run as code. \n",
    "\n",
    "![title](img/circle_radius.png)\n",
    "\n",
    "$$A = \\pi r ^ 2$$ "
   ]
  },
  {
   "cell_type": "code",
   "execution_count": 16,
   "id": "2410de5e",
   "metadata": {},
   "outputs": [
    {
     "name": "stdout",
     "output_type": "stream",
     "text": [
      "12.568\n",
      "12.568 m2\n"
     ]
    }
   ],
   "source": [
    "pi = 3.142\n",
    "\n",
    "r = 2 # m\n",
    "\n",
    "A = pi * r ** 2\n",
    "\n",
    "print(A)\n",
    "print(str(A), 'm2')"
   ]
  },
  {
   "cell_type": "markdown",
   "id": "71370795",
   "metadata": {
    "slideshow": {
     "slide_type": "slide"
    }
   },
   "source": [
    "__Example:__ Find the volume of a cone.\n",
    "<br> Base radius 2 cm\n",
    "<br> Height 10 cm\n",
    "\n",
    "Volume of a cone: $V = \\frac{Ah}{3}$ , $A=$ base area\n",
    "<img src=\"img/cone.png\" alt=\"Drawing\" style=\"width: 200px;\"/>"
   ]
  },
  {
   "cell_type": "code",
   "execution_count": 31,
   "id": "a515c1b5",
   "metadata": {},
   "outputs": [
    {
     "name": "stdout",
     "output_type": "stream",
     "text": [
      "41.89333333333333 cm3\n",
      "41.893 cm3\n"
     ]
    }
   ],
   "source": [
    "pi = 3.142\n",
    "r = 2\n",
    "h = 10 \n",
    "\n",
    "A = pi * r ** 2\n",
    "\n",
    "V = A * h / 3\n",
    "\n",
    "print(str(V), 'cm3')\n",
    "print(str(round(V, 3)), 'cm3')"
   ]
  },
  {
   "cell_type": "markdown",
   "id": "88be1949",
   "metadata": {},
   "source": [
    "### Representing Numbers\n",
    "Arithmetic Operators can be used on numerical values. \n",
    "\n",
    "Numbers represented as strings are not recognised as numerical values. "
   ]
  },
  {
   "cell_type": "code",
   "execution_count": 43,
   "id": "e5be5de3",
   "metadata": {},
   "outputs": [
    {
     "name": "stdout",
     "output_type": "stream",
     "text": [
      "4\n",
      "22\n"
     ]
    }
   ],
   "source": [
    "A = 2\n",
    "\n",
    "B = '2'\n",
    "\n",
    "print (A + A)\n",
    "\n",
    "# print (A + B) # generates an error\n",
    "\n",
    "print (B + B) # strings are connected using +"
   ]
  },
  {
   "cell_type": "markdown",
   "id": "11ef74e6",
   "metadata": {
    "slideshow": {
     "slide_type": "slide"
    }
   },
   "source": [
    "<a id='ComparisonOperators'></a>\n",
    "# Comparison Operators\n",
    "\n",
    "__Comparison operators__ (==, !=, <, > ....) compare values and return a *Boolean* value: `True` or `False`\n",
    "\n",
    "__Commonly used comparison operators:__\n",
    "\n",
    "$==$   &nbsp; &nbsp; &nbsp; &nbsp; &nbsp;         Equality <br>\n",
    "$!=$   &nbsp; &nbsp; &nbsp; &nbsp; &nbsp;         Inequality <br>\n",
    "$>$    &nbsp; &nbsp; &nbsp; &nbsp; &nbsp; &nbsp;  Greater than <br>\n",
    "$<$    &nbsp; &nbsp; &nbsp; &nbsp; &nbsp; &nbsp;  Less than <br>\n",
    "$>=$   &nbsp; &nbsp; &nbsp; &nbsp;         Greater than or equal to <br>\n",
    "$<=$   &nbsp; &nbsp; &nbsp; &nbsp;         Less than or equal to <br>\n"
   ]
  },
  {
   "cell_type": "markdown",
   "id": "521dcde4",
   "metadata": {
    "slideshow": {
     "slide_type": "slide"
    }
   },
   "source": [
    "__Examples:__\n",
    "\n",
    "$10 < 9$   &nbsp; &nbsp;&nbsp; &nbsp;  is false\n",
    "\n",
    "$15 < 20$  &nbsp; &nbsp;                is true"
   ]
  },
  {
   "cell_type": "code",
   "execution_count": 18,
   "id": "90d28aa7",
   "metadata": {},
   "outputs": [
    {
     "name": "stdout",
     "output_type": "stream",
     "text": [
      "False\n"
     ]
    }
   ],
   "source": [
    "print(10 < 9)"
   ]
  },
  {
   "cell_type": "code",
   "execution_count": 29,
   "id": "c4dbe83d",
   "metadata": {},
   "outputs": [
    {
     "name": "stdout",
     "output_type": "stream",
     "text": [
      "True\n"
     ]
    }
   ],
   "source": [
    "print(20 <= 20)"
   ]
  },
  {
   "cell_type": "markdown",
   "id": "53f5e14b",
   "metadata": {
    "slideshow": {
     "slide_type": "slide"
    }
   },
   "source": [
    "<a id='LogicalOperators'></a>\n",
    "# Logical Operators\n",
    "\n",
    "Comparison operators compare two values.\n",
    "\n",
    "__Logical operators__ combine multiple boolean expressions and/or values and outout a single boolean `True` or `False` value. \n",
    "\n",
    "__Logical operators__:\n",
    "<br>`and`\n",
    "<br>`or`\n",
    "<br>`not`"
   ]
  },
  {
   "cell_type": "markdown",
   "id": "d7cf7659",
   "metadata": {
    "slideshow": {
     "slide_type": "slide"
    }
   },
   "source": [
    "```python\n",
    "X and Y\n",
    "```\n",
    "Evaluates to `True` if statement `X` *and* statement `Y` are both true.\n",
    "\n",
    "Otherwise evaluates to `False`. "
   ]
  },
  {
   "cell_type": "markdown",
   "id": "bd743122",
   "metadata": {
    "slideshow": {
     "slide_type": "slide"
    }
   },
   "source": [
    "```python\n",
    "X or Y\n",
    "```\n",
    "Evaluates to `True` if statement `X` *or* statement `Y` is true. \n",
    "\n",
    "Otherwise evaluates to `False`."
   ]
  },
  {
   "cell_type": "markdown",
   "id": "4482fac5",
   "metadata": {
    "slideshow": {
     "slide_type": "slide"
    }
   },
   "source": [
    "__Examples:__\n",
    "\n",
    "$10 < 9$   &nbsp; &nbsp;&nbsp; &nbsp;  is false\n",
    "\n",
    "$15 < 20$  &nbsp; &nbsp;                is true"
   ]
  },
  {
   "cell_type": "code",
   "execution_count": 20,
   "id": "377520aa",
   "metadata": {},
   "outputs": [
    {
     "name": "stdout",
     "output_type": "stream",
     "text": [
      "False\n"
     ]
    }
   ],
   "source": [
    "print(10 < 9 and 20 <= 20)"
   ]
  },
  {
   "cell_type": "code",
   "execution_count": 30,
   "id": "3d34e9b0",
   "metadata": {},
   "outputs": [
    {
     "name": "stdout",
     "output_type": "stream",
     "text": [
      "True\n"
     ]
    }
   ],
   "source": [
    "print(10 < 9 or 20 <= 20)"
   ]
  },
  {
   "cell_type": "markdown",
   "id": "638f3501",
   "metadata": {
    "slideshow": {
     "slide_type": "slide"
    }
   },
   "source": [
    "In Python, the `not` operator negates a statement, e.g.:"
   ]
  },
  {
   "cell_type": "code",
   "execution_count": 22,
   "id": "1e24817e",
   "metadata": {},
   "outputs": [
    {
     "name": "stdout",
     "output_type": "stream",
     "text": [
      "False\n",
      "True\n"
     ]
    }
   ],
   "source": [
    "a = 12\n",
    "b = 7\n",
    "print(a < b)\n",
    "print(not a < b)"
   ]
  },
  {
   "cell_type": "markdown",
   "id": "655fef62",
   "metadata": {
    "slideshow": {
     "slide_type": "slide"
    }
   },
   "source": [
    "A simple computer program that uses comparison and logical operators.\n",
    "\n",
    "__Example:__ Write a program that answers questions based on the current time of day:"
   ]
  },
  {
   "cell_type": "markdown",
   "id": "bfe1dff4",
   "metadata": {
    "slideshow": {
     "slide_type": "slide"
    }
   },
   "source": [
    ">__Is it lunchtime?__\n",
    "<br>`True` if between lunch start and end times.\n",
    "<br>`False` if not."
   ]
  },
  {
   "cell_type": "code",
   "execution_count": 33,
   "id": "8944a384",
   "metadata": {},
   "outputs": [
    {
     "name": "stdout",
     "output_type": "stream",
     "text": [
      "Is it lunchtime?\n",
      "False\n"
     ]
    }
   ],
   "source": [
    "time = 9.00          # current time\n",
    "\n",
    "lunch_starts = 13.00  # time lunch starts\n",
    "lunch_ends =   14.00  # time lunch ends\n",
    "\n",
    "lunchtime = time >= lunch_starts and time < lunch_ends\n",
    "\n",
    "print(\"Is it lunchtime?\")\n",
    "print(lunchtime)"
   ]
  },
  {
   "cell_type": "markdown",
   "id": "fc3c8159",
   "metadata": {},
   "source": [
    ">__Is it lunchtime?__\n",
    "<br>`True` if between lunch start and end times.\n",
    "<br>`False` if not.\n",
    "\n",
    ">__Is it time for work?__\n",
    "<br>`True` if between work start and end times *and* not lunchtime.\n",
    "<br>`False` if not."
   ]
  },
  {
   "cell_type": "code",
   "execution_count": 23,
   "id": "49ab64ad",
   "metadata": {
    "slideshow": {
     "slide_type": "slide"
    }
   },
   "outputs": [
    {
     "name": "stdout",
     "output_type": "stream",
     "text": [
      "Is it work time?\n",
      "Is it lunchtime?\n"
     ]
    }
   ],
   "source": [
    "# Example : Time-telling program\n",
    "\n",
    "time = 9.00          # current time\n",
    "\n",
    "work_starts = 8.00    # time work starts \n",
    "work_ends =  17.00    # time work ends\n",
    "\n",
    "lunch_starts = 13.00  # time lunch starts\n",
    "lunch_ends =   14.00  # time lunch ends\n",
    "\n",
    "# lunchtime if the time is between the start and end of lunchtime\n",
    "\n",
    "# work_time if the time is not...\n",
    "# ... before work\n",
    "# ... or after work\n",
    "# ... or lunchtime            \n",
    "                 \n",
    "\n",
    "print(\"Is it work time?\")\n",
    "\n",
    "\n",
    "print(\"Is it lunchtime?\")"
   ]
  },
  {
   "cell_type": "code",
   "execution_count": 24,
   "id": "779dc05d",
   "metadata": {
    "slideshow": {
     "slide_type": "slide"
    }
   },
   "outputs": [
    {
     "name": "stdout",
     "output_type": "stream",
     "text": [
      "Is it lunchtime?\n",
      "False\n",
      "Is it work time?\n",
      "True\n"
     ]
    }
   ],
   "source": [
    "# Example : Time-telling program\n",
    "# Example solution\n",
    "\n",
    "time = 17.00          # current time\n",
    "\n",
    "work_starts = 8.00    # time work starts \n",
    "work_ends =  17.00    # time work ends\n",
    "\n",
    "lunch_starts = 13.00  # time lunch starts\n",
    "lunch_ends =   14.00  # time lunch ends\n",
    "\n",
    "# lunchtime if the time is between the start and end of lunchtime\n",
    "lunchtime = time >= lunch_starts and time < lunch_ends\n",
    "\n",
    "# work_time if the time is not...  \n",
    "work_time = not (   time < work_starts     # ... before work\n",
    "                 or time > work_ends       # ... or after work\n",
    "                 or lunchtime)             # ... or lunchtime\n",
    "                 \n",
    "\n",
    "print(\"Is it lunchtime?\")\n",
    "print(lunchtime)\n",
    "\n",
    "print(\"Is it work time?\")\n",
    "print(work_time)\n"
   ]
  },
  {
   "cell_type": "markdown",
   "id": "37c00aee",
   "metadata": {
    "slideshow": {
     "slide_type": "slide"
    }
   },
   "source": [
    "If we change the value of `time`, the program output changes. "
   ]
  },
  {
   "cell_type": "markdown",
   "id": "858e22d4",
   "metadata": {
    "slideshow": {
     "slide_type": "slide"
    }
   },
   "source": [
    "Note that the comparison operators (`>=`, `<=`, `<` and `>`) are evaluated before the logical operators (`and`, `or`).\n",
    "<a id='OperatorPrecedence'></a>\n",
    "### Operator Precedence\n",
    "\n",
    "\n",
    "1. Parentheses\n",
    "1. Exponents \n",
    "1. Multiplication, Division, Floor Division and Modulo (left to right)\n",
    "1. Addition and Subtraction (left to right)\n",
    "1. Comparison Operators (left to right)\n",
    "1. Boolean not\n",
    "1. Boolean and\n",
    "1. Boolean or"
   ]
  },
  {
   "cell_type": "markdown",
   "id": "4af00163",
   "metadata": {
    "slideshow": {
     "slide_type": "slide"
    }
   },
   "source": [
    "<a id='StackingComparisonOperators'></a>\n",
    "###  Stacking Comparison Operators\n",
    "\n",
    "\n",
    "Extract from example program:\n",
    "\n",
    "```python\n",
    "lunchtime = time >= lunch_starts and time < lunch_ends\n",
    "\n",
    "```\n",
    "\n",
    "We can rewrite *stacking* the comparison operators: \n",
    "```python\n",
    "\n",
    "time >= lunch_starts and time < lunch_ends\n",
    "\n",
    "```\n",
    "\n",
    "is the same as\n",
    "\n",
    "```python\n",
    "\n",
    "lunch_starts <= time < lunch_ends\n",
    "\n",
    "```"
   ]
  },
  {
   "cell_type": "markdown",
   "id": "29b875c7",
   "metadata": {},
   "source": [
    "### Summary\n",
    " - __Arithmetic operators__ (+, -, /, * ....) are used with numeric values to perform common mathematical operations.\n",
    " - __Comparison operators__ (==, !=, <, > ....) compare two *variables*.\n",
    " - The outcome of a comparison is a *Boolean* (True or False) value.\n",
    " - __Logical operators__ (`and`, `or`) compare Boolean `True` or `False` values, such as the outcomes of two *comparison operations*, to form logic statements.\n",
    " - The outcome of a logical operation is a *Boolean* (True or False) value.\n",
    " - The logical `not` operator returns the inverse Boolean value of a comparison.\n",
    " "
   ]
  }
 ],
 "metadata": {
  "kernelspec": {
   "display_name": "Python 3",
   "language": "python",
   "name": "python3"
  },
  "language_info": {
   "codemirror_mode": {
    "name": "ipython",
    "version": 3
   },
   "file_extension": ".py",
   "mimetype": "text/x-python",
   "name": "python",
   "nbconvert_exporter": "python",
   "pygments_lexer": "ipython3",
   "version": "3.8.8"
  }
 },
 "nbformat": 4,
 "nbformat_minor": 5
}
