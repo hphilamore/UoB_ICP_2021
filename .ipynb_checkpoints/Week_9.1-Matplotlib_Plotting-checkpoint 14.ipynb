{
 "cells": [
  {
   "cell_type": "markdown",
   "metadata": {
    "slideshow": {
     "slide_type": "slide"
    }
   },
   "source": [
    "# Introduction to Computer Programming\n",
    "\n",
    "## Week 9.1: Matplotlib - Plotting \n",
    "\n",
    "* * *\n",
    "\n",
    "<img src=\"img/full-colour-logo-UoB.png\" alt=\"Bristol\" style=\"width: 300px;\"/>"
   ]
  },
  {
   "cell_type": "markdown",
   "metadata": {
    "slideshow": {
     "slide_type": "slide"
    }
   },
   "source": [
    "__Matplotlib__ is a large and versatile package for visualising data.\n",
    "\n",
    "It is useful for creating graphs and plots."
   ]
  },
  {
   "cell_type": "markdown",
   "metadata": {
    "slideshow": {
     "slide_type": "slide"
    }
   },
   "source": [
    "We will study a submodule of `matlplotlib` called `pyplot`.\n",
    "\n",
    "`pyplot` is often *renamed* as `plt` on import. \n",
    "\n",
    "Any functions from `pyplot` can be used by prepending with `plt`\n",
    "\n",
    "e.g. ` plt.plot()`"
   ]
  },
  {
   "cell_type": "code",
   "execution_count": 16,
   "metadata": {},
   "outputs": [],
   "source": [
    "import matplotlib.pyplot as plt"
   ]
  },
  {
   "cell_type": "markdown",
   "metadata": {
    "slideshow": {
     "slide_type": "slide"
    }
   },
   "source": [
    "To display plots created using Matplotlib in Jupyter Notebook, the following line of code must be run in the notebook *before* generating the plot:"
   ]
  },
  {
   "cell_type": "code",
   "execution_count": 17,
   "metadata": {
    "slideshow": {
     "slide_type": "-"
    }
   },
   "outputs": [],
   "source": [
    "%matplotlib inline"
   ]
  },
  {
   "cell_type": "markdown",
   "metadata": {
    "slideshow": {
     "slide_type": "-"
    }
   },
   "source": [
    "To display plots when running a .py file (e.g. in Spyder), the following line must appear in the programme *after* generating the plot:"
   ]
  },
  {
   "cell_type": "code",
   "execution_count": 18,
   "metadata": {
    "slideshow": {
     "slide_type": "-"
    }
   },
   "outputs": [],
   "source": [
    "plt.show()\n"
   ]
  },
  {
   "cell_type": "markdown",
   "metadata": {
    "slideshow": {
     "slide_type": "slide"
    }
   },
   "source": [
    "We will also use numpy today"
   ]
  },
  {
   "cell_type": "code",
   "execution_count": 19,
   "metadata": {},
   "outputs": [],
   "source": [
    "import numpy as np"
   ]
  },
  {
   "cell_type": "markdown",
   "metadata": {
    "slideshow": {
     "slide_type": "slide"
    }
   },
   "source": [
    "<a id='LineScatterPlots'></a>\n",
    "# Line and Scatter Graphs\n",
    "A sample data set: $x$ with corresponding values of $f$:"
   ]
  },
  {
   "cell_type": "code",
   "execution_count": 20,
   "metadata": {},
   "outputs": [],
   "source": [
    "x = [-1, 3, 4, 8 , 10]\n",
    "f = [-1, -2, 7, 13 , 1]\n"
   ]
  },
  {
   "cell_type": "markdown",
   "metadata": {
    "slideshow": {
     "slide_type": "slide"
    }
   },
   "source": [
    "Line plot"
   ]
  },
  {
   "cell_type": "code",
   "execution_count": 21,
   "metadata": {
    "slideshow": {
     "slide_type": "-"
    }
   },
   "outputs": [
    {
     "data": {
      "image/png": "[encoded data removed]",
      "text/plain": [
       "<Figure size 432x288 with 1 Axes>"
      ]
     },
     "metadata": {
      "needs_background": "light"
     },
     "output_type": "display_data"
    }
   ],
   "source": [
    "plt.plot(x, f)\n",
    "\n",
    "plt.show()\n"
   ]
  },
  {
   "cell_type": "markdown",
   "metadata": {
    "slideshow": {
     "slide_type": "skip"
    }
   },
   "source": [
    "Printing the statement with format `[<matplotlib.lines.Line2D at 0x30990b0>]` appears each time (the numbers on your computer may look different) can be avoided by including a semicolon after the `plot` function.\n",
    "\n",
    "    plot(x, y);"
   ]
  },
  {
   "cell_type": "markdown",
   "metadata": {
    "slideshow": {
     "slide_type": "slide"
    }
   },
   "source": [
    "__Format string:__ an *optional* way to define basic formatting\n",
    " - the colour of the plot (e.g. `r` = red, `k`= black)<br>https://matplotlib.org/2.0.2/api/colors_api.html <br>\n",
    " - the style of the markers (e.g. `o` = points, `*` = stars)<br>  https://matplotlib.org/api/markers_api.html<br>\n",
    " - the style of the line (e.g. `--` = dashes, `.` = dots) <br>https://matplotlib.org/devdocs/gallery/lines_bars_and_markers/line_styles_reference.html"
   ]
  },
  {
   "cell_type": "code",
   "execution_count": 22,
   "metadata": {
    "scrolled": true,
    "slideshow": {
     "slide_type": "-"
    }
   },
   "outputs": [
    {
     "data": {
      "image/png": "[encoded data removed]",
      "text/plain": [
       "<Figure size 432x288 with 1 Axes>"
      ]
     },
     "metadata": {
      "needs_background": "light"
     },
     "output_type": "display_data"
    }
   ],
   "source": [
    "plt.plot(x, f, 'or') # scatter, o markers, red\n",
    "\n",
    "plt.show()"
   ]
  },
  {
   "cell_type": "markdown",
   "metadata": {
    "slideshow": {
     "slide_type": "slide"
    }
   },
   "source": [
    "__Example 1:__ Use the format string to change the appearance of the plot of f against x. "
   ]
  },
  {
   "cell_type": "code",
   "execution_count": 23,
   "metadata": {
    "scrolled": true,
    "slideshow": {
     "slide_type": "-"
    }
   },
   "outputs": [
    {
     "data": {
      "image/png": "[encoded data removed]",
      "text/plain": [
       "<Figure size 432x288 with 1 Axes>"
      ]
     },
     "metadata": {
      "needs_background": "light"
     },
     "output_type": "display_data"
    }
   ],
   "source": [
    "plt.plot(x, f, '--og')  \n",
    "\n",
    "#plt.plot(x, f, 'k.')\n",
    "  \n",
    "#plt.plot(x, f, 'ro') \n",
    "\n",
    "plt.plot(x, f, 'r*', markerfacecolor='blue', markersize=12) \n",
    "\n",
    "plt.show()"
   ]
  },
  {
   "cell_type": "markdown",
   "metadata": {
    "slideshow": {
     "slide_type": "slide"
    }
   },
   "source": [
    "We can add features like axis labels and a title"
   ]
  },
  {
   "cell_type": "code",
   "execution_count": 24,
   "metadata": {
    "scrolled": false,
    "slideshow": {
     "slide_type": "-"
    }
   },
   "outputs": [
    {
     "data": {
      "image/png": "[encoded data removed]",
      "text/plain": [
       "<Figure size 432x288 with 1 Axes>"
      ]
     },
     "metadata": {
      "needs_background": "light"
     },
     "output_type": "display_data"
    }
   ],
   "source": [
    "plt.plot(x, f, 'k.') \n",
    "\n",
    "# Axis labels\n",
    "plt.xlabel('x data')\n",
    "plt.ylabel('f data')\n",
    "\n",
    "# title\n",
    "plt.title('Plot of f against x')\n",
    "\n",
    "plt.show()"
   ]
  },
  {
   "cell_type": "markdown",
   "metadata": {
    "slideshow": {
     "slide_type": "slide"
    }
   },
   "source": [
    "# Multiple lines on the same plot \n",
    "\n",
    "Names can be given to each data series using the `label` named argument when plotting with `plot` ."
   ]
  },
  {
   "cell_type": "code",
   "execution_count": 25,
   "metadata": {
    "scrolled": true,
    "slideshow": {
     "slide_type": "-"
    }
   },
   "outputs": [
    {
     "data": {
      "image/png": "[encoded data removed]",
      "text/plain": [
       "<Figure size 432x288 with 1 Axes>"
      ]
     },
     "metadata": {
      "needs_background": "light"
     },
     "output_type": "display_data"
    }
   ],
   "source": [
    "x = [-1, 3, 4, 8 , 10]\n",
    "f = [-1, -2, 7, 13 , 1]\n",
    "y = [6, 2, 4, 5, 6]\n",
    "\n",
    "plt.plot(x, f, '-r', label='f');  # argument 'label' is used in the legend \n",
    "plt.plot(x, y, '-g', label='g');\n",
    "\n",
    "plt.xlabel('x');\n",
    "\n",
    "plt.legend()                      # must be called to display figure legend\n",
    "\n",
    "plt.show()"
   ]
  },
  {
   "cell_type": "markdown",
   "metadata": {
    "slideshow": {
     "slide_type": "slide"
    }
   },
   "source": [
    "<a id='BarCharts'></a>     \n",
    "# Bar Charts\n",
    "\n",
    "Steps to create a bar chart:\n",
    "1. Create a numpy array with the same number of positions as bars\n",
    "1. Generate bar chart using `plt.bar`\n",
    "1. Replace x ticks with bar names"
   ]
  },
  {
   "cell_type": "code",
   "execution_count": 45,
   "metadata": {
    "slideshow": {
     "slide_type": "slide"
    }
   },
   "outputs": [],
   "source": [
    "#sample data\n",
    "groups = ('A', 'B', 'C', 'D', 'E')\n",
    "num_students = (500, 332, 425, 300, 200)\n"
   ]
  },
  {
   "cell_type": "code",
   "execution_count": 58,
   "metadata": {
    "slideshow": {
     "slide_type": "slide"
    }
   },
   "outputs": [
    {
     "data": {
      "image/png": "[encoded data removed]",
      "text/plain": [
       "<Figure size 432x288 with 1 Axes>"
      ]
     },
     "metadata": {
      "needs_background": "light"
     },
     "output_type": "display_data"
    }
   ],
   "source": [
    "\n",
    "# 1. Create a numpy array with the same number of positions as bars\n",
    "x_pos = np.arange(len(groups))\n",
    "\n",
    "# 2. Generate bar chart\n",
    "plt.bar(x_pos, num_students)\n",
    "\n",
    "# 3. Replace x ticks with bar names\n",
    "# (Rotate labels 30 degrees)\n",
    "plt.xticks(x_pos, groups, rotation=30)\n",
    "\n",
    "# Add axis labels \n",
    "plt.xlabel('year group')\n",
    "plt.ylabel('number of students')\n",
    "\n",
    "plt.show()\n"
   ]
  },
  {
   "cell_type": "markdown",
   "metadata": {
    "slideshow": {
     "slide_type": "slide"
    }
   },
   "source": [
    "<a id='Histograms'></a>\n",
    "# Histograms\n",
    "\n",
    "We can visualise the distribution values using a histogram.\n",
    "\n",
    "In a histogram, data is sorted into intervals (bins) along one axis.  \n",
    "\n",
    "The number of values that fall within a 'bin' is then displayed on the perpendicular axis."
   ]
  },
  {
   "cell_type": "markdown",
   "metadata": {
    "slideshow": {
     "slide_type": "slide"
    }
   },
   "source": [
    "Example data set of 25 random integers between 0 and 100,  generated using `numpy.random.randint`"
   ]
  },
  {
   "cell_type": "code",
   "execution_count": 26,
   "metadata": {},
   "outputs": [],
   "source": [
    "import numpy as np\n",
    "z = np.random.randint(low=0, high=100, size=25)"
   ]
  },
  {
   "cell_type": "markdown",
   "metadata": {
    "slideshow": {
     "slide_type": "slide"
    }
   },
   "source": [
    "We can visualise the frequency distribution of `x` by defining bins to hold different ranges of values.\n",
    "\n",
    "`np.arange()` generates a numpy array of values.\n",
    "\n",
    "In the example, the edge values of the bins are defined by the array. "
   ]
  },
  {
   "cell_type": "code",
   "execution_count": 27,
   "metadata": {},
   "outputs": [
    {
     "name": "stdout",
     "output_type": "stream",
     "text": [
      "[  0  10  20  30  40  50  60  70  80  90 100]\n"
     ]
    },
    {
     "data": {
      "image/png": "[encoded data removed]",
      "text/plain": [
       "<Figure size 432x288 with 1 Axes>"
      ]
     },
     "metadata": {
      "needs_background": "light"
     },
     "output_type": "display_data"
    }
   ],
   "source": [
    "edges = np.arange(0, 101, 10) # start, stop, step\n",
    "print(edges)\n",
    "\n",
    "plt.hist(z, bins=edges)\n",
    "\n",
    "plt.xlabel('value')\n",
    "plt.ylabel('frequency')\n",
    "\n",
    "plt.show()"
   ]
  },
  {
   "cell_type": "markdown",
   "metadata": {
    "slideshow": {
     "slide_type": "slide"
    }
   },
   "source": [
    "Bins are defined by their edge values:\n",
    "\n",
    "If argument `bins` is:\n",
    "- __an integer:__ defines the number of equal-width bins.\n",
    "\n",
    "- __a sequence:__ (`arange`) defines the bin edges.  \n",
    "\n",
    "Bins *include* left-most value, but *exclude* right-most value. \n",
    "<br>(Except right-most bin: *includes* left-most and right-most value)\n",
    "\n",
    "<br> e.g. `bins = [1,2,3,4]`\n",
    "- first bin  [1, 2)  \n",
    "- second bin [2, 3)\n",
    "- third bin [3, 4] "
   ]
  },
  {
   "cell_type": "markdown",
   "metadata": {
    "slideshow": {
     "slide_type": "slide"
    }
   },
   "source": [
    "Generating the histogram returns 3 values:\n",
    "- value of bins \n",
    "- edges of bins \n",
    "- graphical data for constructing histogram"
   ]
  },
  {
   "cell_type": "code",
   "execution_count": 30,
   "metadata": {
    "slideshow": {
     "slide_type": "-"
    }
   },
   "outputs": [
    {
     "name": "stdout",
     "output_type": "stream",
     "text": [
      "[7. 4. 1. 2. 1. 2. 1. 3. 1. 3.]\n"
     ]
    },
    {
     "data": {
      "image/png": "[encoded data removed]",
      "text/plain": [
       "<Figure size 432x288 with 1 Axes>"
      ]
     },
     "metadata": {
      "needs_background": "light"
     },
     "output_type": "display_data"
    }
   ],
   "source": [
    "n, edges, patches = plt.hist(x, bins=10);\n",
    "\n",
    "print(n) \n"
   ]
  },
  {
   "cell_type": "markdown",
   "metadata": {
    "slideshow": {
     "slide_type": "slide"
    }
   },
   "source": [
    "# Subplots\n",
    "Multiple plots can be included in the same figure using `sublplot` \n",
    "\n",
    "`subplot(nrows ncols index)`\n",
    "\n",
    "`subplots(nrows, ncols)`"
   ]
  },
  {
   "cell_type": "code",
   "execution_count": 56,
   "metadata": {},
   "outputs": [],
   "source": [
    "x = [-1, 3, 4, 8, 10]\n",
    "f = [-1, -2, 7, 13 , 1]"
   ]
  },
  {
   "cell_type": "code",
   "execution_count": 20,
   "metadata": {},
   "outputs": [
    {
     "data": {
      "text/plain": [
       "[<matplotlib.lines.Line2D at 0x1130a56d0>]"
      ]
     },
     "execution_count": 20,
     "metadata": {},
     "output_type": "execute_result"
    },
    {
     "data": {
      "image/png": "[encoded data removed]",
      "text/plain": [
       "<Figure size 432x288 with 2 Axes>"
      ]
     },
     "metadata": {
      "needs_background": "light"
     },
     "output_type": "display_data"
    }
   ],
   "source": [
    "plt.subplot(211)    # 2 rows, 1 column, index 1\n",
    "plt.plot(x, f, 'r')\n",
    "\n",
    "plt.subplot(212)    # 2 rows, 1 column, index 2\n",
    "plt.plot(x, f, 'b--')"
   ]
  },
  {
   "cell_type": "code",
   "execution_count": 21,
   "metadata": {
    "scrolled": true,
    "slideshow": {
     "slide_type": "slide"
    }
   },
   "outputs": [
    {
     "data": {
      "text/plain": [
       "[<matplotlib.lines.Line2D at 0x11323ee10>]"
      ]
     },
     "execution_count": 21,
     "metadata": {},
     "output_type": "execute_result"
    },
    {
     "data": {
      "image/png": "[encoded data removed]",
      "text/plain": [
       "<Figure size 432x288 with 4 Axes>"
      ]
     },
     "metadata": {
      "needs_background": "light"
     },
     "output_type": "display_data"
    }
   ],
   "source": [
    "plt.subplot(221)    # 2 rows, 2 columns, index 1\n",
    "plt.plot(x, f, 'r')\n",
    "\n",
    "plt.subplot(222)    # 2 rows, 2 columns, index 2\n",
    "plt.plot(x, f, 'b')\n",
    "\n",
    "plt.subplot(223)    # 2 rows, 2 columns, index 3\n",
    "plt.plot(x, f, 'r--')\n",
    "\n",
    "plt.subplot(224)    # 2 rows, 2 columns, index 4\n",
    "plt.plot(x, f, 'b--')"
   ]
  },
  {
   "cell_type": "code",
   "execution_count": null,
   "metadata": {},
   "outputs": [],
   "source": [
    "`subplots(nrows, ncols)`"
   ]
  },
  {
   "cell_type": "code",
   "execution_count": 68,
   "metadata": {
    "scrolled": false,
    "slideshow": {
     "slide_type": "-"
    }
   },
   "outputs": [
    {
     "data": {
      "text/plain": [
       "[<matplotlib.lines.Line2D at 0x7fcb704164c0>]"
      ]
     },
     "execution_count": 68,
     "metadata": {},
     "output_type": "execute_result"
    },
    {
     "data": {
      "image/png": "[encoded data removed]",
      "text/plain": [
       "<Figure size 432x288 with 4 Axes>"
      ]
     },
     "metadata": {
      "needs_background": "light"
     },
     "output_type": "display_data"
    }
   ],
   "source": [
    "fig, ax = plt.subplots(2, 2)\n",
    "\n",
    "ax[0,0].plot(x, f, 'r')\n",
    "\n",
    "ax[0,1].plot(x, f, 'b')\n",
    "\n",
    "ax[1,0].plot(x, f, 'r--')\n",
    "\n",
    "ax[1,1].plot(x, f, 'b--')"
   ]
  },
  {
   "cell_type": "markdown",
   "metadata": {},
   "source": [
    "__Example 2:__ Display:\n",
    "\n",
    "- the bar chart of the students in each group\n",
    "- the histogram of the frequency distribution of z\n",
    "\n",
    "the plots created in Example 1 and Exmaple 2 as two subplots of the same figure"
   ]
  },
  {
   "cell_type": "code",
   "execution_count": null,
   "metadata": {},
   "outputs": [],
   "source": []
  },
  {
   "cell_type": "markdown",
   "metadata": {
    "slideshow": {
     "slide_type": "slide"
    }
   },
   "source": [
    "# Saving plots\n",
    "Plots can be saved in widely used formats (.png, .pdf etc) specified using the file name extension."
   ]
  },
  {
   "cell_type": "code",
   "execution_count": 60,
   "metadata": {},
   "outputs": [
    {
     "data": {
      "text/plain": [
       "<Figure size 432x288 with 0 Axes>"
      ]
     },
     "metadata": {},
     "output_type": "display_data"
    }
   ],
   "source": [
    "plt.savefig('img/four_plots.png')\n"
   ]
  },
  {
   "cell_type": "markdown",
   "metadata": {},
   "source": [
    "Must appear *before*:\n",
    "<br>`matplotlib.pyplot.show()` \n",
    "<br>i.e. `plt.show()`"
   ]
  },
  {
   "cell_type": "markdown",
   "metadata": {
    "collapsed": true,
    "slideshow": {
     "slide_type": "slide"
    }
   },
   "source": [
    "<a id='ImportingDataDelimitedFiles'></a>\n",
    "# Importing Data with Numpy"
   ]
  },
  {
   "cell_type": "markdown",
   "metadata": {
    "slideshow": {
     "slide_type": "-"
    }
   },
   "source": [
    "`numpy.loadtxt` can be used to import data from delimited text files.\n",
    "<br>The user can specify parameters including:\n",
    "- __delimiter__ (default = whitespace) \n",
    "- __data type__ (default = float) : <br>If data contains items that cannot be expressed as a float, importing will cause an error unless the data-type is specified.<br>Mixed data types can be imported as `string` values."
   ]
  },
  {
   "cell_type": "markdown",
   "metadata": {
    "slideshow": {
     "slide_type": "slide"
    }
   },
   "source": [
    "__Example:__ Import data from `sample_data/data.dat`\n",
    "\n",
    "- __delimiter__ : whitespace \n",
    "- __data type__ : float\n",
    "\n",
    ">`0.000 1.053 2.105 3.158 4.211\n",
    "74.452 48.348 68.733 59.796 54.123`"
   ]
  },
  {
   "cell_type": "code",
   "execution_count": 5,
   "metadata": {
    "slideshow": {
     "slide_type": "-"
    }
   },
   "outputs": [
    {
     "name": "stdout",
     "output_type": "stream",
     "text": [
      "[[ 1.053  2.105  3.158  4.211  6.065]\n",
      " [48.348 68.733 59.796 54.123 74.452]]\n",
      "2.105\n"
     ]
    }
   ],
   "source": [
    "import numpy as np\n",
    "A = np.loadtxt('sample_data/sample_data.dat')\n",
    "\n",
    "print(A)       # stored as numpy array\n",
    "\n",
    "print(A[0][1]) # individual elements can be addressed "
   ]
  },
  {
   "cell_type": "markdown",
   "metadata": {
    "slideshow": {
     "slide_type": "slide"
    }
   },
   "source": [
    "Regions can be selected, for example to exclude headings and select only numerical data. \n",
    "\n",
    "`skiprows` skips the first n lines. \n",
    "\n",
    "`usecols` specifies which columns to read (numbering starts at 0) \n",
    "- `usecols = (1, 4, 5)` : extracts the 2nd, 5th and 6th columns.\n",
    "- `usecols = (3, 4)` : extracts the 4th and 5th columns "
   ]
  },
  {
   "cell_type": "code",
   "execution_count": 31,
   "metadata": {
    "slideshow": {
     "slide_type": "-"
    }
   },
   "outputs": [
    {
     "name": "stdout",
     "output_type": "stream",
     "text": [
      "[59.796 54.123 74.452]\n"
     ]
    }
   ],
   "source": [
    "import numpy as np\n",
    "A = np.loadtxt('sample_data/sample_data.dat', \n",
    "                skiprows=1, \n",
    "                usecols=(2,3,4))\n",
    "\n",
    "print(A)       # stored as numpy array"
   ]
  },
  {
   "cell_type": "markdown",
   "metadata": {
    "slideshow": {
     "slide_type": "slide"
    }
   },
   "source": [
    "__Example 3:__ \n",
    "<br>Import height and weight data from `sample_data/sample_student_data.txt` and plot a scatter plot of the data.\n",
    "\n",
    "How can we change the colour of the markers in the plot? "
   ]
  },
  {
   "cell_type": "code",
   "execution_count": 18,
   "metadata": {
    "scrolled": false,
    "slideshow": {
     "slide_type": "-"
    }
   },
   "outputs": [
    {
     "name": "stdout",
     "output_type": "stream",
     "text": [
      "[[ 1.82 92.4 ]\n",
      " [ 1.77 80.9 ]]\n"
     ]
    }
   ],
   "source": [
    "import matplotlib.pyplot as plt\n",
    "import numpy as np\n",
    "\n",
    "students = np.loadtxt('sample_data/sample_student_data.txt', \n",
    "                      skiprows=2, \n",
    "                      usecols=(3,4)) \n",
    "\n",
    "\n",
    "print(students[:2,:]) # have a look at the data "
   ]
  },
  {
   "cell_type": "code",
   "execution_count": null,
   "metadata": {},
   "outputs": [],
   "source": [
    "# Plot column 1 against column 0\n",
    "plt.plot(students[:, 0], students[:, 1], 'o')\n",
    "\n",
    "# change colour\n",
    "# plt.plot(students[:, 0], students[:, 1], 'ko', markerfacecolor='red')\n",
    "\n",
    "# Axes labels\n",
    "plt.xlabel('Height (m)')\n",
    "plt.ylabel('Weight (kg)')"
   ]
  },
  {
   "cell_type": "markdown",
   "metadata": {
    "slideshow": {
     "slide_type": "slide"
    }
   },
   "source": [
    "# Summary  \n",
    "\n",
    "- Simple line and scatter plots can be customised using a `formatstring`\n",
    "- Features such as a figure legend and axis labels can be added after generating the plot. \n",
    "- Steps to generate a bar chart:\n",
    "    1. Create a numpy array with the same number of positions as bars\n",
    "    1. Generate bar chart\n",
    "    1. Replace x ticks with bar name\n",
    "- Plots can be saved with `matplotlib.pyplot.savefig`\n"
   ]
  },
  {
   "cell_type": "markdown",
   "metadata": {
    "slideshow": {
     "slide_type": "slide"
    }
   },
   "source": [
    "# Further reading\n",
    "- Matplotilib has built-in tools for many more types of plot (scatter, box and whisker, 3D surface, animation etc)\n",
    "- Matplotlib Gallery (http://matplotlib.org/gallery.html)\n",
    "- Github (http://gree2.github.io/python/2015/04/10/python-matplotlib-plotting-examples-and-exercises)\n",
    " \n",
    " "
   ]
  }
 ],
 "metadata": {
  "celltoolbar": "Slideshow",
  "kernelspec": {
   "display_name": "Python 3",
   "language": "python",
   "name": "python3"
  },
  "language_info": {
   "codemirror_mode": {
    "name": "ipython",
    "version": 3
   },
   "file_extension": ".py",
   "mimetype": "text/x-python",
   "name": "python",
   "nbconvert_exporter": "python",
   "pygments_lexer": "ipython3",
   "version": "3.7.4"
  }
 },
 "nbformat": 4,
 "nbformat_minor": 5
}
