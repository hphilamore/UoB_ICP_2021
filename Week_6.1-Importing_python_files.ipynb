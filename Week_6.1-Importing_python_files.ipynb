{
 "cells": [
  {
   "cell_type": "markdown",
   "id": "6b8fc1cc",
   "metadata": {},
   "source": [
    "# Introduction to Computer Programming\n",
    "\n",
    "## Week 6.1: Importing Python files \n",
    "\n",
    "* * *\n",
    "\n",
    "<img src=\"img/full-colour-logo-UoB.png\" alt=\"Bristol\" style=\"width: 300px;\"/>"
   ]
  },
  {
   "cell_type": "markdown",
   "id": "829ef0fd",
   "metadata": {},
   "source": [
    "__Modularity:__ Breaking large chunks of code into smaller, more manageable pieces. \n",
    "\n",
    "Useful blocks of code (e.g. variables, functions, classes) can be stored in a python file (a __module__)\n",
    "\n",
    "The module is then `import`ed for use in a program saved elsewhere on your computer. "
   ]
  },
  {
   "cell_type": "markdown",
   "id": "c225752c",
   "metadata": {},
   "source": [
    "__Example__ The Python module, `math`installs with Python<br>\n",
    "https://docs.python.org/3/library/math.html"
   ]
  },
  {
   "cell_type": "code",
   "execution_count": 1,
   "id": "5a8686f6",
   "metadata": {},
   "outputs": [
    {
     "name": "stdout",
     "output_type": "stream",
     "text": [
      "3.141592653589793\n"
     ]
    }
   ],
   "source": [
    "import math\n",
    "\n",
    "print(math.pi)"
   ]
  },
  {
   "cell_type": "markdown",
   "id": "5a922085",
   "metadata": {},
   "source": [
    "__Module:__ A python file containing python code (variables, functions, classes etc).\n",
    "\n",
    "__Package:__ A file directory (folder) containing python files (and other directories).\n",
    "\n",
    "__Script:__ A top level file, run as an program (importing would run the program).\n",
    "\n",
    "`__init__.py`__:__ Required to make Python treat a directory as a package. <br>Can be empty or execute initialization code for a package."
   ]
  },
  {
   "cell_type": "markdown",
   "id": "5b97c658",
   "metadata": {},
   "source": [
    "__Example:__ Three files in the same directory, `fruit`\n",
    "\n",
    "```python\n",
    "fruit/\n",
    "│\n",
    "├── __init__.py\n",
    "├── banana.py\n",
    "├── strawberry.py\n",
    "└── main.py\n",
    "```"
   ]
  },
  {
   "cell_type": "markdown",
   "id": "0f77c0ac",
   "metadata": {},
   "source": [
    "    # __init__.py\n",
    "    # (empty file)\n",
    "\n",
    "    # banana.py\n",
    "    word = 'banana'\n",
    "\n",
    "    # strawberry.py\n",
    "    word = 'strawberry'\n",
    "\n",
    "    # main.py\n",
    "    import banana\n",
    "    import strawberry\n",
    "    print(banana.word)\n",
    "    print(strawberry.word)"
   ]
  },
  {
   "cell_type": "markdown",
   "id": "0efd6e10",
   "metadata": {},
   "source": [
    "When we run `main.py` the contents of `banana.py` and `strawberry.py` are imported and can be used within the `main.py` program. "
   ]
  },
  {
   "cell_type": "markdown",
   "id": "4849d315",
   "metadata": {
    "collapsed": true,
    "slideshow": {
     "slide_type": "slide"
    }
   },
   "source": [
    "<a id='Namespaces'></a>\n",
    "# Namespaces \n",
    "\n",
    "We prepend `word` with the __namespace__,  `strawberry` when we want to print `'strawberry'`.\n",
    "\n",
    "We prepend `word` with the __namespace__,  `banana` when we want to print `'banana'`.\n",
    "\n",
    "The namespace indicates which package to import the variable/function etc from."
   ]
  },
  {
   "cell_type": "markdown",
   "id": "f7acdaf2",
   "metadata": {
    "slideshow": {
     "slide_type": "slide"
    }
   },
   "source": [
    "<a id='LocalNamespace'></a>\n",
    "\n",
    "### The Local Namespace\n",
    "Each Python file has a local namespace.\n",
    "\n",
    "This is a “symbol table” that contains the names of all functions and variables that you don't have to prepend with a namespace.\n",
    "\n",
    "When you import a package/module, the part after `import` gets added to the local namespace"
   ]
  },
  {
   "cell_type": "markdown",
   "id": "016b8b9c",
   "metadata": {
    "slideshow": {
     "slide_type": "slide"
    }
   },
   "source": [
    "### Changing the module name in the local namespace\n",
    "\n",
    "In main.py, you can change the lines:\n",
    "\n",
    "    import strawberry\n",
    "    print(strawberry.word)\n",
    "\n",
    "to \n",
    "\n",
    "    import strawberry as s\n",
    "    print(s.word)"
   ]
  },
  {
   "cell_type": "markdown",
   "id": "ef23acfd",
   "metadata": {
    "slideshow": {
     "slide_type": "slide"
    }
   },
   "source": [
    "### Importing *individual items* from a module (by adding to the local namespace)\n",
    "\n",
    "In main.py, you can change the lines:\n",
    "    \n",
    "    import strawberry\n",
    "    print(strawberry.word)\n",
    "\n",
    "to \n",
    "\n",
    "    from strawberry import word\n",
    "    print(word)\n",
    "\n",
    "        "
   ]
  },
  {
   "cell_type": "markdown",
   "id": "bf1052c2",
   "metadata": {},
   "source": [
    "### Importing *individual items* from a module - A word of warning! \n",
    "\n",
    "A name can only have one associated value in a program. \n",
    "\n",
    "__Example:__ Importing two variables with the same name\n",
    "\n",
    "    from strawberry import word\n",
    "    from banana import word\n",
    "    \n",
    "\n",
    "__Question:__ What will be the output of `print(word)`? "
   ]
  },
  {
   "cell_type": "markdown",
   "id": "2745825b",
   "metadata": {},
   "source": [
    "Namespaces can be helpful - items (variables, functions) with the same name but from different modules can be used. "
   ]
  },
  {
   "cell_type": "markdown",
   "id": "b0d0035a",
   "metadata": {
    "slideshow": {
     "slide_type": "slide"
    }
   },
   "source": [
    "### Importing *all contents* of a module \n",
    "\n",
    "        from strawberry import *\n",
    "        print(word)"
   ]
  },
  {
   "cell_type": "markdown",
   "id": "f9b0f483",
   "metadata": {
    "slideshow": {
     "slide_type": "slide"
    }
   },
   "source": [
    "### Importing *all contents* of a module  - A word of warning! \n",
    "\n",
    "It is inadvisable to use `from ... import *` where you do not know the full content of a module <br> (e.g. a large module or a module written by a developer downloaded from the internet).\n",
    "\n",
    "You may overshadow useful parts of your program such as built-in Python functions (`print`, `type` etc). \n",
    "\n",
    "It may be appropraite to use * with a small, specific, user-defined module. "
   ]
  },
  {
   "cell_type": "markdown",
   "id": "1a50db07",
   "metadata": {},
   "source": [
    "# Importing a file from a different directory\n",
    "## Downstream file location"
   ]
  },
  {
   "cell_type": "markdown",
   "id": "4f4a014e",
   "metadata": {},
   "source": [
    "__Example:__ Importing from a downstream sub-directory (a __package__)\n",
    "\n",
    "```python\n",
    "    example_w6a/\n",
    "    │\n",
    "    ├── main.py\n",
    "    └── fruit/\n",
    "        ├── __init__.py\n",
    "        ├── banana.py\n",
    "        └── strawberry.py\n",
    "```"
   ]
  },
  {
   "cell_type": "markdown",
   "id": "bd2936e3",
   "metadata": {},
   "source": [
    "`.` is used to indicate a sub-directory downstream of the current location:\n",
    "<br>- `import subfolder.file`\n",
    "<br>-`import folder.subfolder.file`\n",
    "\n",
    "\n",
    "\n",
    "Everything after `import` is stored in the local namespace and must be used to prepend any variables, functions etc from the imported module. "
   ]
  },
  {
   "cell_type": "markdown",
   "id": "b29419da",
   "metadata": {},
   "source": [
    "    # main.py\n",
    "    import fruit.strawberry       # OR from fruit import strawberry\n",
    "    print(fruit.strawberry.word)\n",
    "\n",
    "    # fruit/__init__.py\n",
    "    # (empty file)\n",
    "\n",
    "    # fruit/banana.py\n",
    "    word = 'banana'\n",
    "\n",
    "    # fruit/strawberry.py\n",
    "    word = 'strawberry'"
   ]
  },
  {
   "cell_type": "markdown",
   "id": "e349493d",
   "metadata": {},
   "source": [
    "The longer namespace when packages are imported can make code long and difficult to read.\n",
    "\n",
    "__Example__ Renaming `fruit.strawberry` --> `strawb` to make code shorter and neater "
   ]
  },
  {
   "cell_type": "markdown",
   "id": "305f354e",
   "metadata": {},
   "source": [
    "    # main.py\n",
    "    import fruit.strawberry as strawb # OR from fruit import strawberry as strawb\n",
    "    print(strawb.word)\n",
    "\n",
    "    # fruit/__init__.py\n",
    "    # (empty file)\n",
    "\n",
    "    # fruit/banana.py\n",
    "    word = 'banana'\n",
    "\n",
    "    # fruit/strawberry.py\n",
    "    word = 'strawberry'"
   ]
  },
  {
   "cell_type": "markdown",
   "id": "ccbcb0c8",
   "metadata": {},
   "source": [
    "`__init__.py` can be used to run initialisation code such as importing individual modules from within a package\n",
    "\n",
    "This can be more efficient than individually importing multiple submodules.\n",
    "\n",
    "`from . import banana` means *from current directory (indicated by the `.`), import banana*\n",
    "\n",
    "`fruit/__init__.py` is run when fruit is imported.  "
   ]
  },
  {
   "cell_type": "markdown",
   "id": "d0169698",
   "metadata": {},
   "source": [
    "    # main.py\n",
    "    import fruit                 # banana module in __init__.py so automatically imported\n",
    "    import fruit.strawberry      # strawberry module needs to be imported using full path \n",
    "    print(fruit.banana.word) \n",
    "    print(fruit.strawberry.word) \n",
    "\n",
    "    # fruit/__init__.py\n",
    "    from . import banana\n",
    "\n",
    "    # fruit/banana.py\n",
    "    word = 'banana'\n",
    "\n",
    "    # fruit/strawberry.py\n",
    "    word = 'strawberry'"
   ]
  },
  {
   "cell_type": "markdown",
   "id": "e43df64b",
   "metadata": {},
   "source": [
    "## Upstream file location\n",
    "__Example:__ Importing from an upstream directory\n",
    "\n",
    "If a file is located upstream of a script being run, it cannot automatically be found by the Python interpreter. \n",
    "\n",
    "PICTURE\n",
    "\n",
    "```python\n",
    "\n",
    "example_w6b/\n",
    "│\n",
    "├── scripts/\n",
    "│   └── my_script.py\n",
    "│\n",
    "├── fruit/\n",
    "│   ├── __init__.py\n",
    "│   └── strawberry.py\n",
    "│\n",
    "├── functions.py \n",
    "└── __init__.py\n",
    "\n",
    "```"
   ]
  },
  {
   "cell_type": "markdown",
   "id": "9d0ddae6",
   "metadata": {},
   "source": [
    "This is because Python only looks for modules and packages in its __import path__. \n",
    "\n",
    "This is a list of locations: \n",
    "- current directory\n",
    "- contents of `PYTHONPATH` variable (a list of user defined directories)\n",
    "- standard directories automatically set when python installs"
   ]
  },
  {
   "cell_type": "markdown",
   "id": "a07c2d7a",
   "metadata": {},
   "source": [
    "To view the path we can use the `sys` module which installs with Python:"
   ]
  },
  {
   "cell_type": "code",
   "execution_count": 1,
   "id": "359076dd",
   "metadata": {},
   "outputs": [
    {
     "name": "stdout",
     "output_type": "stream",
     "text": [
      "['C:\\\\Users\\\\hemma\\\\iCloudDrive\\\\Documents\\\\Code\\\\Jupyter_NBooks\\\\Teaching\\\\UoB\\\\UoB_ICP_2021', 'C:\\\\Users\\\\hemma\\\\anaconda3\\\\python38.zip', 'C:\\\\Users\\\\hemma\\\\anaconda3\\\\DLLs', 'C:\\\\Users\\\\hemma\\\\anaconda3\\\\lib', 'C:\\\\Users\\\\hemma\\\\anaconda3', '', 'C:\\\\Users\\\\hemma\\\\anaconda3\\\\lib\\\\site-packages', 'C:\\\\Users\\\\hemma\\\\anaconda3\\\\lib\\\\site-packages\\\\locket-0.2.1-py3.8.egg', 'C:\\\\Users\\\\hemma\\\\anaconda3\\\\lib\\\\site-packages\\\\win32', 'C:\\\\Users\\\\hemma\\\\anaconda3\\\\lib\\\\site-packages\\\\win32\\\\lib', 'C:\\\\Users\\\\hemma\\\\anaconda3\\\\lib\\\\site-packages\\\\Pythonwin', 'C:\\\\Users\\\\hemma\\\\anaconda3\\\\lib\\\\site-packages\\\\IPython\\\\extensions', 'C:\\\\Users\\\\hemma\\\\.ipython']\n"
     ]
    }
   ],
   "source": [
    "import sys\n",
    "print(sys.path)"
   ]
  },
  {
   "cell_type": "markdown",
   "id": "ab6cc167",
   "metadata": {},
   "source": [
    "To add a *location* to the path from wihtin a python program we can use `sys`.\n",
    "\n",
    "`../` is used to indicate a location one directory upstream of the current location.\n",
    "\n",
    "```python\n",
    "\n",
    "example_w6b/\n",
    "│\n",
    "├── scripts/\n",
    "│   └── my_script.py\n",
    "│\n",
    "├── fruit/\n",
    "│   ├── __init__.py\n",
    "│   └── strawberry.py\n",
    "│\n",
    "├── functions.py \n",
    "└── __init__.py\n",
    "\n",
    "```\n",
    "\n",
    "__Example:__ In `my_script.py`:\n",
    "```python\n",
    "import sys\n",
    "sys.path.append('../') # appends the python path with the directory one level up\n",
    "sys.path.append('../fruit') # appends the python path with a different directory at th same level\n",
    "import functions\n",
    "import strawberry\n",
    "```"
   ]
  },
  {
   "cell_type": "markdown",
   "id": "060a9ff4",
   "metadata": {},
   "source": [
    "A directory can be removed in a similar way:\n",
    "    \n",
    "```python\n",
    "sys.path.remove('../')\n",
    "```\n"
   ]
  },
  {
   "cell_type": "markdown",
   "id": "fa507a44",
   "metadata": {},
   "source": [
    "## Examples - making your own library "
   ]
  },
  {
   "cell_type": "markdown",
   "id": "5ef2cef6",
   "metadata": {},
   "source": [
    "Add illustrations of a file system "
   ]
  },
  {
   "cell_type": "code",
   "execution_count": null,
   "id": "5f25d5fa",
   "metadata": {},
   "outputs": [],
   "source": []
  },
  {
   "cell_type": "code",
   "execution_count": null,
   "id": "efba6999",
   "metadata": {},
   "outputs": [],
   "source": []
  },
  {
   "cell_type": "code",
   "execution_count": null,
   "id": "f908a201",
   "metadata": {},
   "outputs": [],
   "source": [
    "fruit_and_veg/\n",
    "│\n",
    "├── fruit/\n",
    "│   ├── __init__.py\n",
    "│   └── banana.py\n",
    "│\n",
    "├── vegetables/\n",
    "│   ├── __init__.py\n",
    "│   ├── broccoli.py\n",
    "│   ├── carrot.py\n",
    "│   └── spinach.py\n",
    "│\n",
    "└── __init__.py"
   ]
  },
  {
   "cell_type": "code",
   "execution_count": null,
   "id": "f6cdf8de",
   "metadata": {},
   "outputs": [],
   "source": []
  },
  {
   "cell_type": "code",
   "execution_count": null,
   "id": "011007a4",
   "metadata": {},
   "outputs": [],
   "source": []
  },
  {
   "cell_type": "code",
   "execution_count": null,
   "id": "92d08323",
   "metadata": {},
   "outputs": [],
   "source": []
  },
  {
   "cell_type": "code",
   "execution_count": null,
   "id": "8fc01886",
   "metadata": {},
   "outputs": [],
   "source": [
    "## Absolute imports  # adding file to python path # installing with pip "
   ]
  },
  {
   "cell_type": "code",
   "execution_count": null,
   "id": "d9449511",
   "metadata": {},
   "outputs": [],
   "source": []
  },
  {
   "cell_type": "markdown",
   "id": "14f9da36",
   "metadata": {},
   "source": [
    "https://realpython.com/python-import/"
   ]
  },
  {
   "cell_type": "markdown",
   "id": "76583be8",
   "metadata": {},
   "source": [
    "https://stackabuse.com/python-modules-creating-importing-and-sharing/"
   ]
  },
  {
   "cell_type": "markdown",
   "id": "b1e72d43",
   "metadata": {},
   "source": [
    "Summary\n",
    "\n",
    "Tip: In your own code, you should consciously separate scripts and libraries. Here’s a good rule of thumb:\n",
    "\n",
    "A script is meant to be run.\n",
    "A library is meant to be imported.\n",
    "You might have code that you want to both run on its own and import from other scripts. In that case, it’s usually worthwhile to refactor your code so that you split the common part into a library module."
   ]
  },
  {
   "cell_type": "code",
   "execution_count": null,
   "id": "f7599adb",
   "metadata": {},
   "outputs": [],
   "source": []
  }
 ],
 "metadata": {
  "kernelspec": {
   "display_name": "Python 3",
   "language": "python",
   "name": "python3"
  },
  "language_info": {
   "codemirror_mode": {
    "name": "ipython",
    "version": 3
   },
   "file_extension": ".py",
   "mimetype": "text/x-python",
   "name": "python",
   "nbconvert_exporter": "python",
   "pygments_lexer": "ipython3",
   "version": "3.8.8"
  }
 },
 "nbformat": 4,
 "nbformat_minor": 5
}
