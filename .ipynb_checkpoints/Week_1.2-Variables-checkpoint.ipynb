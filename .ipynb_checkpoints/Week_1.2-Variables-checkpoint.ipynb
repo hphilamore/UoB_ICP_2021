{
 "cells": [
  {
   "cell_type": "markdown",
   "id": "bed3e43c",
   "metadata": {
    "slideshow": {
     "slide_type": "slide"
    }
   },
   "source": [
    "# Introduction to Computer Programming\n",
    "\n",
    "## 1.2 Variables\n",
    "\n",
    "<img src=\"img/full-colour-logo-UoB.png\" alt=\"Drawing\" style=\"width: 300px;\"/>"
   ]
  },
  {
   "cell_type": "markdown",
   "id": "a72e29de",
   "metadata": {
    "slideshow": {
     "slide_type": "slide"
    }
   },
   "source": [
    "# Variables \n",
    " - We need a way to store and use values, e.g. numbers, within a program\n",
    " - We can *assign* a value to a variable.\n",
    " - The `print` function displays whatever is between the parentheses `(...)`"
   ]
  },
  {
   "cell_type": "code",
   "execution_count": 2,
   "id": "dac04d79",
   "metadata": {},
   "outputs": [
    {
     "name": "stdout",
     "output_type": "stream",
     "text": [
      "5\n"
     ]
    }
   ],
   "source": [
    "B = 5\n",
    "\n",
    "print(B)\n"
   ]
  },
  {
   "cell_type": "markdown",
   "id": "0cefa719",
   "metadata": {
    "slideshow": {
     "slide_type": "slide"
    }
   },
   "source": [
    "Variables can be created on separate or single lines "
   ]
  },
  {
   "cell_type": "code",
   "execution_count": 4,
   "id": "dbfd1d98",
   "metadata": {},
   "outputs": [],
   "source": [
    "A = 1.0\n",
    "\n",
    "B = 4.0\n"
   ]
  },
  {
   "cell_type": "code",
   "execution_count": 4,
   "id": "393a7780",
   "metadata": {},
   "outputs": [
    {
     "name": "stdout",
     "output_type": "stream",
     "text": [
      "1.0 4.0\n"
     ]
    }
   ],
   "source": [
    "A, B = 1.0, 4.0\n",
    "print(A, B)\n"
   ]
  },
  {
   "cell_type": "markdown",
   "id": "95cb7cd5",
   "metadata": {
    "slideshow": {
     "slide_type": "slide"
    }
   },
   "source": [
    "# Data Types\n",
    "Every variable has a type (`int`, `float`, `string`....).\n",
    " \n",
    " __Basic Data Types__ (not exhaustive)\n",
    " \n",
    "- `int` integer\n",
    "- `float` floating point number (number with decimal point)\n",
    "- `str` string: text data enclosed within quotation marks <br>e.g. `'text'` or `\"text\"` <br>(including number represented as text data)\n",
    "- `bool` boolean: True or False"
   ]
  },
  {
   "cell_type": "markdown",
   "id": "f9c118dd",
   "metadata": {
    "slideshow": {
     "slide_type": "slide"
    }
   },
   "source": [
    "A type is automatically assigned when a variable is created. \n",
    "\n",
    "Python's `type()` function returns the type of a variable within the parentheses `(...)`.\n",
    "\n",
    "__Example:__ Create some variables and display their type"
   ]
  },
  {
   "cell_type": "code",
   "execution_count": 6,
   "id": "e1fa167f",
   "metadata": {},
   "outputs": [
    {
     "name": "stdout",
     "output_type": "stream",
     "text": [
      "1 <class 'int'>\n",
      "1.0 <class 'float'>\n"
     ]
    }
   ],
   "source": [
    "A = 1 \n",
    "print(A, type(A))\n",
    "\n",
    "B = 1.0\n",
    "print(B, type(B))\n",
    "\n",
    "C = '1'\n",
    "print(C, type(C))\n",
    "\n",
    "D = True\n",
    "print(D, type(D))\n"
   ]
  },
  {
   "cell_type": "markdown",
   "id": "8b680874",
   "metadata": {
    "slideshow": {
     "slide_type": "slide"
    }
   },
   "source": [
    "__Comments:__  \n",
    "Comments are notes in the program that are not run as code.\n",
    "<br>The hash `#` symbol is used to:\n",
    "- add a comment to a line of code to make a note about what it does.\n",
    "- *comment* a line of code out to prevent it from running.\n",
    "\n",
    "To comment a whole line, select the line and press `ctrl` + `1` in Spyder."
   ]
  },
  {
   "cell_type": "markdown",
   "id": "2cd0eab3",
   "metadata": {
    "slideshow": {
     "slide_type": "slide"
    }
   },
   "source": [
    "### Casting\n",
    "The data type of a variable can be converted by *casting* (`int(variable_name)`, `float(variable_name)`....)\n",
    "\n",
    "__Example:__ Convert from a floating point number to an integer"
   ]
  },
  {
   "cell_type": "code",
   "execution_count": 21,
   "id": "21a733d0",
   "metadata": {},
   "outputs": [
    {
     "name": "stdout",
     "output_type": "stream",
     "text": [
      "<class 'int'>\n"
     ]
    }
   ],
   "source": [
    "B = 1.0 \n",
    "\n",
    "E = int(B)\n",
    "\n",
    "print(type(E))\n"
   ]
  },
  {
   "cell_type": "markdown",
   "id": "bac021eb",
   "metadata": {
    "slideshow": {
     "slide_type": "slide"
    }
   },
   "source": [
    "<a id='ArithmeticOperators'></a>\n",
    "# Arithmetic Operators\n",
    "\n",
    "Python can be used like a calculator.\n",
    "\n",
    "__Arithmetic operators__ (+, -, /, * ....) are used with numeric values to perform common mathematical operations.\n",
    "\n",
    "Operators are listed in order of operator precedence\n",
    "\n",
    "\n",
    "$**$   &nbsp; &nbsp; &nbsp; &nbsp;                Exponent <br>\n",
    "$*$    &nbsp; &nbsp; &nbsp; &nbsp; &nbsp;         Multiplication <br>\n",
    "$/$    &nbsp; &nbsp; &nbsp; &nbsp; &nbsp; &nbsp;  Division <br>\n",
    "$//$   &nbsp; &nbsp; &nbsp; &nbsp; &nbsp;         Floor division (round down to the next integer)<br>\n",
    "$\\%$   &nbsp; &nbsp; &nbsp; &nbsp; &nbsp;         Modulo `a % b = a - b * (a // b)` (remainder)<br>\n",
    "$+$    &nbsp; &nbsp; &nbsp; &nbsp; &nbsp;         Addition <br>\n",
    "$-$    &nbsp; &nbsp; &nbsp; &nbsp; &nbsp;         Subtraction <br>\n"
   ]
  },
  {
   "cell_type": "markdown",
   "id": "e9539f12",
   "metadata": {
    "slideshow": {
     "slide_type": "slide"
    }
   },
   "source": [
    "__Example:__ Find the area of a circle with radius 2 metres\n",
    "\n",
    "![title](img/circle_radius.png)\n",
    "\n",
    "$$A = \\pi r ^ 2$$ "
   ]
  },
  {
   "cell_type": "code",
   "execution_count": 10,
   "id": "a6bcca29",
   "metadata": {},
   "outputs": [
    {
     "name": "stdout",
     "output_type": "stream",
     "text": [
      "12.568 m2\n"
     ]
    }
   ],
   "source": [
    "pi = 3.142\n",
    "\n",
    "r = 2 \n",
    "\n",
    "A = pi * r ** 2 \n",
    "\n",
    "print(A, 'm2')\n"
   ]
  },
  {
   "cell_type": "markdown",
   "id": "388f98f3",
   "metadata": {
    "slideshow": {
     "slide_type": "slide"
    }
   },
   "source": [
    "### Arithmetic operators - a word of warning!\n",
    "\n",
    "**Question**: What will the output of the following code be?\n",
    "***\n",
    "```python\n",
    "A = 2\n",
    "B = '2'\n",
    "\n",
    "print(A + A)\n",
    "\n",
    "print(A + B)\n",
    "\n",
    "print(B + B) \n",
    "```\n",
    "***"
   ]
  },
  {
   "cell_type": "markdown",
   "id": "ba70c435",
   "metadata": {
    "slideshow": {
     "slide_type": "slide"
    }
   },
   "source": [
    "\n",
    "***\n",
    "```python\n",
    "A = 2\n",
    "B = '2'\n",
    "```\n",
    "***\n",
    "**Answer**: Numbers represented as strings are not recognised as numerical values. \n",
    "<br>Arithmetic Operators behave differently on numerical and non-numerical values.\n",
    "\n",
    "<br>`print(A + A)` \n",
    "> 4\n",
    "\n",
    "<br>`print(A + B)` \n",
    "> Error. <br>Cannot add numerical and non-numerical value\n",
    "\n",
    "<br>`print(B + B)` \n",
    "> 22 <br> Adding string (text) data connect the two strings"
   ]
  },
  {
   "cell_type": "code",
   "execution_count": 12,
   "id": "792b4eea",
   "metadata": {
    "slideshow": {
     "slide_type": "slide"
    }
   },
   "outputs": [
    {
     "name": "stdout",
     "output_type": "stream",
     "text": [
      "4\n",
      "22\n"
     ]
    }
   ],
   "source": [
    "A = 2\n",
    "\n",
    "B = '2'\n",
    "\n",
    "print (A + A)\n",
    "\n",
    "# print (A + B) # generates an error\n",
    "\n",
    "print (B + B) # strings are connected using +\n"
   ]
  },
  {
   "cell_type": "markdown",
   "id": "f0bf12fb",
   "metadata": {
    "slideshow": {
     "slide_type": "slide"
    }
   },
   "source": [
    "# Strings \n",
    "Strings behave differently to numerical data. \n",
    "\n",
    "We can return the Nth character(s) of a string with `string[N]`\n",
    "\n",
    "Characters are *indexed* with integer values, starting from 0"
   ]
  },
  {
   "cell_type": "code",
   "execution_count": 19,
   "id": "5b332ee2",
   "metadata": {},
   "outputs": [
    {
     "name": "stdout",
     "output_type": "stream",
     "text": [
      "H\n"
     ]
    }
   ],
   "source": [
    "x = 'Hello'\n",
    "\n",
    "print(x[0])   # first letter\n",
    "\n",
    "# print(x[4])   # last letter\n",
    "# print(x[-1])\n",
    "\n",
    "# print(x[0:3]) # first 3 letters (excludes 'stop value')\n",
    "# print(x[:3])\n",
    "\n",
    "# print(x[2:5])  # last three letters\n",
    "# print(x[2:])\n",
    "# print(x[-3:])\n",
    "\n"
   ]
  },
  {
   "cell_type": "markdown",
   "id": "c7546b2b",
   "metadata": {
    "slideshow": {
     "slide_type": "slide"
    }
   },
   "source": [
    "Notice the use of the `#` symbol to *comment* parts of the code \n",
    "\n",
    "(i.e. change which parts of the code are run)"
   ]
  },
  {
   "cell_type": "markdown",
   "id": "5c80f98a",
   "metadata": {
    "slideshow": {
     "slide_type": "slide"
    }
   },
   "source": [
    "# In-class Demos"
   ]
  },
  {
   "cell_type": "markdown",
   "id": "4dbf3154",
   "metadata": {
    "slideshow": {
     "slide_type": "slide"
    }
   },
   "source": [
    "__Example 1:__ Find the volume of a cone.\n",
    "\n",
    "Base radius = 2 cm\n",
    "<br> Height = 10 cm\n",
    "\n",
    "Volume of a cone: $V = \\frac{Ah}{3}$  <br>where $A=$ base area\n",
    "<img src=\"img/cone.png\" alt=\"Drawing\" style=\"width: 200px;\"/>"
   ]
  },
  {
   "cell_type": "code",
   "execution_count": null,
   "id": "e4e05005",
   "metadata": {},
   "outputs": [],
   "source": []
  },
  {
   "cell_type": "markdown",
   "id": "b1ec0683",
   "metadata": {
    "slideshow": {
     "slide_type": "slide"
    }
   },
   "source": [
    "__Example 2:__ Create a variabale `Name` and assign it a `string` value. \n",
    "\n",
    "Use an arithmetc operator and `Name` to print the output: `My name is` followed by the value of `Name`. e.g.\n",
    "\n",
    "\n",
    "    My name is Hemma\n"
   ]
  },
  {
   "cell_type": "code",
   "execution_count": null,
   "id": "01935b36",
   "metadata": {},
   "outputs": [],
   "source": []
  },
  {
   "cell_type": "markdown",
   "id": "69988b32",
   "metadata": {
    "slideshow": {
     "slide_type": "slide"
    }
   },
   "source": [
    "When you complete the in-class exercises today you can choose to:\n",
    "- save your answers to each exercise as separate .py (Python) files\n",
    "- *comment out* some of your code to allow you to store it all in one file, but only run certain (*uncommented*) blocks of code  "
   ]
  }
 ],
 "metadata": {
  "celltoolbar": "Slideshow",
  "kernelspec": {
   "display_name": "Python 3",
   "language": "python",
   "name": "python3"
  },
  "language_info": {
   "codemirror_mode": {
    "name": "ipython",
    "version": 3
   },
   "file_extension": ".py",
   "mimetype": "text/x-python",
   "name": "python",
   "nbconvert_exporter": "python",
   "pygments_lexer": "ipython3",
   "version": "3.8.8"
  }
 },
 "nbformat": 4,
 "nbformat_minor": 5
}
