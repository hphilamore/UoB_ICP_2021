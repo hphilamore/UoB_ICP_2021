{
 "cells": [
  {
   "cell_type": "markdown",
   "metadata": {
    "slideshow": {
     "slide_type": "slide"
    }
   },
   "source": [
    "# Introduction to Computer Programming\n",
    "\n",
    "## Week 9.2: Curve Fitting \n",
    "\n",
    "* * *\n",
    "\n",
    "<img src=\"img/full-colour-logo-UoB.png\" alt=\"Bristol\" style=\"width: 300px;\"/>"
   ]
  },
  {
   "cell_type": "code",
   "execution_count": 43,
   "metadata": {},
   "outputs": [],
   "source": [
    "import numpy as np\n",
    "import matplotlib.pyplot as plt\n",
    "%matplotlib inline"
   ]
  },
  {
   "cell_type": "markdown",
   "metadata": {
    "slideshow": {
     "slide_type": "slide"
    }
   },
   "source": [
    "## Fitted function \n",
    "\n",
    "__Example 1:__ \n",
    "\n",
    "Fit a first degree polynomial (linear function) to the `x,y` data. \n",
    "\n",
    "Print the coefficients of the fitted function. "
   ]
  },
  {
   "cell_type": "code",
   "execution_count": 44,
   "metadata": {
    "slideshow": {
     "slide_type": "-"
    }
   },
   "outputs": [
    {
     "name": "stdout",
     "output_type": "stream",
     "text": [
      "[ 1.07272727e+00 -5.61733355e-15]\n",
      "1.0727272727272728 -5.61733354972272e-15\n"
     ]
    }
   ],
   "source": [
    "x = np.array([1, 6, 3, 4, 10, 2, 7, 8, 9, 5])\n",
    "y = np.array([2, 4, 5, 4, 13, 3, 4, 8, 12, 4])\n",
    "\n",
    "c1 = np.polyfit(x, y, 1) # coefficients of 1st degree fitted poly\n",
    "\n",
    "print(c1)\n",
    "print(c1[0], c1[1])"
   ]
  },
  {
   "cell_type": "markdown",
   "metadata": {},
   "source": [
    "##### Try it yourself \n",
    "\n",
    "__Example 2:__ \n",
    "\n",
    "Fit a second degree polynomial to the `x,y` data. \n",
    "<br>(Remember to import numpy to use `polyfit`).\n",
    "\n",
    "Print the coefficients of the fitted function. "
   ]
  },
  {
   "cell_type": "code",
   "execution_count": 46,
   "metadata": {},
   "outputs": [
    {
     "name": "stdout",
     "output_type": "stream",
     "text": [
      "0.19318181818181812 -1.0522727272727261 4.249999999999994\n"
     ]
    }
   ],
   "source": [
    "x = np.array([1, 6, 3, 4, 10, 2, 7, 8, 9, 5])\n",
    "y = np.array([2, 4, 5, 4, 13, 3, 4, 8, 12, 4])\n",
    "\n",
    "c2 = np.polyfit(x, y, 2) # 2nd degree poly\n",
    "\n",
    "print(c2[0], c2[1], c2[2])"
   ]
  },
  {
   "cell_type": "markdown",
   "metadata": {
    "slideshow": {
     "slide_type": "slide"
    }
   },
   "source": [
    "## Fitted data \n",
    "\n",
    "__Example 3:__ \n",
    "\n",
    "Use `numpy.polyval` to generate x,y data of the fitted linear function.  "
   ]
  },
  {
   "cell_type": "code",
   "execution_count": 47,
   "metadata": {},
   "outputs": [],
   "source": [
    "x_new = np.array(sorted(x))        # x values, sorted monotonically for line plot\n",
    "\n",
    "yfit1 = np.polyval(c1, x_new) # 1st degree polynomial"
   ]
  },
  {
   "cell_type": "markdown",
   "metadata": {},
   "source": [
    "##### Try it yourself \n",
    "\n",
    "__Example 4:__ \n",
    "\n",
    "Use `numpy.polyval` to generate x,y data of the fitted second degree polynomial function.  "
   ]
  },
  {
   "cell_type": "code",
   "execution_count": 48,
   "metadata": {},
   "outputs": [],
   "source": [
    "x_new = np.array(sorted(x))        # x values, sorted monotonically for line plot\n",
    "\n",
    "yfit2 = np.polyval(c2, x_new) # 2nd degree polynomial\n"
   ]
  },
  {
   "cell_type": "markdown",
   "metadata": {
    "slideshow": {
     "slide_type": "slide"
    }
   },
   "source": [
    "## Plotting fitted data\n",
    "\n",
    "__Example 5:__ Plot the raw data as a scatter plot and fitted linear function as a line graph  ont eh same figure. "
   ]
  },
  {
   "cell_type": "code",
   "execution_count": 49,
   "metadata": {
    "slideshow": {
     "slide_type": "-"
    }
   },
   "outputs": [
    {
     "data": {
      "text/plain": [
       "Text(0, 0.5, 'y')"
      ]
     },
     "execution_count": 49,
     "metadata": {},
     "output_type": "execute_result"
    },
    {
     "data": {
      "image/png": "[encoded data removed]",
      "text/plain": [
       "<Figure size 432x288 with 1 Axes>"
      ]
     },
     "metadata": {
      "needs_background": "light"
     },
     "output_type": "display_data"
    }
   ],
   "source": [
    "# plot data \n",
    "plt.plot(x, y, 'o',    label='raw data')          # raw data\n",
    "plt.plot(x_new, yfit1, label='1st degree poly');  # fitted 1st degree poly\n",
    "\n",
    "plt.legend()\n",
    "\n",
    "plt.xlabel('x')\n",
    "plt.ylabel('y')\n"
   ]
  },
  {
   "cell_type": "markdown",
   "metadata": {
    "slideshow": {
     "slide_type": "slide"
    }
   },
   "source": [
    "##### Try it yourself \n",
    "\n",
    "\n",
    "__Example 6:__ <br>Plot the raw data as a scatter plot and second degree polynomial function as a line graph  on the same figure. "
   ]
  },
  {
   "cell_type": "code",
   "execution_count": 50,
   "metadata": {
    "slideshow": {
     "slide_type": "-"
    }
   },
   "outputs": [
    {
     "data": {
      "text/plain": [
       "Text(0, 0.5, 'y')"
      ]
     },
     "execution_count": 50,
     "metadata": {},
     "output_type": "execute_result"
    },
    {
     "data": {
      "image/png": "[encoded data removed]",
      "text/plain": [
       "<Figure size 432x288 with 1 Axes>"
      ]
     },
     "metadata": {
      "needs_background": "light"
     },
     "output_type": "display_data"
    }
   ],
   "source": [
    "# plot data \n",
    "plt.plot(x, y, 'o',    label='raw data')          # raw data\n",
    "#plt.plot(x_new, yfit1, label='1st degree poly');  # fitted 1st degree poly\n",
    "plt.plot(x_new, yfit2, label='2nd degree poly');  # fitted 2nd degree poly\n",
    "\n",
    "plt.legend()\n",
    "\n",
    "# label the axes\n",
    "plt.xlabel('x')\n",
    "plt.ylabel('y')\n"
   ]
  },
  {
   "cell_type": "markdown",
   "metadata": {
    "slideshow": {
     "slide_type": "slide"
    }
   },
   "source": [
    "__Example 7__\n",
    "\n",
    "Fit the function $y = a e^{bx}$ which we defined earlier as `exponential` and find the RMSE:"
   ]
  },
  {
   "cell_type": "code",
   "execution_count": 51,
   "metadata": {},
   "outputs": [],
   "source": [
    "from scipy.optimize import curve_fit\n",
    "\n",
    "def RMSE(x, y, yfit):\n",
    "    \"Returns the RMSE of a y data fitted to x-y raw data\"\n",
    "    # error\n",
    "    e = (yfit - y)  \n",
    "    \n",
    "    # RMSE\n",
    "    return np.sqrt(np.sum(e**2)/ len(x)) \n",
    "\n",
    "def exponential(x, a, b): # input arguments are independent variable, then unknown constant(s) \n",
    "    y = a * np.exp(b*x)   \n",
    "    return y              "
   ]
  },
  {
   "cell_type": "code",
   "execution_count": 52,
   "metadata": {},
   "outputs": [
    {
     "name": "stdout",
     "output_type": "stream",
     "text": [
      "RMSE = 1.3338248760975626\n"
     ]
    }
   ],
   "source": [
    "c, cov = curve_fit(exponential, x, y)  # constants of fitted function\n",
    "\n",
    "yfit = exponential(x, *c)              # no need to sort x monotonically, (not plotting line) use raw x data\n",
    "\n",
    "rmse = RMSE(x,y,yfit)                  # goodness of fit \n",
    "\n",
    "print(f'RMSE = {rmse}')  \n"
   ]
  },
  {
   "cell_type": "code",
   "execution_count": null,
   "metadata": {},
   "outputs": [],
   "source": []
  },
  {
   "cell_type": "code",
   "execution_count": null,
   "metadata": {},
   "outputs": [],
   "source": []
  }
 ],
 "metadata": {
  "celltoolbar": "Slideshow",
  "kernelspec": {
   "display_name": "Python 3",
   "language": "python",
   "name": "python3"
  },
  "language_info": {
   "codemirror_mode": {
    "name": "ipython",
    "version": 3
   },
   "file_extension": ".py",
   "mimetype": "text/x-python",
   "name": "python",
   "nbconvert_exporter": "python",
   "pygments_lexer": "ipython3",
   "version": "3.8.3"
  }
 },
 "nbformat": 4,
 "nbformat_minor": 5
}
